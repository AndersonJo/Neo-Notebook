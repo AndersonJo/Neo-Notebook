{
 "cells": [
  {
   "cell_type": "markdown",
   "metadata": {},
   "source": [
    "# Confusion Matrix \n",
    "\n",
    "Confusion Matrix는 일반적으로 classification model이 테스트 데이터에 대한 performance를 측정하는데 사용됩니다. (ground-truth values를 알고 있는 상태) <br>\n",
    "confusion matrix는 상대적으로 꽤 쉽게 이해할수 있기 땜누에 많이 사용됩니다. 다만 용어가 매우 혼돈스럽기 때문에 주의?가 필요합니다."
   ]
  },
  {
   "cell_type": "markdown",
   "metadata": {},
   "source": [
    "## Binary Classification\n",
    "\n",
    "아래의 matrix는 165명의 환자를 대상으로 질병이 있는지 없는지 예측한 값과, 실제 값을 나타낸 것 입니다.\n",
    "\n",
    "![Confusion Matrix](images/confusion_matrix_simple2.png)\n",
    "\n",
    "\n",
    "* **True <span style=\"color:red\">Positives</span> (TP)**: 질병이 <span style=\"color:red\">있다고 예측</span>했고 실제로 질병이 있는 경우 (있는게 맞어)\n",
    "* **True <span style=\"color:red\">Negatives</span> (TN)**: 질병이 <span style=\"color:red\">없다고 예측</span>했고, 실제로 질병이 없는 경우 (없는게 맞어)\n",
    "* **False <span style=\"color:red\">Positives</span> (FP)**: 질병이 <span style=\"color:red\">있다고 예측</span>했지만, 실제로는 질병이 없음 (있는게 틀려)\n",
    "* **False <span style=\"color:red\">Negatives</span> (FN)**: 질병이 <span style=\"color:red\">없다고 예측</span>했지만, 실제로는 질병이 있음 (없는게 틀려)\n",
    "\n",
    "> Positives, Negatives는 예측한 값을 의미하고, True, False는 그 예측한 값이 맞냐 틀리냐를 말하는 상대적 개념"
   ]
  },
  {
   "cell_type": "markdown",
   "metadata": {},
   "source": [
    "## Performance Measures\n",
    "\n",
    "일반적으로 classification에서 accuracy를 많이 보지만, 실무에서는 이것만 보지는 않습니다. <br>\n",
    "아래와 같은 analysis들을 보면서 해석을 합니다.\n",
    "\n",
    "### Accuracy 정확도\n",
    "\n",
    "* 전체 샘플중에 실제로 맞춘 비율\n",
    "* 가장 많이 사용되지만, class간의 비율이 동일할때 사용합니다.\n",
    "* 최적화에서 objective function으로 사용됩니다.\n",
    "\n",
    "$$ \\text{Accuracy} = \\frac{TP + TN}{N} = \\frac{100 + 50}{165} = 0.91  $$\n",
    "\n",
    "### Misclassification Rate \n",
    "\n",
    "* 1 - accuracy \n",
    "* 얼마나 못 맞췄냐?\n",
    "\n",
    "$$ \\text{Misclassification Rate} = \\frac{FP + FN}{N} = \\frac{10 + 5}{165} = 0.09 $$\n",
    "\n",
    "\n",
    "\n",
    "### True Positive Rate (Sensitivity, Recall) 민감도\n",
    "\n",
    "* 전체 질병중에 실제로 맞춘 비율\n",
    "* 실제 암에 걸린 환자들중 제대로 암이라고 판단한 비율\n",
    "* 실제 나쁜놈을 유죄라고 제대로 나쁜놈이라고 판단한 비율\n",
    "* 사기친 거래들중에 실제로 잡아낸 비율 -> 검거율!\n",
    "* 값이 높을수록 좋다\n",
    "\n",
    "$$ \\text{True Positive Rate} = \\frac{TP}{TP + FN} = \\frac{TP}{\\text{Actual Yes}} = \\frac{100}{100 + 5} = 0.95 $$\n",
    "\n",
    "\n",
    "### False Positive Rate  (False Alarm Ratio, Fall-out)\n",
    " \n",
    "* 실제로는 암이 아닌데 암이라고 말하는 비율\n",
    "* 실제로는 유죄가 아닌데 유죄라고 판결하는 비율\n",
    "* 실제로는 임신이 아닌데 임신이라고 오작동 하는 비율\n",
    "* 실제 정상거래들중, 사기라고 예측한 비율\n",
    "* 오판율\n",
    "* 값이 높을수록 병신갖은 예측/판단을 한거다\n",
    "\n",
    "$$ \\text{True Positive Rate} = \\frac{FP}{FP + TN} = \\frac{TP}{\\text{Actual No}} =  \\frac{10}{10 + 50} = 0.17 $$\n",
    "\n",
    "\n",
    "### Specificity 특이도\n",
    "\n",
    "* 실제 아닌데, 예측도 아니라고 한 비율\n",
    "* 암이라고 판단했는데.. 실제로 맞은 비율\n",
    "* 유죄라고 판단했는데.. 실제로 맞은 비율\n",
    "* 값이 높을수록 좋다\n",
    "* 1 - False Positive Rate\n",
    "\n",
    "$$ \\text{Specificity} = \\frac{TN}{TN + FP} =  \\frac{TP}{\\text{Actual No}} = \\frac{50}{50 + 10} = 0.83 $$\n",
    "\n",
    "\n",
    "### Precision 정밀도\n",
    "\n",
    "* 질병이 있다고 예측한 것중에 실제로 맞춘 비율 -> 값이 낮을 수록 암에 걸렸다고 진단했는데.. 실제로는 아닌 사람들이 있다. \n",
    "* 사기 거래에서 실제 사기를 제대로 잡아낸 비율 -> 값이 낮을 수록 무죄인 사람이 유죄로 잡혀 들어간 꼴이다.\n",
    "\n",
    "$$ \\text{Precision} = \\frac{TP}{TP + FP} = \\frac{TP}{\\text{Predicted Yes}} =  \\frac{100}{10 + 100} = 0.91 $$\n",
    "\n",
    "\n"
   ]
  },
  {
   "cell_type": "markdown",
   "metadata": {},
   "source": [
    "# References\n",
    "\n",
    "* http://www.dataschool.io/simple-guide-to-confusion-matrix-terminology/"
   ]
  }
 ],
 "metadata": {
  "kernelspec": {
   "display_name": "Python 3",
   "language": "python",
   "name": "python3"
  },
  "language_info": {
   "codemirror_mode": {
    "name": "ipython",
    "version": 3
   },
   "file_extension": ".py",
   "mimetype": "text/x-python",
   "name": "python",
   "nbconvert_exporter": "python",
   "pygments_lexer": "ipython3",
   "version": "3.6.4"
  }
 },
 "nbformat": 4,
 "nbformat_minor": 2
}
