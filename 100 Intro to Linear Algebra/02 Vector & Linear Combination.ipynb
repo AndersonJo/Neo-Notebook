{
 "cells": [
  {
   "cell_type": "markdown",
   "metadata": {},
   "source": [
    "# Vector\n",
    "\n",
    "Vector는 $ \\mathbb{R}^2 $ 처럼 표시할수 있으며, 여기서 R은 real number를 뜻합니다.\n",
    "\n",
    "Column vector $ \\mathbf{v} $ 의 예제는 다음과 같습니다.\n",
    "\n",
    "$$ \\mathbf{v} =  \\begin{bmatrix} a \\\\ b \\end{bmatrix} $$\n",
    "\n",
    "$ \\mathbf{v} $ 를 transpose시켜서 row vector로 만들면 다음과 같습니다.\n",
    "\n",
    "$$ \\mathbf{v}^T = (a, b) $$\n",
    "\n",
    "이때 중요한점은 row vector로 표기시 반드시 \"괄호 ()\"를 사용해서 표기를 해줍니다.<br>\n",
    "만약 \\[\\]를  사용해서 표기시 matrix를 표시하는 것입니다.<br>\n",
    "\n",
    "$$ [a, b] \\ne (a, b) $$\n",
    "\n",
    "앞의 $ [a, b ]$ 는 matrix $ \\mathbb{R}^{1 x 4} $ 를 나타냅니다.<br>\n",
    "$ \\begin{bmatrix} a \\\\ b \\end{bmatrix} $ 는 $ \\mathbb{R}^{4 x 1} $ matrix를 나타냅니다.\n",
    "\n"
   ]
  },
  {
   "cell_type": "markdown",
   "metadata": {},
   "source": [
    "# Vector의 기하학적 의미\n",
    "\n",
    "Vector는 고등학교때 배웠듯이, 크기(magnitude) 그리고 방향(Direction)을 갖는다고 했는데.. <br>\n",
    "여기서 크기란 원점 (0, 0)에서 vector의 점까지 길이를 말하는 것이고, 방향은 아래서 보이는 화살표가 가르키는 방향을 나타냅니다.\n",
    "\n",
    "![](images/linear-equation-03.png)"
   ]
  },
  {
   "cell_type": "markdown",
   "metadata": {},
   "source": [
    "## Vector Addition\n",
    "\n",
    "2개의 vector u 그리고 v 를 합했을때, 평행사변형(parallelogram)의 대각선 방향이 u+v를 나타냅니다.<br>\n",
    "또는 물리학에서는 u + v는 이동한 displacement(변위)를 나타내기도 합니다.\n",
    "\n",
    "![](images/linear-equation-04.png)\n",
    "\n",
    "\n",
    "> distance는 실제 이동한거리이고, 변위(displacement)는 마지막위치 - 시작위치 입니다."
   ]
  },
  {
   "cell_type": "markdown",
   "metadata": {},
   "source": [
    "## Vector Subtraction\n",
    "\n",
    "2개의 vector u 그리고 v의 차를 구했을때, 평행사변형(parallelogram)의 합했을때의 반대되는 대각선 방향이 v - u 를 나타냅니다.<br>\n",
    "\n",
    "$$ v - u = v + (-u) $$\n",
    "\n",
    "![](images/linear-equation-05.png)"
   ]
  },
  {
   "cell_type": "markdown",
   "metadata": {},
   "source": [
    "## Scaling\n",
    "\n",
    "Vecotor u에다가 scalar 값을 곱하는 것은 scalar multiplication이라고 합니다. <br>\n",
    "의미는 vector의 scale을 변형시킵니다.\n",
    "\n",
    "\n",
    "예를 들어서 2u 는 vector의 방향은 바꾸지 않지만, 크기(magnitude)를 변형시킵니다. <br>\n",
    "또는 -1u 를 곱하게 되면 크기는 변형시키지 않지만, 방향을 반대로 바꿉니다.\n",
    "\n",
    "\n",
    "![](images/linear-equation-06.png)"
   ]
  },
  {
   "cell_type": "markdown",
   "metadata": {},
   "source": [
    "# Linear Combination\n",
    "\n",
    "Vectors $ v_1, v_2, ..., v_n $ 이 있고, sclars 값 $ c_1, c_2, ..., c_n $ 이 있을때, <br>\n",
    "Linear Combination of $ v_1, ..., v_n $ with weights $ c_1, ..., c_2 $ 는 다음과 같이 표현합니다.\n",
    "\n",
    "$$ y = c_1 \\mathbf{v}_1 +  c_2 \\mathbf{v}_2 + ... + c_n \\mathbf{v}_n $$\n",
    "\n",
    "예를 들어서 아래의 3개의 equations도 모두 linear combinations이라고 할 수 있습니다.\n",
    "\n",
    "$$ \\begin{align} \\sqrt{3}  v_1 + v_2 &= y \\\\\n",
    "\\sqrt{3}v_1 + 0 \\cdot v_2 &= g \\\\ \n",
    "0 \\cdot v_1 + 0 \\cdot v_2 &= z\n",
    "\\end{align} $$"
   ]
  },
  {
   "cell_type": "markdown",
   "metadata": {},
   "source": [
    "## 기하학적 표현\n",
    "\n",
    "Vector v 그리고 u가 있을때 linear combination을 이용해서 vector w를  표현할는 방법은 다음과 같이 합니다.\n",
    "\n",
    "![](images/linear-equation-07.png)"
   ]
  },
  {
   "cell_type": "markdown",
   "metadata": {},
   "source": [
    "## 문제\n",
    "\n"
   ]
  }
 ],
 "metadata": {
  "kernelspec": {
   "display_name": "Python 3",
   "language": "python",
   "name": "python3"
  },
  "language_info": {
   "codemirror_mode": {
    "name": "ipython",
    "version": 3
   },
   "file_extension": ".py",
   "mimetype": "text/x-python",
   "name": "python",
   "nbconvert_exporter": "python",
   "pygments_lexer": "ipython3",
   "version": "3.6.7"
  }
 },
 "nbformat": 4,
 "nbformat_minor": 2
}
