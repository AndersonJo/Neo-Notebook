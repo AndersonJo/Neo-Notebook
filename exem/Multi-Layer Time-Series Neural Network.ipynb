{
 "cells": [
  {
   "cell_type": "code",
   "execution_count": 1,
   "metadata": {
    "collapsed": false
   },
   "outputs": [
    {
     "name": "stdout",
     "output_type": "stream",
     "text": [
      "Populating the interactive namespace from numpy and matplotlib\n"
     ]
    }
   ],
   "source": [
    "%pylab inline\n",
    "import tensorflow as tf\n",
    "import struct, gzip\n",
    "import Image\n",
    "from tensorflow.examples.tutorials.mnist import input_data"
   ]
  },
  {
   "cell_type": "code",
   "execution_count": 2,
   "metadata": {
    "collapsed": true
   },
   "outputs": [],
   "source": [
    "data = genfromtxt('../data/exem/machine-error01.csv', skip_header=True, delimiter=',')\n",
    "errors = data[:, 0]\n",
    "data = data[:,2:]\n",
    "\n",
    "train_errors = errors[:11000]\n",
    "train_data = data[:11000, :]\n",
    "\n",
    "test_errors = errors[11000:]\n",
    "test_data = data[11000:, :]"
   ]
  },
  {
   "cell_type": "code",
   "execution_count": 3,
   "metadata": {
    "collapsed": false
   },
   "outputs": [],
   "source": [
    "# Parameters\n",
    "learning_rate = 0.001\n",
    "training_epochs = 20\n",
    "batch_size = 100\n",
    "display_step = 1\n",
    "n_steps = 6 * 60\n",
    "\n",
    "# Network Parameters\n",
    "n_hidden_1 = 256 # 1st layer number of features\n",
    "n_hidden_2 = 256 # 2nd layer number of features\n",
    "n_input = 30 # MNIST data input (img shape: 28*28)\n",
    "n_classes = 10 # MNIST total classes (0-9 digits)\n",
    "\n",
    "# tf Graph input\n",
    "x = tf.placeholder(\"float\", [None, n_input], name='x')\n",
    "y = tf.placeholder(\"float\", [None, 2], name='y')"
   ]
  },
  {
   "cell_type": "code",
   "execution_count": 4,
   "metadata": {
    "collapsed": false
   },
   "outputs": [
    {
     "name": "stdout",
     "output_type": "stream",
     "text": [
      "[[  41.  344.   27. ...,   48.  461.   78.]\n",
      " [  41.  344.   27. ...,   48.  461.   78.]\n",
      " [  41.  344.   27. ...,   48.  461.   78.]\n",
      " ..., \n",
      " [  41.   33.   23. ...,   48.  461.   78.]\n",
      " [  41.   33.   25. ...,   48.  461.   78.]\n",
      " [  41.   33.   23. ...,   48.  461.   78.]] [ 1.]\n"
     ]
    }
   ],
   "source": [
    "def next_batch(data, valid_data, n_sample=360, n_steps=n_steps):\n",
    "    nrow, ncol = data.shape\n",
    "    maximum = nrow - n_sample - n_steps\n",
    "    idx = randint(0, maximum)\n",
    "    batch_xs = data[idx:idx+n_sample,:]\n",
    "    batch_y = valid_data[idx + n_sample + n_steps:idx + n_sample + n_steps + 1]\n",
    "    return batch_xs, batch_y\n",
    "\n",
    "while True:\n",
    "    batch_xs, batch_y = next_batch(train_data, train_errors)\n",
    "    print batch_xs, batch_y\n",
    "    if batch_y == 1.:\n",
    "        break\n"
   ]
  },
  {
   "cell_type": "code",
   "execution_count": 10,
   "metadata": {
    "collapsed": false
   },
   "outputs": [
    {
     "ename": "ValueError",
     "evalue": "No gradients provided for any variable: ((None, <tensorflow.python.ops.variables.Variable object at 0x7f3f0490e7d0>), (None, <tensorflow.python.ops.variables.Variable object at 0x7f3f044a0e90>), (None, <tensorflow.python.ops.variables.Variable object at 0x7f3f0490ebd0>), (None, <tensorflow.python.ops.variables.Variable object at 0x7f3f044aca10>), (None, <tensorflow.python.ops.variables.Variable object at 0x7f3f0448b190>), (None, <tensorflow.python.ops.variables.Variable object at 0x7f3f04438fd0>), (None, <tensorflow.python.ops.variables.Variable object at 0x7f3f0490ed10>), (None, <tensorflow.python.ops.variables.Variable object at 0x7f3f0490e710>), (None, <tensorflow.python.ops.variables.Variable object at 0x7f3f042b7f90>), (None, <tensorflow.python.ops.variables.Variable object at 0x7f3f042b7ad0>), (None, <tensorflow.python.ops.variables.Variable object at 0x7f3f043589d0>), (None, <tensorflow.python.ops.variables.Variable object at 0x7f3f042c96d0>), (None, <tensorflow.python.ops.variables.Variable object at 0x7f3f04902150>), (None, <tensorflow.python.ops.variables.Variable object at 0x7f3f049020d0>), (None, <tensorflow.python.ops.variables.Variable object at 0x7f3f04902090>), (None, <tensorflow.python.ops.variables.Variable object at 0x7f3f04211510>), (None, <tensorflow.python.ops.variables.Variable object at 0x7f3f04182ed0>), (None, <tensorflow.python.ops.variables.Variable object at 0x7f3f04182d90>), (None, <tensorflow.python.ops.variables.Variable object at 0x7f3f04199fd0>), (None, <tensorflow.python.ops.variables.Variable object at 0x7f3f04199f90>), (None, <tensorflow.python.ops.variables.Variable object at 0x7f3f0436db10>), (None, <tensorflow.python.ops.variables.Variable object at 0x7f3f0436d090>), (None, <tensorflow.python.ops.variables.Variable object at 0x7f3f0436d050>), (None, <tensorflow.python.ops.variables.Variable object at 0x7f3f04120ad0>))",
     "output_type": "error",
     "traceback": [
      "\u001b[1;31m---------------------------------------------------------------------------\u001b[0m",
      "\u001b[1;31mValueError\u001b[0m                                Traceback (most recent call last)",
      "\u001b[1;32m<ipython-input-10-dec77d5ff737>\u001b[0m in \u001b[0;36m<module>\u001b[1;34m()\u001b[0m\n\u001b[0;32m     18\u001b[0m \u001b[0my_\u001b[0m \u001b[1;33m=\u001b[0m \u001b[0mtf\u001b[0m\u001b[1;33m.\u001b[0m\u001b[0mplaceholder\u001b[0m\u001b[1;33m(\u001b[0m\u001b[0mtf\u001b[0m\u001b[1;33m.\u001b[0m\u001b[0mfloat32\u001b[0m\u001b[1;33m,\u001b[0m \u001b[1;33m[\u001b[0m\u001b[0mNone\u001b[0m\u001b[1;33m,\u001b[0m \u001b[1;36m2\u001b[0m\u001b[1;33m]\u001b[0m\u001b[1;33m)\u001b[0m\u001b[1;33m\u001b[0m\u001b[0m\n\u001b[0;32m     19\u001b[0m \u001b[0mcross_entropy\u001b[0m \u001b[1;33m=\u001b[0m \u001b[0mtf\u001b[0m\u001b[1;33m.\u001b[0m\u001b[0mreduce_mean\u001b[0m\u001b[1;33m(\u001b[0m\u001b[1;33m-\u001b[0m\u001b[0mtf\u001b[0m\u001b[1;33m.\u001b[0m\u001b[0mreduce_sum\u001b[0m\u001b[1;33m(\u001b[0m\u001b[0my_\u001b[0m \u001b[1;33m*\u001b[0m \u001b[0mtf\u001b[0m\u001b[1;33m.\u001b[0m\u001b[0mlog\u001b[0m\u001b[1;33m(\u001b[0m\u001b[0my\u001b[0m\u001b[1;33m)\u001b[0m\u001b[1;33m,\u001b[0m \u001b[0mreduction_indices\u001b[0m\u001b[1;33m=\u001b[0m\u001b[1;33m[\u001b[0m\u001b[1;36m0\u001b[0m\u001b[1;33m]\u001b[0m\u001b[1;33m)\u001b[0m\u001b[1;33m)\u001b[0m\u001b[1;33m\u001b[0m\u001b[0m\n\u001b[1;32m---> 20\u001b[1;33m \u001b[0mtrain_step\u001b[0m \u001b[1;33m=\u001b[0m \u001b[0mtf\u001b[0m\u001b[1;33m.\u001b[0m\u001b[0mtrain\u001b[0m\u001b[1;33m.\u001b[0m\u001b[0mGradientDescentOptimizer\u001b[0m\u001b[1;33m(\u001b[0m\u001b[1;36m0.5\u001b[0m\u001b[1;33m)\u001b[0m\u001b[1;33m.\u001b[0m\u001b[0mminimize\u001b[0m\u001b[1;33m(\u001b[0m\u001b[0mcross_entropy\u001b[0m\u001b[1;33m)\u001b[0m\u001b[1;33m\u001b[0m\u001b[0m\n\u001b[0m\u001b[0;32m     21\u001b[0m \u001b[1;33m\u001b[0m\u001b[0m\n\u001b[0;32m     22\u001b[0m \u001b[1;33m\u001b[0m\u001b[0m\n",
      "\u001b[1;32m/usr/local/lib/python2.7/dist-packages/tensorflow/python/training/optimizer.pyc\u001b[0m in \u001b[0;36mminimize\u001b[1;34m(self, loss, global_step, var_list, gate_gradients, aggregation_method, colocate_gradients_with_ops, name)\u001b[0m\n\u001b[0;32m    190\u001b[0m         colocate_gradients_with_ops=colocate_gradients_with_ops)\n\u001b[0;32m    191\u001b[0m     return self.apply_gradients(grads_and_vars, global_step=global_step,\n\u001b[1;32m--> 192\u001b[1;33m                                 name=name)\n\u001b[0m\u001b[0;32m    193\u001b[0m \u001b[1;33m\u001b[0m\u001b[0m\n\u001b[0;32m    194\u001b[0m   def compute_gradients(self, loss, var_list=None, gate_gradients=GATE_OP,\n",
      "\u001b[1;32m/usr/local/lib/python2.7/dist-packages/tensorflow/python/training/optimizer.pyc\u001b[0m in \u001b[0;36mapply_gradients\u001b[1;34m(self, grads_and_vars, global_step, name)\u001b[0m\n\u001b[0;32m    284\u001b[0m     \u001b[1;32mif\u001b[0m \u001b[1;32mnot\u001b[0m \u001b[0mvar_list\u001b[0m\u001b[1;33m:\u001b[0m\u001b[1;33m\u001b[0m\u001b[0m\n\u001b[0;32m    285\u001b[0m       raise ValueError(\"No gradients provided for any variable: %s\" %\n\u001b[1;32m--> 286\u001b[1;33m                        (grads_and_vars,))\n\u001b[0m\u001b[0;32m    287\u001b[0m     \u001b[1;32mwith\u001b[0m \u001b[0mops\u001b[0m\u001b[1;33m.\u001b[0m\u001b[0mcontrol_dependencies\u001b[0m\u001b[1;33m(\u001b[0m\u001b[0mNone\u001b[0m\u001b[1;33m)\u001b[0m\u001b[1;33m:\u001b[0m\u001b[1;33m\u001b[0m\u001b[0m\n\u001b[0;32m    288\u001b[0m       \u001b[0mself\u001b[0m\u001b[1;33m.\u001b[0m\u001b[0m_create_slots\u001b[0m\u001b[1;33m(\u001b[0m\u001b[0mvar_list\u001b[0m\u001b[1;33m)\u001b[0m\u001b[1;33m\u001b[0m\u001b[0m\n",
      "\u001b[1;31mValueError\u001b[0m: No gradients provided for any variable: ((None, <tensorflow.python.ops.variables.Variable object at 0x7f3f0490e7d0>), (None, <tensorflow.python.ops.variables.Variable object at 0x7f3f044a0e90>), (None, <tensorflow.python.ops.variables.Variable object at 0x7f3f0490ebd0>), (None, <tensorflow.python.ops.variables.Variable object at 0x7f3f044aca10>), (None, <tensorflow.python.ops.variables.Variable object at 0x7f3f0448b190>), (None, <tensorflow.python.ops.variables.Variable object at 0x7f3f04438fd0>), (None, <tensorflow.python.ops.variables.Variable object at 0x7f3f0490ed10>), (None, <tensorflow.python.ops.variables.Variable object at 0x7f3f0490e710>), (None, <tensorflow.python.ops.variables.Variable object at 0x7f3f042b7f90>), (None, <tensorflow.python.ops.variables.Variable object at 0x7f3f042b7ad0>), (None, <tensorflow.python.ops.variables.Variable object at 0x7f3f043589d0>), (None, <tensorflow.python.ops.variables.Variable object at 0x7f3f042c96d0>), (None, <tensorflow.python.ops.variables.Variable object at 0x7f3f04902150>), (None, <tensorflow.python.ops.variables.Variable object at 0x7f3f049020d0>), (None, <tensorflow.python.ops.variables.Variable object at 0x7f3f04902090>), (None, <tensorflow.python.ops.variables.Variable object at 0x7f3f04211510>), (None, <tensorflow.python.ops.variables.Variable object at 0x7f3f04182ed0>), (None, <tensorflow.python.ops.variables.Variable object at 0x7f3f04182d90>), (None, <tensorflow.python.ops.variables.Variable object at 0x7f3f04199fd0>), (None, <tensorflow.python.ops.variables.Variable object at 0x7f3f04199f90>), (None, <tensorflow.python.ops.variables.Variable object at 0x7f3f0436db10>), (None, <tensorflow.python.ops.variables.Variable object at 0x7f3f0436d090>), (None, <tensorflow.python.ops.variables.Variable object at 0x7f3f0436d050>), (None, <tensorflow.python.ops.variables.Variable object at 0x7f3f04120ad0>))"
     ]
    }
   ],
   "source": [
    "weight_1 = tf.Variable(tf.random_normal([n_input, n_hidden_1]), name='weight1')\n",
    "bias_1 = tf.Variable(tf.random_normal([n_hidden_1]), name='bias1')\n",
    "layer_1 = tf.add(tf.matmul(x, weight_1), bias_1, name='layer1')\n",
    "layer_1 = tf.nn.relu(layer_1)\n",
    "\n",
    "weight_2 = tf.Variable(tf.random_normal([n_hidden_1, n_hidden_2]), name='weight2')\n",
    "bias_2 = tf.Variable(tf.random_normal([n_hidden_2]), name='bias2')\n",
    "layer_2 = tf.add(tf.matmul(layer_1, weight_2), bias_2, name='layer2')\n",
    "layer_2 = tf.nn.relu(layer_2)\n",
    "\n",
    "weight_3 = tf.Variable(tf.random_normal([n_hidden_2, 1]))\n",
    "bias_3 = tf.Variable(tf.random_normal([1]))\n",
    "layer_3 = tf.add(tf.matmul(layer_2, weight_3), bias_3)\n",
    "layer_3 = tf.nn.relu(layer_3)\n",
    "\n",
    "layer_4 = tf.sigmoid(tf.reduce_sum(layer_3))\n",
    "\n",
    "y_ = tf.placeholder(tf.float32, [None, 2])\n",
    "cross_entropy = tf.reduce_mean(-tf.reduce_sum(y_ * tf.log(y), reduction_indices=[0]))\n",
    "train_step = tf.train.GradientDescentOptimizer(0.5).minimize(cross_entropy)\n",
    "\n",
    "\n",
    "print x.get_shape()\n",
    "print weight_1.get_shape()\n",
    "print layer_1.get_shape()\n",
    "print layer_3.get_shape()\n",
    "print layer_4.get_shape()\n",
    "# print cross_entropy"
   ]
  },
  {
   "cell_type": "code",
   "execution_count": null,
   "metadata": {
    "collapsed": false
   },
   "outputs": [],
   "source": [
    "# Initializing the variables\n",
    "init = tf.initialize_all_variables()\n",
    "\n",
    "# Launch the graph\n",
    "with tf.Session() as sess:\n",
    "    sess.run(init)\n",
    "    batch_x, batch_y = next_batch(train_data, train_errors)\n",
    "    print batch_x, batch_y\n",
    "    result = sess.run([layer_4], feed_dict={x: batch_x, y: [batch_y]})\n",
    "    print np.shape(result[0]), result[0]\n",
    "    print sess.run([cross_entropy], feed_dict={x: batch_x, y: [batch_y], y_: result[0]})\n",
    "#     print sess.run([cross_entropy], feed_dict={y_:batch_y})"
   ]
  }
 ],
 "metadata": {
  "kernelspec": {
   "display_name": "Python 2",
   "language": "python",
   "name": "python2"
  },
  "language_info": {
   "codemirror_mode": {
    "name": "ipython",
    "version": 2
   },
   "file_extension": ".py",
   "mimetype": "text/x-python",
   "name": "python",
   "nbconvert_exporter": "python",
   "pygments_lexer": "ipython2",
   "version": "2.7.10"
  }
 },
 "nbformat": 4,
 "nbformat_minor": 0
}
