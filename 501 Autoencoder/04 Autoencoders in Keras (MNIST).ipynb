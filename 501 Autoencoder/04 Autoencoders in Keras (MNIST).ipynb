{
 "cells": [
  {
   "cell_type": "markdown",
   "metadata": {},
   "source": [
    "# Autoencoders in Keras\n",
    "\n",
    "* [A Tutorial on Deep Learning PDF](http://ai.stanford.edu/~quocle/tutorial2.pdf)"
   ]
  },
  {
   "cell_type": "code",
   "execution_count": 1,
   "metadata": {},
   "outputs": [
    {
     "name": "stdout",
     "output_type": "stream",
     "text": [
      "Populating the interactive namespace from numpy and matplotlib\n"
     ]
    }
   ],
   "source": [
    "%pylab inline\n",
    "from keras.layers import Input, Dense\n",
    "from keras.models import Model\n",
    "from keras.datasets import mnist\n",
    "\n",
    "from tensorflow.keras.utils import model_to_dot, plot_model\n",
    "from IPython.display import SVG, Image\n",
    "\n",
    "import matplotlib.pyplot as plt"
   ]
  },
  {
   "cell_type": "markdown",
   "metadata": {},
   "source": [
    "### Data "
   ]
  },
  {
   "cell_type": "code",
   "execution_count": 2,
   "metadata": {},
   "outputs": [
    {
     "name": "stdout",
     "output_type": "stream",
     "text": [
      "Train x Shape: (60000, 28, 28)\n",
      "Train y Shape: (60000,)\n",
      "Test x Shape: (10000, 28, 28)\n",
      "Test y Shape: (10000,)\n",
      "\n",
      "[After Reshaping]\n",
      "Train x Shape: (60000, 784)\n",
      "Train y Shape: (60000,)\n",
      "Test x Shape: (10000, 784)\n",
      "Test y Shape: (10000,)\n"
     ]
    }
   ],
   "source": [
    "(train_x, train_y), (test_x, test_y) = mnist.load_data()\n",
    "train_x = train_x.astype('float32')/255.\n",
    "train_y = train_y.astype('float32')\n",
    "test_x = test_x.astype('float32')/255.\n",
    "test_y = test_y.astype('float32')\n",
    "\n",
    "print('Train x Shape:', train_x.shape)\n",
    "print('Train y Shape:', train_y.shape)\n",
    "print('Test x Shape:', test_x.shape)\n",
    "print('Test y Shape:', test_y.shape)\n",
    "\n",
    "# Reshape\n",
    "train_x = train_x.reshape((len(train_x), np.prod(train_x.shape[1:]))) # (60000, 28*28=784))\n",
    "test_x = test_x.reshape((len(test_x), np.prod(test_x.shape[1:]))) # (60000, 28*28=784))\n",
    "\n",
    "\n",
    "print('\\n[After Reshaping]')\n",
    "print('Train x Shape:', train_x.shape)\n",
    "print('Train y Shape:', train_y.shape)\n",
    "print('Test x Shape:', test_x.shape)\n",
    "print('Test y Shape:', test_y.shape)"
   ]
  },
  {
   "cell_type": "markdown",
   "metadata": {},
   "source": [
    "### Autoencoder Model"
   ]
  },
  {
   "cell_type": "code",
   "execution_count": 44,
   "metadata": {},
   "outputs": [
    {
     "data": {
      "image/svg+xml": [
       "<svg xmlns=\"http://www.w3.org/2000/svg\" xmlns:xlink=\"http://www.w3.org/1999/xlink\" width=\"493pt\" height=\"295pt\" viewBox=\"0.00 0.00 370.00 221.00\">\n",
       "<g id=\"graph0\" class=\"graph\" transform=\"scale(0.75 0.75) rotate(0) translate(4 217)\">\n",
       "<title>G</title>\n",
       "<polygon fill=\"white\" stroke=\"transparent\" points=\"-4,4 -4,-217 366,-217 366,4 -4,4\"/>\n",
       "<!-- 139776758489536 -->\n",
       "<g id=\"node1\" class=\"node\">\n",
       "<title>139776758489536</title>\n",
       "<polygon fill=\"none\" stroke=\"black\" points=\"0,-166.5 0,-212.5 362,-212.5 362,-166.5 0,-166.5\"/>\n",
       "<text text-anchor=\"middle\" x=\"91.5\" y=\"-185.8\" font-family=\"Times,serif\" font-size=\"14.00\">InputLayer: InputLayer</text>\n",
       "<polyline fill=\"none\" stroke=\"black\" points=\"183,-166.5 183,-212.5 \"/>\n",
       "<text text-anchor=\"middle\" x=\"217\" y=\"-197.3\" font-family=\"Times,serif\" font-size=\"14.00\">input:</text>\n",
       "<polyline fill=\"none\" stroke=\"black\" points=\"183,-189.5 251,-189.5 \"/>\n",
       "<text text-anchor=\"middle\" x=\"217\" y=\"-174.3\" font-family=\"Times,serif\" font-size=\"14.00\">output:</text>\n",
       "<polyline fill=\"none\" stroke=\"black\" points=\"251,-166.5 251,-212.5 \"/>\n",
       "<text text-anchor=\"middle\" x=\"306.5\" y=\"-197.3\" font-family=\"Times,serif\" font-size=\"14.00\">[(None, 784)]</text>\n",
       "<polyline fill=\"none\" stroke=\"black\" points=\"251,-189.5 362,-189.5 \"/>\n",
       "<text text-anchor=\"middle\" x=\"306.5\" y=\"-174.3\" font-family=\"Times,serif\" font-size=\"14.00\">[(None, 784)]</text>\n",
       "</g>\n",
       "<!-- 139776758489920 -->\n",
       "<g id=\"node2\" class=\"node\">\n",
       "<title>139776758489920</title>\n",
       "<polygon fill=\"none\" stroke=\"black\" points=\"15,-83.5 15,-129.5 347,-129.5 347,-83.5 15,-83.5\"/>\n",
       "<text text-anchor=\"middle\" x=\"96.5\" y=\"-102.8\" font-family=\"Times,serif\" font-size=\"14.00\">EncodeLayer: Dense</text>\n",
       "<polyline fill=\"none\" stroke=\"black\" points=\"178,-83.5 178,-129.5 \"/>\n",
       "<text text-anchor=\"middle\" x=\"212\" y=\"-114.3\" font-family=\"Times,serif\" font-size=\"14.00\">input:</text>\n",
       "<polyline fill=\"none\" stroke=\"black\" points=\"178,-106.5 246,-106.5 \"/>\n",
       "<text text-anchor=\"middle\" x=\"212\" y=\"-91.3\" font-family=\"Times,serif\" font-size=\"14.00\">output:</text>\n",
       "<polyline fill=\"none\" stroke=\"black\" points=\"246,-83.5 246,-129.5 \"/>\n",
       "<text text-anchor=\"middle\" x=\"296.5\" y=\"-114.3\" font-family=\"Times,serif\" font-size=\"14.00\">(None, 784)</text>\n",
       "<polyline fill=\"none\" stroke=\"black\" points=\"246,-106.5 347,-106.5 \"/>\n",
       "<text text-anchor=\"middle\" x=\"296.5\" y=\"-91.3\" font-family=\"Times,serif\" font-size=\"14.00\">(None, 32)</text>\n",
       "</g>\n",
       "<!-- 139776758489536&#45;&gt;139776758489920 -->\n",
       "<g id=\"edge1\" class=\"edge\">\n",
       "<title>139776758489536-&gt;139776758489920</title>\n",
       "<path fill=\"none\" stroke=\"black\" d=\"M181,-166.37C181,-158.15 181,-148.66 181,-139.73\"/>\n",
       "<polygon fill=\"black\" stroke=\"black\" points=\"184.5,-139.61 181,-129.61 177.5,-139.61 184.5,-139.61\"/>\n",
       "</g>\n",
       "<!-- 139776489792800 -->\n",
       "<g id=\"node3\" class=\"node\">\n",
       "<title>139776489792800</title>\n",
       "<polygon fill=\"none\" stroke=\"black\" points=\"15,-0.5 15,-46.5 347,-46.5 347,-0.5 15,-0.5\"/>\n",
       "<text text-anchor=\"middle\" x=\"96.5\" y=\"-19.8\" font-family=\"Times,serif\" font-size=\"14.00\">DecodeLayer: Dense</text>\n",
       "<polyline fill=\"none\" stroke=\"black\" points=\"178,-0.5 178,-46.5 \"/>\n",
       "<text text-anchor=\"middle\" x=\"212\" y=\"-31.3\" font-family=\"Times,serif\" font-size=\"14.00\">input:</text>\n",
       "<polyline fill=\"none\" stroke=\"black\" points=\"178,-23.5 246,-23.5 \"/>\n",
       "<text text-anchor=\"middle\" x=\"212\" y=\"-8.3\" font-family=\"Times,serif\" font-size=\"14.00\">output:</text>\n",
       "<polyline fill=\"none\" stroke=\"black\" points=\"246,-0.5 246,-46.5 \"/>\n",
       "<text text-anchor=\"middle\" x=\"296.5\" y=\"-31.3\" font-family=\"Times,serif\" font-size=\"14.00\">(None, 32)</text>\n",
       "<polyline fill=\"none\" stroke=\"black\" points=\"246,-23.5 347,-23.5 \"/>\n",
       "<text text-anchor=\"middle\" x=\"296.5\" y=\"-8.3\" font-family=\"Times,serif\" font-size=\"14.00\">(None, 784)</text>\n",
       "</g>\n",
       "<!-- 139776758489920&#45;&gt;139776489792800 -->\n",
       "<g id=\"edge2\" class=\"edge\">\n",
       "<title>139776758489920-&gt;139776489792800</title>\n",
       "<path fill=\"none\" stroke=\"black\" d=\"M181,-83.37C181,-75.15 181,-65.66 181,-56.73\"/>\n",
       "<polygon fill=\"black\" stroke=\"black\" points=\"184.5,-56.61 181,-46.61 177.5,-56.61 184.5,-56.61\"/>\n",
       "</g>\n",
       "</g>\n",
       "</svg>"
      ],
      "text/plain": [
       "<IPython.core.display.SVG object>"
      ]
     },
     "execution_count": 44,
     "metadata": {},
     "output_type": "execute_result"
    }
   ],
   "source": [
    "encoding_dim = 32  \n",
    "\n",
    "input_img = Input(shape=(784,), name='InputLayer')\n",
    "encoded = Dense(encoding_dim, activation='relu', name='EncodeLayer')(input_img)\n",
    "decoded = Dense(784, activation='sigmoid', name='DecodeLayer')(encoded)\n",
    "\n",
    "# Input -> Recontruction\n",
    "autoencoder = Model(input_img, decoded)\n",
    "autoencoder.compile(optimizer='adam', loss='binary_crossentropy')\n",
    "\n",
    "# Visualization\n",
    "SVG(model_to_dot(autoencoder, show_shapes=True).create(prog='dot', format='svg'))"
   ]
  },
  {
   "cell_type": "markdown",
   "metadata": {},
   "source": [
    "### Encoder Model"
   ]
  },
  {
   "cell_type": "code",
   "execution_count": 45,
   "metadata": {},
   "outputs": [
    {
     "data": {
      "image/svg+xml": [
       "<svg xmlns=\"http://www.w3.org/2000/svg\" xmlns:xlink=\"http://www.w3.org/1999/xlink\" width=\"493pt\" height=\"184pt\" viewBox=\"0.00 0.00 370.00 138.00\">\n",
       "<g id=\"graph0\" class=\"graph\" transform=\"scale(0.75 0.75) rotate(0) translate(4 134)\">\n",
       "<title>G</title>\n",
       "<polygon fill=\"white\" stroke=\"transparent\" points=\"-4,4 -4,-134 366,-134 366,4 -4,4\"/>\n",
       "<!-- 139776758489536 -->\n",
       "<g id=\"node1\" class=\"node\">\n",
       "<title>139776758489536</title>\n",
       "<polygon fill=\"none\" stroke=\"black\" points=\"0,-83.5 0,-129.5 362,-129.5 362,-83.5 0,-83.5\"/>\n",
       "<text text-anchor=\"middle\" x=\"91.5\" y=\"-102.8\" font-family=\"Times,serif\" font-size=\"14.00\">InputLayer: InputLayer</text>\n",
       "<polyline fill=\"none\" stroke=\"black\" points=\"183,-83.5 183,-129.5 \"/>\n",
       "<text text-anchor=\"middle\" x=\"217\" y=\"-114.3\" font-family=\"Times,serif\" font-size=\"14.00\">input:</text>\n",
       "<polyline fill=\"none\" stroke=\"black\" points=\"183,-106.5 251,-106.5 \"/>\n",
       "<text text-anchor=\"middle\" x=\"217\" y=\"-91.3\" font-family=\"Times,serif\" font-size=\"14.00\">output:</text>\n",
       "<polyline fill=\"none\" stroke=\"black\" points=\"251,-83.5 251,-129.5 \"/>\n",
       "<text text-anchor=\"middle\" x=\"306.5\" y=\"-114.3\" font-family=\"Times,serif\" font-size=\"14.00\">[(None, 784)]</text>\n",
       "<polyline fill=\"none\" stroke=\"black\" points=\"251,-106.5 362,-106.5 \"/>\n",
       "<text text-anchor=\"middle\" x=\"306.5\" y=\"-91.3\" font-family=\"Times,serif\" font-size=\"14.00\">[(None, 784)]</text>\n",
       "</g>\n",
       "<!-- 139776758489920 -->\n",
       "<g id=\"node2\" class=\"node\">\n",
       "<title>139776758489920</title>\n",
       "<polygon fill=\"none\" stroke=\"black\" points=\"15,-0.5 15,-46.5 347,-46.5 347,-0.5 15,-0.5\"/>\n",
       "<text text-anchor=\"middle\" x=\"96.5\" y=\"-19.8\" font-family=\"Times,serif\" font-size=\"14.00\">EncodeLayer: Dense</text>\n",
       "<polyline fill=\"none\" stroke=\"black\" points=\"178,-0.5 178,-46.5 \"/>\n",
       "<text text-anchor=\"middle\" x=\"212\" y=\"-31.3\" font-family=\"Times,serif\" font-size=\"14.00\">input:</text>\n",
       "<polyline fill=\"none\" stroke=\"black\" points=\"178,-23.5 246,-23.5 \"/>\n",
       "<text text-anchor=\"middle\" x=\"212\" y=\"-8.3\" font-family=\"Times,serif\" font-size=\"14.00\">output:</text>\n",
       "<polyline fill=\"none\" stroke=\"black\" points=\"246,-0.5 246,-46.5 \"/>\n",
       "<text text-anchor=\"middle\" x=\"296.5\" y=\"-31.3\" font-family=\"Times,serif\" font-size=\"14.00\">(None, 784)</text>\n",
       "<polyline fill=\"none\" stroke=\"black\" points=\"246,-23.5 347,-23.5 \"/>\n",
       "<text text-anchor=\"middle\" x=\"296.5\" y=\"-8.3\" font-family=\"Times,serif\" font-size=\"14.00\">(None, 32)</text>\n",
       "</g>\n",
       "<!-- 139776758489536&#45;&gt;139776758489920 -->\n",
       "<g id=\"edge1\" class=\"edge\">\n",
       "<title>139776758489536-&gt;139776758489920</title>\n",
       "<path fill=\"none\" stroke=\"black\" d=\"M181,-83.37C181,-75.15 181,-65.66 181,-56.73\"/>\n",
       "<polygon fill=\"black\" stroke=\"black\" points=\"184.5,-56.61 181,-46.61 177.5,-56.61 184.5,-56.61\"/>\n",
       "</g>\n",
       "</g>\n",
       "</svg>"
      ],
      "text/plain": [
       "<IPython.core.display.SVG object>"
      ]
     },
     "execution_count": 45,
     "metadata": {},
     "output_type": "execute_result"
    }
   ],
   "source": [
    "# Input Image -> Encoded \n",
    "encoder = Model(input_img, encoded, name='Input2')\n",
    "SVG(model_to_dot(encoder, show_shapes=True).create(prog='dot', format='svg'))"
   ]
  },
  {
   "cell_type": "markdown",
   "metadata": {},
   "source": [
    "### Decoder Model"
   ]
  },
  {
   "cell_type": "code",
   "execution_count": 46,
   "metadata": {
    "scrolled": false
   },
   "outputs": [
    {
     "data": {
      "image/svg+xml": [
       "<svg xmlns=\"http://www.w3.org/2000/svg\" xmlns:xlink=\"http://www.w3.org/1999/xlink\" width=\"453pt\" height=\"184pt\" viewBox=\"0.00 0.00 340.00 138.00\">\n",
       "<g id=\"graph0\" class=\"graph\" transform=\"scale(0.75 0.75) rotate(0) translate(4 134)\">\n",
       "<title>G</title>\n",
       "<polygon fill=\"white\" stroke=\"transparent\" points=\"-4,4 -4,-134 336,-134 336,4 -4,4\"/>\n",
       "<!-- 139782090163920 -->\n",
       "<g id=\"node1\" class=\"node\">\n",
       "<title>139782090163920</title>\n",
       "<polygon fill=\"none\" stroke=\"black\" points=\"5,-83.5 5,-129.5 327,-129.5 327,-83.5 5,-83.5\"/>\n",
       "<text text-anchor=\"middle\" x=\"81\" y=\"-102.8\" font-family=\"Times,serif\" font-size=\"14.00\">Input3: InputLayer</text>\n",
       "<polyline fill=\"none\" stroke=\"black\" points=\"157,-83.5 157,-129.5 \"/>\n",
       "<text text-anchor=\"middle\" x=\"191\" y=\"-114.3\" font-family=\"Times,serif\" font-size=\"14.00\">input:</text>\n",
       "<polyline fill=\"none\" stroke=\"black\" points=\"157,-106.5 225,-106.5 \"/>\n",
       "<text text-anchor=\"middle\" x=\"191\" y=\"-91.3\" font-family=\"Times,serif\" font-size=\"14.00\">output:</text>\n",
       "<polyline fill=\"none\" stroke=\"black\" points=\"225,-83.5 225,-129.5 \"/>\n",
       "<text text-anchor=\"middle\" x=\"276\" y=\"-114.3\" font-family=\"Times,serif\" font-size=\"14.00\">[(None, 32)]</text>\n",
       "<polyline fill=\"none\" stroke=\"black\" points=\"225,-106.5 327,-106.5 \"/>\n",
       "<text text-anchor=\"middle\" x=\"276\" y=\"-91.3\" font-family=\"Times,serif\" font-size=\"14.00\">[(None, 32)]</text>\n",
       "</g>\n",
       "<!-- 139776489792800 -->\n",
       "<g id=\"node2\" class=\"node\">\n",
       "<title>139776489792800</title>\n",
       "<polygon fill=\"none\" stroke=\"black\" points=\"0,-0.5 0,-46.5 332,-46.5 332,-0.5 0,-0.5\"/>\n",
       "<text text-anchor=\"middle\" x=\"81.5\" y=\"-19.8\" font-family=\"Times,serif\" font-size=\"14.00\">DecodeLayer: Dense</text>\n",
       "<polyline fill=\"none\" stroke=\"black\" points=\"163,-0.5 163,-46.5 \"/>\n",
       "<text text-anchor=\"middle\" x=\"197\" y=\"-31.3\" font-family=\"Times,serif\" font-size=\"14.00\">input:</text>\n",
       "<polyline fill=\"none\" stroke=\"black\" points=\"163,-23.5 231,-23.5 \"/>\n",
       "<text text-anchor=\"middle\" x=\"197\" y=\"-8.3\" font-family=\"Times,serif\" font-size=\"14.00\">output:</text>\n",
       "<polyline fill=\"none\" stroke=\"black\" points=\"231,-0.5 231,-46.5 \"/>\n",
       "<text text-anchor=\"middle\" x=\"281.5\" y=\"-31.3\" font-family=\"Times,serif\" font-size=\"14.00\">(None, 32)</text>\n",
       "<polyline fill=\"none\" stroke=\"black\" points=\"231,-23.5 332,-23.5 \"/>\n",
       "<text text-anchor=\"middle\" x=\"281.5\" y=\"-8.3\" font-family=\"Times,serif\" font-size=\"14.00\">(None, 784)</text>\n",
       "</g>\n",
       "<!-- 139782090163920&#45;&gt;139776489792800 -->\n",
       "<g id=\"edge1\" class=\"edge\">\n",
       "<title>139782090163920-&gt;139776489792800</title>\n",
       "<path fill=\"none\" stroke=\"black\" d=\"M166,-83.37C166,-75.15 166,-65.66 166,-56.73\"/>\n",
       "<polygon fill=\"black\" stroke=\"black\" points=\"169.5,-56.61 166,-46.61 162.5,-56.61 169.5,-56.61\"/>\n",
       "</g>\n",
       "</g>\n",
       "</svg>"
      ],
      "text/plain": [
       "<IPython.core.display.SVG object>"
      ]
     },
     "execution_count": 46,
     "metadata": {},
     "output_type": "execute_result"
    }
   ],
   "source": [
    "encoded_input = Input(shape=(encoding_dim,), name='Input3')\n",
    "decoded_layer = autoencoder.layers[-1] # 마지막 layer를 꺼내옴\n",
    "decoder = Model(encoded_input, decoded_layer(encoded_input))\n",
    "SVG(model_to_dot(decoder, show_shapes=True).create(prog='dot', format='svg'))"
   ]
  },
  {
   "cell_type": "markdown",
   "metadata": {},
   "source": [
    "### Training"
   ]
  },
  {
   "cell_type": "code",
   "execution_count": 47,
   "metadata": {
    "scrolled": true
   },
   "outputs": [
    {
     "name": "stdout",
     "output_type": "stream",
     "text": [
      "235/235 [==============================] - 2s 5ms/step - loss: 0.3826 - val_loss: 0.1872\n"
     ]
    },
    {
     "data": {
      "text/plain": [
       "<keras.callbacks.History at 0x7f204009cee0>"
      ]
     },
     "execution_count": 47,
     "metadata": {},
     "output_type": "execute_result"
    }
   ],
   "source": [
    "autoencoder.fit(train_x, train_x, epochs=1, \n",
    "                batch_size=256, \n",
    "                shuffle=True,\n",
    "                validation_data=(test_x, test_x), \n",
    "                verbose=1)"
   ]
  },
  {
   "cell_type": "markdown",
   "metadata": {},
   "source": [
    "### Predict"
   ]
  },
  {
   "cell_type": "code",
   "execution_count": 48,
   "metadata": {},
   "outputs": [],
   "source": [
    "encoded_images = encoder.predict(test_x)\n",
    "decoded_images = decoder.predict(encoded_images)"
   ]
  },
  {
   "cell_type": "code",
   "execution_count": 49,
   "metadata": {},
   "outputs": [
    {
     "data": {
      "image/png": "[encoded data removed]",
      "text/plain": [
       "<Figure size 1440x288 with 20 Axes>"
      ]
     },
     "metadata": {
      "needs_background": "light"
     },
     "output_type": "display_data"
    }
   ],
   "source": [
    "n = 10  # how many digits we will display\n",
    "plt.figure(figsize=(20, 4))\n",
    "for i in range(n):\n",
    "    # display original\n",
    "    ax = plt.subplot(2, n, i + 1)\n",
    "    plt.imshow(test_x[i].reshape(28, 28))\n",
    "    plt.gray()\n",
    "    ax.get_xaxis().set_visible(False)\n",
    "    ax.get_yaxis().set_visible(False)\n",
    "\n",
    "    # display reconstruction\n",
    "    ax = plt.subplot(2, n, i + 1 + n)\n",
    "    plt.imshow(decoded_images[i].reshape(28, 28))\n",
    "    plt.gray()\n",
    "    ax.get_xaxis().set_visible(False)\n",
    "    ax.get_yaxis().set_visible(False)\n",
    "plt.show()"
   ]
  },
  {
   "cell_type": "code",
   "execution_count": null,
   "metadata": {},
   "outputs": [],
   "source": []
  }
 ],
 "metadata": {
  "kernelspec": {
   "display_name": "Python 3",
   "language": "python",
   "name": "python3"
  },
  "language_info": {
   "codemirror_mode": {
    "name": "ipython",
    "version": 3
   },
   "file_extension": ".py",
   "mimetype": "text/x-python",
   "name": "python",
   "nbconvert_exporter": "python",
   "pygments_lexer": "ipython3",
   "version": "3.8.5"
  },
  "toc": {
   "base_numbering": 1,
   "nav_menu": {},
   "number_sections": true,
   "sideBar": true,
   "skip_h1_title": false,
   "title_cell": "Table of Contents",
   "title_sidebar": "Contents",
   "toc_cell": false,
   "toc_position": {},
   "toc_section_display": true,
   "toc_window_display": false
  },
  "varInspector": {
   "cols": {
    "lenName": 16,
    "lenType": 16,
    "lenVar": 40
   },
   "kernels_config": {
    "python": {
     "delete_cmd_postfix": "",
     "delete_cmd_prefix": "del ",
     "library": "var_list.py",
     "varRefreshCmd": "print(var_dic_list())"
    },
    "r": {
     "delete_cmd_postfix": ") ",
     "delete_cmd_prefix": "rm(",
     "library": "var_list.r",
     "varRefreshCmd": "cat(var_dic_list()) "
    }
   },
   "types_to_exclude": [
    "module",
    "function",
    "builtin_function_or_method",
    "instance",
    "_Feature"
   ],
   "window_display": false
  }
 },
 "nbformat": 4,
 "nbformat_minor": 2
}
