{
 "cells": [
  {
   "cell_type": "code",
   "execution_count": 1,
   "metadata": {
    "collapsed": false
   },
   "outputs": [
    {
     "name": "stdout",
     "output_type": "stream",
     "text": [
      "Populating the interactive namespace from numpy and matplotlib\n"
     ]
    }
   ],
   "source": [
    "#-*- coding:utf-8 -*-\n",
    "%pylab inline\n",
    "matplotlib.rc('font', family='NanumGothic') "
   ]
  },
  {
   "cell_type": "code",
   "execution_count": 11,
   "metadata": {
    "collapsed": false
   },
   "outputs": [
    {
     "data": {
      "text/plain": [
       "([<matplotlib.axis.XTick at 0x7f8c96437810>,\n",
       "  <matplotlib.axis.XTick at 0x7f8c9635d4d0>,\n",
       "  <matplotlib.axis.XTick at 0x7f8c961c7d90>,\n",
       "  <matplotlib.axis.XTick at 0x7f8c9616e610>,\n",
       "  <matplotlib.axis.XTick at 0x7f8c9616ed50>],\n",
       " <a list of 5 Text xticklabel objects>)"
      ]
     },
     "execution_count": 11,
     "metadata": {},
     "output_type": "execute_result"
    },
    {
     "data": {
      "image/png": "[encoded data removed]",
      "text/plain": [
       "<matplotlib.figure.Figure at 0x7f8c962a9950>"
      ]
     },
     "metadata": {},
     "output_type": "display_data"
    }
   ],
   "source": [
    "names = [u'창민', u'정아', u'윤서', u'미정', u'세준']\n",
    "cookies = [5, 11, 7, 1, 13]\n",
    "xs = range(1, len(cookies)+1)\n",
    "\n",
    "plt.bar(xs, cookies, color='#ff3366')\n",
    "plt.ylabel('Number of Cookies')\n",
    "plt.title(\"Cookie?\")\n",
    "plt.xticks(xs, names)\n",
    "\n"
   ]
  },
  {
   "cell_type": "code",
   "execution_count": 17,
   "metadata": {
    "collapsed": false
   },
   "outputs": [],
   "source": [
    "import matplotlib.font_manager\n",
    "[f.name for f in matplotlib.font_manager.fontManager.ttflist]\n",
    "\n"
   ]
  },
  {
   "cell_type": "markdown",
   "metadata": {},
   "source": []
  }
 ],
 "metadata": {
  "kernelspec": {
   "display_name": "Python 2",
   "language": "python",
   "name": "python2"
  },
  "language_info": {
   "codemirror_mode": {
    "name": "ipython",
    "version": 2
   },
   "file_extension": ".py",
   "mimetype": "text/x-python",
   "name": "python",
   "nbconvert_exporter": "python",
   "pygments_lexer": "ipython2",
   "version": "2.7.10"
  }
 },
 "nbformat": 4,
 "nbformat_minor": 0
}
