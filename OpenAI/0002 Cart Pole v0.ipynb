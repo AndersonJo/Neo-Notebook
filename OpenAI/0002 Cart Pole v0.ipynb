{
 "cells": [
  {
   "cell_type": "code",
   "execution_count": 1,
   "metadata": {
    "collapsed": false
   },
   "outputs": [
    {
     "name": "stderr",
     "output_type": "stream",
     "text": [
      "[2016-10-18 21:58:26,036] Making new env: CartPole-v0\n"
     ]
    },
    {
     "name": "stdout",
     "output_type": "stream",
     "text": [
      "\r",
      "0 [-0.02819373 -0.19743645  0.04221808  0.25935629] 1.0 False {} \r",
      "1 [-0.03214246 -0.00294183  0.04740521 -0.01971725] 1.0 False {} \r",
      "2 [-0.0322013   0.19146935  0.04701086 -0.29707451] 1.0 False {} \r",
      "3 [-0.02837191 -0.00429013  0.04106937  0.0100564 ] 1.0 False {} \r",
      "4 [-0.02845772  0.1902195   0.0412705  -0.26939102] 1.0 False {} \r",
      "5 [-0.02465333  0.38472893  0.03588268 -0.54877665] 1.0 False {} \r",
      "6 [-0.01695875  0.57932893  0.02490714 -0.8299415 ] 1.0 False {} \r",
      "7 [-0.00537217  0.77410172  0.00830831 -1.11468813] 1.0 False {} \r",
      "8 [ 0.01010987  0.96911361 -0.01398545 -1.40475325] 1.0 False {}"
     ]
    },
    {
     "name": "stderr",
     "output_type": "stream",
     "text": [
      "[2016-10-18 21:58:26,686] You are calling 'step()' even though this environment has already returned done = True. You should always call 'reset()' once you receive 'done = True' -- any further steps are undefined behavior.\n"
     ]
    },
    {
     "name": "stdout",
     "output_type": "stream",
     "text": [
      "99 [ 2.6124394   2.19107899 -4.60575029  4.61086616] 0.0 True {}\n"
     ]
    }
   ],
   "source": [
    "import gym\n",
    "env = gym.make('CartPole-v0')\n",
    "env.reset()\n",
    "for _ in range(100):\n",
    "    env.render()\n",
    "    action = env.action_space.sample()\n",
    "    observation, reward, done, info = env.step(action)\n",
    "    print '\\r', _, observation, reward, done, info,"
   ]
  }
 ],
 "metadata": {
  "kernelspec": {
   "display_name": "Python 2",
   "language": "python",
   "name": "python2"
  },
  "language_info": {
   "codemirror_mode": {
    "name": "ipython",
    "version": 2
   },
   "file_extension": ".py",
   "mimetype": "text/x-python",
   "name": "python",
   "nbconvert_exporter": "python",
   "pygments_lexer": "ipython2",
   "version": "2.7.12"
  }
 },
 "nbformat": 4,
 "nbformat_minor": 1
}
