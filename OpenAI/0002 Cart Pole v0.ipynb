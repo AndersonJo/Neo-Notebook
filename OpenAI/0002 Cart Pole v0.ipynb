{
 "cells": [
  {
   "cell_type": "code",
   "execution_count": 14,
   "metadata": {
    "collapsed": false
   },
   "outputs": [
    {
     "name": "stderr",
     "output_type": "stream",
     "text": [
      "[2016-10-18 01:38:17,858] Making new env: CartPole-v0\n"
     ]
    },
    {
     "name": "stdout",
     "output_type": "stream",
     "text": [
      "\r",
      "[ 0.02996389  0.20150456  0.00630359 -0.32430847] 1.0 False {} \r",
      "[ 0.03399398  0.00629342 -0.00018258 -0.02964434] 1.0 False {} \r",
      "[ 0.03411985 -0.18882591 -0.00077546  0.26298097] 1.0 False {} \r",
      "[ 0.03034333 -0.38393679  0.00448416  0.55541921] 1.0 False {} \r",
      "[ 0.0226646  -0.57912141  0.01559254  0.84951154] 1.0 False {} \r",
      "[ 0.01108217 -0.77445249  0.03258277  1.14705657] 1.0 False {} \r",
      "[-0.00440688 -0.9699844   0.0555239   1.44977639] 1.0 False {} \r",
      "[-0.02380657 -0.77558711  0.08451943  1.17494547] 1.0 False {} \r",
      "[-0.03931831 -0.97169947  0.10801834  1.49288307] 1.0 False {} \r",
      "[-0.0587523  -1.16795722  0.137876    1.81724959] 1.0 False {}"
     ]
    },
    {
     "name": "stderr",
     "output_type": "stream",
     "text": [
      "[2016-10-18 01:38:18,299] You are calling 'step()' even though this environment has already returned done = True. You should always call 'reset()' once you receive 'done = True' -- any further steps are undefined behavior.\n"
     ]
    },
    {
     "name": "stdout",
     "output_type": "stream",
     "text": [
      "[  4.39817663   5.42386365  21.55926546  -9.26665626] 0.0 True {}\n"
     ]
    }
   ],
   "source": [
    "import gym\n",
    "env = gym.make('CartPole-v0')\n",
    "env.reset()\n",
    "for _ in range(1000):\n",
    "    env.render()\n",
    "    action = env.action_space.sample()\n",
    "    observation, reward, done, info = env.step(action)\n",
    "    print '\\r', observation, reward, done, info,"
   ]
  }
 ],
 "metadata": {
  "kernelspec": {
   "display_name": "Python 2",
   "language": "python",
   "name": "python2"
  },
  "language_info": {
   "codemirror_mode": {
    "name": "ipython",
    "version": 2
   },
   "file_extension": ".py",
   "mimetype": "text/x-python",
   "name": "python",
   "nbconvert_exporter": "python",
   "pygments_lexer": "ipython2",
   "version": "2.7.12"
  }
 },
 "nbformat": 4,
 "nbformat_minor": 1
}
