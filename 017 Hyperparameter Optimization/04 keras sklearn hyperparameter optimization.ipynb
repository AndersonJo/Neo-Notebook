{
 "cells": [
  {
   "cell_type": "code",
   "execution_count": 55,
   "metadata": {},
   "outputs": [
    {
     "name": "stdout",
     "output_type": "stream",
     "text": [
      "Populating the interactive namespace from numpy and matplotlib\n"
     ]
    }
   ],
   "source": [
    "%pylab inline\n",
    "\n",
    "import numpy as np\n",
    "import tensorflow as tf\n",
    "\n",
    "from sklearn.datasets import load_wine\n",
    "from sklearn.preprocessing import StandardScaler, MinMaxScaler\n",
    "from sklearn.preprocessing import OneHotEncoder\n",
    "from sklearn.cross_validation import train_test_split\n",
    "\n",
    "from keras.models import Sequential\n",
    "from keras.layers import Dense, Dropout\n",
    "\n",
    "from sklearn.model_selection import GridSearchCV\n",
    "from sklearn.metrics import make_scorer\n",
    "\n",
    "from IPython.display import SVG, Image\n",
    "from keras.utils.vis_utils import model_to_dot"
   ]
  },
  {
   "cell_type": "markdown",
   "metadata": {},
   "source": [
    "## Data"
   ]
  },
  {
   "cell_type": "code",
   "execution_count": 2,
   "metadata": {},
   "outputs": [
    {
     "name": "stdout",
     "output_type": "stream",
     "text": [
      "train_x: (142, 13)\n",
      "train_y: (142, 3)\n",
      "test_x: (36, 13)\n",
      "test_y: (36, 3)\n"
     ]
    }
   ],
   "source": [
    "wine = load_wine()\n",
    "\n",
    "# One-hot Encoded target data\n",
    "onehot_encoder = OneHotEncoder(sparse=False)\n",
    "target = onehot_encoder.fit_transform(wine.target.reshape(-1, 1))\n",
    "\n",
    "# Split Train and Test data\n",
    "train_x, test_x, train_y, test_y = train_test_split(wine.data, target, test_size=0.2)\n",
    "\n",
    "print('train_x:', train_x.shape)\n",
    "print('train_y:', train_y.shape)\n",
    "print('test_x:', test_x.shape)\n",
    "print('test_y:', test_y.shape)"
   ]
  },
  {
   "cell_type": "markdown",
   "metadata": {},
   "source": [
    "## Deep Learning "
   ]
  },
  {
   "cell_type": "code",
   "execution_count": 64,
   "metadata": {},
   "outputs": [
    {
     "data": {
      "image/svg+xml": [
       "<svg height=\"470pt\" viewBox=\"0.00 0.00 315.00 470.00\" width=\"315pt\" xmlns=\"http://www.w3.org/2000/svg\" xmlns:xlink=\"http://www.w3.org/1999/xlink\">\n",
       "<g class=\"graph\" id=\"graph0\" transform=\"scale(1 1) rotate(0) translate(4 466)\">\n",
       "<title>G</title>\n",
       "<polygon fill=\"white\" points=\"-4,4 -4,-466 311,-466 311,4 -4,4\" stroke=\"none\"/>\n",
       "<!-- 140074589448456 -->\n",
       "<g class=\"node\" id=\"node1\"><title>140074589448456</title>\n",
       "<polygon fill=\"none\" points=\"-2.84217e-14,-415.5 -2.84217e-14,-461.5 307,-461.5 307,-415.5 -2.84217e-14,-415.5\" stroke=\"black\"/>\n",
       "<text font-family=\"Times,serif\" font-size=\"14.00\" text-anchor=\"middle\" x=\"88\" y=\"-434.8\">dense_115_input: InputLayer</text>\n",
       "<polyline fill=\"none\" points=\"176,-415.5 176,-461.5 \" stroke=\"black\"/>\n",
       "<text font-family=\"Times,serif\" font-size=\"14.00\" text-anchor=\"middle\" x=\"203.5\" y=\"-446.3\">input:</text>\n",
       "<polyline fill=\"none\" points=\"176,-438.5 231,-438.5 \" stroke=\"black\"/>\n",
       "<text font-family=\"Times,serif\" font-size=\"14.00\" text-anchor=\"middle\" x=\"203.5\" y=\"-423.3\">output:</text>\n",
       "<polyline fill=\"none\" points=\"231,-415.5 231,-461.5 \" stroke=\"black\"/>\n",
       "<text font-family=\"Times,serif\" font-size=\"14.00\" text-anchor=\"middle\" x=\"269\" y=\"-446.3\">(None, 13)</text>\n",
       "<polyline fill=\"none\" points=\"231,-438.5 307,-438.5 \" stroke=\"black\"/>\n",
       "<text font-family=\"Times,serif\" font-size=\"14.00\" text-anchor=\"middle\" x=\"269\" y=\"-423.3\">(None, 13)</text>\n",
       "</g>\n",
       "<!-- 140074589448120 -->\n",
       "<g class=\"node\" id=\"node2\"><title>140074589448120</title>\n",
       "<polygon fill=\"none\" points=\"30,-332.5 30,-378.5 277,-378.5 277,-332.5 30,-332.5\" stroke=\"black\"/>\n",
       "<text font-family=\"Times,serif\" font-size=\"14.00\" text-anchor=\"middle\" x=\"88\" y=\"-351.8\">dense_115: Dense</text>\n",
       "<polyline fill=\"none\" points=\"146,-332.5 146,-378.5 \" stroke=\"black\"/>\n",
       "<text font-family=\"Times,serif\" font-size=\"14.00\" text-anchor=\"middle\" x=\"173.5\" y=\"-363.3\">input:</text>\n",
       "<polyline fill=\"none\" points=\"146,-355.5 201,-355.5 \" stroke=\"black\"/>\n",
       "<text font-family=\"Times,serif\" font-size=\"14.00\" text-anchor=\"middle\" x=\"173.5\" y=\"-340.3\">output:</text>\n",
       "<polyline fill=\"none\" points=\"201,-332.5 201,-378.5 \" stroke=\"black\"/>\n",
       "<text font-family=\"Times,serif\" font-size=\"14.00\" text-anchor=\"middle\" x=\"239\" y=\"-363.3\">(None, 13)</text>\n",
       "<polyline fill=\"none\" points=\"201,-355.5 277,-355.5 \" stroke=\"black\"/>\n",
       "<text font-family=\"Times,serif\" font-size=\"14.00\" text-anchor=\"middle\" x=\"239\" y=\"-340.3\">(None, 32)</text>\n",
       "</g>\n",
       "<!-- 140074589448456&#45;&gt;140074589448120 -->\n",
       "<g class=\"edge\" id=\"edge1\"><title>140074589448456-&gt;140074589448120</title>\n",
       "<path d=\"M153.5,-415.366C153.5,-407.152 153.5,-397.658 153.5,-388.725\" fill=\"none\" stroke=\"black\"/>\n",
       "<polygon fill=\"black\" points=\"157,-388.607 153.5,-378.607 150,-388.607 157,-388.607\" stroke=\"black\"/>\n",
       "</g>\n",
       "<!-- 140074589448568 -->\n",
       "<g class=\"node\" id=\"node3\"><title>140074589448568</title>\n",
       "<polygon fill=\"none\" points=\"22.5,-249.5 22.5,-295.5 284.5,-295.5 284.5,-249.5 22.5,-249.5\" stroke=\"black\"/>\n",
       "<text font-family=\"Times,serif\" font-size=\"14.00\" text-anchor=\"middle\" x=\"88\" y=\"-268.8\">dropout_77: Dropout</text>\n",
       "<polyline fill=\"none\" points=\"153.5,-249.5 153.5,-295.5 \" stroke=\"black\"/>\n",
       "<text font-family=\"Times,serif\" font-size=\"14.00\" text-anchor=\"middle\" x=\"181\" y=\"-280.3\">input:</text>\n",
       "<polyline fill=\"none\" points=\"153.5,-272.5 208.5,-272.5 \" stroke=\"black\"/>\n",
       "<text font-family=\"Times,serif\" font-size=\"14.00\" text-anchor=\"middle\" x=\"181\" y=\"-257.3\">output:</text>\n",
       "<polyline fill=\"none\" points=\"208.5,-249.5 208.5,-295.5 \" stroke=\"black\"/>\n",
       "<text font-family=\"Times,serif\" font-size=\"14.00\" text-anchor=\"middle\" x=\"246.5\" y=\"-280.3\">(None, 32)</text>\n",
       "<polyline fill=\"none\" points=\"208.5,-272.5 284.5,-272.5 \" stroke=\"black\"/>\n",
       "<text font-family=\"Times,serif\" font-size=\"14.00\" text-anchor=\"middle\" x=\"246.5\" y=\"-257.3\">(None, 32)</text>\n",
       "</g>\n",
       "<!-- 140074589448120&#45;&gt;140074589448568 -->\n",
       "<g class=\"edge\" id=\"edge2\"><title>140074589448120-&gt;140074589448568</title>\n",
       "<path d=\"M153.5,-332.366C153.5,-324.152 153.5,-314.658 153.5,-305.725\" fill=\"none\" stroke=\"black\"/>\n",
       "<polygon fill=\"black\" points=\"157,-305.607 153.5,-295.607 150,-305.607 157,-305.607\" stroke=\"black\"/>\n",
       "</g>\n",
       "<!-- 140074589448960 -->\n",
       "<g class=\"node\" id=\"node4\"><title>140074589448960</title>\n",
       "<polygon fill=\"none\" points=\"30,-166.5 30,-212.5 277,-212.5 277,-166.5 30,-166.5\" stroke=\"black\"/>\n",
       "<text font-family=\"Times,serif\" font-size=\"14.00\" text-anchor=\"middle\" x=\"88\" y=\"-185.8\">dense_116: Dense</text>\n",
       "<polyline fill=\"none\" points=\"146,-166.5 146,-212.5 \" stroke=\"black\"/>\n",
       "<text font-family=\"Times,serif\" font-size=\"14.00\" text-anchor=\"middle\" x=\"173.5\" y=\"-197.3\">input:</text>\n",
       "<polyline fill=\"none\" points=\"146,-189.5 201,-189.5 \" stroke=\"black\"/>\n",
       "<text font-family=\"Times,serif\" font-size=\"14.00\" text-anchor=\"middle\" x=\"173.5\" y=\"-174.3\">output:</text>\n",
       "<polyline fill=\"none\" points=\"201,-166.5 201,-212.5 \" stroke=\"black\"/>\n",
       "<text font-family=\"Times,serif\" font-size=\"14.00\" text-anchor=\"middle\" x=\"239\" y=\"-197.3\">(None, 32)</text>\n",
       "<polyline fill=\"none\" points=\"201,-189.5 277,-189.5 \" stroke=\"black\"/>\n",
       "<text font-family=\"Times,serif\" font-size=\"14.00\" text-anchor=\"middle\" x=\"239\" y=\"-174.3\">(None, 16)</text>\n",
       "</g>\n",
       "<!-- 140074589448568&#45;&gt;140074589448960 -->\n",
       "<g class=\"edge\" id=\"edge3\"><title>140074589448568-&gt;140074589448960</title>\n",
       "<path d=\"M153.5,-249.366C153.5,-241.152 153.5,-231.658 153.5,-222.725\" fill=\"none\" stroke=\"black\"/>\n",
       "<polygon fill=\"black\" points=\"157,-222.607 153.5,-212.607 150,-222.607 157,-222.607\" stroke=\"black\"/>\n",
       "</g>\n",
       "<!-- 140074589198992 -->\n",
       "<g class=\"node\" id=\"node5\"><title>140074589198992</title>\n",
       "<polygon fill=\"none\" points=\"22.5,-83.5 22.5,-129.5 284.5,-129.5 284.5,-83.5 22.5,-83.5\" stroke=\"black\"/>\n",
       "<text font-family=\"Times,serif\" font-size=\"14.00\" text-anchor=\"middle\" x=\"88\" y=\"-102.8\">dropout_78: Dropout</text>\n",
       "<polyline fill=\"none\" points=\"153.5,-83.5 153.5,-129.5 \" stroke=\"black\"/>\n",
       "<text font-family=\"Times,serif\" font-size=\"14.00\" text-anchor=\"middle\" x=\"181\" y=\"-114.3\">input:</text>\n",
       "<polyline fill=\"none\" points=\"153.5,-106.5 208.5,-106.5 \" stroke=\"black\"/>\n",
       "<text font-family=\"Times,serif\" font-size=\"14.00\" text-anchor=\"middle\" x=\"181\" y=\"-91.3\">output:</text>\n",
       "<polyline fill=\"none\" points=\"208.5,-83.5 208.5,-129.5 \" stroke=\"black\"/>\n",
       "<text font-family=\"Times,serif\" font-size=\"14.00\" text-anchor=\"middle\" x=\"246.5\" y=\"-114.3\">(None, 16)</text>\n",
       "<polyline fill=\"none\" points=\"208.5,-106.5 284.5,-106.5 \" stroke=\"black\"/>\n",
       "<text font-family=\"Times,serif\" font-size=\"14.00\" text-anchor=\"middle\" x=\"246.5\" y=\"-91.3\">(None, 16)</text>\n",
       "</g>\n",
       "<!-- 140074589448960&#45;&gt;140074589198992 -->\n",
       "<g class=\"edge\" id=\"edge4\"><title>140074589448960-&gt;140074589198992</title>\n",
       "<path d=\"M153.5,-166.366C153.5,-158.152 153.5,-148.658 153.5,-139.725\" fill=\"none\" stroke=\"black\"/>\n",
       "<polygon fill=\"black\" points=\"157,-139.607 153.5,-129.607 150,-139.607 157,-139.607\" stroke=\"black\"/>\n",
       "</g>\n",
       "<!-- 140074589197088 -->\n",
       "<g class=\"node\" id=\"node6\"><title>140074589197088</title>\n",
       "<polygon fill=\"none\" points=\"30,-0.5 30,-46.5 277,-46.5 277,-0.5 30,-0.5\" stroke=\"black\"/>\n",
       "<text font-family=\"Times,serif\" font-size=\"14.00\" text-anchor=\"middle\" x=\"88\" y=\"-19.8\">dense_117: Dense</text>\n",
       "<polyline fill=\"none\" points=\"146,-0.5 146,-46.5 \" stroke=\"black\"/>\n",
       "<text font-family=\"Times,serif\" font-size=\"14.00\" text-anchor=\"middle\" x=\"173.5\" y=\"-31.3\">input:</text>\n",
       "<polyline fill=\"none\" points=\"146,-23.5 201,-23.5 \" stroke=\"black\"/>\n",
       "<text font-family=\"Times,serif\" font-size=\"14.00\" text-anchor=\"middle\" x=\"173.5\" y=\"-8.3\">output:</text>\n",
       "<polyline fill=\"none\" points=\"201,-0.5 201,-46.5 \" stroke=\"black\"/>\n",
       "<text font-family=\"Times,serif\" font-size=\"14.00\" text-anchor=\"middle\" x=\"239\" y=\"-31.3\">(None, 16)</text>\n",
       "<polyline fill=\"none\" points=\"201,-23.5 277,-23.5 \" stroke=\"black\"/>\n",
       "<text font-family=\"Times,serif\" font-size=\"14.00\" text-anchor=\"middle\" x=\"239\" y=\"-8.3\">(None, 3)</text>\n",
       "</g>\n",
       "<!-- 140074589198992&#45;&gt;140074589197088 -->\n",
       "<g class=\"edge\" id=\"edge5\"><title>140074589198992-&gt;140074589197088</title>\n",
       "<path d=\"M153.5,-83.3664C153.5,-75.1516 153.5,-65.6579 153.5,-56.7252\" fill=\"none\" stroke=\"black\"/>\n",
       "<polygon fill=\"black\" points=\"157,-56.6068 153.5,-46.6068 150,-56.6069 157,-56.6068\" stroke=\"black\"/>\n",
       "</g>\n",
       "</g>\n",
       "</svg>"
      ],
      "text/plain": [
       "<IPython.core.display.SVG object>"
      ]
     },
     "execution_count": 64,
     "metadata": {},
     "output_type": "execute_result"
    }
   ],
   "source": [
    "def create_model(seed=0, dense1=32, dense2=16, dropout1=0.5, dropout2=0.5):\n",
    "    np.random.seed(seed)\n",
    "    tf.set_random_seed(seed)\n",
    "    model = Sequential()\n",
    "    model.add(Dense(dense1, activation='relu', input_shape=(13,)))\n",
    "    if dropout1 is not None:\n",
    "        model.add(Dropout(dropout1))\n",
    "    model.add(Dense(dense2, activation='relu'))\n",
    "    if dropout2 is not None:\n",
    "        model.add(Dropout(dropout2))\n",
    "    model.add(Dense(3, activation='relu'))\n",
    "    model.compile('adam', loss='categorical_crossentropy')\n",
    "    return model\n",
    "\n",
    "model = create_model()\n",
    "SVG(model_to_dot(model, show_shapes=True).create(prog='dot', format='svg'))"
   ]
  },
  {
   "cell_type": "code",
   "execution_count": 75,
   "metadata": {},
   "outputs": [
    {
     "name": "stdout",
     "output_type": "stream",
     "text": [
      "17.5502\n",
      "0.0\n",
      "20.9954\n",
      "0.0\n",
      "4.4475\n",
      "0.0\n"
     ]
    },
    {
     "data": {
      "text/plain": [
       "(32,)"
      ]
     },
     "execution_count": 75,
     "metadata": {},
     "output_type": "execute_result"
    }
   ],
   "source": [
    "model = create_model()\n",
    "weights = np.array(model.get_weights())\n",
    "for i in range(len(weights)):\n",
    "    print(np.sum(weights[i]**2))\n",
    "model.get_"
   ]
  },
  {
   "cell_type": "code",
   "execution_count": 14,
   "metadata": {},
   "outputs": [
    {
     "name": "stdout",
     "output_type": "stream",
     "text": [
      "18.1474\n",
      "0.0\n",
      "22.1736\n",
      "0.0\n",
      "4.84896\n",
      "0.0\n"
     ]
    }
   ],
   "source": [
    "weights = np.array(model.get_weights())\n",
    "for i in range(len(weights)):\n",
    "    print(np.sum(weights[i]**2))"
   ]
  },
  {
   "cell_type": "code",
   "execution_count": 77,
   "metadata": {},
   "outputs": [
    {
     "name": "stdout",
     "output_type": "stream",
     "text": [
      "Train on 142 samples, validate on 36 samples\n",
      "Epoch 1/30\n",
      "142/142 [==============================] - 1s 4ms/step - loss: 6.1612 - val_loss: 6.6827\n",
      "Epoch 2/30\n",
      "142/142 [==============================] - 0s 48us/step - loss: 6.0524 - val_loss: 6.6813\n",
      "Epoch 3/30\n",
      "142/142 [==============================] - 0s 51us/step - loss: 5.4949 - val_loss: 6.6803\n",
      "Epoch 4/30\n",
      "142/142 [==============================] - 0s 57us/step - loss: 5.1873 - val_loss: 6.6796\n",
      "Epoch 5/30\n",
      "142/142 [==============================] - 0s 62us/step - loss: 5.4511 - val_loss: 6.6793\n",
      "Epoch 6/30\n",
      "142/142 [==============================] - 0s 67us/step - loss: 5.3049 - val_loss: 6.6795\n",
      "Epoch 7/30\n",
      "142/142 [==============================] - 0s 48us/step - loss: 4.8699 - val_loss: 6.6798\n",
      "Epoch 8/30\n",
      "142/142 [==============================] - 0s 52us/step - loss: 5.1624 - val_loss: 6.4171\n",
      "Epoch 9/30\n",
      "142/142 [==============================] - 0s 50us/step - loss: 5.1893 - val_loss: 6.0396\n",
      "Epoch 10/30\n",
      "142/142 [==============================] - 0s 57us/step - loss: 5.2312 - val_loss: 6.0008\n",
      "Epoch 11/30\n",
      "142/142 [==============================] - 0s 43us/step - loss: 5.4407 - val_loss: 5.4255\n",
      "Epoch 12/30\n",
      "142/142 [==============================] - 0s 49us/step - loss: 5.0522 - val_loss: 3.5390\n",
      "Epoch 13/30\n",
      "142/142 [==============================] - 0s 46us/step - loss: 5.0859 - val_loss: 2.6763\n",
      "Epoch 14/30\n",
      "142/142 [==============================] - 0s 50us/step - loss: 5.1910 - val_loss: 2.3131\n",
      "Epoch 15/30\n",
      "142/142 [==============================] - 0s 53us/step - loss: 4.6627 - val_loss: 1.9390\n",
      "Epoch 16/30\n",
      "142/142 [==============================] - 0s 55us/step - loss: 4.4406 - val_loss: 1.8458\n",
      "Epoch 17/30\n",
      "142/142 [==============================] - 0s 39us/step - loss: 4.2512 - val_loss: 1.7751\n",
      "Epoch 18/30\n",
      "142/142 [==============================] - 0s 38us/step - loss: 4.5724 - val_loss: 1.7130\n",
      "Epoch 19/30\n",
      "142/142 [==============================] - 0s 48us/step - loss: 5.6937 - val_loss: 1.6620\n",
      "Epoch 20/30\n",
      "142/142 [==============================] - 0s 45us/step - loss: 4.8729 - val_loss: 1.6197\n",
      "Epoch 21/30\n",
      "142/142 [==============================] - 0s 48us/step - loss: 4.4654 - val_loss: 1.5763\n",
      "Epoch 22/30\n",
      "142/142 [==============================] - 0s 34us/step - loss: 3.7929 - val_loss: 1.5370\n",
      "Epoch 23/30\n",
      "142/142 [==============================] - 0s 37us/step - loss: 5.0763 - val_loss: 1.5057\n",
      "Epoch 24/30\n",
      "142/142 [==============================] - 0s 39us/step - loss: 5.3959 - val_loss: 1.4749\n",
      "Epoch 25/30\n",
      "142/142 [==============================] - 0s 35us/step - loss: 4.9696 - val_loss: 1.4479\n",
      "Epoch 26/30\n",
      "142/142 [==============================] - 0s 50us/step - loss: 4.9234 - val_loss: 1.4238\n",
      "Epoch 27/30\n",
      "142/142 [==============================] - 0s 41us/step - loss: 4.6909 - val_loss: 1.4042\n",
      "Epoch 28/30\n",
      "142/142 [==============================] - 0s 38us/step - loss: 5.0002 - val_loss: 1.3852\n",
      "Epoch 29/30\n",
      "142/142 [==============================] - 0s 35us/step - loss: 4.9131 - val_loss: 1.3692\n",
      "Epoch 30/30\n",
      "142/142 [==============================] - 0s 31us/step - loss: 3.2145 - val_loss: 1.3526\n"
     ]
    },
    {
     "data": {
      "text/plain": [
       "<keras.callbacks.History at 0x7f65604b5fd0>"
      ]
     },
     "execution_count": 77,
     "metadata": {},
     "output_type": "execute_result"
    }
   ],
   "source": [
    "model = create_model()\n",
    "model.fit(train_x, train_y, epochs=30, batch_size=512, validation_data=(test_x, test_y))"
   ]
  },
  {
   "cell_type": "code",
   "execution_count": 76,
   "metadata": {},
   "outputs": [
    {
     "name": "stdout",
     "output_type": "stream",
     "text": [
      "Train on 142 samples, validate on 36 samples\n",
      "Epoch 1/30\n",
      "142/142 [==============================] - 1s 6ms/step - loss: 6.1612 - val_loss: 6.6827\n",
      "Epoch 2/30\n",
      "142/142 [==============================] - 0s 45us/step - loss: 6.0524 - val_loss: 6.6813\n",
      "Epoch 3/30\n",
      "142/142 [==============================] - 0s 43us/step - loss: 5.4949 - val_loss: 6.6803\n",
      "Epoch 4/30\n",
      "142/142 [==============================] - 0s 53us/step - loss: 5.1873 - val_loss: 6.6796\n",
      "Epoch 5/30\n",
      "142/142 [==============================] - 0s 58us/step - loss: 5.4511 - val_loss: 6.6793\n",
      "Epoch 6/30\n",
      "142/142 [==============================] - 0s 48us/step - loss: 5.3049 - val_loss: 6.6795\n",
      "Epoch 7/30\n",
      "142/142 [==============================] - 0s 48us/step - loss: 4.8699 - val_loss: 6.6798\n",
      "Epoch 8/30\n",
      "142/142 [==============================] - 0s 52us/step - loss: 5.1624 - val_loss: 6.4171\n",
      "Epoch 9/30\n",
      "142/142 [==============================] - 0s 44us/step - loss: 5.1893 - val_loss: 6.0396\n",
      "Epoch 10/30\n",
      "142/142 [==============================] - 0s 50us/step - loss: 5.2312 - val_loss: 6.0008\n",
      "Epoch 11/30\n",
      "142/142 [==============================] - 0s 49us/step - loss: 5.4407 - val_loss: 5.4255\n",
      "Epoch 12/30\n",
      "142/142 [==============================] - 0s 42us/step - loss: 5.0522 - val_loss: 3.5390\n",
      "Epoch 13/30\n",
      "142/142 [==============================] - 0s 53us/step - loss: 5.0859 - val_loss: 2.6763\n",
      "Epoch 14/30\n",
      "142/142 [==============================] - 0s 39us/step - loss: 5.1910 - val_loss: 2.3131\n",
      "Epoch 15/30\n",
      "142/142 [==============================] - 0s 48us/step - loss: 4.6627 - val_loss: 1.9390\n",
      "Epoch 16/30\n",
      "142/142 [==============================] - 0s 40us/step - loss: 4.4406 - val_loss: 1.8458\n",
      "Epoch 17/30\n",
      "142/142 [==============================] - 0s 43us/step - loss: 4.2512 - val_loss: 1.7751\n",
      "Epoch 18/30\n",
      "142/142 [==============================] - 0s 35us/step - loss: 4.5724 - val_loss: 1.7130\n",
      "Epoch 19/30\n",
      "142/142 [==============================] - 0s 36us/step - loss: 5.6937 - val_loss: 1.6620\n",
      "Epoch 20/30\n",
      "142/142 [==============================] - 0s 47us/step - loss: 4.8729 - val_loss: 1.6197\n",
      "Epoch 21/30\n",
      "142/142 [==============================] - 0s 35us/step - loss: 4.4654 - val_loss: 1.5763\n",
      "Epoch 22/30\n",
      "142/142 [==============================] - 0s 35us/step - loss: 3.7929 - val_loss: 1.5370\n",
      "Epoch 23/30\n",
      "142/142 [==============================] - 0s 41us/step - loss: 5.0763 - val_loss: 1.5057\n",
      "Epoch 24/30\n",
      "142/142 [==============================] - 0s 34us/step - loss: 5.3959 - val_loss: 1.4749\n",
      "Epoch 25/30\n",
      "142/142 [==============================] - 0s 37us/step - loss: 4.9696 - val_loss: 1.4479\n",
      "Epoch 26/30\n",
      "142/142 [==============================] - 0s 34us/step - loss: 4.9234 - val_loss: 1.4238\n",
      "Epoch 27/30\n",
      "142/142 [==============================] - 0s 43us/step - loss: 4.6909 - val_loss: 1.4042\n",
      "Epoch 28/30\n",
      "142/142 [==============================] - 0s 39us/step - loss: 5.0002 - val_loss: 1.3852\n",
      "Epoch 29/30\n",
      "142/142 [==============================] - 0s 32us/step - loss: 4.9131 - val_loss: 1.3692\n",
      "Epoch 30/30\n",
      "142/142 [==============================] - 0s 33us/step - loss: 3.2145 - val_loss: 1.3526\n"
     ]
    },
    {
     "data": {
      "text/plain": [
       "<keras.callbacks.History at 0x7f656c03d438>"
      ]
     },
     "execution_count": 76,
     "metadata": {},
     "output_type": "execute_result"
    }
   ],
   "source": [
    "model = create_model()\n",
    "model.fit(train_x, train_y, epochs=30, batch_size=512, validation_data=(test_x, test_y))"
   ]
  }
 ],
 "metadata": {
  "kernelspec": {
   "display_name": "Python 3",
   "language": "python",
   "name": "python3"
  },
  "language_info": {
   "codemirror_mode": {
    "name": "ipython",
    "version": 3
   },
   "file_extension": ".py",
   "mimetype": "text/x-python",
   "name": "python",
   "nbconvert_exporter": "python",
   "pygments_lexer": "ipython3",
   "version": "3.6.1"
  }
 },
 "nbformat": 4,
 "nbformat_minor": 2
}
