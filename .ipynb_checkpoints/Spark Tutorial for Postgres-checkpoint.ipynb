{
 "metadata": {
  "name": "",
  "signature": "sha256:f571788851a1199eca4447c4097e87a3f4f655305ea1e5dffe31683f77776656"
 },
 "nbformat": 3,
 "nbformat_minor": 0,
 "worksheets": [
  {
   "cells": [
    {
     "cell_type": "code",
     "collapsed": true,
     "input": [
      "from pyspark import SparkContext, SparkConf\n",
      "from pyspark.sql import SQLContext\n",
      "\n",
      "spconf = SparkConf().setMaster('local[4]').setAppName('Tutorial')\n",
      "sc = SparkContext(conf=spconf)\n",
      "sqlContext = SQLContext(sc)"
     ],
     "language": "python",
     "metadata": {},
     "outputs": []
    },
    {
     "cell_type": "code",
     "collapsed": true,
     "input": [
      "users = sqlContext.read.format(\"jdbc\").options(\n",
      "    url=\"jdbc:postgresql://amanda-development03.cua2ch4xbz7g.ap-northeast-1.rds.amazonaws.com:50012/amanda\",\n",
      "    driver = \"org.postgresql.Driver\",\n",
      "    dbtable = \"users\",\n",
      "    user=\"amandamaster\",\n",
      "    password=\"snafo283lsaf_AFE376473\").load()\n",
      "    \n",
      "\n",
      "matchings = sqlContext.read.format(\"jdbc\").options(\n",
      "    url=\"jdbc:postgresql://amanda-development03.cua2ch4xbz7g.ap-northeast-1.rds.amazonaws.com:50012/amanda\",\n",
      "    driver = \"org.postgresql.Driver\",\n",
      "    dbtable = \"matchings\",\n",
      "    user=\"amandamaster\",\n",
      "    password=\"snafo283lsaf_AFE376473\").load()\n"
     ],
     "language": "python",
     "metadata": {},
     "outputs": []
    },
    {
     "cell_type": "code",
     "collapsed": false,
     "input": [
      "sqlContext.registerDataFrameAsTable(users, 'users')\n",
      "sqlContext.registerDataFrameAsTable(matchings, 'matchings')"
     ],
     "language": "python",
     "metadata": {},
     "outputs": [],
     "prompt_number": 6
    },
    {
     "cell_type": "code",
     "collapsed": false,
     "input": [
      "df = sqlContext.sql('select id, nickname from users where id = 455901')\n",
      "print df.take(1)"
     ],
     "language": "python",
     "metadata": {},
     "outputs": [
      {
       "output_type": "stream",
       "stream": "stdout",
       "text": [
        "[Row(id=455901, nickname=u'\\uc575\\uadf8\\ub9ac\\uc564\\ub354\\uc2a8')]\n"
       ]
      }
     ],
     "prompt_number": 8
    },
    {
     "cell_type": "code",
     "collapsed": true,
     "input": [
      "\n",
      "\n",
      "\n",
      "sql = '''select u.id, nickname from users as u join matchings as m on u.id = m.male_id limit 100'''\n",
      "\n",
      "df2 = sqlContext.sql(sql)\n",
      "print df2.collect()"
     ],
     "language": "python",
     "metadata": {},
     "outputs": []
    },
    {
     "cell_type": "code",
     "collapsed": true,
     "input": [
      "print dir(sqlContext)"
     ],
     "language": "python",
     "metadata": {},
     "outputs": []
    }
   ],
   "metadata": {}
  }
 ]
}