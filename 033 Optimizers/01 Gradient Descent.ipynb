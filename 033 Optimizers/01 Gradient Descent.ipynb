{
 "cells": [
  {
   "cell_type": "markdown",
   "metadata": {},
   "source": [
    "# Gradient Descent Optimization Algorithms\n",
    "\n",
    "* [An overview of gradient descent optimization algorithms](http://sebastianruder.com/optimizing-gradient-descent/index.html#adadelta)\n",
    "* [CS231 Gradient Descent](http://cs231n.github.io/optimization-1/)\n",
    "* [CS231n Convolutional Neural Networks for Visual Recognition](http://cs231n.github.io/neural-networks-3/)\n",
    "* [Optimization: Stochastic Gradient Descent](http://ufldl.stanford.edu/tutorial/supervised/OptimizationStochasticGradientDescent/)"
   ]
  },
  {
   "cell_type": "markdown",
   "metadata": {
    "collapsed": true
   },
   "source": [
    "### 다음과 같이 표기\n",
    "\n",
    "* **Weights (parameters):** $ \\theta $ 이며.. 이때 $ \\theta \\in R^d $  이다. \n",
    "* **Objective Function:** $ J(w) $ \n",
    "* **Gradient of the objective function:** $ \\nabla_\\theta J(\\theta) $\n"
   ]
  },
  {
   "cell_type": "markdown",
   "metadata": {},
   "source": [
    "### Import Libraries"
   ]
  },
  {
   "cell_type": "code",
   "execution_count": 2,
   "metadata": {},
   "outputs": [
    {
     "name": "stdout",
     "output_type": "stream",
     "text": [
      "Populating the interactive namespace from numpy and matplotlib\n"
     ]
    }
   ],
   "source": [
    "%pylab inline\n",
    "import numpy as np\n",
    "from sklearn.preprocessing import StandardScaler\n",
    "from sklearn.metrics import mean_squared_error"
   ]
  },
  {
   "cell_type": "markdown",
   "metadata": {},
   "source": [
    "### Data"
   ]
  },
  {
   "cell_type": "code",
   "execution_count": 25,
   "metadata": {},
   "outputs": [
    {
     "data": {
      "image/png": "[encoded data removed]",
      "text/plain": [
       "<matplotlib.figure.Figure at 0x7f47d7dcab70>"
      ]
     },
     "metadata": {
      "needs_background": "light"
     },
     "output_type": "display_data"
    }
   ],
   "source": [
    "data = np.loadtxt('./data/ex1data1.txt', delimiter=',')\n",
    "X = data[:, 0].reshape(data[:, 0].shape[0], 1) # Population\n",
    "Y = data[:, 1].reshape(data[:, 1].shape[0], 1) # profit\n",
    "\n",
    "# Standardization\n",
    "# scaler_x = StandardScaler()\n",
    "# scaler_y = StandardScaler()\n",
    "# X = scaler_x.fit_transform(X)\n",
    "# Y = scaler_y.fit_transform(Y)\n",
    "\n",
    "scatter(X, Y)\n",
    "title('Profits distribution')\n",
    "xlabel('Population of City in 10,000s')\n",
    "ylabel('Profit in $10,000s')\n",
    "grid()"
   ]
  },
  {
   "cell_type": "markdown",
   "metadata": {},
   "source": [
    "# Batch Gradient Descent (Vanilla Gradient Descent)\n",
    "\n",
    "Gradient Descent를 할때 **전체 training dataset**을 사용해서 구합니다.<br>\n",
    "<small style=\"color:#888888\"> $ \\nabla $ 는 derivativation을 가르키고, $ \\Delta $ 는 차이점을 가르킴 </small>\n",
    "\n",
    "$ \\theta = \\theta - \\eta \\cdot \\nabla_\\theta J( \\theta) $\n",
    "\n",
    "즉 weights(parameters) 한번을 업데이트 하기 위해서 **전체 dataset**을 다 돌려야 하기 때문에 매우 느리며, 메모리에 다 들어가지도 않는 경우가 많습니다. 또한 실시간으로 새로운 데이터가 입력되는 (on-the-fly)상황에서도 전체 데이터를 다 돌려야 하기때문에 적용을 할 수 없습니다.\n",
    "\n",
    "\n",
    "\n",
    "아래는 참고로.. derivative of $ J(\\theta) $ 했을때..\n",
    "\n",
    "$$ \\frac{\\partial}{\\partial \\theta} = \\Delta \\theta =  \\frac{2}{N} \\sum^N_{i=1} -x_i(y_i - \\sum_{j=0}(\\theta_j x_j )) $$\n",
    "\n",
    "\n",
    "$$ \\frac{\\partial}{\\partial b} = \\Delta b = \\frac{2}{N} \\sum^N_{i=1} -(y_i - \\sum_{j=0}(\\theta_j x_j)) $$\n",
    "\n"
   ]
  },
  {
   "cell_type": "code",
   "execution_count": null,
   "metadata": {},
   "outputs": [],
   "source": [
    "w = np.array([-0.1941133,  -2.07505268]) # np.random.randn(2)\n",
    "\n",
    "def predict(w, X):\n",
    "    N = len(X)\n",
    "    yhat = w[1:].dot(X.T) + w[0]\n",
    "    yhat = yhat.reshape(X.shape)\n",
    "    return yhat\n",
    "\n",
    "def batch_gradient_descent(X, Y, w, eta=0.1):\n",
    "    N = len(X)\n",
    "    yhat = predict(w, X)\n",
    "    delta = Y - yhat\n",
    "    w_delta = 2/N * np.sum(-delta.T.dot(X))\n",
    "    b_delta = 2/N * np.sum(-delta)\n",
    "    \n",
    "    w[1:] = w[1:] - eta * w_delta\n",
    "    w[0] = w[0] - eta * b_delta\n",
    "    return w\n",
    "\n",
    "for i in range(1, 10):\n",
    "    \n",
    "    w = batch_gradient_descent(X, Y, w)\n",
    "    yhat = predict(w, X)\n",
    "    \n",
    "    axes = subplot(3, 3, i)\n",
    "    axes.get_xaxis().set_visible(False)\n",
    "    axes.get_yaxis().set_visible(False)\n",
    "    \n",
    "    scatter(X, Y)\n",
    "    plot(X, yhat, color='red')\n",
    "    grid()\n",
    "    axes.grid()\n",
    "    \n",
    "    yhats = np.where(yhat >= 0.5, 1, 0)\n",
    "    accuracy = mean_squared_error(Y, yhats)\n",
    "    print('Mean Squared Error (less is good):', accuracy)"
   ]
  },
  {
   "cell_type": "markdown",
   "metadata": {},
   "source": [
    "# Stochastic Gradient Descent\n",
    "\n",
    "SGD의 경우는 완전 반대로 weights(parameters) 업데이트를 각각의 traning data $ x^{(i)} $ 그리고 label $ y^{(i)} $마다 합니다.\n",
    "\n",
    "$ \\theta = \\theta - \\eta \\cdot \\nabla_\\theta J( \\theta; x^{(i)}; y^{(i)}) $"
   ]
  },
  {
   "cell_type": "code",
   "execution_count": 27,
   "metadata": {},
   "outputs": [
    {
     "name": "stdout",
     "output_type": "stream",
     "text": [
      "Mean Squared Error (less is good): 53.46719765181855\n",
      "Mean Squared Error (less is good): 53.46719765181855\n",
      "Mean Squared Error (less is good): 53.46719765181855\n",
      "Mean Squared Error (less is good): 53.46719765181855\n",
      "Mean Squared Error (less is good): 53.46719765181855\n",
      "Mean Squared Error (less is good): 53.46719765181855\n",
      "Mean Squared Error (less is good): 53.46719765181855\n",
      "Mean Squared Error (less is good): 53.46719765181855\n",
      "Mean Squared Error (less is good): 53.46719765181855\n"
     ]
    },
    {
     "data": {
      "image/png": "[encoded data removed]",
      "text/plain": [
       "<matplotlib.figure.Figure at 0x7f47d7f8df60>"
      ]
     },
     "metadata": {
      "needs_background": "light"
     },
     "output_type": "display_data"
    }
   ],
   "source": [
    "w = np.array([-0.1941133,  -2.07505268])\n",
    "\n",
    "def sgd(X, Y, w, eta=0.1):\n",
    "    N = len(X)\n",
    "    for i in range(N):\n",
    "        x = X[i]\n",
    "        y = Y[i]\n",
    "        yhat = predict(w, x)\n",
    "        delta = y - yhat\n",
    "\n",
    "        w_delta = 2/N * np.sum(-delta.T.dot(x))\n",
    "        b_delta = 2/N * np.sum(-delta)\n",
    "        \n",
    "        w[1:] = w[1:] - eta * w_delta\n",
    "        w[0] = w[0] - eta * b_delta\n",
    "    return w\n",
    "    \n",
    "\n",
    "\n",
    "for i in range(1, 10):\n",
    "    w = sgd(X, Y, w)\n",
    "    yhat = predict(w, X)\n",
    "    \n",
    "    axes = subplot(3, 3, i)\n",
    "    axes.get_xaxis().set_visible(False)\n",
    "    axes.get_yaxis().set_visible(False)\n",
    "    \n",
    "    scatter(X, Y)\n",
    "    plot(X, yhat, color='red')\n",
    "    grid()\n",
    "    axes.grid()\n",
    "    \n",
    "    yhats = np.where(yhat >= 0.5, 1, 0)\n",
    "    accuracy = mean_squared_error(Y, yhats)\n",
    "    print('Mean Squared Error (less is good):', accuracy)"
   ]
  },
  {
   "cell_type": "code",
   "execution_count": null,
   "metadata": {},
   "outputs": [],
   "source": []
  }
 ],
 "metadata": {
  "kernelspec": {
   "display_name": "Python 3",
   "language": "python",
   "name": "python3"
  },
  "language_info": {
   "codemirror_mode": {
    "name": "ipython",
    "version": 3
   },
   "file_extension": ".py",
   "mimetype": "text/x-python",
   "name": "python",
   "nbconvert_exporter": "python",
   "pygments_lexer": "ipython3",
   "version": "3.6.4"
  }
 },
 "nbformat": 4,
 "nbformat_minor": 2
}
