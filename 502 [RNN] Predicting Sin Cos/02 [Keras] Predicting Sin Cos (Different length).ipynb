{
 "cells": [
  {
   "cell_type": "markdown",
   "metadata": {
    "deletable": true,
    "editable": true
   },
   "source": [
    "# Predicting Sin and Cos\n",
    "\n",
    "첫번째것과 동일한데 input의 time magnitude와 output의 time magnitude를 예측할때의 기법"
   ]
  },
  {
   "cell_type": "code",
   "execution_count": 1,
   "metadata": {
    "collapsed": false,
    "deletable": true,
    "editable": true
   },
   "outputs": [
    {
     "name": "stdout",
     "output_type": "stream",
     "text": [
      "Populating the interactive namespace from numpy and matplotlib\n"
     ]
    },
    {
     "name": "stderr",
     "output_type": "stream",
     "text": [
      "Using TensorFlow backend.\n"
     ]
    }
   ],
   "source": [
    "%pylab inline\n",
    "import numpy as np\n",
    "\n",
    "from keras.models import Sequential\n",
    "from keras.layers import LSTM, Dense, Masking\n",
    "from keras.metrics import mean_squared_error\n",
    "from keras.wrappers.scikit_learn import KerasClassifier\n",
    "from keras.preprocessing.sequence import pad_sequences\n",
    "\n",
    "from sklearn.metrics import make_scorer, r2_score\n",
    "from sklearn.model_selection import GridSearchCV\n",
    "\n",
    "from IPython.display import SVG, Image\n",
    "from keras.utils.vis_utils import model_to_dot"
   ]
  },
  {
   "cell_type": "markdown",
   "metadata": {
    "deletable": true,
    "editable": true
   },
   "source": [
    "### Data\n",
    "\n",
    "pad_sequences를 해줍으로서 시계열 데이터를 원하는 output싸이즈로 맞춰주며, 앞부분을 전부 0으로 만들어 줍니다.\n",
    "\n",
    "```\n",
    ">> pad_sequences(np.array([[[1],[2],[3]], [[4], [5], [6]]]), maxlen=10)\n",
    "array([[[0],\n",
    "        [0],\n",
    "        [0],\n",
    "        [0],\n",
    "        [0],\n",
    "        [0],\n",
    "        [0],\n",
    "        [1],\n",
    "        [2],\n",
    "        [3]],\n",
    "\n",
    "       [[0],\n",
    "        [0],\n",
    "        [0],\n",
    "        [0],\n",
    "        [0],\n",
    "        [0],\n",
    "        [0],\n",
    "        [4],\n",
    "        [5],\n",
    "        [6]]], dtype=int32)\n",
    "```\n"
   ]
  },
  {
   "cell_type": "code",
   "execution_count": 2,
   "metadata": {
    "collapsed": false,
    "deletable": true,
    "editable": true,
    "scrolled": false
   },
   "outputs": [
    {
     "name": "stdout",
     "output_type": "stream",
     "text": [
      "x: (340, 100, 1)\n",
      "y: (340, 100, 1)\n",
      "test x: (340, 100, 1)\n",
      "test y: (340, 100, 1)\n"
     ]
    },
    {
     "data": {
      "text/plain": [
       "[<matplotlib.lines.Line2D at 0x7fb7f7256ef0>]"
      ]
     },
     "execution_count": 2,
     "metadata": {},
     "output_type": "execute_result"
    },
    {
     "data": {
      "image/png": "[encoded data removed]",
      "text/plain": [
       "<matplotlib.figure.Figure at 0x7fb7f92cac18>"
      ]
     },
     "metadata": {},
     "output_type": "display_data"
    }
   ],
   "source": [
    "SIZE_X = 50\n",
    "SIZE_Y = 100\n",
    "\n",
    "data = np.arange(-27, 27, 0.1)\n",
    "data = np.sin(data)\n",
    "data = np.cos(data)* np.tanh(data)\n",
    "\n",
    "\n",
    "def make_x_y(data, size_x=100, size_y=500):\n",
    "    N = data.shape[0]\n",
    "    \n",
    "    data_x = np.zeros((N-size_y*2, size_x))\n",
    "    data_y = np.zeros((N-size_y*2, size_y))\n",
    "    test_x = np.zeros((N-size_y*2, size_y))\n",
    "    test_y = np.zeros((N-size_y*2, size_y))\n",
    "    \n",
    "    for i, idx in enumerate(range(0, N-size_y*2)):\n",
    "        x = data[idx: idx+size_x]\n",
    "        y = data[idx+size_x: (idx+size_x) + size_y]\n",
    "        \n",
    "        data_x[idx, :size_x] = x\n",
    "        data_y[idx, :size_y] = y\n",
    "        test_x[idx, :size_y] = data[idx: idx+size_y]\n",
    "        test_y[idx, :size_y] = data[idx+size_y: (idx+size_y) + size_y]\n",
    "        \n",
    "    data_x = np.asarray(data_x)\n",
    "    data_y = np.asarray(data_y)\n",
    "    \n",
    "    data_x = data_x.reshape(-1, size_x, 1)\n",
    "    data_y = data_y.reshape(-1, size_y, 1)\n",
    "    test_x = test_x.reshape(-1, size_y, 1)\n",
    "    test_y = test_y.reshape(-1, size_y, 1)\n",
    "    \n",
    "    # POINT!!!!!!!!!!!!!!!!!!!!!!!!!!!!!!!!!!!!!!!!!!!!!!!!!!!!!!!!!!!!!!!!\n",
    "    data_x = pad_sequences(data_x, maxlen=size_y, dtype='float32')\n",
    "    \n",
    "    \n",
    "    # Shuffle\n",
    "    permu = np.random.permutation(data_x.shape[0])\n",
    "    data_x = data_x[permu]\n",
    "    data_y = data_y[permu]\n",
    "    return data_x, data_y, test_x, test_y\n",
    "\n",
    "\n",
    "x, y, test_x, test_y = make_x_y(data, size_x=SIZE_X, size_y=SIZE_Y)\n",
    "print('x:', x.shape)\n",
    "print('y:', y.shape)\n",
    "print('test x:', test_x.shape)\n",
    "print('test y:', test_y.shape)\n",
    "\n",
    "plot(data)"
   ]
  },
  {
   "cell_type": "markdown",
   "metadata": {
    "deletable": true,
    "editable": true
   },
   "source": [
    "### Visualize training data \n",
    "\n",
    "x값과 y값을 한번에 합쳐서 보여줍니다.<br> \n",
    "대충 중간에 선이 있다고 생각하면 됩니다. 왼쪽은 x값 오른쪽은 y값\n"
   ]
  },
  {
   "cell_type": "code",
   "execution_count": 3,
   "metadata": {
    "collapsed": false,
    "deletable": true,
    "editable": true
   },
   "outputs": [
    {
     "data": {
      "image/png": "[encoded data removed]",
      "text/plain": [
       "<matplotlib.figure.Figure at 0x7fb834f40c88>"
      ]
     },
     "metadata": {},
     "output_type": "display_data"
    }
   ],
   "source": [
    "def visualize(data_x, data_y):\n",
    "    fig, sub_plots = subplots(2, 2)\n",
    "    for columns in sub_plots:\n",
    "        for sp in columns:\n",
    "#             sp.get_xaxis().set_visible(False)\n",
    "#             sp.get_yaxis().set_visible(False)\n",
    "            \n",
    "            r = np.random.randint(data_x.shape[0])\n",
    "            sample_x = data_x[r]\n",
    "            sample_y = data_y[r]\n",
    "            \n",
    "            \n",
    "            sample_x = sample_x.reshape(sample_x.shape[0])\n",
    "            sample_y = sample_y.reshape(sample_y.shape[0])\n",
    "            \n",
    "            tick_x = range(0, SIZE_Y)\n",
    "            tick_y = range(SIZE_Y, SIZE_Y+SIZE_Y)\n",
    "            \n",
    "            sp.plot(tick_x, sample_x)\n",
    "            sp.plot(tick_y, sample_y)\n",
    "\n",
    "visualize(x, y)"
   ]
  },
  {
   "cell_type": "code",
   "execution_count": 4,
   "metadata": {
    "collapsed": false,
    "deletable": true,
    "editable": true
   },
   "outputs": [
    {
     "data": {
      "image/png": "[encoded data removed]",
      "text/plain": [
       "<matplotlib.figure.Figure at 0x7fb7f92d5668>"
      ]
     },
     "metadata": {},
     "output_type": "display_data"
    }
   ],
   "source": [
    "visualize(test_x, test_y)"
   ]
  },
  {
   "cell_type": "markdown",
   "metadata": {
    "deletable": true,
    "editable": true
   },
   "source": [
    "## Model"
   ]
  },
  {
   "cell_type": "code",
   "execution_count": 6,
   "metadata": {
    "collapsed": false,
    "deletable": true,
    "editable": true,
    "scrolled": false
   },
   "outputs": [
    {
     "name": "stderr",
     "output_type": "stream",
     "text": [
      "/usr/local/lib/python3.6/site-packages/keras/legacy/interfaces.py:86: UserWarning: Update your `LSTM` call to the Keras 2 API: `LSTM(batch_input_shape=(None, Non..., return_sequences=True, units=10)`\n",
      "  '` call to the Keras 2 API: ' + signature)\n",
      "/usr/local/lib/python3.6/site-packages/keras/legacy/interfaces.py:86: UserWarning: Update your `Dense` call to the Keras 2 API: `Dense(name=\"fully_connected_layer01\", units=10)`\n",
      "  '` call to the Keras 2 API: ' + signature)\n",
      "/usr/local/lib/python3.6/site-packages/keras/legacy/interfaces.py:86: UserWarning: Update your `Dense` call to the Keras 2 API: `Dense(name=\"fully_connected_layer02\", units=1)`\n",
      "  '` call to the Keras 2 API: ' + signature)\n"
     ]
    },
    {
     "data": {
      "image/svg+xml": [
       "<svg height=\"470pt\" viewBox=\"0.00 0.00 359.00 470.00\" width=\"359pt\" xmlns=\"http://www.w3.org/2000/svg\" xmlns:xlink=\"http://www.w3.org/1999/xlink\">\n",
       "<g class=\"graph\" id=\"graph0\" transform=\"scale(1 1) rotate(0) translate(4 466)\">\n",
       "<title>G</title>\n",
       "<polygon fill=\"white\" points=\"-4,4 -4,-466 355,-466 355,4 -4,4\" stroke=\"none\"/>\n",
       "<!-- 140428097104696 -->\n",
       "<g class=\"node\" id=\"node1\"><title>140428097104696</title>\n",
       "<polygon fill=\"none\" points=\"10,-415.5 10,-461.5 341,-461.5 341,-415.5 10,-415.5\" stroke=\"black\"/>\n",
       "<text font-family=\"Times,serif\" font-size=\"14.00\" text-anchor=\"middle\" x=\"99.5\" y=\"-434.8\">masking_1_input: InputLayer</text>\n",
       "<polyline fill=\"none\" points=\"189,-415.5 189,-461.5 \" stroke=\"black\"/>\n",
       "<text font-family=\"Times,serif\" font-size=\"14.00\" text-anchor=\"middle\" x=\"216.5\" y=\"-446.3\">input:</text>\n",
       "<polyline fill=\"none\" points=\"189,-438.5 244,-438.5 \" stroke=\"black\"/>\n",
       "<text font-family=\"Times,serif\" font-size=\"14.00\" text-anchor=\"middle\" x=\"216.5\" y=\"-423.3\">output:</text>\n",
       "<polyline fill=\"none\" points=\"244,-415.5 244,-461.5 \" stroke=\"black\"/>\n",
       "<text font-family=\"Times,serif\" font-size=\"14.00\" text-anchor=\"middle\" x=\"292.5\" y=\"-446.3\">(None, 100, 1)</text>\n",
       "<polyline fill=\"none\" points=\"244,-438.5 341,-438.5 \" stroke=\"black\"/>\n",
       "<text font-family=\"Times,serif\" font-size=\"14.00\" text-anchor=\"middle\" x=\"292.5\" y=\"-423.3\">(None, 100, 1)</text>\n",
       "</g>\n",
       "<!-- 140428097104416 -->\n",
       "<g class=\"node\" id=\"node2\"><title>140428097104416</title>\n",
       "<polygon fill=\"none\" points=\"33.5,-332.5 33.5,-378.5 317.5,-378.5 317.5,-332.5 33.5,-332.5\" stroke=\"black\"/>\n",
       "<text font-family=\"Times,serif\" font-size=\"14.00\" text-anchor=\"middle\" x=\"99.5\" y=\"-351.8\">masking_1: Masking</text>\n",
       "<polyline fill=\"none\" points=\"165.5,-332.5 165.5,-378.5 \" stroke=\"black\"/>\n",
       "<text font-family=\"Times,serif\" font-size=\"14.00\" text-anchor=\"middle\" x=\"193\" y=\"-363.3\">input:</text>\n",
       "<polyline fill=\"none\" points=\"165.5,-355.5 220.5,-355.5 \" stroke=\"black\"/>\n",
       "<text font-family=\"Times,serif\" font-size=\"14.00\" text-anchor=\"middle\" x=\"193\" y=\"-340.3\">output:</text>\n",
       "<polyline fill=\"none\" points=\"220.5,-332.5 220.5,-378.5 \" stroke=\"black\"/>\n",
       "<text font-family=\"Times,serif\" font-size=\"14.00\" text-anchor=\"middle\" x=\"269\" y=\"-363.3\">(None, 100, 1)</text>\n",
       "<polyline fill=\"none\" points=\"220.5,-355.5 317.5,-355.5 \" stroke=\"black\"/>\n",
       "<text font-family=\"Times,serif\" font-size=\"14.00\" text-anchor=\"middle\" x=\"269\" y=\"-340.3\">(None, 100, 1)</text>\n",
       "</g>\n",
       "<!-- 140428097104696&#45;&gt;140428097104416 -->\n",
       "<g class=\"edge\" id=\"edge1\"><title>140428097104696-&gt;140428097104416</title>\n",
       "<path d=\"M175.5,-415.366C175.5,-407.152 175.5,-397.658 175.5,-388.725\" fill=\"none\" stroke=\"black\"/>\n",
       "<polygon fill=\"black\" points=\"179,-388.607 175.5,-378.607 172,-388.607 179,-388.607\" stroke=\"black\"/>\n",
       "</g>\n",
       "<!-- 140428386432392 -->\n",
       "<g class=\"node\" id=\"node3\"><title>140428386432392</title>\n",
       "<polygon fill=\"none\" points=\"47,-249.5 47,-295.5 304,-295.5 304,-249.5 47,-249.5\" stroke=\"black\"/>\n",
       "<text font-family=\"Times,serif\" font-size=\"14.00\" text-anchor=\"middle\" x=\"96\" y=\"-268.8\">lstm_1: LSTM</text>\n",
       "<polyline fill=\"none\" points=\"145,-249.5 145,-295.5 \" stroke=\"black\"/>\n",
       "<text font-family=\"Times,serif\" font-size=\"14.00\" text-anchor=\"middle\" x=\"172.5\" y=\"-280.3\">input:</text>\n",
       "<polyline fill=\"none\" points=\"145,-272.5 200,-272.5 \" stroke=\"black\"/>\n",
       "<text font-family=\"Times,serif\" font-size=\"14.00\" text-anchor=\"middle\" x=\"172.5\" y=\"-257.3\">output:</text>\n",
       "<polyline fill=\"none\" points=\"200,-249.5 200,-295.5 \" stroke=\"black\"/>\n",
       "<text font-family=\"Times,serif\" font-size=\"14.00\" text-anchor=\"middle\" x=\"252\" y=\"-280.3\">(None, 100, 1)</text>\n",
       "<polyline fill=\"none\" points=\"200,-272.5 304,-272.5 \" stroke=\"black\"/>\n",
       "<text font-family=\"Times,serif\" font-size=\"14.00\" text-anchor=\"middle\" x=\"252\" y=\"-257.3\">(None, 100, 10)</text>\n",
       "</g>\n",
       "<!-- 140428097104416&#45;&gt;140428386432392 -->\n",
       "<g class=\"edge\" id=\"edge2\"><title>140428097104416-&gt;140428386432392</title>\n",
       "<path d=\"M175.5,-332.366C175.5,-324.152 175.5,-314.658 175.5,-305.725\" fill=\"none\" stroke=\"black\"/>\n",
       "<polygon fill=\"black\" points=\"179,-305.607 175.5,-295.607 172,-305.607 179,-305.607\" stroke=\"black\"/>\n",
       "</g>\n",
       "<!-- 140428097105760 -->\n",
       "<g class=\"node\" id=\"node4\"><title>140428097105760</title>\n",
       "<polygon fill=\"none\" points=\"47,-166.5 47,-212.5 304,-212.5 304,-166.5 47,-166.5\" stroke=\"black\"/>\n",
       "<text font-family=\"Times,serif\" font-size=\"14.00\" text-anchor=\"middle\" x=\"96\" y=\"-185.8\">lstm_2: LSTM</text>\n",
       "<polyline fill=\"none\" points=\"145,-166.5 145,-212.5 \" stroke=\"black\"/>\n",
       "<text font-family=\"Times,serif\" font-size=\"14.00\" text-anchor=\"middle\" x=\"172.5\" y=\"-197.3\">input:</text>\n",
       "<polyline fill=\"none\" points=\"145,-189.5 200,-189.5 \" stroke=\"black\"/>\n",
       "<text font-family=\"Times,serif\" font-size=\"14.00\" text-anchor=\"middle\" x=\"172.5\" y=\"-174.3\">output:</text>\n",
       "<polyline fill=\"none\" points=\"200,-166.5 200,-212.5 \" stroke=\"black\"/>\n",
       "<text font-family=\"Times,serif\" font-size=\"14.00\" text-anchor=\"middle\" x=\"252\" y=\"-197.3\">(None, 100, 10)</text>\n",
       "<polyline fill=\"none\" points=\"200,-189.5 304,-189.5 \" stroke=\"black\"/>\n",
       "<text font-family=\"Times,serif\" font-size=\"14.00\" text-anchor=\"middle\" x=\"252\" y=\"-174.3\">(None, 100, 10)</text>\n",
       "</g>\n",
       "<!-- 140428386432392&#45;&gt;140428097105760 -->\n",
       "<g class=\"edge\" id=\"edge3\"><title>140428386432392-&gt;140428097105760</title>\n",
       "<path d=\"M175.5,-249.366C175.5,-241.152 175.5,-231.658 175.5,-222.725\" fill=\"none\" stroke=\"black\"/>\n",
       "<polygon fill=\"black\" points=\"179,-222.607 175.5,-212.607 172,-222.607 179,-222.607\" stroke=\"black\"/>\n",
       "</g>\n",
       "<!-- 140428096950400 -->\n",
       "<g class=\"node\" id=\"node5\"><title>140428096950400</title>\n",
       "<polygon fill=\"none\" points=\"0,-83.5 0,-129.5 351,-129.5 351,-83.5 0,-83.5\" stroke=\"black\"/>\n",
       "<text font-family=\"Times,serif\" font-size=\"14.00\" text-anchor=\"middle\" x=\"96\" y=\"-102.8\">fully_connected_layer01: Dense</text>\n",
       "<polyline fill=\"none\" points=\"192,-83.5 192,-129.5 \" stroke=\"black\"/>\n",
       "<text font-family=\"Times,serif\" font-size=\"14.00\" text-anchor=\"middle\" x=\"219.5\" y=\"-114.3\">input:</text>\n",
       "<polyline fill=\"none\" points=\"192,-106.5 247,-106.5 \" stroke=\"black\"/>\n",
       "<text font-family=\"Times,serif\" font-size=\"14.00\" text-anchor=\"middle\" x=\"219.5\" y=\"-91.3\">output:</text>\n",
       "<polyline fill=\"none\" points=\"247,-83.5 247,-129.5 \" stroke=\"black\"/>\n",
       "<text font-family=\"Times,serif\" font-size=\"14.00\" text-anchor=\"middle\" x=\"299\" y=\"-114.3\">(None, 100, 10)</text>\n",
       "<polyline fill=\"none\" points=\"247,-106.5 351,-106.5 \" stroke=\"black\"/>\n",
       "<text font-family=\"Times,serif\" font-size=\"14.00\" text-anchor=\"middle\" x=\"299\" y=\"-91.3\">(None, 100, 10)</text>\n",
       "</g>\n",
       "<!-- 140428097105760&#45;&gt;140428096950400 -->\n",
       "<g class=\"edge\" id=\"edge4\"><title>140428097105760-&gt;140428096950400</title>\n",
       "<path d=\"M175.5,-166.366C175.5,-158.152 175.5,-148.658 175.5,-139.725\" fill=\"none\" stroke=\"black\"/>\n",
       "<polygon fill=\"black\" points=\"179,-139.607 175.5,-129.607 172,-139.607 179,-139.607\" stroke=\"black\"/>\n",
       "</g>\n",
       "<!-- 140428051422064 -->\n",
       "<g class=\"node\" id=\"node6\"><title>140428051422064</title>\n",
       "<polygon fill=\"none\" points=\"0,-0.5 0,-46.5 351,-46.5 351,-0.5 0,-0.5\" stroke=\"black\"/>\n",
       "<text font-family=\"Times,serif\" font-size=\"14.00\" text-anchor=\"middle\" x=\"96\" y=\"-19.8\">fully_connected_layer02: Dense</text>\n",
       "<polyline fill=\"none\" points=\"192,-0.5 192,-46.5 \" stroke=\"black\"/>\n",
       "<text font-family=\"Times,serif\" font-size=\"14.00\" text-anchor=\"middle\" x=\"219.5\" y=\"-31.3\">input:</text>\n",
       "<polyline fill=\"none\" points=\"192,-23.5 247,-23.5 \" stroke=\"black\"/>\n",
       "<text font-family=\"Times,serif\" font-size=\"14.00\" text-anchor=\"middle\" x=\"219.5\" y=\"-8.3\">output:</text>\n",
       "<polyline fill=\"none\" points=\"247,-0.5 247,-46.5 \" stroke=\"black\"/>\n",
       "<text font-family=\"Times,serif\" font-size=\"14.00\" text-anchor=\"middle\" x=\"299\" y=\"-31.3\">(None, 100, 10)</text>\n",
       "<polyline fill=\"none\" points=\"247,-23.5 351,-23.5 \" stroke=\"black\"/>\n",
       "<text font-family=\"Times,serif\" font-size=\"14.00\" text-anchor=\"middle\" x=\"299\" y=\"-8.3\">(None, 100, 1)</text>\n",
       "</g>\n",
       "<!-- 140428096950400&#45;&gt;140428051422064 -->\n",
       "<g class=\"edge\" id=\"edge5\"><title>140428096950400-&gt;140428051422064</title>\n",
       "<path d=\"M175.5,-83.3664C175.5,-75.1516 175.5,-65.6579 175.5,-56.7252\" fill=\"none\" stroke=\"black\"/>\n",
       "<polygon fill=\"black\" points=\"179,-56.6068 175.5,-46.6068 172,-56.6069 179,-56.6068\" stroke=\"black\"/>\n",
       "</g>\n",
       "</g>\n",
       "</svg>"
      ],
      "text/plain": [
       "<IPython.core.display.SVG object>"
      ]
     },
     "execution_count": 6,
     "metadata": {},
     "output_type": "execute_result"
    }
   ],
   "source": [
    "def create_model(lstm_out=10, optimizer='adam'):\n",
    "    model = Sequential(name='lstm')\n",
    "    model.add(Masking(mask_value=0, batch_input_shape=(None, 100, 1)))\n",
    "    model.add(LSTM(batch_input_shape=(None, None, 1), output_dim=lstm_out, return_sequences=True))\n",
    "    model.add(LSTM(batch_input_shape=(None, None, 1), output_dim=lstm_out, return_sequences=True))\n",
    "    model.add(Dense(output_dim=10, name='fully_connected_layer01'))\n",
    "    model.add(Dense(output_dim=1, name='fully_connected_layer02'))\n",
    "    model.compile(loss='mean_squared_error', optimizer=optimizer, metrics=[mean_squared_error])\n",
    "    return model\n",
    "\n",
    "model = create_model()\n",
    "SVG(model_to_dot(model, show_shapes=True).create(prog='dot', format='svg'))"
   ]
  },
  {
   "cell_type": "markdown",
   "metadata": {
    "deletable": true,
    "editable": true
   },
   "source": [
    "## Hyperparameter Optimization"
   ]
  },
  {
   "cell_type": "code",
   "execution_count": 10,
   "metadata": {
    "collapsed": false,
    "deletable": true,
    "editable": true,
    "scrolled": false
   },
   "outputs": [
    {
     "name": "stderr",
     "output_type": "stream",
     "text": [
      "/usr/local/lib/python3.6/site-packages/keras/legacy/interfaces.py:86: UserWarning: Update your `LSTM` call to the Keras 2 API: `LSTM(batch_input_shape=(None, Non..., return_sequences=True, units=1)`\n",
      "  '` call to the Keras 2 API: ' + signature)\n",
      "/usr/local/lib/python3.6/site-packages/keras/legacy/interfaces.py:86: UserWarning: Update your `Dense` call to the Keras 2 API: `Dense(name=\"fully_connected_layer01\", units=10)`\n",
      "  '` call to the Keras 2 API: ' + signature)\n",
      "/usr/local/lib/python3.6/site-packages/keras/legacy/interfaces.py:86: UserWarning: Update your `Dense` call to the Keras 2 API: `Dense(name=\"fully_connected_layer02\", units=1)`\n",
      "  '` call to the Keras 2 API: ' + signature)\n"
     ]
    },
    {
     "name": "stdout",
     "output_type": "stream",
     "text": [
      "error:0.15174917627164006, score:-0.00794981365892071\n",
      "error:0.15151681029485736, score:-0.005367960534486422\n",
      "error:0.15135714490641883, score:-0.0010292498880628614\n",
      "error:0.1517129861109225, score:-0.007422752516940007\n",
      "error:0.1516764756832959, score:-0.017601978558775554\n",
      "error:0.15155402409423918, score:-0.0010845696535770057\n"
     ]
    },
    {
     "name": "stderr",
     "output_type": "stream",
     "text": [
      "/usr/local/lib/python3.6/site-packages/keras/legacy/interfaces.py:86: UserWarning: Update your `LSTM` call to the Keras 2 API: `LSTM(batch_input_shape=(None, Non..., return_sequences=True, units=10)`\n",
      "  '` call to the Keras 2 API: ' + signature)\n"
     ]
    },
    {
     "name": "stdout",
     "output_type": "stream",
     "text": [
      "error:0.15876039307902715, score:-0.054519784239043155\n",
      "error:0.15747108400927515, score:-0.04487668573190101\n",
      "error:0.15685682289411665, score:-0.03740241571419459\n",
      "error:0.15787298800972022, score:-0.048327135374839555\n",
      "error:0.15851830306926312, score:-0.06350400162170063\n",
      "error:0.15916947864145117, score:-0.05138817646095258\n"
     ]
    },
    {
     "name": "stderr",
     "output_type": "stream",
     "text": [
      "/usr/local/lib/python3.6/site-packages/keras/legacy/interfaces.py:86: UserWarning: Update your `LSTM` call to the Keras 2 API: `LSTM(batch_input_shape=(None, Non..., return_sequences=True, units=20)`\n",
      "  '` call to the Keras 2 API: ' + signature)\n"
     ]
    },
    {
     "name": "stdout",
     "output_type": "stream",
     "text": [
      "error:0.15842769809913818, score:-0.05230995449746985\n",
      "error:0.15730054530816348, score:-0.043745100755982085\n",
      "error:0.15683224219859232, score:-0.03723984661170769\n",
      "error:0.15769725560511624, score:-0.047160216001022034\n",
      "error:0.15759611674344617, score:-0.05731702618253874\n",
      "error:0.1578171868643826, score:-0.042455662528818355\n"
     ]
    },
    {
     "name": "stderr",
     "output_type": "stream",
     "text": [
      "/usr/local/lib/python3.6/site-packages/keras/legacy/interfaces.py:86: UserWarning: Update your `LSTM` call to the Keras 2 API: `LSTM(batch_input_shape=(None, Non..., return_sequences=True, units=30)`\n",
      "  '` call to the Keras 2 API: ' + signature)\n"
     ]
    },
    {
     "name": "stdout",
     "output_type": "stream",
     "text": [
      "error:0.15868802312569547, score:-0.05403908785065162\n",
      "error:0.15755116450377696, score:-0.04540804831324891\n",
      "error:0.15691151643927156, score:-0.03776414187197871\n",
      "error:0.15787720514503867, score:-0.048355138502186513\n",
      "error:0.15736510521289376, score:-0.05576716296544453\n",
      "error:0.15749355340220786, score:-0.04031791351724998\n"
     ]
    },
    {
     "name": "stderr",
     "output_type": "stream",
     "text": [
      "/usr/local/lib/python3.6/site-packages/keras/legacy/interfaces.py:86: UserWarning: Update your `LSTM` call to the Keras 2 API: `LSTM(batch_input_shape=(None, Non..., return_sequences=True, units=40)`\n",
      "  '` call to the Keras 2 API: ' + signature)\n"
     ]
    },
    {
     "name": "stdout",
     "output_type": "stream",
     "text": [
      "error:0.1580786848505368, score:-0.04999173539714004\n",
      "error:0.15716372645090654, score:-0.04283725894479657\n",
      "error:0.1563429132728197, score:-0.034003576742733035\n",
      "error:0.15728593878092512, score:-0.04442894073049125\n",
      "error:0.15760772515534505, score:-0.05739490736261639\n",
      "error:0.15762334553961682, score:-0.04117525073939885\n"
     ]
    },
    {
     "name": "stderr",
     "output_type": "stream",
     "text": [
      "/usr/local/lib/python3.6/site-packages/keras/legacy/interfaces.py:86: UserWarning: Update your `LSTM` call to the Keras 2 API: `LSTM(batch_input_shape=(None, Non..., return_sequences=True, units=300)`\n",
      "  '` call to the Keras 2 API: ' + signature)\n"
     ]
    },
    {
     "name": "stdout",
     "output_type": "stream",
     "text": [
      "error:0.16126741218613935, score:-0.07117193026011769\n",
      "error:0.16028497972168557, score:-0.0635478852379985\n",
      "error:0.15406197375142444, score:-0.018918149625605132\n",
      "error:0.1549859390085998, score:-0.029156206597302125\n",
      "error:0.1570716193565681, score:-0.05379815764190586\n",
      "error:0.15606333704932468, score:-0.030870671646276784\n"
     ]
    }
   ],
   "source": [
    "# Custom Scorer\n",
    "def accuracy(y_true, y_pred):\n",
    "    y_true = y_true.reshape((-1, SIZE_Y))\n",
    "    y_pred = y_pred.reshape((-1, SIZE_Y))\n",
    "    score = r2_score(y_true, y_pred, multioutput='variance_weighted')\n",
    "    error = ((y_true - y_pred)**2).mean()\n",
    "    print(f'error:{error}, score:{score}')\n",
    "    return score\n",
    "\n",
    "\n",
    "# Grid Search \n",
    "params = dict(lstm_out=[1, 10, 20, 30, 40, 300], \n",
    "              optimizer=['adam'], \n",
    "              nb_epoch=[10])\n",
    "\n",
    "classifier = KerasClassifier(create_model, verbose=0)\n",
    "scorer = make_scorer(accuracy, greater_is_better=False) # 케라스 모델에서 MSE를 사용하기 때문에 greater_is_better는 False\n",
    "grid = GridSearchCV(classifier, param_grid=params, scoring=scorer)\n",
    "grid_result = grid.fit(x, y)"
   ]
  },
  {
   "cell_type": "code",
   "execution_count": null,
   "metadata": {
    "collapsed": false,
    "deletable": true,
    "editable": true
   },
   "outputs": [],
   "source": [
    "_mean_scores = grid_result.cv_results_['mean_test_score']\n",
    "_stds = grid_result.cv_results_['std_test_score']\n",
    "_params = grid_result.cv_results_['params']\n",
    "\n",
    "print('Best:', grid_result.best_params_)\n",
    "for mean, std, param in zip(_mean_scores, _stds, _params):\n",
    "    print(f'Mean Score:{mean:.7},\\tSTD Score:{std:.5},\\tParams: {param}')"
   ]
  },
  {
   "cell_type": "markdown",
   "metadata": {
    "deletable": true,
    "editable": true
   },
   "source": [
    "## Train"
   ]
  },
  {
   "cell_type": "code",
   "execution_count": 8,
   "metadata": {
    "collapsed": false,
    "deletable": true,
    "editable": true,
    "scrolled": false
   },
   "outputs": [
    {
     "name": "stdout",
     "output_type": "stream",
     "text": [
      "Epoch 1/60\n",
      "1s - loss: 0.1549 - mean_squared_error: 0.1549\n",
      "Epoch 2/60\n",
      "1s - loss: 0.1427 - mean_squared_error: 0.1427\n",
      "Epoch 3/60\n",
      "1s - loss: 0.1317 - mean_squared_error: 0.1317\n",
      "Epoch 4/60\n",
      "1s - loss: 0.1186 - mean_squared_error: 0.1186\n",
      "Epoch 5/60\n",
      "1s - loss: 0.0971 - mean_squared_error: 0.0971\n",
      "Epoch 6/60\n",
      "1s - loss: 0.0666 - mean_squared_error: 0.0666\n",
      "Epoch 7/60\n",
      "1s - loss: 0.0589 - mean_squared_error: 0.0589\n",
      "Epoch 8/60\n",
      "1s - loss: 0.0547 - mean_squared_error: 0.0547\n",
      "Epoch 9/60\n",
      "1s - loss: 0.0528 - mean_squared_error: 0.0528\n",
      "Epoch 10/60\n",
      "1s - loss: 0.0521 - mean_squared_error: 0.0521\n",
      "Epoch 11/60\n",
      "1s - loss: 0.0512 - mean_squared_error: 0.0512\n",
      "Epoch 12/60\n",
      "1s - loss: 0.0507 - mean_squared_error: 0.0507\n",
      "Epoch 13/60\n",
      "1s - loss: 0.0502 - mean_squared_error: 0.0502\n",
      "Epoch 14/60\n",
      "1s - loss: 0.0497 - mean_squared_error: 0.0497\n",
      "Epoch 15/60\n",
      "1s - loss: 0.0493 - mean_squared_error: 0.0493\n",
      "Epoch 16/60\n",
      "1s - loss: 0.0489 - mean_squared_error: 0.0489\n",
      "Epoch 17/60\n",
      "1s - loss: 0.0485 - mean_squared_error: 0.0485\n",
      "Epoch 18/60\n",
      "1s - loss: 0.0482 - mean_squared_error: 0.0482\n",
      "Epoch 19/60\n",
      "1s - loss: 0.0477 - mean_squared_error: 0.0477\n",
      "Epoch 20/60\n",
      "1s - loss: 0.0472 - mean_squared_error: 0.0472\n",
      "Epoch 21/60\n",
      "1s - loss: 0.0468 - mean_squared_error: 0.0468\n",
      "Epoch 22/60\n",
      "1s - loss: 0.0461 - mean_squared_error: 0.0461\n",
      "Epoch 23/60\n",
      "1s - loss: 0.0457 - mean_squared_error: 0.0457\n",
      "Epoch 24/60\n",
      "1s - loss: 0.0455 - mean_squared_error: 0.0455\n",
      "Epoch 25/60\n",
      "1s - loss: 0.0447 - mean_squared_error: 0.0447\n",
      "Epoch 26/60\n",
      "1s - loss: 0.0442 - mean_squared_error: 0.0442\n",
      "Epoch 27/60\n",
      "1s - loss: 0.0433 - mean_squared_error: 0.0433\n",
      "Epoch 28/60\n",
      "1s - loss: 0.0426 - mean_squared_error: 0.0426\n",
      "Epoch 29/60\n",
      "1s - loss: 0.0416 - mean_squared_error: 0.0416\n",
      "Epoch 30/60\n",
      "1s - loss: 0.0407 - mean_squared_error: 0.0407\n",
      "Epoch 31/60\n",
      "1s - loss: 0.0394 - mean_squared_error: 0.0394\n",
      "Epoch 32/60\n",
      "1s - loss: 0.0375 - mean_squared_error: 0.0375\n",
      "Epoch 33/60\n",
      "1s - loss: 0.0354 - mean_squared_error: 0.0354\n",
      "Epoch 34/60\n",
      "1s - loss: 0.0326 - mean_squared_error: 0.0326\n",
      "Epoch 35/60\n",
      "1s - loss: 0.0302 - mean_squared_error: 0.0302\n",
      "Epoch 36/60\n",
      "1s - loss: 0.0282 - mean_squared_error: 0.0282\n",
      "Epoch 37/60\n",
      "1s - loss: 0.0264 - mean_squared_error: 0.0264\n",
      "Epoch 38/60\n",
      "1s - loss: 0.0252 - mean_squared_error: 0.0252\n",
      "Epoch 39/60\n",
      "1s - loss: 0.0244 - mean_squared_error: 0.0244\n",
      "Epoch 40/60\n",
      "1s - loss: 0.0235 - mean_squared_error: 0.0235\n",
      "Epoch 41/60\n",
      "1s - loss: 0.0230 - mean_squared_error: 0.0230\n",
      "Epoch 42/60\n",
      "1s - loss: 0.0223 - mean_squared_error: 0.0223\n",
      "Epoch 43/60\n",
      "1s - loss: 0.0217 - mean_squared_error: 0.0217\n",
      "Epoch 44/60\n",
      "1s - loss: 0.0213 - mean_squared_error: 0.0213\n",
      "Epoch 45/60\n",
      "1s - loss: 0.0205 - mean_squared_error: 0.0205\n",
      "Epoch 46/60\n",
      "1s - loss: 0.0203 - mean_squared_error: 0.0203\n",
      "Epoch 47/60\n",
      "1s - loss: 0.0199 - mean_squared_error: 0.0199\n",
      "Epoch 48/60\n",
      "1s - loss: 0.0192 - mean_squared_error: 0.0192\n",
      "Epoch 49/60\n",
      "1s - loss: 0.0193 - mean_squared_error: 0.0193\n",
      "Epoch 50/60\n",
      "1s - loss: 0.0187 - mean_squared_error: 0.0187\n",
      "Epoch 51/60\n",
      "1s - loss: 0.0183 - mean_squared_error: 0.0183\n",
      "Epoch 52/60\n",
      "1s - loss: 0.0180 - mean_squared_error: 0.0180\n",
      "Epoch 53/60\n",
      "1s - loss: 0.0175 - mean_squared_error: 0.0175\n",
      "Epoch 54/60\n",
      "1s - loss: 0.0170 - mean_squared_error: 0.0170\n",
      "Epoch 55/60\n",
      "1s - loss: 0.0167 - mean_squared_error: 0.0167\n",
      "Epoch 56/60\n",
      "1s - loss: 0.0168 - mean_squared_error: 0.0168\n",
      "Epoch 57/60\n",
      "1s - loss: 0.0161 - mean_squared_error: 0.0161\n",
      "Epoch 58/60\n",
      "1s - loss: 0.0161 - mean_squared_error: 0.0161\n",
      "Epoch 59/60\n",
      "1s - loss: 0.0156 - mean_squared_error: 0.0156\n",
      "Epoch 60/60\n",
      "1s - loss: 0.0154 - mean_squared_error: 0.0154\n"
     ]
    },
    {
     "data": {
      "text/plain": [
       "<keras.callbacks.History at 0x7fb7c15183c8>"
      ]
     },
     "execution_count": 8,
     "metadata": {},
     "output_type": "execute_result"
    }
   ],
   "source": [
    "params = dict(lstm_out=10,\n",
    "              optimizer='adam')\n",
    "\n",
    "# model = create_model(**params)\n",
    "model.fit(x, y, verbose=2, epochs=60)"
   ]
  },
  {
   "cell_type": "code",
   "execution_count": 9,
   "metadata": {
    "collapsed": false,
    "deletable": true,
    "editable": true
   },
   "outputs": [
    {
     "name": "stdout",
     "output_type": "stream",
     "text": [
      "error:0.08354824933633036, score:0.4470934509926948\n",
      "Mean Squared Error: 0.447093450993\n"
     ]
    },
    {
     "data": {
      "image/png": "[encoded data removed]",
      "text/plain": [
       "<matplotlib.figure.Figure at 0x7fb7f6dd84e0>"
      ]
     },
     "metadata": {},
     "output_type": "display_data"
    }
   ],
   "source": [
    "# Custom Scorer\n",
    "def accuracy(y_true, y_pred):\n",
    "    y_true = y_true.reshape((-1, SIZE_Y))\n",
    "    y_pred = y_pred.reshape((-1, SIZE_Y))\n",
    "    \n",
    "    score = r2_score(y_true, y_pred, multioutput='variance_weighted')\n",
    "    error = ((y_true - y_pred)**2).mean()\n",
    "    print(f'error:{error}, score:{score}')\n",
    "    return score\n",
    "\n",
    "def visualize_prediction(data_x, data_y):   \n",
    "    data_p = model.predict(data_x)\n",
    "    \n",
    "    data_x = data_x.reshape((-1, SIZE_Y))\n",
    "    data_y = data_y.reshape((-1, SIZE_Y))\n",
    "    data_p = data_p.reshape((-1, SIZE_Y))\n",
    "    \n",
    "    print('Mean Squared Error:', accuracy(data_y, data_p))\n",
    "    \n",
    "    fig, sub_plots = subplots(2, 2)\n",
    "    for col_plots in sub_plots:\n",
    "        for sp in col_plots:\n",
    "            sp.get_xaxis().set_visible(False)\n",
    "            sp.get_yaxis().set_visible(False)\n",
    "        \n",
    "            idx = np.random.randint(data_x.shape[0])\n",
    "            \n",
    "#             sp.plot(data_x[idx], color='blue')\n",
    "            sp.plot(data_y[idx], color='#333333')\n",
    "            sp.plot(data_p[idx], color='red')\n",
    "\n",
    "\n",
    "visualize_prediction(x, y)"
   ]
  }
 ],
 "metadata": {
  "kernelspec": {
   "display_name": "Python 3",
   "language": "python",
   "name": "python3"
  },
  "language_info": {
   "codemirror_mode": {
    "name": "ipython",
    "version": 3
   },
   "file_extension": ".py",
   "mimetype": "text/x-python",
   "name": "python",
   "nbconvert_exporter": "python",
   "pygments_lexer": "ipython3",
   "version": "3.6.0"
  }
 },
 "nbformat": 4,
 "nbformat_minor": 2
}
