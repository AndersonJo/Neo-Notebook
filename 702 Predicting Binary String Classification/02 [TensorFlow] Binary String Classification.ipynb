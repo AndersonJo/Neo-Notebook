{
 "cells": [
  {
   "cell_type": "markdown",
   "metadata": {
    "deletable": true,
    "editable": true
   },
   "source": [
    "# Binary String Classfication\n",
    "\n",
    "다음의 문서를 참고하였습니다. \n",
    "\n",
    "* https://medium.com/@erikhallstrm/using-the-dynamicrnn-api-in-tensorflow-7237aba7f7ea#.sjdfcqe4m\n",
    "* https://github.com/cozyhous/dynamic_rnn_example/blob/master/trainer.py\n",
    "* https://github.com/hunkim/DeepLearningZeroToAll/blob/master/lab-12-5-rnn_stock_prediction.py\n",
    "* https://arxiv.org/pdf/1506.00019.pdf"
   ]
  },
  {
   "cell_type": "code",
   "execution_count": 2,
   "metadata": {
    "collapsed": true,
    "deletable": true,
    "editable": true
   },
   "outputs": [],
   "source": [
    "import tensorflow as tf\n",
    "import numpy as np\n",
    "\n",
    "from tensorflow.contrib.rnn import RNNCell, BasicLSTMCell, MultiRNNCell, DropoutWrapper"
   ]
  },
  {
   "cell_type": "markdown",
   "metadata": {
    "deletable": true,
    "editable": true
   },
   "source": [
    "## Creating Interactive Session"
   ]
  },
  {
   "cell_type": "code",
   "execution_count": 3,
   "metadata": {
    "collapsed": false,
    "deletable": true,
    "editable": true
   },
   "outputs": [],
   "source": [
    "init_op = tf.global_variables_initializer()\n",
    "gpu_options = tf.GPUOptions(per_process_gpu_memory_fraction=0.001, allow_growth=True)\n",
    "sess = tf.InteractiveSession(config=tf.ConfigProto(gpu_options=gpu_options))\n",
    "sess.run(init_op)"
   ]
  },
  {
   "cell_type": "markdown",
   "metadata": {
    "deletable": true,
    "editable": true
   },
   "source": [
    "## Data\n",
    "\n",
    "Data는 3 dimentions 으로서 [Batch, Time Step, Data] 로 이루어집니다."
   ]
  },
  {
   "cell_type": "code",
   "execution_count": 4,
   "metadata": {
    "collapsed": false,
    "deletable": true,
    "editable": true
   },
   "outputs": [],
   "source": [
    "LABEL_SIZE = 100\n",
    "TRAINING_SIZE = 50000\n",
    "TEST_SIZE = 10000\n",
    "\n",
    "def create_data(size=50000, maximum=1000, end_token=2):\n",
    "    max_length = len(bin(maximum-1)[2:]) + 1\n",
    "    rands = np.random.randint(0, maximum, size=500000)\n",
    "    xs = np.zeros((size, 1, max_length), dtype='float32')\n",
    "    ys = np.zeros((size, maximum), dtype='int32')\n",
    "    for i in range(size):\n",
    "        x = np.zeros(20, dtype='float32')\n",
    "        rand_bin = bin(rands[i])[2:]+ str(end_token)\n",
    "        rand_bin = list(map(float, list(rand_bin)))\n",
    "        xs[i, 0, :len(rand_bin)] = rand_bin    \n",
    "        ys[i, rands[i]] = 1\n",
    "    \n",
    "    return xs, ys\n",
    "\n",
    "train_x, train_y = create_data(size=TRAINING_SIZE, maximum=LABEL_SIZE)\n",
    "test_x, test_y = create_data(size=TEST_SIZE, maximum=LABEL_SIZE)\n",
    "\n",
    "SENTENCE_LENGTH = train_x.shape[2]"
   ]
  },
  {
   "cell_type": "code",
   "execution_count": 5,
   "metadata": {
    "collapsed": false,
    "deletable": true,
    "editable": true
   },
   "outputs": [
    {
     "name": "stdout",
     "output_type": "stream",
     "text": [
      "(50, 1, 8) (50, 100)\n"
     ]
    }
   ],
   "source": [
    "def next_batch(x, y, size=50):\n",
    "    idx = np.random.randint(x.shape[0] - size)\n",
    "    return x[idx:idx+size], y[idx:idx+size]\n",
    "\n",
    "sample_x, sample_y = next_batch(train_x, train_y)\n",
    "print(sample_x.shape, sample_y.shape)"
   ]
  },
  {
   "cell_type": "markdown",
   "metadata": {
    "deletable": true,
    "editable": true
   },
   "source": [
    "## LSTM Model\n",
    "\n",
    "### DynamicRNN\n",
    "\n",
    "TensorFlow의 dynamic_rnn은 batch input shape [Batch Size, Time Step Size, Input Size] 형식을 받습니다.<br>\n"
   ]
  },
  {
   "cell_type": "code",
   "execution_count": 7,
   "metadata": {
    "collapsed": false,
    "deletable": true,
    "editable": true
   },
   "outputs": [],
   "source": [
    "def sigmoid_cross_entropy(prediction, targets):\n",
    "    \"\"\"\n",
    "    위의 prediction에서 음수도 나올수 있는데.. 이때 음수를 log에 넣으면 nan이 떠버립니다.\n",
    "    따라서 sigmoid를 통해서 0~1사이의 값으로 보정을 해줍니다. \n",
    "    \"\"\"\n",
    "    prediction = tf.sigmoid(prediction)\n",
    "    loss = - tf.reduce_sum(targets * tf.log(prediction))\n",
    "    return loss\n",
    "\n",
    "def softmax_cross_entropy(prediction, targets):\n",
    "    \"\"\"\n",
    "    마찬가지로 tf.nn.softmax_? 또는 tf.nn.sigmoid 등등을 TensorFlow에서 제공하는데.. \n",
    "    cross entropy function을 사용시 log에서 문제가 될 수 있는 음수 부분을 없애기 위해서 API가 이렇게 제공되고 있음\n",
    "    \"\"\"\n",
    "    delta = tf.nn.softmax_cross_entropy_with_logits(logits=prediction, labels=targets)\n",
    "    loss = tf.reduce_mean(delta)\n",
    "    return loss\n",
    "\n",
    "def mean_squared_error(prediction, targets):\n",
    "    delta = tf.square(targets - prediction)\n",
    "    loss = tf.reduce_mean(delta)\n",
    "    return loss\n",
    "\n",
    "def root_mean_squared_error(preditction, targets):\n",
    "    p = mean_squared_error(prediction, targets)\n",
    "    loss = tf.sqrt(p)\n",
    "    return loss\n",
    "\n",
    "loss_f = root_mean_squared_error\n",
    "\n",
    "\n",
    "with tf.variable_scope('test' + str(np.random.randint(0, 100000))):\n",
    "    inputs = tf.placeholder('float32', shape=[None, None, SENTENCE_LENGTH], name='inputs') # [batch, time, in]\n",
    "    targets = tf.placeholder('float32', shape=[None, LABEL_SIZE], name='targets') # [batch, time, out]\n",
    "    \n",
    "    cell = BasicLSTMCell(LABEL_SIZE, forget_bias=1.0, state_is_tuple=True)\n",
    "    init_state = cell.zero_state(1, 'float32')\n",
    "\n",
    "    outputs, state = tf.nn.dynamic_rnn(cell, inputs, initial_state=init_state, time_major=True)\n",
    "    prediction = outputs[:, -1] # (?, 100)\n",
    "    \n",
    "    loss = loss_f(prediction, targets)\n",
    "    train_fn = tf.train.AdamOptimizer(learning_rate=0.01).minimize(loss)\n",
    "    \n",
    "init_op = tf.global_variables_initializer()\n",
    "sess.run(init_op)"
   ]
  },
  {
   "cell_type": "code",
   "execution_count": 28,
   "metadata": {
    "collapsed": false,
    "deletable": true,
    "editable": true,
    "scrolled": false
   },
   "outputs": [
    {
     "name": "stdout",
     "output_type": "stream",
     "text": [
      "[1] cost: 0.07489023901894688\n",
      "[2] cost: 0.048166033580899235\n",
      "[3] cost: 0.03409451477788389\n"
     ]
    }
   ],
   "source": [
    "def train(x, y, n_epoch=3, batch_size=50):\n",
    "    global state\n",
    "    \n",
    "    for epoch in range(1, n_epoch+1):\n",
    "        costs = []\n",
    "        for step in range(int(x.shape[0]/batch_size)):\n",
    "            sample_x, sample_y = next_batch(x, y, size=batch_size)\n",
    "            cost, _ = sess.run([loss, train_fn], feed_dict={inputs: sample_x, targets: sample_y})\n",
    "            costs.append(np.sum(cost))\n",
    "\n",
    "        cost = sum(costs)/float(step + 1)\n",
    "        print(f'[{epoch}] cost: {cost}')\n",
    "\n",
    "train(train_x, train_y)"
   ]
  },
  {
   "cell_type": "code",
   "execution_count": 30,
   "metadata": {
    "collapsed": false,
    "deletable": true,
    "editable": true,
    "scrolled": false
   },
   "outputs": [
    {
     "name": "stdout",
     "output_type": "stream",
     "text": [
      "테스트 갯수: 10000, 맞은 갯수: 10000\n",
      "accuracy: 1.0\n"
     ]
    }
   ],
   "source": [
    "def evaluate(x, y):\n",
    "    test_size = x.shape[0]\n",
    "    DATA_LIMIT = 200\n",
    "    \n",
    "    n_correct = 0\n",
    "    global_step = 0\n",
    "    for i in range(0, test_size, DATA_LIMIT):\n",
    "        y_preds = sess.run(prediction, feed_dict={inputs: x[i:i+DATA_LIMIT]})\n",
    "\n",
    "        for j in range(DATA_LIMIT):\n",
    "            y_pred = np.argmax(y_preds[j, 0])\n",
    "            y_true = np.argmax(y[j, 0])\n",
    "            if y_pred == y_true:\n",
    "                n_correct += 1\n",
    "                \n",
    "            global_step += 1\n",
    "    \n",
    "    print(f'테스트 갯수: {test_size}, 맞은 갯수: {n_correct}')\n",
    "    print('accuracy:', n_correct/float(test_size))\n",
    "\n",
    "evaluate(test_x, test_y)"
   ]
  }
 ],
 "metadata": {
  "kernelspec": {
   "display_name": "Python 3",
   "language": "python",
   "name": "python3"
  },
  "language_info": {
   "codemirror_mode": {
    "name": "ipython",
    "version": 3
   },
   "file_extension": ".py",
   "mimetype": "text/x-python",
   "name": "python",
   "nbconvert_exporter": "python",
   "pygments_lexer": "ipython3",
   "version": "3.6.0"
  }
 },
 "nbformat": 4,
 "nbformat_minor": 2
}
