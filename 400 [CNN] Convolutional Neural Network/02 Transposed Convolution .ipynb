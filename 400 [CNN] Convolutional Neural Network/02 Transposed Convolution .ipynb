{
 "cells": [
  {
   "cell_type": "markdown",
   "metadata": {},
   "source": [
    "# Transposed Convolution \n",
    "\n",
    "Transposed convolution은 일반적인 convolution의 연산의 반대로 transformation을 할때 사용을 합니다.<br>\n"
   ]
  },
  {
   "cell_type": "code",
   "execution_count": 2,
   "metadata": {},
   "outputs": [
    {
     "name": "stdout",
     "output_type": "stream",
     "text": [
      "Populating the interactive namespace from numpy and matplotlib\n"
     ]
    }
   ],
   "source": [
    "%pylab inline\n",
    "import numpy as np\n",
    "from scipy import signal as sg"
   ]
  },
  {
   "cell_type": "code",
   "execution_count": 82,
   "metadata": {},
   "outputs": [
    {
     "name": "stdout",
     "output_type": "stream",
     "text": [
      "[[12 12 17]\n",
      " [10 17 19]\n",
      " [ 9  6 14]]\n"
     ]
    }
   ],
   "source": [
    "image = np.array([[3, 3, 2, 1, 0], \n",
    "                  [0, 0, 1, 3, 1], \n",
    "                  [3, 1, 2, 2, 3],\n",
    "                  [2, 0, 0, 2, 2],\n",
    "                  [2, 0, 0, 0, 1]])\n",
    "kernel = np.array([[0, 1, 2], \n",
    "                   [2, 2, 0], \n",
    "                   [0, 1, 2]])\n",
    "output = sg.correlate2d(image, kernel, mode='valid')\n",
    "print(output)\n",
    "\n"
   ]
  },
  {
   "cell_type": "code",
   "execution_count": 80,
   "metadata": {},
   "outputs": [
    {
     "name": "stdout",
     "output_type": "stream",
     "text": [
      "[[8]]\n",
      "[[0 3 2]\n",
      " [0 0 0]\n",
      " [3 0 0]]\n",
      "8\n"
     ]
    }
   ],
   "source": [
    "image = np.array([[3, 3, 2], \n",
    "                  [0, 0, 1], \n",
    "                  [3, 1, 2]])\n",
    "\n",
    "kernel = np.array([[0, 1, 1], \n",
    "                   [0, 0, 0], \n",
    "                   [1, 0, 0]])\n",
    "# kernel = np.array([[0, 1, 2], \n",
    "#                    [2, 2, 0], \n",
    "#                    [0, 1, 2]])\n",
    "output = sg.correlate2d(kernel, image, mode='valid')\n",
    "print(output)\n",
    "\n",
    "print(image * kernel)\n",
    "print( (image * kernel).sum())"
   ]
  },
  {
   "cell_type": "code",
   "execution_count": null,
   "metadata": {},
   "outputs": [],
   "source": [
    "sg.deconvolve()"
   ]
  }
 ],
 "metadata": {
  "kernelspec": {
   "display_name": "Python 3",
   "language": "python",
   "name": "python3"
  },
  "language_info": {
   "codemirror_mode": {
    "name": "ipython",
    "version": 3
   },
   "file_extension": ".py",
   "mimetype": "text/x-python",
   "name": "python",
   "nbconvert_exporter": "python",
   "pygments_lexer": "ipython3",
   "version": "3.6.4"
  }
 },
 "nbformat": 4,
 "nbformat_minor": 2
}
