{
 "cells": [
  {
   "cell_type": "markdown",
   "metadata": {},
   "source": [
    "# Transposed Convolution \n",
    "\n",
    "Transposed convolution은 일반적인 convolution의 연산의 반대로 transformation을 할때 사용을 합니다.<br>\n",
    "대부분 Deconvolution으로 알고 있지만, 잘못된 표현입니다. 예를 들어서 auto encoder를 하게 될때, Encoder에서 black box를 통해 convolution을 하게 됩니다. 이후 Decoder부분에서는 다시 black box를 통해서 deconvolution을 하게 됩니다. 이경우 원래 input image의 spatial resolution (공간적 모양 - 픽셀의 양) 로 black box를 통해 돌아가는 것이므로 deconvolution이라는 표현이 맞습니다. \n",
    "(Deconvolution은 수학적 연산이라기 보다는 input으로 사용된 spatial resolution 돌아가는 개념정도로 이해하는게 좋을듯 합니다)\n",
    "\n",
    "Transposed convolution은 deconvolution과 마찬가지로 동일한 spatial resolution으로 돌아가기 때문입니다.<br>\n",
    "다른점은 수학적으로 연산하는 방법 자체가 다릅니다.<br>\n",
    "Transposed convolution은 일반적인 convolution과 동일하지만 spatial transformation을 반대로 합니다."
   ]
  },
  {
   "cell_type": "markdown",
   "metadata": {},
   "source": [
    "## No zero padding, unit strides"
   ]
  },
  {
   "cell_type": "code",
   "execution_count": 2,
   "metadata": {},
   "outputs": [
    {
     "name": "stdout",
     "output_type": "stream",
     "text": [
      "Populating the interactive namespace from numpy and matplotlib\n"
     ]
    }
   ],
   "source": [
    "%pylab inline\n",
    "import numpy as np\n",
    "from scipy import signal as sg"
   ]
  },
  {
   "cell_type": "code",
   "execution_count": 82,
   "metadata": {},
   "outputs": [
    {
     "name": "stdout",
     "output_type": "stream",
     "text": [
      "[[12 12 17]\n",
      " [10 17 19]\n",
      " [ 9  6 14]]\n"
     ]
    }
   ],
   "source": [
    "image = np.array([[3, 3, 2, 1, 0], \n",
    "                  [0, 0, 1, 3, 1], \n",
    "                  [3, 1, 2, 2, 3],\n",
    "                  [2, 0, 0, 2, 2],\n",
    "                  [2, 0, 0, 0, 1]])\n",
    "kernel = np.array([[0, 1, 2], \n",
    "                   [2, 2, 0], \n",
    "                   [0, 1, 2]])\n",
    "output = sg.correlate2d(image, kernel, mode='valid')\n",
    "print(output)"
   ]
  },
  {
   "cell_type": "code",
   "execution_count": 80,
   "metadata": {},
   "outputs": [
    {
     "name": "stdout",
     "output_type": "stream",
     "text": [
      "[[8]]\n",
      "[[0 3 2]\n",
      " [0 0 0]\n",
      " [3 0 0]]\n",
      "8\n"
     ]
    }
   ],
   "source": [
    "image = np.array([[3, 3, 2], \n",
    "                  [0, 0, 1], \n",
    "                  [3, 1, 2]])\n",
    "\n",
    "kernel = np.array([[0, 1, 1], \n",
    "                   [0, 0, 0], \n",
    "                   [1, 0, 0]])\n",
    "# kernel = np.array([[0, 1, 2], \n",
    "#                    [2, 2, 0], \n",
    "#                    [0, 1, 2]])\n",
    "output = sg.correlate2d(kernel, image, mode='valid')\n",
    "print(output)\n",
    "\n",
    "print(image * kernel)\n",
    "print( (image * kernel).sum())"
   ]
  },
  {
   "cell_type": "code",
   "execution_count": null,
   "metadata": {},
   "outputs": [],
   "source": [
    "sg.deconvolve()"
   ]
  }
 ],
 "metadata": {
  "kernelspec": {
   "display_name": "Python 3",
   "language": "python",
   "name": "python3"
  },
  "language_info": {
   "codemirror_mode": {
    "name": "ipython",
    "version": 3
   },
   "file_extension": ".py",
   "mimetype": "text/x-python",
   "name": "python",
   "nbconvert_exporter": "python",
   "pygments_lexer": "ipython3",
   "version": "3.6.4"
  }
 },
 "nbformat": 4,
 "nbformat_minor": 2
}
