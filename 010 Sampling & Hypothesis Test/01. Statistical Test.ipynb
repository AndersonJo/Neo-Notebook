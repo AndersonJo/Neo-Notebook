{
 "cells": [
  {
   "cell_type": "code",
   "execution_count": 8,
   "metadata": {},
   "outputs": [
    {
     "name": "stdout",
     "output_type": "stream",
     "text": [
      "Populating the interactive namespace from numpy and matplotlib\n"
     ]
    },
    {
     "name": "stderr",
     "output_type": "stream",
     "text": [
      "/usr/local/lib/python3.6/site-packages/IPython/core/magics/pylab.py:160: UserWarning: pylab import has clobbered these variables: ['uniform', 'normal']\n",
      "`%matplotlib` prevents importing * from pylab and numpy\n",
      "  \"\\n`%matplotlib` prevents importing * from pylab and numpy\"\n"
     ]
    }
   ],
   "source": [
    "%pylab inline\n",
    "import numpy as np\n",
    "import pandas as pd\n",
    "import seaborn as sns"
   ]
  },
  {
   "cell_type": "markdown",
   "metadata": {},
   "source": [
    "# Terms\n",
    "\n",
    "| Name | English | Symbol | Description | \n",
    "|:-----|:--------|:-------|:------------|\n",
    "| 유의수준 | Significance Level | $ \\alpha $ | 보통 0.05 (5%), 귀무가설이 기각될 확률 |\n"
   ]
  },
  {
   "cell_type": "markdown",
   "metadata": {},
   "source": [
    "# Hypothesis Test\n",
    "\n",
    "## 귀무가설과 대립가설 \n",
    "\n",
    "\n",
    "* **Null Hypothesis $ H_0 $ (귀무가설)**\n",
    "  - sampling에서는 sample observations은 단순히 우연히 일어난 것이라고 가정함\n",
    "  - 두집단을 비교시 같거나 차이가 없다로 해석을 한다\n",
    "  - 기본적으로는 참으로 추정되며, 거부하기 위해서는 증거가 필요하다\n",
    "  \n",
    "  \n",
    "* **Alternative Hypothesis $ H_1 $ or $ H_a $ (대립가설)** \n",
    "  - sampling에서는 sample observations은 우연히 일어난 것이 아니라고 가정함\n",
    "  - 두집단을 비교시 차이가 있다고 가정을 한다\n",
    "\n",
    "\n",
    "## 단측 및 양측 검정 \n",
    "\n",
    "\n",
    "* **Two-Tailed Test 양측 검정 -> <span style=\"color:red\">다르냐?</span>**\n",
    "  - 모집단의 모수가 귀무 가설에서의 값보다 **크거나 작은지를 판단**하려면 `양측 대립 가설` 을 사용\n",
    "  - 특정 고등학교의 시험 결과가 국가 평균(72점)과 `다른지` 여부를 판단하려고 함 <br>귀무가설은 $ H_0: \\mu = 72 $ 이고, 대립가설은 $ H_1: \\mu \\ne 72 $ <br> 국가 평균과 `다른지`를 판단하는 것이기 때문에 양측 검정이다. (더 높을수도 더 낮을 수도 있다) \n",
    "  \n",
    "  \n",
    "* **One-Tailed Test 단측 검정 -> <span style=\"color:red\">보다 크냐 또는 보다 작냐?</span>**\n",
    "  - 특정 방향으로 모집단 모수가 귀무가설에서의 값과 다른지 여부를 확인하려면 `단측 대립 가설`을 사용 \n",
    "  - 특정 고등학교의 시험 결과가 국가 평균(72점)보다 더 높은지를 판단하려고 함 <br>귀무가설은 $ H_0: \\mu = 72 $ 이고, 대립가설은 $ H_1: \\mu > 72 $ <br>국가 평균보다 `높은지`를 판단하는 것이기 때문에 단측 검정을 한다 \n",
    "  \n",
    "\n",
    "\n",
    "\n",
    "\n",
    "## 제 1종 오류 VS 제 2종 오류\n",
    "\n",
    "| Decision                    | $ H_0 $ is True (귀무가설 참)  | $ H_0 $ is not True (귀무가설 거짓) |\n",
    "|:----------------------------|:-----------------------------|:---------------------------------|\n",
    "| Accept $ H_0 $ (귀무가설 채택) | Correct (No Error) <br>$ p = 1 - \\alpha $          | Type 2 Error ($ p = \\beta $) <br>2종 오류 |\n",
    "| Reject $ H_0 $ (귀무가설 기각) | Type 1 Error ($ p = \\alpha $) <br> 1종 오류 | Correct (No Error) <br> $ p = 1 - \\beta $ |\n",
    "\n",
    "\n",
    "\n",
    "### 제 1종 오류 (False Positive)\n",
    "\n",
    "**<span style=\"color:red\">1종 오류는 귀무가설이 참인데 기각되었을때 발생합니다.</span>**<br>\n",
    "\n",
    "$$ \\alpha = P(\\text{type 1 error}) = P(\\text{reject } H_0 | H_0 \\text{ is true} )$$ \n",
    "\n",
    " - 양치기 소년에서 귀무가설은 \"늑대가 없다\" 입니다. <br>실제로 늑대가 없는 상황에서 늑대가 있다고 잘못된 알람 (False Alarm)을 준 경우 발생합니다.\n",
    " - 법정에서의 귀무가설은 피고인이 죄가 없다입니다. <br>이때 죄가 있다고 판결이 난경우 귀무가설은 기각되었고, 잘못된 판결이 내려 졌습니다.\n",
    " - **1종 오류가 발생할 확률을 \"유의수준 (significance level)\"  이라고 합니다.**\n",
    "\n",
    "\n",
    "### 제 2종 오류 (False Negative)\n",
    "\n",
    "**<span style=\"color:red\">2종 오류는 귀무가설이 거짓인데, 기각시키지 못했을때 발생합니다.</span>** <br>\n",
    "\n",
    "$$ \\beta = P(\\text{type 2 error}) = P(\\text{accept } H_0 | H_0 \\text{ is false}) $$\n",
    "\n",
    " - 양치기 소년에서 귀무가설은 \"늑대가 없다\" 입니다. 이때 실제로는 늑대가 있는 케이스 입니다. <br>그리고 양치기 소년은 늑대가 없다고 말하고 (귀무가설이 맞다!) 다른데 놀러간 케이스라고 할 수 있습니다.\n",
    " - 바이러스 백신을 만들었습니다. 귀무가설은 바이러스 백신은 효과가 없다 입니다.<br>이때 실제로는 백신이 효과가 있는데도 불구하고 잘못된 판단으로 효과가 없다고 했을때 (귀무가설을 인정) 많은 사람들을 살릴수 있었음에도 불구하고 인명피해를 내놓은 상황일수 있습니다. \n",
    "\n",
    "\n",
    "### 적절한 유의수준과 검정력을 선택 \n",
    "\n",
    "예를 들어 2개의 약품이 있었고 다음과 같은 1종 오류 또는 2종 오류를 범할 수 있습니다. \n",
    "\n",
    "- 1종 오류: 두개의 약의 효과는 동일하다는 결론 (사실은 다르다) -> 틀려도 기존 제품을 먹으니 크게 문제는 없으나.. 더 좋은 약을 놓치게 되는 경우 문제가 생길수 있다\n",
    "- 2종 오류: 두개의 약이 효과가 다르다는 결론 (사실은 동일하다) \n",
    "\n",
    "\n",
    "\n",
    "### 알파와 베타를 동시에 줄이는건 불가능\n",
    "\n",
    "![](images/hypothesis-test-error.png)\n",
    "\n",
    "위의 그림에서 보듯이, $ \\alpha $ 와 $ \\beta $ 를 모두 줄일수는 없습니다.<br>\n",
    "검사의 신뢰도를 높이기 위해서 임계값을 높여서 (ex. 0.05 -> 0.03) $ \\alpha $ 의 범위를 줄이게 되면, <br>\n",
    "동시에 $ \\beta $ 의 범위는 높아지게 됩니다.\n",
    "\n",
    "**즉, $ \\alpha $ 와 $ \\beta $ 는 서로 상반된 크기를 갖습니다.**\n",
    "\n",
    "\n",
    "### P-Value\n",
    "\n",
    "유의 확률 (significance probability) 이라고도 하며 p-value (probability value) 라고도 합니다. <br>\n",
    "**귀무가설이 맞다고 가정을 할때, 관측된 값보다 극단적인 결과가 실제로 관측될 확률입니다.**<br>\n",
    "\n",
    "일반적으로는 0.05를 사용하지만 상황에따라서 0.1, 0.01을 사용하기도 합니다. <br>\n",
    "(근데 왜 하필 0.05냐.. 그건 그냥 프랑스에서 모여서 결론지은 통계 아저씨들에게 물어보면 된는데.. 그냥 정해진 것임) \n",
    "\n",
    "위에서 이야기한 가설검정에 대한 지표로 사용되는데.. 상황에 따라서 다양한 검정 방법을 사용하게 됩니다."
   ]
  },
  {
   "cell_type": "markdown",
   "metadata": {},
   "source": [
    "# Normality Test\n",
    "\n",
    "- 현실에서는 바빠서 대충 t-test돌리고 하지만, 사실 통계라는 것은 상당히 많은 제약사항들이 붙어 있습니다. <br> `이때 데이터는 정규분포를 따라야 한다` 와 같은 문장이 있다면 정규성 검증을 통해서 정규분포를 따르는지 먼저 체크를 해줘야 합니다.\n",
    "\n",
    "- 예를 들어 **T-test, ANOVA 처럼 모수적 검정방법은 일반적으로 분포가 정규분포를 따른다고 가정**을 합니다. <br>표본의 크기가 30개 이상이 되면 중심극한 정리에 의해서 정규성을 갖고 있다고 가정을 할수 있지만, <br>**30개 미만인 경우에는 정규성 검정을 먼저 수행해야 합니다.**\n",
    "3- 사실 실무에서는 데이터가 대부분 빅데이터라, 이런거 잘 안합니다.\n",
    "- 즉, 표본의 갯수가 10개~30개라면, 정규성 검정이 반드시 필요합니다. <br>정규성 검정을 통과하면 모수적 검정을 사용해도 되지만, 실패하면 비모수적 검정을 사용해야 합니다. \n",
    "- 만약 표본의 갯수가 30개 이상이라면, 그냥 모수적 검정을 사용해도 됩니다."
   ]
  },
  {
   "cell_type": "markdown",
   "metadata": {},
   "source": [
    "## Normal Quantile-Quantile Plot\n",
    "\n",
    " - 분위수-분위수 그래프 \n",
    " - 정규분포를 따를 경우 일직선으로 나온다"
   ]
  },
  {
   "cell_type": "code",
   "execution_count": 57,
   "metadata": {},
   "outputs": [
    {
     "data": {
      "image/png": "[encoded data removed]",
      "text/plain": [
       "<matplotlib.figure.Figure at 0x7ffa2eaae4e0>"
      ]
     },
     "metadata": {
      "needs_background": "light"
     },
     "output_type": "display_data"
    }
   ],
   "source": [
    "import statsmodels.api as sm\n",
    "\n",
    "uniform = np.random.random(size=100) * 3.5 + 120\n",
    "normal = np.random.normal(loc=120, scale=1, size=100)\n",
    "\n",
    "fig, plots = subplots(1, 2, figsize=(12, 4))\n",
    "g1 = sm.qqplot(uniform, ax=plots[0])\n",
    "g2 = sm.qqplot(normal, ax=plots[1])\n",
    "plots[0].title.set_text('Uniform')\n",
    "plots[1].title.set_text('Normal')\n",
    "plt.show()\n"
   ]
  },
  {
   "cell_type": "markdown",
   "metadata": {},
   "source": [
    "## Histogram"
   ]
  },
  {
   "cell_type": "code",
   "execution_count": 67,
   "metadata": {},
   "outputs": [
    {
     "data": {
      "text/plain": [
       "<matplotlib.legend.Legend at 0x7ffa2e66a8d0>"
      ]
     },
     "execution_count": 67,
     "metadata": {},
     "output_type": "execute_result"
    },
    {
     "data": {
      "image/png": "[encoded data removed]",
      "text/plain": [
       "<matplotlib.figure.Figure at 0x7ffa2ea467f0>"
      ]
     },
     "metadata": {
      "needs_background": "light"
     },
     "output_type": "display_data"
    }
   ],
   "source": [
    "uniform = np.random.random(size=100) * 3.5 + 120\n",
    "normal = np.random.normal(loc=120, scale=1, size=100)\n",
    "\n",
    "sns.distplot(uniform, bins=10, label='uniform')\n",
    "sns.distplot(normal, bins=10, label='normal')\n",
    "legend()"
   ]
  },
  {
   "cell_type": "markdown",
   "metadata": {},
   "source": [
    "## Shapiro-Wilks Test\n",
    "\n",
    " - 샤피로 윌크 검정\n",
    " - 각 샘플안의 관측치는 독립 동일 분포를 따른다 (independetn and identically distributed - iid)\n",
    " - 표본수가 약 50개 이상 2000개 미만인 데이터셋에 적합 (2000개 이상인 경우 Kolmogorov-Smirnova test 사용)\n",
    " - 샤피로는 꽤 보수적이기 때문에 히스토그램, 분위수 그래프 함께 사용 권장\n",
    " - $ H_0 $ : 귀무가설은 정규분포를 따른다\n",
    " - P-value 가 0.05보다 높다면 정규분포를 따른다고 가정한다 (이후 t-test 가능)\n"
   ]
  },
  {
   "cell_type": "code",
   "execution_count": 76,
   "metadata": {},
   "outputs": [
    {
     "name": "stdout",
     "output_type": "stream",
     "text": [
      "uniform data | 통계치: 0.97 | p-value:0.01300 | 정규분포?: False\n",
      "normal data  | 통계치: 0.99 | p-value:0.50183 | 정규분포?: True\n"
     ]
    },
    {
     "data": {
      "text/plain": [
       "<matplotlib.legend.Legend at 0x7ffa2e0f16d8>"
      ]
     },
     "execution_count": 76,
     "metadata": {},
     "output_type": "execute_result"
    },
    {
     "data": {
      "image/png": "[encoded data removed]",
      "text/plain": [
       "<matplotlib.figure.Figure at 0x7ffa2e3ea080>"
      ]
     },
     "metadata": {
      "needs_background": "light"
     },
     "output_type": "display_data"
    }
   ],
   "source": [
    "from scipy.stats import shapiro\n",
    " \n",
    "uniform = np.random.random(size=100) * 3.5 + 120\n",
    "normal = np.random.normal(loc=120, scale=1, size=100)\n",
    "\n",
    "stat1, p1 = shapiro(uniform)\n",
    "stat2, p2 = shapiro(normal)\n",
    "\n",
    "print(f'uniform data | 통계치: {stat1:.2f} | p-value:{p1:.5f} | 정규분포?: {p1 > 0.05}')\n",
    "print(f'normal data  | 통계치: {stat2:.2f} | p-value:{p2:.5f} | 정규분포?: {p2 > 0.05}')\n",
    "\n",
    "sns.distplot(uniform, label='uniform')\n",
    "sns.distplot(normal, label='normal')\n",
    "legend()"
   ]
  },
  {
   "cell_type": "markdown",
   "metadata": {},
   "source": [
    "## D'Agostino's K^2 Test\n",
    " \n",
    " - 디아고스티노 검정 \n",
    " - 각 샘플안의 관측치는 독립 동일 분포를 따른다 (independetn and identically distributed - iid)\n",
    " - $ H_0 $: 귀무가설은 정규분포를 따른다\n",
    " - $ H_1 $: 대립가설은 정규분포를 따르지 않는다"
   ]
  },
  {
   "cell_type": "code",
   "execution_count": 75,
   "metadata": {},
   "outputs": [
    {
     "name": "stdout",
     "output_type": "stream",
     "text": [
      "uniform data | 통계치: 45.64 | p-value:0.00000 | 정규분포?: False\n",
      "normal data  | 통계치: 0.82 | p-value:0.66292 | 정규분포?: True\n"
     ]
    }
   ],
   "source": [
    "from scipy.stats import normaltest\n",
    "\n",
    "uniform = np.random.random(size=100) * 3.5 + 120\n",
    "normal = np.random.normal(loc=120, scale=1, size=100)\n",
    "\n",
    "stat1, p1 = normaltest(uniform)\n",
    "stat2, p2 = normaltest(normal)\n",
    "\n",
    "print(f'uniform data | 통계치: {stat1:.2f} | p-value:{p1:.5f} | 정규분포?: {p1 > 0.05}')\n",
    "print(f'normal data  | 통계치: {stat2:.2f} | p-value:{p2:.5f} | 정규분포?: {p2 > 0.05}')"
   ]
  },
  {
   "cell_type": "markdown",
   "metadata": {},
   "source": [
    "## Anderson-Darling Test\n",
    "\n",
    " - 각 샘플안의 관측치는 독립 동일 분포를 따른다 (independetn and identically distributed - iid)\n",
    " - $ H_0 $: 귀무가설은 정규분포를 따른다\n",
    " - $ H_1 $: 대립가설은 정규분포를 따르지 않는다"
   ]
  },
  {
   "cell_type": "code",
   "execution_count": 17,
   "metadata": {},
   "outputs": [
    {
     "name": "stdout",
     "output_type": "stream",
     "text": [
      "[r1] statistic: 1.64 | significance_level: [15.  10.   5.   2.5  1. ]\n",
      "[r2] statistic: 0.22 | significance_level: [15.  10.   5.   2.5  1. ]\n"
     ]
    }
   ],
   "source": [
    "from scipy.stats import anderson\n",
    "\n",
    "uniform = np.random.random(size=100) * 3.5 + 120\n",
    "normal = np.random.normal(loc=120, scale=1, size=100)\n",
    "\n",
    "r1 = anderson(uniform)\n",
    "r2 = anderson(normal)\n",
    "\n",
    "print(f'[r1] statistic:{r1.statistic:5.2f} | significance_level: {r1.significance_level}')\n",
    "print(f'[r2] statistic:{r2.statistic:5.2f} | significance_level: {r2.significance_level}')"
   ]
  },
  {
   "cell_type": "markdown",
   "metadata": {},
   "source": [
    "# Parametric Test\n",
    "\n",
    "1. 표본의 갯수가 30개 이상이면 parametric test (모수적 검정)을 하면 됩니다. \n",
    "2. 표본의 갯수가 10개이상 30개 미만이면서, 정규성 검정을 통과한다면 모수적 검정을 사용할수 있습니다. (실패하면 비모수적 검정사용)\n",
    "3. 표본의 갯수가 10개미만이라면 non-parametric test (비모수적 검정)을 진행합니다."
   ]
  },
  {
   "cell_type": "markdown",
   "metadata": {},
   "source": [
    "## T-Test\n",
    "\n",
    "\n",
    "- 단일표본 T 검정\n",
    "- 모집단의 표준편차 $ \\sigma $ 를 모를때 사용. (표준오차 $ \\frac{s}{\\sqrt{n}} $ 를  대신 사용)\n",
    "- 2개의 집단에 대한 평균의 차이를 검정한다 (3개 이상인 경우 ANOVA 검정을 한다) \n",
    "- 종속 변수는 continuous variable이어야 한다. \n",
    "- 관측치는 모두 독립적이어야 한다\n",
    "- outlier 제거 필수\n",
    "\n",
    "### One-Sample T-Test \n",
    "\n",
    "- 표본이 하나일 때, 모집단의 평균과 표본집단의 평균 사이에 차이가 있는지 검정한다 <br>(사실 여기서 모집단은 어떤 값과 비교한다고 생각해도 된다 - ex. 전년도 판매 평균가와 금년도 판매 평균가)\n",
    "- $ H_0: u_0 = u_1 $ : 귀무가설은 두 그룹의 평균의 차이는 없다\n",
    "- $ H_1 $ : 대립가설은 one-tail 이냐 또는 two-tail 이냐에 따라서 달라집니다. \n",
    "  - one-tail: $ H_1: u_0 > u_1 $ 또는 $ H_1: u_0 < u_1 $\n",
    "  - two-tail: $ H_1: u_0 \\ne u_1 $\n",
    " \n",
    "공식은 아래와 같습니다. \n",
    "\n",
    "$$ t = \\frac{\\bar{x} - \\mu}{\\frac{s}{\\sqrt{n}}} $$\n",
    "\n",
    "\n",
    "degrees of freedom은 다음과 같습니다. \n",
    "\n",
    "$$ \\text{df} = n-1  $$\n",
    "\n"
   ]
  },
  {
   "cell_type": "markdown",
   "metadata": {},
   "source": [
    "**Scipy** \n",
    "\n",
    "scipy에서는 [ttest_1samp](https://docs.scipy.org/doc/scipy-0.14.0/reference/generated/scipy.stats.ttest_1samp.html) 함수를 사용할 수 있습니다. <br>\n",
    "다만 ttest_1samp 함수는 two-tailed test입니다. <br>\n",
    "따라서 one-tailed test를 사용하기 위해서는 p-value값을 2로 나눠줘야 합니다. \n",
    "\n",
    "> **scipy.stats.ttest_1samp**<br>\n",
    "> This is a two-sided test for the null hypothesis that the expected value (mean) of a sample of independent observations a is equal to the given population mean, popmean.\n"
   ]
  },
  {
   "cell_type": "code",
   "execution_count": 318,
   "metadata": {},
   "outputs": [
    {
     "name": "stdout",
     "output_type": "stream",
     "text": [
      "x1 mean:120.75 | t:   1.6705 | p-value:0.047720337\n",
      "x2 mean: 48.35 | t:  -3.7825 | p-value:0.000087041\n",
      "x3 mean: 50.29 | t: 116.3980 | p-value:0.000000000\n",
      "\n",
      "[t1] 귀무가설을 기각 | 120 보다 크다\n"
     ]
    }
   ],
   "source": [
    "from scipy.stats import ttest_1samp\n",
    "np.random.seed(0)\n",
    "\n",
    "x1 = np.random.normal(loc=121, scale=10, size=500)\n",
    "x2 = np.random.normal(loc=49, scale=10, size=500)\n",
    "x3 = np.random.normal(loc=50, scale=10, size=500)\n",
    "\n",
    "t1 = ttest_1samp(x1, 120)\n",
    "t2 = ttest_1samp(x2, 50)\n",
    "t3 = ttest_1samp(x3, 0)\n",
    "\n",
    "# Visualization\n",
    "print(f'x1 mean:{x1.mean():6.2f} | t:{t1.statistic:9.4f} | p-value:{t1.pvalue/2:.9f}')\n",
    "print(f'x2 mean:{x2.mean():6.2f} | t:{t2.statistic:9.4f} | p-value:{t2.pvalue/2:.9f}')\n",
    "print(f'x3 mean:{x3.mean():6.2f} | t:{t3.statistic:9.4f} | p-value:{t3.pvalue/2:.9f}')\n",
    "\n",
    "\n",
    "\n",
    "def result_bigger(t, popmean, name='t1'):    \n",
    "    # One-tailed Test, 120보다 큰가\n",
    "    if (t1.statistic > 0) & (t1.pvalue/2 < 0.05):\n",
    "        print(f'[{name}] 귀무가설을 기각 | {popmean} 보다 크다')\n",
    "    else:\n",
    "        print(f'[{name}] 귀무가설을 인정 | 동일하다')\n",
    "\n",
    "def result_less(t, popmean, name='t1'):    \n",
    "    # One-tailed Test, 120보다 큰가\n",
    "    if (t1.statistic < 0) & (t1.pvalue/2 < 0.05):\n",
    "        print(f'[{name}] 귀무가설을 기각 | {popmean} 보다 크다')\n",
    "    else:\n",
    "        print(f'[{name}] 귀무가설을 인정 | 동일하다')\n",
    "        \n",
    "print()\n",
    "result_bigger(t1, 120, 't1')"
   ]
  },
  {
   "cell_type": "markdown",
   "metadata": {},
   "source": [
    "**직접 만들어서 사용**"
   ]
  },
  {
   "cell_type": "code",
   "execution_count": 277,
   "metadata": {},
   "outputs": [
    {
     "data": {
      "text/html": [
       "<div>\n",
       "<style scoped>\n",
       "    .dataframe tbody tr th:only-of-type {\n",
       "        vertical-align: middle;\n",
       "    }\n",
       "\n",
       "    .dataframe tbody tr th {\n",
       "        vertical-align: top;\n",
       "    }\n",
       "\n",
       "    .dataframe thead th {\n",
       "        text-align: right;\n",
       "    }\n",
       "</style>\n",
       "<table border=\"1\" class=\"dataframe\">\n",
       "  <thead>\n",
       "    <tr style=\"text-align: right;\">\n",
       "      <th></th>\n",
       "      <th>t-statistic</th>\n",
       "      <th>std_err</th>\n",
       "      <th>critical-value</th>\n",
       "      <th>p-value</th>\n",
       "      <th>is_equal</th>\n",
       "    </tr>\n",
       "  </thead>\n",
       "  <tbody>\n",
       "    <tr>\n",
       "      <td>0</td>\n",
       "      <td>0.590428</td>\n",
       "      <td>0.506480</td>\n",
       "      <td>1.660391</td>\n",
       "      <td>0.278124</td>\n",
       "      <td>1.0</td>\n",
       "    </tr>\n",
       "    <tr>\n",
       "      <td>1</td>\n",
       "      <td>1.750328</td>\n",
       "      <td>1.039879</td>\n",
       "      <td>1.660391</td>\n",
       "      <td>0.041580</td>\n",
       "      <td>0.0</td>\n",
       "    </tr>\n",
       "    <tr>\n",
       "      <td>2</td>\n",
       "      <td>51.638533</td>\n",
       "      <td>0.956799</td>\n",
       "      <td>1.660391</td>\n",
       "      <td>0.000000</td>\n",
       "      <td>0.0</td>\n",
       "    </tr>\n",
       "  </tbody>\n",
       "</table>\n",
       "</div>"
      ],
      "text/plain": [
       "   t-statistic   std_err  critical-value   p-value  is_equal\n",
       "0     0.590428  0.506480        1.660391  0.278124       1.0\n",
       "1     1.750328  1.039879        1.660391  0.041580       0.0\n",
       "2    51.638533  0.956799        1.660391  0.000000       0.0"
      ]
     },
     "execution_count": 277,
     "metadata": {},
     "output_type": "execute_result"
    }
   ],
   "source": [
    "from scipy.stats import t\n",
    "\n",
    "\n",
    "def my_ttest_1sample(x, population_mean, alpha=0.05):\n",
    "    # Set degrees of freedom\n",
    "    df = len(x) - 1\n",
    "\n",
    "    # Calculate Standard Error\n",
    "    std_error = np.std(x)/np.sqrt(df)\n",
    "    t_statistic = (x.mean() - population_mean)/std_error\n",
    "\n",
    "    # Find critical value\n",
    "    critical_value = t.ppf(1.0 - alpha, df)\n",
    "\n",
    "    # Calculate p-value\n",
    "    p = (1 - t.cdf(abs(t_statistic), df))\n",
    "\n",
    "    is_equal = abs(t_statistic) <= critical_value\n",
    "\n",
    "    return t_statistic, std_error, critical_value, p, is_equal\n",
    "\n",
    "\n",
    "t1 = my_ttest_1sample(x1, 120)\n",
    "t2 = my_ttest_1sample(x2, 49)\n",
    "t3 = my_ttest_1sample(x3, 0)\n",
    "\n",
    "\n",
    "# Visualization\n",
    "df = pd.DataFrame(np.array([t1, t2, t3]),\n",
    "                  columns=['t-statistic', 'std_err', 'critical-value', 'p-value', 'is_equal'])\n",
    "df"
   ]
  }
 ],
 "metadata": {
  "kernelspec": {
   "display_name": "Python 3",
   "language": "python",
   "name": "python3"
  },
  "language_info": {
   "codemirror_mode": {
    "name": "ipython",
    "version": 3
   },
   "file_extension": ".py",
   "mimetype": "text/x-python",
   "name": "python",
   "nbconvert_exporter": "python",
   "pygments_lexer": "ipython3",
   "version": "3.6.7"
  },
  "toc": {
   "base_numbering": 1,
   "nav_menu": {},
   "number_sections": true,
   "sideBar": true,
   "skip_h1_title": false,
   "title_cell": "Table of Contents",
   "title_sidebar": "Contents",
   "toc_cell": false,
   "toc_position": {},
   "toc_section_display": true,
   "toc_window_display": false
  }
 },
 "nbformat": 4,
 "nbformat_minor": 2
}
