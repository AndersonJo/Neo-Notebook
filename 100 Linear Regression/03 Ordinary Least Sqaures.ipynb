{
 "cells": [
  {
   "cell_type": "code",
   "execution_count": 1,
   "metadata": {},
   "outputs": [
    {
     "name": "stdout",
     "output_type": "stream",
     "text": [
      "Populating the interactive namespace from numpy and matplotlib\n"
     ]
    }
   ],
   "source": [
    "%pylab inline\n",
    "\n",
    "import numpy as np\n",
    "import pandas as pd\n",
    "import statsmodels.api as sm\n",
    "import matplotlib.pyplot as plt\n",
    "\n",
    "from sklearn.metrics import mean_squared_error\n",
    "from sklearn.preprocessing import StandardScaler, MinMaxScaler\n",
    "\n",
    "from IPython.display import display"
   ]
  },
  {
   "cell_type": "markdown",
   "metadata": {},
   "source": [
    "# Example Data\n",
    "\n",
    "\n",
    "각 학생별 퀴즈를 풀기위해 투입한 시간대비, 퀴즈성적은 다음과 같습니다.\n",
    "\n",
    "| 학생 | 공부한 시간 | 퀴즈 점수 | \n",
    "|:----|:----------|:--------|\n",
    "| 창민 | 5         | 66 |\n",
    "| 윤서 | 15        | 87 |\n",
    "| 정아 | 25        | 90 |"
   ]
  },
  {
   "cell_type": "markdown",
   "metadata": {},
   "source": [
    "# Regression Model\n",
    "\n",
    "$$ y_i = \\beta_{const} + \\beta_1 x_1 + \\beta_2 x_2 + ... + \\beta_k x_k + e_i $$\n",
    " \n",
    " \n",
    "예를 들어 학생별 공부한 시간대비 퀴즈 성적표를 데이터로 쓴다면 다음과 같습니다.\n",
    "\n",
    " * $ \\hat{y} $ : 퀴즈 점수\n",
    " * $ x $ : 공부한 시간 \n",
    " * $ e_i $ : error term\n",
    " * $ \\beta_{const} $ : y-intercept를 나타내며, 학생이 수업에 나오기만 해도 주는 점수라고 보면 됩니다.\n",
    " * $ \\beta_i $ : 각 학생이 공부한 시간에 따른 추가적인 점수\n",
    " \n",
    "\n",
    "### Error Term\n",
    "\n",
    "Error Term은 random influences를 나타냅니다. <br>\n",
    "$$ \\begin{align}\n",
    "e &= y -  \\hat{y}    \\\\\n",
    "y &= \\hat{y} + e \n",
    "\\end{align} $$\n",
    "\n",
    "\n"
   ]
  },
  {
   "cell_type": "markdown",
   "metadata": {},
   "source": [
    "# Least Squares Estimation\n",
    "\n",
    "일단 y값은 데이터이기 때문에 어떤 값인지 알고 있지만, parameters $ \\beta $ 값들은 모르기 때문에, 알기 위해서는 어떠한 방법으로 estimate해줘야 합니다.<br>\n",
    "가장 흔하게 쓰이는 방법은 SSE (Sum of the Squared Error)입니다.\n",
    "\n",
    "$$ SSE = \\sum^N_{i=1} e^2_i = \\sum^N_{i=1} (y_i - \\hat{y}_i)^2 $$\n",
    "\n",
    "\n",
    "Least sqaures estimation을 calculus로 미분하면 다음과 같은 결과가 나옵니다.\n",
    "\n",
    "$$ \\hat{\\beta}_1=\\frac{ \\sum_{i=1}^{N}(y_i-\\bar{y})(x_i-\\bar{x})}{\\sum_{i=1}^{N}(x_i-\\bar{x})^2} $$ \n",
    "\n",
    "그리고.. \n",
    "\n",
    "$$ \\hat{\\beta}_0=\\bar{y}-\\hat{\\beta}_1\\bar{x} $$ \n",
    "\n",
    "\n",
    "Derivation하는 방법은 다음의 문서를 참고합니다.\n",
    "* [Simple Linear Regression Least Squares Estimates of β0 and β1](https://www.amherst.edu/system/files/media/1287/SLR_Leastsquares.pdf)\n",
    "* [The Mathematical Derivation of Least Squares](https://isites.harvard.edu/fs/docs/icb.topic515975.files/OLSDerivation.pdf)"
   ]
  },
  {
   "cell_type": "markdown",
   "metadata": {},
   "source": [
    "## Data"
   ]
  },
  {
   "cell_type": "code",
   "execution_count": 2,
   "metadata": {},
   "outputs": [],
   "source": [
    "data = np.loadtxt('ex1data1.csv', delimiter=',')\n",
    "scaler = StandardScaler()\n",
    "data = scaler.fit_transform(data)"
   ]
  },
  {
   "cell_type": "code",
   "execution_count": 3,
   "metadata": {},
   "outputs": [
    {
     "data": {
      "text/plain": [
       "Text(0, 0.5, 'Profit in $10,000s')"
      ]
     },
     "execution_count": 3,
     "metadata": {},
     "output_type": "execute_result"
    },
    {
     "data": {
      "image/png": "[encoded data removed]",
      "text/plain": [
       "<Figure size 432x288 with 1 Axes>"
      ]
     },
     "metadata": {
      "needs_background": "light"
     },
     "output_type": "display_data"
    }
   ],
   "source": [
    "scatter(data[:, 0], data[:, 1])\n",
    "title('Profits distribution')\n",
    "xlabel('Population of City in 10,000s')\n",
    "ylabel('Profit in $10,000s')"
   ]
  },
  {
   "cell_type": "markdown",
   "metadata": {},
   "source": [
    "## Numpy Code"
   ]
  },
  {
   "cell_type": "code",
   "execution_count": 4,
   "metadata": {},
   "outputs": [],
   "source": [
    "def least_square_estimate(x, y):\n",
    "    x_mean, y_mean = x.mean(), y.mean()\n",
    "    w = np.zeros(2)\n",
    "    \n",
    "    w[1] = np.sum((y - y_mean) * (x - x_mean))/ np.sum((x - x_mean)**2)\n",
    "    w[0] = y_mean - w[1] * x_mean\n",
    "    return w\n",
    "\n",
    "def ls_predict(w, x):\n",
    "    return w[0] + w[1:].dot([x])\n",
    "\n",
    "def visualize(B, x, y_true, y_pred):\n",
    "    print('bias:', B[0])\n",
    "    print('beta:', B[1])\n",
    "    \n",
    "    scatter(x, y_true)\n",
    "    plot(x, y_pred, color='red')\n",
    "\n",
    "w = least_square_estimate(data[:, 0], data[:, 1])"
   ]
  },
  {
   "cell_type": "code",
   "execution_count": 5,
   "metadata": {},
   "outputs": [
    {
     "name": "stdout",
     "output_type": "stream",
     "text": [
      "bias: 8.460986092809687e-16\n",
      "beta: 0.8378732325263409\n"
     ]
    },
    {
     "data": {
      "image/png": "[encoded data removed]",
      "text/plain": [
       "<Figure size 432x288 with 1 Axes>"
      ]
     },
     "metadata": {
      "needs_background": "light"
     },
     "output_type": "display_data"
    }
   ],
   "source": [
    "y_pred = ls_predict(w, data[:, 0])\n",
    "visualize(w, data[:, 0], data[:, 1], y_pred)"
   ]
  },
  {
   "cell_type": "markdown",
   "metadata": {},
   "source": [
    "##  Numpy - Using Matrix"
   ]
  },
  {
   "cell_type": "code",
   "execution_count": 6,
   "metadata": {},
   "outputs": [],
   "source": [
    "def least_square_with_matrix(x, y):\n",
    "    x = sm.add_constant(x)\n",
    "    \n",
    "    a = np.linalg.inv(x.T @ x)\n",
    "    b = x.T @ y\n",
    "    B = a @ b\n",
    "    return B\n",
    "\n",
    "def predict(B, x):\n",
    "    x = sm.add_constant(x)\n",
    "    return x @ B\n",
    "\n",
    "w = least_square_estimate(data[:, 0], data[:, 1])"
   ]
  },
  {
   "cell_type": "code",
   "execution_count": 7,
   "metadata": {},
   "outputs": [
    {
     "name": "stdout",
     "output_type": "stream",
     "text": [
      "bias: 8.460986092809687e-16\n",
      "beta: 0.8378732325263409\n"
     ]
    },
    {
     "data": {
      "image/png": "[encoded data removed]",
      "text/plain": [
       "<Figure size 432x288 with 1 Axes>"
      ]
     },
     "metadata": {
      "needs_background": "light"
     },
     "output_type": "display_data"
    }
   ],
   "source": [
    "y_pred = ls_predict(w, data[:, 0])\n",
    "visualize(w, data[:, 0], data[:, 1], y_pred)"
   ]
  },
  {
   "cell_type": "markdown",
   "metadata": {},
   "source": [
    "## Numpy - Using Linalg"
   ]
  },
  {
   "cell_type": "code",
   "execution_count": 8,
   "metadata": {},
   "outputs": [
    {
     "name": "stdout",
     "output_type": "stream",
     "text": [
      "bias: 8.460986092809687e-16\n",
      "beta: 0.8378732325263409\n"
     ]
    },
    {
     "name": "stderr",
     "output_type": "stream",
     "text": [
      "<ipython-input-8-b38473de6076>:1: FutureWarning: `rcond` parameter will change to the default of machine precision times ``max(M, N)`` where M and N are the input matrix dimensions.\n",
      "To use the future default and silence this warning we advise to pass `rcond=None`, to keep using the old, explicitly pass `rcond=-1`.\n",
      "  B = np.linalg.lstsq(\n"
     ]
    },
    {
     "data": {
      "image/png": "[encoded data removed]",
      "text/plain": [
       "<Figure size 432x288 with 1 Axes>"
      ]
     },
     "metadata": {
      "needs_background": "light"
     },
     "output_type": "display_data"
    }
   ],
   "source": [
    "B = np.linalg.lstsq(\n",
    "        sm.add_constant(data[:, 0].reshape(-1, 1)),\n",
    "        data[:, 1].reshape(-1, 1), )[0]\n",
    "\n",
    "visualize(w, data[:, 0], data[:, 1], y_pred)"
   ]
  },
  {
   "cell_type": "markdown",
   "metadata": {},
   "source": [
    "## Statsmodels OLS"
   ]
  },
  {
   "cell_type": "code",
   "execution_count": 9,
   "metadata": {},
   "outputs": [
    {
     "data": {
      "text/html": [
       "<table class=\"simpletable\">\n",
       "<caption>OLS Regression Results</caption>\n",
       "<tr>\n",
       "  <th>Dep. Variable:</th>            <td>y</td>        <th>  R-squared:         </th> <td>   0.702</td>\n",
       "</tr>\n",
       "<tr>\n",
       "  <th>Model:</th>                   <td>OLS</td>       <th>  Adj. R-squared:    </th> <td>   0.699</td>\n",
       "</tr>\n",
       "<tr>\n",
       "  <th>Method:</th>             <td>Least Squares</td>  <th>  F-statistic:       </th> <td>   223.8</td>\n",
       "</tr>\n",
       "<tr>\n",
       "  <th>Date:</th>             <td>Mon, 21 Jun 2021</td> <th>  Prob (F-statistic):</th> <td>1.02e-26</td>\n",
       "</tr>\n",
       "<tr>\n",
       "  <th>Time:</th>                 <td>16:57:56</td>     <th>  Log-Likelihood:    </th> <td> -78.915</td>\n",
       "</tr>\n",
       "<tr>\n",
       "  <th>No. Observations:</th>      <td>    97</td>      <th>  AIC:               </th> <td>   161.8</td>\n",
       "</tr>\n",
       "<tr>\n",
       "  <th>Df Residuals:</th>          <td>    95</td>      <th>  BIC:               </th> <td>   167.0</td>\n",
       "</tr>\n",
       "<tr>\n",
       "  <th>Df Model:</th>              <td>     1</td>      <th>                     </th>     <td> </td>   \n",
       "</tr>\n",
       "<tr>\n",
       "  <th>Covariance Type:</th>      <td>nonrobust</td>    <th>                     </th>     <td> </td>   \n",
       "</tr>\n",
       "</table>\n",
       "<table class=\"simpletable\">\n",
       "<tr>\n",
       "    <td></td>       <th>coef</th>     <th>std err</th>      <th>t</th>      <th>P>|t|</th>  <th>[0.025</th>    <th>0.975]</th>  \n",
       "</tr>\n",
       "<tr>\n",
       "  <th>const</th> <td> 3.053e-16</td> <td>    0.056</td> <td> 5.45e-15</td> <td> 1.000</td> <td>   -0.111</td> <td>    0.111</td>\n",
       "</tr>\n",
       "<tr>\n",
       "  <th>x1</th>    <td>    0.8379</td> <td>    0.056</td> <td>   14.961</td> <td> 0.000</td> <td>    0.727</td> <td>    0.949</td>\n",
       "</tr>\n",
       "</table>\n",
       "<table class=\"simpletable\">\n",
       "<tr>\n",
       "  <th>Omnibus:</th>       <td>39.986</td> <th>  Durbin-Watson:     </th> <td>   0.994</td>\n",
       "</tr>\n",
       "<tr>\n",
       "  <th>Prob(Omnibus):</th> <td> 0.000</td> <th>  Jarque-Bera (JB):  </th> <td> 108.142</td>\n",
       "</tr>\n",
       "<tr>\n",
       "  <th>Skew:</th>          <td> 1.455</td> <th>  Prob(JB):          </th> <td>3.29e-24</td>\n",
       "</tr>\n",
       "<tr>\n",
       "  <th>Kurtosis:</th>      <td> 7.276</td> <th>  Cond. No.          </th> <td>    1.00</td>\n",
       "</tr>\n",
       "</table><br/><br/>Notes:<br/>[1] Standard Errors assume that the covariance matrix of the errors is correctly specified."
      ],
      "text/plain": [
       "<class 'statsmodels.iolib.summary.Summary'>\n",
       "\"\"\"\n",
       "                            OLS Regression Results                            \n",
       "==============================================================================\n",
       "Dep. Variable:                      y   R-squared:                       0.702\n",
       "Model:                            OLS   Adj. R-squared:                  0.699\n",
       "Method:                 Least Squares   F-statistic:                     223.8\n",
       "Date:                Mon, 21 Jun 2021   Prob (F-statistic):           1.02e-26\n",
       "Time:                        16:57:56   Log-Likelihood:                -78.915\n",
       "No. Observations:                  97   AIC:                             161.8\n",
       "Df Residuals:                      95   BIC:                             167.0\n",
       "Df Model:                           1                                         \n",
       "Covariance Type:            nonrobust                                         \n",
       "==============================================================================\n",
       "                 coef    std err          t      P>|t|      [0.025      0.975]\n",
       "------------------------------------------------------------------------------\n",
       "const       3.053e-16      0.056   5.45e-15      1.000      -0.111       0.111\n",
       "x1             0.8379      0.056     14.961      0.000       0.727       0.949\n",
       "==============================================================================\n",
       "Omnibus:                       39.986   Durbin-Watson:                   0.994\n",
       "Prob(Omnibus):                  0.000   Jarque-Bera (JB):              108.142\n",
       "Skew:                           1.455   Prob(JB):                     3.29e-24\n",
       "Kurtosis:                       7.276   Cond. No.                         1.00\n",
       "==============================================================================\n",
       "\n",
       "Notes:\n",
       "[1] Standard Errors assume that the covariance matrix of the errors is correctly specified.\n",
       "\"\"\""
      ]
     },
     "metadata": {},
     "output_type": "display_data"
    }
   ],
   "source": [
    "ols = sm.OLS(data[:, 1], sm.add_constant(data[:, 0]))\n",
    "\n",
    "ols = ols.fit()\n",
    "display(ols.summary())"
   ]
  },
  {
   "cell_type": "code",
   "execution_count": 10,
   "metadata": {},
   "outputs": [
    {
     "name": "stdout",
     "output_type": "stream",
     "text": [
      "bias: 3.0531133177191805e-16\n",
      "beta: 0.8378732325263407\n"
     ]
    },
    {
     "data": {
      "image/png": "[encoded data removed]",
      "text/plain": [
       "<Figure size 432x288 with 1 Axes>"
      ]
     },
     "metadata": {
      "needs_background": "light"
     },
     "output_type": "display_data"
    }
   ],
   "source": [
    "y_pred = ols.predict(sm.add_constant(data[:, 0]))\n",
    "visualize(ols.params, data[:, 0], data[:, 1], y_pred)"
   ]
  },
  {
   "cell_type": "markdown",
   "metadata": {},
   "source": [
    "# Multiple Regression with Matrix (Least Squares Estimation)\n",
    "\n",
    " * [The Multiple Regression](https://isites.harvard.edu/fs/docs/icb.topic515975.files/OLSDerivation.pdf) 중간부분..\n",
    " * [참고](https://onlinecourses.science.psu.edu/stat501/node/382)\n",
    "\n",
    "\n",
    "오직 한개의 independent variable을 갖고서 예측하는 일은 사실.. 매우 드뭅니다. <br>\n",
    "일반적으로 여러개의 independent variables을 갖고서 한개의 dependent variable을 예측을 하게 됩니다.<br>\n",
    "Matrix를 사용한 아주 기본적인 (위의 공식) OLS Regression equation 은 다음과 같습니다.\n",
    "\n",
    "$$ \\begin{bmatrix} y_1 \\\\ y_2 \\\\ ... \\\\ y_n \\end{bmatrix} = \n",
    "\\begin{bmatrix} 1 & x_11 & ... & x_1k \\\\ 1 & x_21 & ... & x_2k \\\\ ... & ... & ... & ... \\\\ 1 & x_n1 & ... & x_nk \\end{bmatrix}\n",
    "\\begin{bmatrix} \\beta_1 \\\\ \\beta_0 \\\\ ... \\\\ \\beta_k \\end{bmatrix} + \n",
    "\\begin{bmatrix} e_1 \\\\ e_0 \\\\ ... \\\\ e_k \\end{bmatrix}\n",
    "$$\n",
    "\n",
    "위의 Matrix로 표현될부분을 linear algebra로 다음과 같이 표현될 수 있습니다. \n",
    "\n",
    "\n",
    "$$ \\mathbf{Y} = \\mathbf{X} \\mathbf{B} + \\mathbf{e} $$\n",
    "\n",
    "* $ \\mathbf{Y} $: N x 1 형태\n",
    "* $ \\mathbf{X} $: N x (k + 1) 형태이며, 첫번째 컬럼은 1로만 구성\n",
    "* $ \\mathbf{B} $: (k + 1) x 1 형태이며, regression constant와 coefficients를 갖고 있음\n",
    "* $ \\mathbf{e} $ : N x 1 형태이며, 예측 에러값을 포함\n",
    "\n",
    "### Sum of the Squared Estimation with Matrix\n",
    "\n",
    "다음의 loss값을 최소로하는 $ \\mathbf{B} $ 를 찾는것이 목표입니다.<br>\n",
    "SSE는 모든 에러값의 제곱의 합이라고 보면 됩니다. 따라서 $ \\mathbf{e} $ 를 제곱한것의 합이기 때문에 다음과 같습니다.\n",
    "\n",
    "$$ SSE = \\sum E^2_i = \\mathbf{e}^{\\prime} \\mathbf{e} $$\n",
    "\n",
    "SSE의 중요한 점은 오른쪽 수식을 풀었을때의 답은 scalar값이 나옵니다. <br>\n",
    "$ \\mathbf{B} $ matrix에 관하여 SSE의 미분을 구하고자 한다면 먼저 $ \\mathbf{e} $의 값을 풀어써야 합니다.\n",
    "\n",
    "$$ \\mathbf{e} = \\mathbf{Y} - \\mathbf{X}\\mathbf{B} $$ \n",
    "\n",
    "여기서 SSE의 오른쪽 공식에 대입하면 다음과 같이 됩니다.\n",
    "\n",
    "$$ SSE = (\\mathbf{Y} - \\mathbf{X}\\mathbf{B})^{\\prime} (\\mathbf{Y} - \\mathbf{X}\\mathbf{B}) $$\n",
    "\n",
    "transposition $ \\prime $ 은 아래와 같이 distribute될 수 있습니다.\n",
    "\n",
    "$$ \\begin{align}\n",
    "SSE &= (\\mathbf{Y}^{\\prime} - \\mathbf{B}^{\\prime}\\mathbf{X}^{\\prime}) (\\mathbf{Y} - \\mathbf{X}\\mathbf{B}) \\\\\n",
    "    &= \\mathbf{Y}^{\\prime}\\mathbf{Y} - \n",
    "          \\mathbf{Y}^{\\prime} \\mathbf{X} \\mathbf{B} - \n",
    "          \\mathbf{B}^{\\prime} \\mathbf{X}^{\\prime} \\mathbf{Y} +\n",
    "          \\mathbf{B}^{\\prime}\\mathbf{X}^{\\prime} \\mathbf{X}\\mathbf{B}\n",
    "\\end{align} $$ \n",
    "\n",
    "여기서 중간의 2개의 terms $ \\mathbf{Y}^{\\prime} \\mathbf{X} \\mathbf{B} $  그리고 $ \\mathbf{B}^{\\prime} \\mathbf{X}^{\\prime} \\mathbf{Y} $ 은 동일한 scalar값을 각각 내놓습니다. <br>\n",
    "scalar값을 내놓은 다는것은 transpose를 해도 동일하다는 뜻입니다. (1 x 1 매트릭스같을수도 있겠죠)<br>\n",
    "즉.. $ \\mathbf{Y}^{\\prime} \\mathbf{X} \\mathbf{B} = \\mathbf{B}^{\\prime} \\mathbf{X}^{\\prime} \\mathbf{Y} $\n",
    "는 transpose를 한쪽에 하면 동일해지기 때문에 이런 공식으로 쓸수 있습니다.\n",
    "\n",
    "\n",
    "$$ SSE = \\mathbf{Y}^{\\prime}\\mathbf{Y}  -\n",
    "         2 \\mathbf{Y}^{\\prime} \\mathbf{X} \\mathbf{B} + \n",
    "         \\mathbf{B}^{\\prime} \\mathbf{X}^{\\prime} \\mathbf{X} \\mathbf{B}\n",
    "$$\n"
   ]
  },
  {
   "cell_type": "markdown",
   "metadata": {},
   "source": [
    "### Derivative of SSE\n",
    "\n",
    "$$ \\frac{\\partial SSE}{\\partial \\mathbf{B}} = \\frac{\\partial}{\\partial \\mathbf{B}}\n",
    "         ( \\mathbf{Y}^{\\prime}\\mathbf{Y}  -\n",
    "         2 \\mathbf{Y}^{\\prime} \\mathbf{X} \\mathbf{B} + \n",
    "         \\mathbf{B}^{\\prime} \\mathbf{X}^{\\prime} \\mathbf{X} \\mathbf{B})\n",
    "$$ \n",
    "\n",
    "일단 $ \\mathbf{B} $를 제외한 모든 matrix들은 모두 상수로 여깁니다. $ \\left( \\frac{d}{dx}c = 0 \\right) $ <br>\n",
    "따라서 첫번째 구문 $ \\mathbf{Y}^{\\prime}\\mathbf{Y} $ 그냥 0이 됩니다.\n",
    "\n",
    "중간부분 $ - 2 \\mathbf{Y}^{\\prime} \\mathbf{X} \\mathbf{B} $ 에서 $ \\mathbf{B} $는 없어지고, 나머지 남아있는 matrix에 transpose를 해주면 됩니다. <br>\n",
    "따라서 $ -2 \\mathbf{X}^{\\prime} \\mathbf{Y} $ 가 됩니다.\n",
    "\n",
    "\n",
    "$$ \\frac{\\partial SSE}{\\partial \\mathbf{B}} = -2 \\mathbf{X}^{\\prime} \\mathbf{Y} + \n",
    "    2 \\mathbf{X}^{\\prime} \\mathbf{X} \\mathbf{B} $$\n",
    "    \n",
    "    \n",
    "그 다음 해줄것은 위에서 구한 식을 0값으로 놓고, $ \\mathbf{B} $ 를 구하는 것입니다.\n",
    "\n",
    "$$ \\begin{align}\n",
    "0 &= - 2 \\mathbf{X}^{\\prime} \\mathbf{Y} +2 \\mathbf{X}^{\\prime} \\mathbf{X} \\mathbf{B} & [0] \\\\\n",
    " -2 \\mathbf{X}^{\\prime} \\mathbf{X} \\mathbf{B} &= -2 \\mathbf{X}^{\\prime} \\mathbf{Y} & [1] \\\\\n",
    " \\mathbf{X}^{\\prime} \\mathbf{X} \\mathbf{B} &= \\mathbf{X}^{\\prime} \\mathbf{Y} & [2] \\\\\n",
    " \\mathbf{B} &= (\\mathbf{X}^{\\prime} \\mathbf{X})^{-1} \\mathbf{X}^{\\prime} \\mathbf{Y} & [3]\n",
    "\\end{align} $$\n",
    "\n",
    "* [1]: 양변을 $ -2 \\mathbf{X}^{\\prime} \\mathbf{X} \\mathbf{B} $ 으로 뺌\n",
    "* [2]: 양변을 -2 로 나눠줌\n",
    "* [3]: 양변을 $ \\mathbf{X}^{\\prime} \\mathbf{X} $ 의 inverse인 $ (\\mathbf{X}^{\\prime} \\mathbf{X})^{-1} $ 로 곱해줍니다.  즉 양변을 $ \\mathbf{X}^{\\prime} \\mathbf{X} $ 으로 나누는 것과 동일합니다."
   ]
  },
  {
   "cell_type": "markdown",
   "metadata": {},
   "source": [
    "## Data"
   ]
  },
  {
   "cell_type": "code",
   "execution_count": 11,
   "metadata": {
    "scrolled": true
   },
   "outputs": [
    {
     "ename": "FileNotFoundError",
     "evalue": "[Errno 2] No such file or directory: '../../data/insurance/insurance.csv'",
     "output_type": "error",
     "traceback": [
      "\u001b[0;31m---------------------------------------------------------------------------\u001b[0m",
      "\u001b[0;31mFileNotFoundError\u001b[0m                         Traceback (most recent call last)",
      "\u001b[0;32m<ipython-input-11-60ea741a0cd0>\u001b[0m in \u001b[0;36m<module>\u001b[0;34m\u001b[0m\n\u001b[0;32m----> 1\u001b[0;31m \u001b[0mdata\u001b[0m \u001b[0;34m=\u001b[0m \u001b[0mpd\u001b[0m\u001b[0;34m.\u001b[0m\u001b[0mread_csv\u001b[0m\u001b[0;34m(\u001b[0m\u001b[0;34m'../../data/insurance/insurance.csv'\u001b[0m\u001b[0;34m)\u001b[0m\u001b[0;34m\u001b[0m\u001b[0;34m\u001b[0m\u001b[0m\n\u001b[0m\u001b[1;32m      2\u001b[0m \u001b[0mdata\u001b[0m \u001b[0;34m=\u001b[0m \u001b[0mpd\u001b[0m\u001b[0;34m.\u001b[0m\u001b[0mget_dummies\u001b[0m\u001b[0;34m(\u001b[0m\u001b[0mdata\u001b[0m\u001b[0;34m)\u001b[0m\u001b[0;34m\u001b[0m\u001b[0;34m\u001b[0m\u001b[0m\n\u001b[1;32m      3\u001b[0m \u001b[0mdisplay\u001b[0m\u001b[0;34m(\u001b[0m\u001b[0mdata\u001b[0m\u001b[0;34m.\u001b[0m\u001b[0mhead\u001b[0m\u001b[0;34m(\u001b[0m\u001b[0;34m)\u001b[0m\u001b[0;34m)\u001b[0m\u001b[0;34m\u001b[0m\u001b[0;34m\u001b[0m\u001b[0m\n\u001b[1;32m      4\u001b[0m \u001b[0;34m\u001b[0m\u001b[0m\n\u001b[1;32m      5\u001b[0m \u001b[0;31m# Split X and Y\u001b[0m\u001b[0;34m\u001b[0m\u001b[0;34m\u001b[0m\u001b[0;34m\u001b[0m\u001b[0m\n",
      "\u001b[0;32m~/zeta/lib/python3.8/site-packages/pandas/io/parsers.py\u001b[0m in \u001b[0;36mread_csv\u001b[0;34m(filepath_or_buffer, sep, delimiter, header, names, index_col, usecols, squeeze, prefix, mangle_dupe_cols, dtype, engine, converters, true_values, false_values, skipinitialspace, skiprows, skipfooter, nrows, na_values, keep_default_na, na_filter, verbose, skip_blank_lines, parse_dates, infer_datetime_format, keep_date_col, date_parser, dayfirst, cache_dates, iterator, chunksize, compression, thousands, decimal, lineterminator, quotechar, quoting, doublequote, escapechar, comment, encoding, dialect, error_bad_lines, warn_bad_lines, delim_whitespace, low_memory, memory_map, float_precision, storage_options)\u001b[0m\n\u001b[1;32m    608\u001b[0m     \u001b[0mkwds\u001b[0m\u001b[0;34m.\u001b[0m\u001b[0mupdate\u001b[0m\u001b[0;34m(\u001b[0m\u001b[0mkwds_defaults\u001b[0m\u001b[0;34m)\u001b[0m\u001b[0;34m\u001b[0m\u001b[0;34m\u001b[0m\u001b[0m\n\u001b[1;32m    609\u001b[0m \u001b[0;34m\u001b[0m\u001b[0m\n\u001b[0;32m--> 610\u001b[0;31m     \u001b[0;32mreturn\u001b[0m \u001b[0m_read\u001b[0m\u001b[0;34m(\u001b[0m\u001b[0mfilepath_or_buffer\u001b[0m\u001b[0;34m,\u001b[0m \u001b[0mkwds\u001b[0m\u001b[0;34m)\u001b[0m\u001b[0;34m\u001b[0m\u001b[0;34m\u001b[0m\u001b[0m\n\u001b[0m\u001b[1;32m    611\u001b[0m \u001b[0;34m\u001b[0m\u001b[0m\n\u001b[1;32m    612\u001b[0m \u001b[0;34m\u001b[0m\u001b[0m\n",
      "\u001b[0;32m~/zeta/lib/python3.8/site-packages/pandas/io/parsers.py\u001b[0m in \u001b[0;36m_read\u001b[0;34m(filepath_or_buffer, kwds)\u001b[0m\n\u001b[1;32m    460\u001b[0m \u001b[0;34m\u001b[0m\u001b[0m\n\u001b[1;32m    461\u001b[0m     \u001b[0;31m# Create the parser.\u001b[0m\u001b[0;34m\u001b[0m\u001b[0;34m\u001b[0m\u001b[0;34m\u001b[0m\u001b[0m\n\u001b[0;32m--> 462\u001b[0;31m     \u001b[0mparser\u001b[0m \u001b[0;34m=\u001b[0m \u001b[0mTextFileReader\u001b[0m\u001b[0;34m(\u001b[0m\u001b[0mfilepath_or_buffer\u001b[0m\u001b[0;34m,\u001b[0m \u001b[0;34m**\u001b[0m\u001b[0mkwds\u001b[0m\u001b[0;34m)\u001b[0m\u001b[0;34m\u001b[0m\u001b[0;34m\u001b[0m\u001b[0m\n\u001b[0m\u001b[1;32m    463\u001b[0m \u001b[0;34m\u001b[0m\u001b[0m\n\u001b[1;32m    464\u001b[0m     \u001b[0;32mif\u001b[0m \u001b[0mchunksize\u001b[0m \u001b[0;32mor\u001b[0m \u001b[0miterator\u001b[0m\u001b[0;34m:\u001b[0m\u001b[0;34m\u001b[0m\u001b[0;34m\u001b[0m\u001b[0m\n",
      "\u001b[0;32m~/zeta/lib/python3.8/site-packages/pandas/io/parsers.py\u001b[0m in \u001b[0;36m__init__\u001b[0;34m(self, f, engine, **kwds)\u001b[0m\n\u001b[1;32m    817\u001b[0m             \u001b[0mself\u001b[0m\u001b[0;34m.\u001b[0m\u001b[0moptions\u001b[0m\u001b[0;34m[\u001b[0m\u001b[0;34m\"has_index_names\"\u001b[0m\u001b[0;34m]\u001b[0m \u001b[0;34m=\u001b[0m \u001b[0mkwds\u001b[0m\u001b[0;34m[\u001b[0m\u001b[0;34m\"has_index_names\"\u001b[0m\u001b[0;34m]\u001b[0m\u001b[0;34m\u001b[0m\u001b[0;34m\u001b[0m\u001b[0m\n\u001b[1;32m    818\u001b[0m \u001b[0;34m\u001b[0m\u001b[0m\n\u001b[0;32m--> 819\u001b[0;31m         \u001b[0mself\u001b[0m\u001b[0;34m.\u001b[0m\u001b[0m_engine\u001b[0m \u001b[0;34m=\u001b[0m \u001b[0mself\u001b[0m\u001b[0;34m.\u001b[0m\u001b[0m_make_engine\u001b[0m\u001b[0;34m(\u001b[0m\u001b[0mself\u001b[0m\u001b[0;34m.\u001b[0m\u001b[0mengine\u001b[0m\u001b[0;34m)\u001b[0m\u001b[0;34m\u001b[0m\u001b[0;34m\u001b[0m\u001b[0m\n\u001b[0m\u001b[1;32m    820\u001b[0m \u001b[0;34m\u001b[0m\u001b[0m\n\u001b[1;32m    821\u001b[0m     \u001b[0;32mdef\u001b[0m \u001b[0mclose\u001b[0m\u001b[0;34m(\u001b[0m\u001b[0mself\u001b[0m\u001b[0;34m)\u001b[0m\u001b[0;34m:\u001b[0m\u001b[0;34m\u001b[0m\u001b[0;34m\u001b[0m\u001b[0m\n",
      "\u001b[0;32m~/zeta/lib/python3.8/site-packages/pandas/io/parsers.py\u001b[0m in \u001b[0;36m_make_engine\u001b[0;34m(self, engine)\u001b[0m\n\u001b[1;32m   1048\u001b[0m             )\n\u001b[1;32m   1049\u001b[0m         \u001b[0;31m# error: Too many arguments for \"ParserBase\"\u001b[0m\u001b[0;34m\u001b[0m\u001b[0;34m\u001b[0m\u001b[0;34m\u001b[0m\u001b[0m\n\u001b[0;32m-> 1050\u001b[0;31m         \u001b[0;32mreturn\u001b[0m \u001b[0mmapping\u001b[0m\u001b[0;34m[\u001b[0m\u001b[0mengine\u001b[0m\u001b[0;34m]\u001b[0m\u001b[0;34m(\u001b[0m\u001b[0mself\u001b[0m\u001b[0;34m.\u001b[0m\u001b[0mf\u001b[0m\u001b[0;34m,\u001b[0m \u001b[0;34m**\u001b[0m\u001b[0mself\u001b[0m\u001b[0;34m.\u001b[0m\u001b[0moptions\u001b[0m\u001b[0;34m)\u001b[0m  \u001b[0;31m# type: ignore[call-arg]\u001b[0m\u001b[0;34m\u001b[0m\u001b[0;34m\u001b[0m\u001b[0m\n\u001b[0m\u001b[1;32m   1051\u001b[0m \u001b[0;34m\u001b[0m\u001b[0m\n\u001b[1;32m   1052\u001b[0m     \u001b[0;32mdef\u001b[0m \u001b[0m_failover_to_python\u001b[0m\u001b[0;34m(\u001b[0m\u001b[0mself\u001b[0m\u001b[0;34m)\u001b[0m\u001b[0;34m:\u001b[0m\u001b[0;34m\u001b[0m\u001b[0;34m\u001b[0m\u001b[0m\n",
      "\u001b[0;32m~/zeta/lib/python3.8/site-packages/pandas/io/parsers.py\u001b[0m in \u001b[0;36m__init__\u001b[0;34m(self, src, **kwds)\u001b[0m\n\u001b[1;32m   1865\u001b[0m \u001b[0;34m\u001b[0m\u001b[0m\n\u001b[1;32m   1866\u001b[0m         \u001b[0;31m# open handles\u001b[0m\u001b[0;34m\u001b[0m\u001b[0;34m\u001b[0m\u001b[0;34m\u001b[0m\u001b[0m\n\u001b[0;32m-> 1867\u001b[0;31m         \u001b[0mself\u001b[0m\u001b[0;34m.\u001b[0m\u001b[0m_open_handles\u001b[0m\u001b[0;34m(\u001b[0m\u001b[0msrc\u001b[0m\u001b[0;34m,\u001b[0m \u001b[0mkwds\u001b[0m\u001b[0;34m)\u001b[0m\u001b[0;34m\u001b[0m\u001b[0;34m\u001b[0m\u001b[0m\n\u001b[0m\u001b[1;32m   1868\u001b[0m         \u001b[0;32massert\u001b[0m \u001b[0mself\u001b[0m\u001b[0;34m.\u001b[0m\u001b[0mhandles\u001b[0m \u001b[0;32mis\u001b[0m \u001b[0;32mnot\u001b[0m \u001b[0;32mNone\u001b[0m\u001b[0;34m\u001b[0m\u001b[0;34m\u001b[0m\u001b[0m\n\u001b[1;32m   1869\u001b[0m         \u001b[0;32mfor\u001b[0m \u001b[0mkey\u001b[0m \u001b[0;32min\u001b[0m \u001b[0;34m(\u001b[0m\u001b[0;34m\"storage_options\"\u001b[0m\u001b[0;34m,\u001b[0m \u001b[0;34m\"encoding\"\u001b[0m\u001b[0;34m,\u001b[0m \u001b[0;34m\"memory_map\"\u001b[0m\u001b[0;34m,\u001b[0m \u001b[0;34m\"compression\"\u001b[0m\u001b[0;34m)\u001b[0m\u001b[0;34m:\u001b[0m\u001b[0;34m\u001b[0m\u001b[0;34m\u001b[0m\u001b[0m\n",
      "\u001b[0;32m~/zeta/lib/python3.8/site-packages/pandas/io/parsers.py\u001b[0m in \u001b[0;36m_open_handles\u001b[0;34m(self, src, kwds)\u001b[0m\n\u001b[1;32m   1360\u001b[0m         \u001b[0mLet\u001b[0m \u001b[0mthe\u001b[0m \u001b[0mreaders\u001b[0m \u001b[0mopen\u001b[0m \u001b[0mIOHanldes\u001b[0m \u001b[0mafter\u001b[0m \u001b[0mthey\u001b[0m \u001b[0mare\u001b[0m \u001b[0mdone\u001b[0m \u001b[0;32mwith\u001b[0m \u001b[0mtheir\u001b[0m \u001b[0mpotential\u001b[0m \u001b[0mraises\u001b[0m\u001b[0;34m.\u001b[0m\u001b[0;34m\u001b[0m\u001b[0;34m\u001b[0m\u001b[0m\n\u001b[1;32m   1361\u001b[0m         \"\"\"\n\u001b[0;32m-> 1362\u001b[0;31m         self.handles = get_handle(\n\u001b[0m\u001b[1;32m   1363\u001b[0m             \u001b[0msrc\u001b[0m\u001b[0;34m,\u001b[0m\u001b[0;34m\u001b[0m\u001b[0;34m\u001b[0m\u001b[0m\n\u001b[1;32m   1364\u001b[0m             \u001b[0;34m\"r\"\u001b[0m\u001b[0;34m,\u001b[0m\u001b[0;34m\u001b[0m\u001b[0;34m\u001b[0m\u001b[0m\n",
      "\u001b[0;32m~/zeta/lib/python3.8/site-packages/pandas/io/common.py\u001b[0m in \u001b[0;36mget_handle\u001b[0;34m(path_or_buf, mode, encoding, compression, memory_map, is_text, errors, storage_options)\u001b[0m\n\u001b[1;32m    640\u001b[0m                 \u001b[0merrors\u001b[0m \u001b[0;34m=\u001b[0m \u001b[0;34m\"replace\"\u001b[0m\u001b[0;34m\u001b[0m\u001b[0;34m\u001b[0m\u001b[0m\n\u001b[1;32m    641\u001b[0m             \u001b[0;31m# Encoding\u001b[0m\u001b[0;34m\u001b[0m\u001b[0;34m\u001b[0m\u001b[0;34m\u001b[0m\u001b[0m\n\u001b[0;32m--> 642\u001b[0;31m             handle = open(\n\u001b[0m\u001b[1;32m    643\u001b[0m                 \u001b[0mhandle\u001b[0m\u001b[0;34m,\u001b[0m\u001b[0;34m\u001b[0m\u001b[0;34m\u001b[0m\u001b[0m\n\u001b[1;32m    644\u001b[0m                 \u001b[0mioargs\u001b[0m\u001b[0;34m.\u001b[0m\u001b[0mmode\u001b[0m\u001b[0;34m,\u001b[0m\u001b[0;34m\u001b[0m\u001b[0;34m\u001b[0m\u001b[0m\n",
      "\u001b[0;31mFileNotFoundError\u001b[0m: [Errno 2] No such file or directory: '../../data/insurance/insurance.csv'"
     ]
    }
   ],
   "source": [
    "data = pd.read_csv('../../data/insurance/insurance.csv')\n",
    "data = pd.get_dummies(data)\n",
    "display(data.head())\n",
    "\n",
    "# Split X and Y\n",
    "data_x = data.loc[:, data.columns!= 'expenses'].as_matrix()\n",
    "data_y = data['expenses'].as_matrix().reshape((-1, 1))\n",
    "\n",
    "# Scaling \n",
    "scaler = StandardScaler()\n",
    "data_x = scaler.fit_transform(data_x)\n",
    "data_y = scaler.fit_transform(data_y)\n",
    "\n",
    "print('train:', data_x.shape)\n",
    "print('test:', data_y.shape)"
   ]
  },
  {
   "cell_type": "markdown",
   "metadata": {},
   "source": [
    "## Numpy Code"
   ]
  },
  {
   "cell_type": "code",
   "execution_count": null,
   "metadata": {},
   "outputs": [],
   "source": [
    "def least_square_with_matrix(x, y):\n",
    "    x = sm.add_constant(x)\n",
    "    \n",
    "    a = np.linalg.inv(x.T @ x)\n",
    "    b = x.T @ y\n",
    "    B = a @ b\n",
    "    return B\n",
    "\n",
    "def predict(B, x):\n",
    "    x = sm.add_constant(x)\n",
    "    return x @ B\n",
    "\n",
    "def visualize(y_true, y_pred):\n",
    "    x = np.arange(y_true.shape[0])\n",
    "    scatter(x, y_true, alpha=0.7)\n",
    "    scatter(x, y_pred, color='red', alpha=0.3)\n",
    "    print('MSE:', mean_squared_error(y_true, y_pred))\n",
    "\n",
    "B = least_square_with_matrix(data_x, data_y)\n",
    "y_pred = predict(B, data_x)\n",
    "visualize(data_y, y_pred)"
   ]
  },
  {
   "cell_type": "markdown",
   "metadata": {},
   "source": [
    "## Numpy Code - lstsq"
   ]
  },
  {
   "cell_type": "code",
   "execution_count": null,
   "metadata": {},
   "outputs": [],
   "source": [
    "B = np.linalg.lstsq(sm.add_constant(data_x), data_y)[0]\n",
    "y_pred = predict(B, data_x)\n",
    "visualize(data_y, y_pred)"
   ]
  },
  {
   "cell_type": "markdown",
   "metadata": {},
   "source": [
    "## Statsmodels Code"
   ]
  },
  {
   "cell_type": "code",
   "execution_count": null,
   "metadata": {},
   "outputs": [],
   "source": [
    "import statsmodels.api as sm\n",
    "\n",
    "ols = sm.OLS(data_y, sm.add_constant(data_x))\n",
    "res = ols.fit(method='pinv')\n",
    "res.summary()"
   ]
  },
  {
   "cell_type": "code",
   "execution_count": null,
   "metadata": {},
   "outputs": [],
   "source": [
    "y_pred = res.predict(sm.add_constant(data_x))\n",
    "\n",
    "visualize(data_y, y_pred)"
   ]
  },
  {
   "cell_type": "markdown",
   "metadata": {},
   "source": [
    "# References\n",
    "\n",
    "* [Chapter 5: Ordinary Least Squares](http://www.openaccesstexts.org/pdf/Quant_Chapter_05_ols.pdf)\n",
    "* [Chapter 1: Linear Algebra](http://www.openaccesstexts.org/pdf/Quant_Chapter_01_linear.pdf)\n",
    "* [Ordinary Least Squares Estimation Procedure ](http://www3.amherst.edu/~fwesthoff/webpost/Old/Econ_360/Econ_360-09-24-Chap.pdf)"
   ]
  }
 ],
 "metadata": {
  "kernelspec": {
   "display_name": "Python 3 (ipykernel)",
   "language": "python",
   "name": "python3"
  },
  "language_info": {
   "codemirror_mode": {
    "name": "ipython",
    "version": 3
   },
   "file_extension": ".py",
   "mimetype": "text/x-python",
   "name": "python",
   "nbconvert_exporter": "python",
   "pygments_lexer": "ipython3",
   "version": "3.8.10"
  },
  "toc": {
   "base_numbering": 1,
   "nav_menu": {},
   "number_sections": true,
   "sideBar": true,
   "skip_h1_title": false,
   "title_cell": "Table of Contents",
   "title_sidebar": "Contents",
   "toc_cell": false,
   "toc_position": {},
   "toc_section_display": true,
   "toc_window_display": false
  },
  "varInspector": {
   "cols": {
    "lenName": 16,
    "lenType": 16,
    "lenVar": 40
   },
   "kernels_config": {
    "python": {
     "delete_cmd_postfix": "",
     "delete_cmd_prefix": "del ",
     "library": "var_list.py",
     "varRefreshCmd": "print(var_dic_list())"
    },
    "r": {
     "delete_cmd_postfix": ") ",
     "delete_cmd_prefix": "rm(",
     "library": "var_list.r",
     "varRefreshCmd": "cat(var_dic_list()) "
    }
   },
   "types_to_exclude": [
    "module",
    "function",
    "builtin_function_or_method",
    "instance",
    "_Feature"
   ],
   "window_display": false
  }
 },
 "nbformat": 4,
 "nbformat_minor": 4
}
