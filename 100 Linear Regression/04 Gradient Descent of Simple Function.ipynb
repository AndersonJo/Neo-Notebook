{
 "cells": [
  {
   "cell_type": "code",
   "execution_count": 2,
   "id": "ef749937",
   "metadata": {},
   "outputs": [],
   "source": [
    "from matplotlib import pylab as plt\n",
    "\n",
    "import numpy as np"
   ]
  },
  {
   "cell_type": "markdown",
   "id": "511f6920",
   "metadata": {},
   "source": [
    "# Simple Function\n",
    "\n",
    "$$ f = x^2 + 4x $$\n",
    "\n",
    "Gradient descent는 input을 바꾸었을때 함수가 가장 작은 값을 내놓는 지점을 찾는 알고리즘입니다. .<br>\n",
    "아래의 함수 x^2 + 4*x 의 경우 너무나 간단해서 $ \\nabla f = 0 $ 을 찾을 경우 x=-2 일때 f(x)를 최적화 합니다. \n",
    "\n",
    "문제는.. 지금의 경우 x의 값이 한개만 존재하고.. 우리가 손쉽게 찾아낼수 있지만.. <br>\n",
    "이미지나 음성 또는 굉장히 많은 변수들을 사용하는 경우 minimum값을 찾기가 매우 어렵습니다. \n",
    "\n",
    "참고로 derivative of f 는 다음과 같습니다.\n",
    "\n",
    "$$ \\frac{d f}{d x} = 2x + 4 $$"
   ]
  },
  {
   "cell_type": "code",
   "execution_count": 137,
   "id": "94689209",
   "metadata": {},
   "outputs": [
    {
     "name": "stdout",
     "output_type": "stream",
     "text": [
      "y min: -3.9999996399279896\n",
      "f(-2) = -4 (최적점)\n"
     ]
    },
    {
     "data": {
      "image/png": "[encoded data removed]",
      "text/plain": [
       "<Figure size 432x288 with 1 Axes>"
      ]
     },
     "metadata": {
      "needs_background": "light"
     },
     "output_type": "display_data"
    }
   ],
   "source": [
    "def f(x):\n",
    "    return x**2 + 4*x\n",
    "\n",
    "x = np.linspace(-8, 4, num=10000)\n",
    "y = f(x)\n",
    "\n",
    "fig, ax = plt.subplots(1)\n",
    "ax.plot(x, y)\n",
    "ax.grid()\n",
    "\n",
    "print('y min:', y.min())\n",
    "print(f'f(-2) = {f(-2)} (최적점)')"
   ]
  },
  {
   "cell_type": "code",
   "execution_count": 138,
   "id": "2ea20e54",
   "metadata": {},
   "outputs": [
    {
     "name": "stdout",
     "output_type": "stream",
     "text": [
      "df(-2) = 0 (-2일때 기울기가 0이 됨 )\n"
     ]
    }
   ],
   "source": [
    "def df(x):\n",
    "    return 2*x + 4\n",
    "\n",
    "print(f'df(-2) = {df(-2)} (-2일때 기울기가 0이 됨 )')"
   ]
  },
  {
   "cell_type": "markdown",
   "id": "02645869",
   "metadata": {},
   "source": [
    "# Gradient Descent로 최적화 \n",
    "\n",
    "$$ x_{t+1} = x_t - \\alpha \\nabla f(x_t) $$"
   ]
  },
  {
   "cell_type": "code",
   "execution_count": 139,
   "id": "778e1020",
   "metadata": {},
   "outputs": [
    {
     "name": "stdout",
     "output_type": "stream",
     "text": [
      "-1.9999999899021959\n"
     ]
    },
    {
     "data": {
      "text/plain": [
       "[<matplotlib.lines.Line2D at 0x7fe8f596dd00>]"
      ]
     },
     "execution_count": 139,
     "metadata": {},
     "output_type": "execute_result"
    },
    {
     "data": {
      "image/png": "[encoded data removed]",
      "text/plain": [
       "<Figure size 432x288 with 1 Axes>"
      ]
     },
     "metadata": {
      "needs_background": "light"
     },
     "output_type": "display_data"
    }
   ],
   "source": [
    "x = 4\n",
    "lr = 0.01\n",
    "\n",
    "def df(x):\n",
    "    return 2*x + 4\n",
    "\n",
    "\n",
    "data = np.zeros(1000)\n",
    "for i in range(1000):\n",
    "    x = x - lr * df(x)\n",
    "    data[i] = x \n",
    "\n",
    "print(x)\n",
    "plt.plot(data)"
   ]
  },
  {
   "cell_type": "code",
   "execution_count": null,
   "id": "d4dc5e9e",
   "metadata": {},
   "outputs": [],
   "source": []
  }
 ],
 "metadata": {
  "kernelspec": {
   "display_name": "Python 3",
   "language": "python",
   "name": "python3"
  },
  "language_info": {
   "codemirror_mode": {
    "name": "ipython",
    "version": 3
   },
   "file_extension": ".py",
   "mimetype": "text/x-python",
   "name": "python",
   "nbconvert_exporter": "python",
   "pygments_lexer": "ipython3",
   "version": "3.8.5"
  },
  "toc": {
   "base_numbering": 1,
   "nav_menu": {},
   "number_sections": true,
   "sideBar": true,
   "skip_h1_title": false,
   "title_cell": "Table of Contents",
   "title_sidebar": "Contents",
   "toc_cell": false,
   "toc_position": {},
   "toc_section_display": true,
   "toc_window_display": false
  },
  "varInspector": {
   "cols": {
    "lenName": 16,
    "lenType": 16,
    "lenVar": 40
   },
   "kernels_config": {
    "python": {
     "delete_cmd_postfix": "",
     "delete_cmd_prefix": "del ",
     "library": "var_list.py",
     "varRefreshCmd": "print(var_dic_list())"
    },
    "r": {
     "delete_cmd_postfix": ") ",
     "delete_cmd_prefix": "rm(",
     "library": "var_list.r",
     "varRefreshCmd": "cat(var_dic_list()) "
    }
   },
   "types_to_exclude": [
    "module",
    "function",
    "builtin_function_or_method",
    "instance",
    "_Feature"
   ],
   "window_display": false
  }
 },
 "nbformat": 4,
 "nbformat_minor": 5
}
