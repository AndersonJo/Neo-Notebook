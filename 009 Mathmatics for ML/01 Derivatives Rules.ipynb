{
 "cells": [
  {
   "cell_type": "markdown",
   "id": "444e7fba-a452-492b-a5ea-344acfe28fdf",
   "metadata": {},
   "source": [
    "# 1. Derivatives Rules\n",
    "\n",
    "## 1.1 Rules\n",
    "\n",
    "derivative of x 에 대한 테이블\n",
    "\n",
    "| Rule        | Function     | Derivative     |\n",
    "|:------------|:-------------|:---------------| \n",
    "| Constant    | c            | 0              |\n",
    "| Line        | x            | 1              |\n",
    "|             | ax           | a              |\n",
    "| Square      | $ x^2 $      | $ 2x $         |\n",
    "| Square Root | $ \\sqrt{x} $ | $ ½ x^{-½} $   |\n",
    "| Exponential | $ e^x $      | $ e^x $        |\n",
    "|             | $ a^x $      | $ \\ln(a) a^x $ |\n",
    "| Logarithms  | $ \\ln(x) $   | 1/x            |\n",
    "|             | $ \\log_a(x) $| 1/ (x ln(a))   |\n",
    "\n",
    "Function Rules!\n",
    "\n",
    "| Rule                      | Function     | Derivative     |\n",
    "|:--------------------------|:-------------|:---------------|\n",
    "| Mutiplication by constant | cf           | cf`            |\n",
    "| Power Rule                | $ x^n $      | $ nx^{n-1} $   |\n",
    "| Sum Rule                  | f + g        | f' + g'        |\n",
    "| Difference Rule           | f - g        | f' - g'        |\n",
    "| Product Rule              | fg           | fg' + f'g      |\n",
    "| Quotient Rule             | f/g          | $ \\frac{f'g - g'f}{g^2} $ |\n",
    "| Reciprocal Rule           | 1/f           | $ \\frac{-f'}{f^2} $       |\n",
    "| Chain Rule                | $ f \\cdot g $ | $ (f \\cdot g) g' $    |\n",
    "| Chain Rule with '         | f(g(x))       | f'(g(x)) g'(x) |"
   ]
  },
  {
   "cell_type": "markdown",
   "id": "2b5ee8bd-7de6-412c-9c1e-ed870f781f0e",
   "metadata": {},
   "source": [
    "### $ \\frac{d}{dx} x^3 $ 에 대한 값은? \n",
    "\n",
    "derivative of $ x^3 $ 은 power rule 을 적용합니다. \n",
    "\n",
    "$$ \\begin{aligned} \\frac{d}{dx} x^n &= nx^{n-1}  \\\\\n",
    "\\frac{d}{dx} x^3 &= 3x^{3-1} = 3x^2\n",
    "\\end{aligned} $$\n",
    "\n"
   ]
  },
  {
   "cell_type": "markdown",
   "id": "d55ea26e-69be-45f8-9841-14fefc19576e",
   "metadata": {},
   "source": [
    "### x^2 + x^4 에 대한 값은? \n",
    "\n",
    "derivative of f + g = f' + g' 인 sum rule 을 사용. \n",
    "\n",
    "$$ \\begin{aligned} \n",
    "\\frac{d}{dx} \\left[ x^2 + x^4 \\right] = 2x + 4x^3\n",
    "\\end{aligned} $$"
   ]
  },
  {
   "cell_type": "markdown",
   "id": "29551409-1fcd-4d2f-996b-1914ff868875",
   "metadata": {},
   "source": [
    "### Chain Rule 예제 \n",
    "\n",
    "what is the derivative of $ f(x) = (3x + 1)^5 $ ?\n",
    "\n",
    "\n",
    "기본적으로 chain rule 은 바깥쪽에서 미분한번 하고, 안쪽에서 다시 미분하고.. 서로 곱하면 됨. <br>\n",
    "여기서 바깥쪽은 5제곱한 것이고, 안쪽은 3x + 1 임\n",
    "\n",
    "\n",
    "$$ f'(x) = 5(3x+1)^4 (3x +1)' = 5(3x+1)^4 \\times 3  $$"
   ]
  }
 ],
 "metadata": {
  "kernelspec": {
   "display_name": "Python 3 (ipykernel)",
   "language": "python",
   "name": "python3"
  },
  "language_info": {
   "codemirror_mode": {
    "name": "ipython",
    "version": 3
   },
   "file_extension": ".py",
   "mimetype": "text/x-python",
   "name": "python",
   "nbconvert_exporter": "python",
   "pygments_lexer": "ipython3",
   "version": "3.8.10"
  }
 },
 "nbformat": 4,
 "nbformat_minor": 5
}
