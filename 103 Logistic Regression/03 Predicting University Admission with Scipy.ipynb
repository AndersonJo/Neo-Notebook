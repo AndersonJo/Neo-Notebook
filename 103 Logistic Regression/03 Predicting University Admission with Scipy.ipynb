{
 "cells": [
  {
   "cell_type": "code",
   "execution_count": 34,
   "metadata": {
    "collapsed": true
   },
   "outputs": [],
   "source": [
    "import numpy as np\n",
    "from sklearn.linear_model import LogisticRegression\n",
    "from sklearn import datasets"
   ]
  },
  {
   "cell_type": "markdown",
   "metadata": {},
   "source": [
    "### Data Preparation"
   ]
  },
  {
   "cell_type": "code",
   "execution_count": 64,
   "metadata": {},
   "outputs": [],
   "source": [
    "breast = datasets.load_breast_cancer()\n",
    "data = breast.data\n",
    "target = breast.target\n",
    "\n",
    "# Shuffle\n",
    "_rands = np.random.permutation(len(data))\n",
    "data = data[_rands]\n",
    "target = target[_rands]\n",
    "\n",
    "# Min-max Standardization\n",
    "for i in xrange(data.shape[1]):\n",
    "    data[:, i] = (data[:, i] - data[:,i].min()) / (data[:,i].max() - data[:,i].min())\n",
    "    \n",
    "x_trains = data[:430]\n",
    "y_trains = target[:430]\n",
    "x_tests = data[430:]\n",
    "y_tests = target[430:]"
   ]
  },
  {
   "cell_type": "code",
   "execution_count": 65,
   "metadata": {},
   "outputs": [
    {
     "name": "stdout",
     "output_type": "stream",
     "text": [
      "0.964028776978\n"
     ]
    }
   ],
   "source": [
    "lr = LogisticRegression(C=1000, random_state=0, max_iter=10000)\n",
    "lr.fit(x_trains, y_trains)\n",
    "\n",
    "t = lr.predict(x_tests) == y_tests\n",
    "print len(t[t == True])/float(len(t))"
   ]
  }
 ],
 "metadata": {
  "kernelspec": {
   "display_name": "Python 3",
   "language": "python",
   "name": "python3"
  },
  "language_info": {
   "codemirror_mode": {
    "name": "ipython",
    "version": 3
   },
   "file_extension": ".py",
   "mimetype": "text/x-python",
   "name": "python",
   "nbconvert_exporter": "python",
   "pygments_lexer": "ipython3",
   "version": "3.6.9"
  },
  "toc": {
   "base_numbering": 1,
   "nav_menu": {},
   "number_sections": true,
   "sideBar": true,
   "skip_h1_title": false,
   "title_cell": "Table of Contents",
   "title_sidebar": "Contents",
   "toc_cell": false,
   "toc_position": {},
   "toc_section_display": true,
   "toc_window_display": false
  }
 },
 "nbformat": 4,
 "nbformat_minor": 1
}
