{
 "cells": [
  {
   "cell_type": "markdown",
   "metadata": {},
   "source": [
    "# Anomaly Detection or Prediction"
   ]
  },
  {
   "cell_type": "markdown",
   "metadata": {},
   "source": [
    "## Rosner's Outlier Test\n",
    "\n",
    "| type       | \n",
    "| prediction | X | \n",
    "\n",
    "평"
   ]
  },
  {
   "cell_type": "markdown",
   "metadata": {
    "collapsed": true,
    "deletable": true,
    "editable": true
   },
   "source": [
    "### Netflix \n",
    "\n",
    "[Tracking down the Villains: Outlier Detection at Netflix](https://medium.com/netflix-techblog/tracking-down-the-villains-outlier-detection-at-netflix-40360b31732)"
   ]
  },
  {
   "cell_type": "markdown",
   "metadata": {
    "deletable": true,
    "editable": true
   },
   "source": [
    "### 잘 알려진 알고리즘 \n",
    "\n",
    "* Rosner's Outlier Test\n",
    "* student t-distribution\n",
    "* Extreme Studentized Deviate (ESD) test\n",
    "* Generalized ESD\n",
    "* LOESS\n",
    "* STL\n",
    "* K-means\n",
    "* PCA기반 이상 감지\n",
    "* Local Outlier Factor (LOF)\n",
    "* k-NN Global Anomaly Score\n",
    "* Connectivity-based Outlier Factor (COF)\n",
    "* Local Correlation Integral (LOCI)\n",
    "* Local Outlier Probability (LoOP)\n",
    "* Cluster-based Local Outlier Factor (CBLOF)\n",
    "\n",
    "\n",
    "### Deep Learning에서 잘 알려진 알고리즘 \n",
    "\n",
    "* Autoencoder를 이용해 cost값으로 이상치 탐색\n",
    "* LSTM based Anomaly Detection \n",
    "\n",
    "\n",
    "### References\n",
    "\n",
    "* [마이크로소프트 - 알고리즘 선택](https://docs.microsoft.com/ko-kr/azure/machine-learning/machine-learning-algorithm-choice)\n",
    "* [Comparison of Unsupervised Anomaly Detection Techniques](http://www.madm.eu/_media/theses/thesis-amer.pdf)\n",
    "\n",
    "\n",
    "좋은거 1번\n",
    "\n",
    "* [A Comparative Evaluation of Unsupervised Anomaly Detection Algorithms for Multivariate Data](http://journals.plos.org/plosone/article?id=10.1371/journal.pone.0152173)\n",
    "* [Unsupervised Anomaly Detection Benchmark](https://dataverse.harvard.edu/dataset.xhtml?persistentId=doi:10.7910/DVN/OPQMVF)"
   ]
  }
 ],
 "metadata": {
  "kernelspec": {
   "display_name": "Python 3",
   "language": "python",
   "name": "python3"
  },
  "language_info": {
   "codemirror_mode": {
    "name": "ipython",
    "version": 3
   },
   "file_extension": ".py",
   "mimetype": "text/x-python",
   "name": "python",
   "nbconvert_exporter": "python",
   "pygments_lexer": "ipython3",
   "version": "3.6.1"
  }
 },
 "nbformat": 4,
 "nbformat_minor": 2
}
