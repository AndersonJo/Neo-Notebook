{
 "cells": [
  {
   "cell_type": "markdown",
   "metadata": {
    "deletable": true,
    "editable": true
   },
   "source": [
    "# One-shot learning with Memory-Augmented Neural Network\n",
    "\n",
    "* [Google DeepMind - One-shot learning with Memory-Augmented Neural Network](https://arxiv.org/pdf/1605.06065v1.pdf)\n",
    "* [Neural Turing Machines - Alex Graves, Greg Wayne, Ivo Danihelka](https://arxiv.org/pdf/1410.5401.pdf)"
   ]
  },
  {
   "cell_type": "markdown",
   "metadata": {
    "deletable": true,
    "editable": true
   },
   "source": [
    "최근 Deep Learning은 전통적인 Gradient 기반의 NN에 기반을 합니다.<br>\n",
    "문제는 대량의 데이터를 필요로하며, 수많은 training을 거쳐야 한다는 것이 문제입니다.\n",
    "**[Catastrophic Interference](https://en.wikipedia.org/wiki/Catastrophic_interference)** (새로운 데이터가 들어오면, 이전에 학습된 내용을 잊어버리는 현상) 으로 인해서 기존의 모델은 비효율적으로 기존 데이터와 더불어 학습을 해야합니다. \n",
    "\n",
    "**Neural Turing Machines (NTMs)** 같은 augmented memory capacities를 같은 아키텍쳐의 경우 새로운 정보를 빠르게 encode해서 새로운 정보를 빠르게 학습하도록 만듭니다."
   ]
  },
  {
   "cell_type": "code",
   "execution_count": null,
   "metadata": {
    "collapsed": true,
    "deletable": true,
    "editable": true
   },
   "outputs": [],
   "source": []
  }
 ],
 "metadata": {
  "kernelspec": {
   "display_name": "Python 3",
   "language": "python",
   "name": "python3"
  },
  "language_info": {
   "codemirror_mode": {
    "name": "ipython",
    "version": 3
   },
   "file_extension": ".py",
   "mimetype": "text/x-python",
   "name": "python",
   "nbconvert_exporter": "python",
   "pygments_lexer": "ipython3",
   "version": "3.6.0"
  }
 },
 "nbformat": 4,
 "nbformat_minor": 2
}
