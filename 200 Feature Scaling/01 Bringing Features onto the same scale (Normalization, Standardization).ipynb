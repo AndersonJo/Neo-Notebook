{
 "cells": [
  {
   "cell_type": "markdown",
   "metadata": {},
   "source": [
    "# Feature Scaling \n",
    "\n",
    "각각다른 features(columns)들을 동일한 scale로 놓는 것이 machine learning이 제대로 작동하는데 매우 중요한 요소입니다.<br>\n",
    "예를 들어서 어떤 feature는 0~1사이의 scale을 갖고, 다른 feature는 1~100000의 scale을 갖는다면.. <br>\n",
    "KNN에서 euclidean distance를 사용하거나 , Adaline의 squared error function을 사용할때 잘못된 방향으로 학습이 될 수 있습니다."
   ]
  },
  {
   "cell_type": "code",
   "execution_count": 6,
   "metadata": {},
   "outputs": [],
   "source": [
    "import pandas as pd\n",
    "import numpy as np\n",
    "\n",
    "from sklearn.model_selection import train_test_split"
   ]
  },
  {
   "cell_type": "markdown",
   "metadata": {},
   "source": [
    "## Data"
   ]
  },
  {
   "cell_type": "code",
   "execution_count": 84,
   "metadata": {},
   "outputs": [
    {
     "name": "stdout",
     "output_type": "stream",
     "text": [
      "[Mean]\n",
      "a    2.500000\n",
      "b    3.000000\n",
      "c    0.166667\n",
      "d    0.000000\n",
      "dtype: float32\n",
      "\n",
      "[STD]\n",
      "a     1.870829\n",
      "b    16.248077\n",
      "c     0.408248\n",
      "d     0.000000\n",
      "dtype: float32\n"
     ]
    },
    {
     "data": {
      "text/html": [
       "<div>\n",
       "<style>\n",
       "    .dataframe thead tr:only-child th {\n",
       "        text-align: right;\n",
       "    }\n",
       "\n",
       "    .dataframe thead th {\n",
       "        text-align: left;\n",
       "    }\n",
       "\n",
       "    .dataframe tbody tr th {\n",
       "        vertical-align: top;\n",
       "    }\n",
       "</style>\n",
       "<table border=\"1\" class=\"dataframe\">\n",
       "  <thead>\n",
       "    <tr style=\"text-align: right;\">\n",
       "      <th></th>\n",
       "      <th>a</th>\n",
       "      <th>b</th>\n",
       "      <th>c</th>\n",
       "      <th>d</th>\n",
       "    </tr>\n",
       "  </thead>\n",
       "  <tbody>\n",
       "    <tr>\n",
       "      <th>0</th>\n",
       "      <td>0.0</td>\n",
       "      <td>10.0</td>\n",
       "      <td>0.0</td>\n",
       "      <td>0.0</td>\n",
       "    </tr>\n",
       "    <tr>\n",
       "      <th>1</th>\n",
       "      <td>1.0</td>\n",
       "      <td>13.0</td>\n",
       "      <td>0.0</td>\n",
       "      <td>0.0</td>\n",
       "    </tr>\n",
       "    <tr>\n",
       "      <th>2</th>\n",
       "      <td>2.0</td>\n",
       "      <td>14.0</td>\n",
       "      <td>0.0</td>\n",
       "      <td>0.0</td>\n",
       "    </tr>\n",
       "    <tr>\n",
       "      <th>3</th>\n",
       "      <td>3.0</td>\n",
       "      <td>8.0</td>\n",
       "      <td>0.0</td>\n",
       "      <td>0.0</td>\n",
       "    </tr>\n",
       "    <tr>\n",
       "      <th>4</th>\n",
       "      <td>4.0</td>\n",
       "      <td>2.0</td>\n",
       "      <td>0.0</td>\n",
       "      <td>0.0</td>\n",
       "    </tr>\n",
       "    <tr>\n",
       "      <th>5</th>\n",
       "      <td>5.0</td>\n",
       "      <td>-29.0</td>\n",
       "      <td>1.0</td>\n",
       "      <td>0.0</td>\n",
       "    </tr>\n",
       "  </tbody>\n",
       "</table>\n",
       "</div>"
      ],
      "text/plain": [
       "     a     b    c    d\n",
       "0  0.0  10.0  0.0  0.0\n",
       "1  1.0  13.0  0.0  0.0\n",
       "2  2.0  14.0  0.0  0.0\n",
       "3  3.0   8.0  0.0  0.0\n",
       "4  4.0   2.0  0.0  0.0\n",
       "5  5.0 -29.0  1.0  0.0"
      ]
     },
     "execution_count": 84,
     "metadata": {},
     "output_type": "execute_result"
    }
   ],
   "source": [
    "data = pd.DataFrame(data={'a': [0., 1., 2. , 3. , 4. , 5.], \n",
    "                          'b': [10, 13, 14, 8, 2, -29], \n",
    "                          'c': [0, 0, 0, 0, 0, 1], \n",
    "                          'd': [0, 0, 0, 0, 0, 0]}, dtype='float32')\n",
    "print('[Mean]')\n",
    "print(data.mean())\n",
    "\n",
    "print('\\n[STD]')\n",
    "print(data.std())\n",
    "data"
   ]
  },
  {
   "cell_type": "markdown",
   "metadata": {},
   "source": [
    "## [Normalization] Min-Max Scaling\n",
    "\n",
    "일반적으로 normalization이라함은 0~1사이의 값을 갖도록 rescaling하는것을 의미합니다.<br>\n",
    "min-max scaling을 통해서 normalization을 할 수 있습니다.\n",
    "\n",
    "$$ x^{(i)}_{norm} = \\frac{ x^{(i)} - x_{min}}{ x_{max} - x_{min}} $$"
   ]
  },
  {
   "cell_type": "code",
   "execution_count": 88,
   "metadata": {},
   "outputs": [
    {
     "data": {
      "text/plain": [
       "array([[ 0.        ,  0.90697674,  0.        ,  0.        ],\n",
       "       [ 0.2       ,  0.97674419,  0.        ,  0.        ],\n",
       "       [ 0.4       ,  1.        ,  0.        ,  0.        ],\n",
       "       [ 0.6       ,  0.86046512,  0.        ,  0.        ],\n",
       "       [ 0.8       ,  0.72093023,  0.        ,  0.        ],\n",
       "       [ 1.        ,  0.        ,  1.        ,  0.        ]])"
      ]
     },
     "execution_count": 88,
     "metadata": {},
     "output_type": "execute_result"
    }
   ],
   "source": [
    "from sklearn.preprocessing import MinMaxScaler\n",
    "mms = MinMaxScaler()\n",
    "mms_data = mms.fit_transform(data) \n",
    "mms_data"
   ]
  },
  {
   "cell_type": "markdown",
   "metadata": {},
   "source": [
    "## Standardization\n",
    "\n",
    "Standardization이 min-max scaling보다 더 실제로 더 많이 사용되는 방법입니다.\n",
    "\n",
    "* 일반적으로 wegits값을 0에 가까운 random값으로 initilization하는데, standardization은 feature columns들을 평균 0값에, standard deviation 1값으로 center하기 때문에, 학습하는데 더 쉽습니다.\n",
    "* min-max scaling처럼 outlier에 영향을 덜 받게 합니다.\n",
    "\n",
    "$$ x^{(i)}_{std} = \\frac{x^{(i)} - \\mu_x}{\\sigma_x} $$"
   ]
  },
  {
   "cell_type": "code",
   "execution_count": 97,
   "metadata": {},
   "outputs": [
    {
     "name": "stdout",
     "output_type": "stream",
     "text": [
      "mean: [ -3.70074342e-17  -7.40148683e-17   0.00000000e+00   0.00000000e+00]\n",
      "std : [ 1.  1.  1.  0.]\n"
     ]
    },
    {
     "data": {
      "text/plain": [
       "array([[-1.46385011,  0.4719399 , -0.4472136 ,  0.        ],\n",
       "       [-0.87831007,  0.67419986, -0.4472136 ,  0.        ],\n",
       "       [-0.29277002,  0.74161985, -0.4472136 ,  0.        ],\n",
       "       [ 0.29277002,  0.33709993, -0.4472136 ,  0.        ],\n",
       "       [ 0.87831007, -0.06741999, -0.4472136 ,  0.        ],\n",
       "       [ 1.46385011, -2.15743956,  2.23606798,  0.        ]])"
      ]
     },
     "execution_count": 97,
     "metadata": {},
     "output_type": "execute_result"
    }
   ],
   "source": [
    "from sklearn.preprocessing import StandardScaler\n",
    "stdsc = StandardScaler()\n",
    "stdsc_data = stdsc.fit_transform(data)\n",
    "print('mean:', stdsc_data.mean(axis=0))\n",
    "print('std :', stdsc_data.std(axis=0))\n",
    "stdsc_data"
   ]
  },
  {
   "cell_type": "markdown",
   "metadata": {},
   "source": [
    "## Mean Removal\n",
    "\n",
    "기본적으로 Standardization과 매우 유사합니다."
   ]
  },
  {
   "cell_type": "code",
   "execution_count": 98,
   "metadata": {},
   "outputs": [
    {
     "name": "stdout",
     "output_type": "stream",
     "text": [
      "mean: [ 0.  0.  0.  0.]\n",
      "std : [ 0.99999994  1.          1.          0.        ]\n"
     ]
    },
    {
     "data": {
      "text/plain": [
       "array([[-1.46385002,  0.47193992, -0.44721362,  0.        ],\n",
       "       [-0.87831002,  0.67419988, -0.44721362,  0.        ],\n",
       "       [-0.29277   ,  0.74161988, -0.44721362,  0.        ],\n",
       "       [ 0.29277   ,  0.33709994, -0.44721362,  0.        ],\n",
       "       [ 0.87831002, -0.06741999, -0.44721362,  0.        ],\n",
       "       [ 1.46385002, -2.15743971,  2.23606801,  0.        ]], dtype=float32)"
      ]
     },
     "execution_count": 98,
     "metadata": {},
     "output_type": "execute_result"
    }
   ],
   "source": [
    "from sklearn.preprocessing import scale\n",
    "\n",
    "scaled_data = scale(data.values)\n",
    "print('mean:', scaled_data.mean(axis=0))\n",
    "print('std :', scaled_data.std(axis=0))\n",
    "scaled_data"
   ]
  }
 ],
 "metadata": {
  "kernelspec": {
   "display_name": "Python 3",
   "language": "python",
   "name": "python3"
  },
  "language_info": {
   "codemirror_mode": {
    "name": "ipython",
    "version": 3
   },
   "file_extension": ".py",
   "mimetype": "text/x-python",
   "name": "python",
   "nbconvert_exporter": "python",
   "pygments_lexer": "ipython3",
   "version": "3.6.1"
  }
 },
 "nbformat": 4,
 "nbformat_minor": 2
}
