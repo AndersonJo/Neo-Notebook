{
 "cells": [
  {
   "cell_type": "markdown",
   "metadata": {},
   "source": [
    "# Objective Functions\n",
    "\n",
    "* https://github.com/JohnLangford/vowpal_wabbit/wiki/Loss-functions\n",
    "\n",
    "| Loss | Minimizer | Example |\n",
    "|:-----|:----------|:--------|\n",
    "| MSE, MAE, RMSLE  | Expectation (mean) | Regression (Expected return on stock) |\n",
    "| Logistic, Entropy, KL-Divergence | Probability | Classification (Probability of click on ad) |\n",
    "| Hinge | 0 ~ 1 approximation | Classification (Is the digit a 7?) |\n",
    "| Poisson | Counts (Log Mean) | Regression (Number of call events to call center) |"
   ]
  },
  {
   "cell_type": "code",
   "execution_count": 4,
   "metadata": {},
   "outputs": [
    {
     "name": "stdout",
     "output_type": "stream",
     "text": [
      "Populating the interactive namespace from numpy and matplotlib\n"
     ]
    }
   ],
   "source": [
    "%pylab inline\n",
    "import numpy as np\n",
    "from sklearn import metrics\n",
    "from sklearn.preprocessing import minmax_scale\n",
    "from scipy import stats\n",
    "from scipy.spatial.distance import cosine as cosine_distantce\n",
    "\n",
    "# Pytorch\n",
    "import torch\n",
    "from torch import nn\n",
    "from torch.nn import functional as F\n",
    "from torch.autograd import Variable"
   ]
  },
  {
   "cell_type": "markdown",
   "metadata": {},
   "source": [
    "## Data"
   ]
  },
  {
   "cell_type": "code",
   "execution_count": 5,
   "metadata": {},
   "outputs": [
    {
     "data": {
      "text/plain": [
       "<matplotlib.legend.Legend at 0x7fb9d5097470>"
      ]
     },
     "execution_count": 5,
     "metadata": {},
     "output_type": "execute_result"
    },
    {
     "data": {
      "image/png": "[encoded data removed]",
      "text/plain": [
       "<matplotlib.figure.Figure at 0x7fb9935119e8>"
      ]
     },
     "metadata": {},
     "output_type": "display_data"
    }
   ],
   "source": [
    "a = np.random.normal(loc=3, size=1000)\n",
    "b = np.random.normal(loc=3, size=1000)\n",
    "c = np.random.gumbel(size=1000)\n",
    "d = np.random.exponential(size=1000)\n",
    "f = np.random.uniform(size=1000)\n",
    "\n",
    "hist(a, bins=80, label='nomal a')\n",
    "hist(b, bins=80, label='normal b')\n",
    "hist(c, bins=80, label='gumbel c')\n",
    "hist(d, bins=80, label='exponential d')\n",
    "hist(f, bins=80, label='uniform f')\n",
    "\n",
    "grid()\n",
    "legend()"
   ]
  },
  {
   "cell_type": "code",
   "execution_count": 65,
   "metadata": {},
   "outputs": [],
   "source": [
    "def compare_distributions(func):\n",
    "    print('normal_a, normal_a\\t:', func(a, a))\n",
    "    print('normal_a, normal_b\\t:', func(a, b))\n",
    "    print('normal_a, gumbel  \\t:', func(a, c))\n",
    "    print('normal_a, exponent\\t:', func(a, d))\n",
    "    print('normal_a, uniform \\t:', func(a, f))\n",
    "    \n",
    "def display_graph(func, name='loss', start=-2, end=2, y=0):\n",
    "    y = np.array([y])\n",
    "    predictions = np.arange(start, end + 0.001, 0.001)\n",
    "    predictions[predictions == 0] = 1e-18\n",
    "    \n",
    "    r = [func(y, np.array([p])) if p != 0 else 1e-18 for p in predictions]\n",
    "    \n",
    "    title(name + f' y={y[0]}')\n",
    "    xlabel(f'prediction value {start} ~ {end}')\n",
    "    ylabel(f'{name} value')\n",
    "    plot(predictions, r)\n",
    "    grid()"
   ]
  },
  {
   "cell_type": "markdown",
   "metadata": {},
   "source": [
    "## Mean Squared Error (MSE)\n",
    "\n",
    "* http://mccormickml.com/2014/03/04/gradient-descent-derivation/\n",
    "\n",
    "regression에서 대체로 많이 사용되는 cost function중의 하나입니다.<br>\n",
    "단점은 square 를 사용하기 때문에 cost이 지나치게 커져서 unstable 한 모델에 적용시 oscillation 현상이 일어날수 있습니다.\n",
    "\n",
    "$$ J(\\theta) = \\frac{1}{N} \\sum^{N}_{i=1} \\left( h_{\\theta}(x^{(i)}) - y^{(i)}  \\right)^2 $$\n",
    "\n",
    "* $ J $ : cost function\n",
    "* $ \\theta $ : parameters (weights)\n",
    "* N : training data의 갯수\n",
    "* $ x^{(i)} $ : $ i^{th} $의 training input vector\n",
    "* $ y^{(i)} $ : $ i^{th} $의 class label\n",
    "* $ h_{\\theta} \\left( x^{(i)} \\right) $ : $ \\theta $를 사용하여 나온 $ i^{th} $ data에 대한 prediction\n"
   ]
  },
  {
   "cell_type": "markdown",
   "metadata": {},
   "source": [
    "#### Partial derivative of the weights\n",
    "\n",
    "$$ \\begin{eqnarray} \\\\\n",
    "\\frac{\\partial}{\\partial\\theta} J(\\theta) &=& \\frac{\\partial}{\\partial \\theta} \\left( \\frac{1}{N} \\sum^N_{i=1} \\left( h_{\\theta}(x^{(i)}) - y^{(i)} \\right)^2 \\right) & [0.1] \\\\\n",
    "&=&  \\frac{2}{N} \\sum^{N}_{i=0} \\left( h_{\\theta} (x^{(i)}) - y^{(i)} \\right) \\frac{\\partial}{\\partial \\theta} \\left( h_{\\theta}(x^{(i)}) - y^{(i)}  \\right) & [0.2] \\\\\n",
    "&=& \\frac{2}{N} \\sum^{N}_{i=0} \\left( h_{\\theta} (x^{(i)}) - y^{(i)} \\right) \\frac{\\partial}{\\partial \\theta} \\left( \\theta^T \\cdot x^{(i)} + b - y^{(i)}  \\right) & [0.3]\\\\\n",
    "&=& \\frac{2}{N} \\sum^{N}_{i=0} \\left( h_{\\theta} (x^{(i)}) - y^{(i)} \\right) \\odot x^{(i)} & [0.4]\\\\\n",
    "\\end{eqnarray} $$ \n",
    "\n",
    "0.3 에서 0.4를 넘어갈때 $ \\theta $를 제외하고는 모두 상수이기 때문에 ($ b, x, y$)값 모두 0이 됩니다.\n",
    "\n",
    "#### Partial derivative of the bias variable\n",
    "\n",
    "$$ \\begin{eqnarray} \\\\\n",
    "\\frac{\\partial}{\\partial b} J(\\theta) &=& \\frac{\\partial}{\\partial b} \\left( \\frac{1}{N} \\sum^N_{i=1} \\left( h_{\\theta}(x^{(i)}) - y^{(i)} \\right)^2 \\right) & [0.1] \\\\\n",
    "&=&  \\frac{2}{N} \\sum^{N}_{i=0} \\left( h_{\\theta} (x^{(i)}) - y^{(i)} \\right) \\frac{\\partial}{\\partial b} \\left( h_{\\theta}(x^{(i)}) - y^{(i)}  \\right) & [0.2] \\\\\n",
    "&=& \\frac{2}{N} \\sum^{N}_{i=0} \\left( h_{\\theta} (x^{(i)}) - y^{(i)} \\right) \\frac{\\partial}{\\partial b} \\left( \\theta^T \\cdot x^{(i)} + b - y^{(i)}  \\right) & [0.3]\\\\\n",
    "&=& \\frac{2}{N} \\sum^{N}_{i=0} \\left( h_{\\theta} (x^{(i)}) - y^{(i)} \\right) & [0.4]\\\\\n",
    "\\end{eqnarray} $$ \n"
   ]
  },
  {
   "cell_type": "code",
   "execution_count": 6,
   "metadata": {},
   "outputs": [
    {
     "data": {
      "text/plain": [
       "0.054499995"
      ]
     },
     "execution_count": 6,
     "metadata": {},
     "output_type": "execute_result"
    }
   ],
   "source": [
    "p = np.array([0.1, 0.1, 0.05, 0.6, 0.3], dtype=np.float32)\n",
    "y = np.array([0, 0, 0, 1, 0], dtype=np.float32)\n",
    "\n",
    "def mean_squared_error(y, p):\n",
    "    return ((y - p)**2).mean()\n",
    "\n",
    "mean_squared_error(y, p)"
   ]
  },
  {
   "cell_type": "code",
   "execution_count": 5,
   "metadata": {},
   "outputs": [
    {
     "data": {
      "text/plain": [
       "0.054499995"
      ]
     },
     "execution_count": 5,
     "metadata": {},
     "output_type": "execute_result"
    }
   ],
   "source": [
    "metrics.mean_squared_error(y, p)"
   ]
  },
  {
   "cell_type": "code",
   "execution_count": 6,
   "metadata": {},
   "outputs": [
    {
     "name": "stdout",
     "output_type": "stream",
     "text": [
      "normal_a, normal_a\t: 0.0\n",
      "normal_a, normal_b\t: 1.94313775689\n",
      "normal_a, gumbel  \t: 8.34935806101\n",
      "normal_a, exponent\t: 5.89498613265\n",
      "normal_a, uniform \t: 7.26803261167\n"
     ]
    }
   ],
   "source": [
    "compare_distributions(mean_squared_error)"
   ]
  },
  {
   "cell_type": "code",
   "execution_count": 66,
   "metadata": {},
   "outputs": [
    {
     "data": {
      "image/png": "[encoded data removed]",
      "text/plain": [
       "<matplotlib.figure.Figure at 0x7fb96e7f19e8>"
      ]
     },
     "metadata": {},
     "output_type": "display_data"
    }
   ],
   "source": [
    "display_graph(metrics.mean_squared_error, 'mean squared error')"
   ]
  },
  {
   "cell_type": "markdown",
   "metadata": {},
   "source": [
    "## Mean Absolute Error (MAE)\n",
    "\n",
    "MSE가 large error를 낸다면, MAE의 경우는 상대적으로 작은 에러들을 만듭니다.<br>\n",
    "하지만 수학적으로 absolute는 많은 연산량을 필요로 합니다. \n",
    "\n",
    "$$ J(\\theta) = \\frac{1}{N} \\sum^{N}_{i=1} \\left| h_{\\theta}(x^{(i)}) - y^{(i)}  \\right| $$"
   ]
  },
  {
   "cell_type": "code",
   "execution_count": 8,
   "metadata": {},
   "outputs": [
    {
     "data": {
      "text/plain": [
       "0.19"
      ]
     },
     "execution_count": 8,
     "metadata": {},
     "output_type": "execute_result"
    }
   ],
   "source": [
    "def mean_abolute_error(y, p):\n",
    "    return np.abs(y-p).mean()\n",
    "\n",
    "mean_abolute_error(y, p)"
   ]
  },
  {
   "cell_type": "code",
   "execution_count": 9,
   "metadata": {},
   "outputs": [
    {
     "data": {
      "text/plain": [
       "0.19"
      ]
     },
     "execution_count": 9,
     "metadata": {},
     "output_type": "execute_result"
    }
   ],
   "source": [
    "metrics.mean_absolute_error(y, p)"
   ]
  },
  {
   "cell_type": "code",
   "execution_count": 10,
   "metadata": {},
   "outputs": [
    {
     "name": "stdout",
     "output_type": "stream",
     "text": [
      "normal_a, normal_a\t: 0.0\n",
      "normal_a, normal_b\t: 1.11369204926\n",
      "normal_a, gumbel  \t: 2.57300947501\n",
      "normal_a, exponent\t: 2.13340783974\n",
      "normal_a, uniform \t: 2.48578624644\n"
     ]
    }
   ],
   "source": [
    "# Scipy도 동일함\n",
    "compare_distributions(mean_abolute_error)"
   ]
  },
  {
   "cell_type": "code",
   "execution_count": 67,
   "metadata": {},
   "outputs": [
    {
     "data": {
      "image/png": "[encoded data removed]",
      "text/plain": [
       "<matplotlib.figure.Figure at 0x7fb96e64f780>"
      ]
     },
     "metadata": {},
     "output_type": "display_data"
    }
   ],
   "source": [
    "display_graph(metrics.mean_absolute_error, 'mean absolute error')"
   ]
  },
  {
   "cell_type": "markdown",
   "metadata": {},
   "source": [
    "## Root Mean Squared Logarithmic Error (RMSLE)\n",
    "\n",
    "$ p $ 그리고 $ a $ 는 확률.. 즉 0에서 1사이이의 값이 들어가야 합니다.\n",
    "\n",
    "$$ \\epsilon = \\sqrt{\\frac{1}{n} \\sum_{i=1}^n (\\log(p_i + 1) - \\log(a_i+1))^2 } $$"
   ]
  },
  {
   "cell_type": "code",
   "execution_count": 19,
   "metadata": {},
   "outputs": [
    {
     "data": {
      "text/plain": [
       "0.16683918"
      ]
     },
     "execution_count": 19,
     "metadata": {},
     "output_type": "execute_result"
    }
   ],
   "source": [
    "def mean_squared_logarithmic_error(y, p):\n",
    "    try:\n",
    "        l = lambda x: np.nan_to_num(np.log(x + 1))\n",
    "        return np.sqrt(((l(p) - l(y))**2).mean())\n",
    "    except Exception as e:\n",
    "        print(p + 1)\n",
    "        raise e\n",
    "\n",
    "mean_squared_logarithmic_error(y, p)"
   ]
  },
  {
   "cell_type": "code",
   "execution_count": 13,
   "metadata": {},
   "outputs": [
    {
     "name": "stdout",
     "output_type": "stream",
     "text": [
      "normal_a, normal_a\t: 0.0\n",
      "normal_a, normal_b\t: 0.398201741497\n",
      "normal_a, gumbel  \t: 1.40502234456\n",
      "normal_a, exponent\t: 0.890724788695\n",
      "normal_a, uniform \t: 1.02307079398\n"
     ]
    },
    {
     "name": "stderr",
     "output_type": "stream",
     "text": [
      "/usr/local/lib/python3.6/site-packages/ipykernel/__main__.py:3: RuntimeWarning: invalid value encountered in log\n",
      "  app.launch_new_instance()\n"
     ]
    }
   ],
   "source": [
    "compare_distributions(mean_squared_logarithmic_error)"
   ]
  },
  {
   "cell_type": "code",
   "execution_count": 68,
   "metadata": {},
   "outputs": [
    {
     "name": "stderr",
     "output_type": "stream",
     "text": [
      "/usr/local/lib/python3.6/site-packages/ipykernel_launcher.py:3: RuntimeWarning: invalid value encountered in log\n",
      "  This is separate from the ipykernel package so we can avoid doing imports until\n"
     ]
    },
    {
     "data": {
      "image/png": "[encoded data removed]",
      "text/plain": [
       "<matplotlib.figure.Figure at 0x7fb96e686630>"
      ]
     },
     "metadata": {},
     "output_type": "display_data"
    }
   ],
   "source": [
    "display_graph(mean_squared_logarithmic_error, 'mean squared logarithmic error')"
   ]
  },
  {
   "cell_type": "markdown",
   "metadata": {},
   "source": [
    "## Binary Cross Entropy (a.k.a Logarithmic Loss)\n",
    "\n",
    "* https://www.kaggle.com/wiki/LogarithmicLoss\n",
    "\n",
    "$$ \\text{logloss} = -\\frac{1}{N} \\sum^{N}_{i=1} \\left( y^{(i)} \\cdot \\log(p_i) + (1 - y) \\cdot \\log(1- p_i) )  \\right) $$\n",
    "\n"
   ]
  },
  {
   "cell_type": "markdown",
   "metadata": {},
   "source": [
    "#### Numpy"
   ]
  },
  {
   "cell_type": "code",
   "execution_count": 34,
   "metadata": {},
   "outputs": [
    {
     "data": {
      "text/plain": [
       "0.22590297868158524"
      ]
     },
     "execution_count": 34,
     "metadata": {},
     "output_type": "execute_result"
    }
   ],
   "source": [
    "y_true = np.array([0, 0, 0, 1, 0], dtype=np.float64)\n",
    "y_pred = np.array([0.1, 0.1, 0.05, 0.6, 0.3], dtype=np.float64)\n",
    "\n",
    "def binary_cross_entropy(y_true, y_pred):\n",
    "    return -(y_true * np.log(y_pred) + (1-y_true) * np.log(1-y_pred)).mean()\n",
    "\n",
    "binary_cross_entropy(y_true, y_pred)"
   ]
  },
  {
   "cell_type": "markdown",
   "metadata": {},
   "source": [
    "#### Scipy"
   ]
  },
  {
   "cell_type": "code",
   "execution_count": 26,
   "metadata": {},
   "outputs": [
    {
     "data": {
      "text/plain": [
       "0.22590297868158524"
      ]
     },
     "execution_count": 26,
     "metadata": {},
     "output_type": "execute_result"
    }
   ],
   "source": [
    "# Scipy와 동일함\n",
    "metrics.log_loss(y_true, y_pred)"
   ]
  },
  {
   "cell_type": "markdown",
   "metadata": {},
   "source": [
    "#### Pytorch\n",
    "\n",
    "F.binary_cross_entropy 와 nn.BCELoss 의 결과값은 동일합니다."
   ]
  },
  {
   "cell_type": "code",
   "execution_count": 53,
   "metadata": {},
   "outputs": [
    {
     "data": {
      "text/plain": [
       "array([ 0.22590298])"
      ]
     },
     "execution_count": 53,
     "metadata": {},
     "output_type": "execute_result"
    }
   ],
   "source": [
    "y_torch_pred = Variable(torch.DoubleTensor(y_pred))\n",
    "y_torch_true = Variable(torch.DoubleTensor(y_true))\n",
    "\n",
    "torch_crossentropy = nn.BCELoss()\n",
    "torch_crossentropy(y_torch_pred, y_torch_true).data.numpy()"
   ]
  },
  {
   "cell_type": "markdown",
   "metadata": {},
   "source": [
    "#### Display"
   ]
  },
  {
   "cell_type": "code",
   "execution_count": 69,
   "metadata": {},
   "outputs": [
    {
     "name": "stderr",
     "output_type": "stream",
     "text": [
      "/usr/local/lib/python3.6/site-packages/ipykernel_launcher.py:5: RuntimeWarning: invalid value encountered in log\n",
      "  \"\"\"\n"
     ]
    },
    {
     "data": {
      "image/png": "[encoded data removed]",
      "text/plain": [
       "<matplotlib.figure.Figure at 0x7fb96e799710>"
      ]
     },
     "metadata": {},
     "output_type": "display_data"
    }
   ],
   "source": [
    "display_graph(binary_cross_entropy, 'binary cross entropy')"
   ]
  },
  {
   "cell_type": "markdown",
   "metadata": {},
   "source": [
    "## Cross Entropy\n",
    "\n",
    "* https://rdipietro.github.io/friendly-intro-to-cross-entropy-loss/\n",
    "\n",
    "$$ H(y, \\hat{y}) = - \\sum_i y^{(i)} \\log \\hat{y}^{(i)} $$"
   ]
  },
  {
   "cell_type": "markdown",
   "metadata": {},
   "source": [
    "#### Partial derivative of the weights\n",
    "\n",
    "$$ \\begin{eqnarray}\n",
    "H(y, \\hat{y}) &=& -\\frac{\\partial}{\\partial \\theta} \\sum^N_{i=1} y^{(i)} \\log \\hat{y}^{(i)} \\\\\n",
    "&=& - \\sum^N_{i=1} \\frac{y^{(i)}}{ \\frac{\\partial}{\\partial \\theta} \\hat{y}^{(i)}} \\\\\n",
    "&=& - \\sum^N_{i=1} \\frac{y^{(i)}}{ \\frac{\\partial}{\\partial \\theta} \\left( \\theta^{T} \\cdot x^{(i)} + b \\right) } \\\\\n",
    "&=& - \\sum^N_{i=1} \\frac{y^{(i)}}{x^{(i)}}\n",
    "\\end{eqnarray} $$"
   ]
  },
  {
   "cell_type": "markdown",
   "metadata": {},
   "source": [
    "#### Partial derivative of the bias \n",
    "\n",
    "$$ \\begin{eqnarray}\n",
    "H(y, \\hat{y}) &=& -\\frac{\\partial}{\\partial b} \\sum^N_{i=1} y^{(i)} \\log \\hat{y}^{(i)} \\\\\n",
    "&=& - \\sum^N_{i=1} \\frac{y^{(i)}}{ \\frac{\\partial}{\\partial b} \\hat{y}^{(i)}} \\\\\n",
    "&=& - \\sum^N_{i=1} \\frac{y^{(i)}}{ \\frac{\\partial}{\\partial b} \\left( \\theta^{T} \\cdot x^{(i)} + b \\right) } \\\\\n",
    "&=& - \\sum^N_{i=1} y^{(i)}\n",
    "\\end{eqnarray} $$"
   ]
  },
  {
   "cell_type": "markdown",
   "metadata": {},
   "source": [
    "#### Numpy"
   ]
  },
  {
   "cell_type": "code",
   "execution_count": 46,
   "metadata": {},
   "outputs": [
    {
     "data": {
      "text/plain": [
       "0.51082557"
      ]
     },
     "execution_count": 46,
     "metadata": {},
     "output_type": "execute_result"
    }
   ],
   "source": [
    "y_true = np.array([0, 0, 0, 1, 0], dtype=np.float32)\n",
    "y_pred = np.array([0.1, 0.1, 0.05, 0.6, 0.3], dtype=np.float32)\n",
    "\n",
    "def cross_entropy(y_true, y_pred):\n",
    "    return -(y_true * np.log(y_pred)).sum()\n",
    "\n",
    "cross_entropy(y_true, y_pred)"
   ]
  },
  {
   "cell_type": "markdown",
   "metadata": {},
   "source": [
    "#### Pytorch - cross entropy\n",
    "\n",
    "Pytorch의 cross entropy는 일반적인 cross entropy와 전혀 다릅니다.\n",
    "\n",
    "$$ \\hat{y}_{class} + \\log\\left( \\sum_j e^{\\hat{y}_j} \\right) $$"
   ]
  },
  {
   "cell_type": "code",
   "execution_count": 45,
   "metadata": {},
   "outputs": [
    {
     "data": {
      "text/plain": [
       "1.1437464478328658"
      ]
     },
     "execution_count": 45,
     "metadata": {},
     "output_type": "execute_result"
    }
   ],
   "source": [
    "y_true = np.array([3, 1], dtype=np.int64)\n",
    "y_pred = np.array([[0.1, 0.1, 0.05, 0.6, 0.3], \n",
    "                   [0, 0.9, 0.05, 0.001, 0.3]], dtype=np.float64)\n",
    "\n",
    "\n",
    "def torch_cross_entropy(y_pred, labels):\n",
    "    N = y_pred.shape[0]\n",
    "    return (-y_pred[range(N), labels] + np.log(np.sum(np.exp(y_pred), axis=1))).mean()\n",
    "    \n",
    "torch_cross_entropy(y_pred, y_true)"
   ]
  },
  {
   "cell_type": "code",
   "execution_count": 229,
   "metadata": {},
   "outputs": [
    {
     "data": {
      "text/plain": [
       "1.2615328"
      ]
     },
     "execution_count": 229,
     "metadata": {},
     "output_type": "execute_result"
    }
   ],
   "source": [
    "y_true = np.array([3], dtype=np.int64)\n",
    "y_pred = np.array([[0.1, 0.1, 0.05, 0.6, 0.3]], dtype=np.float32)\n",
    "\n",
    "def torch_cross_entropy(y_pred, labels):\n",
    "    N = y_pred.shape[0]\n",
    "    return (-y_pred[range(N), labels] + np.log(np.sum(np.exp(y_pred), axis=1))).mean()\n",
    "    \n",
    "\n",
    "torch_cross_entropy(y_pred, y_true)"
   ]
  },
  {
   "cell_type": "code",
   "execution_count": 230,
   "metadata": {},
   "outputs": [
    {
     "data": {
      "text/plain": [
       "array([ 1.26153278], dtype=float32)"
      ]
     },
     "execution_count": 230,
     "metadata": {},
     "output_type": "execute_result"
    }
   ],
   "source": [
    "y_true = np.array([3], dtype=np.int64)\n",
    "y_pred = np.array([[0.1, 0.1, 0.05, 0.6, 0.3]], dtype=np.float32)\n",
    "\n",
    "y_torch_true = Variable(torch.LongTensor(y_true))\n",
    "y_torch_pred = Variable(torch.FloatTensor(y_pred))\n",
    "\n",
    "torch_cross_entropy = nn.CrossEntropyLoss()\n",
    "torch_cross_entropy(y_torch_pred, y_torch_true).data.numpy()"
   ]
  },
  {
   "cell_type": "markdown",
   "metadata": {},
   "source": [
    "#### Pytorch - Custom Cross Entropy\n",
    "\n",
    "Pytorch에서 제공하는 nn.CrossEntropyLoss는 기존 cross-entropy loss와 다름으로, 정확하게 동일한 코드를 사용시 만들어줘야 합니다."
   ]
  },
  {
   "cell_type": "code",
   "execution_count": 267,
   "metadata": {},
   "outputs": [
    {
     "data": {
      "text/plain": [
       "array([ 0.51082557], dtype=float32)"
      ]
     },
     "execution_count": 267,
     "metadata": {},
     "output_type": "execute_result"
    }
   ],
   "source": [
    "def torch_custom_cross_entropy(y_true, y_pred):\n",
    "    return -torch.sum(y_true * torch.log(y_pred))\n",
    "    \n",
    "y_true = np.array([0, 0, 0, 1, 0], dtype=np.float32)\n",
    "y_pred = np.array([0.1, 0.1, 0.05, 0.6, 0.3], dtype=np.float32)\n",
    "\n",
    "y_torch_true = Variable(torch.FloatTensor(y_true))\n",
    "y_torch_pred = Variable(torch.FloatTensor(y_pred))\n",
    "\n",
    "torch_custom_cross_entropy(y_torch_true, y_torch_pred).data.numpy()"
   ]
  },
  {
   "cell_type": "markdown",
   "metadata": {},
   "source": [
    "#### Display"
   ]
  },
  {
   "cell_type": "code",
   "execution_count": 70,
   "metadata": {
    "scrolled": true
   },
   "outputs": [
    {
     "name": "stderr",
     "output_type": "stream",
     "text": [
      "/usr/local/lib/python3.6/site-packages/ipykernel_launcher.py:5: RuntimeWarning: invalid value encountered in log\n",
      "  \"\"\"\n"
     ]
    },
    {
     "data": {
      "image/png": "[encoded data removed]",
      "text/plain": [
       "<matplotlib.figure.Figure at 0x7fb96f141438>"
      ]
     },
     "metadata": {},
     "output_type": "display_data"
    }
   ],
   "source": [
    "display_graph(cross_entropy, 'cross entropy', y=1)"
   ]
  },
  {
   "cell_type": "markdown",
   "metadata": {},
   "source": [
    "## Hinge Loss\n",
    "\n",
    "logistic과 마찬가지로 binary classification에 사용됩니다.<br>\n",
    "라이브러리 사용하면 알아서 처리되지만, 기본적으로 labels은 -1 또는 1이어야 합니다. \n",
    "\n",
    "$$ J(\\theta) = max(0,\\ 1 - y * f(x)) $$"
   ]
  },
  {
   "cell_type": "code",
   "execution_count": 58,
   "metadata": {},
   "outputs": [
    {
     "data": {
      "text/plain": [
       "0.98999995"
      ]
     },
     "execution_count": 58,
     "metadata": {},
     "output_type": "execute_result"
    }
   ],
   "source": [
    "p = np.array([0.1, 0.1, 0.05, 0.6, 0.3], dtype=np.float32)\n",
    "y = np.array([-1, -1, -1, 1, -1], dtype=np.float32)\n",
    "\n",
    "def hinge_loss(y, p):\n",
    "    l = 1-(y*p)\n",
    "    l[l<=0] = 0\n",
    "    return l.mean()\n",
    "\n",
    "hinge_loss(y, p)"
   ]
  },
  {
   "cell_type": "code",
   "execution_count": 21,
   "metadata": {},
   "outputs": [
    {
     "data": {
      "text/plain": [
       "0.98999999836087227"
      ]
     },
     "execution_count": 21,
     "metadata": {},
     "output_type": "execute_result"
    }
   ],
   "source": [
    "metrics.hinge_loss(y, p)"
   ]
  },
  {
   "cell_type": "code",
   "execution_count": 72,
   "metadata": {},
   "outputs": [
    {
     "data": {
      "image/png": "[encoded data removed]",
      "text/plain": [
       "<matplotlib.figure.Figure at 0x7fb96e4c9ac8>"
      ]
     },
     "metadata": {},
     "output_type": "display_data"
    }
   ],
   "source": [
    "display_graph(hinge_loss, 'Hinge', y=1)"
   ]
  },
  {
   "cell_type": "markdown",
   "metadata": {},
   "source": [
    "## KL-Divergence\n",
    "\n",
    "$ p $ 그리고 $ q $ 는 확률분포 (0에서 1사이의 값) 이어야 합니다.\n",
    "\n",
    "$$ D_{KL}\\left(p(x), q(x)\\right) = \\sum_{x \\in X} p(x) \\ln\\frac{p(x)}{q(x)} $$\n",
    "\n",
    "> 참고로.. Scipy.stats.entropy(a, b)를 사용하면 KL-Divergence를 사용하는 것과 마찬가지인데.. <br>\n",
    "> 내부적으로 nan등 처리가 안되어 있어서 값이 안나옴"
   ]
  },
  {
   "cell_type": "code",
   "execution_count": 74,
   "metadata": {},
   "outputs": [
    {
     "name": "stdout",
     "output_type": "stream",
     "text": [
      "normal_a, normal_a\t: 0.0\n",
      "normal_a, normal_b\t: 368.575575809\n",
      "normal_a, gumbel  \t: 2596.54562019\n",
      "normal_a, exponent\t: 4806.30679955\n",
      "normal_a, uniform \t: 6476.72186957\n"
     ]
    },
    {
     "name": "stderr",
     "output_type": "stream",
     "text": [
      "/usr/local/lib/python3.6/site-packages/ipykernel_launcher.py:2: RuntimeWarning: invalid value encountered in log\n",
      "  \n"
     ]
    }
   ],
   "source": [
    "def kl_divergence(y, p):\n",
    "    return np.sum(y * np.nan_to_num(np.log(y/p)), axis=0)\n",
    "\n",
    "compare_distributions(kl_divergence)"
   ]
  },
  {
   "cell_type": "code",
   "execution_count": 77,
   "metadata": {},
   "outputs": [
    {
     "name": "stderr",
     "output_type": "stream",
     "text": [
      "/usr/local/lib/python3.6/site-packages/ipykernel_launcher.py:2: RuntimeWarning: invalid value encountered in log\n",
      "  \n"
     ]
    },
    {
     "data": {
      "image/png": "[encoded data removed]",
      "text/plain": [
       "<matplotlib.figure.Figure at 0x7fb96e46b2e8>"
      ]
     },
     "metadata": {},
     "output_type": "display_data"
    }
   ],
   "source": [
    "display_graph(kl_divergence, 'KL-Divergence', y=1)"
   ]
  },
  {
   "cell_type": "markdown",
   "metadata": {},
   "source": [
    "## Cosine Proximity\n",
    "\n",
    "* https://en.wikipedia.org/wiki/Cosine_similarity\n",
    "\n",
    "$$ \\text{similarity} = cos(\\theta) = \\frac{A \\cdot B}{ \\| A \\|_2 \\| B \\|_2}  $$"
   ]
  },
  {
   "cell_type": "code",
   "execution_count": 79,
   "metadata": {},
   "outputs": [
    {
     "data": {
      "text/plain": [
       "0.016130089900092459"
      ]
     },
     "execution_count": 79,
     "metadata": {},
     "output_type": "execute_result"
    }
   ],
   "source": [
    "def cosine_proximity(a, b):\n",
    "    norm2 = lambda x: np.sqrt((x**2).sum())\n",
    "    return 1 - (a * b).sum() / (norm2(a) * norm2(b))\n",
    "\n",
    "cosine_proximity(np.array([0.3, 0.4]), np.array([1, 2]))"
   ]
  },
  {
   "cell_type": "code",
   "execution_count": 26,
   "metadata": {},
   "outputs": [
    {
     "name": "stdout",
     "output_type": "stream",
     "text": [
      "normal_a, normal_a\t: 2.22044604925e-16\n",
      "normal_a, normal_b\t: 0.0998470768358\n",
      "normal_a, gumbel  \t: 0.604350409384\n",
      "normal_a, exponent\t: 0.331605768793\n",
      "normal_a, uniform \t: 0.188153360738\n"
     ]
    }
   ],
   "source": [
    "compare_distributions(cosine_distantce)"
   ]
  },
  {
   "cell_type": "code",
   "execution_count": 81,
   "metadata": {},
   "outputs": [
    {
     "data": {
      "image/png": "[encoded data removed]",
      "text/plain": [
       "<matplotlib.figure.Figure at 0x7fb96e6e0da0>"
      ]
     },
     "metadata": {},
     "output_type": "display_data"
    }
   ],
   "source": [
    "display_graph(cosine_proximity, 'Cosine Proximity', y=1)"
   ]
  },
  {
   "cell_type": "markdown",
   "metadata": {},
   "source": [
    "## Poisson\n",
    "\n",
    "* https://github.com/fchollet/keras/pull/479/commits/149d0e8d1871a7864fc2d582d6ce650512de371c"
   ]
  },
  {
   "cell_type": "code",
   "execution_count": 84,
   "metadata": {},
   "outputs": [
    {
     "data": {
      "text/plain": [
       "0.33216509"
      ]
     },
     "execution_count": 84,
     "metadata": {},
     "output_type": "execute_result"
    }
   ],
   "source": [
    "p = np.array([0.1, 0.1, 0.05, 0.6, 0.3], dtype=np.float32)\n",
    "y = np.array([0, 0, 0, 1, 0], dtype=np.float32)\n",
    "\n",
    "def poisson_loss(y, p):\n",
    "    return (p - y * np.log(p)).mean()\n",
    "\n",
    "poisson_loss(y, p)"
   ]
  },
  {
   "cell_type": "code",
   "execution_count": 87,
   "metadata": {},
   "outputs": [
    {
     "name": "stderr",
     "output_type": "stream",
     "text": [
      "/usr/local/lib/python3.6/site-packages/ipykernel_launcher.py:5: RuntimeWarning: invalid value encountered in log\n",
      "  \"\"\"\n"
     ]
    },
    {
     "data": {
      "image/png": "[encoded data removed]",
      "text/plain": [
       "<matplotlib.figure.Figure at 0x7fb96e5b8710>"
      ]
     },
     "metadata": {},
     "output_type": "display_data"
    }
   ],
   "source": [
    "display_graph(poisson_loss, 'Poisson Loss', y=1)"
   ]
  },
  {
   "cell_type": "code",
   "execution_count": null,
   "metadata": {
    "collapsed": true
   },
   "outputs": [],
   "source": []
  }
 ],
 "metadata": {
  "kernelspec": {
   "display_name": "Python 3",
   "language": "python",
   "name": "python3"
  },
  "language_info": {
   "codemirror_mode": {
    "name": "ipython",
    "version": 3
   },
   "file_extension": ".py",
   "mimetype": "text/x-python",
   "name": "python",
   "nbconvert_exporter": "python",
   "pygments_lexer": "ipython3",
   "version": "3.6.1"
  }
 },
 "nbformat": 4,
 "nbformat_minor": 2
}
