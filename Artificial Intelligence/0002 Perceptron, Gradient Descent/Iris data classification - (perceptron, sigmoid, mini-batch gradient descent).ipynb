{
 "cells": [
  {
   "cell_type": "markdown",
   "metadata": {},
   "source": [
    "# Iris Data Classification\n",
    "\n",
    "### Objectives \n",
    "\n",
    "1. Boston 집값 예측하기\n",
    "2. Mini-batch gradient descent 와 Stochastic gradient descent 의 차이점 알기"
   ]
  },
  {
   "cell_type": "code",
   "execution_count": 1,
   "metadata": {
    "collapsed": false
   },
   "outputs": [
    {
     "name": "stdout",
     "output_type": "stream",
     "text": [
      "Populating the interactive namespace from numpy and matplotlib\n"
     ]
    }
   ],
   "source": [
    "%pylab inline\n",
    "import csv\n",
    "import pandas as pd\n",
    "import numpy as np\n",
    "from sklearn import datasets"
   ]
  },
  {
   "cell_type": "markdown",
   "metadata": {},
   "source": [
    "# Data \n",
    "여러 조건들에 따른 보스턴 집값 데이터입니다."
   ]
  },
  {
   "cell_type": "code",
   "execution_count": 2,
   "metadata": {
    "collapsed": false
   },
   "outputs": [
    {
     "name": "stdout",
     "output_type": "stream",
     "text": [
      "Iris Plants Database\n",
      "====================\n",
      "\n",
      "Notes\n",
      "-----\n",
      "Data Set Characteristics:\n",
      "    :Number of Instances: 150 (50 in each of three classes)\n",
      "    :Number of Attributes: 4 numeric, predictive attributes and the class\n",
      "    :Attribute Information:\n",
      "        - sepal length in cm\n",
      "        - sepal width in cm\n",
      "        - petal length in cm\n",
      "        - petal width in cm\n",
      "        - class:\n",
      "                - Iris-Setosa\n",
      "                - Iris-Versicolour\n",
      "                - Iris-Virginica\n",
      "    :Summary Statistics:\n",
      "\n",
      "    ============== ==== ==== ======= ===== ====================\n",
      "                    Min  Max   Mean    SD   Class Correlation\n",
      "    ============== ==== ==== ======= ===== ====================\n",
      "    sepal length:   4.3  7.9   5.84   0.83    0.7826\n",
      "    sepal width:    2.0  4.4   3.05   0.43   -0.4194\n",
      "    petal length:   1.0  6.9   3.76   1.76    0.9490  (high!)\n",
      "    petal width:    0.1  2.5   1.20  0.76     0.9565  (high!)\n",
      "    ============== ==== ==== ======= ===== ====================\n",
      "\n",
      "    :Missing Attribute Values: None\n",
      "    :Class Distribution: 33.3% for each of 3 classes.\n",
      "    :Creator: R.A. Fisher\n",
      "    :Donor: Michael Marshall (MARSHALL%PLU@io.arc.nasa.gov)\n",
      "    :Date: July, 1988\n",
      "\n",
      "This is a copy of UCI ML iris datasets.\n",
      "http://archive.ics.uci.edu/ml/datasets/Iris\n",
      "\n",
      "The famous Iris database, first used by Sir R.A Fisher\n",
      "\n",
      "This is perhaps the best known database to be found in the\n",
      "pattern recognition literature.  Fisher's paper is a classic in the field and\n",
      "is referenced frequently to this day.  (See Duda & Hart, for example.)  The\n",
      "data set contains 3 classes of 50 instances each, where each class refers to a\n",
      "type of iris plant.  One class is linearly separable from the other 2; the\n",
      "latter are NOT linearly separable from each other.\n",
      "\n",
      "References\n",
      "----------\n",
      "   - Fisher,R.A. \"The use of multiple measurements in taxonomic problems\"\n",
      "     Annual Eugenics, 7, Part II, 179-188 (1936); also in \"Contributions to\n",
      "     Mathematical Statistics\" (John Wiley, NY, 1950).\n",
      "   - Duda,R.O., & Hart,P.E. (1973) Pattern Classification and Scene Analysis.\n",
      "     (Q327.D83) John Wiley & Sons.  ISBN 0-471-22361-1.  See page 218.\n",
      "   - Dasarathy, B.V. (1980) \"Nosing Around the Neighborhood: A New System\n",
      "     Structure and Classification Rule for Recognition in Partially Exposed\n",
      "     Environments\".  IEEE Transactions on Pattern Analysis and Machine\n",
      "     Intelligence, Vol. PAMI-2, No. 1, 67-71.\n",
      "   - Gates, G.W. (1972) \"The Reduced Nearest Neighbor Rule\".  IEEE Transactions\n",
      "     on Information Theory, May 1972, 431-433.\n",
      "   - See also: 1988 MLC Proceedings, 54-64.  Cheeseman et al\"s AUTOCLASS II\n",
      "     conceptual clustering system finds 3 classes in the data.\n",
      "   - Many, many more ...\n",
      "\n",
      "X train shape: (110, 4), Y train shape: (110,)\n",
      "X test shape: (40, 4), Y test shape: (40,)\n"
     ]
    },
    {
     "data": {
      "text/plain": [
       "<matplotlib.collections.PathCollection at 0x7f6e684e77d0>"
      ]
     },
     "execution_count": 2,
     "metadata": {},
     "output_type": "execute_result"
    },
    {
     "data": {
      "image/png": "[encoded data removed]",
      "text/plain": [
       "<matplotlib.figure.Figure at 0x7f6e689e6e90>"
      ]
     },
     "metadata": {},
     "output_type": "display_data"
    }
   ],
   "source": [
    "iris = datasets.load_iris()\n",
    "permu = np.random.permutation(len(iris.data))\n",
    "data = iris.data[permu]\n",
    "target = iris.target[permu]\n",
    "\n",
    "x_trains = data[:110]\n",
    "y_trains = target[:110]\n",
    "x_tests = data[110:]\n",
    "y_tests = target[110:]\n",
    "\n",
    "def sample(n=10):\n",
    "    rint = np.random.randint(0, len(x_tests))\n",
    "    return x_tests[rint], y_tests[rint]\n",
    "    \n",
    "\n",
    "print iris.DESCR\n",
    "print 'X train shape: %s, Y train shape: %s'% (x_trains.shape, y_trains.shape)\n",
    "print 'X test shape: %s, Y test shape: %s' % (x_tests.shape, y_tests.shape)\n",
    "pylab.scatter(xrange(len(iris.target)), iris.target, color='#1277bb')"
   ]
  },
  {
   "cell_type": "markdown",
   "metadata": {},
   "source": [
    "# Neural Network with mini-batch gradient descent\n",
    "\n",
    "Mini-batch Gradient Descent를 통해서 fitting line을 찾는 예제 입니다."
   ]
  },
  {
   "cell_type": "markdown",
   "metadata": {},
   "source": [
    "# Sigmoid and Derivative of sigmoidm\n",
    "\n",
    "sigmoid function 는 다음과 같습니다.\n",
    "\n",
    "$$ \\sigma(x) = \\dfrac{1}{1 + e^{-x}} $$\n",
    "\n",
    "Derivative of sigmoid 는 다음과 같습니다.\n",
    "\n",
    "$$ \\dfrac{d}{dx}\\sigma(x) = \\sigma(x)(1 - \\sigma(x)) $$\n",
    "\n",
    "자세한 설명.. \n",
    "\n",
    "$$ \\begin{align}\n",
    "\\dfrac{d}{dx} \\sigma(x) &= \\dfrac{d}{dx} \\left[ \\dfrac{1}{1 + e^{-x}} \\right] \\\\\n",
    "&= \\dfrac{d}{dx} \\left( 1 + \\mathrm{e}^{-x} \\right)^{-1} \\\\\n",
    "&= -(1 + e^{-x})^{-2}(-e^{-x}) \\\\\n",
    "&= \\dfrac{e^{-x}}{\\left(1 + e^{-x}\\right)^2} \\\\\n",
    "&= \\dfrac{1}{1 + e^{-x}\\ } \\cdot \\dfrac{e^{-x}}{1 + e^{-x}}  \\\\\n",
    "&= \\dfrac{1}{1 + e^{-x}\\ } \\cdot \\dfrac{(1 + e^{-x}) - 1}{1 + e^{-x}}  \\\\\n",
    "&= \\dfrac{1}{1 + e^{-x}\\ } \\cdot \\left( 1 - \\dfrac{1}{1 + e^{-x}} \\right) \\\\\n",
    "&= \\sigma(x) \\cdot (1 - \\sigma(x))\n",
    "\\end{align} $$"
   ]
  },
  {
   "cell_type": "code",
   "execution_count": 3,
   "metadata": {
    "collapsed": false
   },
   "outputs": [],
   "source": [
    "class Perceptron(object):\n",
    "    \n",
    "    def __init__(self, learning_rate=0.01):\n",
    "        self.w = np.random.rand(4 + 1, 3) \n",
    "        self.eta = learning_rate\n",
    "                    \n",
    "    def predict(self, xdata):\n",
    "        net = xdata.dot(self.w[1:]) + self.w[0]\n",
    "        net = self.sigmoid(net)\n",
    "        return net\n",
    "    \n",
    "    # our sigmoid function, tanh is a little nicer than the standard 1/(1+e^-x)\n",
    "    def sigmoid(self, x):\n",
    "        return 1./(1+np.exp(-x))\n",
    "    \n",
    "    def dsigmoid(self, y):\n",
    "        return y * (1 - y)\n",
    "\n",
    "    def relu(self, net):\n",
    "        return np.maximum(net, 0)\n",
    "    \n",
    "    def train(self,n_episode=50):\n",
    "        \n",
    "        for self.step in xrange(n_episode):\n",
    "            _errors = []\n",
    "            for i in range(10000):\n",
    "                sample_x, sample_y = self._train_sample()\n",
    "                output = self.predict(sample_x)\n",
    "                \n",
    "                # derivative of sigmoid\n",
    "                errors = sample_y - output\n",
    "                delta = errors * self.dsigmoid(output)\n",
    "                                \n",
    "                self.w[1:] += self.eta * sample_x.T.dot(delta)\n",
    "                self.w[0] = self.eta * np.sum(delta)\n",
    "                \n",
    "                _errors.append(errors)\n",
    "            print '\\rcost: %s' % str(sum(_errors)/len(_errors)),\n",
    "               \n",
    "    \n",
    "    def _train_sample(self):\n",
    "        xs = np.zeros((10, 4), dtype='float32')\n",
    "        ys = np.zeros((10, 3), dtype='float32')\n",
    "        \n",
    "        for i in range(10):\n",
    "            rint = self._rand()\n",
    "            xs[i] = x_trains[rint]\n",
    "            ys[i, y_trains[rint]] = 1\n",
    "        \n",
    "        return xs, ys\n",
    "    \n",
    "    def _rand(self):\n",
    "        return np.random.randint(0, len(x_trains))\n",
    "    \n",
    "    def save(self):\n",
    "        np.save(open('weights', 'wb'), perceptron.w)\n",
    "        \n",
    "    def load(self):\n",
    "        self.w = np.load(open('weights', 'rb'))\n",
    "    \n",
    "    def cost(self, predicted_ys, ys):\n",
    "        ys - predicted_ys\n",
    "        \n",
    "        \n",
    "perceptron = Perceptron()\n",
    "perceptron.load()\n",
    "# perceptron.train()"
   ]
  },
  {
   "cell_type": "code",
   "execution_count": 4,
   "metadata": {
    "collapsed": false
   },
   "outputs": [
    {
     "name": "stdout",
     "output_type": "stream",
     "text": [
      "accuracy: 0.9824\n"
     ]
    }
   ],
   "source": [
    "count = 0\n",
    "for _ in xrange(5000):\n",
    "    x, y = sample()\n",
    "    if np.argmax(perceptron.predict(x)) == y:\n",
    "        count += 1\n",
    "\n",
    "print 'accuracy: ' + str(count/5000.)"
   ]
  },
  {
   "cell_type": "markdown",
   "metadata": {},
   "source": [
    "### References\n",
    "\n",
    "* [A Neural Network in 11 lines of Python (Part 1)](http://iamtrask.github.io/2015/07/12/basic-python-network/)"
   ]
  }
 ],
 "metadata": {
  "kernelspec": {
   "display_name": "Python 2",
   "language": "python",
   "name": "python2"
  },
  "language_info": {
   "codemirror_mode": {
    "name": "ipython",
    "version": 2
   },
   "file_extension": ".py",
   "mimetype": "text/x-python",
   "name": "python",
   "nbconvert_exporter": "python",
   "pygments_lexer": "ipython2",
   "version": "2.7.12"
  }
 },
 "nbformat": 4,
 "nbformat_minor": 1
}
