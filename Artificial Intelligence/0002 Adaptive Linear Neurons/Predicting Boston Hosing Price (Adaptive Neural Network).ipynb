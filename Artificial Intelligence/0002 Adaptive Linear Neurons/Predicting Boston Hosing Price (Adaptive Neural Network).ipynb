{
 "cells": [
  {
   "cell_type": "markdown",
   "metadata": {},
   "source": [
    "# Boston 집값 Neural Network 로 예측하기\n",
    "\n",
    "### Objectives \n",
    "\n",
    "1. Boston 집값 예측하기"
   ]
  },
  {
   "cell_type": "code",
   "execution_count": 7,
   "metadata": {
    "collapsed": false
   },
   "outputs": [
    {
     "name": "stdout",
     "output_type": "stream",
     "text": [
      "Populating the interactive namespace from numpy and matplotlib\n"
     ]
    }
   ],
   "source": [
    "%pylab inline\n",
    "import csv\n",
    "import pandas as pd\n",
    "import numpy as np\n",
    "from sklearn import datasets"
   ]
  },
  {
   "cell_type": "markdown",
   "metadata": {},
   "source": [
    "# Data \n",
    "여러 조건들에 따른 보스턴 집값 데이터입니다."
   ]
  },
  {
   "cell_type": "code",
   "execution_count": 449,
   "metadata": {
    "collapsed": false
   },
   "outputs": [
    {
     "name": "stdout",
     "output_type": "stream",
     "text": [
      "Boston House Prices dataset\n",
      "===========================\n",
      "\n",
      "Notes\n",
      "------\n",
      "Data Set Characteristics:  \n",
      "\n",
      "    :Number of Instances: 506 \n",
      "\n",
      "    :Number of Attributes: 13 numeric/categorical predictive\n",
      "    \n",
      "    :Median Value (attribute 14) is usually the target\n",
      "\n",
      "    :Attribute Information (in order):\n",
      "        - CRIM     per capita crime rate by town\n",
      "        - ZN       proportion of residential land zoned for lots over 25,000 sq.ft.\n",
      "        - INDUS    proportion of non-retail business acres per town\n",
      "        - CHAS     Charles River dummy variable (= 1 if tract bounds river; 0 otherwise)\n",
      "        - NOX      nitric oxides concentration (parts per 10 million)\n",
      "        - RM       average number of rooms per dwelling\n",
      "        - AGE      proportion of owner-occupied units built prior to 1940\n",
      "        - DIS      weighted distances to five Boston employment centres\n",
      "        - RAD      index of accessibility to radial highways\n",
      "        - TAX      full-value property-tax rate per $10,000\n",
      "        - PTRATIO  pupil-teacher ratio by town\n",
      "        - B        1000(Bk - 0.63)^2 where Bk is the proportion of blacks by town\n",
      "        - LSTAT    % lower status of the population\n",
      "        - MEDV     Median value of owner-occupied homes in $1000's\n",
      "\n",
      "    :Missing Attribute Values: None\n",
      "\n",
      "    :Creator: Harrison, D. and Rubinfeld, D.L.\n",
      "\n",
      "This is a copy of UCI ML housing dataset.\n",
      "http://archive.ics.uci.edu/ml/datasets/Housing\n",
      "\n",
      "\n",
      "This dataset was taken from the StatLib library which is maintained at Carnegie Mellon University.\n",
      "\n",
      "The Boston house-price data of Harrison, D. and Rubinfeld, D.L. 'Hedonic\n",
      "prices and the demand for clean air', J. Environ. Economics & Management,\n",
      "vol.5, 81-102, 1978.   Used in Belsley, Kuh & Welsch, 'Regression diagnostics\n",
      "...', Wiley, 1980.   N.B. Various transformations are used in the table on\n",
      "pages 244-261 of the latter.\n",
      "\n",
      "The Boston house-price data has been used in many machine learning papers that address regression\n",
      "problems.   \n",
      "     \n",
      "**References**\n",
      "\n",
      "   - Belsley, Kuh & Welsch, 'Regression diagnostics: Identifying Influential Data and Sources of Collinearity', Wiley, 1980. 244-261.\n",
      "   - Quinlan,R. (1993). Combining Instance-Based and Model-Based Learning. In Proceedings on the Tenth International Conference of Machine Learning, 236-243, University of Massachusetts, Amherst. Morgan Kaufmann.\n",
      "   - many more! (see http://archive.ics.uci.edu/ml/datasets/Housing)\n",
      "\n",
      "X train shape: (400, 13), Y train shape: (400,)\n",
      "X test shape: (106, 13), Y test shape: (106,)\n"
     ]
    },
    {
     "data": {
      "text/plain": [
       "<matplotlib.collections.PathCollection at 0x7f66b8768390>"
      ]
     },
     "execution_count": 449,
     "metadata": {},
     "output_type": "execute_result"
    },
    {
     "data": {
      "image/png": "[encoded data removed]",
      "text/plain": [
       "<matplotlib.figure.Figure at 0x7f66b9856bd0>"
      ]
     },
     "metadata": {},
     "output_type": "display_data"
    }
   ],
   "source": [
    "boston = datasets.load_boston()\n",
    "x_trains = boston.data[:400]\n",
    "y_trains = boston.target[:400]\n",
    "x_tests = boston.data[400:]\n",
    "y_tests = boston.target[400:]\n",
    "\n",
    "def sample(n=10):\n",
    "    return np.array([_sample() for _ in xrange(n)])\n",
    "\n",
    "def _sample():\n",
    "    lambda rand : np.random.randint(0, len(X))\n",
    "    rint = rand()\n",
    "    return x_trains[rint]\n",
    "\n",
    "print boston.DESCR\n",
    "print 'X train shape: %s, Y train shape: %s'% (x_trains.shape, y_trains.shape)\n",
    "print 'X test shape: %s, Y test shape: %s' % (x_tests.shape, y_tests.shape)\n",
    "pylab.scatter(xrange(len(Y)), Y, color='#1277bb')"
   ]
  },
  {
   "cell_type": "markdown",
   "metadata": {},
   "source": [
    "# Neural Network with mini-batch gradient descent\n",
    "\n",
    "Mini-batch Gradient Descent를 통해서 fitting line을 찾는 예제 입니다."
   ]
  },
  {
   "cell_type": "code",
   "execution_count": 626,
   "metadata": {
    "collapsed": false
   },
   "outputs": [
    {
     "ename": "ValueError",
     "evalue": "shapes (64,1) and (10,1) not aligned: 1 (dim 1) != 10 (dim 0)",
     "output_type": "error",
     "traceback": [
      "\u001b[0;31m---------------------------------------------------------------------------\u001b[0m",
      "\u001b[0;31mValueError\u001b[0m                                Traceback (most recent call last)",
      "\u001b[0;32m<ipython-input-626-9020317f7068>\u001b[0m in \u001b[0;36m<module>\u001b[0;34m()\u001b[0m\n\u001b[1;32m     59\u001b[0m \u001b[0madaline\u001b[0m \u001b[0;34m=\u001b[0m \u001b[0mAdaline\u001b[0m\u001b[0;34m(\u001b[0m\u001b[0;34m)\u001b[0m\u001b[0;34m\u001b[0m\u001b[0m\n\u001b[1;32m     60\u001b[0m \u001b[0;31m# adaline.predict(sample())\u001b[0m\u001b[0;34m\u001b[0m\u001b[0;34m\u001b[0m\u001b[0m\n\u001b[0;32m---> 61\u001b[0;31m \u001b[0madaline\u001b[0m\u001b[0;34m.\u001b[0m\u001b[0mtrain\u001b[0m\u001b[0;34m(\u001b[0m\u001b[0;34m)\u001b[0m\u001b[0;34m\u001b[0m\u001b[0m\n\u001b[0m",
      "\u001b[0;32m<ipython-input-626-9020317f7068>\u001b[0m in \u001b[0;36mtrain\u001b[0;34m(self, n_episode)\u001b[0m\n\u001b[1;32m     29\u001b[0m             \u001b[0moutput\u001b[0m \u001b[0;34m=\u001b[0m \u001b[0mself\u001b[0m\u001b[0;34m.\u001b[0m\u001b[0mpredict\u001b[0m\u001b[0;34m(\u001b[0m\u001b[0mxs\u001b[0m\u001b[0;34m)\u001b[0m\u001b[0;34m\u001b[0m\u001b[0m\n\u001b[1;32m     30\u001b[0m             \u001b[0merror\u001b[0m \u001b[0;34m=\u001b[0m \u001b[0;34m(\u001b[0m\u001b[0mys\u001b[0m \u001b[0;34m-\u001b[0m \u001b[0moutput\u001b[0m\u001b[0;34m)\u001b[0m\u001b[0;34m\u001b[0m\u001b[0m\n\u001b[0;32m---> 31\u001b[0;31m             \u001b[0mdelta\u001b[0m \u001b[0;34m=\u001b[0m \u001b[0mself\u001b[0m\u001b[0;34m.\u001b[0m\u001b[0mw3\u001b[0m\u001b[0;34m[\u001b[0m\u001b[0;36m1\u001b[0m\u001b[0;34m:\u001b[0m\u001b[0;34m]\u001b[0m\u001b[0;34m.\u001b[0m\u001b[0mdot\u001b[0m\u001b[0;34m(\u001b[0m\u001b[0merror\u001b[0m\u001b[0;34m)\u001b[0m\u001b[0;34m\u001b[0m\u001b[0m\n\u001b[0m\u001b[1;32m     32\u001b[0m \u001b[0;34m\u001b[0m\u001b[0m\n\u001b[1;32m     33\u001b[0m \u001b[0;31m#             self.w3[1:] += (self.eta * self.w3[1:].dot(error.T))\u001b[0m\u001b[0;34m\u001b[0m\u001b[0;34m\u001b[0m\u001b[0m\n",
      "\u001b[0;31mValueError\u001b[0m: shapes (64,1) and (10,1) not aligned: 1 (dim 1) != 10 (dim 0)"
     ]
    }
   ],
   "source": [
    "class Adaline(object):\n",
    "    \n",
    "    def __init__(self, learning_rate=0.01):\n",
    "        self.w1 = np.random.rand(13+1, 10) # Input\n",
    "        self.w2 = np.random.rand(10 + 1, 64) # Hidden\n",
    "        self.w3 = np.random.rand(64 + 1, 1) # Output\n",
    "        self.eta = learning_rate\n",
    "                    \n",
    "    def predict(self, xdata):\n",
    "        net1 = xdata.dot(self.w1[1:]) + self.w1[0]\n",
    "        net2 = net1.dot(self.w2[1:]) +  self.w2[0]\n",
    "        net3 = net2.dot(self.w3[1:]) +  self.w3[0]\n",
    "        return net3\n",
    "    \n",
    "    # our sigmoid function, tanh is a little nicer than the standard 1/(1+e^-x)\n",
    "    def sigmoid(self, x):\n",
    "        return np.tanh(x)\n",
    "    \n",
    "    def dsigmoid(self, y):\n",
    "        return 1.0 - y**2\n",
    "\n",
    "    def relu(self, net):\n",
    "        return np.maximum(net, 0)\n",
    "    \n",
    "    def train(self,n_episode=1):\n",
    "        \n",
    "        for step in xrange(n_episode):\n",
    "            xs, ys = self._train_sample()\n",
    "            output = self.predict(xs)\n",
    "            error = (ys - output) \n",
    "            delta = self.w3[1:].dot(error)\n",
    "            \n",
    "#             self.w3[1:] += (self.eta * self.w3[1:].dot(error.T))\n",
    "            print self.w3[1:].shape\n",
    "            \n",
    "#             print \n",
    "#             print self.w3[1:].shape\n",
    "#             print\n",
    "#             print  self.w3[1:].dot(xs.T.dot(ys - predicted_ys).T).shape\n",
    "#             print self.w3[1:].shape\n",
    "    \n",
    "    def _train_sample(self):\n",
    "        xs = np.zeros((10, 13), dtype='float32')\n",
    "        ys = np.zeros((10, 1), dtype='float32')\n",
    "        \n",
    "        for i in range(10):\n",
    "            rint = self._rand()\n",
    "            xs[i] = x_trains[rint]\n",
    "            ys[i] = y_trains[rint]\n",
    "        return xs, ys\n",
    "    \n",
    "    def _rand(self):\n",
    "        return np.random.randint(0, len(x_trains))\n",
    "    \n",
    "    def cost(self, predicted_ys, ys):\n",
    "        ys - predicted_ys\n",
    "        \n",
    "        \n",
    "adaline = Adaline()\n",
    "# adaline.predict(sample())\n",
    "adaline.train()\n"
   ]
  },
  {
   "cell_type": "code",
   "execution_count": 451,
   "metadata": {
    "collapsed": false
   },
   "outputs": [
    {
     "name": "stderr",
     "output_type": "stream",
     "text": [
      "/usr/local/lib/python2.7/dist-packages/ipykernel/__main__.py:13: VisibleDeprecationWarning: using a non-integer number instead of an integer will result in an error in the future\n"
     ]
    },
    {
     "data": {
      "text/plain": [
       "(10, 13)"
      ]
     },
     "execution_count": 451,
     "metadata": {},
     "output_type": "execute_result"
    }
   ],
   "source": [
    "sample().shape"
   ]
  },
  {
   "cell_type": "markdown",
   "metadata": {},
   "source": []
  },
  {
   "cell_type": "code",
   "execution_count": null,
   "metadata": {
    "collapsed": true
   },
   "outputs": [],
   "source": []
  }
 ],
 "metadata": {
  "kernelspec": {
   "display_name": "Python 2",
   "language": "python",
   "name": "python2"
  },
  "language_info": {
   "codemirror_mode": {
    "name": "ipython",
    "version": 2
   },
   "file_extension": ".py",
   "mimetype": "text/x-python",
   "name": "python",
   "nbconvert_exporter": "python",
   "pygments_lexer": "ipython2",
   "version": "2.7.12"
  }
 },
 "nbformat": 4,
 "nbformat_minor": 1
}
