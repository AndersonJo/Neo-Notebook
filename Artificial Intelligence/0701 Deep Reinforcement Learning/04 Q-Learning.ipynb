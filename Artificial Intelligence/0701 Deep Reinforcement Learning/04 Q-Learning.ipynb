{
 "cells": [
  {
   "cell_type": "markdown",
   "metadata": {},
   "source": [
    "# Q-Learning\n",
    "\n",
    "* Q Table은 초기에 0값 (np.zeros) 로 시작합니다. \n",
    "* Q Table의 row는 states가 되고, column은 actions로 간주\n",
    "\n",
    "### ForzenLake v0\n",
    "\n",
    "```\n",
    "SFFF       (S: starting point, safe)\n",
    "FHFH       (F: frozen surface, safe)\n",
    "FFFH       (H: hole, fall to your doom)\n",
    "HFFG       (G: goal, where the frisbee is located)\n",
    "```\n",
    "\n",
    "Actions \n",
    "\n",
    "* 오른쪽으로 이동: 3\n",
    "\n",
    "\n",
    "### Bellman Equation \n",
    "\n",
    "\n",
    "\n",
    "## $$ Q(s, a) = learning\\ rate \\cdot (r + \\gamma( max(Q(s^{\\prime}, a^{\\prime})))) $$ "
   ]
  },
  {
   "cell_type": "markdown",
   "metadata": {},
   "source": [
    "# Code Implementation\n",
    "\n",
    "### Load Dependencies"
   ]
  },
  {
   "cell_type": "code",
   "execution_count": 1,
   "metadata": {
    "collapsed": true
   },
   "outputs": [],
   "source": [
    "import gym\n",
    "import numpy as np\n",
    "from time import sleep\n",
    "from IPython.display import clear_output"
   ]
  },
  {
   "cell_type": "code",
   "execution_count": 4,
   "metadata": {
    "collapsed": false,
    "scrolled": false
   },
   "outputs": [
    {
     "name": "stdout",
     "output_type": "stream",
     "text": [
      "SFFF\n",
      "FHFH\n",
      "FFFH\n",
      "HFF\u001b[41mG\u001b[0m\n",
      "  (Right)\n",
      "Total Score: 1.0 Move Count: 23\n"
     ]
    }
   ],
   "source": [
    "class QLearning(object):\n",
    "    \n",
    "    def __init__(self, game, epoch = 20000, lr=0.65, gamma=0.90):\n",
    "        self.env = gym.make(game)\n",
    "        self.epoch = epoch\n",
    "        self.lr = lr\n",
    "        self.gamma = gamma\n",
    "        self.Q = np.zeros((self.env.observation_space.n, self.env.action_space.n))\n",
    "        \n",
    "    def train(self):\n",
    "        env, Q, lr, gamma = self.env, self.Q, self.lr, self.gamma\n",
    "        for i in xrange(1, self.epoch+1):\n",
    "            state = self.env.reset()\n",
    "            \n",
    "            while True:\n",
    "                action = np.argmax(Q[state,:] + np.random.randn(1, env.action_space.n)*(1./(i+1)))\n",
    "                next_state, reward, done, info = env.step(action)\n",
    "                \n",
    "                Q[state, action] += lr*(reward + gamma * max(Q[next_state,:]) - Q[state, action])\n",
    "                if done:\n",
    "                    break\n",
    "                    \n",
    "                state = next_state\n",
    "            \n",
    "            if i% 1000 == 0:\n",
    "                self.render()\n",
    "                print 'epoch:', i\n",
    "                print Q\n",
    "            \n",
    "    def play(self):\n",
    "        env, Q = self.env, self.Q\n",
    "        score = 0\n",
    "        count = 0\n",
    "        state = env.reset()\n",
    "        while True:\n",
    "            action = np.argmax(Q[state, :] + np.random.randn(1, env.action_space.n) * 0.01)\n",
    "            state, reward, done, info = env.step(action)\n",
    "            \n",
    "            self.render()\n",
    "            count += 1\n",
    "            score += reward\n",
    "            if done:\n",
    "                self.render()\n",
    "                break\n",
    "        print 'Total Score:', score, 'Move Count:', count\n",
    "    \n",
    "    def render(self):\n",
    "        clear_output(True)\n",
    "        self.env.render()\n",
    "        sleep(0.1)\n",
    "\n",
    "q = QLearning('FrozenLake-v0')\n",
    "q.train()\n",
    "q.play()"
   ]
  }
 ],
 "metadata": {
  "kernelspec": {
   "display_name": "Python 2",
   "language": "python",
   "name": "python2"
  },
  "language_info": {
   "codemirror_mode": {
    "name": "ipython",
    "version": 2
   },
   "file_extension": ".py",
   "mimetype": "text/x-python",
   "name": "python",
   "nbconvert_exporter": "python",
   "pygments_lexer": "ipython2",
   "version": "2.7.12"
  }
 },
 "nbformat": 4,
 "nbformat_minor": 1
}
