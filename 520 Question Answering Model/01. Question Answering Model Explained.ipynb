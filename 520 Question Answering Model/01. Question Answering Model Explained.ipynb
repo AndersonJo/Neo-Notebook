{
 "cells": [
  {
   "cell_type": "markdown",
   "metadata": {},
   "source": [
    "# Introduction\n",
    "\n",
    "* [Demo website](https://demo.deeppavlov.ai/#/en/textqa)\n",
    "* [SQuAD 2.0 dataset](https://rajpurkar.github.io/SQuAD-explorer/)\n",
    "\n",
    "Question Answering model은 주어진 정보안에서 정보를 찾아서 답변을 하는 NLP 모델입니다."
   ]
  },
  {
   "cell_type": "markdown",
   "metadata": {},
   "source": [
    "# SQuAD 2.0 Dataset"
   ]
  },
  {
   "cell_type": "code",
   "execution_count": 6,
   "metadata": {},
   "outputs": [
    {
     "data": {
      "text/plain": [
       "['{\"version\": \"v2.0\"',\n",
       " ' \"data\": [{\"title\": \"Beyonc\\\\u00e9\"',\n",
       " ' \"paragraphs\": [{\"qas\": [{\"question\": \"When did Beyonce start becoming popular?\"',\n",
       " ' \"id\": \"56be85543aeaaa14008c9063\"',\n",
       " ' \"answers\": [{\"text\": \"in the late 1990s\"',\n",
       " ' \"answer_start\": 269}]',\n",
       " ' \"is_impossible\": false}',\n",
       " ' {\"question\": \"What areas did Beyonce compete in when she was growing up?\"',\n",
       " ' \"id\": \"56be85543aeaaa14008c9065\"',\n",
       " ' \"answers\": [{\"text\": \"singing and dancing\"',\n",
       " ' \"answer_start\": 207}]',\n",
       " ' \"is_impossible\": false}',\n",
       " ' {\"question\": \"When did Beyonce leave Destiny\\'s Child and become a solo singer?\"',\n",
       " ' \"id\": \"56be85543aeaaa14008c9066\"',\n",
       " ' \"answers\": [{\"text\": \"2003\"',\n",
       " ' \"answer_start\": 526}]',\n",
       " ' \"is_impossible\": false}',\n",
       " ' {\"question\": \"In what city and state did Beyonce  grow up? \"',\n",
       " ' \"id\": \"56bf6b0f3aeaaa14008c9601\"',\n",
       " ' \"answers\": [{\"text\": \"Houston',\n",
       " ' Texas\"',\n",
       " ' \"answer_start\": 166}]',\n",
       " ' \"is_impossible\": false}',\n",
       " ' {\"question\": \"In which decade did Beyonce become famous?\"',\n",
       " ' \"id\": \"56bf6b0f3aeaaa14008c9602\"',\n",
       " ' \"answers\": [{\"text\": \"late 1990s\"',\n",
       " ' \"answer_start\": 276}]',\n",
       " ' \"is_impossibl']"
      ]
     },
     "metadata": {},
     "output_type": "display_data"
    }
   ],
   "source": [
    "f = open('train-v2.0.json', 'rt')\n",
    "for line in f:\n",
    "    display(line[:1000].split(','))\n",
    "    break"
   ]
  }
 ],
 "metadata": {
  "kernelspec": {
   "display_name": "Python 3",
   "language": "python",
   "name": "python3"
  },
  "language_info": {
   "codemirror_mode": {
    "name": "ipython",
    "version": 3
   },
   "file_extension": ".py",
   "mimetype": "text/x-python",
   "name": "python",
   "nbconvert_exporter": "python",
   "pygments_lexer": "ipython3",
   "version": "3.6.7"
  },
  "toc": {
   "base_numbering": 1,
   "nav_menu": {},
   "number_sections": true,
   "sideBar": true,
   "skip_h1_title": false,
   "title_cell": "Table of Contents",
   "title_sidebar": "Contents",
   "toc_cell": false,
   "toc_position": {},
   "toc_section_display": true,
   "toc_window_display": false
  }
 },
 "nbformat": 4,
 "nbformat_minor": 2
}
