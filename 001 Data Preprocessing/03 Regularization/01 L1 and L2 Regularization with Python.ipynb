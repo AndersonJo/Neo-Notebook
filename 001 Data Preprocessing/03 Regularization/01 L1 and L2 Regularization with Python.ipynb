{
 "cells": [
  {
   "cell_type": "markdown",
   "metadata": {},
   "source": [
    "# L1 and L2 Regularization\n",
    "\n",
    "**L1 Sum of Squred Error Function**\n",
    "\n",
    "$$ J(w) = \\frac{1}{N} \\left[ \\sum^N_{i=1} (y - \\phi(z))^2 + \\lambda \\sum^N_{j=1} | w_j | \\right] $$\n",
    "\n",
    "**L2 Sum of Squred Error Function**\n",
    "\n",
    "$$ J(w) = \\frac{1}{N} \\left[ \\sum^N_{i=1} (y - \\phi(z))^2 + \\lambda \\sum^N_{j=1} w_j^2 \\right] $$\n",
    "\n",
    "\n",
    "* [Regularized Linear Regression](https://www.coursera.org/learn/machine-learning/lecture/QrMXd/regularized-linear-regression)"
   ]
  },
  {
   "cell_type": "markdown",
   "metadata": {},
   "source": [
    "### Derivative of L2 cost function\n",
    "\n",
    "\n",
    "$$ \\frac{\\partial}{\\partial w} = \\Delta w = - \\frac{\\lambda}{N} w -  \\frac{2}{N} \\sum^N_{i=1} -x_i(y_i - \\sum_{j=0}(w_j x_j )) $$\n",
    "\n",
    "\n",
    "\n",
    "$$ \\frac{\\partial}{\\partial b} = \\Delta b = - \\frac{\\lambda}{N} w - \\frac{2}{N} \\sum^N_{i=1} -(y_i - \\sum_{j=0}(w_j x_j)) $$\n"
   ]
  },
  {
   "cell_type": "code",
   "execution_count": 1,
   "metadata": {
    "collapsed": false
   },
   "outputs": [
    {
     "name": "stdout",
     "output_type": "stream",
     "text": [
      "Populating the interactive namespace from numpy and matplotlib\n"
     ]
    }
   ],
   "source": [
    "%pylab inline\n",
    "import numpy as np\n",
    "import pandas as pd\n",
    "from pprint import pprint as pp\n",
    "\n",
    "np.random.seed(0)"
   ]
  },
  {
   "cell_type": "markdown",
   "metadata": {},
   "source": [
    "### Data\n",
    "\n",
    "**x값**은 1에다가 다음의 값을 나눈것과 같습니다. <br>\n",
    "즉 숫자가 커지면 커질수록 1로 나누기 때문에 결론적으로 값은 작아집니다.<br>\n",
    "따라서 rows를 따라 내려가면 내려갈수록 값은 작아집니다. \n",
    "\n",
    "```\n",
    "[[ 1  2  3  4  5  6  7  8  9 10]\n",
    " [ 2  3  4  5  6  7  8  9 10 11]\n",
    " [ 3  4  5  6  7  8  9 10 11 12]\n",
    " [ 4  5  6  7  8  9 10 11 12 13]\n",
    " [ 5  6  7  8  9 10 11 12 13 14]\n",
    " [ 6  7  8  9 10 11 12 13 14 15]\n",
    " [ 7  8  9 10 11 12 13 14 15 16]\n",
    " [ 8  9 10 11 12 13 14 15 16 17]\n",
    " [ 9 10 11 12 13 14 15 16 17 18]\n",
    " [10 11 12 13 14 15 16 17 18 19]]\n",
    " ```\n",
    " \n",
    " **alphas**의 경우 10^-10 부터 시작해서 10^0 으로 값이 커지는 vector값입니다.<br>\n",
    " 대충 이렇게 생겼습니다.\n",
    " \n",
    " ```\n",
    " [1^-10, 1^-9, 1^-8, ... 1^0]\n",
    " ```"
   ]
  },
  {
   "cell_type": "code",
   "execution_count": 2,
   "metadata": {
    "collapsed": false
   },
   "outputs": [
    {
     "name": "stdout",
     "output_type": "stream",
     "text": [
      "[[ 1.     0.5    0.333  0.25   0.2    0.167  0.143  0.125  0.111  0.1  ]\n",
      " [ 0.5    0.333  0.25   0.2    0.167  0.143  0.125  0.111  0.1    0.091]\n",
      " [ 0.333  0.25   0.2    0.167  0.143  0.125  0.111  0.1    0.091  0.083]\n",
      " [ 0.25   0.2    0.167  0.143  0.125  0.111  0.1    0.091  0.083  0.077]\n",
      " [ 0.2    0.167  0.143  0.125  0.111  0.1    0.091  0.083  0.077  0.071]\n",
      " [ 0.167  0.143  0.125  0.111  0.1    0.091  0.083  0.077  0.071  0.067]\n",
      " [ 0.143  0.125  0.111  0.1    0.091  0.083  0.077  0.071  0.067  0.062]\n",
      " [ 0.125  0.111  0.1    0.091  0.083  0.077  0.071  0.067  0.062  0.059]\n",
      " [ 0.111  0.1    0.091  0.083  0.077  0.071  0.067  0.062  0.059  0.056]\n",
      " [ 0.1    0.091  0.083  0.077  0.071  0.067  0.062  0.059  0.056  0.053]]\n"
     ]
    }
   ],
   "source": [
    "x = 1. / (np.arange(1, 11) + np.arange(0, 10)[:, np.newaxis])\n",
    "x = np.round(x, decimals=3)\n",
    "y = np.ones(10)\n",
    "\n",
    "\n",
    "n_alphas = 200\n",
    "alphas = np.logspace(-10, 0, n_alphas) # 10**np.linspace(-10, 0, n_alphas)\n",
    "\n",
    "print(x)"
   ]
  },
  {
   "cell_type": "markdown",
   "metadata": {},
   "source": [
    "### Model\n",
    "\n",
    "여기서 만든 LinearRegression은 y-intercept 계산을 하지 않습니다. "
   ]
  },
  {
   "cell_type": "code",
   "execution_count": 3,
   "metadata": {
    "collapsed": false
   },
   "outputs": [],
   "source": [
    "class LinearRegression(object):\n",
    "    \n",
    "    def __init__(self, input_size=10):\n",
    "        self.input_size = input_size\n",
    "        self.w = np.random.randn(self.input_size)\n",
    "    \n",
    "    def gradient_descent(self, x, y, alpha=0, eta=0.01):\n",
    "        _w = np.zeros(self.input_size)\n",
    "        N = float(len(x))\n",
    "        for i in range(0, int(N)):\n",
    "            update = (y[i] - self.w.dot(x[i])) - (1-alpha/N) * self.w\n",
    "            _w += -(2/N) * update * x[i]\n",
    "        self.w = self.w - eta * _w\n",
    "        \n",
    "        \n",
    "\n",
    "    def predict(self, x):\n",
    "        x = np.array([x])\n",
    "        return self.w.dot(x) \n",
    "    \n",
    "    def fit(self, x, y, alpha=0, n_epoch=10):\n",
    "        \n",
    "        for epoch in range(n_epoch):\n",
    "            w = self.gradient_descent(x, y, alpha=alpha, eta=0.02)\n",
    "        yhat = self.predict(x)\n",
    "    \n",
    "model = LinearRegression()\n",
    "model.fit(x, y)"
   ]
  },
  {
   "cell_type": "code",
   "execution_count": 4,
   "metadata": {
    "collapsed": false
   },
   "outputs": [
    {
     "data": {
      "image/png": "[encoded data removed]",
      "text/plain": [
       "<matplotlib.figure.Figure at 0x7f11b6006278>"
      ]
     },
     "metadata": {},
     "output_type": "display_data"
    }
   ],
   "source": [
    "model = LinearRegression()\n",
    "coefs = []\n",
    "for a in alphas:\n",
    "    \n",
    "    model.fit(x, y, alpha=a)\n",
    "    model.fit(x, y)\n",
    "    coefs.append(model.w)\n",
    "    \n",
    "\n",
    "ax = plt.gca()\n",
    "ax.plot(alphas, coefs)\n",
    "ax.set_xscale('log')\n",
    "ax.set_xlim(ax.get_xlim()[::-1])  # reverse axis\n",
    "plt.xlabel('alpha')\n",
    "plt.ylabel('weights')\n",
    "\n",
    "plt.axis('tight')\n",
    "plt.show()"
   ]
  }
 ],
 "metadata": {
  "kernelspec": {
   "display_name": "Python 3",
   "language": "python",
   "name": "python3"
  },
  "language_info": {
   "codemirror_mode": {
    "name": "ipython",
    "version": 3
   },
   "file_extension": ".py",
   "mimetype": "text/x-python",
   "name": "python",
   "nbconvert_exporter": "python",
   "pygments_lexer": "ipython3",
   "version": "3.6.0"
  }
 },
 "nbformat": 4,
 "nbformat_minor": 2
}
