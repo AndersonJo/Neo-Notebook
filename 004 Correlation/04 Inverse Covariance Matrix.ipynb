{
 "cells": [
  {
   "cell_type": "markdown",
   "id": "absolute-parcel",
   "metadata": {},
   "source": [
    "# Inverse Matrix \n",
    "\n",
    "계산법이나 수식적인 건.. 이미 알고 있어서 딱히 정리 안함. \n",
    " - https://www.mathsisfun.com/algebra/matrix-inverse.html (참고)\n",
    " "
   ]
  }
 ],
 "metadata": {
  "kernelspec": {
   "display_name": "Python 3",
   "language": "python",
   "name": "python3"
  },
  "language_info": {
   "codemirror_mode": {
    "name": "ipython",
    "version": 3
   },
   "file_extension": ".py",
   "mimetype": "text/x-python",
   "name": "python",
   "nbconvert_exporter": "python",
   "pygments_lexer": "ipython3",
   "version": "3.8.8"
  },
  "toc": {
   "base_numbering": 1,
   "nav_menu": {},
   "number_sections": true,
   "sideBar": true,
   "skip_h1_title": false,
   "title_cell": "Table of Contents",
   "title_sidebar": "Contents",
   "toc_cell": false,
   "toc_position": {},
   "toc_section_display": true,
   "toc_window_display": false
  }
 },
 "nbformat": 4,
 "nbformat_minor": 5
}
