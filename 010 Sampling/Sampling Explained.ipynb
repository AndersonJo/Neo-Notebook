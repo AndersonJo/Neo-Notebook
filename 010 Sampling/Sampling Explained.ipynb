{
 "cells": [
  {
   "cell_type": "code",
   "execution_count": 152,
   "metadata": {},
   "outputs": [
    {
     "name": "stdout",
     "output_type": "stream",
     "text": [
      "Populating the interactive namespace from numpy and matplotlib\n"
     ]
    }
   ],
   "source": [
    "%pylab inline\n",
    "\n",
    "import numpy as np\n",
    "import seaborn as sns\n",
    "\n",
    "from scipy.stats import norm"
   ]
  },
  {
   "cell_type": "markdown",
   "metadata": {},
   "source": [
    "# Sampling Distribution of the Mean\n",
    "\n",
    "## Standard Error (the standard deviation of the sample means)\n",
    "\n",
    "**표준오차** (Standard Error)는 표본평균을 찾아서 모평균을 추정할때 얼마나 정확하게 모평균을 추정하는지 판단할때 사용합니다 (**평균의 정확도**)\n",
    "\n",
    "Central limit theorem ( $ n >= 30 $ 일때 유효함)에 따르면 sample size n이 커짐에 따라, 표본평균의 분포 (the distribution of the sample means)는 모집단의 분포 (the distribution of the population)과는 상관없이 정규분포를 따릅니다. \n",
    "\n",
    "sample size가 커짐에 따라서, 표본 평균은 분포의 중심(the center of the distribution)에 점차 수렴되기 때문에 std는 줄어듭니다<br>\n",
    "아래의 공식은 표본 평균들의 표준편차 (표준오차)의 공식입니다.\n",
    "\n",
    "$$ \\sigma_{\\bar{x}} = \\frac{\\sigma}{\\sqrt{n}} $$\n",
    "\n",
    "* $ \\sigma_{\\bar{x}} $ The standard deviation of the sample means (표본 평균들의 표준편차) - 공식적인 용어로는 [standard error (**표준오차**)](https://en.wikipedia.org/wiki/Standard_error) 라고 함 \n",
    "* $ \\sigma $ : the standard deviation of the population (모집단의 표준편차)\n",
    "* $ n $ : sample size"
   ]
  },
  {
   "cell_type": "code",
   "execution_count": 154,
   "metadata": {},
   "outputs": [
    {
     "name": "stdout",
     "output_type": "stream",
     "text": [
      "population mean: 2.512870592483228\n",
      "sample mean(1) : 2.717197085622836\n",
      "sample mean(2) : 2.5490322923185276 <- 표본크기가 커짐에 따라 표본평균은 모집단의 평균을 approximate한다\n",
      "\n",
      "population std: 2.550553770081959\n",
      "sample std(1) : 2.318836613954905\n",
      "sample std(2) : 0.2823368191070161 <- 표본크기가 커짐에 따라 표본표준편차는 줄어든다\n",
      "\n",
      "standard error(1): 0.46566527800124463\n",
      "standard error(1): 0.04656652780012446\n"
     ]
    },
    {
     "data": {
      "text/plain": [
       "<matplotlib.legend.Legend at 0x7f6d359e3940>"
      ]
     },
     "execution_count": 154,
     "metadata": {},
     "output_type": "execute_result"
    },
    {
     "data": {
      "image/png": "[encoded data removed]",
      "text/plain": [
       "<matplotlib.figure.Figure at 0x7f6d35ec2860>"
      ]
     },
     "metadata": {
      "needs_background": "light"
     },
     "output_type": "display_data"
    }
   ],
   "source": [
    "population = np.random.exponential(2.5, size=10000)\n",
    "sample_means1 = [np.random.choice(population, 1).mean() for _ in range(30)]\n",
    "sample_means2 = [np.random.choice(population, 100).mean() for _ in range(30)]\n",
    "\n",
    "print('population mean:', population.mean())\n",
    "print('sample mean(1) :', np.mean(sample_means1))\n",
    "print('sample mean(2) :', np.mean(sample_means2), '<- 표본크기가 커짐에 따라 표본평균은 모집단의 평균을 approximate한다')\n",
    "print()\n",
    "print('population std:', population.std())\n",
    "print('sample std(1) :', np.std(sample_means1))\n",
    "print('sample std(2) :', np.std(sample_means2), '<- 표본크기가 커짐에 따라 표본표준편차는 줄어든다')\n",
    "print()\n",
    "print('standard error(1):', population.std()/np.sqrt(30))\n",
    "print('standard error(1):', population.std()/np.sqrt(100*30))\n",
    "\n",
    "sns.distplot(population, label='population')\n",
    "px = sns.distplot(sample_means1, label='sample means1')\n",
    "px = sns.distplot(sample_means2, label='sample means2')\n",
    "\n",
    "legend()"
   ]
  },
  {
   "cell_type": "markdown",
   "metadata": {},
   "source": [
    "### Problem 1\n",
    "\n",
    "샘플링을 통해서 아래와 같은 데이터를 얻었고.. 표본평균의 정확도를 알아보기 위해서 표준오차를 계산하여라\n",
    "\n",
    "[14, 36, 45, 70, 105]\n"
   ]
  },
  {
   "cell_type": "code",
   "execution_count": 164,
   "metadata": {},
   "outputs": [
    {
     "name": "stdout",
     "output_type": "stream",
     "text": [
      "standard error: 13.945608627808252\n"
     ]
    }
   ],
   "source": [
    "data = [14, 36, 45, 70, 105]\n",
    "print('standard error:', np.std(data)/np.sqrt(len(data)))"
   ]
  },
  {
   "cell_type": "markdown",
   "metadata": {},
   "source": [
    "### Problem 2\n",
    "Q. 30대 남성의 혈압은 정규분포를 따르며, 평균 122 mmHg 그리고 표준편차는 10mmHg.<br>\n",
    "이때 16명의 남성이 선택되었고 표본평균이 125mmHg 이상일 확률은?"
   ]
  },
  {
   "cell_type": "code",
   "execution_count": 162,
   "metadata": {},
   "outputs": [
    {
     "name": "stdout",
     "output_type": "stream",
     "text": [
      "standard error: 2.5\n",
      "125mmHg 이상일 확률: 0.11506967022170822\n"
     ]
    }
   ],
   "source": [
    "se = 10/np.sqrt(16)\n",
    "print('standard error:', se)\n",
    "print('125mmHg 이상일 확률:', 1 - norm(loc=122, scale=se).cdf(125))"
   ]
  },
  {
   "cell_type": "code",
   "execution_count": null,
   "metadata": {},
   "outputs": [],
   "source": []
  }
 ],
 "metadata": {
  "kernelspec": {
   "display_name": "Python 3",
   "language": "python",
   "name": "python3"
  },
  "language_info": {
   "codemirror_mode": {
    "name": "ipython",
    "version": 3
   },
   "file_extension": ".py",
   "mimetype": "text/x-python",
   "name": "python",
   "nbconvert_exporter": "python",
   "pygments_lexer": "ipython3",
   "version": "3.6.4"
  }
 },
 "nbformat": 4,
 "nbformat_minor": 2
}
