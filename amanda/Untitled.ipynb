{
 "cells": [
  {
   "cell_type": "code",
   "execution_count": 171,
   "metadata": {
    "collapsed": false
   },
   "outputs": [
    {
     "name": "stdout",
     "output_type": "stream",
     "text": [
      "Populating the interactive namespace from numpy and matplotlib\n"
     ]
    },
    {
     "name": "stderr",
     "output_type": "stream",
     "text": [
      "WARNING: pylab import has clobbered these variables: ['random']\n",
      "`%matplotlib` prevents importing * from pylab and numpy\n"
     ]
    }
   ],
   "source": [
    "#-*- coding:utf-8 -*-\n",
    "%pylab inline\n",
    "matplotlib.rc('font', family='NanumGothic')\n",
    "\n",
    "import pandas as pd\n",
    "import random\n",
    "\n",
    "from ppr"
   ]
  },
  {
   "cell_type": "code",
   "execution_count": 226,
   "metadata": {
    "collapsed": false
   },
   "outputs": [],
   "source": [
    "rand_rate = lambda :random.choice([1, 1, 1, 1, 2, 2, 2, 3,3, 4, 5])"
   ]
  },
  {
   "cell_type": "code",
   "execution_count": 238,
   "metadata": {
    "collapsed": false
   },
   "outputs": [
    {
     "name": "stdout",
     "output_type": "stream",
     "text": [
      "5.0\n",
      "[ 5.  1.  5.  2.  1.  5.  4.  2.  3.  3.  1.  5.  3.  3.  4.  1.  5.  2.\n",
      "  5.  1.  5.  5.  2.  2.  5.  5.  1.  5.  2.  2.  1.  1.  5.  0.  5.  2.\n",
      "  4.  2.  5.  5.  3.  1.  1.  5.  2.  5.  1.  3.  5.  3.  2.  4.  2.  2.\n",
      "  5.  5.  1.  4.  1.  2.  5.  5.  0.  5.  1.  5.  2.  2.  3.  3.  3.  5.\n",
      "  3.  2.  5.  2.  3.  4.  5.  3.  1.  1.  3.  5.  5.  0.  2.  5.  2.  5.\n",
      "  2.  2.  2.  5.  5.  1.  5.  3.  2.  1.  3.  3.  5.  2.  5.  4.  2.  1.\n",
      "  2.  5.  5.  3.  1.  2.  2.  5.  4.  3.  2.  5.  1.  5.  1.  2.  5.  4.\n",
      "  1.  5.  5.  1.  3.  2.  5.  4.  4.  2.  1.  2.  5.  4.  2.  1.  2.  5.\n",
      "  2.  4.  5.  5.  2.  1.  5.]\n",
      "data2: [(5, 5), (1, 5), (1, 5), (4, 3.0), (3, 3.0), (3, 4.0), (1, 5.0), (3, 5), (2, 5.0), (4, 1.0), (2, 5), (1, 0.0), (1, 5.0), (1, 2.0), (1, 4.0), (1, 2.0), (3, 5), (4, 5.0), (1, 1.0), (2, 5), (1, 2.0), (2, 5), (1, 1.0), (1, 3.0), (4, 5), (3, 3.0), (2, 2.0), (2, 4.0), (2, 2.0), (1, 2.0), (2, 5), (5, 5), (3, 4.0), (1, 1.0), (1, 2.0), (2, 5), (5, 5), (3, 0.0), (2, 5.0), (1, 1.0), (3, 5), (2, 2.0), (1, 2.0), (1, 3.0), (1, 3.0), (1, 3.0), (3, 5), (2, 3.0), (1, 2.0), (2, 5.0), (2, 2.0), (2, 3.0), (2, 4.0), (4, 5.0), (1, 1.0), (1, 3.0), (3, 5), (5, 5), (1, 0.0), (1, 2.0), (3, 5), (1, 2.0), (4, 5), (2, 2.0), (1, 2.0), (1, 2.0), (2, 5), (4, 5), (1, 1.0), (4, 5), (3, 3.0), (2, 2.0), (1, 1.0), (1, 3.0), (1, 3.0), (3, 5), (1, 2.0), (3, 5), (3, 4.0), (2, 2.0), (1, 1.0), (1, 2.0), (2, 5.0), (3, 5.0), (3, 3.0), (1, 1.0), (1, 2.0), (1, 2.0), (2, 5), (2, 4.0), (2, 3.0), (1, 2.0), (5, 5), (1, 1.0), (3, 5), (1, 1.0), (1, 2.0), (3, 5), (2, 4.0), (1, 1.0), (4, 5), (4, 5), (1, 1.0), (2, 3.0), (1, 2.0), (3, 5), (3, 4.0), (4, 4.0), (3, 2.0), (1, 1.0), (1, 2.0), (3, 5), (3, 4.0), (2, 2.0), (1, 1.0), (1, 2.0), (4, 5), (1, 2.0), (2, 4.0), (3, 5), (5, 5), (3, 2.0), (1, 1.0), (3, 5.0)]\n",
      "3.07947019868\n"
     ]
    },
    {
     "data": {
      "text/plain": [
       "[<matplotlib.lines.Line2D at 0x7fce416a4390>]"
      ]
     },
     "execution_count": 238,
     "metadata": {},
     "output_type": "execute_result"
    },
    {
     "data": {
      "image/png": "[encoded data removed]",
      "text/plain": [
       "<matplotlib.figure.Figure at 0x7fce419efbd0>"
      ]
     },
     "metadata": {},
     "output_type": "display_data"
    }
   ],
   "source": [
    "data = np.array([rand_rate() for i in range(1)])\n",
    "data2 = []\n",
    "print data.mean()\n",
    "for i in range(150):\n",
    "    if data.mean() < 3.1:\n",
    "        rate = rand_rate()\n",
    "        y = min([round(50 * (3.1 - data.mean()) * rate), 5])\n",
    "        y = 1 if y < 0 else y\n",
    "        data2.append((rate, y))\n",
    "    else:\n",
    "        y = rand_rate()\n",
    "    data = np.append(data, y)\n",
    "\n",
    "print data\n",
    "print 'data2:', data2\n",
    "print data.mean()  \n",
    "plt.plot(data.cumsum())"
   ]
  }
 ],
 "metadata": {
  "kernelspec": {
   "display_name": "Python 2",
   "language": "python",
   "name": "python2"
  },
  "language_info": {
   "codemirror_mode": {
    "name": "ipython",
    "version": 2
   },
   "file_extension": ".py",
   "mimetype": "text/x-python",
   "name": "python",
   "nbconvert_exporter": "python",
   "pygments_lexer": "ipython2",
   "version": "2.7.10"
  }
 },
 "nbformat": 4,
 "nbformat_minor": 0
}
