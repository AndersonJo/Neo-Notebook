{
 "metadata": {
  "name": "",
  "signature": "sha256:e2b0350e36b1c720d463e177df9b788615c40775c7767cf4fe73709d0717fb1f"
 },
 "nbformat": 3,
 "nbformat_minor": 0,
 "worksheets": [
  {
   "cells": [
    {
     "cell_type": "code",
     "collapsed": true,
     "input": [
      "from pyspark import SparkContext, SparkConf\n",
      "from pyspark.sql import SQLContext\n",
      "\n",
      "spconf = SparkConf().setMaster('local[4]').setAppName('Tutorial')\n",
      "sc = SparkContext(conf=spconf)\n",
      "sqlContext = SQLContext(sc)"
     ],
     "language": "python",
     "metadata": {},
     "outputs": [],
     "prompt_number": 1
    },
    {
     "cell_type": "code",
     "collapsed": true,
     "input": [
      "users = sqlContext.read.format(\"jdbc\").options(\n",
      "    url=\"jdbc:postgresql://amanda-development03.cua2ch4xbz7g.ap-northeast-1.rds.amazonaws.com:50012/amanda\",\n",
      "    driver = \"org.postgresql.Driver\",\n",
      "    dbtable = \"users\",\n",
      "    user=\"amandamaster\",\n",
      "    password=\"snafo283lsaf_AFE376473\").load()\n",
      "    \n",
      "\n",
      "matchings = sqlContext.read.format(\"jdbc\").options(\n",
      "    url=\"jdbc:postgresql://amanda-development03.cua2ch4xbz7g.ap-northeast-1.rds.amazonaws.com:50012/amanda\",\n",
      "    driver = \"org.postgresql.Driver\",\n",
      "    dbtable = \"matchings\",\n",
      "    user=\"amandamaster\",\n",
      "    password=\"snafo283lsaf_AFE376473\").load()\n"
     ],
     "language": "python",
     "metadata": {},
     "outputs": [],
     "prompt_number": 3
    },
    {
     "cell_type": "code",
     "collapsed": false,
     "input": [
      "sqlContext.registerDataFrameAsTable(users, 'users')\n",
      "sqlContext.registerDataFrameAsTable(matchings, 'matchings')"
     ],
     "language": "python",
     "metadata": {},
     "outputs": [],
     "prompt_number": 4
    },
    {
     "cell_type": "code",
     "collapsed": false,
     "input": [
      "df = sqlContext.sql('select id, nickname from users limit 5')\n",
      "print df.take(5)"
     ],
     "language": "python",
     "metadata": {},
     "outputs": [
      {
       "output_type": "stream",
       "stream": "stdout",
       "text": [
        "[Row(id=754184, nickname=u'\\uc9c0\\uc7782425'), Row(id=195101, nickname=u'\\uae00\\uc384..'), Row(id=322672, nickname=u'\\uc544\\ub9cc\\ub530\\ucc0c'), Row(id=234287, nickname=None), Row(id=306937, nickname=None)]\n"
       ]
      }
     ],
     "prompt_number": 7
    },
    {
     "cell_type": "code",
     "collapsed": true,
     "input": [
      "df.cache()"
     ],
     "language": "python",
     "metadata": {},
     "outputs": [
      {
       "metadata": {},
       "output_type": "pyout",
       "prompt_number": 9,
       "text": [
        "DataFrame[id: int, nickname: string]"
       ]
      }
     ],
     "prompt_number": 9
    },
    {
     "cell_type": "code",
     "collapsed": false,
     "input": [
      "print df.collect()"
     ],
     "language": "python",
     "metadata": {},
     "outputs": [
      {
       "output_type": "stream",
       "stream": "stdout",
       "text": [
        "[Row(id=754184, nickname=u'\\uc9c0\\uc7782425'), Row(id=195101, nickname=u'\\uae00\\uc384..'), Row(id=322672, nickname=u'\\uc544\\ub9cc\\ub530\\ucc0c'), Row(id=234287, nickname=None), Row(id=306937, nickname=None)]\n"
       ]
      }
     ],
     "prompt_number": 13
    }
   ],
   "metadata": {}
  }
 ]
}