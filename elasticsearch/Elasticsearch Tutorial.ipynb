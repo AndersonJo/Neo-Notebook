{
 "metadata": {
  "name": "",
  "signature": "sha256:8d0595a5cd416fd0f7d608e7babd04fc1fe25981948b38fdf1857d92d6595e98"
 },
 "nbformat": 3,
 "nbformat_minor": 0,
 "worksheets": [
  {
   "cells": [
    {
     "cell_type": "code",
     "collapsed": false,
     "input": [
      "from elasticsearch import Elasticsearch\n",
      "es = Elasticsearch([{'host': 'localhost', 'port': 9200}])"
     ],
     "language": "python",
     "metadata": {},
     "outputs": [],
     "prompt_number": 3
    },
    {
     "cell_type": "code",
     "collapsed": false,
     "input": [
      "#index some test data\n",
      "es.index(index='test-index', doc_type='test', id=1, body={'test': 'test'})"
     ],
     "language": "python",
     "metadata": {},
     "outputs": [
      {
       "metadata": {},
       "output_type": "pyout",
       "prompt_number": 8,
       "text": [
        "{u'_id': u'1',\n",
        " u'_index': u'test-index',\n",
        " u'_shards': {u'failed': 0, u'successful': 1, u'total': 2},\n",
        " u'_type': u'test',\n",
        " u'_version': 5,\n",
        " u'created': True}"
       ]
      }
     ],
     "prompt_number": 8
    },
    {
     "cell_type": "code",
     "collapsed": false,
     "input": [
      "#delete test data and try with something more interesting\n",
      "es.delete(index='test-index', doc_type='test', id=1)"
     ],
     "language": "python",
     "metadata": {},
     "outputs": [
      {
       "metadata": {},
       "output_type": "pyout",
       "prompt_number": 9,
       "text": [
        "{u'_id': u'1',\n",
        " u'_index': u'test-index',\n",
        " u'_shards': {u'failed': 0, u'successful': 1, u'total': 2},\n",
        " u'_type': u'test',\n",
        " u'_version': 6,\n",
        " u'found': True}"
       ]
      }
     ],
     "prompt_number": 9
    },
    {
     "cell_type": "code",
     "collapsed": false,
     "input": [
      "es.index(index='sw', doc_type='people', id=1, body={\n",
      "    \"name\": \"Luke Skywalker\",\n",
      "    \"height\": \"172\",\n",
      "    \"mass\": \"77\",\n",
      "    \"hair_color\": \"blond\",\n",
      "    \"birth_year\": \"19BBY\",\n",
      "    \"gender\": \"male\",\n",
      "})"
     ],
     "language": "python",
     "metadata": {},
     "outputs": [
      {
       "metadata": {},
       "output_type": "pyout",
       "prompt_number": 10,
       "text": [
        "{u'_id': u'1',\n",
        " u'_index': u'sw',\n",
        " u'_shards': {u'failed': 0, u'successful': 1, u'total': 2},\n",
        " u'_type': u'people',\n",
        " u'_version': 1,\n",
        " u'created': True}"
       ]
      }
     ],
     "prompt_number": 10
    },
    {
     "cell_type": "code",
     "collapsed": false,
     "input": [],
     "language": "python",
     "metadata": {},
     "outputs": []
    }
   ],
   "metadata": {}
  }
 ]
}