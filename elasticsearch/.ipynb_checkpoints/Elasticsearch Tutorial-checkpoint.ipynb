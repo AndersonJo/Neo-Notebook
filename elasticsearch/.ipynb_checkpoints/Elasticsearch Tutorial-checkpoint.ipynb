{
 "metadata": {
  "name": "",
  "signature": "sha256:c003bd99877bfeb6338f17b9756a079d55f9d9c0e451c23f82dfdef69656f942"
 },
 "nbformat": 3,
 "nbformat_minor": 0,
 "worksheets": [
  {
   "cells": [
    {
     "cell_type": "code",
     "collapsed": false,
     "input": [
      "from elasticsearch import Elasticsearch\n",
      "es = Elasticsearch([{'host': 'localhost', 'port': 9200}])"
     ],
     "language": "python",
     "metadata": {},
     "outputs": [],
     "prompt_number": 2
    }
   ],
   "metadata": {}
  }
 ]
}