{
 "cells": [
  {
   "cell_type": "code",
   "execution_count": 1,
   "metadata": {},
   "outputs": [
    {
     "name": "stdout",
     "output_type": "stream",
     "text": [
      "Populating the interactive namespace from numpy and matplotlib\n"
     ]
    }
   ],
   "source": [
    "%pylab inline\n",
    "import numpy as np\n",
    "from numpy.linalg import det, eig"
   ]
  },
  {
   "cell_type": "markdown",
   "metadata": {},
   "source": [
    "# Definition\n",
    "\n",
    "$$ \\mathbf{Av} = \\lambda \\mathbf{v} $$\n",
    "\n",
    "* $ \\mathbf{v} $ : Eigenvector 이며 $ \\mathbf{v} \\ne \\mathbf{0} $ 즉 non-zero vector 이다.\n",
    "* $ \\mathbf{\\lambda} $ : Eignevalue\n",
    "* $ \\mathbf{v} $ 는 non-zero vector 로서 non-trivial solution 입니다. $ \\mathbf{v} \\ne \\mathbf{0} $ (trivial solution이란.. 0을 포함한다는 뜻)\n",
    "* $ \\mathbf{\\lambda} $ 는 $ \\mathbf{v} $ 의 길이만 transformation 합니다. (즉 방향을 바꾸지는 않음)\n",
    "* matrix $ \\mathbf{A} $ 는 square matrix 로서 n x n 의 크기를 갖습니다. \n",
    "\n",
    "예를 들어서, matrix $ \\mathbf{A} $ 그리고 vector $ \\mathbf{u} $ 를 곱하면 다음과 같습니다.\n",
    "\n",
    "$$ \\mathbf{Au} = \\begin{bmatrix}1 & 2\\\\8 & 1\\end{bmatrix} \\begin{bmatrix}1 \\\\ 2 \\end{bmatrix}\n",
    "= \\begin{bmatrix}5 \\\\ 10 \\end{bmatrix} = 5 \\begin{bmatrix}1 \\\\ 2 \\end{bmatrix} = \\lambda \\mathbf{u} $$\n",
    "\n",
    "여기서 중요한 점은 $ \\mathbf{Av} $ 는 scalar $ \\lambda \\mathbf{v} $ 로 transformation되었습니다. <br>\n",
    "즉 scalar $ \\lambda $ 가 $ \\mathbf{v} $ 에 곱해진다는 뜻은 **선형적으로 $ \\mathbf{v} $ 의 길이만 변형시킨다는 뜻입니다**. (방향은 바꾸지 않고, 길이만 바꿈)"
   ]
  },
  {
   "cell_type": "markdown",
   "metadata": {},
   "source": [
    "# Characteristic Equation (특성 방정식)\n",
    "\n",
    "characteristic equation을 통해서 eigenvalue 와 eigenvector를 찾을 수 있습니다.<br>\n",
    "아래 첫번째 characteristic equation을 사용해서 $ \\lambda $ 를 찾은후, 두번째 공식을 통해서 eigenvector $ \\mathbf{v} $ 를 찾습니다.\n",
    "\n",
    "$$ \\det(\\mathbf{A} - \\lambda I) = \\mathbf{0} $$\n",
    "\n",
    "$$ (\\mathbf{A} - \\lambda I) \\mathbf{v} = \\mathbf{0} $$\n",
    "\n",
    "Characteristic equation이 어떻게 도출되었는지 설명하겠습니다.<br>\n",
    "먼저 $ \\mathbf{Av} = \\lambda \\mathbf{v} $ 공식은 다음과 같이 쓸수 있습니다. ( $ \\text{I} $ 는 Identity matrix)\n",
    "\n",
    "$$ \\begin{align}\n",
    "\\mathbf{Av} &= \\lambda \\mathbf{Iv} \\\\\n",
    "\\mathbf{Av} - \\lambda \\mathbf{Iv} &= \\mathbf{0} \\\\\n",
    "(\\mathbf{A} - \\lambda \\mathbf{I}) \\mathbf{v} &= \\mathbf{0}\n",
    "\\end{align} $$ \n",
    "\n",
    "\n",
    "이때 정의상 위의 공식은 는 non-trivial solution (0을 solution으로 갖고 있지 않는 vector) 입니다. <br>\n",
    "즉 $ \\mathbf{A} - \\lambda \\mathbf{I} $ 는 singular matrix 라는 뜻이고 다음과 같이 정의할 수 있습니다.\n",
    "\n",
    "$$ \\det(\\mathbf{A} - \\lambda I) = \\mathbf{0} $$\n",
    "\n"
   ]
  },
  {
   "cell_type": "markdown",
   "metadata": {},
   "source": [
    "## 예제\n",
    "\n",
    "다음 matrix A 에 대한 eigenvalue 그리고 eigenvector를 구하시오\n",
    "\n",
    "$$ \\mathbf{A} = \\begin{bmatrix}2 & 0\\\\1 & 3\\end{bmatrix} $$\n",
    "\n",
    "먼저 eigenvalue를 구합니다.\n",
    "\n",
    "$$ \\begin{align} \\det(\\mathbf{A} - \\lambda \\mathbf{I}) &= 0 \\\\\n",
    "\\det \\left( \\begin{bmatrix}2 & 0\\\\1 & 3\\end{bmatrix} - \\lambda \\begin{bmatrix}1 & 0\\\\0 & 1\\end{bmatrix}  \\right) &= 0 \\\\\n",
    "\\det \\left( \\begin{bmatrix}2 & 0\\\\1 & 3\\end{bmatrix} - \\begin{bmatrix} \\lambda & 0\\\\0 &  \\lambda \\end{bmatrix}  \\right) &= 0 \\\\\n",
    "\\det \\left( \\begin{bmatrix}2 - \\lambda & 0\\\\1 & 3 -\\lambda\\end{bmatrix} \\right) &= 0 \\\\\n",
    "(2 - \\lambda) (3 -\\lambda) - (1 * 0) = 0 \\\\\n",
    "(2 - \\lambda) (3 -\\lambda) = 0 \\\\\n",
    "\\\\\n",
    "\\lambda_1 = 2 \\text{ or } \\lambda_2 = 3\n",
    "\\end{align} $$\n",
    "\n",
    "즉 $ \\lambda $ 의 solutions은 2 또는 3 입니다.<br>\n",
    "대입함으로서 eigenvector를 구할 수 있습니다. <br>\n",
    "\n",
    "**2를 대입시**\n",
    "\n",
    "예를 들어서 2를 넣었을 경우 eigenvector구하는 과정은 다음과 같습니다.\n",
    "\n",
    "$$ \\begin{align} \n",
    "(\\mathbf{A} - 2 \\mathbf{I}) \\mathbf{v} &= \\mathbf{0} \\\\\n",
    "\\left( \\begin{bmatrix}2 & 0\\\\1 & 3\\end{bmatrix} - 2 \\begin{bmatrix}1 & 0\\\\0 & 1\\end{bmatrix} \\right) \\mathbf{v} = \\mathbf{0} \\\\\n",
    "\\left( \\begin{bmatrix}2 & 0\\\\1 & 3\\end{bmatrix} - \\begin{bmatrix}2 & 0\\\\0 & 2\\end{bmatrix} \\right) \\mathbf{v} = \\mathbf{0} \\\\\n",
    "\\begin{bmatrix}0 & 0\\\\1 & 1\\end{bmatrix}  \\mathbf{v} = \\mathbf{0}  \\\\\n",
    "\\begin{bmatrix}0 & 0\\\\1 & 1\\end{bmatrix} \\begin{bmatrix}x \\\\ y \\end{bmatrix}  = \\mathbf{0}  \\\\\n",
    "\\begin{bmatrix}0 \\\\ x + y \\end{bmatrix} = \\mathbf{0}\n",
    "\\end{align} $$\n",
    "\n",
    "즉 $ x = -y $ 라는 결론을 얻을 수 있으며 이때 x 와 y는 0이 되어서는 안됩니다. (non-trivial solution이기 때문에)<br>\n",
    "따라서 가장 간단한 해답은 $ \\begin{bmatrix}1 \\\\ -1 \\end{bmatrix} $, $ \\begin{bmatrix}2 \\\\ -2 \\end{bmatrix} $ , $ \\begin{bmatrix}3 \\\\ -3 \\end{bmatrix} $ ... $ \\begin{bmatrix}s \\\\ -s \\end{bmatrix} $  이며 $ s \\ne 0 $ 입니다.\n",
    "\n",
    "\n",
    "$$ \\mathbf{v} = \\begin{bmatrix} s \\\\ -s \\end{bmatrix} =  s \\begin{bmatrix} 1 \\\\ -1 \\end{bmatrix} \n",
    "\\text{ where } s \\ne 0 $$ \n",
    "\n",
    "\n",
    "**3을 대입시**\n",
    "\n",
    "만약 3을 대입했을 경우는 결론적으로 다음과 같은 수식을 얻게 됩니다.\n",
    "\n",
    "$$ \\begin{align} \n",
    "\\begin{bmatrix}-1, 0 \\\\ 1, 0 \\end{bmatrix} \\begin{bmatrix} x \\\\ y \\end{bmatrix} = \\mathbf{0} \\\\\n",
    "\\end{align} $$\n",
    "\n",
    "따라서 $ -x + 0 = 0 $ 또는 $ x + 0 = 0 $ 결론이 나오게 되며.. 한마디로 $ x = 0 $ 입니다.<br>\n",
    "y의 값은 0을 제외한 모든 실수의 값을 갖을 수 있습니다.<br>\n",
    "eigenvector는 다음과 같습니다.\n",
    "\n",
    "$$ \\mathbf{v} = \\begin{bmatrix} x \\\\ y \\end{bmatrix} = \\begin{bmatrix} 0 \\\\ s \\end{bmatrix} = s \\begin{bmatrix} 0 \\\\ 1 \\end{bmatrix} \\text{ where } s \\ne 0 $$ "
   ]
  },
  {
   "cell_type": "markdown",
   "metadata": {},
   "source": [
    "# Eigenspace"
   ]
  },
  {
   "cell_type": "code",
   "execution_count": 130,
   "metadata": {},
   "outputs": [
    {
     "data": {
      "text/plain": [
       "(-12*y + (x - 1)*(y - 4)*(z + 3) + 48, Matrix([\n",
       " [0],\n",
       " [0],\n",
       " [0]]))"
      ]
     },
     "execution_count": 130,
     "metadata": {},
     "output_type": "execute_result"
    }
   ],
   "source": [
    "import sympy as sp\n",
    "from sympy.solvers import solve\n",
    "from sympy.vector import Vector\n",
    "\n",
    "A = sp.Matrix([[1, 0, 4], [0, 4, 0], [3, 5, -3]])\n",
    "x, y, z = sp.symbols('x y z')\n",
    "l = sp.Matrix([[x, 0, 0], [0, y, 0], [0, 0, z]])\n",
    "\n",
    "sp.det(l - A), sp.Matrix([0, 0, 0])\n"
   ]
  }
 ],
 "metadata": {
  "kernelspec": {
   "display_name": "Python 3",
   "language": "python",
   "name": "python3"
  },
  "language_info": {
   "codemirror_mode": {
    "name": "ipython",
    "version": 3
   },
   "file_extension": ".py",
   "mimetype": "text/x-python",
   "name": "python",
   "nbconvert_exporter": "python",
   "pygments_lexer": "ipython3",
   "version": "3.6.4"
  }
 },
 "nbformat": 4,
 "nbformat_minor": 2
}
