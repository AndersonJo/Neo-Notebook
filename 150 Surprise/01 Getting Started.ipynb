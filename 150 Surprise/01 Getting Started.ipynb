{
 "cells": [
  {
   "cell_type": "code",
   "execution_count": 70,
   "id": "f032adfc-d25c-41c9-9963-220b7150e3ee",
   "metadata": {},
   "outputs": [],
   "source": [
    "import os\n",
    "import pandas as pd\n",
    "import numpy as np\n",
    "import kaggle.api as kaggle\n",
    "\n",
    "from surprise import SVD, KNNBasic\n",
    "from surprise import NormalPredictor\n",
    "from surprise import Dataset\n",
    "from surprise import Reader\n",
    "from surprise.model_selection import cross_validate, train_test_split\n",
    "from tempfile import gettempdir\n",
    "from pathlib import Path"
   ]
  },
  {
   "cell_type": "markdown",
   "id": "26d03d9a-a3bc-4a44-b289-9be0bfdbcd5a",
   "metadata": {},
   "source": [
    "# Data\n"
   ]
  },
  {
   "cell_type": "code",
   "execution_count": 43,
   "id": "c52b5774-28f1-425e-9dfa-0d4733f9c51f",
   "metadata": {},
   "outputs": [
    {
     "name": "stdout",
     "output_type": "stream",
     "text": [
      "data: (100000, 3)\n"
     ]
    },
    {
     "data": {
      "text/html": [
       "<div>\n",
       "<style scoped>\n",
       "    .dataframe tbody tr th:only-of-type {\n",
       "        vertical-align: middle;\n",
       "    }\n",
       "\n",
       "    .dataframe tbody tr th {\n",
       "        vertical-align: top;\n",
       "    }\n",
       "\n",
       "    .dataframe thead th {\n",
       "        text-align: right;\n",
       "    }\n",
       "</style>\n",
       "<table border=\"1\" class=\"dataframe\">\n",
       "  <thead>\n",
       "    <tr style=\"text-align: right;\">\n",
       "      <th></th>\n",
       "      <th>user_id</th>\n",
       "      <th>item_id</th>\n",
       "      <th>rating</th>\n",
       "    </tr>\n",
       "  </thead>\n",
       "  <tbody>\n",
       "    <tr>\n",
       "      <th>0</th>\n",
       "      <td>196</td>\n",
       "      <td>242</td>\n",
       "      <td>3</td>\n",
       "    </tr>\n",
       "    <tr>\n",
       "      <th>1</th>\n",
       "      <td>186</td>\n",
       "      <td>302</td>\n",
       "      <td>3</td>\n",
       "    </tr>\n",
       "    <tr>\n",
       "      <th>2</th>\n",
       "      <td>22</td>\n",
       "      <td>377</td>\n",
       "      <td>1</td>\n",
       "    </tr>\n",
       "    <tr>\n",
       "      <th>3</th>\n",
       "      <td>244</td>\n",
       "      <td>51</td>\n",
       "      <td>2</td>\n",
       "    </tr>\n",
       "    <tr>\n",
       "      <th>4</th>\n",
       "      <td>166</td>\n",
       "      <td>346</td>\n",
       "      <td>1</td>\n",
       "    </tr>\n",
       "  </tbody>\n",
       "</table>\n",
       "</div>"
      ],
      "text/plain": [
       "   user_id  item_id  rating\n",
       "0      196      242       3\n",
       "1      186      302       3\n",
       "2       22      377       1\n",
       "3      244       51       2\n",
       "4      166      346       1"
      ]
     },
     "metadata": {},
     "output_type": "display_data"
    },
    {
     "data": {
      "text/plain": [
       "sum       100000.000000\n",
       "count        943.000000\n",
       "mean         106.044539\n",
       "median        65.000000\n",
       "Name: item_id, dtype: float64"
      ]
     },
     "metadata": {},
     "output_type": "display_data"
    }
   ],
   "source": [
    "# Download Kaggle data\n",
    "data_dir_path = Path(gettempdir()) / 'movielens-100k'\n",
    "kaggle.authenticate()\n",
    "kaggle.dataset_download_files('prajitdatta/movielens-100k-dataset',\n",
    "                              data_dir_path,\n",
    "                              unzip=True)\n",
    "\n",
    "# As Pandas Dataframe\n",
    "file_path = data_dir_path / 'ml-100k' / 'u.data'\n",
    "data = (pd.read_csv(file_path,\n",
    "                    sep='\\t',\n",
    "                    header=None,\n",
    "                    names=['user_id', 'item_id', 'rating', 'timestamp'])\n",
    "        .drop('timestamp', axis=1))\n",
    "\n",
    "# Convert data to surprise dataset\n",
    "reader = Reader(rating_scale=(1, 5))\n",
    "dataset = Dataset.load_from_df(data, reader=reader)\n",
    "\n",
    "print('data:', data.shape)\n",
    "display(data.head())\n",
    "display(data.groupby('user_id').count().agg(['sum', 'count', 'mean', 'median'])['item_id'])"
   ]
  },
  {
   "cell_type": "markdown",
   "id": "7de7ce95-cb90-4462-b6d2-6d63295b8d4b",
   "metadata": {},
   "source": [
    "# Basic Algorithm\n",
    "\n",
    "training set을 정규분포라고 가정하고 예측하는 베이스라인 모델. <br>\n",
    "Maximum Likelihood Estimation을 통해서 정규분포의 평균값과 표준편차를 예측한다. \n",
    "\n",
    "- $ \\mathcal{N}(\\hat{\\mu}, \\hat{\\sigma}^2) $ 에서 $ \\hat{\\mu} $ 그리고 $ \\hat{\\sigma}^2 $ 분산을 maximum likely hood로 계산\n",
    "\n",
    "즉 다음과 같이 계산을 해서 구한다\n",
    "\n",
    "$$ \n",
    "\\begin{split}\\hat{\\mu} &= \\frac{1}{|R_{train}|} \\sum_{r_{ui} \\in R_{train}}\n",
    "r_{ui}\\\\\\\\        \\hat{\\sigma} &= \\sqrt{\\sum_{r_{ui} \\in R_{train}}\n",
    "\\frac{(r_{ui} - \\hat{\\mu})^2}{|R_{train}|}}\\end{split}\n",
    "$$\n",
    "\n",
    "- $ r_{ui} $ : 특정 제품(i)에 대한 유저(u)의 ground truth rating value \n",
    "- $ \\hat{\\mu} $ : 위에 있는 수식\n",
    "- 첫번째 수식: training 데이터 전체에서 "
   ]
  },
  {
   "cell_type": "code",
   "execution_count": 138,
   "id": "5cd562b1-abcf-4b8f-8fe8-52f7e5263d3e",
   "metadata": {},
   "outputs": [
    {
     "name": "stdout",
     "output_type": "stream",
     "text": [
      "RMSE: 1.5206\n",
      "MAE:  1.2232\n",
      "\n"
     ]
    }
   ],
   "source": [
    "from surprise import accuracy\n",
    "from surprise.model_selection import train_test_split\n",
    "from surprise.prediction_algorithms.random_pred import NormalPredictor\n",
    "\n",
    "x_train, x_test = train_test_split(dataset, test_size=.25)\n",
    "\n",
    "model = NormalPredictor()\n",
    "model = model.fit(x_train)\n",
    "y_pred = model.test(x_test)\n",
    "\n",
    "accuracy.rmse(y_pred, verbose=True)\n",
    "accuracy.mae(y_pred, verbose=True)\n",
    "print()"
   ]
  },
  {
   "cell_type": "code",
   "execution_count": 109,
   "id": "32770731-23cc-4f65-8bf1-3521f9dfbae7",
   "metadata": {},
   "outputs": [
    {
     "data": {
      "text/html": [
       "<div>\n",
       "<style scoped>\n",
       "    .dataframe tbody tr th:only-of-type {\n",
       "        vertical-align: middle;\n",
       "    }\n",
       "\n",
       "    .dataframe tbody tr th {\n",
       "        vertical-align: top;\n",
       "    }\n",
       "\n",
       "    .dataframe thead th {\n",
       "        text-align: right;\n",
       "    }\n",
       "</style>\n",
       "<table border=\"1\" class=\"dataframe\">\n",
       "  <thead>\n",
       "    <tr style=\"text-align: right;\">\n",
       "      <th></th>\n",
       "      <th>test_rmse</th>\n",
       "      <th>train_rmse</th>\n",
       "      <th>test_mae</th>\n",
       "      <th>train_mae</th>\n",
       "      <th>fit_time</th>\n",
       "      <th>test_time</th>\n",
       "    </tr>\n",
       "  </thead>\n",
       "  <tbody>\n",
       "    <tr>\n",
       "      <th>0</th>\n",
       "      <td>1.514802</td>\n",
       "      <td>1.527065</td>\n",
       "      <td>1.217445</td>\n",
       "      <td>1.226260</td>\n",
       "      <td>0.050855</td>\n",
       "      <td>0.476726</td>\n",
       "    </tr>\n",
       "    <tr>\n",
       "      <th>1</th>\n",
       "      <td>1.521616</td>\n",
       "      <td>1.520601</td>\n",
       "      <td>1.221777</td>\n",
       "      <td>1.220073</td>\n",
       "      <td>0.047179</td>\n",
       "      <td>0.439135</td>\n",
       "    </tr>\n",
       "  </tbody>\n",
       "</table>\n",
       "</div>"
      ],
      "text/plain": [
       "   test_rmse  train_rmse  test_mae  train_mae  fit_time  test_time\n",
       "0   1.514802    1.527065  1.217445   1.226260  0.050855   0.476726\n",
       "1   1.521616    1.520601  1.221777   1.220073  0.047179   0.439135"
      ]
     },
     "execution_count": 109,
     "metadata": {},
     "output_type": "execute_result"
    }
   ],
   "source": [
    "model = NormalPredictor()\n",
    "\n",
    "_r = cross_validate(model, dataset, measures=['RMSE', 'MAE'], cv=2, n_jobs=2, return_train_measures=True)\n",
    "pd.DataFrame(_r)"
   ]
  },
  {
   "cell_type": "markdown",
   "id": "224b9e82-4e32-40d8-b1cb-f4e9022ba668",
   "metadata": {},
   "source": [
    "# K-NN"
   ]
  },
  {
   "cell_type": "code",
   "execution_count": 143,
   "id": "975e839a-e2a0-4b40-9a59-6f82c95d2273",
   "metadata": {},
   "outputs": [
    {
     "name": "stdout",
     "output_type": "stream",
     "text": [
      "Computing the msd similarity matrix...\n",
      "Done computing similarity matrix.\n",
      "RMSE: 0.9814\n",
      "MAE:  0.7734\n",
      "\n"
     ]
    }
   ],
   "source": [
    "from surprise.prediction_algorithms.knns import KNNBasic\n",
    "\n",
    "x_train, x_test = train_test_split(dataset, test_size=.25)\n",
    "\n",
    "model = KNNBasic()\n",
    "model = model.fit(x_train)\n",
    "y_pred = model.test(x_test)\n",
    "\n",
    "accuracy.rmse(y_pred, verbose=True)\n",
    "accuracy.mae(y_pred, verbose=True)\n",
    "print()"
   ]
  },
  {
   "cell_type": "code",
   "execution_count": 146,
   "id": "e644f3a0-8882-4a39-ac2d-5df3b801e862",
   "metadata": {},
   "outputs": [
    {
     "data": {
      "text/html": [
       "<div>\n",
       "<style scoped>\n",
       "    .dataframe tbody tr th:only-of-type {\n",
       "        vertical-align: middle;\n",
       "    }\n",
       "\n",
       "    .dataframe tbody tr th {\n",
       "        vertical-align: top;\n",
       "    }\n",
       "\n",
       "    .dataframe thead th {\n",
       "        text-align: right;\n",
       "    }\n",
       "</style>\n",
       "<table border=\"1\" class=\"dataframe\">\n",
       "  <thead>\n",
       "    <tr style=\"text-align: right;\">\n",
       "      <th></th>\n",
       "      <th>test_rmse</th>\n",
       "      <th>train_rmse</th>\n",
       "      <th>test_mae</th>\n",
       "      <th>train_mae</th>\n",
       "      <th>fit_time</th>\n",
       "      <th>test_time</th>\n",
       "    </tr>\n",
       "  </thead>\n",
       "  <tbody>\n",
       "    <tr>\n",
       "      <th>0</th>\n",
       "      <td>1.061437</td>\n",
       "      <td>0.747456</td>\n",
       "      <td>0.847455</td>\n",
       "      <td>0.599355</td>\n",
       "      <td>1.749547</td>\n",
       "      <td>4.855957</td>\n",
       "    </tr>\n",
       "    <tr>\n",
       "      <th>1</th>\n",
       "      <td>1.059699</td>\n",
       "      <td>0.754712</td>\n",
       "      <td>0.846543</td>\n",
       "      <td>0.606201</td>\n",
       "      <td>1.737005</td>\n",
       "      <td>5.166402</td>\n",
       "    </tr>\n",
       "  </tbody>\n",
       "</table>\n",
       "</div>"
      ],
      "text/plain": [
       "   test_rmse  train_rmse  test_mae  train_mae  fit_time  test_time\n",
       "0   1.061437    0.747456  0.847455   0.599355  1.749547   4.855957\n",
       "1   1.059699    0.754712  0.846543   0.606201  1.737005   5.166402"
      ]
     },
     "execution_count": 146,
     "metadata": {},
     "output_type": "execute_result"
    }
   ],
   "source": [
    "sim_options = {\n",
    "    'name': 'pearson',\n",
    "    'user_based': False  # compute  similarities between items\n",
    "}\n",
    "model = KNNBasic(k=40, min_k=3, sim_options=sim_options)\n",
    "\n",
    "_r = cross_validate(model, dataset, measures=['RMSE', 'MAE'], cv=2, n_jobs=2, return_train_measures=True)\n",
    "pd.DataFrame(_r)"
   ]
  },
  {
   "cell_type": "markdown",
   "id": "a404514b-fd0c-4196-8d36-e97c90bb0cbd",
   "metadata": {},
   "source": [
    "# SVD"
   ]
  },
  {
   "cell_type": "code",
   "execution_count": 149,
   "id": "a0422ab3-b16f-4f4c-a159-948820102a77",
   "metadata": {},
   "outputs": [
    {
     "name": "stdout",
     "output_type": "stream",
     "text": [
      "RMSE: 0.9407\n",
      "MAE:  0.7407\n",
      "\n"
     ]
    }
   ],
   "source": [
    "from surprise.prediction_algorithms.matrix_factorization import SVD\n",
    "\n",
    "x_train, x_test = train_test_split(dataset, test_size=.25)\n",
    "\n",
    "model = SVD()\n",
    "model = model.fit(x_train)\n",
    "y_pred = model.test(x_test)\n",
    "\n",
    "accuracy.rmse(y_pred, verbose=True)\n",
    "accuracy.mae(y_pred, verbose=True)\n",
    "print()"
   ]
  },
  {
   "cell_type": "code",
   "execution_count": 152,
   "id": "896b8ced-5e70-44bc-9458-3483a299b356",
   "metadata": {},
   "outputs": [
    {
     "data": {
      "text/html": [
       "<div>\n",
       "<style scoped>\n",
       "    .dataframe tbody tr th:only-of-type {\n",
       "        vertical-align: middle;\n",
       "    }\n",
       "\n",
       "    .dataframe tbody tr th {\n",
       "        vertical-align: top;\n",
       "    }\n",
       "\n",
       "    .dataframe thead th {\n",
       "        text-align: right;\n",
       "    }\n",
       "</style>\n",
       "<table border=\"1\" class=\"dataframe\">\n",
       "  <thead>\n",
       "    <tr style=\"text-align: right;\">\n",
       "      <th></th>\n",
       "      <th>test_rmse</th>\n",
       "      <th>train_rmse</th>\n",
       "      <th>test_mae</th>\n",
       "      <th>train_mae</th>\n",
       "      <th>fit_time</th>\n",
       "      <th>test_time</th>\n",
       "    </tr>\n",
       "  </thead>\n",
       "  <tbody>\n",
       "    <tr>\n",
       "      <th>0</th>\n",
       "      <td>0.972803</td>\n",
       "      <td>0.421521</td>\n",
       "      <td>0.764600</td>\n",
       "      <td>0.333988</td>\n",
       "      <td>5.122574</td>\n",
       "      <td>0.452387</td>\n",
       "    </tr>\n",
       "    <tr>\n",
       "      <th>1</th>\n",
       "      <td>0.973669</td>\n",
       "      <td>0.422900</td>\n",
       "      <td>0.767101</td>\n",
       "      <td>0.333230</td>\n",
       "      <td>5.229807</td>\n",
       "      <td>0.458669</td>\n",
       "    </tr>\n",
       "  </tbody>\n",
       "</table>\n",
       "</div>"
      ],
      "text/plain": [
       "   test_rmse  train_rmse  test_mae  train_mae  fit_time  test_time\n",
       "0   0.972803    0.421521  0.764600   0.333988  5.122574   0.452387\n",
       "1   0.973669    0.422900  0.767101   0.333230  5.229807   0.458669"
      ]
     },
     "execution_count": 152,
     "metadata": {},
     "output_type": "execute_result"
    }
   ],
   "source": [
    "model = SVD(n_epochs=40)\n",
    "\n",
    "_r = cross_validate(model, dataset, measures=['RMSE', 'MAE'], cv=2, n_jobs=2, return_train_measures=True)\n",
    "pd.DataFrame(_r)"
   ]
  },
  {
   "cell_type": "markdown",
   "id": "f491085c-8aeb-49fc-ba06-6b7360e81af2",
   "metadata": {},
   "source": [
    "# Slope One"
   ]
  },
  {
   "cell_type": "code",
   "execution_count": 154,
   "id": "560b4432-8e9d-47ce-8dd0-3ac63982d349",
   "metadata": {},
   "outputs": [
    {
     "name": "stderr",
     "output_type": "stream",
     "text": [
      "/tmp/ipykernel_106080/403398705.py:6: DeprecationWarning: `np.int` is a deprecated alias for the builtin `int`. To silence this warning, use `int` by itself. Doing this will not modify any behavior and is safe. When replacing `np.int`, you may wish to use e.g. `np.int64` or `np.int32` to specify the precision. If you wish to review your current use, check the release note link for additional information.\n",
      "Deprecated in NumPy 1.20; for more details and guidance: https://numpy.org/devdocs/release/1.20.0-notes.html#deprecations\n",
      "  model = model.fit(x_train)\n"
     ]
    },
    {
     "name": "stdout",
     "output_type": "stream",
     "text": [
      "RMSE: 0.9525\n",
      "MAE:  0.7485\n",
      "\n"
     ]
    }
   ],
   "source": [
    "from surprise.prediction_algorithms.slope_one import SlopeOne\n",
    "\n",
    "x_train, x_test = train_test_split(dataset, test_size=.25)\n",
    "\n",
    "model = SlopeOne()\n",
    "model = model.fit(x_train)\n",
    "y_pred = model.test(x_test)\n",
    "\n",
    "accuracy.rmse(y_pred, verbose=True)\n",
    "accuracy.mae(y_pred, verbose=True)\n",
    "print()"
   ]
  },
  {
   "cell_type": "code",
   "execution_count": 155,
   "id": "ce5e7999-3db4-433f-86d1-e184dfd0816b",
   "metadata": {},
   "outputs": [
    {
     "data": {
      "text/html": [
       "<div>\n",
       "<style scoped>\n",
       "    .dataframe tbody tr th:only-of-type {\n",
       "        vertical-align: middle;\n",
       "    }\n",
       "\n",
       "    .dataframe tbody tr th {\n",
       "        vertical-align: top;\n",
       "    }\n",
       "\n",
       "    .dataframe thead th {\n",
       "        text-align: right;\n",
       "    }\n",
       "</style>\n",
       "<table border=\"1\" class=\"dataframe\">\n",
       "  <thead>\n",
       "    <tr style=\"text-align: right;\">\n",
       "      <th></th>\n",
       "      <th>test_rmse</th>\n",
       "      <th>train_rmse</th>\n",
       "      <th>test_mae</th>\n",
       "      <th>train_mae</th>\n",
       "      <th>fit_time</th>\n",
       "      <th>test_time</th>\n",
       "    </tr>\n",
       "  </thead>\n",
       "  <tbody>\n",
       "    <tr>\n",
       "      <th>0</th>\n",
       "      <td>0.958676</td>\n",
       "      <td>0.745088</td>\n",
       "      <td>0.752613</td>\n",
       "      <td>0.577662</td>\n",
       "      <td>0.270145</td>\n",
       "      <td>3.255095</td>\n",
       "    </tr>\n",
       "    <tr>\n",
       "      <th>1</th>\n",
       "      <td>0.959583</td>\n",
       "      <td>0.747954</td>\n",
       "      <td>0.753729</td>\n",
       "      <td>0.580702</td>\n",
       "      <td>0.267071</td>\n",
       "      <td>3.316535</td>\n",
       "    </tr>\n",
       "  </tbody>\n",
       "</table>\n",
       "</div>"
      ],
      "text/plain": [
       "   test_rmse  train_rmse  test_mae  train_mae  fit_time  test_time\n",
       "0   0.958676    0.745088  0.752613   0.577662  0.270145   3.255095\n",
       "1   0.959583    0.747954  0.753729   0.580702  0.267071   3.316535"
      ]
     },
     "execution_count": 155,
     "metadata": {},
     "output_type": "execute_result"
    }
   ],
   "source": [
    "model = SlopeOne()\n",
    "\n",
    "_r = cross_validate(model, dataset, measures=['RMSE', 'MAE'], cv=2, n_jobs=2, return_train_measures=True)\n",
    "pd.DataFrame(_r)"
   ]
  },
  {
   "cell_type": "markdown",
   "id": "9b5d3cd5-0447-410e-8291-eed84c44afaa",
   "metadata": {},
   "source": [
    "# Co-Clustering"
   ]
  },
  {
   "cell_type": "code",
   "execution_count": 165,
   "id": "f55c4bf0-0f6e-499d-9a24-bdda7ad27a57",
   "metadata": {},
   "outputs": [
    {
     "name": "stderr",
     "output_type": "stream",
     "text": [
      "/tmp/ipykernel_106080/3130632101.py:6: DeprecationWarning: `np.int` is a deprecated alias for the builtin `int`. To silence this warning, use `int` by itself. Doing this will not modify any behavior and is safe. When replacing `np.int`, you may wish to use e.g. `np.int64` or `np.int32` to specify the precision. If you wish to review your current use, check the release note link for additional information.\n",
      "Deprecated in NumPy 1.20; for more details and guidance: https://numpy.org/devdocs/release/1.20.0-notes.html#deprecations\n",
      "  model = model.fit(x_train)\n"
     ]
    },
    {
     "name": "stdout",
     "output_type": "stream",
     "text": [
      "RMSE: 0.9733\n",
      "MAE:  0.7634\n",
      "\n"
     ]
    }
   ],
   "source": [
    "from surprise.prediction_algorithms.co_clustering import CoClustering\n",
    "\n",
    "x_train, x_test = train_test_split(dataset, test_size=.25)\n",
    "\n",
    "model = CoClustering(n_cltr_u=3, n_cltr_i=3, n_epochs=50)\n",
    "model = model.fit(x_train)\n",
    "y_pred = model.test(x_test)\n",
    "\n",
    "accuracy.rmse(y_pred, verbose=True)\n",
    "accuracy.mae(y_pred, verbose=True)\n",
    "print()"
   ]
  },
  {
   "cell_type": "code",
   "execution_count": 166,
   "id": "4caefbfe-cf2b-4c3d-ae79-738f4c94fdd2",
   "metadata": {},
   "outputs": [
    {
     "data": {
      "text/html": [
       "<div>\n",
       "<style scoped>\n",
       "    .dataframe tbody tr th:only-of-type {\n",
       "        vertical-align: middle;\n",
       "    }\n",
       "\n",
       "    .dataframe tbody tr th {\n",
       "        vertical-align: top;\n",
       "    }\n",
       "\n",
       "    .dataframe thead th {\n",
       "        text-align: right;\n",
       "    }\n",
       "</style>\n",
       "<table border=\"1\" class=\"dataframe\">\n",
       "  <thead>\n",
       "    <tr style=\"text-align: right;\">\n",
       "      <th></th>\n",
       "      <th>test_rmse</th>\n",
       "      <th>train_rmse</th>\n",
       "      <th>test_mae</th>\n",
       "      <th>train_mae</th>\n",
       "      <th>fit_time</th>\n",
       "      <th>test_time</th>\n",
       "    </tr>\n",
       "  </thead>\n",
       "  <tbody>\n",
       "    <tr>\n",
       "      <th>0</th>\n",
       "      <td>0.986838</td>\n",
       "      <td>0.907220</td>\n",
       "      <td>0.775396</td>\n",
       "      <td>0.709415</td>\n",
       "      <td>0.629055</td>\n",
       "      <td>0.287011</td>\n",
       "    </tr>\n",
       "    <tr>\n",
       "      <th>1</th>\n",
       "      <td>0.998842</td>\n",
       "      <td>0.897763</td>\n",
       "      <td>0.780661</td>\n",
       "      <td>0.703024</td>\n",
       "      <td>0.620002</td>\n",
       "      <td>0.303814</td>\n",
       "    </tr>\n",
       "  </tbody>\n",
       "</table>\n",
       "</div>"
      ],
      "text/plain": [
       "   test_rmse  train_rmse  test_mae  train_mae  fit_time  test_time\n",
       "0   0.986838    0.907220  0.775396   0.709415  0.629055   0.287011\n",
       "1   0.998842    0.897763  0.780661   0.703024  0.620002   0.303814"
      ]
     },
     "execution_count": 166,
     "metadata": {},
     "output_type": "execute_result"
    }
   ],
   "source": [
    "model = CoClustering()\n",
    "\n",
    "_r = cross_validate(model, dataset, measures=['RMSE', 'MAE'], cv=2, n_jobs=2, return_train_measures=True)\n",
    "pd.DataFrame(_r)"
   ]
  }
 ],
 "metadata": {
  "kernelspec": {
   "display_name": "Python 3 (ipykernel)",
   "language": "python",
   "name": "python3"
  },
  "language_info": {
   "codemirror_mode": {
    "name": "ipython",
    "version": 3
   },
   "file_extension": ".py",
   "mimetype": "text/x-python",
   "name": "python",
   "nbconvert_exporter": "python",
   "pygments_lexer": "ipython3",
   "version": "3.8.10"
  }
 },
 "nbformat": 4,
 "nbformat_minor": 5
}
