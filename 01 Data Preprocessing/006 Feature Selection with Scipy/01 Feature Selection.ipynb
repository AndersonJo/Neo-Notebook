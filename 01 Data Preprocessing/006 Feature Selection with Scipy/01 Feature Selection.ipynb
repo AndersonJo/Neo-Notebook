{
 "cells": [
  {
   "cell_type": "code",
   "execution_count": 3,
   "metadata": {
    "collapsed": false
   },
   "outputs": [
    {
     "name": "stdout",
     "output_type": "stream",
     "text": [
      "Populating the interactive namespace from numpy and matplotlib\n"
     ]
    }
   ],
   "source": [
    "%pylab inline\n",
    "import numpy as np\n",
    "from sklearn.feature_selection import *"
   ]
  },
  {
   "cell_type": "markdown",
   "metadata": {},
   "source": [
    "# Removing features with low variance\n",
    "\n",
    "가장 쉽게 접근할수 있으며, 모델에 영향력을 갖고 있지 않는 데이터들을 빠르게 제거할 수 있는 방법입니다.<br>\n",
    "VarianceThreshold는 지속적으로 zero-variance features 그리고 지속적으로 동일한 값을 내놓은 features들을 제거합니다.\n",
    "\n",
    "boolean 데이터에 대해서 feature selection을 하려고 합니다. <br>\n",
    "Success(True) 또는 Failure(False)같이 2개로만 나눠지는 경우 **Bernoulli Distribution**을 따릅니다. <br>\n",
    "\n",
    "성공(True)값은 $ p $ 로 나타내며, 실패(False)는 $ 1 - p $ 로 정의를 합니다.<br>\n",
    "Bernoulli Random Variable의 Variance구하는 공식은 다음과 같습니다.\n",
    "\n",
    "$$ Var[X] = p(1-p) $$\n",
    "\n",
    "아래의 예제에서는 80%이상이 0 또는 1이 지속되는 데이터를 삭제를 합니다."
   ]
  },
  {
   "cell_type": "code",
   "execution_count": 69,
   "metadata": {
    "collapsed": false
   },
   "outputs": [
    {
     "name": "stdout",
     "output_type": "stream",
     "text": [
      "[0]:0.14 \n",
      "[1]:0.22 \n",
      "[2]:0.25\n"
     ]
    },
    {
     "data": {
      "text/plain": [
       "array([[0, 1],\n",
       "       [1, 0],\n",
       "       [0, 0],\n",
       "       [1, 1],\n",
       "       [1, 0],\n",
       "       [1, 1]])"
      ]
     },
     "execution_count": 69,
     "metadata": {},
     "output_type": "execute_result"
    }
   ],
   "source": [
    "def var(data):\n",
    "    return round(np.var(data), 2)\n",
    "\n",
    "# List of Variances\n",
    "data = np.array([[0, 0, 1], \n",
    "                 [0, 1, 0], \n",
    "                 [1, 0, 0], \n",
    "                 [0, 1, 1], \n",
    "                 [0, 1, 0], \n",
    "                 [0, 1, 1]])\n",
    "print('[0]:{0} \\n[1]:{1} \\n[2]:{2}'.format(var(data[:, 0]), var(data[:, 1]), var(data[:, 2])))\n",
    "\n",
    "valsel = VarianceThreshold(threshold=0.8 * (1-0.8))  # 0.8 * (1-0.8) = 0.15999\n",
    "valsel.fit_transform(data)"
   ]
  }
 ],
 "metadata": {
  "kernelspec": {
   "display_name": "Python 3",
   "language": "python",
   "name": "python3"
  },
  "language_info": {
   "codemirror_mode": {
    "name": "ipython",
    "version": 3
   },
   "file_extension": ".py",
   "mimetype": "text/x-python",
   "name": "python",
   "nbconvert_exporter": "python",
   "pygments_lexer": "ipython3",
   "version": "3.6.1"
  }
 },
 "nbformat": 4,
 "nbformat_minor": 2
}
