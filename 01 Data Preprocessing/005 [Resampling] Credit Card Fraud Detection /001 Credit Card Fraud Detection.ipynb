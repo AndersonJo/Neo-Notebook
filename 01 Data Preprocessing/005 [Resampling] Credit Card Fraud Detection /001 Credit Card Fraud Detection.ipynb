{
 "cells": [
  {
   "cell_type": "markdown",
   "metadata": {
    "deletable": true,
    "editable": true
   },
   "source": [
    "# Credit Card Fraud Detection "
   ]
  },
  {
   "cell_type": "code",
   "execution_count": 1,
   "metadata": {
    "collapsed": false,
    "deletable": true,
    "editable": true
   },
   "outputs": [
    {
     "name": "stdout",
     "output_type": "stream",
     "text": [
      "Populating the interactive namespace from numpy and matplotlib\n"
     ]
    },
    {
     "name": "stderr",
     "output_type": "stream",
     "text": [
      "Using TensorFlow backend.\n",
      "/usr/local/lib/python3.6/site-packages/sklearn/cross_validation.py:44: DeprecationWarning: This module was deprecated in version 0.18 in favor of the model_selection module into which all the refactored classes and functions are moved. Also note that the interface of the new CV iterators are different from that of this module. This module will be removed in 0.20.\n",
      "  \"This module will be removed in 0.20.\", DeprecationWarning)\n"
     ]
    }
   ],
   "source": [
    "%pylab inline\n",
    "from keras.models import Sequential\n",
    "from keras.layers import Dense, Dropout, Activation, Embedding, LSTM\n",
    "\n",
    "from sklearn.cross_validation import train_test_split\n",
    "from sklearn.linear_model import LogisticRegression\n",
    "from sklearn.tree import DecisionTreeClassifier\n",
    "from sklearn.metrics import accuracy_score\n",
    "from sklearn.svm import SVC\n",
    "from sklearn.preprocessing import StandardScaler\n",
    "from sklearn.utils import resample\n",
    "from sklearn.model_selection import cross_val_score\n",
    "\n",
    "from keras.models import Sequential\n",
    "from keras.layers import Dense, Activation, Dropout\n",
    "from keras.optimizers import SGD, RMSprop\n",
    "from keras.regularizers import l2\n",
    "from keras.backend.tensorflow_backend import set_session\n",
    "from keras.utils import np_utils\n",
    "import keras\n",
    "\n",
    "import tensorflow as tf\n",
    "import pandas as pd\n",
    "import numpy as np\n",
    "\n",
    "\n",
    "from IPython.display import SVG, Image\n",
    "from keras.utils.visualize_util import model_to_dot\n",
    "\n",
    "np.random.seed(0)"
   ]
  },
  {
   "cell_type": "markdown",
   "metadata": {
    "deletable": true,
    "editable": true
   },
   "source": [
    "## Data\n",
    "\n",
    "[Credit Card Fraud Detection - Kaggle](https://www.kaggle.com/dalpozz/creditcardfraud)에서 다운받을수 있습니다.\n",
    "\n",
    "데이터는 2013년 유럽 카드회사의 이틀동안 일어난 transactions에 관한 것이며, <br>\n",
    "492건의 frauds 가 284,807건의 transactions중에 일어 났습니다.\n",
    "\n",
    "Class에서 1은 fraud를 뜻하며, 0은 아닌것을 말합니다.\n",
    "\n",
    "Time데이터는 첫번재 Column으로부터 몇초 이후에 발생한 transaction이라는 뜻입니다. <br>\n",
    "나머지 데이터들은 PCA의 규제에 의해서 어떤 데이터인지 밝히지 않습니다."
   ]
  },
  {
   "cell_type": "code",
   "execution_count": 10,
   "metadata": {
    "collapsed": false,
    "deletable": true,
    "editable": true
   },
   "outputs": [],
   "source": [
    "data = pd.read_csv('/dataset/time-series/credit-card-fraud-detection/creditcard.csv')\n",
    "\n",
    "# Preprocessing Amount\n",
    "amt_scale = StandardScaler()\n",
    "data['NormAmount'] =  amt_scale.fit_transform(data['Amount'].values.reshape(-1, 1))\n",
    "\n",
    "# Split Train and Test Data\n",
    "X = data.drop(['Time', 'Amount', 'Class'], axis=1).as_matrix()\n",
    "Y = data['Class'].as_matrix()\n",
    "\n",
    "# Standardization\n",
    "scale_x = StandardScaler()\n",
    "X = scale_x.fit_transform(X)\n",
    "\n",
    "train_x, test_x, train_y, test_y = train_test_split(X, Y, test_size=0.25, random_state=1)\n",
    "\n",
    "fraud_test_y = test_y == 1\n",
    "fraud_test_x = test_x[fraud_test_y]\n",
    "fraud_test_y = test_y[fraud_test_y]\n",
    "\n",
    "train_category_y = np_utils.to_categorical(train_y)\n",
    "test_category_y = np_utils.to_categorical(test_y)"
   ]
  },
  {
   "cell_type": "markdown",
   "metadata": {
    "deletable": true,
    "editable": true
   },
   "source": [
    "#### Checking the number of fraud transactions in training and test data"
   ]
  },
  {
   "cell_type": "code",
   "execution_count": 11,
   "metadata": {
    "collapsed": false,
    "deletable": true,
    "editable": true
   },
   "outputs": [
    {
     "name": "stdout",
     "output_type": "stream",
     "text": [
      "The number of Fraud transactions in Training Data: 381\n",
      "The number of Fraud transactions in Test Data: 111\n"
     ]
    }
   ],
   "source": [
    "print('The number of Fraud transactions in Training Data:', train_y[train_y == 1].shape[0])\n",
    "print('The number of Fraud transactions in Test Data:',  test_y[test_y == 1].shape[0])"
   ]
  },
  {
   "cell_type": "markdown",
   "metadata": {
    "deletable": true,
    "editable": true
   },
   "source": [
    "#### Checking the target classes\n",
    "\n",
    "fraud transactions이 492개밖에 되지 않기 때문에, 일반적인 classification algorithm으로 돌리면 물론 정확도는 매우 높게 나오지만.. \n",
    "실상은 1에 해당하는 fraud transactions에서는 대부분 틀릴 가능성이 매우 높습니다. \n"
   ]
  },
  {
   "cell_type": "code",
   "execution_count": 12,
   "metadata": {
    "collapsed": false,
    "deletable": true,
    "editable": true
   },
   "outputs": [
    {
     "data": {
      "text/plain": [
       "0    284315\n",
       "1       492\n",
       "Name: Class, dtype: int64"
      ]
     },
     "execution_count": 12,
     "metadata": {},
     "output_type": "execute_result"
    }
   ],
   "source": [
    "pd.value_counts(data['Class'], sort=True)"
   ]
  },
  {
   "cell_type": "markdown",
   "metadata": {
    "deletable": true,
    "editable": true
   },
   "source": [
    "## Resampling\n",
    "\n",
    "resampling에는 여러가지 방법이 있습니다. \n",
    "\n",
    "1. Over Sampling: SMOTE (Synthetic Minority Over-Sampling Technique)\n",
    "2. Under Sampling\n",
    "\n",
    "아래의 resample function에서는 5:5의 비율로 under sampling을 해줍니다.<br>\n",
    "resample을 하면서 시간관계가 어차피 깨지기 때문에 (사실 각각의 transactions들 사이에 상관관계가 있는지도 모르겠음)<br>\n",
    "shuffle을 통해서 train되는 데이터를 augment해줍니다."
   ]
  },
  {
   "cell_type": "code",
   "execution_count": 13,
   "metadata": {
    "collapsed": false,
    "deletable": true,
    "editable": true
   },
   "outputs": [],
   "source": [
    "def resample(X, Y):\n",
    "    index = np.arange(Y.shape[0])\n",
    "    fraud_indices = index[Y == 1]\n",
    "    normal_indices = index[Y == 0]\n",
    "    random_normal_indices = np.random.choice(normal_indices, len(fraud_indices))\n",
    "    \n",
    "    sample_indices = np.concatenate([fraud_indices, random_normal_indices])\n",
    "    np.random.shuffle(sample_indices)\n",
    "    sample_indices = np.array(sample_indices)\n",
    "    \n",
    "    sample_x = X[sample_indices]\n",
    "    sample_y = Y[sample_indices]\n",
    "    return sample_x, sample_y"
   ]
  },
  {
   "cell_type": "markdown",
   "metadata": {
    "deletable": true,
    "editable": true
   },
   "source": [
    "# Logistic Regression\n",
    "\n",
    "전체적으로 0.99% accuracy를 보이지만, 실제 fraud data만 test를 했을때는 0.57%로.. 실질적으로 못맞추는 수준입니다.<br>\n",
    "사실 일반적인 알고리즘으로 학습시키기 위해서는 over sampling (SMOTE 같은) 또는 under sampling이 필요합니다.<br>\n",
    "sampling을 통해서 skewed data를 보정하는 것입니다.\n",
    "\n",
    "#### resample 없이 데이터 학습뒤 예측하면.."
   ]
  },
  {
   "cell_type": "code",
   "execution_count": 6,
   "metadata": {
    "collapsed": false,
    "deletable": true,
    "editable": true
   },
   "outputs": [
    {
     "data": {
      "text/plain": [
       "0.99914328249206485"
      ]
     },
     "execution_count": 6,
     "metadata": {},
     "output_type": "execute_result"
    }
   ],
   "source": [
    "lg = LogisticRegression()\n",
    "lg.fit(train_x, train_y)\n",
    "predicted_y = lg.predict(test_x)\n",
    "accuracy_score(test_y, predicted_y)"
   ]
  },
  {
   "cell_type": "code",
   "execution_count": 7,
   "metadata": {
    "collapsed": false,
    "deletable": true,
    "editable": true
   },
   "outputs": [
    {
     "data": {
      "text/plain": [
       "0.57657657657657657"
      ]
     },
     "execution_count": 7,
     "metadata": {},
     "output_type": "execute_result"
    }
   ],
   "source": [
    "predicted_y = lg.predict(fraud_test_x)\n",
    "accuracy_score(fraud_test_y, predicted_y)"
   ]
  },
  {
   "cell_type": "markdown",
   "metadata": {
    "deletable": true,
    "editable": true
   },
   "source": [
    "#### resampled data로 학습뒤 예측하면...\n",
    "0.88 ~ 0.92 까지 예측률이 높아지게 됩니다."
   ]
  },
  {
   "cell_type": "code",
   "execution_count": 8,
   "metadata": {
    "collapsed": false,
    "deletable": true,
    "editable": true
   },
   "outputs": [
    {
     "data": {
      "text/plain": [
       "0.96657397264121792"
      ]
     },
     "execution_count": 8,
     "metadata": {},
     "output_type": "execute_result"
    }
   ],
   "source": [
    "lg = LogisticRegression()\n",
    "lg.fit(*resample(train_x, train_y))\n",
    "\n",
    "predicted_y = lg.predict(test_x)\n",
    "accuracy_score(test_y, predicted_y)"
   ]
  },
  {
   "cell_type": "code",
   "execution_count": 9,
   "metadata": {
    "collapsed": false,
    "deletable": true,
    "editable": true
   },
   "outputs": [
    {
     "data": {
      "text/plain": [
       "0.89189189189189189"
      ]
     },
     "execution_count": 9,
     "metadata": {},
     "output_type": "execute_result"
    }
   ],
   "source": [
    "predicted_y = lg.predict(fraud_test_x)\n",
    "accuracy_score(fraud_test_y, predicted_y)"
   ]
  },
  {
   "cell_type": "markdown",
   "metadata": {
    "deletable": true,
    "editable": true
   },
   "source": [
    "# Decision Tree\n",
    "\n",
    "#### resample 없이 데이터 학습뒤 예측하면.."
   ]
  },
  {
   "cell_type": "code",
   "execution_count": 10,
   "metadata": {
    "collapsed": false,
    "deletable": true,
    "editable": true
   },
   "outputs": [
    {
     "data": {
      "text/plain": [
       "0.99932586163310022"
      ]
     },
     "execution_count": 10,
     "metadata": {},
     "output_type": "execute_result"
    }
   ],
   "source": [
    "dtc = DecisionTreeClassifier(max_depth=10, criterion='entropy')\n",
    "dtc.fit(train_x, train_y)\n",
    "predicted_y = dtc.predict(test_x)\n",
    "accuracy_score(test_y, predicted_y)"
   ]
  },
  {
   "cell_type": "code",
   "execution_count": 11,
   "metadata": {
    "collapsed": false,
    "deletable": true,
    "editable": true
   },
   "outputs": [
    {
     "data": {
      "text/plain": [
       "0.76576576576576572"
      ]
     },
     "execution_count": 11,
     "metadata": {},
     "output_type": "execute_result"
    }
   ],
   "source": [
    "predicted_y = dtc.predict(fraud_test_x)\n",
    "accuracy_score(fraud_test_y, predicted_y)"
   ]
  },
  {
   "cell_type": "markdown",
   "metadata": {
    "deletable": true,
    "editable": true
   },
   "source": [
    "#### resampled data로 학습뒤 예측하면..."
   ]
  },
  {
   "cell_type": "code",
   "execution_count": 12,
   "metadata": {
    "collapsed": false,
    "deletable": true,
    "editable": true
   },
   "outputs": [
    {
     "name": "stdout",
     "output_type": "stream",
     "text": [
      "0.905606584085\n",
      "0.896435493385\n",
      "0.915957416926\n"
     ]
    }
   ],
   "source": [
    "dtc = DecisionTreeClassifier(max_depth=10, criterion='entropy')\n",
    "for i in range(3):\n",
    "    dtc.fit(*resample(train_x, train_y))\n",
    "    predicted_y = dtc.predict(test_x)\n",
    "    print(accuracy_score(test_y, predicted_y))"
   ]
  },
  {
   "cell_type": "code",
   "execution_count": 13,
   "metadata": {
    "collapsed": false,
    "deletable": true,
    "editable": true
   },
   "outputs": [
    {
     "data": {
      "text/plain": [
       "0.86486486486486491"
      ]
     },
     "execution_count": 13,
     "metadata": {},
     "output_type": "execute_result"
    }
   ],
   "source": [
    "predicted_y = dtc.predict(fraud_test_x)\n",
    "accuracy_score(fraud_test_y, predicted_y)"
   ]
  },
  {
   "cell_type": "markdown",
   "metadata": {
    "deletable": true,
    "editable": true
   },
   "source": [
    "# Deep Learning with Keras\n",
    "\n",
    "하.. 드디어 딥러닝으로.. 해보면 어떤 결과가 나올 것인가.. Sampling VS UnSampling!"
   ]
  },
  {
   "cell_type": "markdown",
   "metadata": {
    "deletable": true,
    "editable": true
   },
   "source": [
    "#### Model"
   ]
  },
  {
   "cell_type": "code",
   "execution_count": 14,
   "metadata": {
    "collapsed": false,
    "deletable": true,
    "editable": true
   },
   "outputs": [],
   "source": [
    "config = tf.ConfigProto()\n",
    "config.gpu_options.per_process_gpu_memory_fraction = 0.1\n",
    "set_session(tf.Session(config=config))"
   ]
  },
  {
   "cell_type": "code",
   "execution_count": 35,
   "metadata": {
    "collapsed": false,
    "deletable": true,
    "editable": true
   },
   "outputs": [
    {
     "name": "stdout",
     "output_type": "stream",
     "text": [
      "____________________________________________________________________________________________________\n",
      "Layer (type)                     Output Shape          Param #     Connected to                     \n",
      "====================================================================================================\n",
      "dense01 (Dense)                  (None, 512)           15360       dense_input_8[0][0]              \n",
      "____________________________________________________________________________________________________\n",
      "activation01 (Activation)        (None, 512)           0           dense01[0][0]                    \n",
      "____________________________________________________________________________________________________\n",
      "dropout_7 (Dropout)              (None, 512)           0           activation01[0][0]               \n",
      "____________________________________________________________________________________________________\n",
      "dense02 (Dense)                  (None, 256)           131328      dropout_7[0][0]                  \n",
      "____________________________________________________________________________________________________\n",
      "activation02 (Activation)        (None, 256)           0           dense02[0][0]                    \n",
      "____________________________________________________________________________________________________\n",
      "dropout_8 (Dropout)              (None, 256)           0           activation02[0][0]               \n",
      "____________________________________________________________________________________________________\n",
      "dense03 (Dense)                  (None, 1)             257         dropout_8[0][0]                  \n",
      "____________________________________________________________________________________________________\n",
      "activation03 (Activation)        (None, 1)             0           dense03[0][0]                    \n",
      "====================================================================================================\n",
      "Total params: 146,945\n",
      "Trainable params: 146,945\n",
      "Non-trainable params: 0\n",
      "____________________________________________________________________________________________________\n"
     ]
    },
    {
     "data": {
      "image/svg+xml": [
       "<svg height=\"719pt\" viewBox=\"0.00 0.00 302.00 719.00\" width=\"302pt\" xmlns=\"http://www.w3.org/2000/svg\" xmlns:xlink=\"http://www.w3.org/1999/xlink\">\n",
       "<g class=\"graph\" id=\"graph0\" transform=\"scale(1 1) rotate(0) translate(4 715)\">\n",
       "<title>G</title>\n",
       "<polygon fill=\"white\" points=\"-4,4 -4,-715 298,-715 298,4 -4,4\" stroke=\"none\"/>\n",
       "<!-- 140316415271824 -->\n",
       "<g class=\"node\" id=\"node1\"><title>140316415271824</title>\n",
       "<polygon fill=\"none\" points=\"0,-664.5 0,-710.5 294,-710.5 294,-664.5 0,-664.5\" stroke=\"black\"/>\n",
       "<text font-family=\"Times,serif\" font-size=\"14.00\" text-anchor=\"middle\" x=\"81.5\" y=\"-683.8\">dense_input_8: InputLayer</text>\n",
       "<polyline fill=\"none\" points=\"163,-664.5 163,-710.5 \" stroke=\"black\"/>\n",
       "<text font-family=\"Times,serif\" font-size=\"14.00\" text-anchor=\"middle\" x=\"190.5\" y=\"-695.3\">input:</text>\n",
       "<polyline fill=\"none\" points=\"163,-687.5 218,-687.5 \" stroke=\"black\"/>\n",
       "<text font-family=\"Times,serif\" font-size=\"14.00\" text-anchor=\"middle\" x=\"190.5\" y=\"-672.3\">output:</text>\n",
       "<polyline fill=\"none\" points=\"218,-664.5 218,-710.5 \" stroke=\"black\"/>\n",
       "<text font-family=\"Times,serif\" font-size=\"14.00\" text-anchor=\"middle\" x=\"256\" y=\"-695.3\">(None, 29)</text>\n",
       "<polyline fill=\"none\" points=\"218,-687.5 294,-687.5 \" stroke=\"black\"/>\n",
       "<text font-family=\"Times,serif\" font-size=\"14.00\" text-anchor=\"middle\" x=\"256\" y=\"-672.3\">(None, 29)</text>\n",
       "</g>\n",
       "<!-- 140316415271712 -->\n",
       "<g class=\"node\" id=\"node2\"><title>140316415271712</title>\n",
       "<polygon fill=\"none\" points=\"27,-581.5 27,-627.5 267,-627.5 267,-581.5 27,-581.5\" stroke=\"black\"/>\n",
       "<text font-family=\"Times,serif\" font-size=\"14.00\" text-anchor=\"middle\" x=\"78\" y=\"-600.8\">dense01: Dense</text>\n",
       "<polyline fill=\"none\" points=\"129,-581.5 129,-627.5 \" stroke=\"black\"/>\n",
       "<text font-family=\"Times,serif\" font-size=\"14.00\" text-anchor=\"middle\" x=\"156.5\" y=\"-612.3\">input:</text>\n",
       "<polyline fill=\"none\" points=\"129,-604.5 184,-604.5 \" stroke=\"black\"/>\n",
       "<text font-family=\"Times,serif\" font-size=\"14.00\" text-anchor=\"middle\" x=\"156.5\" y=\"-589.3\">output:</text>\n",
       "<polyline fill=\"none\" points=\"184,-581.5 184,-627.5 \" stroke=\"black\"/>\n",
       "<text font-family=\"Times,serif\" font-size=\"14.00\" text-anchor=\"middle\" x=\"225.5\" y=\"-612.3\">(None, 29)</text>\n",
       "<polyline fill=\"none\" points=\"184,-604.5 267,-604.5 \" stroke=\"black\"/>\n",
       "<text font-family=\"Times,serif\" font-size=\"14.00\" text-anchor=\"middle\" x=\"225.5\" y=\"-589.3\">(None, 512)</text>\n",
       "</g>\n",
       "<!-- 140316415271824&#45;&gt;140316415271712 -->\n",
       "<g class=\"edge\" id=\"edge1\"><title>140316415271824-&gt;140316415271712</title>\n",
       "<path d=\"M147,-664.366C147,-656.152 147,-646.658 147,-637.725\" fill=\"none\" stroke=\"black\"/>\n",
       "<polygon fill=\"black\" points=\"150.5,-637.607 147,-627.607 143.5,-637.607 150.5,-637.607\" stroke=\"black\"/>\n",
       "</g>\n",
       "<!-- 140316415271936 -->\n",
       "<g class=\"node\" id=\"node3\"><title>140316415271936</title>\n",
       "<polygon fill=\"none\" points=\"4,-498.5 4,-544.5 290,-544.5 290,-498.5 4,-498.5\" stroke=\"black\"/>\n",
       "<text font-family=\"Times,serif\" font-size=\"14.00\" text-anchor=\"middle\" x=\"78\" y=\"-517.8\">activation01: Activation</text>\n",
       "<polyline fill=\"none\" points=\"152,-498.5 152,-544.5 \" stroke=\"black\"/>\n",
       "<text font-family=\"Times,serif\" font-size=\"14.00\" text-anchor=\"middle\" x=\"179.5\" y=\"-529.3\">input:</text>\n",
       "<polyline fill=\"none\" points=\"152,-521.5 207,-521.5 \" stroke=\"black\"/>\n",
       "<text font-family=\"Times,serif\" font-size=\"14.00\" text-anchor=\"middle\" x=\"179.5\" y=\"-506.3\">output:</text>\n",
       "<polyline fill=\"none\" points=\"207,-498.5 207,-544.5 \" stroke=\"black\"/>\n",
       "<text font-family=\"Times,serif\" font-size=\"14.00\" text-anchor=\"middle\" x=\"248.5\" y=\"-529.3\">(None, 512)</text>\n",
       "<polyline fill=\"none\" points=\"207,-521.5 290,-521.5 \" stroke=\"black\"/>\n",
       "<text font-family=\"Times,serif\" font-size=\"14.00\" text-anchor=\"middle\" x=\"248.5\" y=\"-506.3\">(None, 512)</text>\n",
       "</g>\n",
       "<!-- 140316415271712&#45;&gt;140316415271936 -->\n",
       "<g class=\"edge\" id=\"edge2\"><title>140316415271712-&gt;140316415271936</title>\n",
       "<path d=\"M147,-581.366C147,-573.152 147,-563.658 147,-554.725\" fill=\"none\" stroke=\"black\"/>\n",
       "<polygon fill=\"black\" points=\"150.5,-554.607 147,-544.607 143.5,-554.607 150.5,-554.607\" stroke=\"black\"/>\n",
       "</g>\n",
       "<!-- 140316415272720 -->\n",
       "<g class=\"node\" id=\"node4\"><title>140316415272720</title>\n",
       "<polygon fill=\"none\" points=\"15.5,-415.5 15.5,-461.5 278.5,-461.5 278.5,-415.5 15.5,-415.5\" stroke=\"black\"/>\n",
       "<text font-family=\"Times,serif\" font-size=\"14.00\" text-anchor=\"middle\" x=\"78\" y=\"-434.8\">dropout_7: Dropout</text>\n",
       "<polyline fill=\"none\" points=\"140.5,-415.5 140.5,-461.5 \" stroke=\"black\"/>\n",
       "<text font-family=\"Times,serif\" font-size=\"14.00\" text-anchor=\"middle\" x=\"168\" y=\"-446.3\">input:</text>\n",
       "<polyline fill=\"none\" points=\"140.5,-438.5 195.5,-438.5 \" stroke=\"black\"/>\n",
       "<text font-family=\"Times,serif\" font-size=\"14.00\" text-anchor=\"middle\" x=\"168\" y=\"-423.3\">output:</text>\n",
       "<polyline fill=\"none\" points=\"195.5,-415.5 195.5,-461.5 \" stroke=\"black\"/>\n",
       "<text font-family=\"Times,serif\" font-size=\"14.00\" text-anchor=\"middle\" x=\"237\" y=\"-446.3\">(None, 512)</text>\n",
       "<polyline fill=\"none\" points=\"195.5,-438.5 278.5,-438.5 \" stroke=\"black\"/>\n",
       "<text font-family=\"Times,serif\" font-size=\"14.00\" text-anchor=\"middle\" x=\"237\" y=\"-423.3\">(None, 512)</text>\n",
       "</g>\n",
       "<!-- 140316415271936&#45;&gt;140316415272720 -->\n",
       "<g class=\"edge\" id=\"edge3\"><title>140316415271936-&gt;140316415272720</title>\n",
       "<path d=\"M147,-498.366C147,-490.152 147,-480.658 147,-471.725\" fill=\"none\" stroke=\"black\"/>\n",
       "<polygon fill=\"black\" points=\"150.5,-471.607 147,-461.607 143.5,-471.607 150.5,-471.607\" stroke=\"black\"/>\n",
       "</g>\n",
       "<!-- 140316415318896 -->\n",
       "<g class=\"node\" id=\"node5\"><title>140316415318896</title>\n",
       "<polygon fill=\"none\" points=\"27,-332.5 27,-378.5 267,-378.5 267,-332.5 27,-332.5\" stroke=\"black\"/>\n",
       "<text font-family=\"Times,serif\" font-size=\"14.00\" text-anchor=\"middle\" x=\"78\" y=\"-351.8\">dense02: Dense</text>\n",
       "<polyline fill=\"none\" points=\"129,-332.5 129,-378.5 \" stroke=\"black\"/>\n",
       "<text font-family=\"Times,serif\" font-size=\"14.00\" text-anchor=\"middle\" x=\"156.5\" y=\"-363.3\">input:</text>\n",
       "<polyline fill=\"none\" points=\"129,-355.5 184,-355.5 \" stroke=\"black\"/>\n",
       "<text font-family=\"Times,serif\" font-size=\"14.00\" text-anchor=\"middle\" x=\"156.5\" y=\"-340.3\">output:</text>\n",
       "<polyline fill=\"none\" points=\"184,-332.5 184,-378.5 \" stroke=\"black\"/>\n",
       "<text font-family=\"Times,serif\" font-size=\"14.00\" text-anchor=\"middle\" x=\"225.5\" y=\"-363.3\">(None, 512)</text>\n",
       "<polyline fill=\"none\" points=\"184,-355.5 267,-355.5 \" stroke=\"black\"/>\n",
       "<text font-family=\"Times,serif\" font-size=\"14.00\" text-anchor=\"middle\" x=\"225.5\" y=\"-340.3\">(None, 256)</text>\n",
       "</g>\n",
       "<!-- 140316415272720&#45;&gt;140316415318896 -->\n",
       "<g class=\"edge\" id=\"edge4\"><title>140316415272720-&gt;140316415318896</title>\n",
       "<path d=\"M147,-415.366C147,-407.152 147,-397.658 147,-388.725\" fill=\"none\" stroke=\"black\"/>\n",
       "<polygon fill=\"black\" points=\"150.5,-388.607 147,-378.607 143.5,-388.607 150.5,-388.607\" stroke=\"black\"/>\n",
       "</g>\n",
       "<!-- 140316414160176 -->\n",
       "<g class=\"node\" id=\"node6\"><title>140316414160176</title>\n",
       "<polygon fill=\"none\" points=\"4,-249.5 4,-295.5 290,-295.5 290,-249.5 4,-249.5\" stroke=\"black\"/>\n",
       "<text font-family=\"Times,serif\" font-size=\"14.00\" text-anchor=\"middle\" x=\"78\" y=\"-268.8\">activation02: Activation</text>\n",
       "<polyline fill=\"none\" points=\"152,-249.5 152,-295.5 \" stroke=\"black\"/>\n",
       "<text font-family=\"Times,serif\" font-size=\"14.00\" text-anchor=\"middle\" x=\"179.5\" y=\"-280.3\">input:</text>\n",
       "<polyline fill=\"none\" points=\"152,-272.5 207,-272.5 \" stroke=\"black\"/>\n",
       "<text font-family=\"Times,serif\" font-size=\"14.00\" text-anchor=\"middle\" x=\"179.5\" y=\"-257.3\">output:</text>\n",
       "<polyline fill=\"none\" points=\"207,-249.5 207,-295.5 \" stroke=\"black\"/>\n",
       "<text font-family=\"Times,serif\" font-size=\"14.00\" text-anchor=\"middle\" x=\"248.5\" y=\"-280.3\">(None, 256)</text>\n",
       "<polyline fill=\"none\" points=\"207,-272.5 290,-272.5 \" stroke=\"black\"/>\n",
       "<text font-family=\"Times,serif\" font-size=\"14.00\" text-anchor=\"middle\" x=\"248.5\" y=\"-257.3\">(None, 256)</text>\n",
       "</g>\n",
       "<!-- 140316415318896&#45;&gt;140316414160176 -->\n",
       "<g class=\"edge\" id=\"edge5\"><title>140316415318896-&gt;140316414160176</title>\n",
       "<path d=\"M147,-332.366C147,-324.152 147,-314.658 147,-305.725\" fill=\"none\" stroke=\"black\"/>\n",
       "<polygon fill=\"black\" points=\"150.5,-305.607 147,-295.607 143.5,-305.607 150.5,-305.607\" stroke=\"black\"/>\n",
       "</g>\n",
       "<!-- 140316412218392 -->\n",
       "<g class=\"node\" id=\"node7\"><title>140316412218392</title>\n",
       "<polygon fill=\"none\" points=\"15.5,-166.5 15.5,-212.5 278.5,-212.5 278.5,-166.5 15.5,-166.5\" stroke=\"black\"/>\n",
       "<text font-family=\"Times,serif\" font-size=\"14.00\" text-anchor=\"middle\" x=\"78\" y=\"-185.8\">dropout_8: Dropout</text>\n",
       "<polyline fill=\"none\" points=\"140.5,-166.5 140.5,-212.5 \" stroke=\"black\"/>\n",
       "<text font-family=\"Times,serif\" font-size=\"14.00\" text-anchor=\"middle\" x=\"168\" y=\"-197.3\">input:</text>\n",
       "<polyline fill=\"none\" points=\"140.5,-189.5 195.5,-189.5 \" stroke=\"black\"/>\n",
       "<text font-family=\"Times,serif\" font-size=\"14.00\" text-anchor=\"middle\" x=\"168\" y=\"-174.3\">output:</text>\n",
       "<polyline fill=\"none\" points=\"195.5,-166.5 195.5,-212.5 \" stroke=\"black\"/>\n",
       "<text font-family=\"Times,serif\" font-size=\"14.00\" text-anchor=\"middle\" x=\"237\" y=\"-197.3\">(None, 256)</text>\n",
       "<polyline fill=\"none\" points=\"195.5,-189.5 278.5,-189.5 \" stroke=\"black\"/>\n",
       "<text font-family=\"Times,serif\" font-size=\"14.00\" text-anchor=\"middle\" x=\"237\" y=\"-174.3\">(None, 256)</text>\n",
       "</g>\n",
       "<!-- 140316414160176&#45;&gt;140316412218392 -->\n",
       "<g class=\"edge\" id=\"edge6\"><title>140316414160176-&gt;140316412218392</title>\n",
       "<path d=\"M147,-249.366C147,-241.152 147,-231.658 147,-222.725\" fill=\"none\" stroke=\"black\"/>\n",
       "<polygon fill=\"black\" points=\"150.5,-222.607 147,-212.607 143.5,-222.607 150.5,-222.607\" stroke=\"black\"/>\n",
       "</g>\n",
       "<!-- 140316414231944 -->\n",
       "<g class=\"node\" id=\"node8\"><title>140316414231944</title>\n",
       "<polygon fill=\"none\" points=\"27,-83.5 27,-129.5 267,-129.5 267,-83.5 27,-83.5\" stroke=\"black\"/>\n",
       "<text font-family=\"Times,serif\" font-size=\"14.00\" text-anchor=\"middle\" x=\"78\" y=\"-102.8\">dense03: Dense</text>\n",
       "<polyline fill=\"none\" points=\"129,-83.5 129,-129.5 \" stroke=\"black\"/>\n",
       "<text font-family=\"Times,serif\" font-size=\"14.00\" text-anchor=\"middle\" x=\"156.5\" y=\"-114.3\">input:</text>\n",
       "<polyline fill=\"none\" points=\"129,-106.5 184,-106.5 \" stroke=\"black\"/>\n",
       "<text font-family=\"Times,serif\" font-size=\"14.00\" text-anchor=\"middle\" x=\"156.5\" y=\"-91.3\">output:</text>\n",
       "<polyline fill=\"none\" points=\"184,-83.5 184,-129.5 \" stroke=\"black\"/>\n",
       "<text font-family=\"Times,serif\" font-size=\"14.00\" text-anchor=\"middle\" x=\"225.5\" y=\"-114.3\">(None, 256)</text>\n",
       "<polyline fill=\"none\" points=\"184,-106.5 267,-106.5 \" stroke=\"black\"/>\n",
       "<text font-family=\"Times,serif\" font-size=\"14.00\" text-anchor=\"middle\" x=\"225.5\" y=\"-91.3\">(None, 1)</text>\n",
       "</g>\n",
       "<!-- 140316412218392&#45;&gt;140316414231944 -->\n",
       "<g class=\"edge\" id=\"edge7\"><title>140316412218392-&gt;140316414231944</title>\n",
       "<path d=\"M147,-166.366C147,-158.152 147,-148.658 147,-139.725\" fill=\"none\" stroke=\"black\"/>\n",
       "<polygon fill=\"black\" points=\"150.5,-139.607 147,-129.607 143.5,-139.607 150.5,-139.607\" stroke=\"black\"/>\n",
       "</g>\n",
       "<!-- 140316413632016 -->\n",
       "<g class=\"node\" id=\"node9\"><title>140316413632016</title>\n",
       "<polygon fill=\"none\" points=\"11,-0.5 11,-46.5 283,-46.5 283,-0.5 11,-0.5\" stroke=\"black\"/>\n",
       "<text font-family=\"Times,serif\" font-size=\"14.00\" text-anchor=\"middle\" x=\"85\" y=\"-19.8\">activation03: Activation</text>\n",
       "<polyline fill=\"none\" points=\"159,-0.5 159,-46.5 \" stroke=\"black\"/>\n",
       "<text font-family=\"Times,serif\" font-size=\"14.00\" text-anchor=\"middle\" x=\"186.5\" y=\"-31.3\">input:</text>\n",
       "<polyline fill=\"none\" points=\"159,-23.5 214,-23.5 \" stroke=\"black\"/>\n",
       "<text font-family=\"Times,serif\" font-size=\"14.00\" text-anchor=\"middle\" x=\"186.5\" y=\"-8.3\">output:</text>\n",
       "<polyline fill=\"none\" points=\"214,-0.5 214,-46.5 \" stroke=\"black\"/>\n",
       "<text font-family=\"Times,serif\" font-size=\"14.00\" text-anchor=\"middle\" x=\"248.5\" y=\"-31.3\">(None, 1)</text>\n",
       "<polyline fill=\"none\" points=\"214,-23.5 283,-23.5 \" stroke=\"black\"/>\n",
       "<text font-family=\"Times,serif\" font-size=\"14.00\" text-anchor=\"middle\" x=\"248.5\" y=\"-8.3\">(None, 1)</text>\n",
       "</g>\n",
       "<!-- 140316414231944&#45;&gt;140316413632016 -->\n",
       "<g class=\"edge\" id=\"edge8\"><title>140316414231944-&gt;140316413632016</title>\n",
       "<path d=\"M147,-83.3664C147,-75.1516 147,-65.6579 147,-56.7252\" fill=\"none\" stroke=\"black\"/>\n",
       "<polygon fill=\"black\" points=\"150.5,-56.6068 147,-46.6068 143.5,-56.6069 150.5,-56.6068\" stroke=\"black\"/>\n",
       "</g>\n",
       "</g>\n",
       "</svg>"
      ],
      "text/plain": [
       "<IPython.core.display.SVG object>"
      ]
     },
     "execution_count": 35,
     "metadata": {},
     "output_type": "execute_result"
    }
   ],
   "source": [
    "def generate_model():\n",
    "    model = Sequential()\n",
    "    model.add(Dense(output_dim=512, input_dim=29, name='dense01'))\n",
    "    model.add(Activation('sigmoid', name='activation01'))\n",
    "    model.add(Dropout(0.5))\n",
    "    model.add(Dense(output_dim=256, input_dim=512, name='dense02'))\n",
    "    model.add(Activation('sigmoid', name='activation02'))\n",
    "    model.add(Dropout(0.5))\n",
    "    model.add(Dense(output_dim=1, name='dense03'))\n",
    "    model.add(Activation('sigmoid', name='activation03'))\n",
    "\n",
    "    model.compile(loss='binary_crossentropy', \n",
    "                  optimizer='adam', \n",
    "                  metrics=['accuracy'])\n",
    "    return model\n",
    "\n",
    "\n",
    "# # Visualization\n",
    "model = generate_model()\n",
    "model.summary()\n",
    "SVG(model_to_dot(model, show_shapes=True).create(prog='dot', format='svg'))\n"
   ]
  },
  {
   "cell_type": "markdown",
   "metadata": {
    "deletable": true,
    "editable": true
   },
   "source": [
    "#### resample 없이 데이터 학습뒤 예측하면.."
   ]
  },
  {
   "cell_type": "code",
   "execution_count": 66,
   "metadata": {
    "collapsed": false,
    "deletable": true,
    "editable": true,
    "scrolled": false
   },
   "outputs": [
    {
     "name": "stdout",
     "output_type": "stream",
     "text": [
      "Epoch 1/10\n",
      "26s - loss: 0.0042 - acc: 0.9992\n",
      "Epoch 2/10\n",
      "24s - loss: 0.0033 - acc: 0.9994\n",
      "Epoch 3/10\n",
      "24s - loss: 0.0032 - acc: 0.9994\n",
      "Epoch 4/10\n",
      "23s - loss: 0.0032 - acc: 0.9994\n",
      "Epoch 5/10\n",
      "23s - loss: 0.0032 - acc: 0.9994\n",
      "Epoch 6/10\n",
      "23s - loss: 0.0032 - acc: 0.9994\n",
      "Epoch 7/10\n",
      "23s - loss: 0.0031 - acc: 0.9994\n",
      "Epoch 8/10\n",
      "23s - loss: 0.0032 - acc: 0.9994\n",
      "Epoch 9/10\n",
      "24s - loss: 0.0031 - acc: 0.9994\n",
      "Epoch 10/10\n",
      "23s - loss: 0.0030 - acc: 0.9995\n"
     ]
    },
    {
     "data": {
      "text/plain": [
       "<keras.callbacks.History at 0x7f9d7be596a0>"
      ]
     },
     "execution_count": 66,
     "metadata": {},
     "output_type": "execute_result"
    }
   ],
   "source": [
    "model = generate_model()\n",
    "model.fit(train_x, train_y, verbose=2)"
   ]
  },
  {
   "cell_type": "code",
   "execution_count": 68,
   "metadata": {
    "collapsed": false,
    "deletable": true,
    "editable": true
   },
   "outputs": [
    {
     "name": "stdout",
     "output_type": "stream",
     "text": [
      "0.999410128929\n"
     ]
    }
   ],
   "source": [
    "predicted_y = model.predict(test_x)\n",
    "predicted_y = predicted_y.reshape(predicted_y.shape[0])\n",
    "predicted_y = np.where(predicted_y >= 0.5, 1, 0)\n",
    "print(accuracy_score(test_y, predicted_y))"
   ]
  },
  {
   "cell_type": "code",
   "execution_count": 69,
   "metadata": {
    "collapsed": false,
    "deletable": true,
    "editable": true
   },
   "outputs": [
    {
     "data": {
      "text/plain": [
       "0.76576576576576572"
      ]
     },
     "execution_count": 69,
     "metadata": {},
     "output_type": "execute_result"
    }
   ],
   "source": [
    "predicted_y = model.predict(fraud_test_x)\n",
    "predicted_y = predicted_y.reshape(predicted_y.shape[0])\n",
    "predicted_y = np.where(predicted_y >= 0.5, 1, 0)\n",
    "accuracy_score(fraud_test_y, predicted_y)"
   ]
  },
  {
   "cell_type": "markdown",
   "metadata": {
    "deletable": true,
    "editable": true
   },
   "source": [
    "#### resampled data로 학습뒤 예측하면..."
   ]
  },
  {
   "cell_type": "code",
   "execution_count": 63,
   "metadata": {
    "collapsed": false,
    "deletable": true,
    "editable": true
   },
   "outputs": [
    {
     "name": "stdout",
     "output_type": "stream",
     "text": [
      "Epoch[ 0] loss: 0.2149,  Accuracy: 0.9184\n",
      "Epoch[ 1] loss: 0.1595,  Accuracy: 0.9415\n",
      "Epoch[ 2] loss: 0.1503,  Accuracy: 0.9472\n",
      "Epoch[ 3] loss: 0.1571,  Accuracy: 0.9440\n",
      "Epoch[ 4] loss: 0.1409,  Accuracy: 0.9507\n",
      "Epoch[ 5] loss: 0.1318,  Accuracy: 0.9521\n",
      "Epoch[ 6] loss: 0.1352,  Accuracy: 0.9530\n",
      "Epoch[ 7] loss: 0.1396,  Accuracy: 0.9516\n",
      "Epoch[ 8] loss: 0.1305,  Accuracy: 0.9526\n",
      "Epoch[ 9] loss: 0.1370,  Accuracy: 0.9479\n",
      "Epoch[10] loss: 0.1191,  Accuracy: 0.9579\n",
      "Epoch[11] loss: 0.1280,  Accuracy: 0.9521\n",
      "Epoch[12] loss: 0.1202,  Accuracy: 0.9546\n",
      "Epoch[13] loss: 0.1250,  Accuracy: 0.9555\n",
      "Epoch[14] loss: 0.1169,  Accuracy: 0.9526\n",
      "Epoch[15] loss: 0.1214,  Accuracy: 0.9562\n",
      "Epoch[16] loss: 0.1313,  Accuracy: 0.9538\n",
      "Epoch[17] loss: 0.1272,  Accuracy: 0.9573\n",
      "Epoch[18] loss: 0.1242,  Accuracy: 0.9522\n",
      "Epoch[19] loss: 0.1143,  Accuracy: 0.9576\n"
     ]
    }
   ],
   "source": [
    "model = generate_model()\n",
    "\n",
    "for i in range(20):\n",
    "    history = model.fit(*resample(train_x, train_y), verbose=0, nb_epoch=10)\n",
    "    loss = np.mean(history.history.get('loss'))\n",
    "    acc = np.mean(history.history.get('acc'))\n",
    "    print('Epoch[%2d]' % i, 'loss: %.4f, ' % loss, 'Accuracy: %.4f'% acc)\n",
    "    "
   ]
  },
  {
   "cell_type": "code",
   "execution_count": 64,
   "metadata": {
    "collapsed": false,
    "deletable": true,
    "editable": true
   },
   "outputs": [
    {
     "name": "stdout",
     "output_type": "stream",
     "text": [
      "0.969579506194\n"
     ]
    }
   ],
   "source": [
    "predicted_y = model.predict(test_x)\n",
    "predicted_y = predicted_y.reshape(predicted_y.shape[0])\n",
    "predicted_y = np.where(predicted_y >= 0.5, 1, 0)\n",
    "print(accuracy_score(test_y, predicted_y))"
   ]
  },
  {
   "cell_type": "code",
   "execution_count": 65,
   "metadata": {
    "collapsed": false,
    "deletable": true,
    "editable": true
   },
   "outputs": [
    {
     "data": {
      "text/plain": [
       "0.92792792792792789"
      ]
     },
     "execution_count": 65,
     "metadata": {},
     "output_type": "execute_result"
    }
   ],
   "source": [
    "predicted_y = model.predict(fraud_test_x)\n",
    "predicted_y = predicted_y.reshape(predicted_y.shape[0])\n",
    "predicted_y = np.where(predicted_y >= 0.5, 1, 0)\n",
    "accuracy_score(fraud_test_y, predicted_y)"
   ]
  }
 ],
 "metadata": {
  "kernelspec": {
   "display_name": "Python 3",
   "language": "python",
   "name": "python3"
  },
  "language_info": {
   "codemirror_mode": {
    "name": "ipython",
    "version": 3
   },
   "file_extension": ".py",
   "mimetype": "text/x-python",
   "name": "python",
   "nbconvert_exporter": "python",
   "pygments_lexer": "ipython3",
   "version": "3.6.1"
  }
 },
 "nbformat": 4,
 "nbformat_minor": 2
}
