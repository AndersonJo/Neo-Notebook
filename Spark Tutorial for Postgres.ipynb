{
 "metadata": {
  "name": "",
  "signature": "sha256:18ff235d14d181a1f5da0ed1270edfcefd26d2a1f10086dd1042f1d185c99183"
 },
 "nbformat": 3,
 "nbformat_minor": 0,
 "worksheets": [
  {
   "cells": [
    {
     "cell_type": "code",
     "collapsed": true,
     "input": [
      "from pyspark import SparkContext, SparkConf\n",
      "from pyspark.sql import SQLContext\n",
      "\n",
      "spconf = SparkConf().setMaster('local[4]').setAppName('Tutorial')\n",
      "sc = SparkContext(conf=spconf)\n",
      "sqlContext = SQLContext(sc)"
     ],
     "language": "python",
     "metadata": {},
     "outputs": [],
     "prompt_number": 1
    },
    {
     "cell_type": "code",
     "collapsed": true,
     "input": [
      "import os\n",
      "os.environ['SPARK_CLASSPATH'] = \"/home/anderson/apps/spark-1.6.0-bin-hadoop2.6/lib/postgresql-9.3-1103.jdbc3.jar\"\n",
      "# # os.environ['CLASSPATH'] = '/home/anderson/apps/spark-1.6.0-bin-hadoop2.6/lib/postgresql-9.3-1103.jdbc3.jar'\n",
      "# print os.environ['SPARK_CLASSPATH'] , os.path.exists(os.environ['SPARK_CLASSPATH'])\n",
      "# print os.environ.get('CLASSPATH')"
     ],
     "language": "python",
     "metadata": {},
     "outputs": []
    },
    {
     "cell_type": "code",
     "collapsed": true,
     "input": [
      "users = sqlContext.read.format(\"jdbc\").options(\n",
      "    url=\"jdbc:postgresql://amanda-development03.cua2ch4xbz7g.ap-northeast-1.rds.amazonaws.com:50012/amanda\",\n",
      "    driver = \"org.postgresql.Driver\",\n",
      "    dbtable = \"users\",\n",
      "    user=\"amandamaster\",\n",
      "    password=\"snafo283lsaf_AFE376473\").load()\n",
      "    \n",
      "\n",
      "matchings = sqlContext.read.format(\"jdbc\").options(\n",
      "    url=\"jdbc:postgresql://amanda-development03.cua2ch4xbz7g.ap-northeast-1.rds.amazonaws.com:50012/amanda\",\n",
      "    driver = \"org.postgresql.Driver\",\n",
      "    dbtable = \"matchings\",\n",
      "    user=\"amandamaster\",\n",
      "    password=\"snafo283lsaf_AFE376473\").load()\n",
      "\n",
      "sqlContext.registerDataFrameAsTable(users, 'users')\n",
      "sqlContext.registerDataFrameAsTable(matchings, 'matchings')"
     ],
     "language": "python",
     "metadata": {},
     "outputs": []
    },
    {
     "cell_type": "code",
     "collapsed": false,
     "input": [
      "sqlContext.sql('select id, \n",
      "               \n"
     ],
     "language": "python",
     "metadata": {},
     "outputs": []
    },
    {
     "cell_type": "code",
     "collapsed": true,
     "input": [
      "\n",
      "\n",
      "\n",
      "sql = '''select u.id, nickname from users as u join matchings as m on u.id = m.male_id limit 100'''\n",
      "\n",
      "df2 = sqlContext.sql(sql)\n",
      "print df2.collect()"
     ],
     "language": "python",
     "metadata": {},
     "outputs": []
    },
    {
     "cell_type": "code",
     "collapsed": true,
     "input": [
      "print dir(sqlContext)"
     ],
     "language": "python",
     "metadata": {},
     "outputs": []
    }
   ],
   "metadata": {}
  }
 ]
}