{
 "cells": [
  {
   "cell_type": "markdown",
   "metadata": {
    "deletable": true,
    "editable": true
   },
   "source": [
    "# Winton Stock Market Analysis"
   ]
  },
  {
   "cell_type": "code",
   "execution_count": 10,
   "metadata": {
    "collapsed": false,
    "deletable": true,
    "editable": true
   },
   "outputs": [
    {
     "name": "stdout",
     "output_type": "stream",
     "text": [
      "Populating the interactive namespace from numpy and matplotlib\n"
     ]
    },
    {
     "name": "stderr",
     "output_type": "stream",
     "text": [
      "/usr/local/lib/python3.6/site-packages/IPython/core/magics/pylab.py:161: UserWarning: pylab import has clobbered these variables: ['f']\n",
      "`%matplotlib` prevents importing * from pylab and numpy\n",
      "  \"\\n`%matplotlib` prevents importing * from pylab and numpy\"\n"
     ]
    }
   ],
   "source": [
    "%pylab inline\n",
    "import numpy as np\n",
    "import tensorflow as tf\n",
    "import pandas as pd\n",
    "import keras as K\n",
    "\n",
    "from keras.models import Sequential\n",
    "from keras.layers import LSTM\n",
    "from keras.preprocessing.sequence import pad_sequences\n",
    "\n",
    "from IPython.display import display\n",
    "from pprint import pprint as pp"
   ]
  },
  {
   "cell_type": "markdown",
   "metadata": {
    "deletable": true,
    "editable": true
   },
   "source": [
    "# Preprocessing"
   ]
  },
  {
   "cell_type": "code",
   "execution_count": 2,
   "metadata": {
    "collapsed": false,
    "deletable": true,
    "editable": true
   },
   "outputs": [],
   "source": [
    "train_raw = pd.read_csv('/dataset/winton-stock-market-challenge/train.csv')\n",
    "test_raw = pd.read_csv('/dataset/winton-stock-market-challenge/test.csv')"
   ]
  },
  {
   "cell_type": "code",
   "execution_count": 3,
   "metadata": {
    "collapsed": true,
    "deletable": true,
    "editable": true
   },
   "outputs": [],
   "source": [
    "FEATURE_INDICES = list(range(0, 25))\n",
    "RET_MINUS_TWO = [25]\n",
    "RET_MINUS_ONE = [26]\n",
    "INTRADAY_X = list(range(27, 146))\n",
    "INTRADAY_Y = list(range(146, 206))\n",
    "INTRADAYS = INTRADAY_X + INTRADAY_Y\n",
    "\n",
    "RET_PLUS_ONE = [206]\n",
    "RET_PLUS_TWO = [207]\n",
    "CUM_X = list(range(210, 329))\n",
    "CUM_Y = list(range(329, 389))"
   ]
  },
  {
   "cell_type": "markdown",
   "metadata": {
    "deletable": true,
    "editable": true
   },
   "source": [
    "먼저 nan을 처리하고, 필요 없는 columns (Id) 를 제거합니다."
   ]
  },
  {
   "cell_type": "code",
   "execution_count": 4,
   "metadata": {
    "collapsed": false,
    "deletable": true,
    "editable": true
   },
   "outputs": [],
   "source": [
    "train = train_raw.fillna(0)\n",
    "train = train.drop(['Id'], axis=1)"
   ]
  },
  {
   "cell_type": "markdown",
   "metadata": {
    "deletable": true,
    "editable": true
   },
   "source": [
    "### Cumulative Sum\n",
    "\n",
    "Intraday returns (Ret_2 부터 Ret_180)의 cumulative sum을 구합니다. "
   ]
  },
  {
   "cell_type": "code",
   "execution_count": 6,
   "metadata": {
    "collapsed": false,
    "deletable": true,
    "editable": true
   },
   "outputs": [
    {
     "data": {
      "image/png": "[encoded data removed]",
      "text/plain": [
       "<matplotlib.figure.Figure at 0x7f7107175c50>"
      ]
     },
     "metadata": {},
     "output_type": "display_data"
    }
   ],
   "source": [
    "# Cumulative Sum Intraday returns\n",
    "train[[f'cum_{i}' for i in range(2, len(INTRADAYS)+2)]]  = train[INTRADAYS].cumsum(axis=1)\n",
    "\n",
    "# Visualization\n",
    "f, ((ax1, ax2), (ax3, ax4))= subplots(2, 2)\n",
    "\n",
    "ax1.tick_params(labelbottom='off', labelleft='off')\n",
    "ax2.tick_params(labelbottom='off', labelleft='off')\n",
    "ax3.tick_params(labelbottom='off', labelleft='off')\n",
    "ax4.tick_params(labelbottom='off', labelleft='off')\n",
    "\n",
    "def _p(ax): \n",
    "    train[CUM_X + CUM_Y].iloc[np.random.randint(1000)].plot(ax=ax)\n",
    "    \n",
    "_p(ax1); _p(ax2); _p(ax3); _p(ax4)"
   ]
  },
  {
   "cell_type": "markdown",
   "metadata": {
    "deletable": true,
    "editable": true
   },
   "source": [
    "| Column | Index | train | Desciption |\n",
    "|:-------|:-----:|:-----:|:-----------|\n",
    "| Feature_1 | 0 | O | feature 첫번째 - 주가 예측에 영향을 주는 부분 |\n",
    "| Feature_25 | 24 | O | feature 마지막 - 주가 예측에 영향을 주는 부분 | \n",
    "| Ret_MinusTwo | 25 | O | D-2의 폐장시점부터 D1의 폐장시점까지의 수익률입니다. (1 day) |\n",
    "| Ret_MinusOne | 26 | O | D-1의 폐장시점부터 D의 일중 변동(Intraday returns)전까지의 수익률입니다. (대략 1/2 day) |\n",
    "| Ret_2 | 27 | O | intraday 첫번째 - D의 특정시점의 대략적인 분단위 수익률입니다. Ret_2의 경우 t=1 과 t=2사이의 수익률입니다. |\n",
    "| Ret_120 | 145 | O | intraday 마지막 - D의 특정시점의 대략적인 분단위 수익률입니다. Ret_2의 경우 t=1 과 t=2사이의 수익률입니다. | \n",
    "| Ret_121 | 146 | X | intraday 분단위 수익률 시작점 | \n",
    "| Ret_180 | 205 | X | intraday 분단위 수익률 마지막 | \n",
    "| Ret_PlusOne | 206 | X | Ret_180이 계산 종료된 시점부터 D+1의 폐장시점까지의 수익률입니다 (대략 1 day) |\n",
    "| Ret_PlusTwo | 207 | X |  D+1의 폐장시점부터 D+2의 폐장시점까지의 수익률입니다. (1 day) |\n",
    "| Weight_Intraday | 208 | X |  Ret_121 부터 Ret_180 까지의 일중 수익률을 계산시 사용한 가중치(weight)입니다. |\n",
    "| Weight_Daily | 209 | X |   Ret_PlusOne 그리고 Ret_PlusTwo를 예측할때 사용한 가중치 (Weight)입니다. |\n",
    "| cum_2 | 210 | O |   Ret_2의 cumsum |\n",
    "| cum_120 | 328 | O |   Ret_120의 cumsum |\n",
    "| cum_121 | 329 | X |   Ret_121의 cumsum |\n",
    "| cum_180 | 388 | X |   Ret_180의 cumsum |"
   ]
  },
  {
   "cell_type": "markdown",
   "metadata": {
    "deletable": true,
    "editable": true
   },
   "source": [
    "### Make Batch Data\n",
    "\n",
    "x의 shape은 다음과 같습니다. (batch, 시간 t (119), features + cumulative stock (28))<br>\n",
    "즉 예를 들어서\n",
    "\n",
    "```\n",
    "[[[ 0, 1, 2, ..., 27, 0.0],\n",
    "  [ 0, 1, 2, ..., 27, 0.1],\n",
    "  [ 0, 1, 2, ..., 27, 0.2],\n",
    "  ...\n",
    "  [ 0, 1, 2, ..., 27, 0.28],\n",
    "```\n",
    "\n",
    "features들은 모두 동일하고 끝의 cumulative stock부분만 변동이 됩니다.\n"
   ]
  },
  {
   "cell_type": "code",
   "execution_count": 12,
   "metadata": {
    "collapsed": false,
    "deletable": true,
    "editable": true,
    "scrolled": false
   },
   "outputs": [
    {
     "name": "stdout",
     "output_type": "stream",
     "text": [
      "(40000, 119) (40000, 60)\n",
      "Train Intraday X: (40000, 119, 28)\n",
      "Train Intraday X: (2400000,)\n"
     ]
    }
   ],
   "source": [
    "# Make intraday input features\n",
    "train_features = train[FEATURE_INDICES + RET_MINUS_TWO + RET_MINUS_ONE].as_matrix()\n",
    "train_cuml_x = train[CUM_X].as_matrix()\n",
    "train_cuml_y = train[CUM_Y].as_matrix()\n",
    "\n",
    "N, N_FEATURE = train_features.shape # 40000, 27\n",
    "N_CUM = train_cuml_x.shape[1] # 119\n",
    "\n",
    "print(train_cuml_x.shape, train_cuml_y.shape)\n",
    "\n",
    "train_features = train_features.reshape((-1, 1, N_FEATURE))\n",
    "train_cuml_x = train_cuml.reshape((-1, N_CUM, 1))\n",
    "\n",
    "train_intra_y = train_cuml_y.reshape((-1, ))\n",
    "train_intra_x = np.zeros((N, N_CUM, N_FEATURE + 1))\n",
    "for i, (f, c) in enumerate(zip(train_features, train_cuml)):\n",
    "    train_intra_x[i, :, :-1] = f\n",
    "    train_intra_x[i, :, -1:] = c\n",
    "\n",
    "print(f'Train Intraday X: {train_intra_x.shape}')\n",
    "print(f'Train Intraday X: {train_intra_y.shape}')"
   ]
  },
  {
   "cell_type": "code",
   "execution_count": 39,
   "metadata": {
    "collapsed": false,
    "deletable": true,
    "editable": true
   },
   "outputs": [],
   "source": [
    "def next_batch(data):\n",
    "    features = data[FEATURE_INDICES]\n",
    "    intra_cuml = data[CUM_X]\n",
    "    \n",
    "    \n",
    "    \n",
    "next_batch(train)"
   ]
  },
  {
   "cell_type": "markdown",
   "metadata": {
    "deletable": true,
    "editable": true
   },
   "source": [
    "## Model"
   ]
  },
  {
   "cell_type": "code",
   "execution_count": 158,
   "metadata": {
    "collapsed": false,
    "deletable": true,
    "editable": true
   },
   "outputs": [
    {
     "ename": "ValueError",
     "evalue": "The first layer in a Sequential model must get an `input_shape` or `batch_input_shape` argument.",
     "output_type": "error",
     "traceback": [
      "\u001b[0;31m---------------------------------------------------------------------------\u001b[0m",
      "\u001b[0;31mValueError\u001b[0m                                Traceback (most recent call last)",
      "\u001b[0;32m<ipython-input-158-e58313bb6c85>\u001b[0m in \u001b[0;36m<module>\u001b[0;34m()\u001b[0m\n\u001b[1;32m      1\u001b[0m \u001b[0mmodel\u001b[0m \u001b[0;34m=\u001b[0m \u001b[0mSequential\u001b[0m\u001b[0;34m(\u001b[0m\u001b[0;34m)\u001b[0m\u001b[0;34m\u001b[0m\u001b[0m\n\u001b[0;32m----> 2\u001b[0;31m \u001b[0mmodel\u001b[0m\u001b[0;34m.\u001b[0m\u001b[0madd\u001b[0m\u001b[0;34m(\u001b[0m\u001b[0mLSTM\u001b[0m\u001b[0;34m(\u001b[0m\u001b[0moutput_dim\u001b[0m\u001b[0;34m=\u001b[0m\u001b[0;36m5\u001b[0m\u001b[0;34m)\u001b[0m\u001b[0;34m)\u001b[0m\u001b[0;34m\u001b[0m\u001b[0m\n\u001b[0m",
      "\u001b[0;32m/usr/local/lib/python3.6/site-packages/keras/models.py\u001b[0m in \u001b[0;36madd\u001b[0;34m(self, layer)\u001b[0m\n\u001b[1;32m    288\u001b[0m                 \u001b[0;31m# create an input layer\u001b[0m\u001b[0;34m\u001b[0m\u001b[0;34m\u001b[0m\u001b[0m\n\u001b[1;32m    289\u001b[0m                 \u001b[0;32mif\u001b[0m \u001b[0;32mnot\u001b[0m \u001b[0mhasattr\u001b[0m\u001b[0;34m(\u001b[0m\u001b[0mlayer\u001b[0m\u001b[0;34m,\u001b[0m \u001b[0;34m'batch_input_shape'\u001b[0m\u001b[0;34m)\u001b[0m\u001b[0;34m:\u001b[0m\u001b[0;34m\u001b[0m\u001b[0m\n\u001b[0;32m--> 290\u001b[0;31m                     raise ValueError('The first layer in a '\n\u001b[0m\u001b[1;32m    291\u001b[0m                                      \u001b[0;34m'Sequential model must '\u001b[0m\u001b[0;34m\u001b[0m\u001b[0m\n\u001b[1;32m    292\u001b[0m                                      \u001b[0;34m'get an `input_shape` or '\u001b[0m\u001b[0;34m\u001b[0m\u001b[0m\n",
      "\u001b[0;31mValueError\u001b[0m: The first layer in a Sequential model must get an `input_shape` or `batch_input_shape` argument."
     ]
    }
   ],
   "source": [
    "model = Sequential()\n",
    "model.add(LSTM(output_dim=5, input_shape=()))"
   ]
  }
 ],
 "metadata": {
  "kernelspec": {
   "display_name": "Python 3",
   "language": "python",
   "name": "python3"
  },
  "language_info": {
   "codemirror_mode": {
    "name": "ipython",
    "version": 3
   },
   "file_extension": ".py",
   "mimetype": "text/x-python",
   "name": "python",
   "nbconvert_exporter": "python",
   "pygments_lexer": "ipython3",
   "version": "3.6.0"
  }
 },
 "nbformat": 4,
 "nbformat_minor": 2
}
