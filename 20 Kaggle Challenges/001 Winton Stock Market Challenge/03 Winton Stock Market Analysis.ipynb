{
 "cells": [
  {
   "cell_type": "markdown",
   "metadata": {
    "deletable": true,
    "editable": true
   },
   "source": [
    "# Winton Stock Market Analysis"
   ]
  },
  {
   "cell_type": "code",
   "execution_count": 17,
   "metadata": {
    "collapsed": false,
    "deletable": true,
    "editable": true
   },
   "outputs": [
    {
     "name": "stdout",
     "output_type": "stream",
     "text": [
      "Populating the interactive namespace from numpy and matplotlib\n"
     ]
    },
    {
     "name": "stderr",
     "output_type": "stream",
     "text": [
      "/usr/local/lib/python3.6/site-packages/IPython/core/magics/pylab.py:161: UserWarning: pylab import has clobbered these variables: ['concatenate']\n",
      "`%matplotlib` prevents importing * from pylab and numpy\n",
      "  \"\\n`%matplotlib` prevents importing * from pylab and numpy\"\n"
     ]
    }
   ],
   "source": [
    "%pylab inline\n",
    "import numpy as np\n",
    "import tensorflow as tf\n",
    "import pandas as pd\n",
    "\n",
    "from keras import backend as K\n",
    "from keras.models import Sequential, Input, Model\n",
    "from keras.layers import LSTM, Dense, Reshape, Activation\n",
    "from keras.layers import concatenate\n",
    "from keras.layers.normalization import BatchNormalization\n",
    "from keras.wrappers.scikit_learn import KerasClassifier\n",
    "from keras.preprocessing.sequence import pad_sequences\n",
    "\n",
    "from sklearn.preprocessing import StandardScaler\n",
    "from sklearn.metrics import make_scorer, r2_score\n",
    "from sklearn.model_selection import GridSearchCV, train_test_split\n",
    "\n",
    "from IPython.display import display\n",
    "from pprint import pprint as pp\n",
    "from IPython.display import SVG, Image\n",
    "from keras.utils.vis_utils import model_to_dot"
   ]
  },
  {
   "cell_type": "markdown",
   "metadata": {
    "deletable": true,
    "editable": true
   },
   "source": [
    "# Data Preprocessing"
   ]
  },
  {
   "cell_type": "markdown",
   "metadata": {
    "deletable": true,
    "editable": true
   },
   "source": [
    "| Column | Index | train | Desciption |\n",
    "|:-------|:-----:|:-----:|:-----------|\n",
    "| Feature_1 | 0 | O | feature 첫번째 - 주가 예측에 영향을 주는 부분 |\n",
    "| Feature_25 | 24 | O | feature 마지막 - 주가 예측에 영향을 주는 부분 | \n",
    "| Ret_MinusTwo | 25 | O | D-2의 폐장시점부터 D1의 폐장시점까지의 수익률입니다. (1 day) |\n",
    "| Ret_MinusOne | 26 | O | D-1의 폐장시점부터 D의 일중 변동(Intraday returns)전까지의 수익률입니다. (대략 1/2 day) |\n",
    "| Ret_2 | 27 | O | intraday 첫번째 - D의 특정시점의 대략적인 분단위 수익률입니다. Ret_2의 경우 t=1 과 t=2사이의 수익률입니다. |\n",
    "| Ret_120 | 145 | O | intraday 마지막 - D의 특정시점의 대략적인 분단위 수익률입니다. Ret_2의 경우 t=1 과 t=2사이의 수익률입니다. | \n",
    "| Ret_121 | 146 | X | intraday 분단위 수익률 시작점 | \n",
    "| Ret_180 | 205 | X | intraday 분단위 수익률 마지막 | \n",
    "| Ret_PlusOne | 206 | X | Ret_180이 계산 종료된 시점부터 D+1의 폐장시점까지의 수익률입니다 (대략 1 day) |\n",
    "| Ret_PlusTwo | 207 | X |  D+1의 폐장시점부터 D+2의 폐장시점까지의 수익률입니다. (1 day) |\n",
    "| Weight_Intraday | 208 | X |  Ret_121 부터 Ret_180 까지의 일중 수익률을 계산시 사용한 가중치(weight)입니다. |\n",
    "| Weight_Daily | 209 | X |   Ret_PlusOne 그리고 Ret_PlusTwo를 예측할때 사용한 가중치 (Weight)입니다. |\n",
    "| trend_2 | 210 | O |   Ret_2의 cumsum |\n",
    "| trend_120 | 328 | O |   Ret_120의 cumsum |\n",
    "| trend_121 | 329 | X |   Ret_121의 cumsum |\n",
    "| trend_180 | 388 | X |   Ret_180의 cumsum |\n",
    "| padded_intraday_y_0 | 389 | X |   Padded된 intraday y 처음값 |\n",
    "| padded_intraday_y_118 | 507 | X |   Padded된 intraday y 마지막값 |\n",
    "| padded_trend_0 | 508 | X |  Padded된 trend y 처음값 |\n",
    "| padded_trend_0 | 626 | X |  Padded된 trend y 처음값 |"
   ]
  },
  {
   "cell_type": "code",
   "execution_count": 2,
   "metadata": {
    "collapsed": false,
    "deletable": true,
    "editable": true
   },
   "outputs": [],
   "source": [
    "train_raw = pd.read_csv('/dataset/winton-stock-market-challenge/train.csv')\n",
    "# test_raw = pd.read_csv('/dataset/winton-stock-market-challenge/test.csv')"
   ]
  },
  {
   "cell_type": "code",
   "execution_count": 3,
   "metadata": {
    "collapsed": false,
    "deletable": true,
    "editable": true
   },
   "outputs": [],
   "source": [
    "FEATURE_INDICES = list(range(0, 25))\n",
    "RET_MINUS_TWO = [25]\n",
    "RET_MINUS_ONE = [26]\n",
    "INTRADAY_X = list(range(27, 146))\n",
    "INTRADAY_Y = list(range(146, 206))\n",
    "INTRADAYS = INTRADAY_X + INTRADAY_Y\n",
    "\n",
    "RET_PLUS_ONE = [206]\n",
    "RET_PLUS_TWO = [207]\n",
    "TREND_X = list(range(210, 329))\n",
    "TREND_Y = list(range(329, 389))\n",
    "\n",
    "PADDED_INTRA_Y = list(range(389, 389+len(INTRADAY_X)))\n",
    "PADDED_TREND_Y = list(range(508, 508+len(TREND_X)))"
   ]
  },
  {
   "cell_type": "markdown",
   "metadata": {
    "deletable": true,
    "editable": true
   },
   "source": [
    "### Processing NAN & Dropping Useless Columns\n",
    "먼저 nan을 처리하고, 필요 없는 columns (Id) 를 제거합니다."
   ]
  },
  {
   "cell_type": "code",
   "execution_count": 4,
   "metadata": {
    "collapsed": false,
    "deletable": true,
    "editable": true
   },
   "outputs": [],
   "source": [
    "def preprocess_nan(raw_data):\n",
    "    data = raw_data.fillna(0)\n",
    "    data = data.drop(['Id'], axis=1)\n",
    "    return data\n",
    "\n",
    "data = preprocess_nan(train_raw)"
   ]
  },
  {
   "cell_type": "markdown",
   "metadata": {
    "deletable": true,
    "editable": true
   },
   "source": [
    "## Scaling"
   ]
  },
  {
   "cell_type": "code",
   "execution_count": 5,
   "metadata": {
    "collapsed": false,
    "deletable": true,
    "editable": true
   },
   "outputs": [],
   "source": [
    "# Feature Scaling for Training Data\n",
    "feature_scaler = StandardScaler()\n",
    "data[FEATURE_INDICES] = feature_scaler.fit_transform(data[FEATURE_INDICES])"
   ]
  },
  {
   "cell_type": "markdown",
   "metadata": {
    "deletable": true,
    "editable": true
   },
   "source": [
    "### Calculate Trend  (Cumulative Sum)\n",
    "\n",
    "Intraday returns (Ret_2 부터 Ret_180)의 cumulative sum을 구합니다. "
   ]
  },
  {
   "cell_type": "code",
   "execution_count": 6,
   "metadata": {
    "collapsed": false,
    "deletable": true,
    "editable": true
   },
   "outputs": [
    {
     "data": {
      "image/png": "[encoded data removed]",
      "text/plain": [
       "<matplotlib.figure.Figure at 0x7fd6eec45080>"
      ]
     },
     "metadata": {},
     "output_type": "display_data"
    }
   ],
   "source": [
    "# Cumulative Sum Intraday returns\n",
    "data[[f'cum_{i}' for i in range(2, len(INTRADAYS)+2)]] = data[INTRADAYS].cumsum(axis=1)\n",
    "\n",
    "# Visualization\n",
    "f, ((ax1, ax2), (ax3, ax4))= subplots(2, 2)\n",
    "\n",
    "ax1.tick_params(labelbottom='off', labelleft='off')\n",
    "ax2.tick_params(labelbottom='off', labelleft='off')\n",
    "ax3.tick_params(labelbottom='off', labelleft='off')\n",
    "ax4.tick_params(labelbottom='off', labelleft='off')\n",
    "\n",
    "def _p(ax): \n",
    "    data[TREND_X + TREND_Y].iloc[np.random.randint(1000)].plot(ax=ax)\n",
    "    \n",
    "_p(ax1); _p(ax2); _p(ax3); _p(ax4)"
   ]
  },
  {
   "cell_type": "markdown",
   "metadata": {
    "deletable": true,
    "editable": true
   },
   "source": [
    "### Padding for LSTM"
   ]
  },
  {
   "cell_type": "code",
   "execution_count": 7,
   "metadata": {
    "collapsed": false,
    "deletable": true,
    "editable": true
   },
   "outputs": [],
   "source": [
    "def padding(data, maxlen, prefix):\n",
    "    _padded_data = pad_sequences(data.as_matrix(), \n",
    "                                 maxlen=maxlen, \n",
    "                                 padding='post', \n",
    "                                 dtype='float32')\n",
    "\n",
    "    _padded_data = pd.DataFrame(_padded_data, \n",
    "                                columns=[f'{prefix}{i}' for i in range(_padded_data.shape[1])])\n",
    "    return _padded_data\n",
    "    \n",
    "\n",
    "_padded_intra_y = padding(data[INTRADAY_Y], maxlen=len(INTRADAY_X), prefix='PADDED_INTRA_Y_')\n",
    "_padded_trend_y = padding(data[TREND_Y], maxlen=len(TREND_X), prefix='PADDED_TREND_Y_')\n",
    "\n",
    "data = pd.concat([data, _padded_intra_y, _padded_trend_y], axis=1)"
   ]
  },
  {
   "cell_type": "markdown",
   "metadata": {
    "deletable": true,
    "editable": true
   },
   "source": [
    "### Separate Training set and Test set"
   ]
  },
  {
   "cell_type": "code",
   "execution_count": 8,
   "metadata": {
    "collapsed": false,
    "deletable": true,
    "editable": true
   },
   "outputs": [
    {
     "name": "stdout",
     "output_type": "stream",
     "text": [
      "[Data]\n",
      "features:\t (40000, 119, 27)\n",
      "intraday_x:\t (40000, 119, 1)\n",
      "intraday_y(pad): (40000, 119, 1)\n",
      "intraday_y:\t (40000, 60, 1)\n",
      "trend_x:\t (40000, 119, 1)\n",
      "trend_y(pad):\t (40000, 119, 1)\n",
      "trend_y:\t (40000, 60, 1)\n",
      "x (trend+feat):\t (40000, 119, 28)\n",
      "\n",
      "[TRAIN]\n",
      "features:\t (32000, 119, 27)\n",
      "intraday_x:\t (32000, 119, 1)\n",
      "intraday_y(pad): (32000, 119, 1)\n",
      "intraday_y:\t (32000, 60, 1)\n",
      "trend_x:\t (32000, 119, 1)\n",
      "trend_y(pad):\t (32000, 119, 1)\n",
      "trend_y:\t (32000, 60, 1)\n",
      "x (trend+feat):\t (32000, 119, 28)\n",
      "\n",
      "[TEST]\n",
      "features:\t (8000, 119, 27)\n",
      "intraday_x:\t (8000, 119, 1)\n",
      "intraday_y(pad): (8000, 119, 1)\n",
      "intraday_y:\t (8000, 60, 1)\n",
      "trend_x:\t (8000, 119, 1)\n",
      "trend_y(pad):\t (8000, 119, 1)\n",
      "trend_y:\t (8000, 60, 1)\n",
      "x (trend+feat):\t (8000, 119, 28)\n"
     ]
    }
   ],
   "source": [
    "###########\n",
    "# Dataframe to Numpy Matrix\n",
    "###########\n",
    "data_features = data[FEATURE_INDICES + RET_MINUS_ONE + RET_MINUS_TWO].as_matrix()\n",
    "\n",
    "data_trend_x = data[TREND_X].as_matrix()\n",
    "data_trend_y = data[TREND_Y].as_matrix()\n",
    "data_padded_trend_y = data[PADDED_TREND_Y].as_matrix()\n",
    "\n",
    "data_intraday_x = data[INTRADAY_X].as_matrix()\n",
    "data_intraday_y = data[INTRADAY_Y].as_matrix()\n",
    "data_padded_intraday_y = data[PADDED_INTRA_Y].as_matrix()\n",
    "\n",
    "###########\n",
    "# Reshape & Repeat\n",
    "###########\n",
    "\n",
    "# 여기서 features는 동일한 27 length vector 119개를 갖은 time-series data로 변신\n",
    "data_features = data_features.repeat(119, axis=0).reshape((-1, 119, data_features.shape[1]))\n",
    "\n",
    "data_trend_x = data_trend_x.reshape((-1, data_trend_x.shape[1], 1))\n",
    "data_trend_y = data_trend_y.reshape((-1, data_trend_y.shape[1], 1))\n",
    "data_padded_trend_y = data_padded_trend_y.reshape((-1, data_padded_trend_y.shape[1], 1))\n",
    "\n",
    "data_intraday_x = data_intraday_x.reshape((-1, data_intraday_x.shape[1], 1))\n",
    "data_intraday_y = data_intraday_y.reshape((-1, data_intraday_y.shape[1], 1))\n",
    "data_padded_intraday_y = data_padded_intraday_y.reshape((-1, data_padded_intraday_y.shape[1], 1))\n",
    "\n",
    "data_x = np.append(data_trend_x, data_features, axis=-1)\n",
    "\n",
    "###########\n",
    "# Split Data into train and test subsets\n",
    "###########\n",
    "TRAIN_SIZE = 0.8\n",
    "train_features, test_features = train_test_split(data_features, train_size=TRAIN_SIZE)\n",
    "train_intraday_x, test_intraday_x = train_test_split(data_intraday_x, train_size=TRAIN_SIZE)\n",
    "train_intraday_y, test_intraday_y = train_test_split(data_intraday_y, train_size=TRAIN_SIZE)\n",
    "train_padded_intraday_y, test_padded_intraday_y = train_test_split(data_padded_intraday_y, train_size=TRAIN_SIZE)\n",
    "\n",
    "train_trend_x, test_trend_x = train_test_split(data_trend_x, train_size=TRAIN_SIZE)\n",
    "train_trend_y, test_trend_y = train_test_split(data_trend_y, train_size=TRAIN_SIZE)\n",
    "train_padded_trend_y, test_padded_trend_y = train_test_split(data_padded_trend_y, train_size=TRAIN_SIZE)\n",
    "\n",
    "train_x, test_x = train_test_split(data_x, train_size=TRAIN_SIZE)\n",
    "\n",
    "\n",
    "###########\n",
    "# SHAPE\n",
    "###########\n",
    "print('[Data]')\n",
    "print('features:\\t', data_features.shape)\n",
    "print('intraday_x:\\t', data_intraday_x.shape)\n",
    "print('intraday_y(pad):', data_padded_intraday_y.shape)\n",
    "print('intraday_y:\\t', data_intraday_y.shape)\n",
    "print('trend_x:\\t', data_trend_x.shape)\n",
    "print('trend_y(pad):\\t', data_padded_trend_y.shape)\n",
    "print('trend_y:\\t', data_trend_y.shape)\n",
    "print('x (trend+feat):\\t', data_x.shape)\n",
    "\n",
    "print()\n",
    "print('[TRAIN]')\n",
    "print('features:\\t', train_features.shape)\n",
    "print('intraday_x:\\t', train_intraday_x.shape)\n",
    "print('intraday_y(pad):', train_padded_intraday_y.shape)\n",
    "print('intraday_y:\\t', train_intraday_y.shape)\n",
    "print('trend_x:\\t', train_trend_x.shape)\n",
    "print('trend_y(pad):\\t', train_padded_trend_y.shape)\n",
    "print('trend_y:\\t', train_trend_y.shape)\n",
    "print('x (trend+feat):\\t', train_x.shape)\n",
    "\n",
    "print()\n",
    "print('[TEST]')\n",
    "print('features:\\t', test_features.shape)\n",
    "print('intraday_x:\\t', test_intraday_x.shape)\n",
    "print('intraday_y(pad):', test_padded_intraday_y.shape)\n",
    "print('intraday_y:\\t', test_intraday_y.shape)\n",
    "print('trend_x:\\t', test_trend_x.shape)\n",
    "print('trend_y(pad):\\t', test_padded_trend_y.shape)\n",
    "print('trend_y:\\t', test_trend_y.shape)\n",
    "print('x (trend+feat):\\t', test_x.shape)"
   ]
  },
  {
   "cell_type": "markdown",
   "metadata": {
    "deletable": true,
    "editable": true
   },
   "source": [
    "# Model"
   ]
  },
  {
   "cell_type": "code",
   "execution_count": 18,
   "metadata": {
    "collapsed": false,
    "deletable": true,
    "editable": true
   },
   "outputs": [
    {
     "data": {
      "image/svg+xml": [
       "<svg height=\"1217pt\" viewBox=\"0.00 0.00 440.00 1217.00\" width=\"440pt\" xmlns=\"http://www.w3.org/2000/svg\" xmlns:xlink=\"http://www.w3.org/1999/xlink\">\n",
       "<g class=\"graph\" id=\"graph0\" transform=\"scale(1 1) rotate(0) translate(4 1213)\">\n",
       "<title>G</title>\n",
       "<polygon fill=\"white\" points=\"-4,4 -4,-1213 436,-1213 436,4 -4,4\" stroke=\"none\"/>\n",
       "<!-- 140555304130432 -->\n",
       "<g class=\"node\" id=\"node1\"><title>140555304130432</title>\n",
       "<polygon fill=\"none\" points=\"55,-1162.5 55,-1208.5 377,-1208.5 377,-1162.5 55,-1162.5\" stroke=\"black\"/>\n",
       "<text font-family=\"Times,serif\" font-size=\"14.00\" text-anchor=\"middle\" x=\"136.5\" y=\"-1181.8\">lstm_16_input: InputLayer</text>\n",
       "<polyline fill=\"none\" points=\"218,-1162.5 218,-1208.5 \" stroke=\"black\"/>\n",
       "<text font-family=\"Times,serif\" font-size=\"14.00\" text-anchor=\"middle\" x=\"245.5\" y=\"-1193.3\">input:</text>\n",
       "<polyline fill=\"none\" points=\"218,-1185.5 273,-1185.5 \" stroke=\"black\"/>\n",
       "<text font-family=\"Times,serif\" font-size=\"14.00\" text-anchor=\"middle\" x=\"245.5\" y=\"-1170.3\">output:</text>\n",
       "<polyline fill=\"none\" points=\"273,-1162.5 273,-1208.5 \" stroke=\"black\"/>\n",
       "<text font-family=\"Times,serif\" font-size=\"14.00\" text-anchor=\"middle\" x=\"325\" y=\"-1193.3\">(None, 119, 28)</text>\n",
       "<polyline fill=\"none\" points=\"273,-1185.5 377,-1185.5 \" stroke=\"black\"/>\n",
       "<text font-family=\"Times,serif\" font-size=\"14.00\" text-anchor=\"middle\" x=\"325\" y=\"-1170.3\">(None, 119, 28)</text>\n",
       "</g>\n",
       "<!-- 140555304129592 -->\n",
       "<g class=\"node\" id=\"node2\"><title>140555304129592</title>\n",
       "<polygon fill=\"none\" points=\"81,-1079.5 81,-1125.5 351,-1125.5 351,-1079.5 81,-1079.5\" stroke=\"black\"/>\n",
       "<text font-family=\"Times,serif\" font-size=\"14.00\" text-anchor=\"middle\" x=\"133.5\" y=\"-1098.8\">lstm_16: LSTM</text>\n",
       "<polyline fill=\"none\" points=\"186,-1079.5 186,-1125.5 \" stroke=\"black\"/>\n",
       "<text font-family=\"Times,serif\" font-size=\"14.00\" text-anchor=\"middle\" x=\"213.5\" y=\"-1110.3\">input:</text>\n",
       "<polyline fill=\"none\" points=\"186,-1102.5 241,-1102.5 \" stroke=\"black\"/>\n",
       "<text font-family=\"Times,serif\" font-size=\"14.00\" text-anchor=\"middle\" x=\"213.5\" y=\"-1087.3\">output:</text>\n",
       "<polyline fill=\"none\" points=\"241,-1079.5 241,-1125.5 \" stroke=\"black\"/>\n",
       "<text font-family=\"Times,serif\" font-size=\"14.00\" text-anchor=\"middle\" x=\"296\" y=\"-1110.3\">(None, 119, 28)</text>\n",
       "<polyline fill=\"none\" points=\"241,-1102.5 351,-1102.5 \" stroke=\"black\"/>\n",
       "<text font-family=\"Times,serif\" font-size=\"14.00\" text-anchor=\"middle\" x=\"296\" y=\"-1087.3\">(None, 119, 100)</text>\n",
       "</g>\n",
       "<!-- 140555304130432&#45;&gt;140555304129592 -->\n",
       "<g class=\"edge\" id=\"edge1\"><title>140555304130432-&gt;140555304129592</title>\n",
       "<path d=\"M216,-1162.37C216,-1154.15 216,-1144.66 216,-1135.73\" fill=\"none\" stroke=\"black\"/>\n",
       "<polygon fill=\"black\" points=\"219.5,-1135.61 216,-1125.61 212.5,-1135.61 219.5,-1135.61\" stroke=\"black\"/>\n",
       "</g>\n",
       "<!-- 140555304132112 -->\n",
       "<g class=\"node\" id=\"node3\"><title>140555304132112</title>\n",
       "<polygon fill=\"none\" points=\"3.5,-996.5 3.5,-1042.5 428.5,-1042.5 428.5,-996.5 3.5,-996.5\" stroke=\"black\"/>\n",
       "<text font-family=\"Times,serif\" font-size=\"14.00\" text-anchor=\"middle\" x=\"133.5\" y=\"-1015.8\">batch_normalization_3: BatchNormalization</text>\n",
       "<polyline fill=\"none\" points=\"263.5,-996.5 263.5,-1042.5 \" stroke=\"black\"/>\n",
       "<text font-family=\"Times,serif\" font-size=\"14.00\" text-anchor=\"middle\" x=\"291\" y=\"-1027.3\">input:</text>\n",
       "<polyline fill=\"none\" points=\"263.5,-1019.5 318.5,-1019.5 \" stroke=\"black\"/>\n",
       "<text font-family=\"Times,serif\" font-size=\"14.00\" text-anchor=\"middle\" x=\"291\" y=\"-1004.3\">output:</text>\n",
       "<polyline fill=\"none\" points=\"318.5,-996.5 318.5,-1042.5 \" stroke=\"black\"/>\n",
       "<text font-family=\"Times,serif\" font-size=\"14.00\" text-anchor=\"middle\" x=\"373.5\" y=\"-1027.3\">(None, 119, 100)</text>\n",
       "<polyline fill=\"none\" points=\"318.5,-1019.5 428.5,-1019.5 \" stroke=\"black\"/>\n",
       "<text font-family=\"Times,serif\" font-size=\"14.00\" text-anchor=\"middle\" x=\"373.5\" y=\"-1004.3\">(None, 119, 100)</text>\n",
       "</g>\n",
       "<!-- 140555304129592&#45;&gt;140555304132112 -->\n",
       "<g class=\"edge\" id=\"edge2\"><title>140555304129592-&gt;140555304132112</title>\n",
       "<path d=\"M216,-1079.37C216,-1071.15 216,-1061.66 216,-1052.73\" fill=\"none\" stroke=\"black\"/>\n",
       "<polygon fill=\"black\" points=\"219.5,-1052.61 216,-1042.61 212.5,-1052.61 219.5,-1052.61\" stroke=\"black\"/>\n",
       "</g>\n",
       "<!-- 140555302780096 -->\n",
       "<g class=\"node\" id=\"node4\"><title>140555302780096</title>\n",
       "<polygon fill=\"none\" points=\"81,-913.5 81,-959.5 351,-959.5 351,-913.5 81,-913.5\" stroke=\"black\"/>\n",
       "<text font-family=\"Times,serif\" font-size=\"14.00\" text-anchor=\"middle\" x=\"133.5\" y=\"-932.8\">lstm_17: LSTM</text>\n",
       "<polyline fill=\"none\" points=\"186,-913.5 186,-959.5 \" stroke=\"black\"/>\n",
       "<text font-family=\"Times,serif\" font-size=\"14.00\" text-anchor=\"middle\" x=\"213.5\" y=\"-944.3\">input:</text>\n",
       "<polyline fill=\"none\" points=\"186,-936.5 241,-936.5 \" stroke=\"black\"/>\n",
       "<text font-family=\"Times,serif\" font-size=\"14.00\" text-anchor=\"middle\" x=\"213.5\" y=\"-921.3\">output:</text>\n",
       "<polyline fill=\"none\" points=\"241,-913.5 241,-959.5 \" stroke=\"black\"/>\n",
       "<text font-family=\"Times,serif\" font-size=\"14.00\" text-anchor=\"middle\" x=\"296\" y=\"-944.3\">(None, 119, 100)</text>\n",
       "<polyline fill=\"none\" points=\"241,-936.5 351,-936.5 \" stroke=\"black\"/>\n",
       "<text font-family=\"Times,serif\" font-size=\"14.00\" text-anchor=\"middle\" x=\"296\" y=\"-921.3\">(None, 119, 100)</text>\n",
       "</g>\n",
       "<!-- 140555304132112&#45;&gt;140555302780096 -->\n",
       "<g class=\"edge\" id=\"edge3\"><title>140555304132112-&gt;140555302780096</title>\n",
       "<path d=\"M216,-996.366C216,-988.152 216,-978.658 216,-969.725\" fill=\"none\" stroke=\"black\"/>\n",
       "<polygon fill=\"black\" points=\"219.5,-969.607 216,-959.607 212.5,-969.607 219.5,-969.607\" stroke=\"black\"/>\n",
       "</g>\n",
       "<!-- 140555302139552 -->\n",
       "<g class=\"node\" id=\"node5\"><title>140555302139552</title>\n",
       "<polygon fill=\"none\" points=\"3.5,-830.5 3.5,-876.5 428.5,-876.5 428.5,-830.5 3.5,-830.5\" stroke=\"black\"/>\n",
       "<text font-family=\"Times,serif\" font-size=\"14.00\" text-anchor=\"middle\" x=\"133.5\" y=\"-849.8\">batch_normalization_4: BatchNormalization</text>\n",
       "<polyline fill=\"none\" points=\"263.5,-830.5 263.5,-876.5 \" stroke=\"black\"/>\n",
       "<text font-family=\"Times,serif\" font-size=\"14.00\" text-anchor=\"middle\" x=\"291\" y=\"-861.3\">input:</text>\n",
       "<polyline fill=\"none\" points=\"263.5,-853.5 318.5,-853.5 \" stroke=\"black\"/>\n",
       "<text font-family=\"Times,serif\" font-size=\"14.00\" text-anchor=\"middle\" x=\"291\" y=\"-838.3\">output:</text>\n",
       "<polyline fill=\"none\" points=\"318.5,-830.5 318.5,-876.5 \" stroke=\"black\"/>\n",
       "<text font-family=\"Times,serif\" font-size=\"14.00\" text-anchor=\"middle\" x=\"373.5\" y=\"-861.3\">(None, 119, 100)</text>\n",
       "<polyline fill=\"none\" points=\"318.5,-853.5 428.5,-853.5 \" stroke=\"black\"/>\n",
       "<text font-family=\"Times,serif\" font-size=\"14.00\" text-anchor=\"middle\" x=\"373.5\" y=\"-838.3\">(None, 119, 100)</text>\n",
       "</g>\n",
       "<!-- 140555302780096&#45;&gt;140555302139552 -->\n",
       "<g class=\"edge\" id=\"edge4\"><title>140555302780096-&gt;140555302139552</title>\n",
       "<path d=\"M216,-913.366C216,-905.152 216,-895.658 216,-886.725\" fill=\"none\" stroke=\"black\"/>\n",
       "<polygon fill=\"black\" points=\"219.5,-886.607 216,-876.607 212.5,-886.607 219.5,-886.607\" stroke=\"black\"/>\n",
       "</g>\n",
       "<!-- 140555299956720 -->\n",
       "<g class=\"node\" id=\"node6\"><title>140555299956720</title>\n",
       "<polygon fill=\"none\" points=\"84,-747.5 84,-793.5 348,-793.5 348,-747.5 84,-747.5\" stroke=\"black\"/>\n",
       "<text font-family=\"Times,serif\" font-size=\"14.00\" text-anchor=\"middle\" x=\"130\" y=\"-766.8\">fcl_01: Dense</text>\n",
       "<polyline fill=\"none\" points=\"176,-747.5 176,-793.5 \" stroke=\"black\"/>\n",
       "<text font-family=\"Times,serif\" font-size=\"14.00\" text-anchor=\"middle\" x=\"203.5\" y=\"-778.3\">input:</text>\n",
       "<polyline fill=\"none\" points=\"176,-770.5 231,-770.5 \" stroke=\"black\"/>\n",
       "<text font-family=\"Times,serif\" font-size=\"14.00\" text-anchor=\"middle\" x=\"203.5\" y=\"-755.3\">output:</text>\n",
       "<polyline fill=\"none\" points=\"231,-747.5 231,-793.5 \" stroke=\"black\"/>\n",
       "<text font-family=\"Times,serif\" font-size=\"14.00\" text-anchor=\"middle\" x=\"289.5\" y=\"-778.3\">(None, 119, 100)</text>\n",
       "<polyline fill=\"none\" points=\"231,-770.5 348,-770.5 \" stroke=\"black\"/>\n",
       "<text font-family=\"Times,serif\" font-size=\"14.00\" text-anchor=\"middle\" x=\"289.5\" y=\"-755.3\">(None, 119, 1024)</text>\n",
       "</g>\n",
       "<!-- 140555302139552&#45;&gt;140555299956720 -->\n",
       "<g class=\"edge\" id=\"edge5\"><title>140555302139552-&gt;140555299956720</title>\n",
       "<path d=\"M216,-830.366C216,-822.152 216,-812.658 216,-803.725\" fill=\"none\" stroke=\"black\"/>\n",
       "<polygon fill=\"black\" points=\"219.5,-803.607 216,-793.607 212.5,-803.607 219.5,-803.607\" stroke=\"black\"/>\n",
       "</g>\n",
       "<!-- 140555298805688 -->\n",
       "<g class=\"node\" id=\"node7\"><title>140555298805688</title>\n",
       "<polygon fill=\"none\" points=\"0,-664.5 0,-710.5 432,-710.5 432,-664.5 0,-664.5\" stroke=\"black\"/>\n",
       "<text font-family=\"Times,serif\" font-size=\"14.00\" text-anchor=\"middle\" x=\"130\" y=\"-683.8\">batch_normalization_5: BatchNormalization</text>\n",
       "<polyline fill=\"none\" points=\"260,-664.5 260,-710.5 \" stroke=\"black\"/>\n",
       "<text font-family=\"Times,serif\" font-size=\"14.00\" text-anchor=\"middle\" x=\"287.5\" y=\"-695.3\">input:</text>\n",
       "<polyline fill=\"none\" points=\"260,-687.5 315,-687.5 \" stroke=\"black\"/>\n",
       "<text font-family=\"Times,serif\" font-size=\"14.00\" text-anchor=\"middle\" x=\"287.5\" y=\"-672.3\">output:</text>\n",
       "<polyline fill=\"none\" points=\"315,-664.5 315,-710.5 \" stroke=\"black\"/>\n",
       "<text font-family=\"Times,serif\" font-size=\"14.00\" text-anchor=\"middle\" x=\"373.5\" y=\"-695.3\">(None, 119, 1024)</text>\n",
       "<polyline fill=\"none\" points=\"315,-687.5 432,-687.5 \" stroke=\"black\"/>\n",
       "<text font-family=\"Times,serif\" font-size=\"14.00\" text-anchor=\"middle\" x=\"373.5\" y=\"-672.3\">(None, 119, 1024)</text>\n",
       "</g>\n",
       "<!-- 140555299956720&#45;&gt;140555298805688 -->\n",
       "<g class=\"edge\" id=\"edge6\"><title>140555299956720-&gt;140555298805688</title>\n",
       "<path d=\"M216,-747.366C216,-739.152 216,-729.658 216,-720.725\" fill=\"none\" stroke=\"black\"/>\n",
       "<polygon fill=\"black\" points=\"219.5,-720.607 216,-710.607 212.5,-720.607 219.5,-720.607\" stroke=\"black\"/>\n",
       "</g>\n",
       "<!-- 140555298354512 -->\n",
       "<g class=\"node\" id=\"node8\"><title>140555298354512</title>\n",
       "<polygon fill=\"none\" points=\"56,-581.5 56,-627.5 376,-627.5 376,-581.5 56,-581.5\" stroke=\"black\"/>\n",
       "<text font-family=\"Times,serif\" font-size=\"14.00\" text-anchor=\"middle\" x=\"130\" y=\"-600.8\">activation_1: Activation</text>\n",
       "<polyline fill=\"none\" points=\"204,-581.5 204,-627.5 \" stroke=\"black\"/>\n",
       "<text font-family=\"Times,serif\" font-size=\"14.00\" text-anchor=\"middle\" x=\"231.5\" y=\"-612.3\">input:</text>\n",
       "<polyline fill=\"none\" points=\"204,-604.5 259,-604.5 \" stroke=\"black\"/>\n",
       "<text font-family=\"Times,serif\" font-size=\"14.00\" text-anchor=\"middle\" x=\"231.5\" y=\"-589.3\">output:</text>\n",
       "<polyline fill=\"none\" points=\"259,-581.5 259,-627.5 \" stroke=\"black\"/>\n",
       "<text font-family=\"Times,serif\" font-size=\"14.00\" text-anchor=\"middle\" x=\"317.5\" y=\"-612.3\">(None, 119, 1024)</text>\n",
       "<polyline fill=\"none\" points=\"259,-604.5 376,-604.5 \" stroke=\"black\"/>\n",
       "<text font-family=\"Times,serif\" font-size=\"14.00\" text-anchor=\"middle\" x=\"317.5\" y=\"-589.3\">(None, 119, 1024)</text>\n",
       "</g>\n",
       "<!-- 140555298805688&#45;&gt;140555298354512 -->\n",
       "<g class=\"edge\" id=\"edge7\"><title>140555298805688-&gt;140555298354512</title>\n",
       "<path d=\"M216,-664.366C216,-656.152 216,-646.658 216,-637.725\" fill=\"none\" stroke=\"black\"/>\n",
       "<polygon fill=\"black\" points=\"219.5,-637.607 216,-627.607 212.5,-637.607 219.5,-637.607\" stroke=\"black\"/>\n",
       "</g>\n",
       "<!-- 140555298437496 -->\n",
       "<g class=\"node\" id=\"node9\"><title>140555298437496</title>\n",
       "<polygon fill=\"none\" points=\"84,-498.5 84,-544.5 348,-544.5 348,-498.5 84,-498.5\" stroke=\"black\"/>\n",
       "<text font-family=\"Times,serif\" font-size=\"14.00\" text-anchor=\"middle\" x=\"130\" y=\"-517.8\">fcl_02: Dense</text>\n",
       "<polyline fill=\"none\" points=\"176,-498.5 176,-544.5 \" stroke=\"black\"/>\n",
       "<text font-family=\"Times,serif\" font-size=\"14.00\" text-anchor=\"middle\" x=\"203.5\" y=\"-529.3\">input:</text>\n",
       "<polyline fill=\"none\" points=\"176,-521.5 231,-521.5 \" stroke=\"black\"/>\n",
       "<text font-family=\"Times,serif\" font-size=\"14.00\" text-anchor=\"middle\" x=\"203.5\" y=\"-506.3\">output:</text>\n",
       "<polyline fill=\"none\" points=\"231,-498.5 231,-544.5 \" stroke=\"black\"/>\n",
       "<text font-family=\"Times,serif\" font-size=\"14.00\" text-anchor=\"middle\" x=\"289.5\" y=\"-529.3\">(None, 119, 1024)</text>\n",
       "<polyline fill=\"none\" points=\"231,-521.5 348,-521.5 \" stroke=\"black\"/>\n",
       "<text font-family=\"Times,serif\" font-size=\"14.00\" text-anchor=\"middle\" x=\"289.5\" y=\"-506.3\">(None, 119, 512)</text>\n",
       "</g>\n",
       "<!-- 140555298354512&#45;&gt;140555298437496 -->\n",
       "<g class=\"edge\" id=\"edge8\"><title>140555298354512-&gt;140555298437496</title>\n",
       "<path d=\"M216,-581.366C216,-573.152 216,-563.658 216,-554.725\" fill=\"none\" stroke=\"black\"/>\n",
       "<polygon fill=\"black\" points=\"219.5,-554.607 216,-544.607 212.5,-554.607 219.5,-554.607\" stroke=\"black\"/>\n",
       "</g>\n",
       "<!-- 140555297480656 -->\n",
       "<g class=\"node\" id=\"node10\"><title>140555297480656</title>\n",
       "<polygon fill=\"none\" points=\"3.5,-415.5 3.5,-461.5 428.5,-461.5 428.5,-415.5 3.5,-415.5\" stroke=\"black\"/>\n",
       "<text font-family=\"Times,serif\" font-size=\"14.00\" text-anchor=\"middle\" x=\"133.5\" y=\"-434.8\">batch_normalization_6: BatchNormalization</text>\n",
       "<polyline fill=\"none\" points=\"263.5,-415.5 263.5,-461.5 \" stroke=\"black\"/>\n",
       "<text font-family=\"Times,serif\" font-size=\"14.00\" text-anchor=\"middle\" x=\"291\" y=\"-446.3\">input:</text>\n",
       "<polyline fill=\"none\" points=\"263.5,-438.5 318.5,-438.5 \" stroke=\"black\"/>\n",
       "<text font-family=\"Times,serif\" font-size=\"14.00\" text-anchor=\"middle\" x=\"291\" y=\"-423.3\">output:</text>\n",
       "<polyline fill=\"none\" points=\"318.5,-415.5 318.5,-461.5 \" stroke=\"black\"/>\n",
       "<text font-family=\"Times,serif\" font-size=\"14.00\" text-anchor=\"middle\" x=\"373.5\" y=\"-446.3\">(None, 119, 512)</text>\n",
       "<polyline fill=\"none\" points=\"318.5,-438.5 428.5,-438.5 \" stroke=\"black\"/>\n",
       "<text font-family=\"Times,serif\" font-size=\"14.00\" text-anchor=\"middle\" x=\"373.5\" y=\"-423.3\">(None, 119, 512)</text>\n",
       "</g>\n",
       "<!-- 140555298437496&#45;&gt;140555297480656 -->\n",
       "<g class=\"edge\" id=\"edge9\"><title>140555298437496-&gt;140555297480656</title>\n",
       "<path d=\"M216,-498.366C216,-490.152 216,-480.658 216,-471.725\" fill=\"none\" stroke=\"black\"/>\n",
       "<polygon fill=\"black\" points=\"219.5,-471.607 216,-461.607 212.5,-471.607 219.5,-471.607\" stroke=\"black\"/>\n",
       "</g>\n",
       "<!-- 140555298080416 -->\n",
       "<g class=\"node\" id=\"node11\"><title>140555298080416</title>\n",
       "<polygon fill=\"none\" points=\"59.5,-332.5 59.5,-378.5 372.5,-378.5 372.5,-332.5 59.5,-332.5\" stroke=\"black\"/>\n",
       "<text font-family=\"Times,serif\" font-size=\"14.00\" text-anchor=\"middle\" x=\"133.5\" y=\"-351.8\">activation_2: Activation</text>\n",
       "<polyline fill=\"none\" points=\"207.5,-332.5 207.5,-378.5 \" stroke=\"black\"/>\n",
       "<text font-family=\"Times,serif\" font-size=\"14.00\" text-anchor=\"middle\" x=\"235\" y=\"-363.3\">input:</text>\n",
       "<polyline fill=\"none\" points=\"207.5,-355.5 262.5,-355.5 \" stroke=\"black\"/>\n",
       "<text font-family=\"Times,serif\" font-size=\"14.00\" text-anchor=\"middle\" x=\"235\" y=\"-340.3\">output:</text>\n",
       "<polyline fill=\"none\" points=\"262.5,-332.5 262.5,-378.5 \" stroke=\"black\"/>\n",
       "<text font-family=\"Times,serif\" font-size=\"14.00\" text-anchor=\"middle\" x=\"317.5\" y=\"-363.3\">(None, 119, 512)</text>\n",
       "<polyline fill=\"none\" points=\"262.5,-355.5 372.5,-355.5 \" stroke=\"black\"/>\n",
       "<text font-family=\"Times,serif\" font-size=\"14.00\" text-anchor=\"middle\" x=\"317.5\" y=\"-340.3\">(None, 119, 512)</text>\n",
       "</g>\n",
       "<!-- 140555297480656&#45;&gt;140555298080416 -->\n",
       "<g class=\"edge\" id=\"edge10\"><title>140555297480656-&gt;140555298080416</title>\n",
       "<path d=\"M216,-415.366C216,-407.152 216,-397.658 216,-388.725\" fill=\"none\" stroke=\"black\"/>\n",
       "<polygon fill=\"black\" points=\"219.5,-388.607 216,-378.607 212.5,-388.607 219.5,-388.607\" stroke=\"black\"/>\n",
       "</g>\n",
       "<!-- 140555298082376 -->\n",
       "<g class=\"node\" id=\"node12\"><title>140555298082376</title>\n",
       "<polygon fill=\"none\" points=\"87.5,-249.5 87.5,-295.5 344.5,-295.5 344.5,-249.5 87.5,-249.5\" stroke=\"black\"/>\n",
       "<text font-family=\"Times,serif\" font-size=\"14.00\" text-anchor=\"middle\" x=\"133.5\" y=\"-268.8\">fcl_03: Dense</text>\n",
       "<polyline fill=\"none\" points=\"179.5,-249.5 179.5,-295.5 \" stroke=\"black\"/>\n",
       "<text font-family=\"Times,serif\" font-size=\"14.00\" text-anchor=\"middle\" x=\"207\" y=\"-280.3\">input:</text>\n",
       "<polyline fill=\"none\" points=\"179.5,-272.5 234.5,-272.5 \" stroke=\"black\"/>\n",
       "<text font-family=\"Times,serif\" font-size=\"14.00\" text-anchor=\"middle\" x=\"207\" y=\"-257.3\">output:</text>\n",
       "<polyline fill=\"none\" points=\"234.5,-249.5 234.5,-295.5 \" stroke=\"black\"/>\n",
       "<text font-family=\"Times,serif\" font-size=\"14.00\" text-anchor=\"middle\" x=\"289.5\" y=\"-280.3\">(None, 119, 512)</text>\n",
       "<polyline fill=\"none\" points=\"234.5,-272.5 344.5,-272.5 \" stroke=\"black\"/>\n",
       "<text font-family=\"Times,serif\" font-size=\"14.00\" text-anchor=\"middle\" x=\"289.5\" y=\"-257.3\">(None, 119, 256)</text>\n",
       "</g>\n",
       "<!-- 140555298080416&#45;&gt;140555298082376 -->\n",
       "<g class=\"edge\" id=\"edge11\"><title>140555298080416-&gt;140555298082376</title>\n",
       "<path d=\"M216,-332.366C216,-324.152 216,-314.658 216,-305.725\" fill=\"none\" stroke=\"black\"/>\n",
       "<polygon fill=\"black\" points=\"219.5,-305.607 216,-295.607 212.5,-305.607 219.5,-305.607\" stroke=\"black\"/>\n",
       "</g>\n",
       "<!-- 140555296763016 -->\n",
       "<g class=\"node\" id=\"node13\"><title>140555296763016</title>\n",
       "<polygon fill=\"none\" points=\"3.5,-166.5 3.5,-212.5 428.5,-212.5 428.5,-166.5 3.5,-166.5\" stroke=\"black\"/>\n",
       "<text font-family=\"Times,serif\" font-size=\"14.00\" text-anchor=\"middle\" x=\"133.5\" y=\"-185.8\">batch_normalization_7: BatchNormalization</text>\n",
       "<polyline fill=\"none\" points=\"263.5,-166.5 263.5,-212.5 \" stroke=\"black\"/>\n",
       "<text font-family=\"Times,serif\" font-size=\"14.00\" text-anchor=\"middle\" x=\"291\" y=\"-197.3\">input:</text>\n",
       "<polyline fill=\"none\" points=\"263.5,-189.5 318.5,-189.5 \" stroke=\"black\"/>\n",
       "<text font-family=\"Times,serif\" font-size=\"14.00\" text-anchor=\"middle\" x=\"291\" y=\"-174.3\">output:</text>\n",
       "<polyline fill=\"none\" points=\"318.5,-166.5 318.5,-212.5 \" stroke=\"black\"/>\n",
       "<text font-family=\"Times,serif\" font-size=\"14.00\" text-anchor=\"middle\" x=\"373.5\" y=\"-197.3\">(None, 119, 256)</text>\n",
       "<polyline fill=\"none\" points=\"318.5,-189.5 428.5,-189.5 \" stroke=\"black\"/>\n",
       "<text font-family=\"Times,serif\" font-size=\"14.00\" text-anchor=\"middle\" x=\"373.5\" y=\"-174.3\">(None, 119, 256)</text>\n",
       "</g>\n",
       "<!-- 140555298082376&#45;&gt;140555296763016 -->\n",
       "<g class=\"edge\" id=\"edge12\"><title>140555298082376-&gt;140555296763016</title>\n",
       "<path d=\"M216,-249.366C216,-241.152 216,-231.658 216,-222.725\" fill=\"none\" stroke=\"black\"/>\n",
       "<polygon fill=\"black\" points=\"219.5,-222.607 216,-212.607 212.5,-222.607 219.5,-222.607\" stroke=\"black\"/>\n",
       "</g>\n",
       "<!-- 140555296582624 -->\n",
       "<g class=\"node\" id=\"node14\"><title>140555296582624</title>\n",
       "<polygon fill=\"none\" points=\"59.5,-83.5 59.5,-129.5 372.5,-129.5 372.5,-83.5 59.5,-83.5\" stroke=\"black\"/>\n",
       "<text font-family=\"Times,serif\" font-size=\"14.00\" text-anchor=\"middle\" x=\"133.5\" y=\"-102.8\">activation_3: Activation</text>\n",
       "<polyline fill=\"none\" points=\"207.5,-83.5 207.5,-129.5 \" stroke=\"black\"/>\n",
       "<text font-family=\"Times,serif\" font-size=\"14.00\" text-anchor=\"middle\" x=\"235\" y=\"-114.3\">input:</text>\n",
       "<polyline fill=\"none\" points=\"207.5,-106.5 262.5,-106.5 \" stroke=\"black\"/>\n",
       "<text font-family=\"Times,serif\" font-size=\"14.00\" text-anchor=\"middle\" x=\"235\" y=\"-91.3\">output:</text>\n",
       "<polyline fill=\"none\" points=\"262.5,-83.5 262.5,-129.5 \" stroke=\"black\"/>\n",
       "<text font-family=\"Times,serif\" font-size=\"14.00\" text-anchor=\"middle\" x=\"317.5\" y=\"-114.3\">(None, 119, 256)</text>\n",
       "<polyline fill=\"none\" points=\"262.5,-106.5 372.5,-106.5 \" stroke=\"black\"/>\n",
       "<text font-family=\"Times,serif\" font-size=\"14.00\" text-anchor=\"middle\" x=\"317.5\" y=\"-91.3\">(None, 119, 256)</text>\n",
       "</g>\n",
       "<!-- 140555296763016&#45;&gt;140555296582624 -->\n",
       "<g class=\"edge\" id=\"edge13\"><title>140555296763016-&gt;140555296582624</title>\n",
       "<path d=\"M216,-166.366C216,-158.152 216,-148.658 216,-139.725\" fill=\"none\" stroke=\"black\"/>\n",
       "<polygon fill=\"black\" points=\"219.5,-139.607 216,-129.607 212.5,-139.607 219.5,-139.607\" stroke=\"black\"/>\n",
       "</g>\n",
       "<!-- 140555296583632 -->\n",
       "<g class=\"node\" id=\"node15\"><title>140555296583632</title>\n",
       "<polygon fill=\"none\" points=\"87.5,-0.5 87.5,-46.5 344.5,-46.5 344.5,-0.5 87.5,-0.5\" stroke=\"black\"/>\n",
       "<text font-family=\"Times,serif\" font-size=\"14.00\" text-anchor=\"middle\" x=\"133.5\" y=\"-19.8\">output: Dense</text>\n",
       "<polyline fill=\"none\" points=\"179.5,-0.5 179.5,-46.5 \" stroke=\"black\"/>\n",
       "<text font-family=\"Times,serif\" font-size=\"14.00\" text-anchor=\"middle\" x=\"207\" y=\"-31.3\">input:</text>\n",
       "<polyline fill=\"none\" points=\"179.5,-23.5 234.5,-23.5 \" stroke=\"black\"/>\n",
       "<text font-family=\"Times,serif\" font-size=\"14.00\" text-anchor=\"middle\" x=\"207\" y=\"-8.3\">output:</text>\n",
       "<polyline fill=\"none\" points=\"234.5,-0.5 234.5,-46.5 \" stroke=\"black\"/>\n",
       "<text font-family=\"Times,serif\" font-size=\"14.00\" text-anchor=\"middle\" x=\"289.5\" y=\"-31.3\">(None, 119, 256)</text>\n",
       "<polyline fill=\"none\" points=\"234.5,-23.5 344.5,-23.5 \" stroke=\"black\"/>\n",
       "<text font-family=\"Times,serif\" font-size=\"14.00\" text-anchor=\"middle\" x=\"289.5\" y=\"-8.3\">(None, 119, 1)</text>\n",
       "</g>\n",
       "<!-- 140555296582624&#45;&gt;140555296583632 -->\n",
       "<g class=\"edge\" id=\"edge14\"><title>140555296582624-&gt;140555296583632</title>\n",
       "<path d=\"M216,-83.3664C216,-75.1516 216,-65.6579 216,-56.7252\" fill=\"none\" stroke=\"black\"/>\n",
       "<polygon fill=\"black\" points=\"219.5,-56.6068 216,-46.6068 212.5,-56.6069 219.5,-56.6068\" stroke=\"black\"/>\n",
       "</g>\n",
       "</g>\n",
       "</svg>"
      ],
      "text/plain": [
       "<IPython.core.display.SVG object>"
      ]
     },
     "execution_count": 18,
     "metadata": {},
     "output_type": "execute_result"
    }
   ],
   "source": [
    "LSTM1_OUTPUT_DIM = 100\n",
    "LSTM2_OUTPUT_DIM = 100\n",
    "LSTM3_OUTPUT_DIM = 100\n",
    "FC1_OUTPUT_DIM = 1024\n",
    "FC2_OUTPUT_DIM = 512\n",
    "FC3_OUTPUT_DIM = 256\n",
    "OUTPUT_DIM = 1\n",
    "\n",
    "\n",
    "def create_model(lstm1_out=LSTM1_OUTPUT_DIM, \n",
    "                 lstm2_out=LSTM2_OUTPUT_DIM, \n",
    "                 lstm3_out=LSTM3_OUTPUT_DIM, \n",
    "                 fc1_out=FC1_OUTPUT_DIM,\n",
    "                 fc2_out=FC2_OUTPUT_DIM, \n",
    "                 fc3_out=FC3_OUTPUT_DIM,\n",
    "                 out=OUTPUT_DIM):\n",
    "    model = Sequential()\n",
    "    model.add(LSTM(lstm1_out, batch_input_shape=(None, 119, 28), return_sequences=True))\n",
    "    model.add(BatchNormalization())\n",
    "    model.add(LSTM(lstm2_out, return_sequences=True))\n",
    "    model.add(BatchNormalization())\n",
    "#     model.add(LSTM(lstm3_out, return_sequences=True))\n",
    "    model.add(Dense(fc1_out, name='fcl_01'))\n",
    "    model.add(BatchNormalization())\n",
    "    model.add(Activation('tanh'))\n",
    "    model.add(Dense(fc2_out, name='fcl_02'))\n",
    "    model.add(BatchNormalization())\n",
    "    model.add(Activation('tanh'))\n",
    "    model.add(Dense(fc3_out, name='fcl_03'))\n",
    "    model.add(BatchNormalization())\n",
    "    model.add(Activation('sigmoid'))\n",
    "    model.add(Dense(OUTPUT_DIM, name='output'))\n",
    "    \n",
    "    model.compile(optimizer='adam', loss='mean_squared_error', metrics=['mean_squared_error'])\n",
    "    return model\n",
    "\n",
    "\n",
    "def create_model2(lstm_out):\n",
    "    return create_model(lstm1_out=lstm_out, \n",
    "                        lstm2_out=lstm_out,\n",
    "                        lstm3_out=lstm_out)\n",
    "\n",
    "model = create_model()\n",
    "SVG(model_to_dot(model, show_shapes=True).create(prog='dot', format='svg'))"
   ]
  },
  {
   "cell_type": "markdown",
   "metadata": {},
   "source": [
    "# Hyperparameter Optimization"
   ]
  },
  {
   "cell_type": "code",
   "execution_count": 16,
   "metadata": {
    "collapsed": false,
    "scrolled": false
   },
   "outputs": [
    {
     "name": "stdout",
     "output_type": "stream",
     "text": [
      "error:1.0080644451264812e-05, score:-0.7997876312525681\n",
      "error:3.26339772663164e-05, score:-0.27072583569723463\n",
      "error:5.5021154944915555e-05, score:-0.9042626680884613\n",
      "error:1.0163722019491025e-05, score:-0.12148123258518735\n",
      "error:1.0246799587717238e-05, score:-0.052824356117057825\n",
      "error:3.255089969809019e-05, score:-0.07966226897239832\n",
      "error:1.0080644451264812e-05, score:-0.7997876312525681\n",
      "error:3.26339772663164e-05, score:-0.27072583569723463\n",
      "error:5.5021154944915555e-05, score:-0.9042626680884613\n",
      "error:1.0163722019491025e-05, score:-0.12148123258518735\n",
      "error:1.0246799587717238e-05, score:-0.052824356117057825\n",
      "error:3.255089969809019e-05, score:-0.07966226897239832\n",
      "error:1.0080644451264812e-05, score:-0.7997876312525681\n",
      "error:3.26339772663164e-05, score:-0.27072583569723463\n",
      "error:5.5021154944915555e-05, score:-0.9042626680884613\n",
      "error:1.0163722019491025e-05, score:-0.12148123258518735\n",
      "error:1.0246799587717238e-05, score:-0.052824356117057825\n",
      "error:3.255089969809019e-05, score:-0.07966226897239832\n",
      "error:1.0080644451264812e-05, score:-0.7997876312525681\n",
      "error:3.26339772663164e-05, score:-0.27072583569723463\n",
      "error:5.5021154944915555e-05, score:-0.9042626680884613\n",
      "error:1.0163722019491025e-05, score:-0.12148123258518735\n",
      "error:1.0246799587717238e-05, score:-0.052824356117057825\n",
      "error:3.255089969809019e-05, score:-0.07966226897239832\n"
     ]
    }
   ],
   "source": [
    "# Custom Scorer\n",
    "def accuracy(y_true, y_pred):\n",
    "    y_true = y_true.reshape((-1, y_true.shape[1]))\n",
    "    y_pred = y_pred.reshape((-1, y_pred.shape[1]))\n",
    "    score = r2_score(y_true, y_pred, multioutput='variance_weighted')\n",
    "    error = ((y_true - y_pred)**2).mean()\n",
    "    print(f'error:{error}, score:{score}')\n",
    "    return score\n",
    "\n",
    "\n",
    "# Grid Search \n",
    "params = dict(lstm_out=[50, 100, 300, 500], \n",
    "              epochs=[60])\n",
    "\n",
    "classifier = KerasClassifier(create_model2, verbose=0)\n",
    "scorer = make_scorer(accuracy, greater_is_better=False) # 케라스 모델에서 MSE를 사용하기 때문에 greater_is_better는 False\n",
    "grid = GridSearchCV(classifier, param_grid=params, scoring=scorer)\n",
    "grid_result = grid.fit(train_x, train_padded_trend_y)"
   ]
  },
  {
   "cell_type": "code",
   "execution_count": 18,
   "metadata": {
    "collapsed": false
   },
   "outputs": [
    {
     "name": "stdout",
     "output_type": "stream",
     "text": [
      "Best: {'epochs': 60, 'lstm_out': 50}\n",
      "Mean Score:0.5856249,\tSTD Score:0.37915,\tParams: {'epochs': 60, 'lstm_out': 50}\n",
      "Mean Score:0.5856249,\tSTD Score:0.37915,\tParams: {'epochs': 60, 'lstm_out': 100}\n",
      "Mean Score:0.5856249,\tSTD Score:0.37915,\tParams: {'epochs': 60, 'lstm_out': 300}\n",
      "Mean Score:0.5856249,\tSTD Score:0.37915,\tParams: {'epochs': 60, 'lstm_out': 500}\n"
     ]
    }
   ],
   "source": [
    "_mean_scores = grid_result.cv_results_['mean_test_score']\n",
    "_stds = grid_result.cv_results_['std_test_score']\n",
    "_params = grid_result.cv_results_['params']\n",
    "\n",
    "print('Best:', grid_result.best_params_)\n",
    "for mean, std, param in zip(_mean_scores, _stds, _params):\n",
    "    print(f'Mean Score:{mean:.7},\\tSTD Score:{std:.5},\\tParams: {param}')"
   ]
  },
  {
   "cell_type": "markdown",
   "metadata": {
    "deletable": true,
    "editable": true
   },
   "source": [
    "# Training"
   ]
  },
  {
   "cell_type": "code",
   "execution_count": 19,
   "metadata": {
    "collapsed": false,
    "deletable": true,
    "editable": true
   },
   "outputs": [
    {
     "name": "stdout",
     "output_type": "stream",
     "text": [
      "Epoch 1/1\n",
      "343s - loss: 0.0061 - mean_squared_error: 0.0061\n"
     ]
    },
    {
     "data": {
      "text/plain": [
       "<keras.callbacks.History at 0x7fd6cc7a0ac8>"
      ]
     },
     "execution_count": 19,
     "metadata": {},
     "output_type": "execute_result"
    }
   ],
   "source": [
    "model = create_model()\n",
    "model.fit(train_x, train_padded_trend_y, epochs=1, verbose=2)"
   ]
  },
  {
   "cell_type": "code",
   "execution_count": 21,
   "metadata": {
    "collapsed": false
   },
   "outputs": [
    {
     "name": "stdout",
     "output_type": "stream",
     "text": [
      "(10, 119, 28)\n",
      "(32000, 119)\n"
     ]
    },
    {
     "data": {
      "image/png": "[encoded data removed]",
      "text/plain": [
       "<matplotlib.figure.Figure at 0x7fd5574c2978>"
      ]
     },
     "metadata": {},
     "output_type": "display_data"
    }
   ],
   "source": [
    "SIZE_X = 119\n",
    "\n",
    "\n",
    "def visualize_prediction(data_x, data_y):   \n",
    "    data_p = model.predict(data_x)\n",
    "    \n",
    "    \n",
    "    data_y = data_y.reshape((-1, SIZE_X))\n",
    "    data_p = data_p.reshape((-1, SIZE_X))\n",
    "    \n",
    "    print(data_x.shape)\n",
    "    print(data_y.shape)\n",
    "    \n",
    "#     print('Mean Squared Error:', accuracy(data_y, data_p))\n",
    "    \n",
    "    fig, sub_plots = subplots(2, 2)\n",
    "    for col_plots in sub_plots:\n",
    "        for sp in col_plots:\n",
    "            sp.get_xaxis().set_visible(False)\n",
    "            sp.get_yaxis().set_visible(False)\n",
    "            \n",
    "            idx = np.random.randint(data_x.shape[0])\n",
    "            \n",
    "            sp.plot(data_y[idx], color='#333333')\n",
    "            sp.plot(data_p[idx], color='red')\n",
    "        \n",
    "visualize_prediction(test_x[0:10], train_padded_trend_y)"
   ]
  }
 ],
 "metadata": {
  "kernelspec": {
   "display_name": "Python 3",
   "language": "python",
   "name": "python3"
  },
  "language_info": {
   "codemirror_mode": {
    "name": "ipython",
    "version": 3
   },
   "file_extension": ".py",
   "mimetype": "text/x-python",
   "name": "python",
   "nbconvert_exporter": "python",
   "pygments_lexer": "ipython3",
   "version": "3.6.0"
  }
 },
 "nbformat": 4,
 "nbformat_minor": 2
}
