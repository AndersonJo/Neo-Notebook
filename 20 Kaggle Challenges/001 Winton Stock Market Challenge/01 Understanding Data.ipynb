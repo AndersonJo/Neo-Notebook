{
 "cells": [
  {
   "cell_type": "markdown",
   "metadata": {},
   "source": [
    "# Understanding Winton Stock Market Data\n",
    "\n",
    "과거 몇일전의 데이터를 받아서 몇일후에 주가를 예측하는 Challenge입니다.<br>\n",
    "5일동안의 데이터를 받습니다. D-2, D-1, D, D+1, D+2 중에서 D-2, D-1, 그리고 D의 일부 시간 데이터를 받을뒤 남은 D, D+1, D+2의 주가를 예측하면 됩니다.<br>\n"
   ]
  },
  {
   "cell_type": "code",
   "execution_count": 2,
   "metadata": {
    "collapsed": true
   },
   "outputs": [],
   "source": [
    "import numpy as np\n",
    "import pandas as pd"
   ]
  }
 ],
 "metadata": {
  "kernelspec": {
   "display_name": "Python 3",
   "language": "python",
   "name": "python3"
  },
  "language_info": {
   "codemirror_mode": {
    "name": "ipython",
    "version": 3
   },
   "file_extension": ".py",
   "mimetype": "text/x-python",
   "name": "python",
   "nbconvert_exporter": "python",
   "pygments_lexer": "ipython3",
   "version": "3.6.0"
  }
 },
 "nbformat": 4,
 "nbformat_minor": 2
}
