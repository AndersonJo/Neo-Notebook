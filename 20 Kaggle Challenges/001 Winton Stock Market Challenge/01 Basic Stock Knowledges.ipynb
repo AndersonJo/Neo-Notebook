{
 "cells": [
  {
   "cell_type": "markdown",
   "metadata": {},
   "source": [
    "# 용어 정리\n",
    "\n",
    "\n",
    "### Total Stock Return \n",
    "\n",
    "$$ \\text{Total Stock Return} = \\frac{ (P_1 - P_0) + D}{P_0} $$\n",
    "\n",
    "* $ P_0 $ = 초기 주식 가격\n",
    "* $ P_1 $ = 끝나는 시점의 주식 가격 \n",
    "* $ D $ = Dividends (배당금)\n",
    "\n",
    "즉 percentage return을 가르킵니다. \n",
    "\n",
    "\n",
    "### Total Stock Return Cash Amount\n",
    "\n",
    "$$ \\text{Total Stock Return} = (P_1 - P_0) + D $$\n",
    "\n",
    "\n",
    "예를 들어서 초기 1000$에 특정 주식을 샀고, 배당금으로 20$를 받았습니다. 종료시점에는 1020$가 되었습니다.<br>\n",
    "다음과 같은 공식을 세울수 있습니다. \n",
    "\n",
    "$$ \\frac{(1020 - 1000) + 20}{1000} = 0.04\\% $$\n",
    "\n",
    "$$ (1020 - 1000) + 20 = 40$ $$\n",
    "\n",
    "$$ 1000 * 0.04 = 40$ $$"
   ]
  }
 ],
 "metadata": {
  "kernelspec": {
   "display_name": "Python 3",
   "language": "python",
   "name": "python3"
  },
  "language_info": {
   "codemirror_mode": {
    "name": "ipython",
    "version": 3
   },
   "file_extension": ".py",
   "mimetype": "text/x-python",
   "name": "python",
   "nbconvert_exporter": "python",
   "pygments_lexer": "ipython3",
   "version": "3.6.0"
  }
 },
 "nbformat": 4,
 "nbformat_minor": 2
}
