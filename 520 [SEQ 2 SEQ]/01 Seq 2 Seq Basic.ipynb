{
 "cells": [
  {
   "cell_type": "markdown",
   "metadata": {},
   "source": [
    "## Padding\n",
    "\n",
    "Padding은 variable length sequences 를 fixed length sequences로 변경해줍니다.\n",
    "\n",
    "1. **EOS**: End of sentence\n",
    "2. **PAD**: Filler\n",
    "3. **GO**: Start decoding\n",
    "4. **UNK**: Unknown; word not in vocabulary\n",
    "\n",
    "\n",
    "예를 들어서 다음과 같습니다.\n",
    "\n",
    "> Q: How are you? <br>\n",
    "> A: I am fine. \n",
    "\n",
    "위의 문장은 다음과 같이 fixed length 10으로 padding될수 있습니다.\n",
    "\n",
    "> Q : [ PAD, PAD, PAD, PAD, PAD, PAD, “?”, “you”, “are”, “How” ] <br>\n",
    "> A : [ GO, “I”, “am”, “fine”, “.”, EOS, PAD, PAD, PAD, PAD ]"
   ]
  },
  {
   "cell_type": "markdown",
   "metadata": {},
   "source": [
    "## Bucketing\n"
   ]
  }
 ],
 "metadata": {
  "kernelspec": {
   "display_name": "Python 3",
   "language": "python",
   "name": "python3"
  },
  "language_info": {
   "codemirror_mode": {
    "name": "ipython",
    "version": 3
   },
   "file_extension": ".py",
   "mimetype": "text/x-python",
   "name": "python",
   "nbconvert_exporter": "python",
   "pygments_lexer": "ipython3",
   "version": "3.6.0"
  }
 },
 "nbformat": 4,
 "nbformat_minor": 2
}
