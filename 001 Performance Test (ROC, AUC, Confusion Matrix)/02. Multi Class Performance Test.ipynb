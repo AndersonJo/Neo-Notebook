{
 "cells": [
  {
   "cell_type": "code",
   "execution_count": 1,
   "metadata": {},
   "outputs": [
    {
     "name": "stdout",
     "output_type": "stream",
     "text": [
      "Populating the interactive namespace from numpy and matplotlib\n"
     ]
    }
   ],
   "source": [
    "%pylab inline\n",
    "\n",
    "import numpy as np\n",
    "import pandas as pd"
   ]
  },
  {
   "cell_type": "markdown",
   "metadata": {},
   "source": [
    "# Classification Report\n",
    "\n",
    "- **class 0**: \n",
    "- **class 1**: precision = 1 \n",
    "   - TP가 있으며, FP는 없다 > 1이라고 예측해서 틀린게 없다. (1인데 틀린건 있음)\n",
    "- **class 2**: recall = 1\n",
    "   - TP가 있으며, "
   ]
  },
  {
   "cell_type": "code",
   "execution_count": 2,
   "metadata": {},
   "outputs": [
    {
     "name": "stdout",
     "output_type": "stream",
     "text": [
      "              precision    recall  f1-score   support\n",
      "\n",
      "           0       0.25      0.50      0.33         2\n",
      "           1       1.00      0.40      0.57         5\n",
      "           2       0.50      1.00      0.67         2\n",
      "           3       0.00      0.00      0.00         1\n",
      "\n",
      "    accuracy                           0.50        10\n",
      "   macro avg       0.44      0.47      0.39        10\n",
      "weighted avg       0.65      0.50      0.49        10\n",
      "\n"
     ]
    },
    {
     "name": "stderr",
     "output_type": "stream",
     "text": [
      "/usr/local/lib/python3.6/site-packages/sklearn/metrics/classification.py:1437: UndefinedMetricWarning: Precision and F-score are ill-defined and being set to 0.0 in labels with no predicted samples.\n",
      "  'precision', 'predicted', average, warn_for)\n"
     ]
    }
   ],
   "source": [
    "from sklearn.metrics import classification_report\n",
    "\n",
    "y_true = [0, 0, 1, 1, 1, 1, 1, 2, 2, 3]\n",
    "y_pred = [0, 2, 1, 1, 2, 0, 0, 2, 2, 0]\n",
    "\n",
    "print(classification_report(y_true, y_pred))\n"
   ]
  },
  {
   "cell_type": "markdown",
   "metadata": {},
   "source": [
    "# Confusion Matrix"
   ]
  },
  {
   "cell_type": "code",
   "execution_count": 3,
   "metadata": {},
   "outputs": [
    {
     "name": "stdout",
     "output_type": "stream",
     "text": [
      "[[1 0 1 0]\n",
      " [2 2 1 0]\n",
      " [0 0 2 0]\n",
      " [1 0 0 0]]\n"
     ]
    },
    {
     "data": {
      "text/plain": [
       "<matplotlib.axes._subplots.AxesSubplot at 0x7f90531fa400>"
      ]
     },
     "execution_count": 3,
     "metadata": {},
     "output_type": "execute_result"
    },
    {
     "data": {
      "image/png": "[encoded data removed]",
      "text/plain": [
       "<Figure size 432x288 with 2 Axes>"
      ]
     },
     "metadata": {
      "needs_background": "light"
     },
     "output_type": "display_data"
    }
   ],
   "source": [
    "from sklearn.metrics import confusion_matrix\n",
    "import seaborn as sns\n",
    "\n",
    "y_true = [0, 0, 1, 1, 1, 1, 1, 2, 2, 3]\n",
    "y_pred = [0, 2, 1, 1, 2, 0, 0, 2, 2, 0]\n",
    "\n",
    "cm = confusion_matrix(y_true, y_pred)\n",
    "\n",
    "print(cm)\n",
    "sns.heatmap(cm, cmap='YlGnBu')"
   ]
  },
  {
   "cell_type": "markdown",
   "metadata": {},
   "source": [
    "# Accuracy\n",
    "\n",
    "$$ \\text{Accuracy} = \\frac{TP + TN}{N} $$"
   ]
  },
  {
   "cell_type": "code",
   "execution_count": 4,
   "metadata": {},
   "outputs": [
    {
     "name": "stdout",
     "output_type": "stream",
     "text": [
      "n: 10\n",
      "Accuracy           : 0.5\n",
      "Normalized Accuracy: 5\n"
     ]
    }
   ],
   "source": [
    "from sklearn.metrics import accuracy_score\n",
    "\n",
    "y_true = [0, 0, 1, 1, 1, 1, 1, 2, 2, 3]\n",
    "y_pred = [0, 2, 1, 1, 2, 0, 0, 2, 2, 0]\n",
    "\n",
    "acc = accuracy_score(y_true, y_pred)\n",
    "acc_norm = accuracy_score(y_true, y_pred, normalize=False)\n",
    "\n",
    "print('n:', len(y_true))\n",
    "print(f'Accuracy           : {acc:.2}')\n",
    "print(f'Normalized Accuracy: {acc_norm}')"
   ]
  },
  {
   "cell_type": "markdown",
   "metadata": {},
   "source": [
    "# Recall (Sensitivity, True Positive Rate)\n",
    "\n",
    "$$ \\text{True Positive Rate} = \\frac{TP}{TP + FN} $$\n",
    "\n",
    " - 단점: 전부다 1로 예측하면, TP는 다 맞추고, FN은 0이 되면서, recall의 예측값은 1이 된다"
   ]
  },
  {
   "cell_type": "markdown",
   "metadata": {},
   "source": [
    "\n",
    "\n",
    "**average parameter**\n",
    "  - **None**  : 각각의 클래스마다의 recall값을 계산한다\n",
    "  - **binary**: (default) binary classification에서 사용 \n",
    "  - **micro** : 전체 클래스 데이터 관점에서의 total true positives, false negatives, false positives 를 계산\n",
    "  - **macro** : 각각의 label마다의 recall의 unweighted mean을 계산한다. 따라서 label imbalance를 고려하지 않는다"
   ]
  },
  {
   "cell_type": "code",
   "execution_count": 5,
   "metadata": {},
   "outputs": [
    {
     "name": "stdout",
     "output_type": "stream",
     "text": [
      "Recalls          : [0.5 0.4 1.  0. ]\n",
      "Recall (micro)   : 0.5\n",
      "Recall (macro)   : 0.47\n",
      "Recall (weighted): 0.5\n"
     ]
    }
   ],
   "source": [
    "from sklearn.metrics import recall_score\n",
    "\n",
    "y_true = [0, 0, 1, 1, 1, 1, 1, 2, 2, 3]\n",
    "y_pred = [0, 2, 1, 1, 2, 0, 0, 2, 2, 0]\n",
    "\n",
    "\n",
    "recalls = recall_score(y_true, y_pred, average=None)\n",
    "recall_micro = recall_score(y_true, y_pred, average='micro')\n",
    "recall_macro = recall_score(y_true, y_pred, average='macro')\n",
    "recall_weighted = recall_score(y_true, y_pred, average='weighted')\n",
    "\n",
    "print('Recalls          :', recalls)\n",
    "print(f'Recall (micro)   : {recall_micro:.2}')\n",
    "print(f'Recall (macro)   : {recall_macro:.2}')\n",
    "print(f'Recall (weighted): {recall_weighted:.2}')"
   ]
  },
  {
   "cell_type": "markdown",
   "metadata": {},
   "source": [
    "# Precision\n",
    "\n",
    "$$ \\text{Precision} = \\frac{TP}{TP + FP} = \\frac{TP}{\\text{Predicted Yes}} $$"
   ]
  },
  {
   "cell_type": "code",
   "execution_count": 6,
   "metadata": {},
   "outputs": [
    {
     "name": "stdout",
     "output_type": "stream",
     "text": [
      "Precisions       : [0.25 1.   0.5  0.  ]\n",
      "Precision (micro)   : 0.5\n",
      "Precision (macro)   : 0.44\n",
      "Precision (weighted): 0.65\n"
     ]
    },
    {
     "name": "stderr",
     "output_type": "stream",
     "text": [
      "/usr/local/lib/python3.6/site-packages/sklearn/metrics/classification.py:1437: UndefinedMetricWarning: Precision is ill-defined and being set to 0.0 in labels with no predicted samples.\n",
      "  'precision', 'predicted', average, warn_for)\n"
     ]
    }
   ],
   "source": [
    "from sklearn.metrics import precision_score\n",
    "\n",
    "y_true = [0, 0, 1, 1, 1, 1, 1, 2, 2, 3]\n",
    "y_pred = [0, 2, 1, 1, 2, 0, 0, 2, 2, 0]\n",
    "\n",
    "precisions = precision_score(y_true, y_pred, average=None)\n",
    "precision_micro = precision_score(y_true, y_pred, average='micro')\n",
    "precision_macro = precision_score(y_true, y_pred, average='macro')\n",
    "precision_weighted = precision_score(y_true, y_pred, average='weighted')\n",
    "\n",
    "print('Precisions       :', precisions)\n",
    "print(f'Precision (micro)   : {precision_micro:.2}')\n",
    "print(f'Precision (macro)   : {precision_macro:.2}')\n",
    "print(f'Precision (weighted): {precision_weighted:.2}')"
   ]
  },
  {
   "cell_type": "markdown",
   "metadata": {},
   "source": [
    "# F1 Score\n",
    "\n",
    "$$ \\text{F1 Score} = 2 \\cdot\n",
    "\\frac{\\text{precision} \\times \\text{recall}}{\\text{precision} + \\text{recall}} $$"
   ]
  },
  {
   "cell_type": "code",
   "execution_count": 9,
   "metadata": {},
   "outputs": [
    {
     "name": "stdout",
     "output_type": "stream",
     "text": [
      "F1       : [0.33333333 0.57142857 0.66666667 0.        ]\n",
      "F1 (micro)   : 0.5\n",
      "F1 (macro)   : 0.39\n",
      "F1 (weighted): 0.49\n"
     ]
    }
   ],
   "source": [
    "from sklearn.metrics import f1_score\n",
    "\n",
    "y_true = [0, 0, 1, 1, 1, 1, 1, 2, 2, 3]\n",
    "y_pred = [0, 2, 1, 1, 2, 0, 0, 2, 2, 0]\n",
    "\n",
    "f1_score(y_true, y_pred, average=None)\n",
    "\n",
    "f1 = f1_score(y_true, y_pred, average=None)\n",
    "f1_micro = f1_score(y_true, y_pred, average='micro')\n",
    "f1_macro = f1_score(y_true, y_pred, average='macro')\n",
    "f1_weighted = f1_score(y_true, y_pred, average='weighted')\n",
    "\n",
    "print('F1       :', f1)\n",
    "print(f'F1 (micro)   : {f1_micro:.2}')\n",
    "print(f'F1 (macro)   : {f1_macro:.2}')\n",
    "print(f'F1 (weighted): {f1_weighted:.2}')"
   ]
  }
 ],
 "metadata": {
  "kernelspec": {
   "display_name": "Python 3",
   "language": "python",
   "name": "python3"
  },
  "language_info": {
   "codemirror_mode": {
    "name": "ipython",
    "version": 3
   },
   "file_extension": ".py",
   "mimetype": "text/x-python",
   "name": "python",
   "nbconvert_exporter": "python",
   "pygments_lexer": "ipython3",
   "version": "3.6.7"
  },
  "toc": {
   "base_numbering": 1,
   "nav_menu": {},
   "number_sections": true,
   "sideBar": true,
   "skip_h1_title": false,
   "title_cell": "Table of Contents",
   "title_sidebar": "Contents",
   "toc_cell": false,
   "toc_position": {},
   "toc_section_display": true,
   "toc_window_display": false
  }
 },
 "nbformat": 4,
 "nbformat_minor": 2
}
