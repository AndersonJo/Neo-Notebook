{
 "cells": [
  {
   "cell_type": "code",
   "execution_count": 1,
   "metadata": {},
   "outputs": [
    {
     "name": "stdout",
     "output_type": "stream",
     "text": [
      "Populating the interactive namespace from numpy and matplotlib\n"
     ]
    }
   ],
   "source": [
    "%pylab inline\n",
    "\n",
    "import numpy as np\n",
    "import pandas as pd"
   ]
  },
  {
   "cell_type": "markdown",
   "metadata": {},
   "source": [
    "# Classification Report\n",
    "\n",
    "- **class 0**: \n",
    "- **class 1**: precision = 1 \n",
    "   - TP가 있으며, FP는 없다 > 1이라고 예측해서 틀린게 없다. (1인데 틀린건 있음)\n",
    "- **class 2**: recall = 1\n",
    "   - TP가 있으며, "
   ]
  },
  {
   "cell_type": "code",
   "execution_count": 2,
   "metadata": {},
   "outputs": [
    {
     "name": "stdout",
     "output_type": "stream",
     "text": [
      "              precision    recall  f1-score   support\n",
      "\n",
      "           0       0.25      0.50      0.33         2\n",
      "           1       1.00      0.40      0.57         5\n",
      "           2       0.50      1.00      0.67         2\n",
      "           3       0.00      0.00      0.00         1\n",
      "\n",
      "    accuracy                           0.50        10\n",
      "   macro avg       0.44      0.47      0.39        10\n",
      "weighted avg       0.65      0.50      0.49        10\n",
      "\n"
     ]
    },
    {
     "name": "stderr",
     "output_type": "stream",
     "text": [
      "C:\\Users\\anderson\\anaconda3\\envs\\zeta\\lib\\site-packages\\sklearn\\metrics\\_classification.py:1245: UndefinedMetricWarning: Precision and F-score are ill-defined and being set to 0.0 in labels with no predicted samples. Use `zero_division` parameter to control this behavior.\n",
      "  _warn_prf(average, modifier, msg_start, len(result))\n",
      "C:\\Users\\anderson\\anaconda3\\envs\\zeta\\lib\\site-packages\\sklearn\\metrics\\_classification.py:1245: UndefinedMetricWarning: Precision and F-score are ill-defined and being set to 0.0 in labels with no predicted samples. Use `zero_division` parameter to control this behavior.\n",
      "  _warn_prf(average, modifier, msg_start, len(result))\n",
      "C:\\Users\\anderson\\anaconda3\\envs\\zeta\\lib\\site-packages\\sklearn\\metrics\\_classification.py:1245: UndefinedMetricWarning: Precision and F-score are ill-defined and being set to 0.0 in labels with no predicted samples. Use `zero_division` parameter to control this behavior.\n",
      "  _warn_prf(average, modifier, msg_start, len(result))\n"
     ]
    }
   ],
   "source": [
    "from sklearn.metrics import classification_report\n",
    "\n",
    "y_true = [0, 0, 1, 1, 1, 1, 1, 2, 2, 3]\n",
    "y_pred = [0, 2, 1, 1, 2, 0, 0, 2, 2, 0]\n",
    "\n",
    "print(classification_report(y_true, y_pred))\n"
   ]
  },
  {
   "cell_type": "markdown",
   "metadata": {},
   "source": [
    "# Confusion Matrix\n",
    "\n",
    " - Row: True Label \n",
    " - Column: Predicted Label"
   ]
  },
  {
   "cell_type": "code",
   "execution_count": 160,
   "metadata": {},
   "outputs": [
    {
     "name": "stdout",
     "output_type": "stream",
     "text": [
      "[[1 0 1 0]\n",
      " [2 2 1 0]\n",
      " [0 0 2 0]\n",
      " [1 0 0 0]]\n"
     ]
    },
    {
     "data": {
      "text/plain": [
       "Text(0.5, 15.0, 'Predict')"
      ]
     },
     "execution_count": 160,
     "metadata": {},
     "output_type": "execute_result"
    },
    {
     "data": {
      "image/png": "[encoded data removed]",
      "text/plain": [
       "<Figure size 432x288 with 2 Axes>"
      ]
     },
     "metadata": {
      "needs_background": "light"
     },
     "output_type": "display_data"
    }
   ],
   "source": [
    "from sklearn.metrics import confusion_matrix\n",
    "import seaborn as sns\n",
    "\n",
    "y_true = [0, 0, 1, 1, 1, 1, 1, 2, 2, 3]\n",
    "y_pred = [0, 2, 1, 1, 2, 0, 0, 2, 2, 0]\n",
    "\n",
    "cm = confusion_matrix(y_true, y_pred)\n",
    "\n",
    "print(cm)\n",
    "ax = sns.heatmap(cm, cmap='YlGnBu')\n",
    "ax.set_ylabel('True')\n",
    "ax.set_xlabel('Predict')"
   ]
  },
  {
   "cell_type": "markdown",
   "metadata": {},
   "source": [
    "# Accuracy\n",
    "\n",
    "$$ \\text{Accuracy} = \\frac{TP + TN}{N} $$"
   ]
  },
  {
   "cell_type": "markdown",
   "metadata": {},
   "source": [
    "## Accuracy "
   ]
  },
  {
   "cell_type": "code",
   "execution_count": 72,
   "metadata": {},
   "outputs": [
    {
     "name": "stdout",
     "output_type": "stream",
     "text": [
      "n: 10\n",
      "Accuracy           : 0.5\n",
      "Normalized Accuracy: 5\n"
     ]
    }
   ],
   "source": [
    "from sklearn.metrics import accuracy_score\n",
    "\n",
    "y_true = [0, 0, 1, 1, 1, 1, 1, 2, 2, 3]\n",
    "y_pred = [0, 2, 1, 1, 2, 0, 0, 2, 2, 0]\n",
    "\n",
    "acc = accuracy_score(y_true, y_pred)\n",
    "acc_norm = accuracy_score(y_true, y_pred, normalize=False)\n",
    "\n",
    "print('n:', len(y_true))\n",
    "print(f'Accuracy           : {acc:.2}')\n",
    "print(f'Normalized Accuracy: {acc_norm}')"
   ]
  },
  {
   "cell_type": "markdown",
   "metadata": {},
   "source": [
    "## Accuracy from Confusion Matrix"
   ]
  },
  {
   "cell_type": "code",
   "execution_count": 184,
   "metadata": {},
   "outputs": [
    {
     "name": "stdout",
     "output_type": "stream",
     "text": [
      "[[2 2 1 0]\n",
      " [1 1 2 1]\n",
      " [4 1 0 0]\n",
      " [0 1 0 1]]\n",
      "Accuracy: 0.23529411764705882\n"
     ]
    }
   ],
   "source": [
    "def cal_accuracy(cm):\n",
    "    \"\"\"\n",
    "    대각선으로 (TP + TN) 모두 합하고, 전체 N 값으로 나눈다\n",
    "    \"\"\"\n",
    "    return np.diagonal(cm).sum() / cm.sum()\n",
    "\n",
    "y_true = [0, 0, 0, 0, 0, 1, 1, 1, 1, 1, 2, 2, 2, 2, 2, 3, 3]\n",
    "y_pred = [1, 0, 0, 1, 2, 1, 2, 2, 3, 0, 0, 0, 0, 1, 0, 3, 1]\n",
    "cm = confusion_matrix(y_true, y_pred)\n",
    "print(cm)\n",
    "\n",
    "assert accuracy_score(y_true, y_pred) == cal_accuracy(cm)\n",
    "print('Accuracy:', cal_accuracy(cm))"
   ]
  },
  {
   "cell_type": "markdown",
   "metadata": {},
   "source": [
    "# Recall (Sensitivity, True Positive Rate)\n",
    "\n",
    "$$ \\text{True Positive Rate} = \\frac{TP}{TP + FN} $$\n",
    "\n",
    " - 단점: 전부다 1로 예측하면, TP는 다 맞추고, FN은 0이 되면서, recall의 예측값은 1이 된다"
   ]
  },
  {
   "cell_type": "markdown",
   "metadata": {},
   "source": [
    "\n",
    "\n",
    "**average parameter**\n",
    "  - **None**  : 각각의 클래스마다의 recall값을 계산한다\n",
    "  - **binary**: (default) binary classification에서 사용 \n",
    "  - **micro** : 전체 클래스 데이터 관점에서의 total true positives, false negatives, false positives 를 계산\n",
    "  - **macro** : 각각의 label마다의 recall의 unweighted mean을 계산한다. 따라서 label imbalance를 고려하지 않는다"
   ]
  },
  {
   "cell_type": "markdown",
   "metadata": {},
   "source": [
    "## Recall "
   ]
  },
  {
   "cell_type": "code",
   "execution_count": 178,
   "metadata": {},
   "outputs": [
    {
     "name": "stdout",
     "output_type": "stream",
     "text": [
      "Recalls          : [0.5 0.4 1.  0. ]\n",
      "Recall (micro)   : 0.5\n",
      "Recall (macro)   : 0.47\n",
      "Recall (weighted): 0.5\n"
     ]
    }
   ],
   "source": [
    "from sklearn.metrics import recall_score\n",
    "\n",
    "y_true = [0, 0, 1, 1, 1, 1, 1, 2, 2, 3]\n",
    "y_pred = [0, 2, 1, 1, 2, 0, 0, 2, 2, 0]\n",
    "\n",
    "\n",
    "recalls = recall_score(y_true, y_pred, average=None)\n",
    "recall_micro = recall_score(y_true, y_pred, average='micro')\n",
    "recall_macro = recall_score(y_true, y_pred, average='macro')\n",
    "recall_weighted = recall_score(y_true, y_pred, average='weighted')\n",
    "\n",
    "print('Recalls          :', recalls)\n",
    "print(f'Recall (micro)   : {recall_micro:.2}')\n",
    "print(f'Recall (macro)   : {recall_macro:.2}')\n",
    "print(f'Recall (weighted): {recall_weighted:.2}')"
   ]
  },
  {
   "cell_type": "markdown",
   "metadata": {},
   "source": [
    "## Recall from Confusion Matrix"
   ]
  },
  {
   "cell_type": "code",
   "execution_count": 209,
   "metadata": {},
   "outputs": [
    {
     "name": "stdout",
     "output_type": "stream",
     "text": [
      "[[1 0 1 0]\n",
      " [2 2 1 0]\n",
      " [0 0 2 0]\n",
      " [1 0 0 0]]\n",
      "recalls        : [0.5 0.4 1.  0. ]\n",
      "recalls (macro): 0.475\n",
      "recalls (micro): 0.5\n"
     ]
    }
   ],
   "source": [
    "def cal_recall(cm, average=None):\n",
    "    data = [np.nan_to_num(cm[i, i] / cm[i, :].sum()) for i in range(cm.shape[0])]\n",
    "    data = np.array(data)\n",
    "    \n",
    "    if average is None:\n",
    "        return data\n",
    "    elif average == 'macro':\n",
    "        return data.mean()\n",
    "    elif average == 'micro':\n",
    "        weight = cm.sum(axis=1)\n",
    "        return (data * weight).sum() / weight.sum()\n",
    "    return data\n",
    "\n",
    "# y_true = [0, 0, 0, 0, 0, 1, 1, 1, 1, 1, 2, 2, 2, 2, 2, 3, 3]\n",
    "# y_pred = [1, 0, 0, 1, 2, 1, 2, 2, 3, 0, 0, 0, 0, 1, 0, 3, 1]\n",
    "\n",
    "cm = confusion_matrix(y_true, y_pred)\n",
    "print(cm)\n",
    "answer = recall_score(y_true, y_pred, average=None)\n",
    "assert (answer == cal_recall(cm, average=None)).all()\n",
    "\n",
    "answer = recall_score(y_true, y_pred, average='macro')\n",
    "assert answer == cal_recall(cm, average='macro')\n",
    "\n",
    "answer = recall_score(y_true, y_pred, average='micro')\n",
    "assert answer == cal_recall(cm, average='micro')\n",
    "\n",
    "\n",
    "print('recalls        :', cal_recall(cm, average=None))\n",
    "print('recalls (macro):', cal_recall(cm, average='macro'))\n",
    "print('recalls (micro):', cal_recall(cm, average='micro'))"
   ]
  },
  {
   "cell_type": "markdown",
   "metadata": {},
   "source": [
    "# Precision\n",
    "\n",
    "$$ \\text{Precision} = \\frac{TP}{TP + FP} = \\frac{TP}{\\text{Predicted Yes}} $$"
   ]
  },
  {
   "cell_type": "code",
   "execution_count": 195,
   "metadata": {},
   "outputs": [
    {
     "name": "stdout",
     "output_type": "stream",
     "text": [
      "Precisions       : [0.25 1.   0.5  0.  ]\n",
      "Precision (micro)   : 0.5\n",
      "Precision (macro)   : 0.44\n",
      "Precision (weighted): 0.65\n"
     ]
    }
   ],
   "source": [
    "from sklearn.metrics import precision_score\n",
    "\n",
    "y_true = [0, 0, 1, 1, 1, 1, 1, 2, 2, 3]\n",
    "y_pred = [0, 2, 1, 1, 2, 0, 0, 2, 2, 0]\n",
    "\n",
    "precisions = precision_score(y_true, y_pred, average=None, zero_division=False)\n",
    "precision_micro = precision_score(y_true, y_pred, average='micro', zero_division=False)\n",
    "precision_macro = precision_score(y_true, y_pred, average='macro', zero_division=False)\n",
    "precision_weighted = precision_score(y_true, y_pred, average='weighted', zero_division=False)\n",
    "\n",
    "print('Precisions       :', precisions)\n",
    "print(f'Precision (micro)   : {precision_micro:.2}')\n",
    "print(f'Precision (macro)   : {precision_macro:.2}')\n",
    "print(f'Precision (weighted): {precision_weighted:.2}')"
   ]
  },
  {
   "cell_type": "markdown",
   "metadata": {},
   "source": [
    "## Precision from Confusion Matrix"
   ]
  },
  {
   "cell_type": "code",
   "execution_count": 235,
   "metadata": {},
   "outputs": [
    {
     "name": "stdout",
     "output_type": "stream",
     "text": [
      "Precisions        : [0.25 1.   0.5  0.  ]\n",
      "Precision (macro) : 0.44\n",
      "Precision (micro) : 0.5\n"
     ]
    },
    {
     "name": "stderr",
     "output_type": "stream",
     "text": [
      "<ipython-input-235-10a483400abf>:2: RuntimeWarning: invalid value encountered in longlong_scalars\n",
      "  data = [np.nan_to_num(cm[i, i] / cm[:, i].sum()) for i in range(cm.shape[0])]\n",
      "<ipython-input-235-10a483400abf>:2: RuntimeWarning: invalid value encountered in longlong_scalars\n",
      "  data = [np.nan_to_num(cm[i, i] / cm[:, i].sum()) for i in range(cm.shape[0])]\n",
      "<ipython-input-235-10a483400abf>:2: RuntimeWarning: invalid value encountered in longlong_scalars\n",
      "  data = [np.nan_to_num(cm[i, i] / cm[:, i].sum()) for i in range(cm.shape[0])]\n"
     ]
    }
   ],
   "source": [
    "def cal_precision(cm, average=None):\n",
    "    data = [np.nan_to_num(cm[i, i] / cm[:, i].sum()) for i in range(cm.shape[0])]\n",
    "    data = np.array(data)\n",
    "\n",
    "    if average is None:\n",
    "        return data\n",
    "    elif average == 'macro':\n",
    "        return data.mean()\n",
    "    elif average == 'micro':\n",
    "        weight = cm.sum(axis=0)\n",
    "        return (data * weight).sum() / weight.sum()\n",
    "    return data\n",
    "\n",
    "cm = confusion_matrix(y_true, y_pred)\n",
    "\n",
    "answer = precision_score(y_true, y_pred, average=None, zero_division=False)\n",
    "assert (answer == cal_precision(cm)).all()\n",
    "\n",
    "answer = precision_score(y_true, y_pred, average='macro', zero_division=False)\n",
    "assert answer == cal_precision(cm, average='macro')\n",
    "\n",
    "answer = precision_score(y_true, y_pred, average='micro', zero_division=False)\n",
    "assert answer == cal_precision(cm, average='micro')\n",
    "\n",
    "\n",
    "print(f'Precisions        : {cal_precision(cm)}')\n",
    "print(f'Precision (macro) : {cal_precision(cm, average=\"macro\"):.2}')\n",
    "print(f'Precision (micro) : {cal_precision(cm, average=\"micro\"):.2}')"
   ]
  },
  {
   "cell_type": "markdown",
   "metadata": {},
   "source": [
    "# F1 Score\n",
    "\n",
    "$$ \\text{F1 Score} = 2 \\cdot\n",
    "\\frac{\\text{precision} \\times \\text{recall}}{\\text{precision} + \\text{recall}} $$"
   ]
  },
  {
   "cell_type": "code",
   "execution_count": 9,
   "metadata": {},
   "outputs": [
    {
     "name": "stdout",
     "output_type": "stream",
     "text": [
      "F1       : [0.33333333 0.57142857 0.66666667 0.        ]\n",
      "F1 (micro)   : 0.5\n",
      "F1 (macro)   : 0.39\n",
      "F1 (weighted): 0.49\n"
     ]
    }
   ],
   "source": [
    "from sklearn.metrics import f1_score\n",
    "\n",
    "y_true = [0, 0, 1, 1, 1, 1, 1, 2, 2, 3]\n",
    "y_pred = [0, 2, 1, 1, 2, 0, 0, 2, 2, 0]\n",
    "\n",
    "f1_score(y_true, y_pred, average=None)\n",
    "\n",
    "f1 = f1_score(y_true, y_pred, average=None)\n",
    "f1_micro = f1_score(y_true, y_pred, average='micro')\n",
    "f1_macro = f1_score(y_true, y_pred, average='macro')\n",
    "f1_weighted = f1_score(y_true, y_pred, average='weighted')\n",
    "\n",
    "print('F1       :', f1)\n",
    "print(f'F1 (micro)   : {f1_micro:.2}')\n",
    "print(f'F1 (macro)   : {f1_macro:.2}')\n",
    "print(f'F1 (weighted): {f1_weighted:.2}')"
   ]
  }
 ],
 "metadata": {
  "kernelspec": {
   "display_name": "Python 3 (ipykernel)",
   "language": "python",
   "name": "python3"
  },
  "language_info": {
   "codemirror_mode": {
    "name": "ipython",
    "version": 3
   },
   "file_extension": ".py",
   "mimetype": "text/x-python",
   "name": "python",
   "nbconvert_exporter": "python",
   "pygments_lexer": "ipython3",
   "version": "3.8.5"
  },
  "toc": {
   "base_numbering": 1,
   "nav_menu": {},
   "number_sections": true,
   "sideBar": true,
   "skip_h1_title": false,
   "title_cell": "Table of Contents",
   "title_sidebar": "Contents",
   "toc_cell": false,
   "toc_position": {},
   "toc_section_display": true,
   "toc_window_display": false
  },
  "varInspector": {
   "cols": {
    "lenName": 16,
    "lenType": 16,
    "lenVar": 40
   },
   "kernels_config": {
    "python": {
     "delete_cmd_postfix": "",
     "delete_cmd_prefix": "del ",
     "library": "var_list.py",
     "varRefreshCmd": "print(var_dic_list())"
    },
    "r": {
     "delete_cmd_postfix": ") ",
     "delete_cmd_prefix": "rm(",
     "library": "var_list.r",
     "varRefreshCmd": "cat(var_dic_list()) "
    }
   },
   "types_to_exclude": [
    "module",
    "function",
    "builtin_function_or_method",
    "instance",
    "_Feature"
   ],
   "window_display": false
  }
 },
 "nbformat": 4,
 "nbformat_minor": 2
}
