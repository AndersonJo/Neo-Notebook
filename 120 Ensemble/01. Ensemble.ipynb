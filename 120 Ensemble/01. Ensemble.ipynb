{
 "cells": [
  {
   "cell_type": "markdown",
   "id": "5416adf5",
   "metadata": {},
   "source": [
    "# Bias-Variance Tradeoff \n",
    "\n",
    "![](img/underfit_right_overfit.png)\n",
    "\n",
    "## Error \n",
    "\n",
    "$$ Error = noise(x) + bias(x) + variance(x) $$ \n",
    "\n",
    " - error: irreducible error 로서 제거 할수 없는 존재.. \n",
    " - bias 그리고 variance: 서로 tradeoff 관계에 있으며 적절하게 조정해서 minimize 하는게 목적\n",
    "\n",
    "\n",
    "## Bias \n",
    "\n",
    "Bias는 예측된 값과 기대값(GT) 차이라고 볼 수 있습니다. \n",
    "\n",
    "\n",
    "$$ \\text{Bias} = E[y - \\hat{y}] $$\n",
    "\n",
    " - Bias는 예측관 값과 Ground Truth 값과의 차이의 평균입니다.\n",
    " - Low Bias: 약한 가정 / 오차가 적다 (Decision Tree, KNN, SVM)\n",
    " - High Bias: 강한 가정 / 오차가 크다 (Linear Regression, Linear Discriminant Analysis, Logistic Regression)\n",
    "\n",
    "\n",
    "## Variance \n",
    "\n",
    "$$ \\text{Variance} = E \\left[ \\hat{y} - E[\\hat{y}] \\right]^2  $$\n",
    "\n",
    " - 예측값과 예측값들의 평균의 차를 제곱해준 것입니다. \n",
    " - 즉 예측값들끼리 얼마나 퍼져 있는지, 좁게 몰려 있는지를 나타낸 것입니다.\n",
    " - Low Variance: \n",
    " - High Variance: 모든 데이터들을 지나치게 학습\n",
    "\n",
    "\n",
    "\n",
    "## Underfitting and Overfitting\n",
    "\n",
    " - Underfitting : High Bias and Low Variance\n",
    "     - 모델은 예측시 강한 가정(assumption)을 갖고 있음. \n",
    "     - 데이터 부족으로 정확한 모델을 만들 수 없을 때 발생\n",
    "     - Linear Model 을 Non-Linear Data 에 적용할때 발생\n",
    " - Overfitting : Low Bias and High Variance \n",
    "     - 노이즈 데이터까지 피팅 시켜서 발생함\n",
    "     - 복잡한 모델을 단순한 데이터에 적용시 발생\n",
    "     \n"
   ]
  }
 ],
 "metadata": {
  "kernelspec": {
   "display_name": "Python 3",
   "language": "python",
   "name": "python3"
  },
  "language_info": {
   "codemirror_mode": {
    "name": "ipython",
    "version": 3
   },
   "file_extension": ".py",
   "mimetype": "text/x-python",
   "name": "python",
   "nbconvert_exporter": "python",
   "pygments_lexer": "ipython3",
   "version": "3.8.8"
  },
  "toc": {
   "base_numbering": 1,
   "nav_menu": {},
   "number_sections": true,
   "sideBar": true,
   "skip_h1_title": false,
   "title_cell": "Table of Contents",
   "title_sidebar": "Contents",
   "toc_cell": false,
   "toc_position": {},
   "toc_section_display": true,
   "toc_window_display": false
  }
 },
 "nbformat": 4,
 "nbformat_minor": 5
}
