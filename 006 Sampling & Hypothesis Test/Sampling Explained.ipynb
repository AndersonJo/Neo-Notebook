{
 "cells": [
  {
   "cell_type": "code",
   "execution_count": 1,
   "metadata": {},
   "outputs": [
    {
     "name": "stdout",
     "output_type": "stream",
     "text": [
      "Populating the interactive namespace from numpy and matplotlib\n"
     ]
    }
   ],
   "source": [
    "%pylab inline\n",
    "\n",
    "import numpy as np\n",
    "import seaborn as sns\n",
    "\n",
    "from scipy.stats import norm"
   ]
  },
  {
   "cell_type": "markdown",
   "metadata": {},
   "source": [
    "# Standard Error (the standard deviation of the sample means)\n",
    "\n",
    "**표준오차** (Standard Error)는 표본평균을 찾아서 모평균을 추정할때 얼마나 정확하게 모평균을 추정하는지 판단할때 사용합니다 (**평균의 정확도**)\n",
    "\n",
    "Central limit theorem ( $ n >= 30 $ 일때 유효함)에 따르면 sample size n이 커짐에 따라, 표본평균의 분포 (the distribution of the sample means)는 모집단의 분포 (the distribution of the population)과는 상관없이 정규분포를 따릅니다. \n",
    "\n",
    "sample size가 커짐에 따라서, 표본 평균은 분포의 중심(the center of the distribution)에 점차 수렴되기 때문에 std는 줄어듭니다<br>\n",
    "아래의 공식은 표본 평균들의 표준편차 (표준오차)의 공식입니다.\n",
    "\n",
    "$$ \\sigma_{\\bar{x}} = \\frac{\\sigma}{\\sqrt{n}} $$\n",
    "\n",
    "* $ \\sigma_{\\bar{x}} $ The standard deviation of the sample means (표본 평균들의 표준편차) - 공식적인 용어로는 [standard error (**표준오차**)](https://en.wikipedia.org/wiki/Standard_error) 라고 함 \n",
    "* $ \\sigma $ : the standard deviation of the population (모집단의 표준편차)\n",
    "* $ n $ : sample size"
   ]
  },
  {
   "cell_type": "code",
   "execution_count": 2,
   "metadata": {},
   "outputs": [
    {
     "name": "stdout",
     "output_type": "stream",
     "text": [
      "population mean: 2.5287814469628986\n",
      "sample mean(1) : 2.8536303757444257\n",
      "sample mean(2) : 2.586890902781109 <- 표본크기가 커짐에 따라 표본평균은 모집단의 평균을 approximate한다\n",
      "\n",
      "population std: 2.5202436924261153\n",
      "sample std(1) : 2.911251467028967\n",
      "sample std(2) : 0.2619172346862947 <- 표본크기가 커짐에 따라 표본표준편차는 줄어든다\n",
      "\n",
      "standard error(1): 0.4601314402506317\n",
      "standard error(1): 0.04601314402506317\n"
     ]
    },
    {
     "data": {
      "text/plain": [
       "<matplotlib.legend.Legend at 0x7fe85e183518>"
      ]
     },
     "execution_count": 2,
     "metadata": {},
     "output_type": "execute_result"
    },
    {
     "data": {
      "image/png": "[encoded data removed]",
      "text/plain": [
       "<Figure size 432x288 with 1 Axes>"
      ]
     },
     "metadata": {
      "needs_background": "light"
     },
     "output_type": "display_data"
    }
   ],
   "source": [
    "population = np.random.exponential(2.5, size=10000)\n",
    "sample_means1 = [np.random.choice(population, 1).mean() for _ in range(30)]\n",
    "sample_means2 = [np.random.choice(population, 100).mean() for _ in range(30)]\n",
    "\n",
    "print('population mean:', population.mean())\n",
    "print('sample mean(1) :', np.mean(sample_means1))\n",
    "print('sample mean(2) :', np.mean(sample_means2), '<- 표본크기가 커짐에 따라 표본평균은 모집단의 평균을 approximate한다')\n",
    "print()\n",
    "print('population std:', population.std())\n",
    "print('sample std(1) :', np.std(sample_means1))\n",
    "print('sample std(2) :', np.std(sample_means2), '<- 표본크기가 커짐에 따라 표본표준편차는 줄어든다')\n",
    "print()\n",
    "print('standard error(1):', population.std()/np.sqrt(30))\n",
    "print('standard error(1):', population.std()/np.sqrt(100*30))\n",
    "\n",
    "sns.distplot(population, label='population')\n",
    "px = sns.distplot(sample_means1, label='sample means1')\n",
    "px = sns.distplot(sample_means2, label='sample means2')\n",
    "\n",
    "legend()"
   ]
  },
  {
   "cell_type": "markdown",
   "metadata": {},
   "source": [
    "## Problem 1\n",
    "\n",
    "샘플링을 통해서 아래와 같은 데이터를 얻었고.. 표본평균의 정확도를 알아보기 위해서 표준오차를 계산하여라\n",
    "\n",
    "[14, 36, 45, 70, 105]\n"
   ]
  },
  {
   "cell_type": "code",
   "execution_count": 3,
   "metadata": {},
   "outputs": [
    {
     "name": "stdout",
     "output_type": "stream",
     "text": [
      "standard error: 13.945608627808252\n"
     ]
    }
   ],
   "source": [
    "data = [14, 36, 45, 70, 105]\n",
    "print('standard error:', np.std(data)/np.sqrt(len(data)))"
   ]
  },
  {
   "cell_type": "markdown",
   "metadata": {},
   "source": [
    "## Problem 2\n",
    "Q. 30대 남성의 혈압은 정규분포를 따르며, 평균 122 mmHg 그리고 표준편차는 10mmHg.<br>\n",
    "이때 16명의 남성이 선택되었고 표본평균이 125mmHg 이상일 확률은?"
   ]
  },
  {
   "cell_type": "code",
   "execution_count": 4,
   "metadata": {},
   "outputs": [
    {
     "name": "stdout",
     "output_type": "stream",
     "text": [
      "standard error: 2.5\n",
      "125mmHg 이상일 확률: 0.11506967022170822\n"
     ]
    }
   ],
   "source": [
    "se = 10/np.sqrt(16)\n",
    "print('standard error:', se)\n",
    "print('125mmHg 이상일 확률:', 1 - norm(loc=122, scale=se).cdf(125))"
   ]
  },
  {
   "cell_type": "markdown",
   "metadata": {},
   "source": [
    "# Finite Population Correction Factor 유한 모집단 수정 계수\n",
    "\n",
    "\n",
    "만약 아래의 조건처럼 모집단의 크기와 표본의 크기를 비교했을때, 표본집단이 5% 이상을 넘는다면 finite population correction factor를 적용해야 합니다. <br> population size가 크다면 샘플링시에 크게 영향이 없습니다. <br>\n",
    "예를 들어서 미국인 전체 인구중에서 샘플링을 한다면 이번에 남자가 나왔을때 다음 남자가 뽑힐 확률에 크게 영향을 미치지 않습니다. <br>\n",
    "\n",
    "그런데.. population size 자체가 작고, 샘플링을 했을때 예를 들어서 바구니에 10개의 파란색 그리고 빨간색 구슬이 들어있을때, <br>\n",
    "이번에 파란색 구슬을 뽑았다면.. 그 다음 파란색이 나올 확률이 크게 변하게 됩니다. (이미 파란색을 뽑았기 때문에..)\n",
    "\n",
    "따라서 population size가 작고, 일반적으로 sample size가 population size의 5% 이상이 된다면.. <br>\n",
    "Finite population correction factor $ \\sqrt{ \\frac{N-n}{N-1}} $ 를 적용해야 합니다\n",
    "\n",
    "$$ \\text{if}\\ \\frac{n}{N} > 0.05 $$\n",
    "\n",
    "\n",
    "$$ \\begin{align} \\sigma_{\\bar{x} } = \\frac{\\sigma}{\\sqrt{n}} \\sqrt{ \\frac{N-n}{N-1}}   \n",
    "\\end{align} $$\n",
    "\n",
    "\n",
    "아래의 코드에서 보여주듯이, finite population correction factor를 적용시 일반적인 standard error보다 더 낮은 standard error값을 내 놓는다"
   ]
  },
  {
   "cell_type": "code",
   "execution_count": 5,
   "metadata": {},
   "outputs": [
    {
     "name": "stdout",
     "output_type": "stream",
     "text": [
      "\n"
     ]
    },
    {
     "data": {
      "image/png": "[encoded data removed]",
      "text/plain": [
       "<Figure size 432x288 with 1 Axes>"
      ]
     },
     "metadata": {
      "needs_background": "light"
     },
     "output_type": "display_data"
    }
   ],
   "source": [
    "N = 50\n",
    "sigma = 3\n",
    "n = np.arange(1, N)\n",
    "\n",
    "sns.lineplot(n, sigma/np.sqrt(n), label='standard error')\n",
    "sns.lineplot(n, sigma/np.sqrt(n) * np.sqrt( (N-n)/(N-1)), label='finite population correction factor')\n",
    "title(f'N:{N} | sigma:{sigma}')\n",
    "grid()\n",
    "print()"
   ]
  },
  {
   "cell_type": "markdown",
   "metadata": {},
   "source": [
    "# Sampling Binomial Distribution\n",
    "\n",
    "비율의 표본분포 (the sampling distribution of the proportion)은 random variable이 binomially distributed 일때 사용합니다.<br>\n",
    "\n",
    "**표본비율의 평균**\n",
    "\n",
    "$$ p_s = \\frac{s}{n} $$\n",
    "\n",
    "\n",
    "**The standard error of the proportion** \n",
    "\n",
    "$$ \\sigma_p = \\sqrt{ \\frac{p(1-p)}{n} } $$\n",
    "\n",
    "**Z-score**\n",
    "\n",
    "$$ z_p = \\frac{p_s -p}{\\sigma_p} $$\n",
    "\n",
    "* $ p_s $ : the sample mean of the proportion\n",
    "* $ p $ : the population proportion\n",
    "* $ \\sigma_p $ : the standard error of the proportion\n",
    "\n",
    "\n",
    "\n"
   ]
  },
  {
   "cell_type": "markdown",
   "metadata": {},
   "source": [
    "## Problem 1\n",
    "\n",
    "Q. A그룹의 15%의 사람이 왼손잡이이다.<br>\n",
    "125명의 샘플중에 10명이 왼손잡이라면 통계적 유의미성을 갖는가? \n",
    "\n",
    "\n",
    "$$ \\begin{align} \\sigma_p &= \\sqrt{\\frac{p(1-p)}{n}} \\\\\n",
    "&= \\sqrt{\\frac{0.15(1-0.15)}{125}} \\\\\n",
    "&= 0.0319\n",
    "\\end{align} $$\n",
    "\n",
    "$$ \\begin{align} \n",
    "p_s = \\frac{s}{n} = \\frac{10}{125} = 0.08\n",
    "\\end{align} $$\n",
    "\n",
    "$$ \\begin{align} \n",
    "Z_{p} = \\frac{0.08 - 0.15}{0.0319} = -2.19\n",
    "\\end{align} $$\n",
    "\n",
    "$$ P(\\text{between 0.08 and 0.15}) = 0.5 - CDF(-2.19) = 0.4858 $$\n",
    "\n",
    "즉 8%에 대한 Z-score는 -2.19 이며, 정규분포의 가장 왼쪽에서 Z-score = -2.19까지의 확률을 나타냅니다. <br>\n",
    "15%가 population mean이기 때문에 확률은 50%가 됩니다. <br>\n",
    "따라서 8% ~ 15% 사이에 왼손잡이가 있을 확률은 `0.5 - norm.cdf(-2.19) = 0.4858` 로서  48.58%가 됩니다.\n",
    "\n",
    "\n",
    "만약 125명중 15%가 왼손잡이일 확률이 맞다면, 8%에 대한 확률은 `norm.cdf(-2.19) = 0.014` 입니다.<br>\n",
    "즉 1.4%의 확률이며 이는 5%보다도 작습니다. <br>\n",
    "따라서 해당 샘플을 통계 통계적 유의미성이 없으며, 15%가 왼손잡이라는 주장을 뒷받침하지 않습니다.\n"
   ]
  },
  {
   "cell_type": "code",
   "execution_count": 6,
   "metadata": {},
   "outputs": [
    {
     "name": "stdout",
     "output_type": "stream",
     "text": [
      "population proportion            : 0.15\n",
      "sample proportion                : 0.08\n",
      "standard error                   : 0.03193743884534263\n",
      "z-score                          : -2.1917850187980226\n",
      "probability between 0.08 and 0.15: 0.4858024833201109\n",
      "probability of 0.08              : 0.014197516679889128\n"
     ]
    }
   ],
   "source": [
    "p = 0.15\n",
    "p_s = 10/125\n",
    "sigma = np.sqrt(p * (1-p)/125)\n",
    "\n",
    "z_score = (p_s - p)/sigma\n",
    "between_probabiilty = 0.5 - norm.cdf(z_score)\n",
    "\n",
    "print('population proportion            :', p)\n",
    "print('sample proportion                :', p_s)\n",
    "print('standard error                   :', sigma)\n",
    "print('z-score                          :', z_score)\n",
    "print('probability between 0.08 and 0.15:', between_probabiilty)\n",
    "print('probability of 0.08              :', norm.cdf(z_score))"
   ]
  },
  {
   "cell_type": "markdown",
   "metadata": {},
   "source": [
    "# Confidence Intervals\n",
    "\n",
    "표본오차 (sampling error)는 랜덤으로 선택된 표본들의 sample mean과 population mean의 차이를 뜻합니다. \n",
    "\n",
    "\n",
    "## Large Samples and Sigma Known\n",
    "\n",
    "Margin Error $ \\mathit{E} $ 는 허용오차라고 하며 다음과 같이 계산할 수 있습니다.\n",
    "\n",
    "$$ \\mathit{E} =  z_{c/2} \\cdot \\sigma_{\\bar{x}} $$\n",
    "\n",
    "* $ \\bar{x} $ : sample mean \n",
    "* $ z_c $ : c는 confidence level을 뜻하며 90% confidence level은 1.6448 `norm.ppf(0.5+0.45)` 입니다\n",
    "* $ \\sigma_{\\bar{x}} $ : standard error를 뜻하며 $ \\sigma_{\\bar{x}} = \\frac{\\sigma}{\\sqrt{n}} $ 입니다\n",
    "\n",
    "Confidence Interval은 다음과 같습니다.\n",
    "\n",
    "$$ CI = \\bar{x} \\pm z_{c/2} \\cdot \\sigma_{\\bar{x}}  $$ \n",
    "\n",
    "\n",
    "> Confidence Interval은 예를 들어 90% confidence level을 말할때 <br> \n",
    "> lower bound 그리고 upper bound 사이에 90%의 확률로 population mean이 있다는 뜻이 아닙니다.<br>\n",
    "> 10번의 샘플링을 해서, 10번의 sample mean을 구하고, 10번의 confidence interval을 구하면, <br>\n",
    "> 10개중의 9개는 true population mean을 포함한다는 뜻 입니다.\n",
    "\n",
    "### Problem 1 \n",
    "\n",
    "Q. 한 쇼핑몰의 샘플링한 결과 1인당 평균 구매 금액은 78.25달러 이고 population standard deviation은 22.5달러 이다. <br>\n",
    "이때 40주문건의 90% confidence interval에 대해서 계산하여라\n",
    "\n",
    "$$ \\begin{align}\n",
    "\\bar{x} &= 75.25 \\\\\n",
    "\\sigma &= 22.5 \\\\\n",
    "\\sigma_{\\bar{x}} &= \\frac{\\sigma}{\\sqrt{n}} = \\frac{22.5}{\\sqrt{40}} = 3.558 \\\\\n",
    "z_{c/2} &= \\text{norm.ppf}(0.5 + 0.45) = 1.6448\n",
    "\\end{align} $$\n",
    "\n",
    "\n",
    "\n",
    "표본평균 (sample mean)이 confidence interval의 중심에 있습니다. <br>\n",
    "따라서 90%의 confidence interval을 봤을때, 45%는 왼쪽에, 다른 45%는 오른쪽에 위치하게 됩니다.\n",
    "\n",
    "margin error $ \\mathit{E} $ 는 허용오차라고 합니다.\n",
    "\n",
    "$$ \\begin{align} \n",
    "\\mathit{E} &= z_c \\sigma_{\\bar{x}}  \\\\\n",
    "&= 1.6448 \\cdot 3.558 \\\\\n",
    "&= 5.8521 \n",
    "\\end{align} $$\n",
    "\n",
    "\n",
    "\n",
    "$$ \\begin{align} \n",
    "\\text{limit} &= \\bar{x} \\pm z_c \\sigma_{\\bar{x}} \\\\\n",
    "&= 78.25 \\pm 1.64 \\cdot 3.558 \\\\\n",
    "&= 78.25 \\pm 5.8521\n",
    "\\end{align} $$\n",
    "\n",
    "* upper limit (upper bound) : $ \\bar{x} + z_c sigma_{\\bar{x}} $\n",
    "* lower limit (lower bound) : $ \\bar{x} - z_c sigma_{\\bar{x}} $"
   ]
  },
  {
   "cell_type": "markdown",
   "metadata": {},
   "source": [
    "### Problem 2\n",
    "\n",
    "Q.한 쇼핑몰의 샘플링한 결과 1인당 평균 구매 금액은 78.25달러 이고 population standard deviation은 22.5달러 이다. 5달러를 허용오차(margin of error)로 간주했을때, 90% confidence interval을 구현하기 위해서 필요한 최소한의 sample size크기는?\n",
    "\n",
    "$$ \\begin{align}\n",
    "\\mathit{E} &= z_{c/2} \\sigma_{\\bar{x}} \\\\ \n",
    "&= z_{c/2} \\left( \\frac{\\sigma}{\\sqrt{n}} \\right) \\\\\n",
    "\\sqrt{n} &= \\frac{z_{c/2} \\sigma}{\\mathit{E}} \\\\\n",
    "n &= \\left[ \\frac{z_{c/2} \\sigma}{\\mathit{E}} \\right]^2 \\\\\n",
    "&= \\left[ \\frac{1.6448 \\cdot 22.5}{5} \\right]^2 \\\\\n",
    "&= 54.78\n",
    "\\end{align} $$\n",
    "\n",
    "sample size는 interger값이어야 하기 때문 약 55로 반올림해서 사용하면 됩니다.<br>\n"
   ]
  },
  {
   "cell_type": "markdown",
   "metadata": {},
   "source": [
    "## Small Samples and Sigma Unknown\n",
    "\n",
    "Population standard deviation $ \\sigma $ 를 모르는 상태일때는, sample standard deviation $ s $ 를 대신 사용합니다.<br>\n",
    "$ \\sigma $ 대신 $ s $ 를 사용하면서 Student's t-distribution (이하 t-distribution)을 사용해야 합니다.<br>\n",
    "\n",
    "* Sample size가 30개 이하일경우, population은 정규분포를 따라야 하며, 이 경우 t-distribution을 사용 가능합니다.\n",
    "* sample size가 30개 이상일 경우, central limit theorem 을 사용해서 정규분포를 이용할수 있습니다. (population은 전혀 다른 분포를 따라도 OK)"
   ]
  }
 ],
 "metadata": {
  "kernelspec": {
   "display_name": "Python 3",
   "language": "python",
   "name": "python3"
  },
  "language_info": {
   "codemirror_mode": {
    "name": "ipython",
    "version": 3
   },
   "file_extension": ".py",
   "mimetype": "text/x-python",
   "name": "python",
   "nbconvert_exporter": "python",
   "pygments_lexer": "ipython3",
   "version": "3.6.4"
  },
  "toc": {
   "base_numbering": 1,
   "nav_menu": {},
   "number_sections": true,
   "sideBar": true,
   "skip_h1_title": false,
   "title_cell": "Table of Contents",
   "title_sidebar": "Contents",
   "toc_cell": false,
   "toc_position": {},
   "toc_section_display": true,
   "toc_window_display": false
  }
 },
 "nbformat": 4,
 "nbformat_minor": 2
}
