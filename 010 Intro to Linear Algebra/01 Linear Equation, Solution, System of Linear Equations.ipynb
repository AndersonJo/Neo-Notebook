{
 "cells": [
  {
   "cell_type": "markdown",
   "metadata": {},
   "source": [
    "# Linear Equation\n",
    "\n",
    "아래의 형태와 같은 형태를 띄고 있으면 Linear Equation 이라고 말할수 있습니다. \n",
    "\n",
    "$$ a_1 x_1 + a_2 x_2 + a_3 x_3 + ... + a_n x_n = y $$\n",
    "\n",
    "* $ x $: 변수 (variables)\n",
    "* $ a $: 계수 (coefficients)\n",
    "\n",
    "각각의 수식들은 모두 linear operator (linear mapping, linear trasformation)에 기반하고 있습니다. <br>\n",
    "간단하게 말하면 모두 일직선을 그리는 것이라고 생각하면 됩니다.\n",
    "\n",
    "![](images/linear-equation-01.png)\n",
    "\n",
    "이때 $ x^2 $, $ x^3 $, 또는 $ \\sqrt(x)$ 등등의 non-linear operation은 허용되지 않습니다.<br>\n",
    "즉 1차식만 허용이 됩니다.\n",
    "\n",
    "\n"
   ]
  },
  {
   "cell_type": "markdown",
   "metadata": {},
   "source": [
    "# System of Linear Equations\n",
    "\n",
    "Linear Equation이 하나 이상이 모여서 만들어진 것이 Linear System 이라고 생각하면 됩니다. <br>\n",
    "두개의 linear equations모두 직선의 방정식을 나타내고 있기 때문에, solution은 1개가 나올수 있습니다.<br>\n",
    "아래의 그래프에서 빨간선과 파란색선이 교차하는 지점이 solution이라고 보면 됩니다.\n",
    "\n",
    "![](images/linear-equation-02.png)\n",
    "\n",
    "\n",
    "Solution은 하나만 존재하거나, 아예 없거나, 무한대로 있을 수 있습니다.<br>\n",
    "이때 Solution이 없을때는 \"Inconsistent\"하다고 말하며, Solution이 존재할때는 \"Consistent\"하다고 말합니다. (그냥 용어)\n",
    "\n",
    "![](images/system-linear-types.svg)"
   ]
  },
  {
   "cell_type": "markdown",
   "metadata": {},
   "source": [
    "# Matrix Notation\n",
    "\n",
    "예를 들어서 다음의 linear system이 존재합니다.\n",
    "\n",
    "\n",
    "$$ \\begin{align} \n",
    "x_1 - 2x_2 + x_3 &= 0 \\\\\n",
    "0  x_1 + 4x_2 -3x_3 &= 5 \\\\\n",
    "-4x_1 + 5x_2 + 12x_3 &= -3\n",
    "\\end{align} $$\n",
    "\n",
    "이것을 다음과 같이 coeficients만 가져와서 Matrix를 만들 수 있습니다.<br>\n",
    "이때 우변에 있는 상수들을 표현했기 때문에 Augmented Matrix라고 하며, <br>\n",
    "우변의 항이 없는 Matrix를 Coefficient Matrix라고 합니다.\n",
    "\n",
    "$$  \\left[\\begin{array}{rrr|r}\n",
    "    1 & -2 & 1 & 0 \\\\\n",
    "    0 & 4 & -3 & 5 \\\\\n",
    "    -4 & 5 & 12 & -3\n",
    "  \\end{array}\\right]\n",
    "$$\n",
    "\n",
    "Linear system에서 우변에 있는 상수를 column vector로 추가한것을 Augmented Matrix라고 합니다.\n"
   ]
  }
 ],
 "metadata": {
  "kernelspec": {
   "display_name": "Python 3",
   "language": "python",
   "name": "python3"
  },
  "language_info": {
   "codemirror_mode": {
    "name": "ipython",
    "version": 3
   },
   "file_extension": ".py",
   "mimetype": "text/x-python",
   "name": "python",
   "nbconvert_exporter": "python",
   "pygments_lexer": "ipython3",
   "version": "3.6.7"
  }
 },
 "nbformat": 4,
 "nbformat_minor": 2
}
