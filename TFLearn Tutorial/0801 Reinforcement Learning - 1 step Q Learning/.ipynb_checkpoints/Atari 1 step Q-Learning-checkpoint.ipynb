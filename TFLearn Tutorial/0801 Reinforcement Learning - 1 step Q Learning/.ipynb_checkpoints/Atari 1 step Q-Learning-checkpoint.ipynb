{
 "cells": [
  {
   "cell_type": "code",
   "execution_count": 1,
   "metadata": {
    "collapsed": true
   },
   "outputs": [],
   "source": [
    "from __future__ import division, print_function, absolute_import\n",
    "\n",
    "import threading\n",
    "import random\n",
    "import numpy as np\n",
    "import time\n",
    "from skimage.transform import resize\n",
    "from skimage.color import rgb2gray\n",
    "from collections import deque\n",
    "\n",
    "import gym\n",
    "import tensorflow as tf\n",
    "import tflearn"
   ]
  },
  {
   "cell_type": "markdown",
   "metadata": {},
   "source": [
    "### Configurations"
   ]
  },
  {
   "cell_type": "code",
   "execution_count": 2,
   "metadata": {
    "collapsed": true
   },
   "outputs": [],
   "source": [
    "GAME = 'MsPacman-v0'\n"
   ]
  },
  {
   "cell_type": "markdown",
   "metadata": {},
   "source": [
    "### Create Environment"
   ]
  },
  {
   "cell_type": "code",
   "execution_count": 3,
   "metadata": {
    "collapsed": false
   },
   "outputs": [],
   "source": [
    "class GymEnvironment(object):\n",
    "  def __init__(self, game, width=84, height=84):\n",
    "    import gym\n",
    "    self.gym = gym.make(game)\n",
    "    self.obs = None\n",
    "    self.terminal = None\n",
    "\n",
    "    self.screen_width = width\n",
    "    self.screen_height = height\n",
    "\n",
    "  def num_actions(self):\n",
    "    import gym\n",
    "    assert isinstance(self.gym.action_space, gym.spaces.Discrete)\n",
    "    return self.gym.action_space.n\n",
    "\n",
    "  def restart(self):\n",
    "    self.obs = self.gym.reset()\n",
    "    self.terminal = False\n",
    "\n",
    "  def act(self, action):\n",
    "    self.obs, reward, self.terminal, _ = self.gym.step(action)\n",
    "    return reward\n",
    "\n",
    "  def get_screen(self):\n",
    "    assert self.obs is not None\n",
    "    return cv2.resize(cv2.cvtColor(self.obs, cv2.COLOR_RGB2GRAY), (self.screen_width, self.screen_height))\n",
    "\n",
    "  def is_terminal(self):\n",
    "    assert self.terminal is not None\n",
    "    return self.terminal"
   ]
  },
  {
   "cell_type": "markdown",
   "metadata": {},
   "source": [
    "### Build Deep Q Network"
   ]
  },
  {
   "cell_type": "code",
   "execution_count": null,
   "metadata": {
    "collapsed": true
   },
   "outputs": [],
   "source": [
    "tf.placeholder(tf.float32, [None, ])"
   ]
  },
  {
   "cell_type": "markdown",
   "metadata": {},
   "source": [
    "### MAIN"
   ]
  },
  {
   "cell_type": "code",
   "execution_count": 7,
   "metadata": {
    "collapsed": false
   },
   "outputs": [
    {
     "name": "stderr",
     "output_type": "stream",
     "text": [
      "[2016-10-20 01:10:35,584] Making new env: MsPacman-v0\n"
     ]
    }
   ],
   "source": [
    "with tf.Session() as session:\n",
    "    num_actions = get_num_actions()"
   ]
  }
 ],
 "metadata": {
  "kernelspec": {
   "display_name": "Python 2",
   "language": "python",
   "name": "python2"
  },
  "language_info": {
   "codemirror_mode": {
    "name": "ipython",
    "version": 2
   },
   "file_extension": ".py",
   "mimetype": "text/x-python",
   "name": "python",
   "nbconvert_exporter": "python",
   "pygments_lexer": "ipython2",
   "version": "2.7.12"
  }
 },
 "nbformat": 4,
 "nbformat_minor": 1
}
