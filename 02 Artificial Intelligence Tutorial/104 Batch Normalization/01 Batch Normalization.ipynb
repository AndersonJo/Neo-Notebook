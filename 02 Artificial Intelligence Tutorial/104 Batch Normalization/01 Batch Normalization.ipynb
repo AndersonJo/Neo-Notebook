{
 "cells": [
  {
   "cell_type": "markdown",
   "metadata": {},
   "source": [
    "# Batch Normalization\n",
    "\n",
    "* [Batch Normalization: Accelerating Deep Network Training by Reducing Internal Covariate Shift](https://arxiv.org/pdf/1502.03167.pdf)"
   ]
  },
  {
   "cell_type": "markdown",
   "metadata": {},
   "source": [
    "### Covariate Shift\n",
    "\n",
    "* http://blog.smola.org/post/4110255196/real-simple-covariate-shift-correction\n",
    "\n",
    "한 스타트업에서 혈액으로 암을 진단하는 모델을 만들려고 했습니다.<br>\n",
    "많은 암환자들로부터 혈액 샘플을 얻을수 있었지만, training시키기 위해서 필요한 정상적인 사람의 샘플을 얻는 것은 매우 어려웠습니다.<br>\n",
    "정상적인 사람들로부터 혈액을 수집하는 것은 먼저 윤리적인 이유에서부터 힘이 들었습니다.<br>\n",
    "대안으로 많은 학생들로부터 혈액샘플을 얻을수 있었고 모델을 만들수 있었습니다. \n",
    "\n",
    "training에서는 높은 accuracy로 잘잡아냈지만, 스타트업이 정작 서비스를 시작했을때는 정확도가 매우 낮았고 실패하고 말았습니다.<br>\n",
    "왜 이런일이 일어나게 된 것일까요?\n",
    "\n",
    "먼저 암에 걸려 얻은 혈액 샘플들은 주로 나이가 많았으며, 담배 또는 술을 먹는 경우도 있습니다.<br>\n",
    "하지만 학생들은 나이도 젊고, 담배 술또한 비율자체가 다르며, 이외에도 여러 factors (요인들)이 달랐습니다.<br>\n",
    "결국 학습시에는 정확도가 높지만, 정작 실전에 나가서는 잘못된 방향으로 진단을 하게 되는 것입니다.\n",
    "\n",
    "이러한 현상은 Covariate Shift라고 합니다.<br>\n",
    "쉽게 이야기해서 training과 test의 데이터의 distributions이 차이가 날때 생겨나게되는 현상입니다."
   ]
  }
 ],
 "metadata": {
  "kernelspec": {
   "display_name": "Python 3",
   "language": "python",
   "name": "python3"
  },
  "language_info": {
   "codemirror_mode": {
    "name": "ipython",
    "version": 3
   },
   "file_extension": ".py",
   "mimetype": "text/x-python",
   "name": "python",
   "nbconvert_exporter": "python",
   "pygments_lexer": "ipython3",
   "version": "3.6.0"
  }
 },
 "nbformat": 4,
 "nbformat_minor": 2
}
