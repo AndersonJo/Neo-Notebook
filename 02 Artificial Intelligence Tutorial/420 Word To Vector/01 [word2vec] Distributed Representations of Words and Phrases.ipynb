{
 "cells": [
  {
   "cell_type": "markdown",
   "metadata": {
    "deletable": true,
    "editable": true
   },
   "source": [
    "# Distributed Representations of Words and Pharses\n",
    "\n",
    "* [[논문] Distributed Representations of Words and Phrases and their Compositionality](https://papers.nips.cc/paper/5021-distributed-representations-of-words-and-phrases-and-their-compositionality.pdf)\n",
    "\n",
    "구현 참고\n",
    "\n",
    "* [[TensorFlow] Vector Representations of Words](https://www.tensorflow.org/tutorials/word2vec)\n",
    "* [[TensorFlow] Basic word2Vec implementation](https://github.com/tensorflow/tensorflow/blob/r1.1/tensorflow/examples/tutorials/word2vec/word2vec_basic.py)"
   ]
  },
  {
   "cell_type": "code",
   "execution_count": 43,
   "metadata": {
    "collapsed": false,
    "deletable": true,
    "editable": true
   },
   "outputs": [
    {
     "name": "stdout",
     "output_type": "stream",
     "text": [
      "Populating the interactive namespace from numpy and matplotlib\n"
     ]
    }
   ],
   "source": [
    "%pylab inline\n",
    "import os\n",
    "import urllib\n",
    "import shutil\n",
    "import zipfile\n",
    "import collections\n",
    "import numpy as np\n",
    "import tensorflow as tf"
   ]
  },
  {
   "cell_type": "markdown",
   "metadata": {},
   "source": [
    "### Data\n",
    "\n",
    "https://metamind.io/research/the-wikitext-long-term-dependency-language-modeling-dataset/\n",
    "\n",
    "위키피디아의 featured articles 에서 가져온 데이터셋을 사용합니다. <br>\n",
    "100만개의 tokens을 갖고 있습니다. "
   ]
  },
  {
   "cell_type": "code",
   "execution_count": 30,
   "metadata": {
    "collapsed": false
   },
   "outputs": [],
   "source": [
    "WIKI_URL = 'https://s3.amazonaws.com/research.metamind.io/wikitext/wikitext-2-v1.zip'\n",
    "\n",
    "# Download Wiki Data\n",
    "def download(url, dest):\n",
    "    \"\"\"\n",
    "    Download the wiki data if not exists. \n",
    "    \"\"\"\n",
    "    # 데이터를 다운로드할 디렉토리를 만듭니다. \n",
    "    dirs = os.path.dirname(dest)\n",
    "    os.makedirs(dirs, exist_ok=True)\n",
    "    \n",
    "    # 데이터가 없으면 다운로드 합니다.\n",
    "    if not os.path.exists(dest):\n",
    "        print('Started to download WIKI Data')\n",
    "        dest, _ = urllib.request.urlretrieve(WIKI_URL, dest)\n",
    "    return dest\n",
    "\n",
    "# Unzip the data\n",
    "def unzip(filename, dest_dir):\n",
    "    zip_ref = zipfile.ZipFile(filename, 'r')\n",
    "    zip_ref.extractall(dest_dir)\n",
    "    return dest_dir\n",
    "\n",
    "def read_data(filename):\n",
    "    pass\n",
    "\n",
    "\n",
    "wiki_zip = download(WIKI_URL, '_data/wikitext.zip')\n",
    "wiki_dir = unzip(wiki_zip, '_data')\n",
    "\n",
    "train_path = os.path.join(wiki_dir, 'wikitext-2/wiki.train.tokens')\n",
    "test_path = os.path.join(wiki_dir, 'wikitext-2/wiki.test.tokens')\n",
    "valid_path = os.path.join(wiki_dir, 'wikitext-2/wiki.valid.tokens')\n",
    "\n",
    "train_data = open(train_path, 'r').read()"
   ]
  }
 ],
 "metadata": {
  "kernelspec": {
   "display_name": "Python 3",
   "language": "python",
   "name": "python3"
  },
  "language_info": {
   "codemirror_mode": {
    "name": "ipython",
    "version": 3
   },
   "file_extension": ".py",
   "mimetype": "text/x-python",
   "name": "python",
   "nbconvert_exporter": "python",
   "pygments_lexer": "ipython3",
   "version": "3.6.1"
  }
 },
 "nbformat": 4,
 "nbformat_minor": 2
}
