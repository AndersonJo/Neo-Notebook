{
 "cells": [
  {
   "cell_type": "markdown",
   "metadata": {
    "deletable": true,
    "editable": true
   },
   "source": [
    "# Numpy Tutorial\n",
    "\n",
    "<img src=\"https://bids.berkeley.edu/sites/default/files/styles/400x225/public/projects/numpy_project_page.jpg?itok=flrdydei\">\n",
    "\n",
    " * [Generative Adversarial Nets](https://arxiv.org/pdf/1406.2661.pdf)\n",
    " * [NIPS 2016 Tutorial:Generative Adversarial Networks](https://arxiv.org/pdf/1701.00160.pdf)\n",
    " * [Machine Learning is Fun Part 7: Abusing Generative Adversarial Networks to Make 8-bit Pixel Art](https://medium.com/@ageitgey/abusing-generative-adversarial-networks-to-make-8-bit-pixel-art-e45d9b96cee7#.tiwfi83kk)\n",
    " * [Domain-Adversarial Training of Neural Networks](https://arxiv.org/pdf/1505.07818.pdf)\n",
    " * [Understanding Generative Adversarial Networks](https://danieltakeshi.github.io/2017/03/05/understanding-generative-adversarial-networks/)\n",
    " * [Adit Deshpande - Generative Adversarial Nets](https://adeshpande3.github.io/adeshpande3.github.io/Deep-Learning-Research-Review-Week-1-Generative-Adversarial-Nets)\n",
    " \n",
    "해당 문서를 보기전에 공부해야할 문서들\n",
    " * [Khan Academy - Game theory and Nash equilibrium](https://www.khanacademy.org/economics-finance-domain/microeconomics/nash-equilibrium-tutorial)"
   ]
  },
  {
   "cell_type": "markdown",
   "metadata": {
    "deletable": true,
    "editable": true
   },
   "source": [
    "# How do GANs work\n",
    "\n",
    "GAN의 아이디어는 기본적으로 2개의 모델이 서로 경쟁하듯 학습을 하는 원리입니다. <br>\n",
    "그중 하나는 **Generator**로서 training data와 동일한 분포형태(distribution)을 갖는 샘플을 생성합니다. <br>\n",
    "다른 하나는 **Discriminator**로서 샘플 데이터가 real 인지 또는 fake인지 구분합니다. <br>\n",
    "즉 **2개의 classes** (real or fake)를 갖은 traditional supervised learning을 사용합니다. \n",
    "\n",
    "쉽게 이야기하면 Generator는 가짜돈을 찍어내는 도둑놈이고, Discriminator는 가짜돈인지 진짜돈인지 구별해내는 경찰의 역활입니다.<br>\n",
    "게임에서 이기기 위해서 도둑놈(Generator)은 진짜 돈과 구별할수 없는 가짜 돈을 만들어야 합니다.\n",
    "\n",
    "도둑놈과 경찰은 2개의 differentiable functions으로 표현이 됩니다. \n",
    "\n",
    "| Name | Function | Cost | Input | Parameter |\n",
    "|:-----|:--------:|:-----:|:---------:|\n",
    "| Distriminator | $ D $ | $ \\theta^{(D)} $ 만 control하면서 minimize $ J^{(D)} \\left( \\theta^{(D)}, \\theta^{(G)} \\right) $ | $ x $ | $ \\theta^{(D)} $ | \n",
    "| Generator     | $ G $ | $ \\theta^{(G)} $ 만 control하면서 minimize $ J^{(G)} \\left( \\theta^{(D)}, \\theta^{(G)} \\right) $ | $ z $ | $ \\theta^{(G)} $ |\n",
    "\n",
    "위의 표안의 Cost부분에서 나와있듯이, 각각의 player의 cost값은 다른 player의 parameter에 의존하고 있지만, <br>\n",
    "상대방의 parameters를 건들일수 없기 때문에, 시나리오 자체가 optimization problem보다는 game으로 설명이 더 잘 됩니다.\n",
    "\n",
    "Optimization문제의 해결책은 cost값의 (local) minimum을 찾는 것입니다.<br>\n",
    "Game에서의 해결책은 Nash equilibrium입니다. (Local diffenrential Nash equilibria)\n",
    "\n",
    "\n",
    "<img src=\"images/gan.png\">"
   ]
  },
  {
   "cell_type": "markdown",
   "metadata": {},
   "source": [
    "# The Generator\n",
    "\n",
    "Generator는 differentialable function $ G $를 가르킵니다. "
   ]
  },
  {
   "cell_type": "markdown",
   "metadata": {
    "deletable": true,
    "editable": true
   },
   "source": [
    "## Loss Function\n",
    "\n",
    "Discriminator $ D $의 loss function은 기본적으로 binary cross entropy를 사용합니다. <br>\n",
    "이때 $ D(x_i) \\in [0, 1] $ 즉.. D함수의 output은 0 ~ 1사이의 값입니다.\n",
    "\n",
    "$$ H((x_i,y_i)_{i=1}^N,D) = - \\sum_{i=1}^N y_i \\log D(x_i) - \\sum_{i=1}^N (1-y_i) \\log (1-D(x_i)) $$\n",
    "\n"
   ]
  },
  {
   "cell_type": "markdown",
   "metadata": {
    "deletable": true,
    "editable": true
   },
   "source": [
    "## Discriminator's Cost\n",
    "\n",
    "$$ J^{(D)}\\left( \\theta^{(D)}, \\theta^{(G)} \\right) = -\\frac{1}{2} \\mathbb{E}_{x \\sim Pdata} $$"
   ]
  },
  {
   "cell_type": "code",
   "execution_count": null,
   "metadata": {
    "collapsed": true
   },
   "outputs": [],
   "source": []
  }
 ],
 "metadata": {
  "kernelspec": {
   "display_name": "Python 3",
   "language": "python",
   "name": "python3"
  },
  "language_info": {
   "codemirror_mode": {
    "name": "ipython",
    "version": 3
   },
   "file_extension": ".py",
   "mimetype": "text/x-python",
   "name": "python",
   "nbconvert_exporter": "python",
   "pygments_lexer": "ipython3",
   "version": "3.6.1"
  }
 },
 "nbformat": 4,
 "nbformat_minor": 2
}
