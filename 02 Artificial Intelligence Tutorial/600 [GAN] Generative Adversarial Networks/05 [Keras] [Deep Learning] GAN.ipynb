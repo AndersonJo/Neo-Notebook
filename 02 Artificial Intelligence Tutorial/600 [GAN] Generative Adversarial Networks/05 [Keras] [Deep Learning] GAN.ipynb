{
 "cells": [
  {
   "cell_type": "code",
   "execution_count": 1,
   "metadata": {
    "collapsed": false
   },
   "outputs": [
    {
     "name": "stdout",
     "output_type": "stream",
     "text": [
      "Populating the interactive namespace from numpy and matplotlib\n"
     ]
    },
    {
     "name": "stderr",
     "output_type": "stream",
     "text": [
      "Using TensorFlow backend.\n"
     ]
    }
   ],
   "source": [
    "%pylab inline\n",
    "\n",
    "import numpy as np\n",
    "import tensorflow as tf\n",
    "\n",
    "\n",
    "from keras.models import Input, Sequential, Model\n",
    "from keras.layers import Dense, BatchNormalization, Layer, Activation, Reshape, Dropout, LeakyReLU\n",
    "from keras.datasets.mnist import load_data\n",
    "from keras.utils import np_utils\n",
    "from keras.losses import categorical_crossentropy\n",
    "from keras import backend as K\n",
    "\n",
    "from sklearn.metrics import accuracy_score\n",
    "\n",
    "from tqdm import tqdm"
   ]
  },
  {
   "cell_type": "code",
   "execution_count": 2,
   "metadata": {
    "collapsed": false
   },
   "outputs": [],
   "source": [
    "gpu_options = tf.GPUOptions(per_process_gpu_memory_fraction=0.4, allow_growth=True)\n",
    "sess = tf.InteractiveSession(config=tf.ConfigProto(gpu_options=gpu_options))\n",
    "K.set_session(sess)"
   ]
  },
  {
   "cell_type": "markdown",
   "metadata": {},
   "source": [
    "## Data"
   ]
  },
  {
   "cell_type": "code",
   "execution_count": 3,
   "metadata": {
    "collapsed": false
   },
   "outputs": [
    {
     "name": "stdout",
     "output_type": "stream",
     "text": [
      "train_x: (60000, 784)\n",
      "train_y: (60000, 10)\n",
      "train_noise: (60000, 100)\n",
      "test_x: (10000, 784)\n",
      "test_y: (10000, 10)\n",
      "test_noise: (10000, 100)\n"
     ]
    }
   ],
   "source": [
    "(train_x, train_y), (test_x, test_y) = load_data()\n",
    "\n",
    "train_noise = np.random.normal(0, 1, size=(train_x.shape[0], 100))\n",
    "test_noise = np.random.normal(0, 1, size=(test_x.shape[0], 100))\n",
    "\n",
    "train_x = train_x.reshape((-1, 784))\n",
    "test_x = test_x.reshape((-1, 784))\n",
    "train_x = train_x/255.\n",
    "test_x = test_x/255.\n",
    "\n",
    "train_y = np_utils.to_categorical(train_y)\n",
    "test_y = np_utils.to_categorical(test_y)\n",
    "\n",
    "print('train_x:', train_x.shape)\n",
    "print('train_y:', train_y.shape)\n",
    "print('train_noise:', train_noise.shape)\n",
    "print('test_x:', test_x.shape)\n",
    "print('test_y:', test_y.shape)\n",
    "print('test_noise:', test_noise.shape)"
   ]
  },
  {
   "cell_type": "markdown",
   "metadata": {},
   "source": [
    "## Tools"
   ]
  },
  {
   "cell_type": "code",
   "execution_count": 4,
   "metadata": {
    "collapsed": false
   },
   "outputs": [],
   "source": [
    "def make_trainable(model, trainable: bool):\n",
    "    model.trainable = trainable\n",
    "    for layer in model.layers:\n",
    "        layer.trainable = trainable\n",
    "\n",
    "def display_image(image):\n",
    "    display(imshow(image.reshape((28, 28))*255, cmap='gray'))\n",
    "    \n",
    "def _to_tensor(x, dtype):\n",
    "    x = tf.convert_to_tensor(x)\n",
    "    if x.dtype != dtype:\n",
    "        x = tf.cast(x, dtype)\n",
    "    return x"
   ]
  },
  {
   "cell_type": "markdown",
   "metadata": {},
   "source": [
    "## Model\n",
    "\n",
    "### Generator Model"
   ]
  },
  {
   "cell_type": "code",
   "execution_count": 5,
   "metadata": {
    "collapsed": false,
    "scrolled": false
   },
   "outputs": [
    {
     "name": "stdout",
     "output_type": "stream",
     "text": [
      "_________________________________________________________________\n",
      "Layer (type)                 Output Shape              Param #   \n",
      "=================================================================\n",
      "g_layer_01 (Dense)           (None, 196)               19796     \n",
      "_________________________________________________________________\n",
      "activation_1 (Activation)    (None, 196)               0         \n",
      "_________________________________________________________________\n",
      "dense_1 (Dense)              (None, 289)               56933     \n",
      "_________________________________________________________________\n",
      "activation_2 (Activation)    (None, 289)               0         \n",
      "_________________________________________________________________\n",
      "dense_2 (Dense)              (None, 441)               127890    \n",
      "_________________________________________________________________\n",
      "activation_3 (Activation)    (None, 441)               0         \n",
      "_________________________________________________________________\n",
      "dense_3 (Dense)              (None, 784)               346528    \n",
      "_________________________________________________________________\n",
      "activation_4 (Activation)    (None, 784)               0         \n",
      "=================================================================\n",
      "Total params: 551,147.0\n",
      "Trainable params: 551,147.0\n",
      "Non-trainable params: 0.0\n",
      "_________________________________________________________________\n"
     ]
    }
   ],
   "source": [
    "# Generator Model \n",
    "def create_generator_model(loss='categorical_crossentropy'):\n",
    "    generator = Sequential(name='Generator')\n",
    "    generator.add(Dense(196, batch_input_shape=(None, 100), name='g_layer_01'))\n",
    "#     generator.add(BatchNormalization())\n",
    "    generator.add(Activation('sigmoid'))\n",
    "\n",
    "    generator.add(Dense(289))\n",
    "#     generator.add(BatchNormalization())\n",
    "    generator.add(Activation('sigmoid'))\n",
    "\n",
    "    generator.add(Dense(441))\n",
    "#     generator.add(BatchNormalization())\n",
    "    generator.add(Activation('sigmoid'))\n",
    "    \n",
    "    generator.add(Dense(784))\n",
    "#     generator.add(BatchNormalization())\n",
    "    generator.add(Activation('sigmoid'))\n",
    "\n",
    "    generator.compile(loss=loss, optimizer='adam')\n",
    "    return generator\n",
    "\n",
    "generator = create_generator_model()\n",
    "generator.summary()"
   ]
  },
  {
   "cell_type": "markdown",
   "metadata": {},
   "source": [
    "### Discriminator Model"
   ]
  },
  {
   "cell_type": "code",
   "execution_count": 6,
   "metadata": {
    "collapsed": false
   },
   "outputs": [
    {
     "name": "stdout",
     "output_type": "stream",
     "text": [
      "discriminator loss\n",
      "_________________________________________________________________\n",
      "Layer (type)                 Output Shape              Param #   \n",
      "=================================================================\n",
      "d_layer_01 (Dense)           (None, 784)               615440    \n",
      "_________________________________________________________________\n",
      "leaky_re_lu_1 (LeakyReLU)    (None, 784)               0         \n",
      "_________________________________________________________________\n",
      "dense_4 (Dense)              (None, 441)               346185    \n",
      "_________________________________________________________________\n",
      "leaky_re_lu_2 (LeakyReLU)    (None, 441)               0         \n",
      "_________________________________________________________________\n",
      "dense_5 (Dense)              (None, 289)               127738    \n",
      "_________________________________________________________________\n",
      "leaky_re_lu_3 (LeakyReLU)    (None, 289)               0         \n",
      "_________________________________________________________________\n",
      "dense_6 (Dense)              (None, 2)                 580       \n",
      "_________________________________________________________________\n",
      "activation_5 (Activation)    (None, 2)                 0         \n",
      "=================================================================\n",
      "Total params: 1,089,943.0\n",
      "Trainable params: 1,089,943.0\n",
      "Non-trainable params: 0.0\n",
      "_________________________________________________________________\n"
     ]
    }
   ],
   "source": [
    "def custom_binary_crossentropy(y_true, y_pred):\n",
    "    print('discriminator loss')\n",
    "    epsilon = _to_tensor( 10e-8, y_pred.dtype.base_dtype)\n",
    "    y_pred = tf.clip_by_value(y_pred, epsilon, 1 - epsilon)\n",
    "    return - y_true * K.log(y_pred) - (1 - y_true) * K.log(1-y_pred)\n",
    "\n",
    "def create_discriminator_model(loss='binary_crossentropy'):\n",
    "    discriminator = Sequential(name='Discriminator')\n",
    "    discriminator.add(Dense(784, batch_input_shape=(None, 784), name='d_layer_01'))\n",
    "#     discriminator.add(Dropout(0.2))\n",
    "    discriminator.add(LeakyReLU())\n",
    "\n",
    "    discriminator.add(Dense(441))\n",
    "#     discriminator.add(Dropout(0.2))\n",
    "    discriminator.add(LeakyReLU())\n",
    "\n",
    "    discriminator.add(Dense(289))\n",
    "#     discriminator.add(Dropout(0.2))\n",
    "    discriminator.add(LeakyReLU())\n",
    "\n",
    "    discriminator.add(Dense(2))\n",
    "#     discriminator.add(Dropout(0.2))\n",
    "    discriminator.add(Activation('sigmoid'))\n",
    "    discriminator.compile(loss=loss, optimizer='adam')\n",
    "    return discriminator\n",
    "\n",
    "discriminator = create_discriminator_model(loss=custom_binary_crossentropy)\n",
    "discriminator.summary()"
   ]
  },
  {
   "cell_type": "markdown",
   "metadata": {},
   "source": [
    "### GAN Model\n",
    "\n",
    "gan model 변수는 generator를 trainining 하기 위한 모델입니다. <br>\n",
    "generator를 거쳐 generated images가 만들어지면, discriminator가 \n"
   ]
  },
  {
   "cell_type": "code",
   "execution_count": 7,
   "metadata": {
    "collapsed": false
   },
   "outputs": [
    {
     "name": "stdout",
     "output_type": "stream",
     "text": [
      "_________________________________________________________________\n",
      "Layer (type)                 Output Shape              Param #   \n",
      "=================================================================\n",
      "Generator (Sequential)       (None, 784)               551147    \n",
      "_________________________________________________________________\n",
      "Discriminator (Sequential)   (None, 2)                 1089943   \n",
      "=================================================================\n",
      "Total params: 1,641,090.0\n",
      "Trainable params: 551,147.0\n",
      "Non-trainable params: 1,089,943.0\n",
      "_________________________________________________________________\n"
     ]
    }
   ],
   "source": [
    "def minigame_loss(y_true, y_pred):\n",
    "    return - categorical_crossentropy(y_true, y_pred)\n",
    "\n",
    "def heuristic_loss(y_true, y_pred):\n",
    "    # 실제로는 cross entropy\n",
    "    epsilon = _to_tensor( 10e-8, y_pred.dtype.base_dtype)\n",
    "    y_pred = tf.clip_by_value(y_pred, epsilon, 1 - epsilon)\n",
    "    return - y_true * K.log(y_pred)\n",
    "\n",
    "def maximum_likelihood(y_true, y_pred):\n",
    "    return y_true * K.exp()\n",
    "\n",
    "\n",
    "def create_gan_model(generator, discriminator, loss='categorical_crossentropy'):\n",
    "    gan = Sequential()\n",
    "    gan.add(generator)\n",
    "    discriminator.trainable = False\n",
    "    make_trainable(discriminator, False)\n",
    "    gan.add(discriminator)\n",
    "    gan.compile(loss=loss, optimizer='adam')\n",
    "    return gan\n",
    "\n",
    "gan = create_gan_model(generator, discriminator)\n",
    "gan.summary()"
   ]
  },
  {
   "cell_type": "code",
   "execution_count": 8,
   "metadata": {
    "collapsed": false
   },
   "outputs": [
    {
     "name": "stdout",
     "output_type": "stream",
     "text": [
      "_________________________________________________________________\n",
      "Layer (type)                 Output Shape              Param #   \n",
      "=================================================================\n",
      "d_layer_01 (Dense)           (None, 784)               615440    \n",
      "_________________________________________________________________\n",
      "leaky_re_lu_1 (LeakyReLU)    (None, 784)               0         \n",
      "_________________________________________________________________\n",
      "dense_4 (Dense)              (None, 441)               346185    \n",
      "_________________________________________________________________\n",
      "leaky_re_lu_2 (LeakyReLU)    (None, 441)               0         \n",
      "_________________________________________________________________\n",
      "dense_5 (Dense)              (None, 289)               127738    \n",
      "_________________________________________________________________\n",
      "leaky_re_lu_3 (LeakyReLU)    (None, 289)               0         \n",
      "_________________________________________________________________\n",
      "dense_6 (Dense)              (None, 2)                 580       \n",
      "_________________________________________________________________\n",
      "activation_5 (Activation)    (None, 2)                 0         \n",
      "=================================================================\n",
      "Total params: 1,089,943.0\n",
      "Trainable params: 0.0\n",
      "Non-trainable params: 1,089,943.0\n",
      "_________________________________________________________________\n"
     ]
    }
   ],
   "source": [
    "discriminator.summary()\n",
    "\n",
    "make_trainable(gan, False)\n",
    "make_trainable(generator, False)\n",
    "make_trainable(discriminator, False)"
   ]
  },
  {
   "cell_type": "markdown",
   "metadata": {},
   "source": [
    "## Train"
   ]
  },
  {
   "cell_type": "code",
   "execution_count": 9,
   "metadata": {
    "collapsed": false
   },
   "outputs": [],
   "source": [
    "def next_batch(x, y, noise, idx, batch_size=250):\n",
    "    return x[idx: idx+batch_size], y[idx: idx+batch_size], noise[idx: idx+batch_size]\n",
    "\n",
    "def next_noise_batch(noise, idx, batch_size=250):    \n",
    "    y = np.zeros((batch_size, 2))\n",
    "    y[:, 1] = 1    \n",
    "    return noise[idx: idx+batch_size], y\n",
    "\n",
    "def shuffle(x, y, n):\n",
    "    N = x.shape[0]\n",
    "    permu = np.random.permutation(N)\n",
    "    x = x[permu]\n",
    "    y = y[permu]\n",
    "    n = n[permu]\n",
    "    return x, y, n\n",
    "\n",
    "def concatenate_images(true_images, generated_images):\n",
    "    n_true = true_images.shape[0]\n",
    "    combined_x = np.concatenate((true_images, generated_images))\n",
    "    combined_y = np.zeros((combined_x.shape[0], 2))\n",
    "    combined_y[:n_true, 0] = 1 # True Images [1, 0]\n",
    "    combined_y[n_true:, 1] = 1 # Generated Images [0, 1]\n",
    "    \n",
    "    return combined_x, combined_y\n"
   ]
  },
  {
   "cell_type": "code",
   "execution_count": 11,
   "metadata": {
    "collapsed": false,
    "scrolled": false
   },
   "outputs": [
    {
     "name": "stdout",
     "output_type": "stream",
     "text": [
      "[0] d loss: 1.20491e-07 , g loss: 1.19209e-07\n",
      "[1] d loss: 1.2016e-07 , g loss: 1.19209e-07\n"
     ]
    },
    {
     "ename": "KeyboardInterrupt",
     "evalue": "",
     "output_type": "error",
     "traceback": [
      "\u001b[0;31m---------------------------------------------------------------------------\u001b[0m",
      "\u001b[0;31mKeyboardInterrupt\u001b[0m                         Traceback (most recent call last)",
      "\u001b[0;32m<ipython-input-11-be19a2799ea0>\u001b[0m in \u001b[0;36m<module>\u001b[0;34m()\u001b[0m\n\u001b[1;32m     45\u001b[0m     \u001b[0;32mreturn\u001b[0m \u001b[0mglobal_d_losses\u001b[0m\u001b[0;34m,\u001b[0m \u001b[0mglobal_g_losses\u001b[0m\u001b[0;34m\u001b[0m\u001b[0m\n\u001b[1;32m     46\u001b[0m \u001b[0;34m\u001b[0m\u001b[0m\n\u001b[0;32m---> 47\u001b[0;31m \u001b[0md_losses\u001b[0m\u001b[0;34m,\u001b[0m \u001b[0mg_losses\u001b[0m \u001b[0;34m=\u001b[0m \u001b[0mtrain\u001b[0m\u001b[0;34m(\u001b[0m\u001b[0mtrain_x\u001b[0m\u001b[0;34m,\u001b[0m \u001b[0mtrain_y\u001b[0m\u001b[0;34m,\u001b[0m \u001b[0mtrain_noise\u001b[0m\u001b[0;34m,\u001b[0m \u001b[0mepochs\u001b[0m\u001b[0;34m=\u001b[0m\u001b[0mEPOCH\u001b[0m\u001b[0;34m,\u001b[0m \u001b[0mbatch_size\u001b[0m\u001b[0;34m=\u001b[0m\u001b[0mBATCH_SIZE\u001b[0m\u001b[0;34m)\u001b[0m\u001b[0;34m\u001b[0m\u001b[0m\n\u001b[0m",
      "\u001b[0;32m<ipython-input-11-be19a2799ea0>\u001b[0m in \u001b[0;36mtrain\u001b[0;34m(data_x, data_y, data_n, epochs, batch_size)\u001b[0m\n\u001b[1;32m     23\u001b[0m             \u001b[0;31m# Update the discriminator by ascending tis stochastic gradient\u001b[0m\u001b[0;34m\u001b[0m\u001b[0;34m\u001b[0m\u001b[0m\n\u001b[1;32m     24\u001b[0m             \u001b[0;31m# train_on_batch is like fit function with only just a single minibatch. so it's trained\u001b[0m\u001b[0;34m\u001b[0m\u001b[0;34m\u001b[0m\u001b[0m\n\u001b[0;32m---> 25\u001b[0;31m             \u001b[0md_loss\u001b[0m \u001b[0;34m=\u001b[0m \u001b[0mdiscriminator\u001b[0m\u001b[0;34m.\u001b[0m\u001b[0mtrain_on_batch\u001b[0m\u001b[0;34m(\u001b[0m\u001b[0mcombined_x\u001b[0m\u001b[0;34m,\u001b[0m \u001b[0mcombined_y\u001b[0m\u001b[0;34m)\u001b[0m\u001b[0;34m\u001b[0m\u001b[0m\n\u001b[0m\u001b[1;32m     26\u001b[0m \u001b[0;34m\u001b[0m\u001b[0m\n\u001b[1;32m     27\u001b[0m             \u001b[0;31m# Sample minibatch of m noise samples {z^1, ..., z^m} from noise prior p_g(z)\u001b[0m\u001b[0;34m\u001b[0m\u001b[0;34m\u001b[0m\u001b[0m\n",
      "\u001b[0;32m/usr/local/lib/python3.6/site-packages/keras/models.py\u001b[0m in \u001b[0;36mtrain_on_batch\u001b[0;34m(self, x, y, class_weight, sample_weight)\u001b[0m\n\u001b[1;32m    931\u001b[0m         return self.model.train_on_batch(x, y,\n\u001b[1;32m    932\u001b[0m                                          \u001b[0msample_weight\u001b[0m\u001b[0;34m=\u001b[0m\u001b[0msample_weight\u001b[0m\u001b[0;34m,\u001b[0m\u001b[0;34m\u001b[0m\u001b[0m\n\u001b[0;32m--> 933\u001b[0;31m                                          class_weight=class_weight)\n\u001b[0m\u001b[1;32m    934\u001b[0m \u001b[0;34m\u001b[0m\u001b[0m\n\u001b[1;32m    935\u001b[0m     def test_on_batch(self, x, y,\n",
      "\u001b[0;32m/usr/local/lib/python3.6/site-packages/keras/engine/training.py\u001b[0m in \u001b[0;36mtrain_on_batch\u001b[0;34m(self, x, y, sample_weight, class_weight)\u001b[0m\n\u001b[1;32m   1618\u001b[0m             \u001b[0mins\u001b[0m \u001b[0;34m=\u001b[0m \u001b[0mx\u001b[0m \u001b[0;34m+\u001b[0m \u001b[0my\u001b[0m \u001b[0;34m+\u001b[0m \u001b[0msample_weights\u001b[0m\u001b[0;34m\u001b[0m\u001b[0m\n\u001b[1;32m   1619\u001b[0m         \u001b[0mself\u001b[0m\u001b[0;34m.\u001b[0m\u001b[0m_make_train_function\u001b[0m\u001b[0;34m(\u001b[0m\u001b[0;34m)\u001b[0m\u001b[0;34m\u001b[0m\u001b[0m\n\u001b[0;32m-> 1620\u001b[0;31m         \u001b[0moutputs\u001b[0m \u001b[0;34m=\u001b[0m \u001b[0mself\u001b[0m\u001b[0;34m.\u001b[0m\u001b[0mtrain_function\u001b[0m\u001b[0;34m(\u001b[0m\u001b[0mins\u001b[0m\u001b[0;34m)\u001b[0m\u001b[0;34m\u001b[0m\u001b[0m\n\u001b[0m\u001b[1;32m   1621\u001b[0m         \u001b[0;32mif\u001b[0m \u001b[0mlen\u001b[0m\u001b[0;34m(\u001b[0m\u001b[0moutputs\u001b[0m\u001b[0;34m)\u001b[0m \u001b[0;34m==\u001b[0m \u001b[0;36m1\u001b[0m\u001b[0;34m:\u001b[0m\u001b[0;34m\u001b[0m\u001b[0m\n\u001b[1;32m   1622\u001b[0m             \u001b[0;32mreturn\u001b[0m \u001b[0moutputs\u001b[0m\u001b[0;34m[\u001b[0m\u001b[0;36m0\u001b[0m\u001b[0;34m]\u001b[0m\u001b[0;34m\u001b[0m\u001b[0m\n",
      "\u001b[0;32m/usr/local/lib/python3.6/site-packages/keras/backend/tensorflow_backend.py\u001b[0m in \u001b[0;36m__call__\u001b[0;34m(self, inputs)\u001b[0m\n\u001b[1;32m   2073\u001b[0m         \u001b[0msession\u001b[0m \u001b[0;34m=\u001b[0m \u001b[0mget_session\u001b[0m\u001b[0;34m(\u001b[0m\u001b[0;34m)\u001b[0m\u001b[0;34m\u001b[0m\u001b[0m\n\u001b[1;32m   2074\u001b[0m         updated = session.run(self.outputs + [self.updates_op],\n\u001b[0;32m-> 2075\u001b[0;31m                               feed_dict=feed_dict)\n\u001b[0m\u001b[1;32m   2076\u001b[0m         \u001b[0;32mreturn\u001b[0m \u001b[0mupdated\u001b[0m\u001b[0;34m[\u001b[0m\u001b[0;34m:\u001b[0m\u001b[0mlen\u001b[0m\u001b[0;34m(\u001b[0m\u001b[0mself\u001b[0m\u001b[0;34m.\u001b[0m\u001b[0moutputs\u001b[0m\u001b[0;34m)\u001b[0m\u001b[0;34m]\u001b[0m\u001b[0;34m\u001b[0m\u001b[0m\n\u001b[1;32m   2077\u001b[0m \u001b[0;34m\u001b[0m\u001b[0m\n",
      "\u001b[0;32m/usr/local/lib/python3.6/site-packages/tensorflow/python/client/session.py\u001b[0m in \u001b[0;36mrun\u001b[0;34m(self, fetches, feed_dict, options, run_metadata)\u001b[0m\n\u001b[1;32m    765\u001b[0m     \u001b[0;32mtry\u001b[0m\u001b[0;34m:\u001b[0m\u001b[0;34m\u001b[0m\u001b[0m\n\u001b[1;32m    766\u001b[0m       result = self._run(None, fetches, feed_dict, options_ptr,\n\u001b[0;32m--> 767\u001b[0;31m                          run_metadata_ptr)\n\u001b[0m\u001b[1;32m    768\u001b[0m       \u001b[0;32mif\u001b[0m \u001b[0mrun_metadata\u001b[0m\u001b[0;34m:\u001b[0m\u001b[0;34m\u001b[0m\u001b[0m\n\u001b[1;32m    769\u001b[0m         \u001b[0mproto_data\u001b[0m \u001b[0;34m=\u001b[0m \u001b[0mtf_session\u001b[0m\u001b[0;34m.\u001b[0m\u001b[0mTF_GetBuffer\u001b[0m\u001b[0;34m(\u001b[0m\u001b[0mrun_metadata_ptr\u001b[0m\u001b[0;34m)\u001b[0m\u001b[0;34m\u001b[0m\u001b[0m\n",
      "\u001b[0;32m/usr/local/lib/python3.6/site-packages/tensorflow/python/client/session.py\u001b[0m in \u001b[0;36m_run\u001b[0;34m(self, handle, fetches, feed_dict, options, run_metadata)\u001b[0m\n\u001b[1;32m    963\u001b[0m     \u001b[0;32mif\u001b[0m \u001b[0mfinal_fetches\u001b[0m \u001b[0;32mor\u001b[0m \u001b[0mfinal_targets\u001b[0m\u001b[0;34m:\u001b[0m\u001b[0;34m\u001b[0m\u001b[0m\n\u001b[1;32m    964\u001b[0m       results = self._do_run(handle, final_targets, final_fetches,\n\u001b[0;32m--> 965\u001b[0;31m                              feed_dict_string, options, run_metadata)\n\u001b[0m\u001b[1;32m    966\u001b[0m     \u001b[0;32melse\u001b[0m\u001b[0;34m:\u001b[0m\u001b[0;34m\u001b[0m\u001b[0m\n\u001b[1;32m    967\u001b[0m       \u001b[0mresults\u001b[0m \u001b[0;34m=\u001b[0m \u001b[0;34m[\u001b[0m\u001b[0;34m]\u001b[0m\u001b[0;34m\u001b[0m\u001b[0m\n",
      "\u001b[0;32m/usr/local/lib/python3.6/site-packages/tensorflow/python/client/session.py\u001b[0m in \u001b[0;36m_do_run\u001b[0;34m(self, handle, target_list, fetch_list, feed_dict, options, run_metadata)\u001b[0m\n\u001b[1;32m   1013\u001b[0m     \u001b[0;32mif\u001b[0m \u001b[0mhandle\u001b[0m \u001b[0;32mis\u001b[0m \u001b[0;32mNone\u001b[0m\u001b[0;34m:\u001b[0m\u001b[0;34m\u001b[0m\u001b[0m\n\u001b[1;32m   1014\u001b[0m       return self._do_call(_run_fn, self._session, feed_dict, fetch_list,\n\u001b[0;32m-> 1015\u001b[0;31m                            target_list, options, run_metadata)\n\u001b[0m\u001b[1;32m   1016\u001b[0m     \u001b[0;32melse\u001b[0m\u001b[0;34m:\u001b[0m\u001b[0;34m\u001b[0m\u001b[0m\n\u001b[1;32m   1017\u001b[0m       return self._do_call(_prun_fn, self._session, handle, feed_dict,\n",
      "\u001b[0;32m/usr/local/lib/python3.6/site-packages/tensorflow/python/client/session.py\u001b[0m in \u001b[0;36m_do_call\u001b[0;34m(self, fn, *args)\u001b[0m\n\u001b[1;32m   1020\u001b[0m   \u001b[0;32mdef\u001b[0m \u001b[0m_do_call\u001b[0m\u001b[0;34m(\u001b[0m\u001b[0mself\u001b[0m\u001b[0;34m,\u001b[0m \u001b[0mfn\u001b[0m\u001b[0;34m,\u001b[0m \u001b[0;34m*\u001b[0m\u001b[0margs\u001b[0m\u001b[0;34m)\u001b[0m\u001b[0;34m:\u001b[0m\u001b[0;34m\u001b[0m\u001b[0m\n\u001b[1;32m   1021\u001b[0m     \u001b[0;32mtry\u001b[0m\u001b[0;34m:\u001b[0m\u001b[0;34m\u001b[0m\u001b[0m\n\u001b[0;32m-> 1022\u001b[0;31m       \u001b[0;32mreturn\u001b[0m \u001b[0mfn\u001b[0m\u001b[0;34m(\u001b[0m\u001b[0;34m*\u001b[0m\u001b[0margs\u001b[0m\u001b[0;34m)\u001b[0m\u001b[0;34m\u001b[0m\u001b[0m\n\u001b[0m\u001b[1;32m   1023\u001b[0m     \u001b[0;32mexcept\u001b[0m \u001b[0merrors\u001b[0m\u001b[0;34m.\u001b[0m\u001b[0mOpError\u001b[0m \u001b[0;32mas\u001b[0m \u001b[0me\u001b[0m\u001b[0;34m:\u001b[0m\u001b[0;34m\u001b[0m\u001b[0m\n\u001b[1;32m   1024\u001b[0m       \u001b[0mmessage\u001b[0m \u001b[0;34m=\u001b[0m \u001b[0mcompat\u001b[0m\u001b[0;34m.\u001b[0m\u001b[0mas_text\u001b[0m\u001b[0;34m(\u001b[0m\u001b[0me\u001b[0m\u001b[0;34m.\u001b[0m\u001b[0mmessage\u001b[0m\u001b[0;34m)\u001b[0m\u001b[0;34m\u001b[0m\u001b[0m\n",
      "\u001b[0;32m/usr/local/lib/python3.6/site-packages/tensorflow/python/client/session.py\u001b[0m in \u001b[0;36m_run_fn\u001b[0;34m(session, feed_dict, fetch_list, target_list, options, run_metadata)\u001b[0m\n\u001b[1;32m   1002\u001b[0m         return tf_session.TF_Run(session, options,\n\u001b[1;32m   1003\u001b[0m                                  \u001b[0mfeed_dict\u001b[0m\u001b[0;34m,\u001b[0m \u001b[0mfetch_list\u001b[0m\u001b[0;34m,\u001b[0m \u001b[0mtarget_list\u001b[0m\u001b[0;34m,\u001b[0m\u001b[0;34m\u001b[0m\u001b[0m\n\u001b[0;32m-> 1004\u001b[0;31m                                  status, run_metadata)\n\u001b[0m\u001b[1;32m   1005\u001b[0m \u001b[0;34m\u001b[0m\u001b[0m\n\u001b[1;32m   1006\u001b[0m     \u001b[0;32mdef\u001b[0m \u001b[0m_prun_fn\u001b[0m\u001b[0;34m(\u001b[0m\u001b[0msession\u001b[0m\u001b[0;34m,\u001b[0m \u001b[0mhandle\u001b[0m\u001b[0;34m,\u001b[0m \u001b[0mfeed_dict\u001b[0m\u001b[0;34m,\u001b[0m \u001b[0mfetch_list\u001b[0m\u001b[0;34m)\u001b[0m\u001b[0;34m:\u001b[0m\u001b[0;34m\u001b[0m\u001b[0m\n",
      "\u001b[0;31mKeyboardInterrupt\u001b[0m: "
     ]
    }
   ],
   "source": [
    "BATCH_SIZE = 128\n",
    "EPOCH=300\n",
    "\n",
    "def train(data_x, data_y, data_n, epochs=10, batch_size=128):\n",
    "    N = train_x.shape[0]\n",
    "    \n",
    "    global_d_losses = []\n",
    "    global_g_losses = []\n",
    "    \n",
    "    for epoch in range(epochs):\n",
    "        data_x, data_y, data_n = shuffle(data_x, data_y, data_n)\n",
    "        d_losses = []\n",
    "        g_losses = []\n",
    "        for step in range(0, N-BATCH_SIZE, BATCH_SIZE):\n",
    "            # sample_noise: Sample minibatch of m(BATCH_SIZE) noise samples {z^1, ..., z^m} from noise prior p_g(z)\n",
    "            # sample_x: Sample minibatch of m examples {x^1, ..., x^m} from data generating distribution\n",
    "            sample_x, sample_y, sample_noise = next_batch(data_x, data_y, data_n, step, batch_size=batch_size)\n",
    "\n",
    "            # combine true images and generated images for training discriminator\n",
    "            generated_images = generator.predict(sample_noise)\n",
    "            combined_x, combined_y = concatenate_images(sample_x, generated_images)\n",
    "\n",
    "            # Update the discriminator by ascending tis stochastic gradient\n",
    "            # train_on_batch is like fit function with only just a single minibatch. so it's trained\n",
    "            d_loss = discriminator.train_on_batch(combined_x, combined_y)\n",
    "\n",
    "            # Sample minibatch of m noise samples {z^1, ..., z^m} from noise prior p_g(z)\n",
    "            noise_x, noise_y = next_noise_batch(data_n, step, batch_size=batch_size)\n",
    "\n",
    "            # Update the generator by descending its stochastic gradient\n",
    "            g_loss = gan.train_on_batch(noise_x, noise_y)\n",
    "\n",
    "            d_losses.append(d_loss)\n",
    "            g_losses.append(g_loss)\n",
    "            global_d_losses.append(d_loss)\n",
    "            global_g_losses.append(g_loss)\n",
    "\n",
    "        _dl = np.array(d_losses)\n",
    "        _gl = np.array(g_losses)\n",
    "        print(f'[{epoch}]', 'd loss:', _dl.mean(), ', g loss:', _gl.mean())\n",
    "#     plot(global_d_losses, label='dicriminator')\n",
    "    plot(global_g_losses, label='generator')\n",
    "    legend()\n",
    "    \n",
    "    return global_d_losses, global_g_losses\n",
    "            \n",
    "d_losses, g_losses = train(train_x, train_y, train_noise, epochs=EPOCH, batch_size=BATCH_SIZE)\n"
   ]
  },
  {
   "cell_type": "code",
   "execution_count": null,
   "metadata": {
    "collapsed": false
   },
   "outputs": [],
   "source": [
    "plot(g_losses[20:])"
   ]
  },
  {
   "cell_type": "code",
   "execution_count": null,
   "metadata": {
    "collapsed": false
   },
   "outputs": [],
   "source": [
    "noise_x, noise_y = next_noise_batch(test_noise, 1)\n",
    "\n",
    "d = generator.predict(noise_x)\n",
    "display_image(d[np.random.randint(250)])"
   ]
  },
  {
   "cell_type": "markdown",
   "metadata": {},
   "source": [
    "## Discriminator Accuracy"
   ]
  },
  {
   "cell_type": "code",
   "execution_count": null,
   "metadata": {
    "collapsed": false
   },
   "outputs": [],
   "source": [
    "N = test_x.shape[0]\n",
    "generated_images = generator.predict(test_noise)\n",
    "_combined_x = np.concatenate((test_x, generated_images))\n",
    "y_true = np.zeros((_combined_x.shape[0], 2))\n",
    "y_true[:N, 0] = 1\n",
    "y_true[N:, 1] = 1\n",
    "\n",
    "y_pred = discriminator.predict(_combined_x)\n",
    "\n",
    "y_true = np.argmax(y_true, axis=1)\n",
    "y_pred = np.argmax(y_pred, axis=1)\n",
    "\n",
    "discriminator_accuracy = accuracy_score(y_true, y_pred)\n",
    "print(f\"Discriminator's Accuracy Score: {discriminator_accuracy}\" )"
   ]
  },
  {
   "cell_type": "code",
   "execution_count": null,
   "metadata": {
    "collapsed": false
   },
   "outputs": [],
   "source": [
    "print('REAL IMAGES')\n",
    "print(np.argmax(discriminator.predict(test_x[0:20]), axis=1))\n",
    "print()\n",
    "\n",
    "noise_x, noise_y = next_noise_batch(test_noise, np.random.randint(1000))\n",
    "d = generator.predict(noise_x[:20])\n",
    "\n",
    "print('Generated Images')\n",
    "print(np.argmax(discriminator.predict(d[0:20]), axis=1))"
   ]
  }
 ],
 "metadata": {
  "kernelspec": {
   "display_name": "Python 3",
   "language": "python",
   "name": "python3"
  },
  "language_info": {
   "codemirror_mode": {
    "name": "ipython",
    "version": 3
   },
   "file_extension": ".py",
   "mimetype": "text/x-python",
   "name": "python",
   "nbconvert_exporter": "python",
   "pygments_lexer": "ipython3",
   "version": "3.6.0"
  }
 },
 "nbformat": 4,
 "nbformat_minor": 2
}
