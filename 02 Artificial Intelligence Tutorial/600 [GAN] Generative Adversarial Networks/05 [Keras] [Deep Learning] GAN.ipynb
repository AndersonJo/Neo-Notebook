{
 "cells": [
  {
   "cell_type": "code",
   "execution_count": 1,
   "metadata": {
    "collapsed": false
   },
   "outputs": [
    {
     "name": "stdout",
     "output_type": "stream",
     "text": [
      "Populating the interactive namespace from numpy and matplotlib\n"
     ]
    },
    {
     "name": "stderr",
     "output_type": "stream",
     "text": [
      "Using TensorFlow backend.\n"
     ]
    }
   ],
   "source": [
    "%pylab inline\n",
    "\n",
    "import numpy as np\n",
    "import tensorflow as tf\n",
    "\n",
    "\n",
    "from keras.models import Input, Sequential, Model\n",
    "from keras.layers import Dense, BatchNormalization, Layer, Activation, Reshape, Dropout, LeakyReLU\n",
    "from keras.datasets.mnist import load_data\n",
    "from keras.utils import np_utils\n",
    "from keras.losses import categorical_crossentropy\n",
    "from keras import backend as K\n",
    "\n",
    "from sklearn.metrics import accuracy_score\n",
    "\n",
    "from tqdm import tqdm"
   ]
  },
  {
   "cell_type": "code",
   "execution_count": 2,
   "metadata": {
    "collapsed": false
   },
   "outputs": [],
   "source": [
    "gpu_options = tf.GPUOptions(per_process_gpu_memory_fraction=0.4, allow_growth=True)\n",
    "sess = tf.InteractiveSession(config=tf.ConfigProto(gpu_options=gpu_options))\n",
    "K.set_session(sess)"
   ]
  },
  {
   "cell_type": "markdown",
   "metadata": {},
   "source": [
    "## Data"
   ]
  },
  {
   "cell_type": "code",
   "execution_count": 3,
   "metadata": {
    "collapsed": false
   },
   "outputs": [
    {
     "name": "stdout",
     "output_type": "stream",
     "text": [
      "train_x: (60000, 784)\n",
      "train_y: (60000, 10)\n",
      "train_noise: (60000, 100)\n",
      "test_x: (10000, 784)\n",
      "test_y: (10000, 10)\n",
      "test_noise: (10000, 100)\n"
     ]
    }
   ],
   "source": [
    "(train_x, train_y), (test_x, test_y) = load_data()\n",
    "\n",
    "train_noise = np.random.normal(0, 1, size=(train_x.shape[0], 100))\n",
    "test_noise = np.random.normal(0, 1, size=(test_x.shape[0], 100))\n",
    "\n",
    "train_x = train_x.reshape((-1, 784))\n",
    "test_x = test_x.reshape((-1, 784))\n",
    "train_x = train_x/255.\n",
    "test_x = test_x/255.\n",
    "\n",
    "train_y = np_utils.to_categorical(train_y)\n",
    "test_y = np_utils.to_categorical(test_y)\n",
    "\n",
    "print('train_x:', train_x.shape)\n",
    "print('train_y:', train_y.shape)\n",
    "print('train_noise:', train_noise.shape)\n",
    "print('test_x:', test_x.shape)\n",
    "print('test_y:', test_y.shape)\n",
    "print('test_noise:', test_noise.shape)"
   ]
  },
  {
   "cell_type": "markdown",
   "metadata": {},
   "source": [
    "## Tools"
   ]
  },
  {
   "cell_type": "code",
   "execution_count": 4,
   "metadata": {
    "collapsed": false
   },
   "outputs": [],
   "source": [
    "def make_trainable(model, trainable: bool):\n",
    "    model.trainable = trainable\n",
    "    for layer in model.layers:\n",
    "        layer.trainable = trainable\n",
    "\n",
    "def display_image(image):\n",
    "    display(imshow(image.reshape((28, 28))*255, cmap='gray'))\n",
    "    \n",
    "def _to_tensor(x, dtype):\n",
    "    x = tf.convert_to_tensor(x)\n",
    "    if x.dtype != dtype:\n",
    "        x = tf.cast(x, dtype)\n",
    "    return x"
   ]
  },
  {
   "cell_type": "markdown",
   "metadata": {},
   "source": [
    "## Model\n",
    "\n",
    "### Generator Model"
   ]
  },
  {
   "cell_type": "code",
   "execution_count": 36,
   "metadata": {
    "collapsed": false,
    "scrolled": false
   },
   "outputs": [
    {
     "name": "stdout",
     "output_type": "stream",
     "text": [
      "_________________________________________________________________\n",
      "Layer (type)                 Output Shape              Param #   \n",
      "=================================================================\n",
      "g_layer_01 (Dense)           (None, 196)               19796     \n",
      "_________________________________________________________________\n",
      "activation_6 (Activation)    (None, 196)               0         \n",
      "_________________________________________________________________\n",
      "dense_7 (Dense)              (None, 289)               56933     \n",
      "_________________________________________________________________\n",
      "activation_7 (Activation)    (None, 289)               0         \n",
      "_________________________________________________________________\n",
      "dense_8 (Dense)              (None, 441)               127890    \n",
      "_________________________________________________________________\n",
      "activation_8 (Activation)    (None, 441)               0         \n",
      "_________________________________________________________________\n",
      "dense_9 (Dense)              (None, 784)               346528    \n",
      "_________________________________________________________________\n",
      "activation_9 (Activation)    (None, 784)               0         \n",
      "=================================================================\n",
      "Total params: 551,147.0\n",
      "Trainable params: 551,147.0\n",
      "Non-trainable params: 0.0\n",
      "_________________________________________________________________\n"
     ]
    }
   ],
   "source": [
    "# Generator Model \n",
    "def create_generator_model(loss='categorical_crossentropy'):\n",
    "    generator = Sequential(name='Generator')\n",
    "    generator.add(Dense(196, batch_input_shape=(None, 100), name='g_layer_01'))\n",
    "#     generator.add(BatchNormalization())\n",
    "    generator.add(Activation('sigmoid'))\n",
    "\n",
    "    generator.add(Dense(289))\n",
    "#     generator.add(BatchNormalization())\n",
    "    generator.add(Activation('sigmoid'))\n",
    "\n",
    "    generator.add(Dense(441))\n",
    "#     generator.add(BatchNormalization())\n",
    "    generator.add(Activation('sigmoid'))\n",
    "    \n",
    "    generator.add(Dense(784))\n",
    "#     generator.add(BatchNormalization())\n",
    "    generator.add(Activation('sigmoid'))\n",
    "\n",
    "    generator.compile(loss=loss, optimizer='adam')\n",
    "    return generator\n",
    "\n",
    "generator = create_generator_model()\n",
    "generator.summary()"
   ]
  },
  {
   "cell_type": "markdown",
   "metadata": {},
   "source": [
    "### Discriminator Model"
   ]
  },
  {
   "cell_type": "code",
   "execution_count": 37,
   "metadata": {
    "collapsed": false
   },
   "outputs": [
    {
     "name": "stdout",
     "output_type": "stream",
     "text": [
      "discriminator loss\n",
      "_________________________________________________________________\n",
      "Layer (type)                 Output Shape              Param #   \n",
      "=================================================================\n",
      "d_layer_01 (Dense)           (None, 784)               615440    \n",
      "_________________________________________________________________\n",
      "leaky_re_lu_4 (LeakyReLU)    (None, 784)               0         \n",
      "_________________________________________________________________\n",
      "dense_10 (Dense)             (None, 441)               346185    \n",
      "_________________________________________________________________\n",
      "leaky_re_lu_5 (LeakyReLU)    (None, 441)               0         \n",
      "_________________________________________________________________\n",
      "dense_11 (Dense)             (None, 289)               127738    \n",
      "_________________________________________________________________\n",
      "leaky_re_lu_6 (LeakyReLU)    (None, 289)               0         \n",
      "_________________________________________________________________\n",
      "dense_12 (Dense)             (None, 2)                 580       \n",
      "_________________________________________________________________\n",
      "activation_10 (Activation)   (None, 2)                 0         \n",
      "=================================================================\n",
      "Total params: 1,089,943.0\n",
      "Trainable params: 1,089,943.0\n",
      "Non-trainable params: 0.0\n",
      "_________________________________________________________________\n"
     ]
    }
   ],
   "source": [
    "def custom_binary_crossentropy(y_true, y_pred):\n",
    "    print('discriminator loss')\n",
    "    epsilon = _to_tensor( 10e-8, y_pred.dtype.base_dtype)\n",
    "    y_pred = tf.clip_by_value(y_pred, epsilon, 1 - epsilon)\n",
    "    return - y_true * K.log(y_pred) - (1 - y_true) * K.log(1-y_pred)\n",
    "\n",
    "def create_discriminator_model(loss='binary_crossentropy'):\n",
    "    discriminator = Sequential(name='Discriminator')\n",
    "    discriminator.add(Dense(784, batch_input_shape=(None, 784), name='d_layer_01'))\n",
    "#     discriminator.add(Dropout(0.2))\n",
    "    discriminator.add(LeakyReLU())\n",
    "\n",
    "    discriminator.add(Dense(441))\n",
    "#     discriminator.add(Dropout(0.2))\n",
    "    discriminator.add(LeakyReLU())\n",
    "\n",
    "    discriminator.add(Dense(289))\n",
    "#     discriminator.add(Dropout(0.2))\n",
    "    discriminator.add(LeakyReLU())\n",
    "\n",
    "    discriminator.add(Dense(2))\n",
    "#     discriminator.add(Dropout(0.2))\n",
    "    discriminator.add(Activation('sigmoid'))\n",
    "    discriminator.compile(loss=loss, optimizer='adam')\n",
    "    return discriminator\n",
    "\n",
    "discriminator = create_discriminator_model(loss=custom_binary_crossentropy)\n",
    "discriminator.summary()"
   ]
  },
  {
   "cell_type": "markdown",
   "metadata": {},
   "source": [
    "### GAN Model\n",
    "\n",
    "gan model 변수는 generator를 trainining 하기 위한 모델입니다. <br>\n",
    "generator를 거쳐 generated images가 만들어지면, discriminator가 \n"
   ]
  },
  {
   "cell_type": "code",
   "execution_count": 124,
   "metadata": {
    "collapsed": false
   },
   "outputs": [
    {
     "name": "stdout",
     "output_type": "stream",
     "text": [
      "_________________________________________________________________\n",
      "Layer (type)                 Output Shape              Param #   \n",
      "=================================================================\n",
      "Generator (Sequential)       (None, 784)               551147    \n",
      "_________________________________________________________________\n",
      "Discriminator (Sequential)   (None, 2)                 1089943   \n",
      "=================================================================\n",
      "Total params: 1,641,090.0\n",
      "Trainable params: 1,641,090.0\n",
      "Non-trainable params: 0.0\n",
      "_________________________________________________________________\n"
     ]
    }
   ],
   "source": [
    "def minigame_loss(y_true, y_pred):\n",
    "    return - categorical_crossentropy(y_true, y_pred)\n",
    "\n",
    "def heuristic_loss(y_true, y_pred):\n",
    "    # 실제로는 cross entropy\n",
    "    epsilon = _to_tensor( 10e-8, y_pred.dtype.base_dtype)\n",
    "    y_pred = tf.clip_by_value(y_pred, epsilon, 1 - epsilon)\n",
    "    return - y_true * K.log(y_pred)\n",
    "\n",
    "def maximum_likelihood(y_true, y_pred):\n",
    "    return y_true * K.exp()\n",
    "\n",
    "\n",
    "def create_gan_model(generator, discriminator, loss='categorical_crossentropy'):\n",
    "    gan = Sequential()\n",
    "    gan.add(generator)\n",
    "    discriminator.trainable = False\n",
    "    gan.add(discriminator)\n",
    "    gan.compile(loss=loss, optimizer='adam')\n",
    "    return gan\n",
    "\n",
    "gan = create_gan_model(generator, discriminator)\n",
    "gan.summary()"
   ]
  },
  {
   "cell_type": "code",
   "execution_count": 138,
   "metadata": {
    "collapsed": false
   },
   "outputs": [
    {
     "data": {
      "text/plain": [
       "1.192093e-07"
      ]
     },
     "execution_count": 138,
     "metadata": {},
     "output_type": "execute_result"
    }
   ],
   "source": [
    "noise_x, noise_y = next_noise_batch(test_noise, 1)\n",
    "gan.train_on_batch(noise_x[0:1], noise_y[0:1])\n"
   ]
  },
  {
   "cell_type": "markdown",
   "metadata": {},
   "source": [
    "## Train"
   ]
  },
  {
   "cell_type": "code",
   "execution_count": 10,
   "metadata": {
    "collapsed": false
   },
   "outputs": [],
   "source": [
    "def next_batch(x, y, noise, idx, batch_size=250):\n",
    "    return x[idx: idx+batch_size], y[idx: idx+batch_size], noise[idx: idx+batch_size]\n",
    "\n",
    "def next_noise_batch(noise, idx, batch_size=250):    \n",
    "    y = np.zeros((batch_size, 2))\n",
    "    y[:, 1] = 1    \n",
    "    return noise[idx: idx+batch_size], y\n",
    "\n",
    "def shuffle(x, y, n):\n",
    "    N = x.shape[0]\n",
    "    permu = np.random.permutation(N)\n",
    "    x = x[permu]\n",
    "    y = y[permu]\n",
    "    n = n[permu]\n",
    "    return x, y, n\n",
    "\n",
    "def concatenate_images(true_images, generated_images):\n",
    "    n_true = true_images.shape[0]\n",
    "    combined_x = np.concatenate((true_images, generated_images))\n",
    "    combined_y = np.zeros((combined_x.shape[0], 2))\n",
    "    combined_y[:n_true, 0] = 1 # True Images [1, 0]\n",
    "    combined_y[n_true:, 1] = 1 # Generated Images [0, 1]\n",
    "    \n",
    "    return combined_x, combined_y\n"
   ]
  },
  {
   "cell_type": "code",
   "execution_count": 126,
   "metadata": {
    "collapsed": false,
    "scrolled": false
   },
   "outputs": [
    {
     "name": "stdout",
     "output_type": "stream",
     "text": [
      "[0] d loss: 0.00828428 , g loss: 0.000930867\n",
      "[1] d loss: 1.36684e-07 , g loss: 1.19209e-07\n",
      "[2] d loss: 1.36213e-07 , g loss: 1.19209e-07\n"
     ]
    },
    {
     "data": {
      "image/png": "[encoded data removed]",
      "text/plain": [
       "<matplotlib.figure.Figure at 0x7fadb45ca9b0>"
      ]
     },
     "metadata": {},
     "output_type": "display_data"
    }
   ],
   "source": [
    "BATCH_SIZE = 128\n",
    "EPOCH=300\n",
    "\n",
    "def train(data_x, data_y, data_n, epochs=10, batch_size=128):\n",
    "    N = train_x.shape[0]\n",
    "    \n",
    "    global_d_losses = []\n",
    "    global_g_losses = []\n",
    "    \n",
    "    for epoch in range(epochs):\n",
    "        data_x, data_y, data_n = shuffle(data_x, data_y, data_n)\n",
    "        d_losses = []\n",
    "        g_losses = []\n",
    "        for step in range(0, N-BATCH_SIZE, BATCH_SIZE):\n",
    "            # sample_noise: Sample minibatch of m(BATCH_SIZE) noise samples {z^1, ..., z^m} from noise prior p_g(z)\n",
    "            # sample_x: Sample minibatch of m examples {x^1, ..., x^m} from data generating distribution\n",
    "            sample_x, sample_y, sample_noise = next_batch(data_x, data_y, data_n, step, batch_size=batch_size)\n",
    "\n",
    "            # combine true images and generated images for training discriminator\n",
    "            generated_images = generator.predict(sample_noise)\n",
    "            combined_x, combined_y = concatenate_images(sample_x, generated_images)\n",
    "\n",
    "            # Update the discriminator by ascending tis stochastic gradient\n",
    "            # train_on_batch is like fit function with only just a single minibatch. so it's trained\n",
    "            d_loss = discriminator.train_on_batch(combined_x, combined_y)\n",
    "\n",
    "            # Sample minibatch of m noise samples {z^1, ..., z^m} from noise prior p_g(z)\n",
    "            noise_x, noise_y = next_noise_batch(data_n, step, batch_size=batch_size)\n",
    "\n",
    "            # Update the generator by descending its stochastic gradient\n",
    "            g_loss = gan.train_on_batch(noise_x, noise_y)\n",
    "\n",
    "            d_losses.append(d_loss)\n",
    "            g_losses.append(g_loss)\n",
    "            global_d_losses.append(d_loss)\n",
    "            global_g_losses.append(g_loss)\n",
    "\n",
    "        _dl = np.array(d_losses)\n",
    "        _gl = np.array(g_losses)\n",
    "        print(f'[{epoch}]', 'd loss:', _dl.mean(), ', g loss:', _gl.mean())\n",
    "#     plot(global_d_losses, label='dicriminator')\n",
    "    plot(global_g_losses, label='generator')\n",
    "    legend()\n",
    "    \n",
    "    return global_d_losses, global_g_losses\n",
    "            \n",
    "d_losses, g_losses = train(train_x, train_y, train_noise, epochs=EPOCH, batch_size=BATCH_SIZE)\n"
   ]
  },
  {
   "cell_type": "code",
   "execution_count": 11,
   "metadata": {
    "collapsed": false
   },
   "outputs": [
    {
     "data": {
      "text/plain": [
       "[<matplotlib.lines.Line2D at 0x7f8c400cb7f0>]"
      ]
     },
     "execution_count": 11,
     "metadata": {},
     "output_type": "execute_result"
    },
    {
     "data": {
      "image/png": "[encoded data removed]",
      "text/plain": [
       "<matplotlib.figure.Figure at 0x7f8ca8142860>"
      ]
     },
     "metadata": {},
     "output_type": "display_data"
    }
   ],
   "source": [
    "plot(g_losses[20:])"
   ]
  },
  {
   "cell_type": "code",
   "execution_count": 22,
   "metadata": {
    "collapsed": false
   },
   "outputs": [
    {
     "data": {
      "text/plain": [
       "<matplotlib.image.AxesImage at 0x7fae0c0e1128>"
      ]
     },
     "metadata": {},
     "output_type": "display_data"
    },
    {
     "data": {
      "image/png": "[encoded data removed]",
      "text/plain": [
       "<matplotlib.figure.Figure at 0x7fae0c1b5080>"
      ]
     },
     "metadata": {},
     "output_type": "display_data"
    }
   ],
   "source": [
    "noise_x, noise_y = next_noise_batch(test_noise, 1)\n",
    "\n",
    "d = generator.predict(noise_x)\n",
    "display_image(d[np.random.randint(250)])"
   ]
  },
  {
   "cell_type": "markdown",
   "metadata": {},
   "source": [
    "## Discriminator Accuracy"
   ]
  },
  {
   "cell_type": "code",
   "execution_count": 40,
   "metadata": {
    "collapsed": false
   },
   "outputs": [
    {
     "name": "stdout",
     "output_type": "stream",
     "text": [
      "Discriminator's Accuracy Score: 0.46715\n"
     ]
    }
   ],
   "source": [
    "N = test_x.shape[0]\n",
    "generated_images = generator.predict(test_noise)\n",
    "_combined_x = np.concatenate((test_x, generated_images))\n",
    "y_true = np.zeros((_combined_x.shape[0], 2))\n",
    "y_true[:N, 0] = 1\n",
    "y_true[N:, 1] = 1\n",
    "\n",
    "y_pred = discriminator.predict(_combined_x)\n",
    "\n",
    "y_true = np.argmax(y_true, axis=1)\n",
    "y_pred = np.argmax(y_pred, axis=1)\n",
    "\n",
    "discriminator_accuracy = accuracy_score(y_true, y_pred)\n",
    "print(f\"Discriminator's Accuracy Score: {discriminator_accuracy}\" )"
   ]
  },
  {
   "cell_type": "code",
   "execution_count": 39,
   "metadata": {
    "collapsed": false
   },
   "outputs": [
    {
     "name": "stdout",
     "output_type": "stream",
     "text": [
      "REAL IMAGES\n",
      "[0 0 0 0 0 0 0 0 0 0 0 0 0 0 0 0 0 0 0 0]\n",
      "\n",
      "Generated Images\n",
      "[0 0 0 0 0 0 0 0 0 0 0 0 0 0 0 0 0 0 0 0]\n"
     ]
    }
   ],
   "source": [
    "print('REAL IMAGES')\n",
    "print(np.argmax(discriminator.predict(test_x[0:20]), axis=1))\n",
    "print()\n",
    "\n",
    "noise_x, noise_y = next_noise_batch(test_noise, np.random.randint(1000))\n",
    "d = generator.predict(noise_x[:20])\n",
    "\n",
    "print('Generated Images')\n",
    "print(np.argmax(discriminator.predict(d[0:20]), axis=1))"
   ]
  }
 ],
 "metadata": {
  "kernelspec": {
   "display_name": "Python 3",
   "language": "python",
   "name": "python3"
  },
  "language_info": {
   "codemirror_mode": {
    "name": "ipython",
    "version": 3
   },
   "file_extension": ".py",
   "mimetype": "text/x-python",
   "name": "python",
   "nbconvert_exporter": "python",
   "pygments_lexer": "ipython3",
   "version": "3.6.0"
  }
 },
 "nbformat": 4,
 "nbformat_minor": 2
}
