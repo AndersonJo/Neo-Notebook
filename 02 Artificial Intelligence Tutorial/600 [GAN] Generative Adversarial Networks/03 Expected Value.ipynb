{
 "cells": [
  {
   "cell_type": "markdown",
   "metadata": {},
   "source": [
    "# Expected Value \n",
    "\n",
    "expected value of a random variable 은 17세기 도박에서부터 만들어졌으며, <br>\n",
    "내가 이 게임을 계속 하게 된다면 평균적으로 얼마나 얻거나 또는 잃을것인가에 대한 질문같은 의문에서 시작을 하였습니다. <br>\n",
    "예를 들어서 $ \\frac{1}{2} $ 의 확률로 2\\$를 얻거나, $ \\frac{1}{2} $ 의 확률로 1달러를 잃는다면 다음과 같은 expected value를 얻을 수 있습니다.\n",
    "\n",
    "$$ 2$ \\cdot \\frac{1}{2} + (-1$) \\cdot \\frac{1}{2} = \\frac{1}{2}$ $$\n",
    "\n",
    "즉 게임을 한번 할때마다 1/2$를 얻는다는 뜻이고, 100번의 게임을 하면 50번은 이기고 50번은 진다는 뜻입니다.\n",
    "\n",
    "$$ \\frac{2$ \\cdot 50 + (-1$) \\cdot 50}{100} = \\frac{1}{2}$ $$"
   ]
  },
  {
   "cell_type": "markdown",
   "metadata": {},
   "source": [
    "## \n",
    "\n",
    "주사위에 대한 sample sapce 는 다음과 같습니다. \n",
    "\n",
    "$$ \\Omega = \\{1, 2, 3, 4, 5, 6\\} $$\n",
    "\n",
    "$ X $를 자사위의 값이라고 한며, 주사위가 던졌을 때 fair하게 나와 준다면 다음과 같은 probability model을 세울수 있습니다.<br>\n",
    "각각의 outcome $ w $ 그리고 expected value 에 대한.. \n",
    "\n",
    "$$ P\\{w\\} = 1 \\cdot \\frac{1}{6} + 2 \\cdot \\frac{1}{6} + 3 \\cdot \\frac{1}{6} + 4 \\cdot \\frac{1}{6} + 5 \\cdot \\frac{1}{6} + 6 \\cdot \\frac{1}{6} $$\n",
    "\n",
    "주사위 값의 확률이 unfair라면.. 예를 들어.. $ P\\{1\\} = P\\{2\\} = P\\{3\\} = \\frac{1}{4} $ 이고  $ P\\{4\\} = P\\{5\\} = P\\{6\\} = \\frac{1}{12} $ 이라면 \n"
   ]
  },
  {
   "cell_type": "markdown",
   "metadata": {},
   "source": [
    "## 비공식적인 Definition\n",
    "\n",
    "> Definition (informal) The expected value of a random variable  X is the weighted average of the values that  X can take on, where each possible value is weighted by its respective probability.\n",
    "\n",
    "Random variable $ X $에 대한 expected value는 $ E[X]$ 이렇게 표기를 하며, expectation of $ X $ 또는 mean of $ X $로 부릅니다. (말로 표현할때..) \n",
    "\n"
   ]
  },
  {
   "cell_type": "markdown",
   "metadata": {},
   "source": [
    "## Expected value of a discrete random variable\n",
    "\n"
   ]
  }
 ],
 "metadata": {
  "kernelspec": {
   "display_name": "Python 3",
   "language": "python",
   "name": "python3"
  },
  "language_info": {
   "codemirror_mode": {
    "name": "ipython",
    "version": 3
   },
   "file_extension": ".py",
   "mimetype": "text/x-python",
   "name": "python",
   "nbconvert_exporter": "python",
   "pygments_lexer": "ipython3",
   "version": "3.6.0"
  }
 },
 "nbformat": 4,
 "nbformat_minor": 2
}
