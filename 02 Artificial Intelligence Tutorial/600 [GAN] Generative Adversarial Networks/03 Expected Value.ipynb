{
 "cells": [
  {
   "cell_type": "markdown",
   "metadata": {
    "deletable": true,
    "editable": true
   },
   "source": [
    "# Expected Value \n",
    "\n",
    "expected value of a random variable 은 17세기 도박에서부터 만들어졌으며, <br>\n",
    "내가 이 게임을 계속 하게 된다면 평균적으로 얼마나 얻거나 또는 잃을것인가에 대한 질문같은 의문에서 시작을 하였습니다."
   ]
  },
  {
   "cell_type": "markdown",
   "metadata": {},
   "source": [
    "## Expected Value of a Discrete Random Variable\n",
    "\n",
    "$$ E[X] = \\sum^N_{i=1} f(i) \\sigma(i) $$ \n",
    "\n",
    "* $ f(i) $: $ i^{th} $ 번째의 결과값 (outcome)\n",
    "* $ \\sigma(i) $: $ i^{th} $ 번째의 확률값 (probability)\n",
    "* 실질적으로 weighted average와 동일\n",
    "\n",
    "$ \\sigma(i) $ 는 다음과 같은 조건을 갖습니다.\n",
    "\n",
    "$$ \\sigma(i) \\ge 0,\\ \\sum_i \\sigma(i) = 1 $$\n",
    "\n"
   ]
  },
  {
   "cell_type": "markdown",
   "metadata": {},
   "source": [
    "예를 들어서 주사위를 던져서 1이 나오면 2\\$를 얻고, 6이 나오면 1\\$를 얻습니다. <br>\n",
    "그외의 값은 1\\$를 잃습니다.\n",
    "\n",
    "| X | +2\\$ | +1\\$ | -$1 |\n",
    "|:--|:----:|:----:|:---:|\n",
    "| probability | 1/6 | 1/6 | 4/6 |\n",
    "\n",
    "$$ E[X] = 2\\$ \\cdot \\frac{1}{6} + 1\\$ \\cdot \\frac{1}{6} + (-1\\$) \\cdot \\frac{4}{6} = -0.17\\$ $$\n",
    "\n",
    "위의 게임을 여러번하게되면, 평균적으로 0.17\\$ 를 잃게 된다는 것입니다."
   ]
  }
 ],
 "metadata": {
  "kernelspec": {
   "display_name": "Python 3",
   "language": "python",
   "name": "python3"
  },
  "language_info": {
   "codemirror_mode": {
    "name": "ipython",
    "version": 3
   },
   "file_extension": ".py",
   "mimetype": "text/x-python",
   "name": "python",
   "nbconvert_exporter": "python",
   "pygments_lexer": "ipython3",
   "version": "3.6.0"
  }
 },
 "nbformat": 4,
 "nbformat_minor": 2
}
