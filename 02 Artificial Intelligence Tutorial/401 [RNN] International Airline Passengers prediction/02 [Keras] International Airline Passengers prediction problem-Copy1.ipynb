{
 "cells": [
  {
   "cell_type": "markdown",
   "metadata": {
    "deletable": true,
    "editable": true
   },
   "source": [
    "# Long Short-Term Memory Network with Keras\n",
    "\n",
    "LSTM은 Backpropagation Through Time (BPTT)를 통해서 학습을 하며, vanishing gradient problem을 극복합니다.<br>\n",
    "일반적인 Deep Learning에서 사용하는 Neurons들은 없고, layers들로 연결된 Memory Block을 갖고 있습니다. \n",
    "\n",
    "Block은 gates의 요소를 갖고 있으며, Gates는 block의 state를 관리하게 됩니다.<br>\n",
    "일반적으로 다음과 같은 gates를 갖고 있습니다.\n",
    "\n",
    "* Forget Gate: 어떤 정보를 버릴지 정합니다.\n",
    "* Input Gate: Input 데이터에서 어떤 값들을 memory state에 업데이트할지 결정합니다.\n",
    "* Output Gate: Input값과 memory block에 기초하여 어떤 결과값(output)을 낼지 결정합니다.\n"
   ]
  },
  {
   "cell_type": "code",
   "execution_count": 1,
   "metadata": {
    "collapsed": false,
    "deletable": true,
    "editable": true
   },
   "outputs": [
    {
     "name": "stdout",
     "output_type": "stream",
     "text": [
      "Populating the interactive namespace from numpy and matplotlib\n",
      "env: CUDA_VISIBLE_DEVICES=\"\"\n"
     ]
    },
    {
     "name": "stderr",
     "output_type": "stream",
     "text": [
      "Using TensorFlow backend.\n"
     ]
    }
   ],
   "source": [
    "%pylab inline\n",
    "%env CUDA_VISIBLE_DEVICES=\"\"\n",
    "import numpy as np\n",
    "import pandas as pd\n",
    "import os\n",
    "import shutil\n",
    "from sklearn.preprocessing import StandardScaler, MinMaxScaler\n",
    "from sklearn.metrics import mean_squared_error, r2_score\n",
    "from keras.preprocessing import sequence\n",
    "from keras.models import Sequential\n",
    "from keras.layers import Dense, Activation, Dropout, BatchNormalization\n",
    "from keras.layers import LSTM, Bidirectional\n",
    "from keras.layers.core import Reshape\n",
    "from keras.callbacks import History, TensorBoard\n",
    "\n",
    "\n",
    "from keras.utils.vis_utils import plot_model\n",
    "from keras.utils.vis_utils import model_to_dot\n",
    "from IPython.display import display\n",
    "from IPython.display import SVG, Image\n",
    "\n",
    "np.random.seed(0) # fix the random number"
   ]
  },
  {
   "cell_type": "markdown",
   "metadata": {
    "deletable": true,
    "editable": true
   },
   "source": [
    "## Configuration"
   ]
  },
  {
   "cell_type": "code",
   "execution_count": 2,
   "metadata": {
    "collapsed": true,
    "deletable": true,
    "editable": true
   },
   "outputs": [],
   "source": [
    "BATCH = 12\n",
    "MAXLEN = 32\n",
    "LOOK_BACK = 1"
   ]
  },
  {
   "cell_type": "markdown",
   "metadata": {
    "deletable": true,
    "editable": true
   },
   "source": [
    "## Data\n",
    "\n",
    "International Airline Pessengers"
   ]
  },
  {
   "cell_type": "code",
   "execution_count": 3,
   "metadata": {
    "collapsed": false,
    "deletable": true,
    "editable": true
   },
   "outputs": [
    {
     "name": "stdout",
     "output_type": "stream",
     "text": [
      "train:   (100, 1)\n",
      "test:    (56, 1)\n",
      "train_x: (380, 12, 1)\n",
      "train_y: (380, 12, 1)\n",
      "test_x:  (32, 12, 1)\n",
      "test_y:  (32, 12, 1)\n"
     ]
    },
    {
     "name": "stderr",
     "output_type": "stream",
     "text": [
      "/usr/local/lib/python3.6/site-packages/sklearn/utils/validation.py:429: DataConversionWarning: Data with input dtype int64 was converted to float64 by MinMaxScaler.\n",
      "  warnings.warn(msg, _DataConversionWarning)\n"
     ]
    }
   ],
   "source": [
    "# Load Data\n",
    "data = pd.read_csv('../../data/time-series/international-airline-passengers.csv', \n",
    "                   names=['passenger'],\n",
    "                   skiprows=1, usecols=[1])\n",
    "\n",
    "data = data.as_matrix()\n",
    "\n",
    "# Normalize Data using Min-Max Scaler \n",
    "scaler = MinMaxScaler(feature_range=(0, 1))\n",
    "data = scaler.fit_transform(data)\n",
    "data = data.astype('float64')\n",
    "\n",
    "# Seperate Train and Test Data\n",
    "def split_train_test(data, train_size_p=0.7, batch=BATCH):\n",
    "    _size = int(len(data) * train_size_p) # 144\n",
    "    train, test = data[:_size], data[_size-batch:] # 100, 44\n",
    "    return train, test\n",
    "\n",
    "def to_timeseries(x, batch:int):\n",
    "    n = len(x)\n",
    "    train = np.zeros((n-2*batch, batch, 1))\n",
    "    test = np.zeros((n-2*batch, batch, 1))\n",
    "    \n",
    "    for i in range(n - 2*batch):\n",
    "        \n",
    "        train[i] = x[i:i+batch]\n",
    "        test[i] = x[i+batch:i+batch+batch]\n",
    "        \n",
    "    return train, test\n",
    "\n",
    "def augment(x, y):\n",
    "    n_type = 5\n",
    "    n = x.shape[0]\n",
    "    aug_x = np.zeros((n*n_type, BATCH, 1), dtype='float64')\n",
    "    aug_y = np.zeros((n*n_type, BATCH, 1), dtype='float64')\n",
    "    \n",
    "    # Original\n",
    "    aug_x[:n] = x\n",
    "    aug_y[:n] = y\n",
    "    \n",
    "    # Sqaured\n",
    "    aug_x[n:n*2] = x**2\n",
    "    aug_y[n:n*2] = y**2\n",
    "    \n",
    "    # Increase \n",
    "    aug_x[n*2:n*3] = x + 0.2\n",
    "    aug_y[n*2:n*3] = y + 0.2\n",
    "    \n",
    "    # Decrease \n",
    "    aug_x[n*3:n*4] = x - 0.3\n",
    "    aug_y[n*3:n*4] = y - 0.3\n",
    "    \n",
    "    # Inverse\n",
    "    aug_x[n*4:n*5] = 1 - x\n",
    "    aug_y[n*4:n*5] = 1 - y\n",
    "    return aug_x, aug_y\n",
    "\n",
    "train, test = split_train_test(data)\n",
    "train_x, train_y = augment(*to_timeseries(train, batch=BATCH))\n",
    "test_x, test_y = to_timeseries(test, batch=BATCH)\n",
    "\n",
    "print('train:  ', train.shape)\n",
    "print('test:   ', test.shape)\n",
    "print('train_x:', train_x.shape)\n",
    "print('train_y:', train_y.shape)\n",
    "print('test_x: ', test_x.shape)\n",
    "print('test_y: ', test_y.shape)"
   ]
  },
  {
   "cell_type": "code",
   "execution_count": 4,
   "metadata": {
    "collapsed": false,
    "deletable": true,
    "editable": true
   },
   "outputs": [
    {
     "data": {
      "text/plain": [
       "[<matplotlib.lines.Line2D at 0x7f75ba4113c8>]"
      ]
     },
     "execution_count": 4,
     "metadata": {},
     "output_type": "execute_result"
    },
    {
     "data": {
      "image/png": "[encoded data removed]",
      "text/plain": [
       "<matplotlib.figure.Figure at 0x7f75ba411470>"
      ]
     },
     "metadata": {},
     "output_type": "display_data"
    }
   ],
   "source": [
    "x1 = range(len(train))\n",
    "x2 = range(len(train), len(train) + len(test))\n",
    "plot(x1, train)\n",
    "plot(x2, test)"
   ]
  },
  {
   "cell_type": "markdown",
   "metadata": {
    "deletable": true,
    "editable": true
   },
   "source": [
    "## TensorBoard"
   ]
  },
  {
   "cell_type": "code",
   "execution_count": 5,
   "metadata": {
    "collapsed": true,
    "deletable": true,
    "editable": true
   },
   "outputs": [],
   "source": [
    "# History\n",
    "tensorboard_filepath = '/tmp/international_airline_passenger_logs'\n",
    "if os.path.exists(tensorboard_filepath):\n",
    "    shutil.rmtree(tensorboard_filepath)\n",
    "\n",
    "history = History()\n",
    "tensorboard = TensorBoard('/tmp/international_airline_passenger_logs')"
   ]
  },
  {
   "cell_type": "markdown",
   "metadata": {
    "deletable": true,
    "editable": true
   },
   "source": [
    "## Model"
   ]
  },
  {
   "cell_type": "code",
   "execution_count": null,
   "metadata": {
    "collapsed": false,
    "deletable": true,
    "editable": true,
    "scrolled": false
   },
   "outputs": [
    {
     "data": {
      "image/svg+xml": [
       "<svg height=\"719pt\" viewBox=\"0.00 0.00 436.00 719.00\" width=\"436pt\" xmlns=\"http://www.w3.org/2000/svg\" xmlns:xlink=\"http://www.w3.org/1999/xlink\">\n",
       "<g class=\"graph\" id=\"graph0\" transform=\"scale(1 1) rotate(0) translate(4 715)\">\n",
       "<title>G</title>\n",
       "<polygon fill=\"white\" points=\"-4,4 -4,-715 432,-715 432,4 -4,4\" stroke=\"none\"/>\n",
       "<!-- 140143577636200 -->\n",
       "<g class=\"node\" id=\"node1\"><title>140143577636200</title>\n",
       "<polygon fill=\"none\" points=\"63.5,-664.5 63.5,-710.5 364.5,-710.5 364.5,-664.5 63.5,-664.5\" stroke=\"black\"/>\n",
       "<text font-family=\"Times,serif\" font-size=\"14.00\" text-anchor=\"middle\" x=\"141.5\" y=\"-683.8\">lstm_1_input: InputLayer</text>\n",
       "<polyline fill=\"none\" points=\"219.5,-664.5 219.5,-710.5 \" stroke=\"black\"/>\n",
       "<text font-family=\"Times,serif\" font-size=\"14.00\" text-anchor=\"middle\" x=\"247\" y=\"-695.3\">input:</text>\n",
       "<polyline fill=\"none\" points=\"219.5,-687.5 274.5,-687.5 \" stroke=\"black\"/>\n",
       "<text font-family=\"Times,serif\" font-size=\"14.00\" text-anchor=\"middle\" x=\"247\" y=\"-672.3\">output:</text>\n",
       "<polyline fill=\"none\" points=\"274.5,-664.5 274.5,-710.5 \" stroke=\"black\"/>\n",
       "<text font-family=\"Times,serif\" font-size=\"14.00\" text-anchor=\"middle\" x=\"319.5\" y=\"-695.3\">(None, 12, 1)</text>\n",
       "<polyline fill=\"none\" points=\"274.5,-687.5 364.5,-687.5 \" stroke=\"black\"/>\n",
       "<text font-family=\"Times,serif\" font-size=\"14.00\" text-anchor=\"middle\" x=\"319.5\" y=\"-672.3\">(None, 12, 1)</text>\n",
       "</g>\n",
       "<!-- 140143612457872 -->\n",
       "<g class=\"node\" id=\"node2\"><title>140143612457872</title>\n",
       "<polygon fill=\"none\" points=\"85.5,-581.5 85.5,-627.5 342.5,-627.5 342.5,-581.5 85.5,-581.5\" stroke=\"black\"/>\n",
       "<text font-family=\"Times,serif\" font-size=\"14.00\" text-anchor=\"middle\" x=\"134.5\" y=\"-600.8\">lstm_1: LSTM</text>\n",
       "<polyline fill=\"none\" points=\"183.5,-581.5 183.5,-627.5 \" stroke=\"black\"/>\n",
       "<text font-family=\"Times,serif\" font-size=\"14.00\" text-anchor=\"middle\" x=\"211\" y=\"-612.3\">input:</text>\n",
       "<polyline fill=\"none\" points=\"183.5,-604.5 238.5,-604.5 \" stroke=\"black\"/>\n",
       "<text font-family=\"Times,serif\" font-size=\"14.00\" text-anchor=\"middle\" x=\"211\" y=\"-589.3\">output:</text>\n",
       "<polyline fill=\"none\" points=\"238.5,-581.5 238.5,-627.5 \" stroke=\"black\"/>\n",
       "<text font-family=\"Times,serif\" font-size=\"14.00\" text-anchor=\"middle\" x=\"290.5\" y=\"-612.3\">(None, 12, 1)</text>\n",
       "<polyline fill=\"none\" points=\"238.5,-604.5 342.5,-604.5 \" stroke=\"black\"/>\n",
       "<text font-family=\"Times,serif\" font-size=\"14.00\" text-anchor=\"middle\" x=\"290.5\" y=\"-589.3\">(None, 12, 128)</text>\n",
       "</g>\n",
       "<!-- 140143577636200&#45;&gt;140143612457872 -->\n",
       "<g class=\"edge\" id=\"edge1\"><title>140143577636200-&gt;140143612457872</title>\n",
       "<path d=\"M214,-664.366C214,-656.152 214,-646.658 214,-637.725\" fill=\"none\" stroke=\"black\"/>\n",
       "<polygon fill=\"black\" points=\"217.5,-637.607 214,-627.607 210.5,-637.607 217.5,-637.607\" stroke=\"black\"/>\n",
       "</g>\n",
       "<!-- 140143578483624 -->\n",
       "<g class=\"node\" id=\"node3\"><title>140143578483624</title>\n",
       "<polygon fill=\"none\" points=\"-2.84217e-14,-498.5 -2.84217e-14,-544.5 428,-544.5 428,-498.5 -2.84217e-14,-498.5\" stroke=\"black\"/>\n",
       "<text font-family=\"Times,serif\" font-size=\"14.00\" text-anchor=\"middle\" x=\"134.5\" y=\"-517.8\">bidirectional_1(lstm_2): Bidirectional(LSTM)</text>\n",
       "<polyline fill=\"none\" points=\"269,-498.5 269,-544.5 \" stroke=\"black\"/>\n",
       "<text font-family=\"Times,serif\" font-size=\"14.00\" text-anchor=\"middle\" x=\"296.5\" y=\"-529.3\">input:</text>\n",
       "<polyline fill=\"none\" points=\"269,-521.5 324,-521.5 \" stroke=\"black\"/>\n",
       "<text font-family=\"Times,serif\" font-size=\"14.00\" text-anchor=\"middle\" x=\"296.5\" y=\"-506.3\">output:</text>\n",
       "<polyline fill=\"none\" points=\"324,-498.5 324,-544.5 \" stroke=\"black\"/>\n",
       "<text font-family=\"Times,serif\" font-size=\"14.00\" text-anchor=\"middle\" x=\"376\" y=\"-529.3\">(None, 12, 128)</text>\n",
       "<polyline fill=\"none\" points=\"324,-521.5 428,-521.5 \" stroke=\"black\"/>\n",
       "<text font-family=\"Times,serif\" font-size=\"14.00\" text-anchor=\"middle\" x=\"376\" y=\"-506.3\">(None, 12, 24)</text>\n",
       "</g>\n",
       "<!-- 140143612457872&#45;&gt;140143578483624 -->\n",
       "<g class=\"edge\" id=\"edge2\"><title>140143612457872-&gt;140143578483624</title>\n",
       "<path d=\"M214,-581.366C214,-573.152 214,-563.658 214,-554.725\" fill=\"none\" stroke=\"black\"/>\n",
       "<polygon fill=\"black\" points=\"217.5,-554.607 214,-544.607 210.5,-554.607 217.5,-554.607\" stroke=\"black\"/>\n",
       "</g>\n",
       "<!-- 140143612460504 -->\n",
       "<g class=\"node\" id=\"node4\"><title>140143612460504</title>\n",
       "<polygon fill=\"none\" points=\"64,-415.5 64,-461.5 364,-461.5 364,-415.5 64,-415.5\" stroke=\"black\"/>\n",
       "<text font-family=\"Times,serif\" font-size=\"14.00\" text-anchor=\"middle\" x=\"138\" y=\"-434.8\">activation_1: Activation</text>\n",
       "<polyline fill=\"none\" points=\"212,-415.5 212,-461.5 \" stroke=\"black\"/>\n",
       "<text font-family=\"Times,serif\" font-size=\"14.00\" text-anchor=\"middle\" x=\"239.5\" y=\"-446.3\">input:</text>\n",
       "<polyline fill=\"none\" points=\"212,-438.5 267,-438.5 \" stroke=\"black\"/>\n",
       "<text font-family=\"Times,serif\" font-size=\"14.00\" text-anchor=\"middle\" x=\"239.5\" y=\"-423.3\">output:</text>\n",
       "<polyline fill=\"none\" points=\"267,-415.5 267,-461.5 \" stroke=\"black\"/>\n",
       "<text font-family=\"Times,serif\" font-size=\"14.00\" text-anchor=\"middle\" x=\"315.5\" y=\"-446.3\">(None, 12, 24)</text>\n",
       "<polyline fill=\"none\" points=\"267,-438.5 364,-438.5 \" stroke=\"black\"/>\n",
       "<text font-family=\"Times,serif\" font-size=\"14.00\" text-anchor=\"middle\" x=\"315.5\" y=\"-423.3\">(None, 12, 24)</text>\n",
       "</g>\n",
       "<!-- 140143578483624&#45;&gt;140143612460504 -->\n",
       "<g class=\"edge\" id=\"edge3\"><title>140143578483624-&gt;140143612460504</title>\n",
       "<path d=\"M214,-498.366C214,-490.152 214,-480.658 214,-471.725\" fill=\"none\" stroke=\"black\"/>\n",
       "<polygon fill=\"black\" points=\"217.5,-471.607 214,-461.607 210.5,-471.607 217.5,-471.607\" stroke=\"black\"/>\n",
       "</g>\n",
       "<!-- 140143612460336 -->\n",
       "<g class=\"node\" id=\"node5\"><title>140143612460336</title>\n",
       "<polygon fill=\"none\" points=\"75.5,-332.5 75.5,-378.5 352.5,-378.5 352.5,-332.5 75.5,-332.5\" stroke=\"black\"/>\n",
       "<text font-family=\"Times,serif\" font-size=\"14.00\" text-anchor=\"middle\" x=\"138\" y=\"-351.8\">dropout_1: Dropout</text>\n",
       "<polyline fill=\"none\" points=\"200.5,-332.5 200.5,-378.5 \" stroke=\"black\"/>\n",
       "<text font-family=\"Times,serif\" font-size=\"14.00\" text-anchor=\"middle\" x=\"228\" y=\"-363.3\">input:</text>\n",
       "<polyline fill=\"none\" points=\"200.5,-355.5 255.5,-355.5 \" stroke=\"black\"/>\n",
       "<text font-family=\"Times,serif\" font-size=\"14.00\" text-anchor=\"middle\" x=\"228\" y=\"-340.3\">output:</text>\n",
       "<polyline fill=\"none\" points=\"255.5,-332.5 255.5,-378.5 \" stroke=\"black\"/>\n",
       "<text font-family=\"Times,serif\" font-size=\"14.00\" text-anchor=\"middle\" x=\"304\" y=\"-363.3\">(None, 12, 24)</text>\n",
       "<polyline fill=\"none\" points=\"255.5,-355.5 352.5,-355.5 \" stroke=\"black\"/>\n",
       "<text font-family=\"Times,serif\" font-size=\"14.00\" text-anchor=\"middle\" x=\"304\" y=\"-340.3\">(None, 12, 24)</text>\n",
       "</g>\n",
       "<!-- 140143612460504&#45;&gt;140143612460336 -->\n",
       "<g class=\"edge\" id=\"edge4\"><title>140143612460504-&gt;140143612460336</title>\n",
       "<path d=\"M214,-415.366C214,-407.152 214,-397.658 214,-388.725\" fill=\"none\" stroke=\"black\"/>\n",
       "<polygon fill=\"black\" points=\"217.5,-388.607 214,-378.607 210.5,-388.607 217.5,-388.607\" stroke=\"black\"/>\n",
       "</g>\n",
       "<!-- 140143612459328 -->\n",
       "<g class=\"node\" id=\"node6\"><title>140143612459328</title>\n",
       "<polygon fill=\"none\" points=\"83.5,-249.5 83.5,-295.5 344.5,-295.5 344.5,-249.5 83.5,-249.5\" stroke=\"black\"/>\n",
       "<text font-family=\"Times,serif\" font-size=\"14.00\" text-anchor=\"middle\" x=\"134.5\" y=\"-268.8\">dense_1: Dense</text>\n",
       "<polyline fill=\"none\" points=\"185.5,-249.5 185.5,-295.5 \" stroke=\"black\"/>\n",
       "<text font-family=\"Times,serif\" font-size=\"14.00\" text-anchor=\"middle\" x=\"213\" y=\"-280.3\">input:</text>\n",
       "<polyline fill=\"none\" points=\"185.5,-272.5 240.5,-272.5 \" stroke=\"black\"/>\n",
       "<text font-family=\"Times,serif\" font-size=\"14.00\" text-anchor=\"middle\" x=\"213\" y=\"-257.3\">output:</text>\n",
       "<polyline fill=\"none\" points=\"240.5,-249.5 240.5,-295.5 \" stroke=\"black\"/>\n",
       "<text font-family=\"Times,serif\" font-size=\"14.00\" text-anchor=\"middle\" x=\"292.5\" y=\"-280.3\">(None, 12, 24)</text>\n",
       "<polyline fill=\"none\" points=\"240.5,-272.5 344.5,-272.5 \" stroke=\"black\"/>\n",
       "<text font-family=\"Times,serif\" font-size=\"14.00\" text-anchor=\"middle\" x=\"292.5\" y=\"-257.3\">(None, 12, 128)</text>\n",
       "</g>\n",
       "<!-- 140143612460336&#45;&gt;140143612459328 -->\n",
       "<g class=\"edge\" id=\"edge5\"><title>140143612460336-&gt;140143612459328</title>\n",
       "<path d=\"M214,-332.366C214,-324.152 214,-314.658 214,-305.725\" fill=\"none\" stroke=\"black\"/>\n",
       "<polygon fill=\"black\" points=\"217.5,-305.607 214,-295.607 210.5,-305.607 217.5,-305.607\" stroke=\"black\"/>\n",
       "</g>\n",
       "<!-- 140143568978944 -->\n",
       "<g class=\"node\" id=\"node7\"><title>140143568978944</title>\n",
       "<polygon fill=\"none\" points=\"60.5,-166.5 60.5,-212.5 367.5,-212.5 367.5,-166.5 60.5,-166.5\" stroke=\"black\"/>\n",
       "<text font-family=\"Times,serif\" font-size=\"14.00\" text-anchor=\"middle\" x=\"134.5\" y=\"-185.8\">activation_2: Activation</text>\n",
       "<polyline fill=\"none\" points=\"208.5,-166.5 208.5,-212.5 \" stroke=\"black\"/>\n",
       "<text font-family=\"Times,serif\" font-size=\"14.00\" text-anchor=\"middle\" x=\"236\" y=\"-197.3\">input:</text>\n",
       "<polyline fill=\"none\" points=\"208.5,-189.5 263.5,-189.5 \" stroke=\"black\"/>\n",
       "<text font-family=\"Times,serif\" font-size=\"14.00\" text-anchor=\"middle\" x=\"236\" y=\"-174.3\">output:</text>\n",
       "<polyline fill=\"none\" points=\"263.5,-166.5 263.5,-212.5 \" stroke=\"black\"/>\n",
       "<text font-family=\"Times,serif\" font-size=\"14.00\" text-anchor=\"middle\" x=\"315.5\" y=\"-197.3\">(None, 12, 128)</text>\n",
       "<polyline fill=\"none\" points=\"263.5,-189.5 367.5,-189.5 \" stroke=\"black\"/>\n",
       "<text font-family=\"Times,serif\" font-size=\"14.00\" text-anchor=\"middle\" x=\"315.5\" y=\"-174.3\">(None, 12, 128)</text>\n",
       "</g>\n",
       "<!-- 140143612459328&#45;&gt;140143568978944 -->\n",
       "<g class=\"edge\" id=\"edge6\"><title>140143612459328-&gt;140143568978944</title>\n",
       "<path d=\"M214,-249.366C214,-241.152 214,-231.658 214,-222.725\" fill=\"none\" stroke=\"black\"/>\n",
       "<polygon fill=\"black\" points=\"217.5,-222.607 214,-212.607 210.5,-222.607 217.5,-222.607\" stroke=\"black\"/>\n",
       "</g>\n",
       "<!-- 140143569087792 -->\n",
       "<g class=\"node\" id=\"node8\"><title>140143569087792</title>\n",
       "<polygon fill=\"none\" points=\"72,-83.5 72,-129.5 356,-129.5 356,-83.5 72,-83.5\" stroke=\"black\"/>\n",
       "<text font-family=\"Times,serif\" font-size=\"14.00\" text-anchor=\"middle\" x=\"134.5\" y=\"-102.8\">dropout_2: Dropout</text>\n",
       "<polyline fill=\"none\" points=\"197,-83.5 197,-129.5 \" stroke=\"black\"/>\n",
       "<text font-family=\"Times,serif\" font-size=\"14.00\" text-anchor=\"middle\" x=\"224.5\" y=\"-114.3\">input:</text>\n",
       "<polyline fill=\"none\" points=\"197,-106.5 252,-106.5 \" stroke=\"black\"/>\n",
       "<text font-family=\"Times,serif\" font-size=\"14.00\" text-anchor=\"middle\" x=\"224.5\" y=\"-91.3\">output:</text>\n",
       "<polyline fill=\"none\" points=\"252,-83.5 252,-129.5 \" stroke=\"black\"/>\n",
       "<text font-family=\"Times,serif\" font-size=\"14.00\" text-anchor=\"middle\" x=\"304\" y=\"-114.3\">(None, 12, 128)</text>\n",
       "<polyline fill=\"none\" points=\"252,-106.5 356,-106.5 \" stroke=\"black\"/>\n",
       "<text font-family=\"Times,serif\" font-size=\"14.00\" text-anchor=\"middle\" x=\"304\" y=\"-91.3\">(None, 12, 128)</text>\n",
       "</g>\n",
       "<!-- 140143568978944&#45;&gt;140143569087792 -->\n",
       "<g class=\"edge\" id=\"edge7\"><title>140143568978944-&gt;140143569087792</title>\n",
       "<path d=\"M214,-166.366C214,-158.152 214,-148.658 214,-139.725\" fill=\"none\" stroke=\"black\"/>\n",
       "<polygon fill=\"black\" points=\"217.5,-139.607 214,-129.607 210.5,-139.607 217.5,-139.607\" stroke=\"black\"/>\n",
       "</g>\n",
       "<!-- 140143569087904 -->\n",
       "<g class=\"node\" id=\"node9\"><title>140143569087904</title>\n",
       "<polygon fill=\"none\" points=\"83.5,-0.5 83.5,-46.5 344.5,-46.5 344.5,-0.5 83.5,-0.5\" stroke=\"black\"/>\n",
       "<text font-family=\"Times,serif\" font-size=\"14.00\" text-anchor=\"middle\" x=\"134.5\" y=\"-19.8\">dense_2: Dense</text>\n",
       "<polyline fill=\"none\" points=\"185.5,-0.5 185.5,-46.5 \" stroke=\"black\"/>\n",
       "<text font-family=\"Times,serif\" font-size=\"14.00\" text-anchor=\"middle\" x=\"213\" y=\"-31.3\">input:</text>\n",
       "<polyline fill=\"none\" points=\"185.5,-23.5 240.5,-23.5 \" stroke=\"black\"/>\n",
       "<text font-family=\"Times,serif\" font-size=\"14.00\" text-anchor=\"middle\" x=\"213\" y=\"-8.3\">output:</text>\n",
       "<polyline fill=\"none\" points=\"240.5,-0.5 240.5,-46.5 \" stroke=\"black\"/>\n",
       "<text font-family=\"Times,serif\" font-size=\"14.00\" text-anchor=\"middle\" x=\"292.5\" y=\"-31.3\">(None, 12, 128)</text>\n",
       "<polyline fill=\"none\" points=\"240.5,-23.5 344.5,-23.5 \" stroke=\"black\"/>\n",
       "<text font-family=\"Times,serif\" font-size=\"14.00\" text-anchor=\"middle\" x=\"292.5\" y=\"-8.3\">(None, 12, 1)</text>\n",
       "</g>\n",
       "<!-- 140143569087792&#45;&gt;140143569087904 -->\n",
       "<g class=\"edge\" id=\"edge8\"><title>140143569087792-&gt;140143569087904</title>\n",
       "<path d=\"M214,-83.3664C214,-75.1516 214,-65.6579 214,-56.7252\" fill=\"none\" stroke=\"black\"/>\n",
       "<polygon fill=\"black\" points=\"217.5,-56.6068 214,-46.6068 210.5,-56.6069 217.5,-56.6068\" stroke=\"black\"/>\n",
       "</g>\n",
       "</g>\n",
       "</svg>"
      ],
      "text/plain": [
       "<IPython.core.display.SVG object>"
      ]
     },
     "execution_count": 6,
     "metadata": {},
     "output_type": "execute_result"
    }
   ],
   "source": [
    "def create_model():\n",
    "    np.random.seed(0)\n",
    "    model = Sequential(name='LSTM Model')\n",
    "    model.add(LSTM(128,  return_sequences=True, # kernel_regularizer='l1',\n",
    "                            batch_input_shape=(None, BATCH, 1)))\n",
    "    \n",
    "    model.add(Bidirectional(LSTM(12, return_sequences=True)))\n",
    "    model.add(Activation('selu'))\n",
    "    model.add(Dropout(0.3))\n",
    "    \n",
    "    model.add(Dense(128))\n",
    "    model.add(Activation('selu'))\n",
    "    model.add(Dropout(0.1))\n",
    "    \n",
    "    model.add(Dense(1))\n",
    "    \n",
    "    model.compile(loss='mean_squared_error', optimizer='adam')\n",
    "    return model\n",
    "\n",
    "# # Visualization\n",
    "model = create_model()\n",
    "SVG(model_to_dot(model, show_shapes=True).create(prog='dot', format='svg'))"
   ]
  },
  {
   "cell_type": "markdown",
   "metadata": {
    "deletable": true,
    "editable": true
   },
   "source": [
    "## Training for Normalized Data"
   ]
  },
  {
   "cell_type": "code",
   "execution_count": null,
   "metadata": {
    "collapsed": false,
    "deletable": true,
    "editable": true,
    "scrolled": true
   },
   "outputs": [
    {
     "name": "stdout",
     "output_type": "stream",
     "text": [
      "Epoch 1/100\n",
      "0s - loss: 0.0266\n",
      "Epoch 2/100\n",
      "0s - loss: 0.0097\n",
      "Epoch 3/100\n",
      "0s - loss: 0.0077\n",
      "Epoch 4/100\n",
      "0s - loss: 0.0069\n",
      "Epoch 5/100\n",
      "0s - loss: 0.0061\n",
      "Epoch 6/100\n",
      "0s - loss: 0.0064\n",
      "Epoch 7/100\n",
      "0s - loss: 0.0059\n",
      "Epoch 8/100\n",
      "0s - loss: 0.0057\n",
      "Epoch 9/100\n",
      "0s - loss: 0.0051\n",
      "Epoch 10/100\n",
      "0s - loss: 0.0049\n",
      "Epoch 11/100\n",
      "0s - loss: 0.0048\n",
      "Epoch 12/100\n",
      "0s - loss: 0.0050\n",
      "Epoch 13/100\n",
      "0s - loss: 0.0047\n",
      "Epoch 14/100\n",
      "0s - loss: 0.0048\n",
      "Epoch 15/100\n",
      "0s - loss: 0.0044\n",
      "Epoch 16/100\n",
      "0s - loss: 0.0046\n",
      "Epoch 17/100\n",
      "0s - loss: 0.0043\n",
      "Epoch 18/100\n",
      "0s - loss: 0.0045\n",
      "Epoch 19/100\n",
      "0s - loss: 0.0045\n",
      "Epoch 20/100\n",
      "0s - loss: 0.0046\n",
      "Epoch 21/100\n",
      "0s - loss: 0.0043\n",
      "Epoch 22/100\n",
      "0s - loss: 0.0043\n",
      "Epoch 23/100\n",
      "0s - loss: 0.0044\n",
      "Epoch 24/100\n",
      "0s - loss: 0.0041\n",
      "Epoch 25/100\n",
      "0s - loss: 0.0039\n",
      "Epoch 26/100\n",
      "0s - loss: 0.0041\n",
      "Epoch 27/100\n",
      "0s - loss: 0.0042\n",
      "Epoch 28/100\n",
      "0s - loss: 0.0042\n",
      "Epoch 29/100\n",
      "0s - loss: 0.0041\n",
      "Epoch 30/100\n",
      "0s - loss: 0.0039\n",
      "Epoch 31/100\n",
      "0s - loss: 0.0039\n",
      "Epoch 32/100\n",
      "0s - loss: 0.0038\n",
      "Epoch 33/100\n",
      "0s - loss: 0.0039\n",
      "Epoch 34/100\n",
      "0s - loss: 0.0039\n",
      "Epoch 35/100\n",
      "0s - loss: 0.0040\n",
      "Epoch 36/100\n"
     ]
    }
   ],
   "source": [
    "model = create_model()\n",
    "model.fit(train_x, train_y, epochs=100, batch_size=BATCH, verbose=2, callbacks=[history, tensorboard])"
   ]
  },
  {
   "cell_type": "code",
   "execution_count": null,
   "metadata": {
    "collapsed": false,
    "deletable": true,
    "editable": true
   },
   "outputs": [],
   "source": [
    "plot(history.history['loss'], label='loss')\n",
    "title('loss history')\n",
    "xlabel('step')\n",
    "ylabel('loss')\n",
    "# ylim(0, 0.01)\n",
    "grid()\n",
    "legend()"
   ]
  },
  {
   "cell_type": "markdown",
   "metadata": {
    "deletable": true,
    "editable": true
   },
   "source": [
    "## Evaluate normalized data"
   ]
  },
  {
   "cell_type": "code",
   "execution_count": null,
   "metadata": {
    "collapsed": false,
    "deletable": true,
    "editable": true
   },
   "outputs": [],
   "source": [
    "def evaluate(model, scaler, x, y_true):\n",
    "    y_pred = model.predict(x)\n",
    "    \n",
    "    _y_pred = y_pred.reshape(-1, 1)\n",
    "    _y_true = y_true.reshape(-1, 1)\n",
    "    \n",
    "    print('MSE:', mean_squared_error(_y_true, _y_pred))\n",
    "    print('R^2:', r2_score(_y_true, _y_pred))\n",
    "    return y_pred.reshape(-1, BATCH, 1)\n",
    "\n",
    "print('[Evaluate Training]')\n",
    "train_pred = evaluate(model, scaler, train_x, train_y)\n",
    "\n",
    "print('\\n[Evaluate Test]')\n",
    "test_pred = evaluate(model, scaler, test_x, test_y)"
   ]
  },
  {
   "cell_type": "code",
   "execution_count": null,
   "metadata": {
    "collapsed": false
   },
   "outputs": [],
   "source": [
    "def plot_result(x, y_true, y_pred):\n",
    "    x = x.reshape((-1, BATCH))\n",
    "    y_pred = y_pred.reshape((-1, BATCH))\n",
    "    \n",
    "    fig, plots = subplots(3, 4)\n",
    "    plots = plots.reshape(-1)\n",
    "    fig.set_figwidth(14)\n",
    "    fig.set_figheight(4)\n",
    "    \n",
    "    _x1 = np.arange(x.shape[1])\n",
    "    _x2 = np.arange(len(_x1), len(_x1) + y_true.shape[1])\n",
    "    \n",
    "    for p in plots:\n",
    "        idx = np.random.randint(len(x))  \n",
    "        p.plot(_x1, x[idx], color='#555555', label='train')\n",
    "        p.plot(_x2, y_true[idx], color='#555555', label='test')\n",
    "        p.plot(_x2, y_pred[idx], color='red', label='test_true')\n",
    "        \n",
    "plot_result(train_x, train_y, train_pred)\n",
    "plot_result(test_x, test_y, test_pred)\n"
   ]
  },
  {
   "cell_type": "code",
   "execution_count": null,
   "metadata": {
    "collapsed": false,
    "scrolled": false
   },
   "outputs": [],
   "source": [
    "def predict(model):\n",
    "    x = train_x[-len(test_y):]\n",
    "    y_pred = model.predict(x)\n",
    "    \n",
    "    _y_true = test_y.reshape(-1, 1)\n",
    "    _y_pred = y_pred.reshape(-1, 1)\n",
    "    \n",
    "    print('MSE:', mean_squared_error(_y_true, _y_pred))\n",
    "    print('R^2:', r2_score(_y_true, _y_pred))\n",
    "    \n",
    "predict(model)"
   ]
  }
 ],
 "metadata": {
  "kernelspec": {
   "display_name": "Python 3",
   "language": "python",
   "name": "python3"
  },
  "language_info": {
   "codemirror_mode": {
    "name": "ipython",
    "version": 3
   },
   "file_extension": ".py",
   "mimetype": "text/x-python",
   "name": "python",
   "nbconvert_exporter": "python",
   "pygments_lexer": "ipython3",
   "version": "3.6.1"
  }
 },
 "nbformat": 4,
 "nbformat_minor": 2
}
