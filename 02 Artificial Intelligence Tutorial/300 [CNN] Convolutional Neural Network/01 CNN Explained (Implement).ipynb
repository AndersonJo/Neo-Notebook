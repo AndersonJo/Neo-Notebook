{
 "cells": [
  {
   "cell_type": "markdown",
   "metadata": {
    "deletable": true,
    "editable": true
   },
   "source": [
    "# 1D Convolution (Signal)\n",
    "\n",
    "* http://www.cs.cornell.edu/courses/cs1114/2013sp/sections/S06_convolution.pdf\n",
    "\n",
    "## Definition\n",
    "\n",
    "\n"
   ]
  },
  {
   "cell_type": "code",
   "execution_count": null,
   "metadata": {
    "collapsed": true,
    "deletable": true,
    "editable": true
   },
   "outputs": [],
   "source": []
  },
  {
   "cell_type": "code",
   "execution_count": 1,
   "metadata": {
    "collapsed": false,
    "deletable": true,
    "editable": true
   },
   "outputs": [
    {
     "name": "stdout",
     "output_type": "stream",
     "text": [
      "Populating the interactive namespace from numpy and matplotlib\n"
     ]
    }
   ],
   "source": [
    "%pylab inline\n",
    "import numpy as np\n",
    "import torch\n",
    "\n",
    "from torch import nn \n",
    "from torch.autograd import Variable"
   ]
  },
  {
   "cell_type": "code",
   "execution_count": 29,
   "metadata": {
    "collapsed": true,
    "deletable": true,
    "editable": true
   },
   "outputs": [],
   "source": [
    "def create_conv(kernel, bias=None, in_channels=1, out_channels=1):\n",
    "    kernel_size = kernel.shape[-1]\n",
    "    kernel_ts = torch.FloatTensor(kernel)\n",
    "    if bias:\n",
    "        bias_ts = torch.FloatTensor(bias)\n",
    "    else:\n",
    "        bias_ts = torch.FloatTensor(np.zeros([1]))\n",
    "    \n",
    "    conv_f = torch.nn.Conv1d(1, 1, kernel_size, stride=1)\n",
    "    conv_f.register_parameter('weight', torch.nn.Parameter(kernel_ts))\n",
    "    conv_f.register_parameter('bias', torch.nn.Parameter(bias_ts))\n",
    "    return conv_f\n",
    "\n",
    "def conv(conv_f, inputs):\n",
    "    inputs_ts = Variable(torch.FloatTensor(inputs))\n",
    "    return conv_f(inputs_ts).data.numpy()"
   ]
  },
  {
   "cell_type": "code",
   "execution_count": 30,
   "metadata": {
    "collapsed": false,
    "deletable": true,
    "editable": true
   },
   "outputs": [
    {
     "data": {
      "text/plain": [
       "(1, 1, 2, 3)"
      ]
     },
     "execution_count": 30,
     "metadata": {},
     "output_type": "execute_result"
    }
   ],
   "source": [
    "x = np.array([[[[1, 2, 3, 0], \n",
    "               [0, 1, 2, 3], \n",
    "               [3, 0, 1, 2],\n",
    "               [2, 3, 0, 1]]]], dtype='float64')\n",
    "\n",
    "\n",
    "kernel = np.array([[[[2, 0, 1], \n",
    "                    [0, 1, 2], \n",
    "                    [1, 0, 2]]]], dtype='float64')\n",
    "\n",
    "\n",
    "conv_f = create_conv(kernel)\n",
    "conv(conv_f, x).shape"
   ]
  },
  {
   "cell_type": "code",
   "execution_count": 31,
   "metadata": {
    "collapsed": false,
    "deletable": true,
    "editable": true
   },
   "outputs": [
    {
     "name": "stdout",
     "output_type": "stream",
     "text": [
      "[[[[ 2.  0.  1.]\n",
      "   [ 0.  1.  2.]\n",
      "   [ 1.  0.  2.]]]]\n",
      "[ 0.]\n"
     ]
    }
   ],
   "source": [
    "_weight, _bias = list(conv_f.parameters())\n",
    "\n",
    "print(_weight.data.numpy())\n",
    "print(_bias.data.numpy())"
   ]
  },
  {
   "cell_type": "code",
   "execution_count": null,
   "metadata": {
    "collapsed": true,
    "deletable": true,
    "editable": true
   },
   "outputs": [],
   "source": [
    "class Conv(object):\n",
    "    def __init__(self, w, b, stride=1, pad=0):\n",
    "    self.w = "
   ]
  },
  {
   "cell_type": "markdown",
   "metadata": {
    "deletable": true,
    "editable": true
   },
   "source": [
    "# References\n",
    "\n",
    "### Convolution\n",
    "* [Convolution - Cornell](http://www.cs.cornell.edu/courses/cs1114/2013sp/sections/S06_convolution.pdf)\n",
    "* [Basic Filters](http://www.swarthmore.edu/NatSci/mzucker1/e27/filter-slides.pdf)\n",
    "\n",
    "### CNN\n",
    "\n",
    "* [Using Convolutional Neural Networks for Image Recognition](https://ip.cadence.com/uploads/901/cnn_wp-pdf)\n",
    "* [CS231n Convolutional Neural Networks for Visual Recognition](http://cs231n.github.io/convolutional-networks/)\n",
    "* [Convolutional Neural Networks (CNNs): An Illustrated Explanation](http://xrds.acm.org/blog/2016/06/convolutional-neural-networks-cnns-illustrated-explanation/)\n",
    "* [Convolutional Neural Networks backpropagation: from intuition to derivation](https://grzegorzgwardys.wordpress.com/2016/04/22/8/)\n",
    "* [Notes on Convolutional Neural Networks - MIT](http://cogprints.org/5869/1/cnn_tutorial.pdf)\n",
    "\n",
    "\n",
    "### implementation\n",
    "\n",
    "* [Convnet: Implementing Convolution Layer with Numpy](http://wiseodd.github.io/techblog/2016/07/16/convnet-conv-layer/)\n",
    "* [How convolutional neural networks see the world - Keras](https://blog.keras.io/how-convolutional-neural-networks-see-the-world.html)"
   ]
  }
 ],
 "metadata": {
  "kernelspec": {
   "display_name": "Python 3",
   "language": "python",
   "name": "python3"
  },
  "language_info": {
   "codemirror_mode": {
    "name": "ipython",
    "version": 3
   },
   "file_extension": ".py",
   "mimetype": "text/x-python",
   "name": "python",
   "nbconvert_exporter": "python",
   "pygments_lexer": "ipython3",
   "version": "3.6.0"
  }
 },
 "nbformat": 4,
 "nbformat_minor": 2
}
