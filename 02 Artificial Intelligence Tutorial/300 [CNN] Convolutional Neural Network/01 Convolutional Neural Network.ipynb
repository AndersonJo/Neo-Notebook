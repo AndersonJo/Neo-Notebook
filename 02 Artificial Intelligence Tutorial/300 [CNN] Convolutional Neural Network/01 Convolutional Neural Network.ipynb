{
 "cells": [
  {
   "cell_type": "markdown",
   "metadata": {
    "deletable": true,
    "editable": true
   },
   "source": [
    "# Convolution Neural Network\n",
    "\n",
    "\n",
    "**Convolution**\n",
    "\n",
    "* [코넬대학교 CS1114 Section 6: Convolution](http://www.cs.cornell.edu/courses/cs1114/2013sp/sections/S06_convolution.pdf)\n",
    "* [카네기멜론 Convolution and Edge Detection](http://graphics.cs.cmu.edu/courses/15-463/2005_fall/www/Lectures/convolution.pdf)\n",
    "* [카네기멜론 On the Origin of Deep Learning](https://arxiv.org/pdf/1702.07800.pdf)\n",
    "* [유타 Spatial Filtering](http://www.coe.utah.edu/~cs4640/slides/Lecture5.pdf)\n",
    "* [The Convolution Operation and CNNs](http://www.cedar.buffalo.edu/~srihari/CSE676/ConvolutionFunction.pdf)\n",
    "* [Introduction to Differential Equations](https://www.math.ust.hk/~machas/differential-equations.pdf)"
   ]
  },
  {
   "cell_type": "markdown",
   "metadata": {
    "deletable": true,
    "editable": true
   },
   "source": [
    "## Convolution Operation\n",
    "\n",
    "Convolution은 2개의 함수들 (e.g. $ f $ 그리고 $ g $)에 적용되는 일종의 덧셈 뺄셈과 같은 operations이며, 새로운 함수인 $ h $를 생성을 합니다. <br>\n",
    "새로운 함수 $ h $는 함수 $ f $가 다른 함수 $ g $위를 지나가면서 중첩된 부분을 element-wise multiplication으로 연산뒤 각 구간별 integral을 나타냅니다.\n",
    "\n",
    "$$ (f * g)(t) = \\int^\\infty_{-\\infty} f(\\mathcal{T}) g(t-\\mathcal{T}) \\ d\\mathcal{T} $$\n"
   ]
  },
  {
   "cell_type": "markdown",
   "metadata": {},
   "source": [
    "$$ h(t) (f * g)(t) =  $$"
   ]
  },
  {
   "cell_type": "markdown",
   "metadata": {},
   "source": [
    "아래 그림에서, 왼쪽은 input matrix, 중간은 kernel matrix, 그리고 오른쪽은 결과물입니다. <br>\n",
    "아래와 같이 element-wise product를 한뒤, sum을 해줍니다. \n",
    "<img src=\"./images/simple_convolution_operation.png\">"
   ]
  }
 ],
 "metadata": {
  "kernelspec": {
   "display_name": "Python 3",
   "language": "python",
   "name": "python3"
  },
  "language_info": {
   "codemirror_mode": {
    "name": "ipython",
    "version": 3
   },
   "file_extension": ".py",
   "mimetype": "text/x-python",
   "name": "python",
   "nbconvert_exporter": "python",
   "pygments_lexer": "ipython3",
   "version": "3.6.0"
  }
 },
 "nbformat": 4,
 "nbformat_minor": 2
}
