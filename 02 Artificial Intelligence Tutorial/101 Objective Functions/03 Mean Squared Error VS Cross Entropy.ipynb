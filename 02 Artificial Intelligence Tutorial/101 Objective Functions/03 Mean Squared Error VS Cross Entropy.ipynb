{
 "cells": [
  {
   "cell_type": "markdown",
   "metadata": {},
   "source": [
    "# Mean Squared Error vs Cross Entropy "
   ]
  },
  {
   "cell_type": "code",
   "execution_count": 2,
   "metadata": {
    "collapsed": true
   },
   "outputs": [],
   "source": [
    "import numpy as np"
   ]
  },
  {
   "cell_type": "code",
   "execution_count": 8,
   "metadata": {
    "collapsed": true
   },
   "outputs": [],
   "source": [
    "def mean_squared_error(y, p):\n",
    "    return ((y - p)**2).mean()\n",
    "\n",
    "def cross_entropy(y, p):\n",
    "    return -(y * np.log(p)).sum()"
   ]
  },
  {
   "cell_type": "markdown",
   "metadata": {},
   "source": [
    "### Mean Squared Error를 사용해야하는 곳\n",
    "\n",
    "one-hot vector를 이용한 classification사용시 MSE를 사용해야 합니다."
   ]
  },
  {
   "cell_type": "code",
   "execution_count": 13,
   "metadata": {
    "collapsed": false
   },
   "outputs": [
    {
     "name": "stdout",
     "output_type": "stream",
     "text": [
      "cross entropy     :\t 2.30258509299\n",
      "mean squared error:\t 0.39\n"
     ]
    }
   ],
   "source": [
    "y_pred = np.array([0.1, 0.20, 0.3, 0.4, 0.5, 0.6, 0.7, 0.8, 0.9, 0.5])\n",
    "y_true = np.array([1, 0, 0, 0, 0, 0, 0, 0, 0, 0])\n",
    "\n",
    "print('cross entropy     :\\t', cross_entropy(y_true, y_pred))\n",
    "print('mean squared error:\\t', mean_squared_error(y_true, y_pred))"
   ]
  }
 ],
 "metadata": {
  "kernelspec": {
   "display_name": "Python 3",
   "language": "python",
   "name": "python3"
  },
  "language_info": {
   "codemirror_mode": {
    "name": "ipython",
    "version": 3
   },
   "file_extension": ".py",
   "mimetype": "text/x-python",
   "name": "python",
   "nbconvert_exporter": "python",
   "pygments_lexer": "ipython3",
   "version": "3.6.0"
  }
 },
 "nbformat": 4,
 "nbformat_minor": 2
}
