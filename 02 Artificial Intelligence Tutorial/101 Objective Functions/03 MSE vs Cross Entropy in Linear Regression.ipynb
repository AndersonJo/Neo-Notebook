{
 "cells": [
  {
   "cell_type": "markdown",
   "metadata": {
    "deletable": true,
    "editable": true
   },
   "source": [
    "# Mean Squared Error vs Cross Entropy "
   ]
  },
  {
   "cell_type": "code",
   "execution_count": 113,
   "metadata": {
    "collapsed": false,
    "deletable": true,
    "editable": true
   },
   "outputs": [
    {
     "name": "stdout",
     "output_type": "stream",
     "text": [
      "Populating the interactive namespace from numpy and matplotlib\n"
     ]
    },
    {
     "name": "stderr",
     "output_type": "stream",
     "text": [
      "/usr/local/lib/python3.6/site-packages/IPython/core/magics/pylab.py:161: UserWarning: pylab import has clobbered these variables: ['entropy']\n",
      "`%matplotlib` prevents importing * from pylab and numpy\n",
      "  \"\\n`%matplotlib` prevents importing * from pylab and numpy\"\n"
     ]
    }
   ],
   "source": [
    "%pylab inline\n",
    "import numpy as np\n",
    "import tensorflow as tf\n",
    "import pandas as pd\n",
    "\n",
    "from sklearn.preprocessing import StandardScaler\n",
    "from scipy.stats import entropy\n",
    "from sklearn import metrics"
   ]
  },
  {
   "cell_type": "markdown",
   "metadata": {
    "deletable": true,
    "editable": true
   },
   "source": [
    "## Create Interactive Session"
   ]
  },
  {
   "cell_type": "code",
   "execution_count": 3,
   "metadata": {
    "collapsed": false,
    "deletable": true,
    "editable": true
   },
   "outputs": [],
   "source": [
    "init_op = tf.global_variables_initializer()\n",
    "\n",
    "gpu_options = tf.GPUOptions(per_process_gpu_memory_fraction=0.001, allow_growth=True)\n",
    "sess = tf.InteractiveSession(config=tf.ConfigProto(gpu_options=gpu_options))\n",
    "sess.run(init_op)"
   ]
  },
  {
   "cell_type": "markdown",
   "metadata": {
    "deletable": true,
    "editable": true
   },
   "source": [
    "# Linear Regression Data"
   ]
  },
  {
   "cell_type": "code",
   "execution_count": 13,
   "metadata": {
    "collapsed": false,
    "deletable": true,
    "editable": true
   },
   "outputs": [
    {
     "data": {
      "text/plain": [
       "<matplotlib.text.Text at 0x7fb4b81a4780>"
      ]
     },
     "execution_count": 13,
     "metadata": {},
     "output_type": "execute_result"
    },
    {
     "data": {
      "image/png": "[encoded data removed]",
      "text/plain": [
       "<matplotlib.figure.Figure at 0x7fb4b821a4e0>"
      ]
     },
     "metadata": {},
     "output_type": "display_data"
    }
   ],
   "source": [
    "data = np.genfromtxt('../../data/linear-regression/linear-regression.csv', delimiter=',')\n",
    "\n",
    "# Scaling\n",
    "scaler = StandardScaler()\n",
    "data = scaler.fit_transform(data)\n",
    "\n",
    "x = data[:, 0]\n",
    "y = data[:, 1] \n",
    "scatter(x, y)\n",
    "grid()\n",
    "xlabel('x')\n",
    "ylabel('y')\n",
    "title('Linear Regression Data')"
   ]
  },
  {
   "cell_type": "code",
   "execution_count": 14,
   "metadata": {
    "collapsed": false,
    "deletable": true,
    "editable": true
   },
   "outputs": [
    {
     "name": "stdout",
     "output_type": "stream",
     "text": [
      "(10,) (10,)\n"
     ]
    }
   ],
   "source": [
    "def next_batch(x, y, size=10):\n",
    "    N = x.shape[0]\n",
    "    idx = np.random.randint(0, N-size)\n",
    "    return x[idx: idx+size], y[idx: idx+size]\n",
    "\n",
    "sample_x, sample_y = next_batch(x, y)\n",
    "print(sample_x.shape, sample_y.shape)"
   ]
  },
  {
   "cell_type": "markdown",
   "metadata": {
    "deletable": true,
    "editable": true
   },
   "source": [
    "# Regression Model"
   ]
  },
  {
   "cell_type": "code",
   "execution_count": 246,
   "metadata": {
    "collapsed": false,
    "deletable": true,
    "editable": true
   },
   "outputs": [],
   "source": [
    "def mean_squared_error(targets, preds):\n",
    "    return tf.reduce_mean((targets - preds)**2)\n",
    "\n",
    "def sigmoid_cross_entropy(targets, preds):\n",
    "    \"\"\"\n",
    "    위의 prediction에서 음수도 나올수 있는데.. 이때 음수를 log에 넣으면 nan이 떠버립니다.\n",
    "    따라서 sigmoid를 통해서 0~1사이의 값으로 보정을 해줍니다. \n",
    "    \"\"\"\n",
    "    preds = tf.sigmoid(preds)\n",
    "    loss = -tf.reduce_sum(targets * tf.log(preds))\n",
    "    return loss\n",
    "\n",
    "def sigmmmoid_cross_entropy2(targets, preds):\n",
    "    return tf.nn.sigmoid_cross_entropy_with_logits(logits=preds, labels=targets)\n",
    "    \n",
    "# Select Cost FUnction\n",
    "cost_function = mean_squared_error\n",
    "\n",
    "\n",
    "# Create Linear Regression Model\n",
    "input_x = tf.placeholder('float', name='input_x')\n",
    "input_y = tf.placeholder('float', name='input_y')\n",
    "\n",
    "w = tf.Variable([-0.85918599], name='weights') # [-0.4775362]\n",
    "b = tf.Variable(tf.zeros([1]), name='bias') # [ 0.]\n",
    "\n",
    "pred = tf.add(tf.multiply(input_x, w), b, name='prediction')\n",
    "cost = cost_function(input_y, pred)\n",
    "grad = tf.train.MomentumOptimizer(learning_rate=0.05, momentum=0.5).minimize(cost)\n",
    "\n",
    "init_op = tf.global_variables_initializer()\n",
    "sess.run(init_op)"
   ]
  },
  {
   "cell_type": "code",
   "execution_count": 26,
   "metadata": {
    "collapsed": false,
    "deletable": true,
    "editable": true
   },
   "outputs": [
    {
     "data": {
      "text/plain": [
       "array([-0.85918599], dtype=float32)"
      ]
     },
     "execution_count": 26,
     "metadata": {},
     "output_type": "execute_result"
    }
   ],
   "source": [
    "sess.run(w, feed_dict={input_x: x, input_y: y})"
   ]
  },
  {
   "cell_type": "markdown",
   "metadata": {
    "deletable": true,
    "editable": true
   },
   "source": [
    "### Linear Regression with Cross Entropy\n",
    "\n",
    "특히 log를 사용하는 cross entropy의 경우에는 classification 문제가 아닌 regression문제에서는 다음과 같은 오류가 날 수 있습니다."
   ]
  },
  {
   "cell_type": "code",
   "execution_count": 244,
   "metadata": {
    "collapsed": false,
    "deletable": true,
    "editable": true,
    "scrolled": false
   },
   "outputs": [
    {
     "name": "stdout",
     "output_type": "stream",
     "text": [
      "weights: 1.1393 | bias: 0.7323 | loss: -30.2798 | sum of predicts: 73.2280\n",
      "weights: 3.6125 | bias: 0.2736 | loss: -127.3338 | sum of predicts: 27.3585\n",
      "weights: 6.6962 | bias: -1.3908 | loss: -292.8667 | sum of predicts: -139.0764\n",
      "weights: 10.1262 | bias: -3.7346 | loss: -493.0262 | sum of predicts: -373.4622\n",
      "weights: 13.7379 | bias: -6.3939 | loss: -708.7568 | sum of predicts: -639.3861\n",
      "weights: 17.4506 | bias: -9.1841 | loss: -931.6041 | sum of predicts: -918.4137\n",
      "weights: 21.2247 | bias: -12.0167 | loss: -1157.6157 | sum of predicts: -1201.6697\n",
      "weights: 25.0390 | bias: -14.8519 | loss: -1384.9764 | sum of predicts: -1485.1854\n",
      "weights: 28.8802 | bias: -17.6755 | loss: -inf | sum of predicts: -1767.5458\n",
      "weights: nan | bias: nan | loss: nan | sum of predicts: nan\n"
     ]
    },
    {
     "data": {
      "image/png": "[encoded data removed]",
      "text/plain": [
       "<matplotlib.figure.Figure at 0x7fb44919bf98>"
      ]
     },
     "metadata": {},
     "output_type": "display_data"
    }
   ],
   "source": [
    "def run(verbose=True, n_iter=10):\n",
    "    normal_y_pred = None\n",
    "    for i in range(1, n_iter):\n",
    "        \n",
    "        sess.run(grad, feed_dict={input_x: x, input_y: y})\n",
    "        y_pred, loss, _w, _b = sess.run([pred, cost, w, b], feed_dict={input_x: x, input_y: y})\n",
    "\n",
    "        if verbose:\n",
    "            _w, _b = _w[0], _b[0]\n",
    "            _sum_pred = np.sum(y_pred)\n",
    "            print(f'weights: {_w:.4f} | bias: {_b:.4f} | loss: {loss:.4f} | sum of predicts: {_sum_pred:.4f}')\n",
    "\n",
    "        if np.isnan(y_pred).any():\n",
    "            break\n",
    "            \n",
    "        axes = subplot(3, 3, i)\n",
    "        axes.get_xaxis().set_visible(False)\n",
    "        axes.get_yaxis().set_visible(False)\n",
    "\n",
    "        scatter(x, y)\n",
    "        plot(x, y_pred, color='red')\n",
    "        grid()\n",
    "        axes.grid()\n",
    "        \n",
    "run(n_iter=20)"
   ]
  },
  {
   "cell_type": "markdown",
   "metadata": {
    "deletable": true,
    "editable": true
   },
   "source": [
    "### Linear Regression with Mean Squared Error\n",
    "\n",
    "반면에 Mean Squared Error의 경우에는 Regression에서 문제없이 처리를 잘 해냅니다."
   ]
  },
  {
   "cell_type": "code",
   "execution_count": 247,
   "metadata": {
    "collapsed": false,
    "deletable": true,
    "editable": true,
    "scrolled": false
   },
   "outputs": [
    {
     "name": "stdout",
     "output_type": "stream",
     "text": [
      "weights: -0.6959 | bias: 0.0000 | loss: 2.5611 | sum of predicts: 0.0000\n",
      "weights: -0.4673 | bias: -0.0000 | loss: 1.9415 | sum of predicts: 0.0000\n",
      "weights: -0.2289 | bias: -0.0000 | loss: 1.4066 | sum of predicts: 0.0000\n",
      "weights: -0.0094 | bias: -0.0000 | loss: 1.0147 | sum of predicts: -0.0000\n",
      "weights: 0.1786 | bias: -0.0000 | loss: 0.7555 | sum of predicts: -0.0000\n",
      "weights: 0.3322 | bias: -0.0000 | loss: 0.5963 | sum of predicts: 0.0000\n",
      "weights: 0.4531 | bias: -0.0000 | loss: 0.5042 | sum of predicts: -0.0000\n",
      "weights: 0.5456 | bias: -0.0000 | loss: 0.4534 | sum of predicts: 0.0000\n",
      "weights: 0.6147 | bias: -0.0000 | loss: 0.4266 | sum of predicts: 0.0000\n"
     ]
    },
    {
     "data": {
      "image/png": "[encoded data removed]",
      "text/plain": [
       "<matplotlib.figure.Figure at 0x7fb449b2d898>"
      ]
     },
     "metadata": {},
     "output_type": "display_data"
    }
   ],
   "source": [
    "run(verbose=True)"
   ]
  }
 ],
 "metadata": {
  "kernelspec": {
   "display_name": "Python 3",
   "language": "python",
   "name": "python3"
  },
  "language_info": {
   "codemirror_mode": {
    "name": "ipython",
    "version": 3
   },
   "file_extension": ".py",
   "mimetype": "text/x-python",
   "name": "python",
   "nbconvert_exporter": "python",
   "pygments_lexer": "ipython3",
   "version": "3.6.0"
  }
 },
 "nbformat": 4,
 "nbformat_minor": 2
}
