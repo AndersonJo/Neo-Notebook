{
 "cells": [
  {
   "cell_type": "markdown",
   "metadata": {},
   "source": [
    "# Autoregression \n",
    "\n",
    "Autoregression은 time-series model로서, 과거의 데이터를 regression equation의  input data로 사용하여 다음 step에 나올 값을 예측하는 것입니다. <br>\n",
    "예를 들어 regression model중의 linear regression의 공식은 다음과 같습니다. \n",
    "\n",
    "$$ \\hat{y} = \\beta_0 + \\beta_1 x $$\n",
    "\n",
    "\n",
    "* $ \\hat{y} $ : 예측값\n",
    "* $ \\beta_0 $ 그리고 $ \\beta_1 $ : 모델을 optimization 함으로 얻을수 있는 coefficients\n",
    "\n",
    "예를 들어 마지막 2 time steps의 observations을 이용하여 그 다음 나올 값을 예측하면 다음과 같이 공식을 쓸수 있습니다.\n",
    "\n",
    "$$ x_{t+1} = \\beta_0 + \\beta_1 x_{t-1} + \\beta_2 x_{t-2} $$"
   ]
  },
  {
   "cell_type": "code",
   "execution_count": null,
   "metadata": {
    "collapsed": true
   },
   "outputs": [],
   "source": []
  }
 ],
 "metadata": {
  "kernelspec": {
   "display_name": "Python 3",
   "language": "python",
   "name": "python3"
  },
  "language_info": {
   "codemirror_mode": {
    "name": "ipython",
    "version": 3
   },
   "file_extension": ".py",
   "mimetype": "text/x-python",
   "name": "python",
   "nbconvert_exporter": "python",
   "pygments_lexer": "ipython3",
   "version": "3.6.1"
  }
 },
 "nbformat": 4,
 "nbformat_minor": 2
}
