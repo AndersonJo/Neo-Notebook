{
 "cells": [
  {
   "cell_type": "markdown",
   "metadata": {
    "deletable": true,
    "editable": true
   },
   "source": [
    "# RNN Hello World\n",
    "\n",
    "RNN을 사용해서 \"Hello Anderson Hi World!. Everything is awesome!\" 이라는 글자들을 예측하는 RNN을 만들어봅니다. "
   ]
  },
  {
   "cell_type": "code",
   "execution_count": 31,
   "metadata": {
    "collapsed": false,
    "deletable": true,
    "editable": true
   },
   "outputs": [],
   "source": [
    "import tensorflow as tf\n",
    "from keras.layers import SimpleRNN, Dense\n",
    "from keras.models import Sequential\n",
    "\n",
    "from nltk.tokenize import word_tokenize, sent_tokenize\n",
    "from nltk import FreqDist\n",
    "import itertools\n",
    "import pickle"
   ]
  },
  {
   "cell_type": "markdown",
   "metadata": {
    "deletable": true,
    "editable": true
   },
   "source": [
    "## Data\n",
    "\n",
    "unique words의 갯수는 총 22개. 이중에서 기억할 단어의 갯수는 20개로 잡고, 2개는 UNKNOWN 으로 둠"
   ]
  },
  {
   "cell_type": "code",
   "execution_count": 12,
   "metadata": {
    "collapsed": false,
    "deletable": true,
    "editable": true
   },
   "outputs": [],
   "source": [
    "VOCAB_SIZE = 20 \n",
    "START = '_start'\n",
    "END = '_end'\n",
    "UNKNOWN = '_unknown'\n",
    "\n",
    "raw_data = ['Anderson lives in Seoul. he is happy becuase he lives in Seoul',\n",
    "            'I love Rainb', \n",
    "            'I live in South Korea', \n",
    "            'You must love RainbowSix']\n",
    "\n",
    "# Tokinize : 각 문장은 list가 되고, 각 단어별로 string이 잡힌다. \n",
    "sentences = itertools.chain(*[sent_tokenize(sentence) for sentence in raw_data])\n",
    "sentences = [f'{START} {sentence} {END}' for sentence in sentences]\n",
    "tokenized_sentences = [word_tokenize(st) for st in sentences ]\n",
    "\n",
    "# Unique Words \n",
    "word_freq = FreqDist(itertools.chain(*tokenized_sentences))\n",
    "most_common_freq = word_freq.most_common(VOCAB_SIZE)\n",
    "unique_words = [wfreq[0] for wfreq in most_common_freq]\n",
    "unique_words.append(UNKNOWN)\n",
    "\n",
    "# Index\n",
    "idx2word = {i:w for i, w in enumerate(unique_words)}\n",
    "word2idx = {w:i for i, w in enumerate(unique_words)}"
   ]
  },
  {
   "cell_type": "markdown",
   "metadata": {
    "deletable": true,
    "editable": true
   },
   "source": [
    "# Model"
   ]
  },
  {
   "cell_type": "code",
   "execution_count": 39,
   "metadata": {
    "collapsed": false,
    "deletable": true,
    "editable": true
   },
   "outputs": [],
   "source": [
    "Dy = 10\n",
    "Du = (None, None, 1)\n",
    "\n",
    "model = Sequential(name='SimpleRNNModel')\n",
    "model.add(SimpleRNN(output_dim=Dy, batch_input_shape=Du, return_sequences=True))\n",
    "model.add(Dense(1))\n",
    "model.compile(loss='categorical_crossentropy', optimizer='adam')\n",
    "model.fit()\n",
    "# model.add(Dense(output_dim=1))"
   ]
  }
 ],
 "metadata": {
  "kernelspec": {
   "display_name": "Python 3",
   "language": "python",
   "name": "python3"
  },
  "language_info": {
   "codemirror_mode": {
    "name": "ipython",
    "version": 3
   },
   "file_extension": ".py",
   "mimetype": "text/x-python",
   "name": "python",
   "nbconvert_exporter": "python",
   "pygments_lexer": "ipython3",
   "version": "3.6.0"
  }
 },
 "nbformat": 4,
 "nbformat_minor": 2
}
