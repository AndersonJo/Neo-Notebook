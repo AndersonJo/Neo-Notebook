{
 "cells": [
  {
   "cell_type": "markdown",
   "metadata": {},
   "source": [
    "# Single Neural Network\n",
    "\n",
    "\n",
    "### Cost Function (Sum of squared Errors)\n",
    "\n",
    "먼저 **Object function** $ J(w) $ (Sum of squared Errors - SSE) 를 정의합니다.<br>\n",
    "이때 $ \\phi(z^{(i)}) $ 는 Identity activation function 입니다.\n",
    "\n",
    "$$ \\begin{align} \n",
    "z &= \\sum_{j=0} w_j x_j = w^T x + b \\\\\n",
    "\\phi(z^{(i)}) &= z^{(i)} \\\\\n",
    "J(w) &= \\frac{1}{N} \\sum_i \\left( y^{(i)} - \\phi(z^{(i)}) \\right)^2 \\\\\n",
    "\\end{align} $$\n",
    "\n",
    "### Calculate Gradient with regard to weights $ w $\n",
    "\n",
    "$$ \\begin{align} \n",
    "\\frac{\\partial J}{\\partial w_j} &= \\frac{\\partial}{\\partial w_j}  \\frac{1}{N} \\sum_i \\left(y^{(i)} - \\phi(z^{(i)}) \\right)^2 \\\\\n",
    "&= \\frac{2}{N} \\sum_i \\left( y^{(i)} - \\phi(z^{(i)}) \\right) \\frac{\\partial}{\\partial w_j} \\left(y^{(i)} - \\phi(z^{(i)}) \\right) \\\\\n",
    "&= \\frac{2}{N} \\sum_i \\left( y^{(i)} - \\phi(z^{(i)}) \\right) \\frac{\\partial}{\\partial w_j} \\left[ y^{(i)} - \\sum_k \\left( w^{(i)}_k x^{(i)}_k + b^{i} \\right) \\right] \\\\\n",
    "&= \\frac{2}{N} \\sum_i \\left( y^{(i)} - \\phi(z^{(i)}) \\right)(0 - (1 \\cdot x^{(i)}_j + 0 ) ) \\\\\n",
    "&= - \\frac{2}{N} \\sum_i \\left( y^{(i)} - \\phi(z^{(i)}) \\right) \\odot x^{(i)}_j\n",
    "\\end{align}$$\n",
    "\n",
    "### Calculate Gradient with regard to bias $ b $\n",
    "\n",
    "$$ \\begin{align} \n",
    "\\frac{\\partial J}{\\partial b_j} &= \\frac{\\partial}{\\partial b_j}  \\frac{1}{N} \\sum_i \\left(y^{(i)} - \\phi(z^{(i)}) \\right)^2 \\\\\n",
    "&= \\frac{2}{N} \\sum_i \\left( y^{(i)} - \\phi(z^{(i)}) \\right) \\frac{\\partial}{\\partial b_j} \\left(y^{(i)} - \\phi(z^{(i)}) \\right) \\\\\n",
    "&= \\frac{2}{N} \\sum_i \\left( y^{(i)} - \\phi(z^{(i)}) \\right) \\frac{\\partial}{\\partial b_j} \\left[ y^{(i)} - \\sum_k \\left( w^{(i)}_k x^{(i)}_k + b^{i} \\right) \\right] \\\\\n",
    "&= \\frac{2}{N} \\sum_i \\left( y^{(i)} - \\phi(z^{(i)}) \\right)(0 - (0 + 1 ) ) \\\\\n",
    "&= - \\frac{2}{N} \\sum_i \\left( y^{(i)} - \\phi(z^{(i)}) \\right) \n",
    "\\end{align}$$\n",
    "\n",
    "### Update Weights\n",
    "\n",
    "$$ \\begin{align} \n",
    "\\Delta w &= - \\eta \\nabla J(w)  \\\\\n",
    "w &= w + \\Delta w\n",
    "\\end{align}$$"
   ]
  },
  {
   "cell_type": "markdown",
   "metadata": {},
   "source": [
    "# Backpropagation"
   ]
  }
 ],
 "metadata": {
  "kernelspec": {
   "display_name": "Python 3",
   "language": "python",
   "name": "python3"
  },
  "language_info": {
   "codemirror_mode": {
    "name": "ipython",
    "version": 3
   },
   "file_extension": ".py",
   "mimetype": "text/x-python",
   "name": "python",
   "nbconvert_exporter": "python",
   "pygments_lexer": "ipython3",
   "version": "3.6.0"
  }
 },
 "nbformat": 4,
 "nbformat_minor": 2
}
