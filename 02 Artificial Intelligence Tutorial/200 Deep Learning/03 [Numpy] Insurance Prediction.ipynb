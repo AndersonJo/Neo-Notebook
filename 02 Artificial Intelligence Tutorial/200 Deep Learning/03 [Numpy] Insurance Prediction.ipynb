{
 "cells": [
  {
   "cell_type": "code",
   "execution_count": 4,
   "metadata": {
    "collapsed": false
   },
   "outputs": [
    {
     "name": "stdout",
     "output_type": "stream",
     "text": [
      "Populating the interactive namespace from numpy and matplotlib\n"
     ]
    }
   ],
   "source": [
    "%pylab inline\n",
    "\n",
    "import numpy as np\n",
    "import pandas as pd\n",
    "\n",
    "from sklearn.preprocessing import StandardScaler, OneHotEncoder\n",
    "from sklearn.model_selection import GridSearchCV\n",
    "from sklearn.cross_validation import train_test_split\n",
    "from sklearn.metrics import make_scorer, r2_score\n",
    "\n",
    "from IPython.display import display"
   ]
  },
  {
   "cell_type": "code",
   "execution_count": 8,
   "metadata": {
    "collapsed": false
   },
   "outputs": [
    {
     "ename": "SyntaxError",
     "evalue": "invalid syntax (<ipython-input-8-af070bc0810c>, line 14)",
     "output_type": "error",
     "traceback": [
      "\u001b[0;36m  File \u001b[0;32m\"<ipython-input-8-af070bc0810c>\"\u001b[0;36m, line \u001b[0;32m14\u001b[0m\n\u001b[0;31m    def compile()\u001b[0m\n\u001b[0m                 ^\u001b[0m\n\u001b[0;31mSyntaxError\u001b[0m\u001b[0;31m:\u001b[0m invalid syntax\n"
     ]
    }
   ],
   "source": [
    "class Layer(object):\n",
    "    def __init__(self, n_out, activation=None, batch_input_shape=None):\n",
    "        self.n_out = n_out\n",
    "        self.activation = activation\n",
    "        self.batch_input_shape = batch_input_shape\n",
    "        \n",
    "class Model(object):\n",
    "    def __init__(self):\n",
    "        self.layers = list()\n",
    "    \n",
    "    def add(self, layer):\n",
    "        self.layers.append(layer)\n",
    "        \n",
    "    def compile()\n",
    "        \n",
    "    \n",
    "    \n",
    "model = Model()\n",
    "model.add(Layer(32, activation='sigmoid', batch_input_shape=(None, 9)))\n",
    "model.add(Layer(32, activation='sigmoid'))\n",
    "model.add(Layer(32, activation='sigmoid'))\n",
    "model.add(Layer(16, activation='sigmoid'))\n",
    "model.add(Layer(1))\n",
    "model.compile(optimizer='rmsprop', loss='mean_squared_error')"
   ]
  }
 ],
 "metadata": {
  "kernelspec": {
   "display_name": "Python 3",
   "language": "python",
   "name": "python3"
  },
  "language_info": {
   "codemirror_mode": {
    "name": "ipython",
    "version": 3
   },
   "file_extension": ".py",
   "mimetype": "text/x-python",
   "name": "python",
   "nbconvert_exporter": "python",
   "pygments_lexer": "ipython3",
   "version": "3.6.0"
  }
 },
 "nbformat": 4,
 "nbformat_minor": 2
}
