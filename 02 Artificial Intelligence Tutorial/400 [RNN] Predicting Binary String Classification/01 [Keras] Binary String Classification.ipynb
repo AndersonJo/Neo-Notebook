{
 "cells": [
  {
   "cell_type": "markdown",
   "metadata": {
    "deletable": true,
    "editable": true
   },
   "source": [
    "# RNN Hello World\n",
    "\n",
    "RNN을 사용해서 \"Hello Anderson Hi World!. Everything is awesome!\" 이라는 글자들을 예측하는 RNN을 만들어봅니다. "
   ]
  },
  {
   "cell_type": "code",
   "execution_count": 1,
   "metadata": {
    "collapsed": false,
    "deletable": true,
    "editable": true
   },
   "outputs": [
    {
     "name": "stderr",
     "output_type": "stream",
     "text": [
      "Using TensorFlow backend.\n"
     ]
    }
   ],
   "source": [
    "import numpy as np\n",
    "import tensorflow as tf\n",
    "\n",
    "from keras.layers import LSTM, SimpleRNN, GRU\n",
    "from keras.models import Sequential"
   ]
  },
  {
   "cell_type": "markdown",
   "metadata": {
    "deletable": true,
    "editable": true
   },
   "source": [
    "## Data"
   ]
  },
  {
   "cell_type": "code",
   "execution_count": 2,
   "metadata": {
    "collapsed": false,
    "deletable": true,
    "editable": true
   },
   "outputs": [],
   "source": [
    "LABEL_SIZE = 100\n",
    "TRAINING_SIZE = 50000\n",
    "TEST_SIZE = 10000\n",
    "\n",
    "def create_data(size=50000, maximum=1000, end_token=2):\n",
    "    max_length = len(bin(maximum-1)[2:]) + 1\n",
    "    rands = np.random.randint(0, maximum, size=500000)\n",
    "    xs = np.zeros((size, 1, max_length), dtype='float32')\n",
    "    ys = np.zeros((size, 1, maximum), dtype='int32')\n",
    "    for i in range(size):\n",
    "        x = np.zeros(20, dtype='float32')\n",
    "        rand_bin = bin(rands[i])[2:]+ str(end_token)\n",
    "        rand_bin = list(map(float, list(rand_bin)))\n",
    "        xs[i, 0, :len(rand_bin)] = rand_bin    \n",
    "        ys[i, 0, rands[i]] = 1\n",
    "    \n",
    "    return xs, ys\n",
    "\n",
    "train_x, train_y = create_data(size=TRAINING_SIZE, maximum=LABEL_SIZE)\n",
    "test_x, test_y = create_data(size=TEST_SIZE, maximum=LABEL_SIZE)\n",
    "\n",
    "SENTENCE_LENGTH = train_x.shape[2]"
   ]
  },
  {
   "cell_type": "markdown",
   "metadata": {
    "deletable": true,
    "editable": true
   },
   "source": [
    "# LSTM Model\n",
    "\n",
    "1. categorical_crossentropy 가 작동하지 않음 (자세한 분석 필요)"
   ]
  },
  {
   "cell_type": "code",
   "execution_count": 14,
   "metadata": {
    "collapsed": false,
    "deletable": true,
    "editable": true
   },
   "outputs": [
    {
     "name": "stdout",
     "output_type": "stream",
     "text": [
      "Epoch 1/5\n",
      "8s - loss: 0.0087\n",
      "Epoch 2/5\n",
      "8s - loss: 0.0059\n",
      "Epoch 3/5\n",
      "8s - loss: 0.0046\n",
      "Epoch 4/5\n",
      "8s - loss: 0.0040\n",
      "Epoch 5/5\n",
      "8s - loss: 0.0036\n"
     ]
    },
    {
     "data": {
      "text/plain": [
       "<keras.callbacks.History at 0x7f461d5d9f60>"
      ]
     },
     "execution_count": 14,
     "metadata": {},
     "output_type": "execute_result"
    }
   ],
   "source": [
    "lstm = Sequential(name='LSTM')\n",
    "lstm.add(LSTM(output_dim=LABEL_SIZE, batch_input_shape=(None, None, SENTENCE_LENGTH), \n",
    "               return_sequences=True, name='lstm'))\n",
    "lstm.compile(loss='mean_squared_error', optimizer='adam')\n",
    "lstm.fit(train_x, train_y, verbose=2, nb_epoch=5)"
   ]
  },
  {
   "cell_type": "code",
   "execution_count": 15,
   "metadata": {
    "collapsed": false,
    "deletable": true,
    "editable": true
   },
   "outputs": [
    {
     "data": {
      "text/plain": [
       "0.0034724433556199072"
      ]
     },
     "execution_count": 15,
     "metadata": {},
     "output_type": "execute_result"
    }
   ],
   "source": [
    "lstm.evaluate(test_x, test_y, verbose=2)"
   ]
  },
  {
   "cell_type": "code",
   "execution_count": 16,
   "metadata": {
    "collapsed": false,
    "deletable": true,
    "editable": true
   },
   "outputs": [
    {
     "name": "stdout",
     "output_type": "stream",
     "text": [
      "테스트 갯수: 10000, 맞은 갯수: 10000\n",
      "accuracy: 1.0\n"
     ]
    }
   ],
   "source": [
    "def evaluate(model, x, y):\n",
    "    y_preds = model.predict(x)\n",
    "    n_correct = 0\n",
    "    for i in range(TEST_SIZE):\n",
    "        y_pred = np.argmax(y_preds[i, 0])\n",
    "        y_true = np.argmax(y[i, 0])\n",
    "        if y_pred == y_true:\n",
    "            n_correct += 1\n",
    "            \n",
    "    print(f'테스트 갯수: {TEST_SIZE}, 맞은 갯수: {n_correct}')\n",
    "    print('accuracy:', n_correct/float(TEST_SIZE))\n",
    "    \n",
    "evaluate(lstm, test_x, test_y)"
   ]
  },
  {
   "cell_type": "markdown",
   "metadata": {
    "deletable": true,
    "editable": true
   },
   "source": [
    "## RNN MODEL\n"
   ]
  },
  {
   "cell_type": "code",
   "execution_count": 6,
   "metadata": {
    "collapsed": false,
    "deletable": true,
    "editable": true
   },
   "outputs": [
    {
     "name": "stdout",
     "output_type": "stream",
     "text": [
      "train_x shape: (50000, 1, 8)\n",
      "train_y shape: (10000, 100)\n"
     ]
    }
   ],
   "source": [
    "train_rnn_y = train_y.reshape((train_y.shape[0],train_y.shape[2]))\n",
    "test_rnn_y = test_y.reshape((test_y.shape[0],test_y.shape[2]))\n",
    "\n",
    "print('train_x shape:', train_x.shape)\n",
    "print('train_y shape:', test_rnn_y.shape)"
   ]
  },
  {
   "cell_type": "code",
   "execution_count": 7,
   "metadata": {
    "collapsed": false,
    "deletable": true,
    "editable": true
   },
   "outputs": [
    {
     "name": "stdout",
     "output_type": "stream",
     "text": [
      "Epoch 1/5\n",
      "3s - loss: 0.0141\n",
      "Epoch 2/5\n",
      "3s - loss: 0.0092\n",
      "Epoch 3/5\n",
      "3s - loss: 0.0092\n",
      "Epoch 4/5\n",
      "3s - loss: 0.0092\n",
      "Epoch 5/5\n",
      "3s - loss: 0.0092\n"
     ]
    },
    {
     "data": {
      "text/plain": [
       "<keras.callbacks.History at 0x7f2c90765860>"
      ]
     },
     "execution_count": 7,
     "metadata": {},
     "output_type": "execute_result"
    }
   ],
   "source": [
    "rnn = Sequential(name='RNN')\n",
    "rnn.add(SimpleRNN(output_dim=LABEL_SIZE, name='rnn', batch_input_shape=(None, None, SENTENCE_LENGTH)))\n",
    "rnn.compile(loss='mean_squared_error', optimizer='adam')\n",
    "rnn.fit(train_x, train_rnn_y, verbose=2, nb_epoch=5)"
   ]
  },
  {
   "cell_type": "code",
   "execution_count": 8,
   "metadata": {
    "collapsed": false,
    "deletable": true,
    "editable": true
   },
   "outputs": [
    {
     "name": "stdout",
     "output_type": "stream",
     "text": [
      "테스트 갯수: 10000, 맞은 갯수: 10000\n",
      "accuracy: 1.0\n"
     ]
    }
   ],
   "source": [
    "evaluate(rnn, test_x, test_rnn_y)"
   ]
  },
  {
   "cell_type": "markdown",
   "metadata": {
    "deletable": true,
    "editable": true
   },
   "source": [
    "## GRU Model"
   ]
  },
  {
   "cell_type": "code",
   "execution_count": 10,
   "metadata": {
    "collapsed": false,
    "deletable": true,
    "editable": true
   },
   "outputs": [
    {
     "name": "stdout",
     "output_type": "stream",
     "text": [
      "Epoch 1/5\n",
      "7s - loss: 0.0102\n",
      "Epoch 2/5\n",
      "7s - loss: 0.0075\n",
      "Epoch 3/5\n",
      "6s - loss: 0.0059\n",
      "Epoch 4/5\n",
      "7s - loss: 0.0049\n",
      "Epoch 5/5\n",
      "7s - loss: 0.0042\n"
     ]
    },
    {
     "data": {
      "text/plain": [
       "<keras.callbacks.History at 0x7f2c6d94a748>"
      ]
     },
     "execution_count": 10,
     "metadata": {},
     "output_type": "execute_result"
    }
   ],
   "source": [
    "gru = Sequential(name='RNN')\n",
    "gru.add(GRU(output_dim=LABEL_SIZE, name='rnn', batch_input_shape=(None, None, SENTENCE_LENGTH)))\n",
    "gru.compile(loss='mean_squared_error', optimizer='adam')\n",
    "gru.fit(train_x, train_rnn_y, verbose=2, nb_epoch=5)"
   ]
  },
  {
   "cell_type": "code",
   "execution_count": 11,
   "metadata": {
    "collapsed": false,
    "deletable": true,
    "editable": true
   },
   "outputs": [
    {
     "name": "stdout",
     "output_type": "stream",
     "text": [
      "테스트 갯수: 10000, 맞은 갯수: 10000\n",
      "accuracy: 1.0\n"
     ]
    }
   ],
   "source": [
    "evaluate(gru, test_x, test_rnn_y)"
   ]
  }
 ],
 "metadata": {
  "kernelspec": {
   "display_name": "Python 3",
   "language": "python",
   "name": "python3"
  },
  "language_info": {
   "codemirror_mode": {
    "name": "ipython",
    "version": 3
   },
   "file_extension": ".py",
   "mimetype": "text/x-python",
   "name": "python",
   "nbconvert_exporter": "python",
   "pygments_lexer": "ipython3",
   "version": "3.6.0"
  }
 },
 "nbformat": 4,
 "nbformat_minor": 2
}
