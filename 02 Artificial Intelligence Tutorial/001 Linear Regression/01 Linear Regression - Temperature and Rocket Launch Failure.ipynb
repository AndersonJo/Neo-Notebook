{
 "cells": [
  {
   "cell_type": "code",
   "execution_count": 3,
   "metadata": {
    "collapsed": false,
    "deletable": true,
    "editable": true
   },
   "outputs": [
    {
     "name": "stdout",
     "output_type": "stream",
     "text": [
      "Populating the interactive namespace from numpy and matplotlib\n"
     ]
    }
   ],
   "source": [
    "%pylab inline\n",
    "import numpy as np\n",
    "import pandas as pd"
   ]
  },
  {
   "cell_type": "code",
   "execution_count": 54,
   "metadata": {
    "collapsed": false,
    "deletable": true,
    "editable": true
   },
   "outputs": [
    {
     "data": {
      "text/plain": [
       "<matplotlib.collections.PathCollection at 0x7ff628ecead0>"
      ]
     },
     "execution_count": 54,
     "metadata": {},
     "output_type": "execute_result"
    },
    {
     "data": {
      "image/png": "[encoded data removed]",
      "text/plain": [
       "<matplotlib.figure.Figure at 0x7ff629169e10>"
      ]
     },
     "metadata": {},
     "output_type": "display_data"
    }
   ],
   "source": [
    "# Distress Count, Temperature, Field check Pressure, Flight Num\n",
    "data = np.genfromtxt('../data/linear-regression/challenger.csv', delimiter=',', skip_header=True)\n",
    "data = data[:, :3]\n",
    "\n",
    "temperatures = data[:, 1]\n",
    "distresses = data[:, 0]\n",
    "\n",
    "\n",
    "plt.scatter(temperatures, distresses)"
   ]
  },
  {
   "cell_type": "code",
   "execution_count": 91,
   "metadata": {
    "collapsed": false,
    "deletable": true,
    "editable": true
   },
   "outputs": [
    {
     "name": "stdout",
     "output_type": "stream",
     "text": [
      "Slope:-0.047540, y_intercept: 3.698413\n"
     ]
    },
    {
     "data": {
      "text/plain": [
       "[<matplotlib.lines.Line2D at 0x7ff6285b6bd0>]"
      ]
     },
     "execution_count": 91,
     "metadata": {},
     "output_type": "execute_result"
    },
    {
     "data": {
      "image/png": "[encoded data removed]",
      "text/plain": [
       "<matplotlib.figure.Figure at 0x7ff629069450>"
      ]
     },
     "metadata": {},
     "output_type": "display_data"
    }
   ],
   "source": [
    "def lm(xs, ys):\n",
    "    x_mean = np.mean(xs)\n",
    "    y_mean = np.mean(ys)\n",
    "    slope = np.sum( ( (xs - x_mean) * (ys - y_mean))/np.sum((xs - x_mean)**2))\n",
    "    y_intercept = y_mean - slope * x_mean\n",
    "    return slope, y_intercept\n",
    "    \n",
    "    \n",
    "slope, y_intercept = lm(temperatures, distresses)\n",
    "print 'Slope:%f, y_intercept: %f' % (slope, y_intercept)\n",
    "\n",
    "x_range = np.arange(min(temperatures), max(temperatures))\n",
    "predicts = slope*x_range + y_intercept\n",
    "\n",
    "plt.xlabel('Temperatures')\n",
    "plt.ylabel('Distress(Failures)')\n",
    "plt.scatter(temperatures, distresses)\n",
    "plot(x_range, predicts)\n",
    "    "
   ]
  },
  {
   "cell_type": "code",
   "execution_count": 99,
   "metadata": {
    "collapsed": false,
    "deletable": true,
    "editable": true
   },
   "outputs": [
    {
     "data": {
      "text/plain": [
       "-0.51112638557405599"
      ]
     },
     "execution_count": 99,
     "metadata": {},
     "output_type": "execute_result"
    }
   ],
   "source": [
    "# Pearson Correlation\n",
    "def cor(xs, ys):\n",
    "    x_mean = np.mean(xs)\n",
    "    y_mean = np.mean(ys)\n",
    "    cov = np.sum((xs - x_mean) * (ys - y_mean))/len(xs)\n",
    "    return  cov /(np.std(xs) * np.std(ys))\n",
    "\n",
    "cor(temperatures, distresses)"
   ]
  }
 ],
 "metadata": {
  "kernelspec": {
   "display_name": "Python 2",
   "language": "python",
   "name": "python2"
  },
  "language_info": {
   "codemirror_mode": {
    "name": "ipython",
    "version": 2
   },
   "file_extension": ".py",
   "mimetype": "text/x-python",
   "name": "python",
   "nbconvert_exporter": "python",
   "pygments_lexer": "ipython2",
   "version": "2.7.12"
  }
 },
 "nbformat": 4,
 "nbformat_minor": 0
}
