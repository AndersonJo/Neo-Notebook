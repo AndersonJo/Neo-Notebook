{
 "cells": [
  {
   "cell_type": "code",
   "execution_count": 89,
   "metadata": {
    "collapsed": false,
    "deletable": true,
    "editable": true
   },
   "outputs": [
    {
     "name": "stdout",
     "output_type": "stream",
     "text": [
      "Populating the interactive namespace from numpy and matplotlib\n"
     ]
    }
   ],
   "source": [
    "%pylab inline\n",
    "\n",
    "import numpy as np\n",
    "import pandas as pd\n",
    "import statsmodels.api as sm\n",
    "import matplotlib.pyplot as plt\n",
    "\n",
    "from sklearn.metrics import mean_squared_error\n",
    "from sklearn.preprocessing import StandardScaler\n",
    "\n",
    "from IPython.display import display"
   ]
  },
  {
   "cell_type": "markdown",
   "metadata": {
    "deletable": true,
    "editable": true
   },
   "source": [
    "# Example Data\n",
    "\n",
    "\n",
    "각 학생별 퀴즈를 풀기위해 투입한 시간대비, 퀴즈성적은 다음과 같습니다.\n",
    "\n",
    "| 학생 | 공부한 시간 | 퀴즈 점수 | \n",
    "|:----|:----------|:--------|\n",
    "| 창민 | 5         | 66 |\n",
    "| 윤서 | 15        | 87 |\n",
    "| 정아 | 25        | 90 |"
   ]
  },
  {
   "cell_type": "markdown",
   "metadata": {
    "deletable": true,
    "editable": true
   },
   "source": [
    "# Regression Model\n",
    "\n",
    "$$ y_i = \\beta_{const} + \\beta_1 x_1 + \\beta_2 x_2 + ... + \\beta_k x_k + e_i $$\n",
    " \n",
    " \n",
    "예를 들면..\n",
    "\n",
    " * $ \\hat{y} $ : 퀴즈 점수\n",
    " * $ x $ : 공부한 시간 \n",
    " * $ e_i $ : error term\n",
    " * $ \\beta_{const} $ : y-intercept를 나타내며, 학생이 수업에 나오기만 해도 주는 점수라고 보면 됩니다.\n",
    " * $ \\beta_i $ : 각 학생이 공부한 시간에 따른 추가적인 점수\n",
    " \n",
    "\n",
    "### Error Term\n",
    "\n",
    "Error Term은 random influences를 나타냅니다. <br>\n",
    "$$ \\begin{align}\n",
    "e &= y -  \\hat{y}    \\\\\n",
    "y &= \\hat{y} + e \n",
    "\\end{align} $$\n",
    "\n",
    "error 값은 input값으로 들어가는 값중의 하나이며, 정하는건... 분석가의 능력에 달려있습니다.<br>\n",
    "만약 넣지 않으면 $ \\beta_{const} $ 에서 y-intercept로 반영이 될 것입니다.\n",
    "\n",
    "\n"
   ]
  },
  {
   "cell_type": "markdown",
   "metadata": {
    "deletable": true,
    "editable": true
   },
   "source": [
    "# Least Squares Estimation\n",
    "\n",
    "일단 y값은 데이터이기 때문에 어떤 값인지 알고 있지만, parameters $ \\beta $ 값들은 모르기 때문에, 알기 위해서는 어떠한 방법으로 estimate해줘야 합니다.<br>\n",
    "가장 흔하게 쓰이는 방법은 SSE (Sum of the Squared Error)입니다.\n",
    "\n",
    "$$ SSE = \\sum^N_{i=1} e^2_i = \\sum^N_{i=1} (y_i - \\hat{y}_i)^2 $$\n",
    "\n",
    "\n",
    "Least sqaures estimation을 calculus로 미분하면 다음과 같은 결과가 나옵니다.\n",
    "\n",
    "$$ \\hat{\\beta}_1=\\frac{ \\sum_{i=1}^{N}(y_i-\\bar{y})(x_i-\\bar{x})}{\\sum_{i=1}^{N}(x_i-\\bar{x})^2} $$ \n",
    "\n",
    "그리고.. \n",
    "\n",
    "$$ \\hat{\\beta}_0=\\bar{y}-\\hat{\\beta}_1\\bar{x} $$ \n",
    "\n",
    "\n",
    "Derivation하는 방법은 다음의 문서를 참고합니다.\n",
    "* [Simple Linear Regression Least Squares Estimates of β0 and β1](https://www.amherst.edu/system/files/media/1287/SLR_Leastsquares.pdf)\n",
    "* [The Mathematical Derivation of Least Squares](https://isites.harvard.edu/fs/docs/icb.topic515975.files/OLSDerivation.pdf)"
   ]
  },
  {
   "cell_type": "markdown",
   "metadata": {},
   "source": [
    "## Data"
   ]
  },
  {
   "cell_type": "code",
   "execution_count": 221,
   "metadata": {
    "collapsed": false,
    "deletable": true,
    "editable": true
   },
   "outputs": [],
   "source": [
    "data = np.loadtxt('../../data/linear-regression/ex1data1.txt', delimiter=',')\n",
    "scaler = StandardScaler()\n",
    "data = scaler.fit_transform(data)"
   ]
  },
  {
   "cell_type": "code",
   "execution_count": 220,
   "metadata": {
    "collapsed": false,
    "deletable": true,
    "editable": true
   },
   "outputs": [
    {
     "data": {
      "text/plain": [
       "<matplotlib.text.Text at 0x7fc73c09fcc0>"
      ]
     },
     "execution_count": 220,
     "metadata": {},
     "output_type": "execute_result"
    },
    {
     "data": {
      "image/png": "[encoded data removed]",
      "text/plain": [
       "<matplotlib.figure.Figure at 0x7fc73e16a748>"
      ]
     },
     "metadata": {},
     "output_type": "display_data"
    }
   ],
   "source": [
    "scatter(data[:, 0], data[:, 1])\n",
    "title('Profits distribution')\n",
    "xlabel('Population of City in 10,000s')\n",
    "ylabel('Profit in $10,000s')"
   ]
  },
  {
   "cell_type": "markdown",
   "metadata": {},
   "source": [
    "## Numpy Code"
   ]
  },
  {
   "cell_type": "code",
   "execution_count": 230,
   "metadata": {
    "collapsed": false,
    "deletable": true,
    "editable": true
   },
   "outputs": [],
   "source": [
    "def least_square_estimate(x, y):\n",
    "    x_mean, y_mean = x.mean(), y.mean()\n",
    "    w = np.zeros(2)\n",
    "    \n",
    "    w[1] = np.sum((y - y_mean) * (x - x_mean))/ np.sum((x - x_mean)**2)\n",
    "    w[0] = y_mean - w[1] * x_mean\n",
    "    return w\n",
    "\n",
    "def ls_predict(w, x):\n",
    "    return w[0] + w[1:].dot([x])\n",
    "\n",
    "w = least_square_estimate(data[:, 0], data[:, 1])"
   ]
  },
  {
   "cell_type": "code",
   "execution_count": 231,
   "metadata": {
    "collapsed": false,
    "deletable": true,
    "editable": true
   },
   "outputs": [
    {
     "name": "stdout",
     "output_type": "stream",
     "text": [
      "bias: 8.46098609281e-16\n",
      "beta: 0.837873232526\n"
     ]
    },
    {
     "data": {
      "text/plain": [
       "[<matplotlib.lines.Line2D at 0x7fc737f40828>]"
      ]
     },
     "execution_count": 231,
     "metadata": {},
     "output_type": "execute_result"
    },
    {
     "data": {
      "image/png": "[encoded data removed]",
      "text/plain": [
       "<matplotlib.figure.Figure at 0x7fc73c0de4e0>"
      ]
     },
     "metadata": {},
     "output_type": "display_data"
    }
   ],
   "source": [
    "y_pred = ls_predict(w, data[:, 0])\n",
    "\n",
    "print('bias:', w[0])\n",
    "print('beta:', w[1])\n",
    "\n",
    "scatter(data[:, 0], data[:, 1])\n",
    "plot(data[:, 0], y_pred, color='red')"
   ]
  },
  {
   "cell_type": "markdown",
   "metadata": {},
   "source": [
    "## Statsmodels OLS"
   ]
  },
  {
   "cell_type": "code",
   "execution_count": 121,
   "metadata": {
    "collapsed": false
   },
   "outputs": [
    {
     "data": {
      "text/html": [
       "<table class=\"simpletable\">\n",
       "<caption>OLS Regression Results</caption>\n",
       "<tr>\n",
       "  <th>Dep. Variable:</th>            <td>y</td>        <th>  R-squared:         </th> <td>   0.702</td>\n",
       "</tr>\n",
       "<tr>\n",
       "  <th>Model:</th>                   <td>OLS</td>       <th>  Adj. R-squared:    </th> <td>   0.699</td>\n",
       "</tr>\n",
       "<tr>\n",
       "  <th>Method:</th>             <td>Least Squares</td>  <th>  F-statistic:       </th> <td>   223.8</td>\n",
       "</tr>\n",
       "<tr>\n",
       "  <th>Date:</th>             <td>Tue, 18 Jul 2017</td> <th>  Prob (F-statistic):</th> <td>1.02e-26</td>\n",
       "</tr>\n",
       "<tr>\n",
       "  <th>Time:</th>                 <td>09:44:24</td>     <th>  Log-Likelihood:    </th> <td> -78.915</td>\n",
       "</tr>\n",
       "<tr>\n",
       "  <th>No. Observations:</th>      <td>    97</td>      <th>  AIC:               </th> <td>   161.8</td>\n",
       "</tr>\n",
       "<tr>\n",
       "  <th>Df Residuals:</th>          <td>    95</td>      <th>  BIC:               </th> <td>   167.0</td>\n",
       "</tr>\n",
       "<tr>\n",
       "  <th>Df Model:</th>              <td>     1</td>      <th>                     </th>     <td> </td>   \n",
       "</tr>\n",
       "<tr>\n",
       "  <th>Covariance Type:</th>      <td>nonrobust</td>    <th>                     </th>     <td> </td>   \n",
       "</tr>\n",
       "</table>\n",
       "<table class=\"simpletable\">\n",
       "<tr>\n",
       "    <td></td>       <th>coef</th>     <th>std err</th>      <th>t</th>      <th>P>|t|</th>  <th>[0.025</th>    <th>0.975]</th>  \n",
       "</tr>\n",
       "<tr>\n",
       "  <th>const</th> <td>  3.07e-16</td> <td>    0.056</td> <td> 5.48e-15</td> <td> 1.000</td> <td>   -0.111</td> <td>    0.111</td>\n",
       "</tr>\n",
       "<tr>\n",
       "  <th>x1</th>    <td>    0.8379</td> <td>    0.056</td> <td>   14.961</td> <td> 0.000</td> <td>    0.727</td> <td>    0.949</td>\n",
       "</tr>\n",
       "</table>\n",
       "<table class=\"simpletable\">\n",
       "<tr>\n",
       "  <th>Omnibus:</th>       <td>39.986</td> <th>  Durbin-Watson:     </th> <td>   0.994</td>\n",
       "</tr>\n",
       "<tr>\n",
       "  <th>Prob(Omnibus):</th> <td> 0.000</td> <th>  Jarque-Bera (JB):  </th> <td> 108.142</td>\n",
       "</tr>\n",
       "<tr>\n",
       "  <th>Skew:</th>          <td> 1.455</td> <th>  Prob(JB):          </th> <td>3.29e-24</td>\n",
       "</tr>\n",
       "<tr>\n",
       "  <th>Kurtosis:</th>      <td> 7.276</td> <th>  Cond. No.          </th> <td>    1.00</td>\n",
       "</tr>\n",
       "</table>"
      ],
      "text/plain": [
       "<class 'statsmodels.iolib.summary.Summary'>\n",
       "\"\"\"\n",
       "                            OLS Regression Results                            \n",
       "==============================================================================\n",
       "Dep. Variable:                      y   R-squared:                       0.702\n",
       "Model:                            OLS   Adj. R-squared:                  0.699\n",
       "Method:                 Least Squares   F-statistic:                     223.8\n",
       "Date:                Tue, 18 Jul 2017   Prob (F-statistic):           1.02e-26\n",
       "Time:                        09:44:24   Log-Likelihood:                -78.915\n",
       "No. Observations:                  97   AIC:                             161.8\n",
       "Df Residuals:                      95   BIC:                             167.0\n",
       "Df Model:                           1                                         \n",
       "Covariance Type:            nonrobust                                         \n",
       "==============================================================================\n",
       "                 coef    std err          t      P>|t|      [0.025      0.975]\n",
       "------------------------------------------------------------------------------\n",
       "const        3.07e-16      0.056   5.48e-15      1.000      -0.111       0.111\n",
       "x1             0.8379      0.056     14.961      0.000       0.727       0.949\n",
       "==============================================================================\n",
       "Omnibus:                       39.986   Durbin-Watson:                   0.994\n",
       "Prob(Omnibus):                  0.000   Jarque-Bera (JB):              108.142\n",
       "Skew:                           1.455   Prob(JB):                     3.29e-24\n",
       "Kurtosis:                       7.276   Cond. No.                         1.00\n",
       "==============================================================================\n",
       "\n",
       "Warnings:\n",
       "[1] Standard Errors assume that the covariance matrix of the errors is correctly specified.\n",
       "\"\"\""
      ]
     },
     "metadata": {},
     "output_type": "display_data"
    }
   ],
   "source": [
    "ols = sm.OLS(data[:, 1], sm.add_constant(data[:, 0]))\n",
    "\n",
    "ols = ols.fit()\n",
    "display(ols.summary())"
   ]
  },
  {
   "cell_type": "code",
   "execution_count": 135,
   "metadata": {
    "collapsed": false
   },
   "outputs": [
    {
     "data": {
      "text/plain": [
       "[<matplotlib.lines.Line2D at 0x7fc73ead0f28>]"
      ]
     },
     "execution_count": 135,
     "metadata": {},
     "output_type": "execute_result"
    },
    {
     "data": {
      "image/png": "[encoded data removed]",
      "text/plain": [
       "<matplotlib.figure.Figure at 0x7fc73ed232b0>"
      ]
     },
     "metadata": {},
     "output_type": "display_data"
    }
   ],
   "source": [
    "y_pred = ols.predict(sm.add_constant(data[:, 0]))\n",
    "\n",
    "scatter(data[:, 0], data[:, 1])\n",
    "plot(data[:, 0], y_pred, color=\"red\")"
   ]
  },
  {
   "cell_type": "markdown",
   "metadata": {
    "deletable": true,
    "editable": true
   },
   "source": [
    "# Multiple Regression with Matrix\n",
    "\n",
    " * [The Multiple Regression](https://isites.harvard.edu/fs/docs/icb.topic515975.files/OLSDerivation.pdf) 중간부분..\n",
    "\n",
    "\n",
    "오직 한개의 independent variable을 갖고서 예측하는 일은 사실.. 매우 드뭅니다. <br>\n",
    "일반적으로 여러개의 independent variables을 갖고서 한개의 dependent variable을 예측을 하게 됩니다.<br>\n",
    "Matrix를 사용한 아주 기본적인 (위의 공식) OLS Regression equation 은 다음과 같습니다.\n",
    "\n",
    "$$ \\begin{bmatrix} y_1 \\\\ y_2 \\\\ ... \\\\ y_n \\end{bmatrix} = \n",
    "\\begin{bmatrix} 1 & x_11 & ... & x_1k \\\\ 1 & x_21 & ... & x_2k \\\\ ... & ... & ... & ... \\\\ 1 & x_n1 & ... & x_nk \\end{bmatrix}\n",
    "\\begin{bmatrix} \\beta_1 \\\\ \\beta_0 \\\\ ... \\\\ \\beta_k \\end{bmatrix} + \n",
    "\\begin{bmatrix} e_1 \\\\ e_0 \\\\ ... \\\\ e_k \\end{bmatrix}\n",
    "$$\n",
    "\n",
    "위의 Matrix로 표현될부분을 linear algebra로 다음과 같이 표현될 수 있습니다. \n",
    "\n",
    "\n",
    "$$ \\mathbf{Y} = \\mathbf{X} \\mathbf{B} + \\mathbf{e} $$\n",
    "\n",
    "* $ \\mathbf{Y} $: N x 1 형태\n",
    "* $ \\mathbf{X} $: N x (k + 1) 형태이며, 첫번째 컬럼은 1로만 구성\n",
    "* $ \\mathbf{B} $: (k + 1) x 1 형태이며, regression constant와 coefficients를 갖고 있음\n",
    "* $ \\mathbf{e} $ : N x 1 형태이며, 예측 에러값을 포함\n",
    "\n",
    "### Sum of the Squared Estimation with Matrix\n",
    "\n",
    "다음의 loss값을 최소로하는 $ \\mathbf{B} $ 를 찾는것이 목표입니다.<br>\n",
    "SSE는 모든 에러값의 제곱의 합이라고 보면 됩니다. 따라서 $ \\mathbf{e} $ 를 제곱한것의 합이기 때문에 다음과 같습니다.\n",
    "\n",
    "$$ SSE = \\sum E^2_i = \\mathbf{e}^{\\prime} \\mathbf{e} $$\n",
    "\n",
    "SSE의 중요한 점은 오른쪽 수식을 풀었을때의 답은 scalar값이 나옵니다. <br>\n",
    "$ \\mathbf{B} $ matrix에 관하여 SSE의 미분을 구하고자 한다면 먼저 $ \\mathbf{e} $의 값을 풀어써야 합니다.\n",
    "\n",
    "$$ \\mathbf{e} = \\mathbf{Y} - \\mathbf{X}\\mathbf{B} $$ \n",
    "\n",
    "여기서 SSE의 오른쪽 공식에 대입하면 다음과 같이 됩니다.\n",
    "\n",
    "$$ SSE = (\\mathbf{Y} - \\mathbf{X}\\mathbf{B})^{\\prime} (\\mathbf{Y} - \\mathbf{X}\\mathbf{B}) $$\n",
    "\n",
    "transposition $ \\prime $ 은 아래와 같이 distribute될 수 있습니다.\n",
    "\n",
    "$$ \\begin{align}\n",
    "SSE &= (\\mathbf{Y}^{\\prime} - \\mathbf{B}^{\\prime}\\mathbf{X}^{\\prime}) (\\mathbf{Y} - \\mathbf{X}\\mathbf{B}) \\\\\n",
    "    &= \\mathbf{Y}^{\\prime}\\mathbf{Y} - \n",
    "          \\mathbf{Y}^{\\prime} \\mathbf{X} \\mathbf{B} - \n",
    "          \\mathbf{B}^{\\prime} \\mathbf{X}^{\\prime} \\mathbf{Y} +\n",
    "          \\mathbf{B}^{\\prime}\\mathbf{X}^{\\prime} \\mathbf{X}\\mathbf{B}\n",
    "\\end{align} $$ \n",
    "\n",
    "여기서 중간의 2개의 terms $ \\mathbf{Y}^{\\prime} \\mathbf{X} \\mathbf{B} $  그리고 $ \\mathbf{B}^{\\prime} \\mathbf{X}^{\\prime} \\mathbf{Y} $ 은 동일한 scalar값을 각각 내놓습니다. <br>\n",
    "scalar값을 내놓은 다는것은 transpose를 해도 동일하다는 뜻입니다. (1 x 1 매트릭스같을수도 있겠죠)<br>\n",
    "즉.. $ \\mathbf{Y}^{\\prime} \\mathbf{X} \\mathbf{B} = \\mathbf{B}^{\\prime} \\mathbf{X}^{\\prime} \\mathbf{Y} $\n",
    "는 transpose를 한쪽에 하면 동일해지기 때문에 이런 공식으로 쓸수 있습니다.\n",
    "\n",
    "\n",
    "$$ SSE = \\mathbf{Y}^{\\prime}\\mathbf{Y}  -\n",
    "         2 \\mathbf{Y}^{\\prime} \\mathbf{X} \\mathbf{B} + \n",
    "         \\mathbf{B}^{\\prime} \\mathbf{X}^{\\prime} \\mathbf{X} \\mathbf{B}\n",
    "$$\n"
   ]
  },
  {
   "cell_type": "markdown",
   "metadata": {},
   "source": [
    "### Derivative of SSE\n",
    "\n",
    "$$ \\frac{\\partial SSE}{\\partial \\mathbf{B}} = \\frac{\\partial}{\\partial \\mathbf{B}}\n",
    "         ( \\mathbf{Y}^{\\prime}\\mathbf{Y}  -\n",
    "         2 \\mathbf{Y}^{\\prime} \\mathbf{X} \\mathbf{B} + \n",
    "         \\mathbf{B}^{\\prime} \\mathbf{X}^{\\prime} \\mathbf{X} \\mathbf{B})\n",
    "$$ \n",
    "\n",
    "일단 $ \\mathbf{B} $를 제외한 모든 matrix들은 모두 상수로 여깁니다. $ \\left( \\frac{d}{dx}c = 0 \\right) $ <br>\n",
    "따라서 첫번째 구문 $ \\mathbf{Y}^{\\prime}\\mathbf{Y} $ 그냥 0이 됩니다.\n",
    "\n",
    "중간부분 $ - 2 \\mathbf{Y}^{\\prime} \\mathbf{X} \\mathbf{B} $ 에서 $ \\mathbf{B} $는 없어지고, 나머지 남아있는 matrix에 transpose를 해주면 됩니다. <br>\n",
    "따라서 $ -2 \\mathbf{X}^{\\prime} \\mathbf{Y} $ 가 됩니다.\n",
    "\n",
    "\n",
    "$$ \\frac{\\partial SSE}{\\partial \\mathbf{B}} = -2 \\mathbf{X}^{\\prime} \\mathbf{Y} + \n",
    "    2 \\mathbf{X}^{\\prime} \\mathbf{X} \\mathbf{B} $$"
   ]
  },
  {
   "cell_type": "markdown",
   "metadata": {},
   "source": [
    "## Data"
   ]
  },
  {
   "cell_type": "code",
   "execution_count": 177,
   "metadata": {
    "collapsed": false
   },
   "outputs": [
    {
     "data": {
      "text/html": [
       "<div>\n",
       "<style>\n",
       "    .dataframe thead tr:only-child th {\n",
       "        text-align: right;\n",
       "    }\n",
       "\n",
       "    .dataframe thead th {\n",
       "        text-align: left;\n",
       "    }\n",
       "\n",
       "    .dataframe tbody tr th {\n",
       "        vertical-align: top;\n",
       "    }\n",
       "</style>\n",
       "<table border=\"1\" class=\"dataframe\">\n",
       "  <thead>\n",
       "    <tr style=\"text-align: right;\">\n",
       "      <th></th>\n",
       "      <th>age</th>\n",
       "      <th>bmi</th>\n",
       "      <th>children</th>\n",
       "      <th>expenses</th>\n",
       "      <th>sex_female</th>\n",
       "      <th>sex_male</th>\n",
       "      <th>smoker_no</th>\n",
       "      <th>smoker_yes</th>\n",
       "      <th>region_northeast</th>\n",
       "      <th>region_northwest</th>\n",
       "      <th>region_southeast</th>\n",
       "      <th>region_southwest</th>\n",
       "    </tr>\n",
       "  </thead>\n",
       "  <tbody>\n",
       "    <tr>\n",
       "      <th>0</th>\n",
       "      <td>19</td>\n",
       "      <td>27.9</td>\n",
       "      <td>0</td>\n",
       "      <td>16884.92</td>\n",
       "      <td>1</td>\n",
       "      <td>0</td>\n",
       "      <td>0</td>\n",
       "      <td>1</td>\n",
       "      <td>0</td>\n",
       "      <td>0</td>\n",
       "      <td>0</td>\n",
       "      <td>1</td>\n",
       "    </tr>\n",
       "    <tr>\n",
       "      <th>1</th>\n",
       "      <td>18</td>\n",
       "      <td>33.8</td>\n",
       "      <td>1</td>\n",
       "      <td>1725.55</td>\n",
       "      <td>0</td>\n",
       "      <td>1</td>\n",
       "      <td>1</td>\n",
       "      <td>0</td>\n",
       "      <td>0</td>\n",
       "      <td>0</td>\n",
       "      <td>1</td>\n",
       "      <td>0</td>\n",
       "    </tr>\n",
       "    <tr>\n",
       "      <th>2</th>\n",
       "      <td>28</td>\n",
       "      <td>33.0</td>\n",
       "      <td>3</td>\n",
       "      <td>4449.46</td>\n",
       "      <td>0</td>\n",
       "      <td>1</td>\n",
       "      <td>1</td>\n",
       "      <td>0</td>\n",
       "      <td>0</td>\n",
       "      <td>0</td>\n",
       "      <td>1</td>\n",
       "      <td>0</td>\n",
       "    </tr>\n",
       "    <tr>\n",
       "      <th>3</th>\n",
       "      <td>33</td>\n",
       "      <td>22.7</td>\n",
       "      <td>0</td>\n",
       "      <td>21984.47</td>\n",
       "      <td>0</td>\n",
       "      <td>1</td>\n",
       "      <td>1</td>\n",
       "      <td>0</td>\n",
       "      <td>0</td>\n",
       "      <td>1</td>\n",
       "      <td>0</td>\n",
       "      <td>0</td>\n",
       "    </tr>\n",
       "    <tr>\n",
       "      <th>4</th>\n",
       "      <td>32</td>\n",
       "      <td>28.9</td>\n",
       "      <td>0</td>\n",
       "      <td>3866.86</td>\n",
       "      <td>0</td>\n",
       "      <td>1</td>\n",
       "      <td>1</td>\n",
       "      <td>0</td>\n",
       "      <td>0</td>\n",
       "      <td>1</td>\n",
       "      <td>0</td>\n",
       "      <td>0</td>\n",
       "    </tr>\n",
       "  </tbody>\n",
       "</table>\n",
       "</div>"
      ],
      "text/plain": [
       "   age   bmi  children  expenses  sex_female  sex_male  smoker_no  smoker_yes  \\\n",
       "0   19  27.9         0  16884.92           1         0          0           1   \n",
       "1   18  33.8         1   1725.55           0         1          1           0   \n",
       "2   28  33.0         3   4449.46           0         1          1           0   \n",
       "3   33  22.7         0  21984.47           0         1          1           0   \n",
       "4   32  28.9         0   3866.86           0         1          1           0   \n",
       "\n",
       "   region_northeast  region_northwest  region_southeast  region_southwest  \n",
       "0                 0                 0                 0                 1  \n",
       "1                 0                 0                 1                 0  \n",
       "2                 0                 0                 1                 0  \n",
       "3                 0                 1                 0                 0  \n",
       "4                 0                 1                 0                 0  "
      ]
     },
     "metadata": {},
     "output_type": "display_data"
    },
    {
     "name": "stdout",
     "output_type": "stream",
     "text": [
      "train: (1338, 11)\n",
      "test: (1338, 1)\n"
     ]
    }
   ],
   "source": [
    "data = pd.read_csv('../../data/insurance/insurance.csv')\n",
    "data = pd.get_dummies(data)\n",
    "display(data.head())\n",
    "\n",
    "# Split X and Y\n",
    "data_x = data.loc[:, data.columns!= 'expenses'].as_matrix()\n",
    "data_y = data['expenses'].as_matrix().reshape((-1, 1))\n",
    "\n",
    "# Scaling \n",
    "scaler = StandardScaler()\n",
    "data_x = scaler.fit_transform(data_x)\n",
    "data_y = scaler.fit_transform(data_y)\n",
    "\n",
    "print('train:', data_x.shape)\n",
    "print('test:', data_y.shape)"
   ]
  },
  {
   "cell_type": "markdown",
   "metadata": {},
   "source": [
    "## Statsmodels Code"
   ]
  },
  {
   "cell_type": "code",
   "execution_count": 180,
   "metadata": {
    "collapsed": false,
    "deletable": true,
    "editable": true,
    "scrolled": false
   },
   "outputs": [
    {
     "data": {
      "text/html": [
       "<table class=\"simpletable\">\n",
       "<caption>OLS Regression Results</caption>\n",
       "<tr>\n",
       "  <th>Dep. Variable:</th>            <td>y</td>        <th>  R-squared:         </th> <td>   0.751</td>\n",
       "</tr>\n",
       "<tr>\n",
       "  <th>Model:</th>                   <td>OLS</td>       <th>  Adj. R-squared:    </th> <td>   0.749</td>\n",
       "</tr>\n",
       "<tr>\n",
       "  <th>Method:</th>             <td>Least Squares</td>  <th>  F-statistic:       </th> <td>   500.9</td>\n",
       "</tr>\n",
       "<tr>\n",
       "  <th>Date:</th>             <td>Tue, 18 Jul 2017</td> <th>  Prob (F-statistic):</th>  <td>  0.00</td> \n",
       "</tr>\n",
       "<tr>\n",
       "  <th>Time:</th>                 <td>10:38:23</td>     <th>  Log-Likelihood:    </th> <td> -968.62</td>\n",
       "</tr>\n",
       "<tr>\n",
       "  <th>No. Observations:</th>      <td>  1338</td>      <th>  AIC:               </th> <td>   1955.</td>\n",
       "</tr>\n",
       "<tr>\n",
       "  <th>Df Residuals:</th>          <td>  1329</td>      <th>  BIC:               </th> <td>   2002.</td>\n",
       "</tr>\n",
       "<tr>\n",
       "  <th>Df Model:</th>              <td>     8</td>      <th>                     </th>     <td> </td>   \n",
       "</tr>\n",
       "<tr>\n",
       "  <th>Covariance Type:</th>      <td>nonrobust</td>    <th>                     </th>     <td> </td>   \n",
       "</tr>\n",
       "</table>\n",
       "<table class=\"simpletable\">\n",
       "<tr>\n",
       "    <td></td>       <th>coef</th>     <th>std err</th>      <th>t</th>      <th>P>|t|</th>  <th>[0.025</th>    <th>0.975]</th>  \n",
       "</tr>\n",
       "<tr>\n",
       "  <th>const</th> <td>-8.793e-17</td> <td>    0.014</td> <td>-6.42e-15</td> <td> 1.000</td> <td>   -0.027</td> <td>    0.027</td>\n",
       "</tr>\n",
       "<tr>\n",
       "  <th>x1</th>    <td>    0.2980</td> <td>    0.014</td> <td>   21.586</td> <td> 0.000</td> <td>    0.271</td> <td>    0.325</td>\n",
       "</tr>\n",
       "<tr>\n",
       "  <th>x2</th>    <td>    0.1709</td> <td>    0.014</td> <td>   11.864</td> <td> 0.000</td> <td>    0.143</td> <td>    0.199</td>\n",
       "</tr>\n",
       "<tr>\n",
       "  <th>x3</th>    <td>    0.0474</td> <td>    0.014</td> <td>    3.452</td> <td> 0.001</td> <td>    0.020</td> <td>    0.074</td>\n",
       "</tr>\n",
       "<tr>\n",
       "  <th>x4</th>    <td>    0.0027</td> <td>    0.007</td> <td>    0.395</td> <td> 0.693</td> <td>   -0.011</td> <td>    0.016</td>\n",
       "</tr>\n",
       "<tr>\n",
       "  <th>x5</th>    <td>   -0.0027</td> <td>    0.007</td> <td>   -0.395</td> <td> 0.693</td> <td>   -0.016</td> <td>    0.011</td>\n",
       "</tr>\n",
       "<tr>\n",
       "  <th>x6</th>    <td>   -0.3975</td> <td>    0.007</td> <td>  -57.723</td> <td> 0.000</td> <td>   -0.411</td> <td>   -0.384</td>\n",
       "</tr>\n",
       "<tr>\n",
       "  <th>x7</th>    <td>    0.3975</td> <td>    0.007</td> <td>   57.723</td> <td> 0.000</td> <td>    0.384</td> <td>    0.411</td>\n",
       "</tr>\n",
       "<tr>\n",
       "  <th>x8</th>    <td>    0.0211</td> <td>    0.010</td> <td>    2.018</td> <td> 0.044</td> <td>    0.001</td> <td>    0.042</td>\n",
       "</tr>\n",
       "<tr>\n",
       "  <th>x9</th>    <td>    0.0086</td> <td>    0.010</td> <td>    0.824</td> <td> 0.410</td> <td>   -0.012</td> <td>    0.029</td>\n",
       "</tr>\n",
       "<tr>\n",
       "  <th>x10</th>   <td>   -0.0162</td> <td>    0.011</td> <td>   -1.540</td> <td> 0.124</td> <td>   -0.037</td> <td>    0.004</td>\n",
       "</tr>\n",
       "<tr>\n",
       "  <th>x11</th>   <td>   -0.0129</td> <td>    0.010</td> <td>   -1.246</td> <td> 0.213</td> <td>   -0.033</td> <td>    0.007</td>\n",
       "</tr>\n",
       "</table>\n",
       "<table class=\"simpletable\">\n",
       "<tr>\n",
       "  <th>Omnibus:</th>       <td>300.499</td> <th>  Durbin-Watson:     </th> <td>   2.088</td> \n",
       "</tr>\n",
       "<tr>\n",
       "  <th>Prob(Omnibus):</th> <td> 0.000</td>  <th>  Jarque-Bera (JB):  </th> <td> 719.382</td> \n",
       "</tr>\n",
       "<tr>\n",
       "  <th>Skew:</th>          <td> 1.212</td>  <th>  Prob(JB):          </th> <td>6.14e-157</td>\n",
       "</tr>\n",
       "<tr>\n",
       "  <th>Kurtosis:</th>      <td> 5.652</td>  <th>  Cond. No.          </th> <td>4.67e+16</td> \n",
       "</tr>\n",
       "</table>"
      ],
      "text/plain": [
       "<class 'statsmodels.iolib.summary.Summary'>\n",
       "\"\"\"\n",
       "                            OLS Regression Results                            \n",
       "==============================================================================\n",
       "Dep. Variable:                      y   R-squared:                       0.751\n",
       "Model:                            OLS   Adj. R-squared:                  0.749\n",
       "Method:                 Least Squares   F-statistic:                     500.9\n",
       "Date:                Tue, 18 Jul 2017   Prob (F-statistic):               0.00\n",
       "Time:                        10:38:23   Log-Likelihood:                -968.62\n",
       "No. Observations:                1338   AIC:                             1955.\n",
       "Df Residuals:                    1329   BIC:                             2002.\n",
       "Df Model:                           8                                         \n",
       "Covariance Type:            nonrobust                                         \n",
       "==============================================================================\n",
       "                 coef    std err          t      P>|t|      [0.025      0.975]\n",
       "------------------------------------------------------------------------------\n",
       "const      -8.793e-17      0.014  -6.42e-15      1.000      -0.027       0.027\n",
       "x1             0.2980      0.014     21.586      0.000       0.271       0.325\n",
       "x2             0.1709      0.014     11.864      0.000       0.143       0.199\n",
       "x3             0.0474      0.014      3.452      0.001       0.020       0.074\n",
       "x4             0.0027      0.007      0.395      0.693      -0.011       0.016\n",
       "x5            -0.0027      0.007     -0.395      0.693      -0.016       0.011\n",
       "x6            -0.3975      0.007    -57.723      0.000      -0.411      -0.384\n",
       "x7             0.3975      0.007     57.723      0.000       0.384       0.411\n",
       "x8             0.0211      0.010      2.018      0.044       0.001       0.042\n",
       "x9             0.0086      0.010      0.824      0.410      -0.012       0.029\n",
       "x10           -0.0162      0.011     -1.540      0.124      -0.037       0.004\n",
       "x11           -0.0129      0.010     -1.246      0.213      -0.033       0.007\n",
       "==============================================================================\n",
       "Omnibus:                      300.499   Durbin-Watson:                   2.088\n",
       "Prob(Omnibus):                  0.000   Jarque-Bera (JB):              719.382\n",
       "Skew:                           1.212   Prob(JB):                    6.14e-157\n",
       "Kurtosis:                       5.652   Cond. No.                     4.67e+16\n",
       "==============================================================================\n",
       "\n",
       "Warnings:\n",
       "[1] Standard Errors assume that the covariance matrix of the errors is correctly specified.\n",
       "[2] The smallest eigenvalue is 1.33e-30. This might indicate that there are\n",
       "strong multicollinearity problems or that the design matrix is singular.\n",
       "\"\"\""
      ]
     },
     "execution_count": 180,
     "metadata": {},
     "output_type": "execute_result"
    }
   ],
   "source": [
    "ols = sm.OLS(data_y, sm.add_constant(data_x))\n",
    "res = ols.fit()\n",
    "res.summary()"
   ]
  },
  {
   "cell_type": "code",
   "execution_count": 197,
   "metadata": {
    "collapsed": false,
    "deletable": true,
    "editable": true
   },
   "outputs": [
    {
     "name": "stdout",
     "output_type": "stream",
     "text": [
      "0.249071533794\n"
     ]
    },
    {
     "data": {
      "image/png": "[encoded data removed]",
      "text/plain": [
       "<matplotlib.figure.Figure at 0x7fc73ea79208>"
      ]
     },
     "metadata": {},
     "output_type": "display_data"
    }
   ],
   "source": [
    "y_pred = res.predict(sm.add_constant(data_x))\n",
    "\n",
    "x = np.arange(data_y.shape[0])\n",
    "scatter(x, data_y, alpha=0.7)\n",
    "scatter(x, y_pred, color='red', alpha=0.3)\n",
    "\n",
    "print(mean_squared_error(y_pred, data_y))"
   ]
  },
  {
   "cell_type": "markdown",
   "metadata": {
    "deletable": true,
    "editable": true
   },
   "source": [
    "# References\n",
    "\n",
    "* [Chapter 5: Ordinary Least Squares](http://www.openaccesstexts.org/pdf/Quant_Chapter_05_ols.pdf)\n",
    "* [Chapter 1: Linear Algebra](http://www.openaccesstexts.org/pdf/Quant_Chapter_01_linear.pdf)\n",
    "* [Ordinary Least Squares Estimation Procedure ](http://www3.amherst.edu/~fwesthoff/webpost/Old/Econ_360/Econ_360-09-24-Chap.pdf)"
   ]
  },
  {
   "cell_type": "markdown",
   "metadata": {},
   "source": [
    "# Matrix Calculus\n",
    "\n",
    "[Matrix Calculus](https://en.wikipedia.org/wiki/Matrix_calculus) 를 보면 자세하게 나와 있습니다.\n",
    "\n",
    "| Expression | derivative of x | \n",
    "|:------|:----------------|\n",
    "| $ a \\cdot x = a^T x = x^T a $ | $ a^t  $ |"
   ]
  },
  {
   "cell_type": "code",
   "execution_count": null,
   "metadata": {
    "collapsed": true
   },
   "outputs": [],
   "source": [
    "\n",
    "\\\n"
   ]
  }
 ],
 "metadata": {
  "kernelspec": {
   "display_name": "Python 3",
   "language": "python",
   "name": "python3"
  },
  "language_info": {
   "codemirror_mode": {
    "name": "ipython",
    "version": 3
   },
   "file_extension": ".py",
   "mimetype": "text/x-python",
   "name": "python",
   "nbconvert_exporter": "python",
   "pygments_lexer": "ipython3",
   "version": "3.6.1"
  }
 },
 "nbformat": 4,
 "nbformat_minor": 2
}
