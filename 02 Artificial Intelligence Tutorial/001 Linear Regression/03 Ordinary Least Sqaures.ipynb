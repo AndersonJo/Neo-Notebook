{
 "cells": [
  {
   "cell_type": "code",
   "execution_count": 45,
   "metadata": {},
   "outputs": [
    {
     "name": "stdout",
     "output_type": "stream",
     "text": [
      "Populating the interactive namespace from numpy and matplotlib\n"
     ]
    }
   ],
   "source": [
    "%pylab inline\n",
    "\n",
    "from __future__ import print_function\n",
    "import numpy as np\n",
    "import statsmodels.api as sm\n",
    "import matplotlib.pyplot as plt\n",
    "\n",
    "from sklearn.metrics import mean_squared_error"
   ]
  },
  {
   "cell_type": "markdown",
   "metadata": {},
   "source": [
    "# Example Data\n",
    "\n",
    "\n",
    "각 학생별 퀴즈를 풀기위해 투입한 시간대비, 퀴즈성적은 다음과 같습니다.\n",
    "\n",
    "| 학생 | 공부한 시간 | 퀴즈 점수 | \n",
    "|:----|:----------|:--------|\n",
    "| 창민 | 5         | 66 |\n",
    "| 윤서 | 15        | 87 |\n",
    "| 정아 | 25        | 90 |"
   ]
  },
  {
   "cell_type": "markdown",
   "metadata": {},
   "source": [
    "# Regression Model\n",
    "\n",
    "$$ y_i = \\beta_{const} + \\beta_1 x_1 + \\beta_2 x_2 + ... + \\beta_k x_k + e_i $$\n",
    " \n",
    " \n",
    "예를 들면..\n",
    "\n",
    " * $ \\hat{y} $ : 퀴즈 점수\n",
    " * $ x $ : 공부한 시간 \n",
    " * $ e_i $ : error term\n",
    " * $ \\beta_{const} $ : y-intercept를 나타내며, 학생이 수업에 나오기만 해도 주는 점수라고 보면 됩니다.\n",
    " * $ \\beta_i $ : 각 학생이 공부한 시간에 따른 추가적인 점수\n",
    " \n",
    "### In Matrix Term \n",
    "\n",
    "$$ \\begin{bmatrix} y_1 \\\\ y_2 \\\\ ... \\\\ y_n \\end{bmatrix} = \n",
    "\\begin{bmatrix} 1 & x_11 & ... & x_1k \\\\ 1 & x_21 & ... & x_2k \\\\ ... & ... & ... & ... \\\\ 1 & x_n1 & ... & x_nk \\end{bmatrix}\n",
    "\\begin{bmatrix} \\beta_1 \\\\ \\beta_0 \\\\ ... \\\\ \\beta_k \\end{bmatrix} + \n",
    "\\begin{bmatrix} e_1 \\\\ e_0 \\\\ ... \\\\ e_k \\end{bmatrix}\n",
    "$$\n",
    "\n",
    "위의 Matrix로 표현될부분을 linear algebra로 다음과 같이 표현될 수 있습니다. \n",
    "\n",
    "<span style=\"color:red\">\n",
    "$$ y = X\\beta + e $$\n",
    "</span>\n",
    "\n",
    " \n",
    "### Error Term\n",
    "\n",
    "Error Term은 random influences를 나타냅니다. <br>\n",
    "$$ \\begin{align}\n",
    "e &= y -  \\hat{y}    \\\\\n",
    "y &= \\hat{y} + e \n",
    "\\end{align} $$\n",
    "\n",
    "error 값은 input값으로 들어가는 값중의 하나이며, 정하는건... 분석가의 능력에 달려있습니다.<br>\n",
    "만약 넣지 않으면 $ \\beta_{const} $ 에서 y-intercept로 반영이 될 것입니다.\n",
    "\n",
    "\n"
   ]
  },
  {
   "cell_type": "markdown",
   "metadata": {},
   "source": [
    "# Data"
   ]
  },
  {
   "cell_type": "code",
   "execution_count": 4,
   "metadata": {
    "collapsed": true
   },
   "outputs": [],
   "source": [
    "data = np.loadtxt('../../data/linear-regression/ex1data1.txt', delimiter=',')"
   ]
  },
  {
   "cell_type": "code",
   "execution_count": 7,
   "metadata": {},
   "outputs": [
    {
     "data": {
      "text/plain": [
       "<matplotlib.text.Text at 0x7febfc4c2eb8>"
      ]
     },
     "execution_count": 7,
     "metadata": {},
     "output_type": "execute_result"
    },
    {
     "data": {
      "image/png": "[encoded data removed]",
      "text/plain": [
       "<matplotlib.figure.Figure at 0x7febfc4ba438>"
      ]
     },
     "metadata": {},
     "output_type": "display_data"
    }
   ],
   "source": [
    "scatter(data[:, 0], data[:, 1])\n",
    "title('Profits distribution')\n",
    "xlabel('Population of City in 10,000s')\n",
    "ylabel('Profit in $10,000s')"
   ]
  },
  {
   "cell_type": "markdown",
   "metadata": {},
   "source": [
    "# Least Squares Estimation\n",
    "\n",
    "일단 y값은 데이터이기 때문에 어떤 값인지 알고 있지만, parameters $ \\beta $ 값들은 모르기 때문에, 알기 위해서는 어떠한 방법으로 estimate해줘야 합니다.<br>\n",
    "가장 흔하게 쓰이는 방법은 SSE (Sum of the Squared Error)입니다.\n",
    "\n",
    "$$ SSE = \\sum^N_{i=1} e^2_i = \\sum^N_{i=1} (y_i - \\hat{y}_i)^2 $$\n",
    "\n",
    "\n",
    "Least sqaures estimation을 calculus로 미분하면 다음과 같은 결과가 나옵니다.\n",
    "\n",
    "$$ \\hat{\\beta}_1=\\frac{ \\sum_{i=1}^{N}(y_i-\\bar{y})(x_i-\\bar{x})}{\\sum_{i=1}^{N}(x_i-\\bar{x})^2} $$ \n",
    "\n",
    "그리고.. \n",
    "\n",
    "$$ \\hat{\\beta}_0=\\bar{y}-\\hat{\\beta}_1\\bar{x} $$ \n",
    "\n",
    "\n",
    "Derivation하는 방법은 다음의 문서를 참고합니다.\n",
    "* [Simple Linear Regression Least Squares Estimates of β0 and β1](https://www.amherst.edu/system/files/media/1287/SLR_Leastsquares.pdf)\n",
    "* [The Mathematical Derivation of Least Squares](https://isites.harvard.edu/fs/docs/icb.topic515975.files/OLSDerivation.pdf)"
   ]
  },
  {
   "cell_type": "code",
   "execution_count": 57,
   "metadata": {},
   "outputs": [],
   "source": [
    "def least_square_estimate(x, y):\n",
    "    x_mean, y_mean = x.mean(), y.mean()\n",
    "    w = np.zeros(2)\n",
    "    \n",
    "    w[1] = np.sum((y - y_mean) * (x - x_mean))/ np.sum((x - x_mean)**2)\n",
    "    w[0] = y_mean - w[1] * x_mean\n",
    "    return w\n",
    "\n",
    "def ls_predict(w, x):\n",
    "    return w[0] + w[1:].dot([x])\n",
    "\n",
    "w = least_square_estimate(data[:, 0], data[:, 1])"
   ]
  },
  {
   "cell_type": "code",
   "execution_count": 60,
   "metadata": {},
   "outputs": [
    {
     "name": "stdout",
     "output_type": "stream",
     "text": [
      "bias: -3.89578087831\n",
      "beta1: 1.19303364419\n"
     ]
    },
    {
     "data": {
      "text/plain": [
       "[<matplotlib.lines.Line2D at 0x7febfaa5eeb8>]"
      ]
     },
     "execution_count": 60,
     "metadata": {},
     "output_type": "execute_result"
    },
    {
     "data": {
      "image/png": "[encoded data removed]",
      "text/plain": [
       "<matplotlib.figure.Figure at 0x7febfaa5ea90>"
      ]
     },
     "metadata": {},
     "output_type": "display_data"
    }
   ],
   "source": [
    "y_pred = ls_predict(w, data[:, 0])\n",
    "\n",
    "print('bias:', w[0])\n",
    "print('beta1:', w[1])\n",
    "\n",
    "scatter(data[:, 0], data[:, 1])\n",
    "plot(data[:, 0], y_pred, color='red')"
   ]
  },
  {
   "cell_type": "markdown",
   "metadata": {},
   "source": [
    "# Ordinary Least Squares (OLS)\n",
    "\n",
    "Parameters $ \\beta_{const} $ 그리고 $ \\beta_{i} $ 값들을 알아내기 위해서는.. 일반적으로 Ordinary Least Squares (OLS) estimation procedure 를 사용합니다. \n",
    "\n",
    "$$ b_x  $$"
   ]
  },
  {
   "cell_type": "code",
   "execution_count": 70,
   "metadata": {
    "scrolled": false
   },
   "outputs": [
    {
     "data": {
      "text/html": [
       "<table class=\"simpletable\">\n",
       "<caption>OLS Regression Results</caption>\n",
       "<tr>\n",
       "  <th>Dep. Variable:</th>            <td>y</td>        <th>  R-squared:         </th> <td>   0.817</td>\n",
       "</tr>\n",
       "<tr>\n",
       "  <th>Model:</th>                   <td>OLS</td>       <th>  Adj. R-squared:    </th> <td>   0.815</td>\n",
       "</tr>\n",
       "<tr>\n",
       "  <th>Method:</th>             <td>Least Squares</td>  <th>  F-statistic:       </th> <td>   429.5</td>\n",
       "</tr>\n",
       "<tr>\n",
       "  <th>Date:</th>             <td>Tue, 18 Jul 2017</td> <th>  Prob (F-statistic):</th> <td>3.25e-37</td>\n",
       "</tr>\n",
       "<tr>\n",
       "  <th>Time:</th>                 <td>00:53:54</td>     <th>  Log-Likelihood:    </th> <td> -268.55</td>\n",
       "</tr>\n",
       "<tr>\n",
       "  <th>No. Observations:</th>      <td>    97</td>      <th>  AIC:               </th> <td>   539.1</td>\n",
       "</tr>\n",
       "<tr>\n",
       "  <th>Df Residuals:</th>          <td>    96</td>      <th>  BIC:               </th> <td>   541.7</td>\n",
       "</tr>\n",
       "<tr>\n",
       "  <th>Df Model:</th>              <td>     1</td>      <th>                     </th>     <td> </td>   \n",
       "</tr>\n",
       "<tr>\n",
       "  <th>Covariance Type:</th>      <td>nonrobust</td>    <th>                     </th>     <td> </td>   \n",
       "</tr>\n",
       "</table>\n",
       "<table class=\"simpletable\">\n",
       "<tr>\n",
       "   <td></td>     <th>coef</th>     <th>std err</th>      <th>t</th>      <th>P>|t|</th>  <th>[0.025</th>    <th>0.975]</th>  \n",
       "</tr>\n",
       "<tr>\n",
       "  <th>x1</th> <td>    1.0184</td> <td>    0.049</td> <td>   20.725</td> <td> 0.000</td> <td>    0.921</td> <td>    1.116</td>\n",
       "</tr>\n",
       "</table>\n",
       "<table class=\"simpletable\">\n",
       "<tr>\n",
       "  <th>Omnibus:</th>       <td>31.674</td> <th>  Durbin-Watson:     </th> <td>   0.758</td>\n",
       "</tr>\n",
       "<tr>\n",
       "  <th>Prob(Omnibus):</th> <td> 0.000</td> <th>  Jarque-Bera (JB):  </th> <td>  63.313</td>\n",
       "</tr>\n",
       "<tr>\n",
       "  <th>Skew:</th>          <td>-1.272</td> <th>  Prob(JB):          </th> <td>1.79e-14</td>\n",
       "</tr>\n",
       "<tr>\n",
       "  <th>Kurtosis:</th>      <td> 6.032</td> <th>  Cond. No.          </th> <td>    1.00</td>\n",
       "</tr>\n",
       "</table>"
      ],
      "text/plain": [
       "<class 'statsmodels.iolib.summary.Summary'>\n",
       "\"\"\"\n",
       "                            OLS Regression Results                            \n",
       "==============================================================================\n",
       "Dep. Variable:                      y   R-squared:                       0.817\n",
       "Model:                            OLS   Adj. R-squared:                  0.815\n",
       "Method:                 Least Squares   F-statistic:                     429.5\n",
       "Date:                Tue, 18 Jul 2017   Prob (F-statistic):           3.25e-37\n",
       "Time:                        00:53:54   Log-Likelihood:                -268.55\n",
       "No. Observations:                  97   AIC:                             539.1\n",
       "Df Residuals:                      96   BIC:                             541.7\n",
       "Df Model:                           1                                         \n",
       "Covariance Type:            nonrobust                                         \n",
       "==============================================================================\n",
       "                 coef    std err          t      P>|t|      [0.025      0.975]\n",
       "------------------------------------------------------------------------------\n",
       "x1             1.0184      0.049     20.725      0.000       0.921       1.116\n",
       "==============================================================================\n",
       "Omnibus:                       31.674   Durbin-Watson:                   0.758\n",
       "Prob(Omnibus):                  0.000   Jarque-Bera (JB):               63.313\n",
       "Skew:                          -1.272   Prob(JB):                     1.79e-14\n",
       "Kurtosis:                       6.032   Cond. No.                         1.00\n",
       "==============================================================================\n",
       "\n",
       "Warnings:\n",
       "[1] Standard Errors assume that the covariance matrix of the errors is correctly specified.\n",
       "\"\"\""
      ]
     },
     "execution_count": 70,
     "metadata": {},
     "output_type": "execute_result"
    }
   ],
   "source": [
    "ols = sm.OLS(data[:, 0], data[:, 1])\n",
    "res = ols.fit()\n",
    "res.summary()"
   ]
  },
  {
   "cell_type": "code",
   "execution_count": 71,
   "metadata": {},
   "outputs": [
    {
     "data": {
      "text/plain": [
       "array([ 1.01844841])"
      ]
     },
     "execution_count": 71,
     "metadata": {},
     "output_type": "execute_result"
    }
   ],
   "source": [
    "res.params"
   ]
  },
  {
   "cell_type": "markdown",
   "metadata": {},
   "source": [
    "# References\n",
    "\n",
    "* [Chapter 5: Ordinary Least Squares](http://www.openaccesstexts.org/pdf/Quant_Chapter_05_ols.pdf)\n",
    "* [Chapter 1: Linear Algebra](http://www.openaccesstexts.org/pdf/Quant_Chapter_01_linear.pdf)\n",
    "* [Ordinary Least Squares Estimation Procedure ](http://www3.amherst.edu/~fwesthoff/webpost/Old/Econ_360/Econ_360-09-24-Chap.pdf)"
   ]
  }
 ],
 "metadata": {
  "kernelspec": {
   "display_name": "Python 3",
   "language": "python",
   "name": "python3"
  },
  "language_info": {
   "codemirror_mode": {
    "name": "ipython",
    "version": 3
   },
   "file_extension": ".py",
   "mimetype": "text/x-python",
   "name": "python",
   "nbconvert_exporter": "python",
   "pygments_lexer": "ipython3",
   "version": "3.6.1"
  }
 },
 "nbformat": 4,
 "nbformat_minor": 2
}
