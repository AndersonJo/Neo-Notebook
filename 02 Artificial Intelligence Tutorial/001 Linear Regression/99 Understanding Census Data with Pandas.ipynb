{
 "cells": [
  {
   "cell_type": "code",
   "execution_count": 44,
   "metadata": {
    "collapsed": true
   },
   "outputs": [],
   "source": [
    "import tensorflow as tf\n",
    "import pandas as pd\n",
    "\n",
    "from pprint import pprint as pp\n",
    "from IPython.display import display"
   ]
  },
  {
   "cell_type": "markdown",
   "metadata": {},
   "source": [
    "### Data\n",
    "\n",
    "데이터는 [UCI Census Income Data Set](https://archive.ics.uci.edu/ml/datasets/Census+Income)에서 다운받을수 있습니다.<br>\n",
    "1년 소득이 50k/yr (약 5500만원)넘는 사람들을 인구조사 데이터에 기반해서 예측을 합니다."
   ]
  },
  {
   "cell_type": "code",
   "execution_count": 91,
   "metadata": {
    "collapsed": false,
    "scrolled": false
   },
   "outputs": [
    {
     "data": {
      "text/html": [
       "<div>\n",
       "<table border=\"1\" class=\"dataframe\">\n",
       "  <thead>\n",
       "    <tr style=\"text-align: right;\">\n",
       "      <th></th>\n",
       "      <th>age</th>\n",
       "      <th>workclass</th>\n",
       "      <th>fnlwgt</th>\n",
       "      <th>education</th>\n",
       "      <th>education_num</th>\n",
       "      <th>marital_status</th>\n",
       "      <th>occupation</th>\n",
       "      <th>relationship</th>\n",
       "      <th>race</th>\n",
       "      <th>gender</th>\n",
       "      <th>capital_gain</th>\n",
       "      <th>capital_loss</th>\n",
       "      <th>hours_per_week</th>\n",
       "      <th>native_country</th>\n",
       "      <th>income_bracket</th>\n",
       "    </tr>\n",
       "  </thead>\n",
       "  <tbody>\n",
       "    <tr>\n",
       "      <th>0</th>\n",
       "      <td>25</td>\n",
       "      <td>Private</td>\n",
       "      <td>226802</td>\n",
       "      <td>11th</td>\n",
       "      <td>7</td>\n",
       "      <td>Never-married</td>\n",
       "      <td>Machine-op-inspct</td>\n",
       "      <td>Own-child</td>\n",
       "      <td>Black</td>\n",
       "      <td>Male</td>\n",
       "      <td>0</td>\n",
       "      <td>0</td>\n",
       "      <td>40</td>\n",
       "      <td>United-States</td>\n",
       "      <td>&lt;=50K.</td>\n",
       "    </tr>\n",
       "    <tr>\n",
       "      <th>1</th>\n",
       "      <td>38</td>\n",
       "      <td>Private</td>\n",
       "      <td>89814</td>\n",
       "      <td>HS-grad</td>\n",
       "      <td>9</td>\n",
       "      <td>Married-civ-spouse</td>\n",
       "      <td>Farming-fishing</td>\n",
       "      <td>Husband</td>\n",
       "      <td>White</td>\n",
       "      <td>Male</td>\n",
       "      <td>0</td>\n",
       "      <td>0</td>\n",
       "      <td>50</td>\n",
       "      <td>United-States</td>\n",
       "      <td>&lt;=50K.</td>\n",
       "    </tr>\n",
       "    <tr>\n",
       "      <th>2</th>\n",
       "      <td>28</td>\n",
       "      <td>Local-gov</td>\n",
       "      <td>336951</td>\n",
       "      <td>Assoc-acdm</td>\n",
       "      <td>12</td>\n",
       "      <td>Married-civ-spouse</td>\n",
       "      <td>Protective-serv</td>\n",
       "      <td>Husband</td>\n",
       "      <td>White</td>\n",
       "      <td>Male</td>\n",
       "      <td>0</td>\n",
       "      <td>0</td>\n",
       "      <td>40</td>\n",
       "      <td>United-States</td>\n",
       "      <td>&gt;50K.</td>\n",
       "    </tr>\n",
       "    <tr>\n",
       "      <th>3</th>\n",
       "      <td>44</td>\n",
       "      <td>Private</td>\n",
       "      <td>160323</td>\n",
       "      <td>Some-college</td>\n",
       "      <td>10</td>\n",
       "      <td>Married-civ-spouse</td>\n",
       "      <td>Machine-op-inspct</td>\n",
       "      <td>Husband</td>\n",
       "      <td>Black</td>\n",
       "      <td>Male</td>\n",
       "      <td>7688</td>\n",
       "      <td>0</td>\n",
       "      <td>40</td>\n",
       "      <td>United-States</td>\n",
       "      <td>&gt;50K.</td>\n",
       "    </tr>\n",
       "    <tr>\n",
       "      <th>4</th>\n",
       "      <td>18</td>\n",
       "      <td>?</td>\n",
       "      <td>103497</td>\n",
       "      <td>Some-college</td>\n",
       "      <td>10</td>\n",
       "      <td>Never-married</td>\n",
       "      <td>?</td>\n",
       "      <td>Own-child</td>\n",
       "      <td>White</td>\n",
       "      <td>Female</td>\n",
       "      <td>0</td>\n",
       "      <td>0</td>\n",
       "      <td>30</td>\n",
       "      <td>United-States</td>\n",
       "      <td>&lt;=50K.</td>\n",
       "    </tr>\n",
       "  </tbody>\n",
       "</table>\n",
       "</div>"
      ],
      "text/plain": [
       "   age  workclass  fnlwgt     education  education_num      marital_status  \\\n",
       "0   25    Private  226802          11th              7       Never-married   \n",
       "1   38    Private   89814       HS-grad              9  Married-civ-spouse   \n",
       "2   28  Local-gov  336951    Assoc-acdm             12  Married-civ-spouse   \n",
       "3   44    Private  160323  Some-college             10  Married-civ-spouse   \n",
       "4   18          ?  103497  Some-college             10       Never-married   \n",
       "\n",
       "          occupation relationship   race  gender  capital_gain  capital_loss  \\\n",
       "0  Machine-op-inspct    Own-child  Black    Male             0             0   \n",
       "1    Farming-fishing      Husband  White    Male             0             0   \n",
       "2    Protective-serv      Husband  White    Male             0             0   \n",
       "3  Machine-op-inspct      Husband  Black    Male          7688             0   \n",
       "4                  ?    Own-child  White  Female             0             0   \n",
       "\n",
       "   hours_per_week native_country income_bracket  \n",
       "0              40  United-States         <=50K.  \n",
       "1              50  United-States         <=50K.  \n",
       "2              40  United-States          >50K.  \n",
       "3              40  United-States          >50K.  \n",
       "4              30  United-States         <=50K.  "
      ]
     },
     "execution_count": 91,
     "metadata": {},
     "output_type": "execute_result"
    }
   ],
   "source": [
    "COLUMNS = [\"age\", \"workclass\", \"fnlwgt\", \"education\", \"education_num\",\n",
    "           \"marital_status\", \"occupation\", \"relationship\", \"race\", \"gender\",\n",
    "           \"capital_gain\", \"capital_loss\", \"hours_per_week\", \"native_country\",\n",
    "           \"income_bracket\"]\n",
    "train_data = pd.read_csv('../../data/census-income/adult.data.txt', names=COLUMNS, skipinitialspace=True)\n",
    "test_data = pd.read_csv('../../data/census-income/adult.test.txt', names=COLUMNS, skipinitialspace=True)\n",
    "\n",
    "test_data.head()"
   ]
  },
  {
   "cell_type": "markdown",
   "metadata": {},
   "source": [
    "### Data Preprocessing with Categorical Data and Continuous Data\n",
    "\n",
    "**Feature Column**이란 original dataframe에 있는 raw columns(**base feature columns**라고 부릅니다) 또는 transformations을 통해서 새로 만들어진 **derived feature columns** 라고 합니다. feature columns을 제대로 선택하고 다루는것이 첫번째 machine learning을 잘하기 위한 방법입니다.\n",
    "\n",
    "\n",
    "\n",
    "* **label**: 1은 연소득 5500만원 넘는 인간들.."
   ]
  },
  {
   "cell_type": "code",
   "execution_count": 94,
   "metadata": {
    "collapsed": false
   },
   "outputs": [
    {
     "name": "stdout",
     "output_type": "stream",
     "text": [
      "Series([], Name: income_bracket, dtype: object)\n"
     ]
    },
    {
     "data": {
      "text/plain": [
       "({'age': <tf.Tensor 'age_11:0' shape=(32561,) dtype=int64>,\n",
       "  'capital_gain': <tf.Tensor 'capital_gain_11:0' shape=(32561,) dtype=int64>,\n",
       "  'capital_loss': <tf.Tensor 'capital_loss_11:0' shape=(32561,) dtype=int64>,\n",
       "  'education': <tensorflow.python.framework.sparse_tensor.SparseTensor at 0x7f7a9fcc3c50>,\n",
       "  'education_num': <tf.Tensor 'education_num_11:0' shape=(32561,) dtype=int64>,\n",
       "  'gender': <tensorflow.python.framework.sparse_tensor.SparseTensor at 0x7f7a9b5159e8>,\n",
       "  'hours_per_week': <tf.Tensor 'hours_per_week_11:0' shape=(32561,) dtype=int64>,\n",
       "  'marital_status': <tensorflow.python.framework.sparse_tensor.SparseTensor at 0x7f7a9ee0b358>,\n",
       "  'native_country': <tensorflow.python.framework.sparse_tensor.SparseTensor at 0x7f7a9a4492b0>,\n",
       "  'occupation': <tensorflow.python.framework.sparse_tensor.SparseTensor at 0x7f7aa074b940>,\n",
       "  'race': <tensorflow.python.framework.sparse_tensor.SparseTensor at 0x7f7a9f584f60>,\n",
       "  'relationship': <tensorflow.python.framework.sparse_tensor.SparseTensor at 0x7f7a9e9fcda0>,\n",
       "  'workclass': <tensorflow.python.framework.sparse_tensor.SparseTensor at 0x7f7a9ea054e0>},\n",
       " <tf.Tensor 'Const_17:0' shape=(32561,) dtype=int64>)"
      ]
     },
     "execution_count": 94,
     "metadata": {},
     "output_type": "execute_result"
    }
   ],
   "source": [
    "CATEGORICAL_COLUMNS = [\"workclass\", \"education\", \"marital_status\", \"occupation\",\n",
    "                       \"relationship\", \"race\", \"gender\", \"native_country\"]\n",
    "CONTINUOUS_COLUMNS = [\"age\", \"education_num\", \"capital_gain\", \"capital_loss\", \"hours_per_week\"]\n",
    "LABEL_COLUMN = 'label'\n",
    "\n",
    "# 소득에 따라 label을 만듭니다. 0은 5500만원 미만.. 1은 5500만원 이상\n",
    "train_data[LABEL_COLUMN] = train_data['income_bracket'].apply(lambda x: '>50K' in x).astype('int')\n",
    "print(test_data[test_data['income_bracket'].isnull()]['income_bracket'])\n",
    "test_data[LABEL_COLUMN] = test_data['income_bracket'].apply(lambda x: '>50K' in x).astype('int')\n",
    "\n",
    "def input_fn(df):\n",
    "    continuous_cols = {k: tf.constant(df[k].values, name=k) for k in CONTINUOUS_COLUMNS}\n",
    "    categorical_cols = {k: tf.SparseTensor(\n",
    "        indices=[[i, 0] for i in range(df[k].size)], # train의 경우 32561개의 [[0, 0], [1, 0], [2, 0], ...] 만들어짐\n",
    "        values=df[k].values,\n",
    "        dense_shape=[df[k].size, 1], # [32561, 1]\n",
    "    ) for k in CATEGORICAL_COLUMNS}\n",
    "    \n",
    "    feature_cols = dict(**continuous_cols, **categorical_cols)\n",
    "    label = tf.constant(df[LABEL_COLUMN].values)\n",
    "    return feature_cols, label\n",
    "    \n",
    "input_fn(train_data)"
   ]
  },
  {
   "cell_type": "code",
   "execution_count": 96,
   "metadata": {
    "collapsed": false
   },
   "outputs": [
    {
     "name": "stdout",
     "output_type": "stream",
     "text": [
      "WARNING:tensorflow:The default value of combiner will change from \"sum\" to \"sqrtn\" after 2016/11/01.\n"
     ]
    },
    {
     "data": {
      "text/plain": [
       "_SparseColumnKeys(column_name='gender', is_integerized=False, bucket_size=None, lookup_config=_SparseIdLookupConfig(vocabulary_file=None, keys=('female', 'male'), num_oov_buckets=0, vocab_size=2, default_value=-1), combiner='sum', dtype=tf.string)"
      ]
     },
     "execution_count": 96,
     "metadata": {},
     "output_type": "execute_result"
    }
   ],
   "source": []
  }
 ],
 "metadata": {
  "kernelspec": {
   "display_name": "Python 3",
   "language": "python",
   "name": "python3"
  },
  "language_info": {
   "codemirror_mode": {
    "name": "ipython",
    "version": 3
   },
   "file_extension": ".py",
   "mimetype": "text/x-python",
   "name": "python",
   "nbconvert_exporter": "python",
   "pygments_lexer": "ipython3",
   "version": "3.6.0"
  }
 },
 "nbformat": 4,
 "nbformat_minor": 2
}
