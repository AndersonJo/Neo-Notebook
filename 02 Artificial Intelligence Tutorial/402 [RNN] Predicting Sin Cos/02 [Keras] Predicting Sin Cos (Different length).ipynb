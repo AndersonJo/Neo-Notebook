{
 "cells": [
  {
   "cell_type": "markdown",
   "metadata": {
    "deletable": true,
    "editable": true
   },
   "source": [
    "# Predicting Sin and Cos\n",
    "\n",
    "첫번째것과 동일한데 input의 time magnitude와 output의 time magnitude를 예측할때의 기법"
   ]
  },
  {
   "cell_type": "code",
   "execution_count": 5,
   "metadata": {
    "collapsed": false,
    "deletable": true,
    "editable": true
   },
   "outputs": [
    {
     "name": "stdout",
     "output_type": "stream",
     "text": [
      "Populating the interactive namespace from numpy and matplotlib\n"
     ]
    }
   ],
   "source": [
    "%pylab inline\n",
    "import numpy as np\n",
    "\n",
    "from keras.models import Sequential\n",
    "from keras.layers import LSTM, Dense\n",
    "from keras.metrics import mean_squared_error\n",
    "from keras.wrappers.scikit_learn import KerasClassifier\n",
    "from keras.preprocessing.sequence import pad_sequences\n",
    "\n",
    "from sklearn.metrics import make_scorer, r2_score\n",
    "from sklearn.model_selection import GridSearchCV\n",
    "\n",
    "from IPython.display import SVG, Image\n",
    "from keras.utils.vis_utils import model_to_dot"
   ]
  },
  {
   "cell_type": "markdown",
   "metadata": {
    "deletable": true,
    "editable": true
   },
   "source": [
    "### Data\n",
    "\n",
    "pad_sequences를 해줍으로서 시계열 데이터를 원하는 output싸이즈로 맞춰주며, 앞부분을 전부 0으로 만들어 줍니다.\n",
    "\n",
    "```\n",
    ">> pad_sequences(np.array([[[1],[2],[3]], [[4], [5], [6]]]), maxlen=10)\n",
    "array([[[0],\n",
    "        [0],\n",
    "        [0],\n",
    "        [0],\n",
    "        [0],\n",
    "        [0],\n",
    "        [0],\n",
    "        [1],\n",
    "        [2],\n",
    "        [3]],\n",
    "\n",
    "       [[0],\n",
    "        [0],\n",
    "        [0],\n",
    "        [0],\n",
    "        [0],\n",
    "        [0],\n",
    "        [0],\n",
    "        [4],\n",
    "        [5],\n",
    "        [6]]], dtype=int32)\n",
    "```\n"
   ]
  },
  {
   "cell_type": "code",
   "execution_count": 7,
   "metadata": {
    "collapsed": false,
    "deletable": true,
    "editable": true,
    "scrolled": false
   },
   "outputs": [
    {
     "name": "stdout",
     "output_type": "stream",
     "text": [
      "x: (340, 100, 1)\n",
      "y: (340, 100, 1)\n",
      "test x: (340, 100, 1)\n",
      "test y: (340, 100, 1)\n"
     ]
    },
    {
     "data": {
      "text/plain": [
       "[<matplotlib.lines.Line2D at 0x7f6dac87c3c8>]"
      ]
     },
     "execution_count": 7,
     "metadata": {},
     "output_type": "execute_result"
    },
    {
     "data": {
      "image/png": "[encoded data removed]",
      "text/plain": [
       "<matplotlib.figure.Figure at 0x7f6dac8c22e8>"
      ]
     },
     "metadata": {},
     "output_type": "display_data"
    }
   ],
   "source": [
    "SIZE_X = 50\n",
    "SIZE_Y = 100\n",
    "\n",
    "data = np.arange(-27, 27, 0.1)\n",
    "data = np.sin(data)\n",
    "data = np.cos(data)* np.tanh(data)\n",
    "\n",
    "\n",
    "def make_x_y(data, size_x=100, size_y=500):\n",
    "    N = data.shape[0]\n",
    "    \n",
    "    data_x = np.zeros((N-size_y*2, size_x))\n",
    "    data_y = np.zeros((N-size_y*2, size_y))\n",
    "    test_x = np.zeros((N-size_y*2, size_y))\n",
    "    test_y = np.zeros((N-size_y*2, size_y))\n",
    "    \n",
    "    for i, idx in enumerate(range(0, N-size_y*2)):\n",
    "        x = data[idx: idx+size_x]\n",
    "        y = data[idx+size_x: (idx+size_x) + size_y]\n",
    "        \n",
    "        data_x[idx, :size_x] = x\n",
    "        data_y[idx, :size_y] = y\n",
    "        test_x[idx, :size_y] = data[idx: idx+size_y]\n",
    "        test_y[idx, :size_y] = data[idx+size_y: (idx+size_y) + size_y]\n",
    "        \n",
    "    data_x = np.asarray(data_x)\n",
    "    data_y = np.asarray(data_y)\n",
    "    \n",
    "    data_x = data_x.reshape(-1, size_x, 1)\n",
    "    data_y = data_y.reshape(-1, size_y, 1)\n",
    "    test_x = test_x.reshape(-1, size_y, 1)\n",
    "    test_y = test_y.reshape(-1, size_y, 1)\n",
    "    \n",
    "    # POINT!!!!!!!!!!!!!!!!!!!!!!!!!!!!!!!!!!!!!!!!!!!!!!!!!!!!!!!!!!!!!!!!\n",
    "    data_x = pad_sequences(data_x, maxlen=size_y, dtype='float32')\n",
    "    \n",
    "    \n",
    "    # Shuffle\n",
    "    permu = np.random.permutation(data_x.shape[0])\n",
    "    data_x = data_x[permu]\n",
    "    data_y = data_y[permu]\n",
    "    return data_x, data_y, test_x, test_y\n",
    "\n",
    "\n",
    "x, y, test_x, test_y = make_x_y(data, size_x=SIZE_X, size_y=SIZE_Y)\n",
    "print('x:', x.shape)\n",
    "print('y:', y.shape)\n",
    "print('test x:', test_x.shape)\n",
    "print('test y:', test_y.shape)\n",
    "\n",
    "plot(data)"
   ]
  },
  {
   "cell_type": "markdown",
   "metadata": {
    "deletable": true,
    "editable": true
   },
   "source": [
    "### Visualize training data \n",
    "\n",
    "x값과 y값을 한번에 합쳐서 보여줍니다.<br> \n",
    "대충 중간에 선이 있다고 생각하면 됩니다. 왼쪽은 x값 오른쪽은 y값\n"
   ]
  },
  {
   "cell_type": "code",
   "execution_count": 8,
   "metadata": {
    "collapsed": false,
    "deletable": true,
    "editable": true
   },
   "outputs": [
    {
     "data": {
      "image/png": "[encoded data removed]",
      "text/plain": [
       "<matplotlib.figure.Figure at 0x7f6dae9366d8>"
      ]
     },
     "metadata": {},
     "output_type": "display_data"
    }
   ],
   "source": [
    "def visualize(data_x, data_y):\n",
    "    fig, sub_plots = subplots(2, 2)\n",
    "    for columns in sub_plots:\n",
    "        for sp in columns:\n",
    "#             sp.get_xaxis().set_visible(False)\n",
    "#             sp.get_yaxis().set_visible(False)\n",
    "            \n",
    "            r = np.random.randint(data_x.shape[0])\n",
    "            sample_x = data_x[r]\n",
    "            sample_y = data_y[r]\n",
    "            \n",
    "            \n",
    "            sample_x = sample_x.reshape(sample_x.shape[0])\n",
    "            sample_y = sample_y.reshape(sample_y.shape[0])\n",
    "            \n",
    "            tick_x = range(0, SIZE_Y)\n",
    "            tick_y = range(SIZE_Y, SIZE_Y+SIZE_Y)\n",
    "            \n",
    "            sp.plot(tick_x, sample_x)\n",
    "            sp.plot(tick_y, sample_y)\n",
    "\n",
    "visualize(x, y)"
   ]
  },
  {
   "cell_type": "code",
   "execution_count": 162,
   "metadata": {
    "collapsed": false,
    "deletable": true,
    "editable": true
   },
   "outputs": [
    {
     "data": {
      "image/png": "[encoded data removed]",
      "text/plain": [
       "<matplotlib.figure.Figure at 0x7f973c113550>"
      ]
     },
     "metadata": {},
     "output_type": "display_data"
    }
   ],
   "source": [
    "visualize(test_x, test_y)"
   ]
  },
  {
   "cell_type": "markdown",
   "metadata": {
    "deletable": true,
    "editable": true
   },
   "source": [
    "## Model"
   ]
  },
  {
   "cell_type": "code",
   "execution_count": 9,
   "metadata": {
    "collapsed": false,
    "deletable": true,
    "editable": true,
    "scrolled": false
   },
   "outputs": [
    {
     "name": "stderr",
     "output_type": "stream",
     "text": [
      "/usr/local/lib/python3.6/site-packages/keras/legacy/interfaces.py:86: UserWarning: Update your `LSTM` call to the Keras 2 API: `LSTM(batch_input_shape=(None, Non..., return_sequences=True, units=10)`\n",
      "  '` call to the Keras 2 API: ' + signature)\n",
      "/usr/local/lib/python3.6/site-packages/keras/legacy/interfaces.py:86: UserWarning: Update your `Dense` call to the Keras 2 API: `Dense(name=\"fully_connected_layer01\", units=10)`\n",
      "  '` call to the Keras 2 API: ' + signature)\n",
      "/usr/local/lib/python3.6/site-packages/keras/legacy/interfaces.py:86: UserWarning: Update your `Dense` call to the Keras 2 API: `Dense(name=\"fully_connected_layer02\", units=1)`\n",
      "  '` call to the Keras 2 API: ' + signature)\n"
     ]
    },
    {
     "data": {
      "image/svg+xml": [
       "<svg height=\"387pt\" viewBox=\"0.00 0.00 368.00 387.00\" width=\"368pt\" xmlns=\"http://www.w3.org/2000/svg\" xmlns:xlink=\"http://www.w3.org/1999/xlink\">\n",
       "<g class=\"graph\" id=\"graph0\" transform=\"scale(1 1) rotate(0) translate(4 383)\">\n",
       "<title>G</title>\n",
       "<polygon fill=\"white\" points=\"-4,4 -4,-383 364,-383 364,4 -4,4\" stroke=\"none\"/>\n",
       "<!-- 140109020207760 -->\n",
       "<g class=\"node\" id=\"node1\"><title>140109020207760</title>\n",
       "<polygon fill=\"none\" points=\"21.5,-332.5 21.5,-378.5 338.5,-378.5 338.5,-332.5 21.5,-332.5\" stroke=\"black\"/>\n",
       "<text font-family=\"Times,serif\" font-size=\"14.00\" text-anchor=\"middle\" x=\"99.5\" y=\"-351.8\">lstm_1_input: InputLayer</text>\n",
       "<polyline fill=\"none\" points=\"177.5,-332.5 177.5,-378.5 \" stroke=\"black\"/>\n",
       "<text font-family=\"Times,serif\" font-size=\"14.00\" text-anchor=\"middle\" x=\"205\" y=\"-363.3\">input:</text>\n",
       "<polyline fill=\"none\" points=\"177.5,-355.5 232.5,-355.5 \" stroke=\"black\"/>\n",
       "<text font-family=\"Times,serif\" font-size=\"14.00\" text-anchor=\"middle\" x=\"205\" y=\"-340.3\">output:</text>\n",
       "<polyline fill=\"none\" points=\"232.5,-332.5 232.5,-378.5 \" stroke=\"black\"/>\n",
       "<text font-family=\"Times,serif\" font-size=\"14.00\" text-anchor=\"middle\" x=\"285.5\" y=\"-363.3\">(None, None, 1)</text>\n",
       "<polyline fill=\"none\" points=\"232.5,-355.5 338.5,-355.5 \" stroke=\"black\"/>\n",
       "<text font-family=\"Times,serif\" font-size=\"14.00\" text-anchor=\"middle\" x=\"285.5\" y=\"-340.3\">(None, None, 1)</text>\n",
       "</g>\n",
       "<!-- 140109020208264 -->\n",
       "<g class=\"node\" id=\"node2\"><title>140109020208264</title>\n",
       "<polygon fill=\"none\" points=\"47,-249.5 47,-295.5 313,-295.5 313,-249.5 47,-249.5\" stroke=\"black\"/>\n",
       "<text font-family=\"Times,serif\" font-size=\"14.00\" text-anchor=\"middle\" x=\"96\" y=\"-268.8\">lstm_1: LSTM</text>\n",
       "<polyline fill=\"none\" points=\"145,-249.5 145,-295.5 \" stroke=\"black\"/>\n",
       "<text font-family=\"Times,serif\" font-size=\"14.00\" text-anchor=\"middle\" x=\"172.5\" y=\"-280.3\">input:</text>\n",
       "<polyline fill=\"none\" points=\"145,-272.5 200,-272.5 \" stroke=\"black\"/>\n",
       "<text font-family=\"Times,serif\" font-size=\"14.00\" text-anchor=\"middle\" x=\"172.5\" y=\"-257.3\">output:</text>\n",
       "<polyline fill=\"none\" points=\"200,-249.5 200,-295.5 \" stroke=\"black\"/>\n",
       "<text font-family=\"Times,serif\" font-size=\"14.00\" text-anchor=\"middle\" x=\"256.5\" y=\"-280.3\">(None, None, 1)</text>\n",
       "<polyline fill=\"none\" points=\"200,-272.5 313,-272.5 \" stroke=\"black\"/>\n",
       "<text font-family=\"Times,serif\" font-size=\"14.00\" text-anchor=\"middle\" x=\"256.5\" y=\"-257.3\">(None, None, 10)</text>\n",
       "</g>\n",
       "<!-- 140109020207760&#45;&gt;140109020208264 -->\n",
       "<g class=\"edge\" id=\"edge1\"><title>140109020207760-&gt;140109020208264</title>\n",
       "<path d=\"M180,-332.366C180,-324.152 180,-314.658 180,-305.725\" fill=\"none\" stroke=\"black\"/>\n",
       "<polygon fill=\"black\" points=\"183.5,-305.607 180,-295.607 176.5,-305.607 183.5,-305.607\" stroke=\"black\"/>\n",
       "</g>\n",
       "<!-- 140109020128088 -->\n",
       "<g class=\"node\" id=\"node3\"><title>140109020128088</title>\n",
       "<polygon fill=\"none\" points=\"47,-166.5 47,-212.5 313,-212.5 313,-166.5 47,-166.5\" stroke=\"black\"/>\n",
       "<text font-family=\"Times,serif\" font-size=\"14.00\" text-anchor=\"middle\" x=\"96\" y=\"-185.8\">lstm_2: LSTM</text>\n",
       "<polyline fill=\"none\" points=\"145,-166.5 145,-212.5 \" stroke=\"black\"/>\n",
       "<text font-family=\"Times,serif\" font-size=\"14.00\" text-anchor=\"middle\" x=\"172.5\" y=\"-197.3\">input:</text>\n",
       "<polyline fill=\"none\" points=\"145,-189.5 200,-189.5 \" stroke=\"black\"/>\n",
       "<text font-family=\"Times,serif\" font-size=\"14.00\" text-anchor=\"middle\" x=\"172.5\" y=\"-174.3\">output:</text>\n",
       "<polyline fill=\"none\" points=\"200,-166.5 200,-212.5 \" stroke=\"black\"/>\n",
       "<text font-family=\"Times,serif\" font-size=\"14.00\" text-anchor=\"middle\" x=\"256.5\" y=\"-197.3\">(None, None, 10)</text>\n",
       "<polyline fill=\"none\" points=\"200,-189.5 313,-189.5 \" stroke=\"black\"/>\n",
       "<text font-family=\"Times,serif\" font-size=\"14.00\" text-anchor=\"middle\" x=\"256.5\" y=\"-174.3\">(None, None, 10)</text>\n",
       "</g>\n",
       "<!-- 140109020208264&#45;&gt;140109020128088 -->\n",
       "<g class=\"edge\" id=\"edge2\"><title>140109020208264-&gt;140109020128088</title>\n",
       "<path d=\"M180,-249.366C180,-241.152 180,-231.658 180,-222.725\" fill=\"none\" stroke=\"black\"/>\n",
       "<polygon fill=\"black\" points=\"183.5,-222.607 180,-212.607 176.5,-222.607 183.5,-222.607\" stroke=\"black\"/>\n",
       "</g>\n",
       "<!-- 140109020129208 -->\n",
       "<g class=\"node\" id=\"node4\"><title>140109020129208</title>\n",
       "<polygon fill=\"none\" points=\"0,-83.5 0,-129.5 360,-129.5 360,-83.5 0,-83.5\" stroke=\"black\"/>\n",
       "<text font-family=\"Times,serif\" font-size=\"14.00\" text-anchor=\"middle\" x=\"96\" y=\"-102.8\">fully_connected_layer01: Dense</text>\n",
       "<polyline fill=\"none\" points=\"192,-83.5 192,-129.5 \" stroke=\"black\"/>\n",
       "<text font-family=\"Times,serif\" font-size=\"14.00\" text-anchor=\"middle\" x=\"219.5\" y=\"-114.3\">input:</text>\n",
       "<polyline fill=\"none\" points=\"192,-106.5 247,-106.5 \" stroke=\"black\"/>\n",
       "<text font-family=\"Times,serif\" font-size=\"14.00\" text-anchor=\"middle\" x=\"219.5\" y=\"-91.3\">output:</text>\n",
       "<polyline fill=\"none\" points=\"247,-83.5 247,-129.5 \" stroke=\"black\"/>\n",
       "<text font-family=\"Times,serif\" font-size=\"14.00\" text-anchor=\"middle\" x=\"303.5\" y=\"-114.3\">(None, None, 10)</text>\n",
       "<polyline fill=\"none\" points=\"247,-106.5 360,-106.5 \" stroke=\"black\"/>\n",
       "<text font-family=\"Times,serif\" font-size=\"14.00\" text-anchor=\"middle\" x=\"303.5\" y=\"-91.3\">(None, None, 10)</text>\n",
       "</g>\n",
       "<!-- 140109020128088&#45;&gt;140109020129208 -->\n",
       "<g class=\"edge\" id=\"edge3\"><title>140109020128088-&gt;140109020129208</title>\n",
       "<path d=\"M180,-166.366C180,-158.152 180,-148.658 180,-139.725\" fill=\"none\" stroke=\"black\"/>\n",
       "<polygon fill=\"black\" points=\"183.5,-139.607 180,-129.607 176.5,-139.607 183.5,-139.607\" stroke=\"black\"/>\n",
       "</g>\n",
       "<!-- 140108820536792 -->\n",
       "<g class=\"node\" id=\"node5\"><title>140108820536792</title>\n",
       "<polygon fill=\"none\" points=\"0,-0.5 0,-46.5 360,-46.5 360,-0.5 0,-0.5\" stroke=\"black\"/>\n",
       "<text font-family=\"Times,serif\" font-size=\"14.00\" text-anchor=\"middle\" x=\"96\" y=\"-19.8\">fully_connected_layer02: Dense</text>\n",
       "<polyline fill=\"none\" points=\"192,-0.5 192,-46.5 \" stroke=\"black\"/>\n",
       "<text font-family=\"Times,serif\" font-size=\"14.00\" text-anchor=\"middle\" x=\"219.5\" y=\"-31.3\">input:</text>\n",
       "<polyline fill=\"none\" points=\"192,-23.5 247,-23.5 \" stroke=\"black\"/>\n",
       "<text font-family=\"Times,serif\" font-size=\"14.00\" text-anchor=\"middle\" x=\"219.5\" y=\"-8.3\">output:</text>\n",
       "<polyline fill=\"none\" points=\"247,-0.5 247,-46.5 \" stroke=\"black\"/>\n",
       "<text font-family=\"Times,serif\" font-size=\"14.00\" text-anchor=\"middle\" x=\"303.5\" y=\"-31.3\">(None, None, 10)</text>\n",
       "<polyline fill=\"none\" points=\"247,-23.5 360,-23.5 \" stroke=\"black\"/>\n",
       "<text font-family=\"Times,serif\" font-size=\"14.00\" text-anchor=\"middle\" x=\"303.5\" y=\"-8.3\">(None, None, 1)</text>\n",
       "</g>\n",
       "<!-- 140109020129208&#45;&gt;140108820536792 -->\n",
       "<g class=\"edge\" id=\"edge4\"><title>140109020129208-&gt;140108820536792</title>\n",
       "<path d=\"M180,-83.3664C180,-75.1516 180,-65.6579 180,-56.7252\" fill=\"none\" stroke=\"black\"/>\n",
       "<polygon fill=\"black\" points=\"183.5,-56.6068 180,-46.6068 176.5,-56.6069 183.5,-56.6068\" stroke=\"black\"/>\n",
       "</g>\n",
       "</g>\n",
       "</svg>"
      ],
      "text/plain": [
       "<IPython.core.display.SVG object>"
      ]
     },
     "execution_count": 9,
     "metadata": {},
     "output_type": "execute_result"
    }
   ],
   "source": [
    "def create_model(lstm_out=10, optimizer='adam'):\n",
    "    model = Sequential(name='lstm')\n",
    "    model.add(LSTM(batch_input_shape=(None, None, 1), output_dim=lstm_out, return_sequences=True))\n",
    "    model.add(LSTM(batch_input_shape=(None, None, 1), output_dim=lstm_out, return_sequences=True))\n",
    "    model.add(Dense(output_dim=10, name='fully_connected_layer01'))\n",
    "    model.add(Dense(output_dim=1, name='fully_connected_layer02'))\n",
    "    model.compile(loss='mean_squared_error', optimizer=optimizer, metrics=[mean_squared_error])\n",
    "    return model\n",
    "\n",
    "model = create_model()\n",
    "SVG(model_to_dot(model, show_shapes=True).create(prog='dot', format='svg'))"
   ]
  },
  {
   "cell_type": "markdown",
   "metadata": {
    "deletable": true,
    "editable": true
   },
   "source": [
    "## Hyperparameter Optimization"
   ]
  },
  {
   "cell_type": "code",
   "execution_count": 10,
   "metadata": {
    "collapsed": false,
    "deletable": true,
    "editable": true,
    "scrolled": false
   },
   "outputs": [
    {
     "name": "stderr",
     "output_type": "stream",
     "text": [
      "/usr/local/lib/python3.6/site-packages/keras/legacy/interfaces.py:86: UserWarning: Update your `LSTM` call to the Keras 2 API: `LSTM(batch_input_shape=(None, Non..., return_sequences=True, units=1)`\n",
      "  '` call to the Keras 2 API: ' + signature)\n",
      "/usr/local/lib/python3.6/site-packages/keras/legacy/interfaces.py:86: UserWarning: Update your `Dense` call to the Keras 2 API: `Dense(name=\"fully_connected_layer01\", units=10)`\n",
      "  '` call to the Keras 2 API: ' + signature)\n",
      "/usr/local/lib/python3.6/site-packages/keras/legacy/interfaces.py:86: UserWarning: Update your `Dense` call to the Keras 2 API: `Dense(name=\"fully_connected_layer02\", units=1)`\n",
      "  '` call to the Keras 2 API: ' + signature)\n"
     ]
    },
    {
     "name": "stdout",
     "output_type": "stream",
     "text": [
      "error:0.15174917627164006, score:-0.00794981365892071\n",
      "error:0.15151681029485736, score:-0.005367960534486422\n",
      "error:0.15135714490641883, score:-0.0010292498880628614\n",
      "error:0.1517129861109225, score:-0.007422752516940007\n",
      "error:0.1516764756832959, score:-0.017601978558775554\n",
      "error:0.15155402409423918, score:-0.0010845696535770057\n"
     ]
    },
    {
     "name": "stderr",
     "output_type": "stream",
     "text": [
      "/usr/local/lib/python3.6/site-packages/keras/legacy/interfaces.py:86: UserWarning: Update your `LSTM` call to the Keras 2 API: `LSTM(batch_input_shape=(None, Non..., return_sequences=True, units=10)`\n",
      "  '` call to the Keras 2 API: ' + signature)\n"
     ]
    },
    {
     "name": "stdout",
     "output_type": "stream",
     "text": [
      "error:0.15876039307902715, score:-0.054519784239043155\n",
      "error:0.15747108400927515, score:-0.04487668573190101\n",
      "error:0.15685682289411665, score:-0.03740241571419459\n",
      "error:0.15787298800972022, score:-0.048327135374839555\n",
      "error:0.15851830306926312, score:-0.06350400162170063\n",
      "error:0.15916947864145117, score:-0.05138817646095258\n"
     ]
    },
    {
     "name": "stderr",
     "output_type": "stream",
     "text": [
      "/usr/local/lib/python3.6/site-packages/keras/legacy/interfaces.py:86: UserWarning: Update your `LSTM` call to the Keras 2 API: `LSTM(batch_input_shape=(None, Non..., return_sequences=True, units=20)`\n",
      "  '` call to the Keras 2 API: ' + signature)\n"
     ]
    },
    {
     "name": "stdout",
     "output_type": "stream",
     "text": [
      "error:0.15842769809913818, score:-0.05230995449746985\n",
      "error:0.15730054530816348, score:-0.043745100755982085\n",
      "error:0.15683224219859232, score:-0.03723984661170769\n",
      "error:0.15769725560511624, score:-0.047160216001022034\n",
      "error:0.15759611674344617, score:-0.05731702618253874\n",
      "error:0.1578171868643826, score:-0.042455662528818355\n"
     ]
    },
    {
     "name": "stderr",
     "output_type": "stream",
     "text": [
      "/usr/local/lib/python3.6/site-packages/keras/legacy/interfaces.py:86: UserWarning: Update your `LSTM` call to the Keras 2 API: `LSTM(batch_input_shape=(None, Non..., return_sequences=True, units=30)`\n",
      "  '` call to the Keras 2 API: ' + signature)\n"
     ]
    },
    {
     "name": "stdout",
     "output_type": "stream",
     "text": [
      "error:0.15868802312569547, score:-0.05403908785065162\n",
      "error:0.15755116450377696, score:-0.04540804831324891\n",
      "error:0.15691151643927156, score:-0.03776414187197871\n",
      "error:0.15787720514503867, score:-0.048355138502186513\n",
      "error:0.15736510521289376, score:-0.05576716296544453\n",
      "error:0.15749355340220786, score:-0.04031791351724998\n"
     ]
    },
    {
     "name": "stderr",
     "output_type": "stream",
     "text": [
      "/usr/local/lib/python3.6/site-packages/keras/legacy/interfaces.py:86: UserWarning: Update your `LSTM` call to the Keras 2 API: `LSTM(batch_input_shape=(None, Non..., return_sequences=True, units=40)`\n",
      "  '` call to the Keras 2 API: ' + signature)\n"
     ]
    },
    {
     "name": "stdout",
     "output_type": "stream",
     "text": [
      "error:0.1580786848505368, score:-0.04999173539714004\n",
      "error:0.15716372645090654, score:-0.04283725894479657\n",
      "error:0.1563429132728197, score:-0.034003576742733035\n",
      "error:0.15728593878092512, score:-0.04442894073049125\n",
      "error:0.15760772515534505, score:-0.05739490736261639\n",
      "error:0.15762334553961682, score:-0.04117525073939885\n"
     ]
    },
    {
     "name": "stderr",
     "output_type": "stream",
     "text": [
      "/usr/local/lib/python3.6/site-packages/keras/legacy/interfaces.py:86: UserWarning: Update your `LSTM` call to the Keras 2 API: `LSTM(batch_input_shape=(None, Non..., return_sequences=True, units=300)`\n",
      "  '` call to the Keras 2 API: ' + signature)\n"
     ]
    },
    {
     "name": "stdout",
     "output_type": "stream",
     "text": [
      "error:0.16126741218613935, score:-0.07117193026011769\n",
      "error:0.16028497972168557, score:-0.0635478852379985\n",
      "error:0.15406197375142444, score:-0.018918149625605132\n",
      "error:0.1549859390085998, score:-0.029156206597302125\n",
      "error:0.1570716193565681, score:-0.05379815764190586\n",
      "error:0.15606333704932468, score:-0.030870671646276784\n"
     ]
    }
   ],
   "source": [
    "# Custom Scorer\n",
    "def accuracy(y_true, y_pred):\n",
    "    y_true = y_true.reshape((-1, SIZE_Y))\n",
    "    y_pred = y_pred.reshape((-1, SIZE_Y))\n",
    "    score = r2_score(y_true, y_pred, multioutput='variance_weighted')\n",
    "    error = ((y_true - y_pred)**2).mean()\n",
    "    print(f'error:{error}, score:{score}')\n",
    "    return score\n",
    "\n",
    "\n",
    "# Grid Search \n",
    "params = dict(lstm_out=[1, 10, 20, 30, 40, 300], \n",
    "              optimizer=['adam'], \n",
    "              nb_epoch=[10])\n",
    "\n",
    "classifier = KerasClassifier(create_model, verbose=0)\n",
    "scorer = make_scorer(accuracy, greater_is_better=False) # 케라스 모델에서 MSE를 사용하기 때문에 greater_is_better는 False\n",
    "grid = GridSearchCV(classifier, param_grid=params, scoring=scorer)\n",
    "grid_result = grid.fit(x, y)"
   ]
  },
  {
   "cell_type": "code",
   "execution_count": null,
   "metadata": {
    "collapsed": false,
    "deletable": true,
    "editable": true
   },
   "outputs": [],
   "source": [
    "_mean_scores = grid_result.cv_results_['mean_test_score']\n",
    "_stds = grid_result.cv_results_['std_test_score']\n",
    "_params = grid_result.cv_results_['params']\n",
    "\n",
    "print('Best:', grid_result.best_params_)\n",
    "for mean, std, param in zip(_mean_scores, _stds, _params):\n",
    "    print(f'Mean Score:{mean:.7},\\tSTD Score:{std:.5},\\tParams: {param}')"
   ]
  },
  {
   "cell_type": "markdown",
   "metadata": {
    "deletable": true,
    "editable": true
   },
   "source": [
    "## Train"
   ]
  },
  {
   "cell_type": "code",
   "execution_count": 164,
   "metadata": {
    "collapsed": false,
    "deletable": true,
    "editable": true,
    "scrolled": false
   },
   "outputs": [
    {
     "name": "stdout",
     "output_type": "stream",
     "text": [
      "Epoch 1/30\n",
      "3s - loss: 0.0835 - mean_squared_error: 0.0835\n",
      "Epoch 2/30\n",
      "2s - loss: 0.0833 - mean_squared_error: 0.0833\n",
      "Epoch 3/30\n",
      "2s - loss: 0.0834 - mean_squared_error: 0.0834\n",
      "Epoch 4/30\n",
      "2s - loss: 0.0833 - mean_squared_error: 0.0833\n",
      "Epoch 5/30\n",
      "3s - loss: 0.0832 - mean_squared_error: 0.0832\n",
      "Epoch 6/30\n",
      "2s - loss: 0.0832 - mean_squared_error: 0.0832\n",
      "Epoch 7/30\n",
      "2s - loss: 0.0830 - mean_squared_error: 0.0830\n",
      "Epoch 8/30\n",
      "3s - loss: 0.0830 - mean_squared_error: 0.0830\n",
      "Epoch 9/30\n",
      "3s - loss: 0.0830 - mean_squared_error: 0.0830\n",
      "Epoch 10/30\n",
      "3s - loss: 0.0828 - mean_squared_error: 0.0828\n",
      "Epoch 11/30\n",
      "3s - loss: 0.0829 - mean_squared_error: 0.0829\n",
      "Epoch 12/30\n",
      "3s - loss: 0.0828 - mean_squared_error: 0.0828\n",
      "Epoch 13/30\n",
      "3s - loss: 0.0829 - mean_squared_error: 0.0829\n",
      "Epoch 14/30\n",
      "3s - loss: 0.0827 - mean_squared_error: 0.0827\n",
      "Epoch 15/30\n",
      "3s - loss: 0.0826 - mean_squared_error: 0.0826\n",
      "Epoch 16/30\n",
      "2s - loss: 0.0826 - mean_squared_error: 0.0826\n",
      "Epoch 17/30\n",
      "3s - loss: 0.0826 - mean_squared_error: 0.0826\n",
      "Epoch 18/30\n",
      "3s - loss: 0.0825 - mean_squared_error: 0.0825\n",
      "Epoch 19/30\n",
      "3s - loss: 0.0824 - mean_squared_error: 0.0824\n",
      "Epoch 20/30\n",
      "3s - loss: 0.0824 - mean_squared_error: 0.0824\n",
      "Epoch 21/30\n",
      "3s - loss: 0.0824 - mean_squared_error: 0.0824\n",
      "Epoch 22/30\n",
      "3s - loss: 0.0825 - mean_squared_error: 0.0825\n",
      "Epoch 23/30\n",
      "3s - loss: 0.0823 - mean_squared_error: 0.0823\n",
      "Epoch 24/30\n",
      "3s - loss: 0.0822 - mean_squared_error: 0.0822\n",
      "Epoch 25/30\n",
      "3s - loss: 0.0821 - mean_squared_error: 0.0821\n",
      "Epoch 26/30\n",
      "3s - loss: 0.0821 - mean_squared_error: 0.0821\n",
      "Epoch 27/30\n",
      "3s - loss: 0.0821 - mean_squared_error: 0.0821\n",
      "Epoch 28/30\n",
      "3s - loss: 0.0820 - mean_squared_error: 0.0820\n",
      "Epoch 29/30\n",
      "3s - loss: 0.0820 - mean_squared_error: 0.0820\n",
      "Epoch 30/30\n",
      "3s - loss: 0.0822 - mean_squared_error: 0.0822\n"
     ]
    },
    {
     "data": {
      "text/plain": [
       "<keras.callbacks.History at 0x7f973bac2128>"
      ]
     },
     "execution_count": 164,
     "metadata": {},
     "output_type": "execute_result"
    }
   ],
   "source": [
    "params = dict(lstm_out=10,\n",
    "              optimizer='adam')\n",
    "\n",
    "# model = create_model(**params)\n",
    "model.fit(x, y, verbose=2, nb_epoch=30)"
   ]
  },
  {
   "cell_type": "code",
   "execution_count": 168,
   "metadata": {
    "collapsed": false,
    "deletable": true,
    "editable": true
   },
   "outputs": [
    {
     "name": "stdout",
     "output_type": "stream",
     "text": [
      "error:0.011235935453224375, score:0.9256065575201359\n",
      "Mean Squared Error: 0.92560655752\n"
     ]
    },
    {
     "data": {
      "image/png": "[encoded data removed]",
      "text/plain": [
       "<matplotlib.figure.Figure at 0x7f973be30f98>"
      ]
     },
     "metadata": {},
     "output_type": "display_data"
    }
   ],
   "source": [
    "# Custom Scorer\n",
    "def accuracy(y_true, y_pred):\n",
    "    y_true = y_true.reshape((-1, SIZE_Y))\n",
    "    y_pred = y_pred.reshape((-1, SIZE_Y))\n",
    "    \n",
    "    score = r2_score(y_true, y_pred, multioutput='variance_weighted')\n",
    "    error = ((y_true - y_pred)**2).mean()\n",
    "    print(f'error:{error}, score:{score}')\n",
    "    return score\n",
    "\n",
    "def visualize_prediction(data_x, data_y):   \n",
    "    data_p = model.predict(data_x)\n",
    "    \n",
    "    data_x = data_x.reshape((-1, SIZE_Y))\n",
    "    data_y = data_y.reshape((-1, SIZE_Y))\n",
    "    data_p = data_p.reshape((-1, SIZE_Y))\n",
    "    \n",
    "    print('Mean Squared Error:', accuracy(data_y, data_p))\n",
    "    \n",
    "    fig, sub_plots = subplots(2, 2)\n",
    "    for col_plots in sub_plots:\n",
    "        for sp in col_plots:\n",
    "            sp.get_xaxis().set_visible(False)\n",
    "            sp.get_yaxis().set_visible(False)\n",
    "        \n",
    "            idx = np.random.randint(data_x.shape[0])\n",
    "            \n",
    "#             sp.plot(data_x[idx], color='blue')\n",
    "            sp.plot(data_y[idx], color='#333333')\n",
    "            sp.plot(data_p[idx], color='red')\n",
    "\n",
    "\n",
    "visualize_prediction(test_x, test_y)"
   ]
  }
 ],
 "metadata": {
  "kernelspec": {
   "display_name": "Python 3",
   "language": "python",
   "name": "python3"
  },
  "language_info": {
   "codemirror_mode": {
    "name": "ipython",
    "version": 3
   },
   "file_extension": ".py",
   "mimetype": "text/x-python",
   "name": "python",
   "nbconvert_exporter": "python",
   "pygments_lexer": "ipython3",
   "version": "3.6.0"
  }
 },
 "nbformat": 4,
 "nbformat_minor": 2
}
