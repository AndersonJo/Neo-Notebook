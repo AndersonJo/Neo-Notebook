{
 "cells": [
  {
   "cell_type": "markdown",
   "metadata": {},
   "source": [
    "# AdaDelta\n",
    "\n",
    " * [ADADELTA: An Adaptive Learning Rate Method](https://arxiv.org/abs/1212.5701)"
   ]
  },
  {
   "cell_type": "markdown",
   "metadata": {},
   "source": [
    "### Abstract\n",
    "\n",
    "AdaDelta는 per-dimension learning rate method를 갖고있으며,\n",
    "첫번째     Vanilla stochastic gradient descent보다"
   ]
  },
  {
   "cell_type": "markdown",
   "metadata": {},
   "source": [
    "### Gradient Descent 의 문제.. \n",
    "\n",
    "많은 머신러닝 알고리즘들은 a set of parameters $ \\theta $ 값을 objective function $ f(\\theta) $를 optimize함으로서 update해줍니다.<br>\n",
    "이러한 알고리즘들은 보통 iterative procedure를 갖고 있으며, 매 iteration마다  change to the parameters인 $ \\Delta \\theta $를 적용시킵니다. \n",
    "\n",
    "$$ \\theta_{t+1} = \\theta_t + \\Delta \\theta_t $$\n",
    "\n",
    "이때 negative gradient $ g_t $를 사용합니다. 즉..\n",
    "\n",
    "$$ \\Delta \\theta_t = - \\eta g_t $$\n",
    "\n",
    "여기서 $ g_t $는 partial derivative이고, $ \\eta $는 learning rate를 가르킵니다.\n",
    "\n",
    "$$ g_t = \\frac{\\partial f(\\theta_t)}{\\partial \\theta_t} $$\n",
    "\n",
    "보통 SGD 또는 Mini-batch GD를 사용하게 되는데.. 문제는 learning rate를 명시해야 하며, learning rate에 따라서 결과값이 크게 영향받을수 있습니다.<br>\n",
    "즉 learning rate를 크게 잡으면 diverge 되거나 낮게 잡으면 learning이 매우 느려지게 됩니다. <br>\n",
    "따라서 Model에 대한 learning rate를 제대로 잡아야 하는데... 문제는 이게 사람이 잡는다는것이 문제. "
   ]
  },
  {
   "cell_type": "markdown",
   "metadata": {},
   "source": [
    "# Per-dimension First Order Methods \n",
    "\n",
    "### Momentum\n",
    "\n",
    "가장 중요한 핵심은 gradient $ g_t $ 지속적으로 같은 방향을 가르키며, gradient의 부호(sign...- 또는 +)가 지속적으로 변한다면.. progress를 slow시키는 것입니다. <br>\n",
    "이는 past parameter update $ \\Delta \\theta_{t-1} $, 그리고 exponential decay $ \\gamma $를 사용함으로서 가능해집니다.\n",
    "\n",
    "$$ \\Delta \\theta_t = \\gamma \\Delta \\theta_{t-1} - \\eta g_t $$\n",
    "\n",
    "여기서 $ \\gamma $는 constant값으로서 이전 parameter update $ \\Delta \\theta_{t-1} $을 control 합니다.<br>\n",
    "\n",
    "SGD에서 progress는 매우 느립니다. 왜냐하면 gradient magnitude은 매우 작으며, <br>\n",
    "fixed global learning rate (게다가 모든 dimensions에 적용) progress를 더더욱 느리게 만들어버립니다.\n",
    "\n",
    "높은 learning rate를 사용하면 valley를 서로 왔다갔다하는 oscillations을 만들수도 있습니다."
   ]
  },
  {
   "cell_type": "markdown",
   "metadata": {},
   "source": [
    "### AdaGrad\n",
    "\n",
    "update rule은 다음과 같습니다. \n",
    "\n",
    "$$ \\Delta \\theta_t = - \\frac{\\eta}{\\epsilon + \\sqrt{ \\sum^t_{τ=1} g^2_τ }} \\odot g_t $$\n",
    "\n",
    "여기서 denominator의 경우 l2 norm 의 모든 이전의 gradients를 연산합니다. <br>\n",
    "$ \\eta $의 경우 global learning rate입니다.\n",
    "\n",
    "물론 global learning rate가 있지만, 각각의 $ \\theta $의 dimension마다 각각의 dynamic rate를 갖고 있습니다. <br>\n",
    "dynamic rate는 gradient magnitude와 반대로 커나가기 때문에, large gradient의 경우 작은 learning rate갖으며, small gradient의 경우에는 large learning rate를 갖습니다. "
   ]
  },
  {
   "cell_type": "markdown",
   "metadata": {},
   "source": [
    "# Second Order Methods\n",
    "\n",
    "## AdaDelta\n",
    "\n",
    "먼저 AdaGrad의 문제점은 다음과 같습니다. \n",
    "\n",
    "1. Training동안 지속적으로 작아지는 learning rate (continual decay of learning rates throughout training)\n",
    "2. Global Learning Rate의 선택 필요 \n",
    "\n",
    "### exponentially decaying average of the squared gradients\n",
    "sum of squared gradients를 accumulate하는 것이 아니라, AdaDelta는 window of accumulated past gradients를 제한함으로서 고정된 싸이즈의 w값을 유지합니다. 이전의 squared gradients값 w를 저장하는것은 비효율적이기 때문에, accumulation은 exponentially decaying average of the squared gradients로 구현을 합니다.\n",
    "\n",
    "[원문] Since storing $ w $ previous squared gradients is inefficient, our methods implements this accumulation as an exponentially decaying average of the squared gradients. Assume at\n",
    "time t this running average is $ E[g^2]_t $ then we compute\n",
    "\n",
    "$$ E[g^2]_t = \\gamma E[g^2]_{t-1} + (1-\\gamma)g^2_t $$\n",
    "\n",
    "여기서 $ \\gamma $는 Momentum method에서 사용된 것과 유사한 decay constant입니다.<br>\n",
    "update시에 square root을 해줘야 하며, 궁극적으로 이전 squared gradients (t시간 까지의)의 RMS가 됩니다. \n",
    "\n",
    "$$ RMS[g]_t = \\sqrt{E[g^2]_t + \\epsilon} $$\n",
    "\n",
    "* [RMS참고 - Wolfram MathWorld](http://mathworld.wolfram.com/Root-Mean-Square.html)\n",
    "\n",
    "궁극적으로 Denominator는 $ RMS[g]_t $로 대체 될수 있습니다.\n",
    "\n",
    "$$ \\Delta \\theta_t =  \\frac{\\eta}{RMS[g]_t} \\odot g_t $$\n",
    "\n",
    "### Exponentially decaying average of the squared weights\n",
    "위의 공식 분모에서 mean squared gradient를 구했습니다.<br>\n",
    "이때 분자에서도 동일한 units으로 계산이 되어야 합니다. 따라서 mean squared weight 를 구합니다.\n",
    "\n",
    "$$ E[\\Delta \\theta^2]_t = \\gamma E[\\Delta \\theta^2]_{t-1} + (1-\\gamma) \\Delta \\theta^2_t  $$\n",
    "\n",
    "위의 root mean squared error of weight updates는 다음과 같습니다.\n",
    "\n",
    "$$ RMS[\\Delta \\theta]_t = \\sqrt{E[\\Delta \\theta^2]_t + \\epsilon} $$\n",
    "\n",
    "일단 $ E[\\Delta \\theta^2]_t $는 모르는 상태이기 때문에, 이전 update rule인 $ E[\\Delta \\theta]_{t-1} $로 approximate해주면 AdaDelta 공식이 나오게 됩니다.<br>\n",
    "\n",
    "$$ \\begin{align} \n",
    "\\Delta \\theta_t &= - \\frac{RMS[\\Delta \\theta]_{t-1}}{RMS[g]_t} \\odot g_t  \\\\\n",
    "\\theta_{t+1} &= \\theta_t + \\Delta \\theta_t\n",
    "\\end{align}\n",
    "$$"
   ]
  },
  {
   "cell_type": "markdown",
   "metadata": {},
   "source": [
    "### Algorithm\n",
    "\n",
    "* **Require**: Decay Rate $ \\gamma $, Epsilon Constant $ \\epsilon $\n",
    "* **Initialization**: $ \\theta 초기화 $, accumulation variables $ E[g^2]_0 = 0 $, $ E[\\Delta \\theta^2]_0 = 0 $\n",
    "\n",
    "\n",
    "1. for t = 1: T do: <br>\n",
    "  1. Compute Gradient: $ g_t$\n",
    "  2. Accumulate Gradient: $$ E[g^2]_t = \\gamma E[g^2]_{t-1} + (1-\\gamma)g^2_t $$\n",
    "  3. Compute Update: $$ \\Delta \\theta_t = - \\frac{RMS[\\Delta \\theta]_{t-1}}{RMS[g]_t} \\odot g_t $$\n",
    "  4. Accumulate Updates:  $$ E[\\Delta \\theta^2]_t = \\gamma E[\\Delta \\theta^2]_{t-1} + (1-\\gamma)\\Delta \\theta^2_t $$\n",
    "  5. Apply Update: $$ \\theta_{t + 1} = \\theta_t + \\Delta \\theta_t $$"
   ]
  },
  {
   "cell_type": "markdown",
   "metadata": {},
   "source": [
    "# Implementation\n",
    "\n",
    "### Import"
   ]
  },
  {
   "cell_type": "code",
   "execution_count": 1,
   "metadata": {},
   "outputs": [
    {
     "name": "stdout",
     "output_type": "stream",
     "text": [
      "Populating the interactive namespace from numpy and matplotlib\n"
     ]
    }
   ],
   "source": [
    "%pylab inline\n",
    "import numpy as np\n",
    "import pandas as pd\n",
    "\n",
    "from sklearn.model_selection import  train_test_split\n",
    "from sklearn.preprocessing import StandardScaler\n",
    "from sklearn.metrics import accuracy_score\n",
    "from sklearn.datasets import load_iris"
   ]
  },
  {
   "cell_type": "markdown",
   "metadata": {},
   "source": [
    "### Data"
   ]
  },
  {
   "cell_type": "code",
   "execution_count": 2,
   "metadata": {},
   "outputs": [
    {
     "data": {
      "text/plain": [
       "<matplotlib.legend.Legend at 0x7fc80abefc50>"
      ]
     },
     "execution_count": 2,
     "metadata": {},
     "output_type": "execute_result"
    },
    {
     "data": {
      "image/png": "[encoded data removed]",
      "text/plain": [
       "<matplotlib.figure.Figure at 0x7fc80ced2940>"
      ]
     },
     "metadata": {},
     "output_type": "display_data"
    }
   ],
   "source": [
    "iris = load_iris()\n",
    "\n",
    "# setosa_x = iris.data[:50]\n",
    "# setosa_y = iris.target[:50]\n",
    "# versicolor_x = iris.data[50:100]\n",
    "# versicolor_y = iris.target[50:100]\n",
    "# scatter(setosa_x[:, 0], setosa_x[:, 2])\n",
    "# scatter(versicolor_x[:, 0], versicolor_x[:, 2])\n",
    "\n",
    "# Extract sepal length, petal length from Setosa and Versicolor\n",
    "data = iris.data[:100, [0, 2]]\n",
    "\n",
    "# Standardization\n",
    "scaler = StandardScaler()\n",
    "data = scaler.fit_transform(data)\n",
    "\n",
    "\n",
    "# Split data to test and train data\n",
    "train_x, test_x, train_y, test_y = train_test_split(data, iris.target[:100], test_size=0.3)\n",
    "\n",
    "# Plotting data\n",
    "scatter(data[:50, 0], data[:50, 1], label='Setosa')\n",
    "scatter(data[50:100, 0], data[50:100, 1], label='Versicolour')\n",
    "title('Iris Data')\n",
    "xlabel('sepal length')\n",
    "ylabel('petal length')\n",
    "grid()\n",
    "legend()"
   ]
  },
  {
   "cell_type": "markdown",
   "metadata": {},
   "source": [
    "### SGD with AdaDelta Optimizer"
   ]
  },
  {
   "cell_type": "code",
   "execution_count": 7,
   "metadata": {
    "scrolled": false
   },
   "outputs": [
    {
     "name": "stdout",
     "output_type": "stream",
     "text": [
      "[ 0] Accuracy: 0.0 \n",
      "[ 1] Accuracy: 0.0 \n",
      "[ 2] Accuracy: 0.0 \n",
      "[ 3] Accuracy: 0.0 \n",
      "[ 4] Accuracy: 0.0 \n",
      "[ 5] Accuracy: 0.0 \n",
      "[ 6] Accuracy: 0.07\n",
      "[ 7] Accuracy: 0.43\n",
      "[ 8] Accuracy: 0.5 \n",
      "[ 9] Accuracy: 0.5 \n",
      "[10] Accuracy: 0.5 \n",
      "[11] Accuracy: 0.5 \n",
      "[12] Accuracy: 0.5 \n",
      "[13] Accuracy: 0.57\n",
      "[14] Accuracy: 0.67\n",
      "[15] Accuracy: 0.7 \n",
      "[16] Accuracy: 0.73\n",
      "[17] Accuracy: 0.83\n",
      "[18] Accuracy: 0.83\n",
      "[19] Accuracy: 0.9 \n",
      "[20] Accuracy: 0.93\n",
      "[21] Accuracy: 0.97\n",
      "[22] Accuracy: 0.97\n",
      "[23] Accuracy: 0.97\n",
      "[24] Accuracy: 0.97\n",
      "[25] Accuracy: 0.97\n",
      "[26] Accuracy: 0.97\n",
      "[27] Accuracy: 0.97\n",
      "[28] Accuracy: 0.97\n",
      "[29] Accuracy: 0.97\n",
      "[30] Accuracy: 0.97\n",
      "[31] Accuracy: 0.97\n",
      "[32] Accuracy: 0.97\n",
      "[33] Accuracy: 0.97\n",
      "[34] Accuracy: 0.97\n",
      "[35] Accuracy: 0.97\n",
      "[36] Accuracy: 0.97\n",
      "[37] Accuracy: 0.97\n",
      "[38] Accuracy: 0.97\n",
      "[39] Accuracy: 0.97\n",
      "[40] Accuracy: 1.0 \n",
      "[41] Accuracy: 1.0 \n",
      "[42] Accuracy: 1.0 \n",
      "[43] Accuracy: 1.0 \n",
      "[44] Accuracy: 1.0 \n"
     ]
    }
   ],
   "source": [
    "w =   np.array([ 0.09370901, -0.24480254, -0.84210235]) # np.random.randn(2 + 1)\n",
    "\n",
    "def predict(w, x):\n",
    "    N = len(x)\n",
    "    yhat = w[1:].dot(x.T) + w[0]\n",
    "    return yhat\n",
    "\n",
    "def  adadelta_nn(w, X, Y, decay=0.2, epoch=4, weight_size=2):\n",
    "    \"\"\"\n",
    "    @param eta <float>: learning rate\n",
    "    \"\"\"\n",
    "    N = len(X)\n",
    "    e = 1e-8\n",
    "    \n",
    "    Eg = np.zeros(weight_size + 1)  # E[g^2]\n",
    "    Ed = np.zeros(weight_size + 1)  # E[\\Delta w^2]\n",
    "        \n",
    "    i = 0\n",
    "    for _ in range(epoch):\n",
    "        for _ in range(N):\n",
    "            x = X[i]\n",
    "            y = Y[i]\n",
    "            x = x.reshape((-1, 2))\n",
    "            yhat = predict(w, x)\n",
    "\n",
    "            # Calculate the gradients\n",
    "            gradient_w = 2/N*-(y-yhat).dot(x)\n",
    "            gradient_b = 2/N*-(y-yhat)\n",
    "\n",
    "            # Accumulate Gradient\n",
    "            Eg[1:] = decay * Eg[1:] + (1-decay) * gradient_w**2\n",
    "            Eg[0]  = decay * Eg[0] + (1-decay) * gradient_b**2\n",
    "\n",
    "            # Compute Update\n",
    "            delta_w = - np.sqrt(e + Ed[1:])/np.sqrt(e + Eg[1:]) * gradient_w\n",
    "            delta_b = - np.sqrt(e + Ed[0])/np.sqrt(e + Eg[0]) * gradient_b\n",
    "\n",
    "            # Accumulate Updates\n",
    "            Ed[1:] = decay * Ed[1:] + (1-decay) * delta_w**2\n",
    "            Ed[0]  = decay * Ed[0]  + (1-decay) * delta_b**2\n",
    "\n",
    "            w[1:] = w[1:] + delta_w\n",
    "            w[0] = w[0] + delta_b\n",
    "\n",
    "            i += 1\n",
    "            if i >= N:\n",
    "                i = 0\n",
    "           \n",
    "    return w\n",
    "\n",
    "\n",
    "for i in range(45):\n",
    "    w = adadelta_nn(w, train_x, train_y)\n",
    "\n",
    "    # Accuracy Test\n",
    "    yhats = predict(w, test_x)\n",
    "    yhats = np.where(yhats >= 0.5, 1, 0)\n",
    "    accuracy = round(accuracy_score(test_y, yhats), 2)\n",
    "    print(f'[{i:2}] Accuracy: {accuracy:<4.2}')"
   ]
  }
 ],
 "metadata": {
  "kernelspec": {
   "display_name": "Python 3",
   "language": "python",
   "name": "python3"
  },
  "language_info": {
   "codemirror_mode": {
    "name": "ipython",
    "version": 3
   },
   "file_extension": ".py",
   "mimetype": "text/x-python",
   "name": "python",
   "nbconvert_exporter": "python",
   "pygments_lexer": "ipython3",
   "version": "3.6.1"
  }
 },
 "nbformat": 4,
 "nbformat_minor": 2
}
