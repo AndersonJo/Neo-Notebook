{
 "cells": [
  {
   "cell_type": "markdown",
   "metadata": {},
   "source": [
    "# RMSProp\n",
    "\n",
    "* Deep Learning 299page - Ian Goodfellow, Yoshua Bengio, and Aaron Courville 참고\n",
    "\n",
    "RMSProp 알고리즘은 AdaGrad의 gradient accumulation을 exponentially weighted moving average로 변경하여, non-convex 환경에서 더 좋은 performance를 보이도록 수정을 한 알고리즘입니다. (AdaGrad의 경우 convex function에서 빠르게 converge되도록 설계 되어 있습니다.) AdaGrad를 non-convex function에 적용한 경우, learning trajectory는 여러 구조(structure)를 거치다가 궁극적으로 locally convex bowl (local minimum)에 갖히게 되는 현상을 겪을수 있습니다. 이유인즉 AdaGrad의 경우 learning rate가 점차 줄어드는 현상때문입니다. 이때문에 막판에 작은 local minimum에 도달하지만, learning rate가 너무 작아 극복하지 못하고 갖혀버리게 됩니다. \n",
    "\n",
    "RMSProp의 경우 exponentially decaying average를 사용하여 local minimum에 걸려드는 단점을 극복합니다.(따라서 AdaGrad보다 non-convex에 강함) "
   ]
  },
  {
   "cell_type": "markdown",
   "metadata": {},
   "source": [
    "### 개인적인 실험 결과 \n",
    "\n",
    "AdaDelta의 경우 엄청나게 많은 학습시간이 걸림.. <br>\n",
    "반면에 RMSProp의 경우 매우 빠르게 학습됨. computation에서도 더 좋고, 더 빠르고, 그냥 다 좋음"
   ]
  },
  {
   "cell_type": "markdown",
   "metadata": {},
   "source": [
    "### Algorithm\n",
    "\n",
    "실제 알고리즘은.. AdaDelta와 동일하지만, Update를 계산할때.. 분모부분만 다릅니다. \n",
    "\n",
    "**Require:** global learning rate $ \\eta $, decay rate $ \\gamma $, Epsilon $ \\epsilon $ (보통 $ 10^{-8}) $\n",
    "\n",
    "#### Pseudo Code\n",
    "\n",
    "1. Initialize accumulation variables $ E[g^2] = 0 $ \n",
    "  1. Compute Gradient $ g_t $\n",
    "  2. Accumulate squared gradient: $$ E[g^2]_t = \\gamma E[g^2]_{t-1} + (1-\\gamma) \\odot g^2_t $$\n",
    "  3. Compute Update: $$ \\Delta \\theta_t = - \\frac{\\eta}{\\sqrt{\\epsilon + E[g^2]_t}} \\odot g^2_t $$\n",
    "  4. Apply Update: $$ \\theta_{t + 1} = \\theta_t + \\Delta \\theta_t $$"
   ]
  },
  {
   "cell_type": "markdown",
   "metadata": {},
   "source": [
    "# Implementation \n",
    "\n",
    "### Import"
   ]
  },
  {
   "cell_type": "code",
   "execution_count": 1,
   "metadata": {},
   "outputs": [
    {
     "name": "stdout",
     "output_type": "stream",
     "text": [
      "Populating the interactive namespace from numpy and matplotlib\n"
     ]
    }
   ],
   "source": [
    "%pylab inline\n",
    "import numpy as np\n",
    "import pandas as pd\n",
    "\n",
    "from sklearn.model_selection import  train_test_split\n",
    "from sklearn.preprocessing import StandardScaler\n",
    "from sklearn.metrics import accuracy_score\n",
    "from sklearn.datasets import load_iris"
   ]
  },
  {
   "cell_type": "markdown",
   "metadata": {},
   "source": [
    "### Data"
   ]
  },
  {
   "cell_type": "code",
   "execution_count": 2,
   "metadata": {},
   "outputs": [
    {
     "data": {
      "text/plain": [
       "<matplotlib.legend.Legend at 0x7fd2835d6cc0>"
      ]
     },
     "execution_count": 2,
     "metadata": {},
     "output_type": "execute_result"
    },
    {
     "data": {
      "image/png": "[encoded data removed]",
      "text/plain": [
       "<matplotlib.figure.Figure at 0x7fd2858c55f8>"
      ]
     },
     "metadata": {},
     "output_type": "display_data"
    }
   ],
   "source": [
    "iris = load_iris()\n",
    "\n",
    "# setosa_x = iris.data[:50]\n",
    "# setosa_y = iris.target[:50]\n",
    "# versicolor_x = iris.data[50:100]\n",
    "# versicolor_y = iris.target[50:100]\n",
    "# scatter(setosa_x[:, 0], setosa_x[:, 2])\n",
    "# scatter(versicolor_x[:, 0], versicolor_x[:, 2])\n",
    "\n",
    "# Extract sepal length, petal length from Setosa and Versicolor\n",
    "data = iris.data[:100, [0, 2]]\n",
    "\n",
    "# Standardization\n",
    "scaler = StandardScaler()\n",
    "data = scaler.fit_transform(data)\n",
    "\n",
    "\n",
    "# Split data to test and train data\n",
    "train_x, test_x, train_y, test_y = train_test_split(data, iris.target[:100], test_size=0.3)\n",
    "\n",
    "# Plotting data\n",
    "scatter(data[:50, 0], data[:50, 1], label='Setosa')\n",
    "scatter(data[50:100, 0], data[50:100, 1], label='Versicolour')\n",
    "title('Iris Data')\n",
    "xlabel('sepal length')\n",
    "ylabel('petal length')\n",
    "grid()\n",
    "legend()"
   ]
  },
  {
   "cell_type": "code",
   "execution_count": 22,
   "metadata": {},
   "outputs": [
    {
     "name": "stdout",
     "output_type": "stream",
     "text": [
      "[ 0] Accuracy: 0.0 , weights: [ 0.09373244 -0.18564254 -0.77241726]\n",
      "[ 1] Accuracy: 0.0 , weights: [ 0.09376026 -0.12642994 -0.70269564]\n",
      "[ 2] Accuracy: 0.0 , weights: [ 0.09379347 -0.06715787 -0.63294029]\n",
      "[ 3] Accuracy: 0.03, weights: [ 0.09383384 -0.00781901 -0.56315534]\n",
      "[ 4] Accuracy: 0.07, weights: [ 0.0938846   0.0515939  -0.49334711]\n",
      "[ 5] Accuracy: 0.4 , weights: [ 0.09395245  0.11108593 -0.42352611]\n",
      "[ 6] Accuracy: 0.47, weights: [ 0.09405463  0.17065225 -0.3537144 ]\n",
      "[ 7] Accuracy: 0.47, weights: [ 0.09426706  0.23023965 -0.28399464]\n",
      "[ 8] Accuracy: 0.47, weights: [ 0.10417084  0.28000859 -0.22388516]\n",
      "[ 9] Accuracy: 0.57, weights: [ 0.12370124  0.32053126 -0.17345896]\n",
      "[10] Accuracy: 0.6 , weights: [ 0.1499493   0.3529442  -0.13009399]\n",
      "[11] Accuracy: 0.7 , weights: [ 0.18192108  0.38015574 -0.09233826]\n",
      "[12] Accuracy: 0.73, weights: [ 0.21830744  0.40297524 -0.05901621]\n",
      "[13] Accuracy: 0.7 , weights: [ 0.25135654  0.42085854 -0.03066104]\n",
      "[14] Accuracy: 0.7 , weights: [ 0.27701156  0.43066829 -0.01027914]\n",
      "[15] Accuracy: 0.77, weights: [ 0.30249228  0.44049103  0.01000913]\n",
      "[16] Accuracy: 0.8 , weights: [ 0.32727036  0.44980371  0.02973589]\n",
      "[17] Accuracy: 0.8 , weights: [ 0.34852921  0.45581187  0.04604169]\n",
      "[18] Accuracy: 0.87, weights: [ 0.3658933   0.45802929  0.05870902]\n",
      "[19] Accuracy: 0.87, weights: [ 0.38296198  0.46046065  0.07153881]\n",
      "[20] Accuracy: 0.87, weights: [ 0.39977605  0.46309402  0.08462715]\n",
      "[21] Accuracy: 0.83, weights: [ 0.41616833  0.46574243  0.09787598]\n",
      "[22] Accuracy: 0.87, weights: [ 0.42670119  0.46329647  0.10614065]\n",
      "[23] Accuracy: 0.87, weights: [ 0.4360592   0.46092644  0.1146486 ]\n",
      "[24] Accuracy: 0.87, weights: [ 0.4442671   0.45868766  0.12322193]\n",
      "[25] Accuracy: 0.87, weights: [ 0.44958734  0.45519653  0.13009862]\n",
      "[26] Accuracy: 0.87, weights: [ 0.4540206   0.45164472  0.13692887]\n",
      "[27] Accuracy: 0.87, weights: [ 0.45792014  0.44789215  0.14365471]\n",
      "[28] Accuracy: 0.9 , weights: [ 0.46115661  0.44362668  0.1500567 ]\n",
      "[29] Accuracy: 0.9 , weights: [ 0.4625435   0.4380205   0.15489395]\n",
      "[30] Accuracy: 0.9 , weights: [ 0.46304674  0.43213349  0.15936704]\n",
      "[31] Accuracy: 0.93, weights: [ 0.46321697  0.42626341  0.16387383]\n",
      "[32] Accuracy: 0.93, weights: [ 0.46323242  0.42040559  0.16841354]\n",
      "[33] Accuracy: 0.93, weights: [ 0.46317975  0.41455018  0.17297769]\n",
      "[34] Accuracy: 0.93, weights: [ 0.463106   0.4086934  0.1775657]\n",
      "[35] Accuracy: 0.93, weights: [ 0.4630403   0.40283384  0.18218147]\n",
      "[36] Accuracy: 0.93, weights: [ 0.46300291  0.39696922  0.18683068]\n",
      "[37] Accuracy: 0.93, weights: [ 0.46300695  0.39109377  0.19151904]\n",
      "[38] Accuracy: 0.93, weights: [ 0.46305394  0.38519426  0.19624998]\n",
      "[39] Accuracy: 0.93, weights: [ 0.463122    0.37924298  0.20101847]\n",
      "[40] Accuracy: 0.93, weights: [ 0.46313917  0.37319108  0.20578633]\n",
      "[41] Accuracy: 0.93, weights: [ 0.46294691  0.36700271  0.21040485]\n",
      "[42] Accuracy: 0.93, weights: [ 0.46245363  0.36075809  0.21473199]\n",
      "[43] Accuracy: 0.93, weights: [ 0.46182946  0.35457435  0.21897143]\n",
      "[44] Accuracy: 0.93, weights: [ 0.46119764  0.34846444  0.22323931]\n",
      "[45] Accuracy: 0.93, weights: [ 0.46062467  0.34240961  0.22757687]\n",
      "[46] Accuracy: 0.93, weights: [ 0.4601399   0.33638964  0.23199633]\n",
      "[47] Accuracy: 0.93, weights: [ 0.45973983  0.33038473  0.23648645]\n",
      "[48] Accuracy: 0.93, weights: [ 0.45940359  0.32437943  0.24102579]\n",
      "[49] Accuracy: 0.93, weights: [ 0.45910903  0.31836525  0.24559575]\n",
      "[50] Accuracy: 0.93, weights: [ 0.4588397   0.3123392   0.25018466]\n",
      "[51] Accuracy: 0.93, weights: [ 0.45858513  0.30630104  0.25478629]\n",
      "[52] Accuracy: 0.93, weights: [ 0.45833904  0.30025144  0.25939751]\n",
      "[53] Accuracy: 0.93, weights: [ 0.45809777  0.29419109  0.26401683]\n",
      "[54] Accuracy: 0.93, weights: [ 0.45785921  0.28812038  0.26864355]\n",
      "[55] Accuracy: 0.93, weights: [ 0.45762223  0.28203936  0.2732774 ]\n",
      "[56] Accuracy: 0.93, weights: [ 0.45738631  0.27594768  0.27791835]\n",
      "[57] Accuracy: 0.93, weights: [ 0.45715138  0.26984454  0.28256655]\n",
      "[58] Accuracy: 0.93, weights: [ 0.45691782  0.26372868  0.28722221]\n",
      "[59] Accuracy: 0.93, weights: [ 0.45668647  0.25759819  0.29188563]\n",
      "[60] Accuracy: 0.93, weights: [ 0.4564588   0.25145039  0.29655706]\n",
      "[61] Accuracy: 0.93, weights: [ 0.45623721  0.24528156  0.30123665]\n",
      "[62] Accuracy: 0.93, weights: [ 0.45602557  0.23908661  0.3059241 ]\n",
      "[63] Accuracy: 0.93, weights: [ 0.45583012  0.23285895  0.31061808]\n",
      "[64] Accuracy: 0.93, weights: [ 0.455661    0.22659091  0.31531477]\n",
      "[65] Accuracy: 0.93, weights: [ 0.45553401  0.22027604  0.32000532]\n",
      "[66] Accuracy: 0.93, weights: [ 0.45547051  0.21391505  0.32467288]\n",
      "[67] Accuracy: 0.93, weights: [ 0.45548792  0.20752511  0.32929536]\n",
      "[68] Accuracy: 0.93, weights: [ 0.4555757   0.20114323  0.33386303]\n",
      "[69] Accuracy: 0.93, weights: [ 0.45568473  0.19481154  0.33839294]\n",
      "[70] Accuracy: 0.93, weights: [ 0.45576281  0.18855227  0.34291019]\n",
      "[71] Accuracy: 0.93, weights: [ 0.45579247  0.18235437  0.34742595]\n",
      "[72] Accuracy: 0.93, weights: [ 0.45578389  0.1761856   0.35194423]\n",
      "[73] Accuracy: 0.93, weights: [ 0.45574855  0.17001767  0.35647378]\n",
      "[74] Accuracy: 0.93, weights: [ 0.45569266  0.1638348   0.361024  ]\n",
      "[75] Accuracy: 0.93, weights: [ 0.45562023  0.15762889  0.36560062]\n",
      "[76] Accuracy: 0.93, weights: [ 0.45553477  0.15139459  0.37020631]\n",
      "[77] Accuracy: 0.93, weights: [ 0.45543987  0.14512643  0.37484251]\n",
      "[78] Accuracy: 0.93, weights: [ 0.45533941  0.1388172   0.37951086]\n",
      "[79] Accuracy: 0.93, weights: [ 0.45523781  0.13245683  0.38421426]\n",
      "[80] Accuracy: 0.93, weights: [ 0.45514024  0.12603145  0.38895763]\n",
      "[81] Accuracy: 0.93, weights: [ 0.4550526   0.11952291  0.3937487 ]\n",
      "[82] Accuracy: 0.93, weights: [ 0.45497937  0.112911    0.39859955]\n",
      "[83] Accuracy: 0.93, weights: [ 0.45490593  0.10619134  0.40353361]\n",
      "[84] Accuracy: 0.97, weights: [ 0.45470215  0.09948824  0.40860457]\n",
      "[85] Accuracy: 0.97, weights: [ 0.45449654  0.09303419  0.41353385]\n",
      "[86] Accuracy: 1.0 , weights: [ 0.45550229  0.08658731  0.41730276]\n",
      "[87] Accuracy: 1.0 , weights: [ 0.45661468  0.08038066  0.420987  ]\n",
      "[88] Accuracy: 1.0 , weights: [ 0.4578934   0.0745005   0.42497757]\n",
      "[89] Accuracy: 1.0 , weights: [ 0.45973439  0.06944091  0.42950961]\n"
     ]
    }
   ],
   "source": [
    "w =   np.array([ 0.09370901, -0.24480254, -0.84210235]) # np.random.randn(2 + 1)\n",
    "\n",
    "def predict(w, x):\n",
    "    N = len(x)\n",
    "    yhat = w[1:].dot(x.T) + w[0]\n",
    "    return yhat\n",
    "\n",
    "def rmsprop_nn(w, X, Y, eta=0.001, decay=0.001, epoch=4, weight_size=2):\n",
    "    \"\"\"\n",
    "    @param eta <float>: learning rate\n",
    "    \"\"\"\n",
    "    N = len(X)\n",
    "    e = 1e-8\n",
    "    \n",
    "    Eg = np.zeros(weight_size + 1)  # E[g^2]\n",
    "        \n",
    "    for i in range(N):\n",
    "        x = X[i]\n",
    "        y = Y[i]\n",
    "        x = x.reshape((-1, 2))\n",
    "        yhat = predict(w, x)\n",
    "\n",
    "        # Calculate the gradients\n",
    "        gradient_w = 2/N*-(y-yhat).dot(x)\n",
    "        gradient_b = 2/N*-(y-yhat)\n",
    "\n",
    "        # Accumulate Gradient\n",
    "        Eg[1:] = decay * Eg[1:] + (1-decay) * gradient_w**2\n",
    "        Eg[0]  = decay * Eg[0] + (1-decay) * gradient_b**2\n",
    "\n",
    "        # Compute Update\n",
    "        delta_w = - eta/np.sqrt(e + Eg[1:]) * gradient_w\n",
    "        delta_b = - eta/np.sqrt(e + Eg[0]) * gradient_b\n",
    "\n",
    "        w[1:] = w[1:] + delta_w\n",
    "        w[0] = w[0] + delta_b\n",
    "\n",
    "    return w\n",
    "\n",
    "\n",
    "for i in range(90):\n",
    "    w = rmsprop_nn(w, train_x, train_y)\n",
    "\n",
    "    # Accuracy Test\n",
    "    yhats = predict(w, test_x)\n",
    "    yhats = np.where(yhats >= 0.5, 1, 0)\n",
    "    accuracy = round(accuracy_score(test_y, yhats), 2)\n",
    "    print(f'[{i:2}] Accuracy: {accuracy:<4.2}, weights: {w}')"
   ]
  }
 ],
 "metadata": {
  "kernelspec": {
   "display_name": "Python 3",
   "language": "python",
   "name": "python3"
  },
  "language_info": {
   "codemirror_mode": {
    "name": "ipython",
    "version": 3
   },
   "file_extension": ".py",
   "mimetype": "text/x-python",
   "name": "python",
   "nbconvert_exporter": "python",
   "pygments_lexer": "ipython3",
   "version": "3.6.1"
  }
 },
 "nbformat": 4,
 "nbformat_minor": 2
}
