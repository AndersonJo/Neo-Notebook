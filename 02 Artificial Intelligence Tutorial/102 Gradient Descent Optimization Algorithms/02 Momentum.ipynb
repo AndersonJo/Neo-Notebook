{
 "cells": [
  {
   "cell_type": "code",
   "execution_count": 1,
   "metadata": {},
   "outputs": [
    {
     "name": "stdout",
     "output_type": "stream",
     "text": [
      "Populating the interactive namespace from numpy and matplotlib\n"
     ]
    }
   ],
   "source": [
    "%pylab inline\n",
    "import numpy as np\n",
    "from sklearn.preprocessing import StandardScaler"
   ]
  },
  {
   "cell_type": "markdown",
   "metadata": {},
   "source": [
    "### Potential Energy\n",
    "\n",
    "* [Potential Energy Lecture](http://people.umass.edu/kastor/energy/pdflectures/Lecture-3.pdf)\n",
    "\n",
    "먼저 Momentum을 이해하기 위해서는 물리학에서 사용되는 Potential Energy라는 개념을 알고 있어야 합니다.<br>\n",
    "산꼭대기의 돌맹이 자체에는 kinetic energy가 없지만, 밀어서 절벽으로 떨어뜨리면 kinetic energy가 생기게 됩니다. <br>\n",
    "이 경우에 돌맹이에 potential energy가 있다고 말할수 있습니다.\n",
    "\n",
    "$$ PE = mgh $$\n",
    "\n",
    "* **m:** 돌맹이의 mass\n",
    "* **h:** 지표면에서 얼마나 높이 떨어져있는지.. height\n",
    "* **g:** Gravitational constant 지구의 중력..\n",
    "\n",
    "여기서 g를 조금더 설명한다면.. 떨어지는 물체는 $ g = \\frac{9.8m}{s^2} $ 같은 가속도가 붙습니다. <br>\n",
    "가속도는 시간에 따른 속도(velocity)의 변화량 (rate of change) 입니다.<br>\n",
    "즉.. velocity를 시간으로 나눠준것입니다.\n",
    "\n",
    "* 속도(velocity)는 acceleration * time 입니다. $ v = a \\cdot t $ \n",
    "* 가속도(acceleration)은 velocity/time 입니다. $ a = \\frac{v}{t} $\n",
    "\n",
    "**뉴턴의 제2법칙**\n",
    "\n",
    "$$ F =m \\cdot a $$\n",
    "\n",
    "* **F:** 힘(force)\n",
    "* **m:** Mass\n",
    "* **a:*** Acceleration\n",
    "\n",
    "여기에서 gravitational force로 보면.. \n",
    "\n",
    "$$ F = m \\cdot g $$"
   ]
  },
  {
   "cell_type": "markdown",
   "metadata": {},
   "source": [
    "# Momentum\n",
    "\n",
    "* [CS231n Convolutional Neural Networks for Visual Recognition](http://cs231n.github.io/neural-networks-3/)\n",
    "\n",
    "## Data"
   ]
  },
  {
   "cell_type": "code",
   "execution_count": 2,
   "metadata": {},
   "outputs": [
    {
     "data": {
      "image/png": "[encoded data removed]",
      "text/plain": [
       "<matplotlib.figure.Figure at 0x7fe5d80fd898>"
      ]
     },
     "metadata": {},
     "output_type": "display_data"
    }
   ],
   "source": [
    "data = np.loadtxt('../../data/linear-regression/ex1data1.txt', delimiter=',')\n",
    "X = data[:, 0].reshape(data[:, 0].shape[0], 1) # Population\n",
    "Y = data[:, 1].reshape(data[:, 1].shape[0], 1) # profit\n",
    "\n",
    "# Standardization\n",
    "scaler_x = StandardScaler()\n",
    "scaler_y = StandardScaler()\n",
    "X = scaler_x.fit_transform(X)\n",
    "Y = scaler_y.fit_transform(Y)\n",
    "\n",
    "scatter(X, Y)\n",
    "title('Profits distribution')\n",
    "xlabel('Population of City in 10,000s')\n",
    "ylabel('Profit in $10,000s')\n",
    "grid()"
   ]
  },
  {
   "cell_type": "markdown",
   "metadata": {},
   "source": [
    "### Momentum Update\n",
    "\n",
    "물리학적인 관점에서 optimization problem을 바라봤을때, convergence rate를 향상시킬수 있는 방법이 있습니다. <br>\n",
    "Loss를 산등성이에서 height로 바라봤을때 물리학적으로 potential energy를 갖을수 있게 됩니다.) (TODO:추가 연구 필요) \n",
    "\n",
    "negative gradient는 양옆 가파른 산골짜기의 한쪽을 타고 조금씩 내려오는 형태와 유사하기 때문에 SGD는 convergence까지 매우 느립니다. (특히 초기 steep gain이후에 계속해서 더 느려짐) \n",
    "\n",
    "\n",
    "\n",
    "$$ \\begin{align}\n",
    "v &= \\gamma v_{t-1} + \\eta \\nabla_{\\theta} J(\\theta; x^{(i)},y^{(i)}) \\\\\n",
    "\\theta &= \\theta - v\n",
    "\\end{align} $$\n",
    "\n",
    "위의 SGD예제처럼 gradient값이 집접적으로 weights에 영향을 주는것이 아니라, gradient값은 오직 velocity에 영향을 주게 됩니다. <br>\n",
    "그 뒤 velocity는 weights값에 영향을 미치게 됩니다.\n",
    "\n",
    "**코드에서 구현은 안되어 있지만 일반적으로 momentum은 0.5에서 시작해서 끝날때쯤에는 0.99까지 가게 만드는게 일반적입니다**"
   ]
  },
  {
   "cell_type": "code",
   "execution_count": 5,
   "metadata": {},
   "outputs": [
    {
     "data": {
      "image/png": "[encoded data removed]",
      "text/plain": [
       "<matplotlib.figure.Figure at 0x7fe5d59aa898>"
      ]
     },
     "metadata": {},
     "output_type": "display_data"
    }
   ],
   "source": [
    "w = np.array([-0.1941133,  -2.07505268])\n",
    "\n",
    "def predict(w, X):\n",
    "    N = len(X)\n",
    "    yhat = w[1:].dot(X.T) + w[0]\n",
    "    yhat = yhat.reshape(X.shape)\n",
    "    return yhat\n",
    "\n",
    "def momentum_nn(X, Y, w, eta=0.1, gamma=0.5):\n",
    "    N = len(X)\n",
    "    v = np.zeros(w.shape[1:])\n",
    "    v_b = np.zeros(1)\n",
    "    \n",
    "    for i in range(N):\n",
    "        x = X[i]\n",
    "        y = Y[i]\n",
    "        yhat = predict(w, x)\n",
    "        delta = y - yhat\n",
    "\n",
    "        v = gamma*v + 2/N * eta * np.sum(-delta.dot(x))\n",
    "        v_b = gamma*v_b + 2/N * eta * np.sum(-delta)\n",
    "        \n",
    "        w[1:] = w[1:] - v\n",
    "        w[0] = w[0] - v_b\n",
    "    return w\n",
    "    \n",
    "\n",
    "for i in range(1, 10):\n",
    "    w = momentum_nn(X, Y, w)\n",
    "    yhat = predict(w, X)\n",
    "    \n",
    "    axes = subplot(3, 3, i)\n",
    "    axes.get_xaxis().set_visible(False)\n",
    "    axes.get_yaxis().set_visible(False)\n",
    "    \n",
    "    scatter(X, Y)\n",
    "    plot(X, yhat, color='red')"
   ]
  }
 ],
 "metadata": {
  "kernelspec": {
   "display_name": "Python 3",
   "language": "python",
   "name": "python3"
  },
  "language_info": {
   "codemirror_mode": {
    "name": "ipython",
    "version": 3
   },
   "file_extension": ".py",
   "mimetype": "text/x-python",
   "name": "python",
   "nbconvert_exporter": "python",
   "pygments_lexer": "ipython3",
   "version": "3.6.1"
  }
 },
 "nbformat": 4,
 "nbformat_minor": 2
}
