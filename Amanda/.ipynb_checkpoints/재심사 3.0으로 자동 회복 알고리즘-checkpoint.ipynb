{
 "cells": [
  {
   "cell_type": "code",
   "execution_count": 240,
   "metadata": {
    "collapsed": false
   },
   "outputs": [
    {
     "name": "stdout",
     "output_type": "stream",
     "text": [
      "Populating the interactive namespace from numpy and matplotlib\n"
     ]
    },
    {
     "name": "stderr",
     "output_type": "stream",
     "text": [
      "WARNING: pylab import has clobbered these variables: ['rate', 'random']\n",
      "`%matplotlib` prevents importing * from pylab and numpy\n"
     ]
    }
   ],
   "source": [
    "#-*- coding:utf-8 -*-\n",
    "%pylab inline\n",
    "matplotlib.rc('font', family='NanumGothic')\n",
    "\n",
    "import pandas as pd\n",
    "import random\n",
    "\n",
    "from pprint import pprint"
   ]
  },
  {
   "cell_type": "code",
   "execution_count": 482,
   "metadata": {
    "collapsed": false
   },
   "outputs": [],
   "source": [
    "rand_rate = lambda :random.choice([1, 1, 1,1, 2, 2, 2,2, 3,3,3, 4,4,4, 5])"
   ]
  },
  {
   "cell_type": "code",
   "execution_count": 501,
   "metadata": {
    "collapsed": false
   },
   "outputs": [
    {
     "name": "stdout",
     "output_type": "stream",
     "text": [
      "2.6\n",
      "3.035\n"
     ]
    },
    {
     "data": {
      "image/png": "[encoded data removed]",
      "text/plain": [
       "<matplotlib.figure.Figure at 0x7fce3c3955d0>"
      ]
     },
     "metadata": {},
     "output_type": "display_data"
    },
    {
     "data": {
      "image/png": "[encoded data removed]",
      "text/plain": [
       "<matplotlib.figure.Figure at 0x7fce3df93750>"
      ]
     },
     "metadata": {},
     "output_type": "display_data"
    }
   ],
   "source": [
    "data = np.array([rand_rate() for i in range(100)])\n",
    "data2 = np.array([])\n",
    "print data.mean()\n",
    "for i in range(300):\n",
    "    if data.mean() < 3.1:\n",
    "        y = min([round(15 * (3.1 - data.mean()) * rand_rate()), 5])\n",
    "        y = 1 if y < 1 else y\n",
    "        data2 = np.append(data2, y)\n",
    "    else:\n",
    "        y = rand_rate()\n",
    "    data = np.append(data, y)\n",
    "\n",
    "# print data\n",
    "# print 'data2:', data2\n",
    "print data.mean() \n",
    "\n",
    "plt.figure(1)\n",
    "plt.plot(data.cumsum())\n",
    "plt.xlabel('users')\n",
    "plt.ylabel('cumulative sums')\n",
    "plt.show()\n",
    "\n",
    "\n",
    "plt.figure(2)\n",
    "plt.hist(data, bins=np.arange(0, 6) + 0.5, rwidth=0.5, color='grey')\n",
    "plt.xlabel('Scores (Rate)')\n",
    "plt.ylabel('Rate Count')\n",
    "plt.xticks([0,1,2,3,4,5,6])\n",
    "plt.show()"
   ]
  }
 ],
 "metadata": {
  "kernelspec": {
   "display_name": "Python 2",
   "language": "python",
   "name": "python2"
  },
  "language_info": {
   "codemirror_mode": {
    "name": "ipython",
    "version": 2
   },
   "file_extension": ".py",
   "mimetype": "text/x-python",
   "name": "python",
   "nbconvert_exporter": "python",
   "pygments_lexer": "ipython2",
   "version": "2.7.10"
  }
 },
 "nbformat": 4,
 "nbformat_minor": 0
}
