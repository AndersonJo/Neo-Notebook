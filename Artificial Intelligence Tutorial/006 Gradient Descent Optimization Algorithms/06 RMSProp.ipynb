{
 "cells": [
  {
   "cell_type": "markdown",
   "metadata": {
    "deletable": true,
    "editable": true
   },
   "source": [
    "# RMSProp\n",
    "\n",
    "* Deep Learning 299page - Ian Goodfellow, Yoshua Bengio, and Aaron Courville 참고\n",
    "\n",
    "RMSProp 알고리즘은 AdaGrad의 gradient accumulation을 exponentially weighted moving average로 변경하여, non-convex 환경에서 더 좋은 performance를 보이도록 수정을 한 알고리즘입니다. (AdaGrad의 경우 convex function에서 빠르게 converge되도록 설계 되어 있습니다.) AdaGrad를 non-convex function에 적용한 경우, learning trajectory는 여러 구조(structure)를 거치다가 궁극적으로 locally convex bowl (local minimum)에 갖히게 되는 현상을 겪을수 있습니다. 이유인즉 AdaGrad의 경우 learning rate가 점차 줄어드는 현상때문입니다. 이때문에 막판에 작은 local minimum에 도달하지만, learning rate가 너무 작아 극복하지 못하고 갖혀버리게 됩니다. \n",
    "\n",
    "RMSProp의 경우 exponentially decaying average를 사용하여 local minimum에 걸려드는 단점을 극복합니다.(따라서 AdaGrad보다 non-convex에 강함) "
   ]
  },
  {
   "cell_type": "markdown",
   "metadata": {
    "deletable": true,
    "editable": true
   },
   "source": [
    "### 개인적인 실험 결과 \n",
    "\n",
    "AdaDelta의 경우 엄청나게 많은 학습시간이 걸림.. <br>\n",
    "반면에 RMSProp의 경우 매우 빠르게 학습됨. computation에서도 더 좋고, 더 빠르고, 그냥 다 좋음"
   ]
  },
  {
   "cell_type": "markdown",
   "metadata": {
    "deletable": true,
    "editable": true
   },
   "source": [
    "### Algorithm\n",
    "\n",
    "실제 알고리즘은.. AdaDelta와 동일하지만, Update를 계산할때.. 분모부분만 다릅니다. \n",
    "\n",
    "**Require:** global learning rate $ \\eta $, decay rate $ \\gamma $, Epsilon $ \\epsilon $ (보통 $ 10^{-8}) $\n",
    "\n",
    "#### Pseudo Code\n",
    "\n",
    "1. Initialize accumulation variables $ E[g^2] = 0 $ \n",
    "  1. Compute Gradient $ g_t $\n",
    "  2. Accumulate squared gradient: $$ E[g^2]_t = \\gamma E[g^2]_{t-1} + (1-\\gamma) \\odot g^2_t $$\n",
    "  3. Compute Update: $$ \\Delta \\theta_t = - \\frac{\\eta}{\\sqrt{\\epsilon + E[g^2]_t}} \\odot g^2_t $$\n",
    "  4. Apply Update: $$ \\theta_{t + 1} = \\theta_t + \\Delta \\theta_t $$"
   ]
  },
  {
   "cell_type": "markdown",
   "metadata": {
    "deletable": true,
    "editable": true
   },
   "source": [
    "# Implementation \n",
    "\n",
    "### Import"
   ]
  },
  {
   "cell_type": "code",
   "execution_count": 1,
   "metadata": {
    "collapsed": false,
    "deletable": true,
    "editable": true
   },
   "outputs": [
    {
     "name": "stdout",
     "output_type": "stream",
     "text": [
      "Populating the interactive namespace from numpy and matplotlib\n"
     ]
    }
   ],
   "source": [
    "%pylab inline\n",
    "import numpy as np\n",
    "import pandas as pd\n",
    "\n",
    "from sklearn.model_selection import  train_test_split\n",
    "from sklearn.preprocessing import StandardScaler\n",
    "from sklearn.metrics import accuracy_score\n",
    "from sklearn.datasets import load_iris"
   ]
  },
  {
   "cell_type": "markdown",
   "metadata": {
    "deletable": true,
    "editable": true
   },
   "source": [
    "### Data"
   ]
  },
  {
   "cell_type": "code",
   "execution_count": 2,
   "metadata": {
    "collapsed": false,
    "deletable": true,
    "editable": true
   },
   "outputs": [
    {
     "data": {
      "text/plain": [
       "<matplotlib.legend.Legend at 0x7f8365713828>"
      ]
     },
     "execution_count": 2,
     "metadata": {},
     "output_type": "execute_result"
    },
    {
     "data": {
      "image/png": "[encoded data removed]",
      "text/plain": [
       "<matplotlib.figure.Figure at 0x7f836798e748>"
      ]
     },
     "metadata": {},
     "output_type": "display_data"
    }
   ],
   "source": [
    "iris = load_iris()\n",
    "\n",
    "# setosa_x = iris.data[:50]\n",
    "# setosa_y = iris.target[:50]\n",
    "# versicolor_x = iris.data[50:100]\n",
    "# versicolor_y = iris.target[50:100]\n",
    "# scatter(setosa_x[:, 0], setosa_x[:, 2])\n",
    "# scatter(versicolor_x[:, 0], versicolor_x[:, 2])\n",
    "\n",
    "# Extract sepal length, petal length from Setosa and Versicolor\n",
    "data = iris.data[:100, [0, 2]]\n",
    "\n",
    "# Standardization\n",
    "scaler = StandardScaler()\n",
    "data = scaler.fit_transform(data)\n",
    "\n",
    "\n",
    "# Split data to test and train data\n",
    "train_x, test_x, train_y, test_y = train_test_split(data, iris.target[:100], test_size=0.3)\n",
    "\n",
    "# Plotting data\n",
    "scatter(data[:50, 0], data[:50, 1], label='Setosa')\n",
    "scatter(data[50:100, 0], data[50:100, 1], label='Versicolour')\n",
    "title('Iris Data')\n",
    "xlabel('sepal length')\n",
    "ylabel('petal length')\n",
    "grid()\n",
    "legend()"
   ]
  },
  {
   "cell_type": "code",
   "execution_count": 11,
   "metadata": {
    "collapsed": false,
    "deletable": true,
    "editable": true
   },
   "outputs": [
    {
     "name": "stdout",
     "output_type": "stream",
     "text": [
      "Accuracy: 0.0 \t\tweights: [ 0.09373037 -0.19256463 -0.77248907]\n",
      "Accuracy: 0.0 \t\tweights: [ 0.09375583 -0.14028005 -0.702832  ]\n",
      "Accuracy: 0.0 \t\tweights: [ 0.09378614 -0.08794352 -0.63313318]\n",
      "Accuracy: 0.0 \t\tweights: [ 0.09382267 -0.03555047 -0.56339575]\n",
      "Accuracy: 0.03 \t\tweights: [ 0.09386812  0.01690182 -0.49362468]\n",
      "Accuracy: 0.43 \t\tweights: [ 0.09392832  0.06941167 -0.42382857]\n",
      "Accuracy: 0.5 \t\tweights: [ 0.09401916  0.12196726 -0.35402611]\n",
      "Accuracy: 0.5 \t\tweights: [ 0.09421248  0.17452538 -0.28428867]\n",
      "Accuracy: 0.5 \t\tweights: [ 0.10010901  0.2223527  -0.22011403]\n",
      "Accuracy: 0.5 \t\tweights: [ 0.11625758  0.25847869 -0.16639451]\n",
      "Accuracy: 0.6 \t\tweights: [ 0.14034553  0.28748575 -0.12076417]\n",
      "Accuracy: 0.63 \t\tweights: [ 0.16990826  0.31046204 -0.0802613 ]\n",
      "Accuracy: 0.67 \t\tweights: [ 0.20182361  0.33119212 -0.04221842]\n",
      "Accuracy: 0.87 \t\tweights: [ 0.23696428  0.34523249 -0.01095043]\n",
      "Accuracy: 0.87 \t\tweights: [ 0.27471768  0.3571979   0.01722112]\n",
      "Accuracy: 0.87 \t\tweights: [ 0.30589321  0.36420844  0.0403669 ]\n",
      "Accuracy: 0.9 \t\tweights: [ 0.33359911  0.37074855  0.06268527]\n",
      "Accuracy: 0.9 \t\tweights: [ 0.36098371  0.37744753  0.08517764]\n",
      "Accuracy: 0.97 \t\tweights: [ 0.38396846  0.38059545  0.10425021]\n",
      "Accuracy: 0.97 \t\tweights: [ 0.4043472   0.38215073  0.12168594]\n",
      "Accuracy: 0.97 \t\tweights: [ 0.42217657  0.38231107  0.13772479]\n",
      "Accuracy: 0.97 \t\tweights: [ 0.43544468  0.37904655  0.15050947]\n",
      "Accuracy: 0.97 \t\tweights: [ 0.44675307  0.37467009  0.16220902]\n",
      "Accuracy: 0.97 \t\tweights: [ 0.45693401  0.37013446  0.17409695]\n",
      "Accuracy: 0.97 \t\tweights: [ 0.46686202  0.36567773  0.18615889]\n",
      "Accuracy: 0.97 \t\tweights: [ 0.47665763  0.36120395  0.19828963]\n",
      "Accuracy: 0.97 \t\tweights: [ 0.48603033  0.35640316  0.21024047]\n",
      "Accuracy: 0.97 \t\tweights: [ 0.49368033  0.35005908  0.22064857]\n",
      "Accuracy: 0.97 \t\tweights: [ 0.50106452  0.34378009  0.23120779]\n",
      "Accuracy: 0.97 \t\tweights: [ 0.5082366   0.33754652  0.24193754]\n",
      "Accuracy: 0.97 \t\tweights: [ 0.51504714  0.33138543  0.25294844]\n",
      "Accuracy: 0.97 \t\tweights: [ 0.52038535  0.32571347  0.26421419]\n",
      "Accuracy: 0.97 \t\tweights: [ 0.52393225  0.31866008  0.27442425]\n",
      "Accuracy: 0.97 \t\tweights: [ 0.52722202  0.31111189  0.2844756 ]\n",
      "Accuracy: 0.97 \t\tweights: [ 0.53022444  0.3030308   0.29408244]\n",
      "Accuracy: 0.97 \t\tweights: [ 0.53286569  0.29449514  0.30253028]\n",
      "Accuracy: 0.97 \t\tweights: [ 0.53513486  0.28571412  0.31085607]\n",
      "Accuracy: 0.97 \t\tweights: [ 0.53697533  0.27672583  0.3192687 ]\n",
      "Accuracy: 0.97 \t\tweights: [ 0.53778316  0.26744952  0.32735804]\n",
      "Accuracy: 0.97 \t\tweights: [ 0.53718035  0.2580497   0.33468769]\n",
      "Accuracy: 0.97 \t\tweights: [ 0.53625636  0.24863284  0.34206992]\n",
      "Accuracy: 0.97 \t\tweights: [ 0.53523794  0.23916202  0.3494998 ]\n",
      "Accuracy: 0.97 \t\tweights: [ 0.53422312  0.22964635  0.35697086]\n",
      "Accuracy: 0.97 \t\tweights: [ 0.53330182  0.22013295  0.36452196]\n",
      "Accuracy: 0.97 \t\tweights: [ 0.53266159  0.21076449  0.37230922]\n",
      "Accuracy: 0.97 \t\tweights: [ 0.53258102  0.20168219  0.38050812]\n",
      "Accuracy: 1.0 \t\tweights: [ 0.5321989   0.19275662  0.38834954]\n",
      "Accuracy: 1.0 \t\tweights: [ 0.53105683  0.18368569  0.39548544]\n",
      "Accuracy: 1.0 \t\tweights: [ 0.52998955  0.17441089  0.40250326]\n",
      "Accuracy: 1.0 \t\tweights: [ 0.52913774  0.16495076  0.40934244]\n"
     ]
    }
   ],
   "source": [
    "w =   np.array([ 0.09370901, -0.24480254, -0.84210235]) # np.random.randn(2 + 1)\n",
    "\n",
    "def predict(w, x):\n",
    "    N = len(x)\n",
    "    yhat = w[1:].dot(x.T) + w[0]\n",
    "    return yhat\n",
    "\n",
    "def rmsprop_nn(w, X, Y, eta=0.001, decay=0.001, epoch=4, weight_size=2):\n",
    "    \"\"\"\n",
    "    @param eta <float>: learning rate\n",
    "    \"\"\"\n",
    "    N = len(X)\n",
    "    e = 1e-8\n",
    "    \n",
    "    Eg = np.zeros(weight_size + 1)  # E[g^2]\n",
    "        \n",
    "    for i in range(N):\n",
    "        x = X[i]\n",
    "        y = Y[i]\n",
    "        yhat = predict(w, x)\n",
    "\n",
    "        # Calculate the gradients\n",
    "        gradient_w = 2/N*-(y-yhat)*x\n",
    "        gradient_b = 2/N*-(y-yhat)\n",
    "\n",
    "        # Accumulate Gradient\n",
    "        Eg[1:] = decay * Eg[1:] + (1-decay) * gradient_w**2\n",
    "        Eg[0]  = decay * Eg[0] + (1-decay) * gradient_b**2\n",
    "\n",
    "        # Compute Update\n",
    "        delta_w = - eta/np.sqrt(e + Eg[1:]) * gradient_w\n",
    "        delta_b = - eta/np.sqrt(e + Eg[0]) * gradient_b\n",
    "\n",
    "        w[1:] = w[1:] + delta_w\n",
    "        w[0] = w[0] + delta_b\n",
    "\n",
    "    return w\n",
    "\n",
    "\n",
    "for _ in range(50):\n",
    "    w = rmsprop_nn(w, train_x, train_y)\n",
    "\n",
    "    # Accuracy Test\n",
    "    yhats = predict(w, test_x)\n",
    "    yhats = np.where(yhats >= 0.5, 1, 0)\n",
    "    accuracy = accuracy_score(test_y, yhats)\n",
    "    print('Accuracy:', round(accuracy, 2), '\\t\\tweights:', w)"
   ]
  }
 ],
 "metadata": {
  "kernelspec": {
   "display_name": "Python 3",
   "language": "python",
   "name": "python3"
  },
  "language_info": {
   "codemirror_mode": {
    "name": "ipython",
    "version": 3
   },
   "file_extension": ".py",
   "mimetype": "text/x-python",
   "name": "python",
   "nbconvert_exporter": "python",
   "pygments_lexer": "ipython3",
   "version": "3.6.0"
  }
 },
 "nbformat": 4,
 "nbformat_minor": 2
}
