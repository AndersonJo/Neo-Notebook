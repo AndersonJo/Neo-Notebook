{
 "cells": [
  {
   "cell_type": "markdown",
   "metadata": {},
   "source": [
    "# AdaGrad Optimizer with Keras \n",
    "\n",
    "AdaGrad가 각각의 weights $ \\theta_i $ 별로 learning rate값을 다르게 줌으로서, sparse data에 적합하다고 하는데.. 정말로 그런지 실험해보는 문서"
   ]
  },
  {
   "cell_type": "code",
   "execution_count": 46,
   "metadata": {
    "collapsed": false
   },
   "outputs": [
    {
     "name": "stdout",
     "output_type": "stream",
     "text": [
      "Populating the interactive namespace from numpy and matplotlib\n"
     ]
    }
   ],
   "source": [
    "%pylab inline\n",
    "import numpy as np\n",
    "import pandas as pd\n",
    "\n",
    "from sklearn.preprocessing import StandardScaler\n",
    "from sklearn.model_selection import train_test_split\n",
    "from keras.models import Sequential, Model\n",
    "from keras.layers import Dense, Activation\n",
    "from keras.optimizers import Adagrad\n",
    "from keras.utils import np_utils\n",
    "\n",
    "\n",
    "from IPython.display import SVG, Image\n",
    "from keras.utils.visualize_util import model_to_dot"
   ]
  },
  {
   "cell_type": "markdown",
   "metadata": {},
   "source": [
    "# Data "
   ]
  },
  {
   "cell_type": "code",
   "execution_count": 109,
   "metadata": {
    "collapsed": false
   },
   "outputs": [],
   "source": [
    "data = pd.read_csv('/dataset/credit-card-fraud-detection/creditcard.csv')\n",
    "\n",
    "# Shrink normal data to overcome Adagrad Error\n",
    "# data = pd.concat([data[data['Class'] == 0][:5000], data[data['Class'] == 1]])\n",
    "# data = data.sample(frac=1)\n",
    "\n",
    "# Preprocessing Amount\n",
    "amt_scale = StandardScaler()\n",
    "data['NormAmount'] =  amt_scale.fit_transform(data['Amount'].values.reshape(-1, 1))\n",
    "\n",
    "# Split Train and Test Data\n",
    "X = data.drop(['Time', 'Amount', 'Class'], axis=1).as_matrix()\n",
    "Y = data['Class'].as_matrix()\n",
    "Y = Y.reshape((Y.shape[0], 1))\n",
    "\n",
    "# Standardization\n",
    "scale_x = StandardScaler()\n",
    "X = scale_x.fit_transform(X)\n",
    "\n",
    "train_x, test_x, train_y, test_y = train_test_split(X, Y, test_size=0.25, random_state=1)\n",
    "\n",
    "fraud_test_y = test_y == 1\n",
    "fraud_test_y = fraud_test_y.reshape(fraud_test_y.shape[0])\n",
    "fraud_test_x = test_x[fraud_test_y]\n",
    "fraud_test_y = test_y[fraud_test_y]\n"
   ]
  },
  {
   "cell_type": "code",
   "execution_count": 112,
   "metadata": {
    "collapsed": false
   },
   "outputs": [
    {
     "data": {
      "image/svg+xml": [
       "<svg height=\"553pt\" viewBox=\"0.00 0.00 309.00 553.00\" width=\"309pt\" xmlns=\"http://www.w3.org/2000/svg\" xmlns:xlink=\"http://www.w3.org/1999/xlink\">\n",
       "<g class=\"graph\" id=\"graph0\" transform=\"scale(1 1) rotate(0) translate(4 549)\">\n",
       "<title>G</title>\n",
       "<polygon fill=\"white\" points=\"-4,4 -4,-549 305,-549 305,4 -4,4\" stroke=\"none\"/>\n",
       "<!-- 139955663909104 -->\n",
       "<g class=\"node\" id=\"node1\"><title>139955663909104</title>\n",
       "<polygon fill=\"none\" points=\"0,-498.5 0,-544.5 301,-544.5 301,-498.5 0,-498.5\" stroke=\"black\"/>\n",
       "<text font-family=\"Times,serif\" font-size=\"14.00\" text-anchor=\"middle\" x=\"85\" y=\"-517.8\">dense_input_18: InputLayer</text>\n",
       "<polyline fill=\"none\" points=\"170,-498.5 170,-544.5 \" stroke=\"black\"/>\n",
       "<text font-family=\"Times,serif\" font-size=\"14.00\" text-anchor=\"middle\" x=\"197.5\" y=\"-529.3\">input:</text>\n",
       "<polyline fill=\"none\" points=\"170,-521.5 225,-521.5 \" stroke=\"black\"/>\n",
       "<text font-family=\"Times,serif\" font-size=\"14.00\" text-anchor=\"middle\" x=\"197.5\" y=\"-506.3\">output:</text>\n",
       "<polyline fill=\"none\" points=\"225,-498.5 225,-544.5 \" stroke=\"black\"/>\n",
       "<text font-family=\"Times,serif\" font-size=\"14.00\" text-anchor=\"middle\" x=\"263\" y=\"-529.3\">(None, 29)</text>\n",
       "<polyline fill=\"none\" points=\"225,-521.5 301,-521.5 \" stroke=\"black\"/>\n",
       "<text font-family=\"Times,serif\" font-size=\"14.00\" text-anchor=\"middle\" x=\"263\" y=\"-506.3\">(None, 29)</text>\n",
       "</g>\n",
       "<!-- 139955664033776 -->\n",
       "<g class=\"node\" id=\"node2\"><title>139955664033776</title>\n",
       "<polygon fill=\"none\" points=\"27,-415.5 27,-461.5 274,-461.5 274,-415.5 27,-415.5\" stroke=\"black\"/>\n",
       "<text font-family=\"Times,serif\" font-size=\"14.00\" text-anchor=\"middle\" x=\"81.5\" y=\"-434.8\">dense_52: Dense</text>\n",
       "<polyline fill=\"none\" points=\"136,-415.5 136,-461.5 \" stroke=\"black\"/>\n",
       "<text font-family=\"Times,serif\" font-size=\"14.00\" text-anchor=\"middle\" x=\"163.5\" y=\"-446.3\">input:</text>\n",
       "<polyline fill=\"none\" points=\"136,-438.5 191,-438.5 \" stroke=\"black\"/>\n",
       "<text font-family=\"Times,serif\" font-size=\"14.00\" text-anchor=\"middle\" x=\"163.5\" y=\"-423.3\">output:</text>\n",
       "<polyline fill=\"none\" points=\"191,-415.5 191,-461.5 \" stroke=\"black\"/>\n",
       "<text font-family=\"Times,serif\" font-size=\"14.00\" text-anchor=\"middle\" x=\"232.5\" y=\"-446.3\">(None, 29)</text>\n",
       "<polyline fill=\"none\" points=\"191,-438.5 274,-438.5 \" stroke=\"black\"/>\n",
       "<text font-family=\"Times,serif\" font-size=\"14.00\" text-anchor=\"middle\" x=\"232.5\" y=\"-423.3\">(None, 128)</text>\n",
       "</g>\n",
       "<!-- 139955663909104&#45;&gt;139955664033776 -->\n",
       "<g class=\"edge\" id=\"edge1\"><title>139955663909104-&gt;139955664033776</title>\n",
       "<path d=\"M150.5,-498.366C150.5,-490.152 150.5,-480.658 150.5,-471.725\" fill=\"none\" stroke=\"black\"/>\n",
       "<polygon fill=\"black\" points=\"154,-471.607 150.5,-461.607 147,-471.607 154,-471.607\" stroke=\"black\"/>\n",
       "</g>\n",
       "<!-- 139955663909048 -->\n",
       "<g class=\"node\" id=\"node3\"><title>139955663909048</title>\n",
       "<polygon fill=\"none\" points=\"4,-332.5 4,-378.5 297,-378.5 297,-332.5 4,-332.5\" stroke=\"black\"/>\n",
       "<text font-family=\"Times,serif\" font-size=\"14.00\" text-anchor=\"middle\" x=\"81.5\" y=\"-351.8\">activation_52: Activation</text>\n",
       "<polyline fill=\"none\" points=\"159,-332.5 159,-378.5 \" stroke=\"black\"/>\n",
       "<text font-family=\"Times,serif\" font-size=\"14.00\" text-anchor=\"middle\" x=\"186.5\" y=\"-363.3\">input:</text>\n",
       "<polyline fill=\"none\" points=\"159,-355.5 214,-355.5 \" stroke=\"black\"/>\n",
       "<text font-family=\"Times,serif\" font-size=\"14.00\" text-anchor=\"middle\" x=\"186.5\" y=\"-340.3\">output:</text>\n",
       "<polyline fill=\"none\" points=\"214,-332.5 214,-378.5 \" stroke=\"black\"/>\n",
       "<text font-family=\"Times,serif\" font-size=\"14.00\" text-anchor=\"middle\" x=\"255.5\" y=\"-363.3\">(None, 128)</text>\n",
       "<polyline fill=\"none\" points=\"214,-355.5 297,-355.5 \" stroke=\"black\"/>\n",
       "<text font-family=\"Times,serif\" font-size=\"14.00\" text-anchor=\"middle\" x=\"255.5\" y=\"-340.3\">(None, 128)</text>\n",
       "</g>\n",
       "<!-- 139955664033776&#45;&gt;139955663909048 -->\n",
       "<g class=\"edge\" id=\"edge2\"><title>139955664033776-&gt;139955663909048</title>\n",
       "<path d=\"M150.5,-415.366C150.5,-407.152 150.5,-397.658 150.5,-388.725\" fill=\"none\" stroke=\"black\"/>\n",
       "<polygon fill=\"black\" points=\"154,-388.607 150.5,-378.607 147,-388.607 154,-388.607\" stroke=\"black\"/>\n",
       "</g>\n",
       "<!-- 139955663910280 -->\n",
       "<g class=\"node\" id=\"node4\"><title>139955663910280</title>\n",
       "<polygon fill=\"none\" points=\"27,-249.5 27,-295.5 274,-295.5 274,-249.5 27,-249.5\" stroke=\"black\"/>\n",
       "<text font-family=\"Times,serif\" font-size=\"14.00\" text-anchor=\"middle\" x=\"81.5\" y=\"-268.8\">dense_53: Dense</text>\n",
       "<polyline fill=\"none\" points=\"136,-249.5 136,-295.5 \" stroke=\"black\"/>\n",
       "<text font-family=\"Times,serif\" font-size=\"14.00\" text-anchor=\"middle\" x=\"163.5\" y=\"-280.3\">input:</text>\n",
       "<polyline fill=\"none\" points=\"136,-272.5 191,-272.5 \" stroke=\"black\"/>\n",
       "<text font-family=\"Times,serif\" font-size=\"14.00\" text-anchor=\"middle\" x=\"163.5\" y=\"-257.3\">output:</text>\n",
       "<polyline fill=\"none\" points=\"191,-249.5 191,-295.5 \" stroke=\"black\"/>\n",
       "<text font-family=\"Times,serif\" font-size=\"14.00\" text-anchor=\"middle\" x=\"232.5\" y=\"-280.3\">(None, 128)</text>\n",
       "<polyline fill=\"none\" points=\"191,-272.5 274,-272.5 \" stroke=\"black\"/>\n",
       "<text font-family=\"Times,serif\" font-size=\"14.00\" text-anchor=\"middle\" x=\"232.5\" y=\"-257.3\">(None, 32)</text>\n",
       "</g>\n",
       "<!-- 139955663909048&#45;&gt;139955663910280 -->\n",
       "<g class=\"edge\" id=\"edge3\"><title>139955663909048-&gt;139955663910280</title>\n",
       "<path d=\"M150.5,-332.366C150.5,-324.152 150.5,-314.658 150.5,-305.725\" fill=\"none\" stroke=\"black\"/>\n",
       "<polygon fill=\"black\" points=\"154,-305.607 150.5,-295.607 147,-305.607 154,-305.607\" stroke=\"black\"/>\n",
       "</g>\n",
       "<!-- 139955663909608 -->\n",
       "<g class=\"node\" id=\"node5\"><title>139955663909608</title>\n",
       "<polygon fill=\"none\" points=\"7.5,-166.5 7.5,-212.5 293.5,-212.5 293.5,-166.5 7.5,-166.5\" stroke=\"black\"/>\n",
       "<text font-family=\"Times,serif\" font-size=\"14.00\" text-anchor=\"middle\" x=\"85\" y=\"-185.8\">activation_53: Activation</text>\n",
       "<polyline fill=\"none\" points=\"162.5,-166.5 162.5,-212.5 \" stroke=\"black\"/>\n",
       "<text font-family=\"Times,serif\" font-size=\"14.00\" text-anchor=\"middle\" x=\"190\" y=\"-197.3\">input:</text>\n",
       "<polyline fill=\"none\" points=\"162.5,-189.5 217.5,-189.5 \" stroke=\"black\"/>\n",
       "<text font-family=\"Times,serif\" font-size=\"14.00\" text-anchor=\"middle\" x=\"190\" y=\"-174.3\">output:</text>\n",
       "<polyline fill=\"none\" points=\"217.5,-166.5 217.5,-212.5 \" stroke=\"black\"/>\n",
       "<text font-family=\"Times,serif\" font-size=\"14.00\" text-anchor=\"middle\" x=\"255.5\" y=\"-197.3\">(None, 32)</text>\n",
       "<polyline fill=\"none\" points=\"217.5,-189.5 293.5,-189.5 \" stroke=\"black\"/>\n",
       "<text font-family=\"Times,serif\" font-size=\"14.00\" text-anchor=\"middle\" x=\"255.5\" y=\"-174.3\">(None, 32)</text>\n",
       "</g>\n",
       "<!-- 139955663910280&#45;&gt;139955663909608 -->\n",
       "<g class=\"edge\" id=\"edge4\"><title>139955663910280-&gt;139955663909608</title>\n",
       "<path d=\"M150.5,-249.366C150.5,-241.152 150.5,-231.658 150.5,-222.725\" fill=\"none\" stroke=\"black\"/>\n",
       "<polygon fill=\"black\" points=\"154,-222.607 150.5,-212.607 147,-222.607 154,-222.607\" stroke=\"black\"/>\n",
       "</g>\n",
       "<!-- 139955604551944 -->\n",
       "<g class=\"node\" id=\"node6\"><title>139955604551944</title>\n",
       "<polygon fill=\"none\" points=\"30.5,-83.5 30.5,-129.5 270.5,-129.5 270.5,-83.5 30.5,-83.5\" stroke=\"black\"/>\n",
       "<text font-family=\"Times,serif\" font-size=\"14.00\" text-anchor=\"middle\" x=\"85\" y=\"-102.8\">dense_54: Dense</text>\n",
       "<polyline fill=\"none\" points=\"139.5,-83.5 139.5,-129.5 \" stroke=\"black\"/>\n",
       "<text font-family=\"Times,serif\" font-size=\"14.00\" text-anchor=\"middle\" x=\"167\" y=\"-114.3\">input:</text>\n",
       "<polyline fill=\"none\" points=\"139.5,-106.5 194.5,-106.5 \" stroke=\"black\"/>\n",
       "<text font-family=\"Times,serif\" font-size=\"14.00\" text-anchor=\"middle\" x=\"167\" y=\"-91.3\">output:</text>\n",
       "<polyline fill=\"none\" points=\"194.5,-83.5 194.5,-129.5 \" stroke=\"black\"/>\n",
       "<text font-family=\"Times,serif\" font-size=\"14.00\" text-anchor=\"middle\" x=\"232.5\" y=\"-114.3\">(None, 32)</text>\n",
       "<polyline fill=\"none\" points=\"194.5,-106.5 270.5,-106.5 \" stroke=\"black\"/>\n",
       "<text font-family=\"Times,serif\" font-size=\"14.00\" text-anchor=\"middle\" x=\"232.5\" y=\"-91.3\">(None, 1)</text>\n",
       "</g>\n",
       "<!-- 139955663909608&#45;&gt;139955604551944 -->\n",
       "<g class=\"edge\" id=\"edge5\"><title>139955663909608-&gt;139955604551944</title>\n",
       "<path d=\"M150.5,-166.366C150.5,-158.152 150.5,-148.658 150.5,-139.725\" fill=\"none\" stroke=\"black\"/>\n",
       "<polygon fill=\"black\" points=\"154,-139.607 150.5,-129.607 147,-139.607 154,-139.607\" stroke=\"black\"/>\n",
       "</g>\n",
       "<!-- 139955604404936 -->\n",
       "<g class=\"node\" id=\"node7\"><title>139955604404936</title>\n",
       "<polygon fill=\"none\" points=\"11,-0.5 11,-46.5 290,-46.5 290,-0.5 11,-0.5\" stroke=\"black\"/>\n",
       "<text font-family=\"Times,serif\" font-size=\"14.00\" text-anchor=\"middle\" x=\"88.5\" y=\"-19.8\">activation_54: Activation</text>\n",
       "<polyline fill=\"none\" points=\"166,-0.5 166,-46.5 \" stroke=\"black\"/>\n",
       "<text font-family=\"Times,serif\" font-size=\"14.00\" text-anchor=\"middle\" x=\"193.5\" y=\"-31.3\">input:</text>\n",
       "<polyline fill=\"none\" points=\"166,-23.5 221,-23.5 \" stroke=\"black\"/>\n",
       "<text font-family=\"Times,serif\" font-size=\"14.00\" text-anchor=\"middle\" x=\"193.5\" y=\"-8.3\">output:</text>\n",
       "<polyline fill=\"none\" points=\"221,-0.5 221,-46.5 \" stroke=\"black\"/>\n",
       "<text font-family=\"Times,serif\" font-size=\"14.00\" text-anchor=\"middle\" x=\"255.5\" y=\"-31.3\">(None, 1)</text>\n",
       "<polyline fill=\"none\" points=\"221,-23.5 290,-23.5 \" stroke=\"black\"/>\n",
       "<text font-family=\"Times,serif\" font-size=\"14.00\" text-anchor=\"middle\" x=\"255.5\" y=\"-8.3\">(None, 1)</text>\n",
       "</g>\n",
       "<!-- 139955604551944&#45;&gt;139955604404936 -->\n",
       "<g class=\"edge\" id=\"edge6\"><title>139955604551944-&gt;139955604404936</title>\n",
       "<path d=\"M150.5,-83.3664C150.5,-75.1516 150.5,-65.6579 150.5,-56.7252\" fill=\"none\" stroke=\"black\"/>\n",
       "<polygon fill=\"black\" points=\"154,-56.6068 150.5,-46.6068 147,-56.6069 154,-56.6068\" stroke=\"black\"/>\n",
       "</g>\n",
       "</g>\n",
       "</svg>"
      ],
      "text/plain": [
       "<IPython.core.display.SVG object>"
      ]
     },
     "execution_count": 112,
     "metadata": {},
     "output_type": "execute_result"
    }
   ],
   "source": [
    "model = Sequential()\n",
    "\n",
    "model.add(Dense(output_dim=128, input_dim=29))\n",
    "model.add(Activation('relu'))\n",
    "model.add(Dense(output_dim=32, input_dim=128))\n",
    "model.add(Activation('relu'))\n",
    "model.add(Dense(output_dim=1))\n",
    "model.add(Activation('softmax'))\n",
    "\n",
    "model.compile(loss='binary_crossentropy', \n",
    "              optimizer=Adagrad(lr=0.1), \n",
    "              metrics=['accuracy'])\n",
    "\n",
    "SVG(model_to_dot(model, show_shapes=True).create(prog='dot', format='svg'))"
   ]
  },
  {
   "cell_type": "code",
   "execution_count": 113,
   "metadata": {
    "collapsed": false
   },
   "outputs": [
    {
     "name": "stdout",
     "output_type": "stream",
     "text": [
      "Epoch 1/10\n",
      "25s - loss: 15.9139 - acc: 0.0018\n",
      "Epoch 2/10\n",
      "25s - loss: 15.9139 - acc: 0.0018\n",
      "Epoch 3/10\n",
      "25s - loss: 15.9139 - acc: 0.0018\n",
      "Epoch 4/10\n",
      "25s - loss: 15.9139 - acc: 0.0018\n",
      "Epoch 5/10\n",
      "25s - loss: 15.9139 - acc: 0.0018\n",
      "Epoch 6/10\n",
      "25s - loss: 15.9139 - acc: 0.0018\n",
      "Epoch 7/10\n",
      "25s - loss: 15.9139 - acc: 0.0018\n",
      "Epoch 8/10\n",
      "24s - loss: 15.9139 - acc: 0.0018\n",
      "Epoch 9/10\n",
      "25s - loss: 15.9139 - acc: 0.0018\n",
      "Epoch 10/10\n",
      "25s - loss: 15.9139 - acc: 0.0018\n"
     ]
    },
    {
     "data": {
      "text/plain": [
       "<keras.callbacks.History at 0x7f49fa82b198>"
      ]
     },
     "execution_count": 113,
     "metadata": {},
     "output_type": "execute_result"
    }
   ],
   "source": [
    "model.fit(train_x, train_y, verbose=2)"
   ]
  },
  {
   "cell_type": "code",
   "execution_count": 115,
   "metadata": {
    "collapsed": false
   },
   "outputs": [
    {
     "name": "stdout",
     "output_type": "stream",
     "text": [
      "loss:15.917531, \taccuracy:0.001559\n",
      "loss:0.000000, \taccuracy:1.000000\n"
     ]
    }
   ],
   "source": [
    "loss, accuracy = model.evaluate(test_x, test_y, verbose=2)\n",
    "print('loss:%f, \\taccuracy:%f' % (loss, accuracy))\n",
    "\n",
    "loss, accuracy = model.evaluate(fraud_test_x, fraud_test_y, verbose=2)\n",
    "print('loss:%f, \\taccuracy:%f' % (loss, accuracy))"
   ]
  }
 ],
 "metadata": {
  "kernelspec": {
   "display_name": "Python 3",
   "language": "python",
   "name": "python3"
  },
  "language_info": {
   "codemirror_mode": {
    "name": "ipython",
    "version": 3
   },
   "file_extension": ".py",
   "mimetype": "text/x-python",
   "name": "python",
   "nbconvert_exporter": "python",
   "pygments_lexer": "ipython3",
   "version": "3.6.0"
  }
 },
 "nbformat": 4,
 "nbformat_minor": 2
}
