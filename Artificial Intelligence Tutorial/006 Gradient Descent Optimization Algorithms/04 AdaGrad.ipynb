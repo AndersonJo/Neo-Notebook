{
 "cells": [
  {
   "cell_type": "code",
   "execution_count": 1,
   "metadata": {
    "collapsed": false,
    "deletable": true,
    "editable": true
   },
   "outputs": [
    {
     "name": "stdout",
     "output_type": "stream",
     "text": [
      "Populating the interactive namespace from numpy and matplotlib\n"
     ]
    }
   ],
   "source": [
    "%pylab inline\n",
    "import numpy as np\n",
    "import pandas as pd\n",
    "\n",
    "from sklearn.model_selection import  train_test_split\n",
    "from sklearn.preprocessing import StandardScaler\n",
    "from sklearn.metrics import accuracy_score\n",
    "from sklearn.datasets import load_iris"
   ]
  },
  {
   "cell_type": "markdown",
   "metadata": {
    "deletable": true,
    "editable": true
   },
   "source": [
    "# AdaGrad\n",
    "\n",
    "* [Deep Learning 책 참고 299page](https://books.google.co.kr/books/about/Deep_Learning.html?id=Np9SDQAAQBAJ&redir_esc=y)\n",
    "* [An overview of gradient descent optimization algorithms](http://sebastianruder.com/optimizing-gradient-descent/index.html#fn:24)\n",
    "\n",
    "Stochastic Gradient Descent (SGD)는 convex 또는 non-convex function의 optimization에 일반적으로 사용되는 알고리즘입니다.<br>\n",
    "SGD의 한가지 문제점은 learning rate에 매우 민감합니다. 특히 데이터가 sparse이며 features가 서로다른 frequencies (빈도수)를 갖고 있다면, 단 하나의 learning rate가 모든 weight update에 영향을 주는것은 문제가 될 수 있습니다. \n",
    "\n",
    "이전의 Momentum update에서는 다음과 같은 공식을 사용했습니다. \n",
    "\n",
    "$$ \\begin{align}\n",
    "v &= \\gamma v_{t-1} + \\eta \\nabla_{\\theta} J(\\theta; x^{(i)},y^{(i)}) \\\\\n",
    "\\theta &= \\theta - v\n",
    "\\end{align} $$\n",
    "\n",
    "즉 모든 weights $ \\theta $에 대해서 동일한 learning rate $ \\eta $ 를 사용하여 update를 하였습니다. \n",
    "\n",
    "\n",
    "AgaGrad는 각각의 데이터에 dynamically adapt함으로서 궁극적으로 각각의 feature들마다 서로다른 learning rate로 연산을 합니다.<br>\n",
    "쉽게 이야기해서, 빈도수가 낮은 데이터에는 높은 learning rate를 적용하고, 빈도수가 높은 데이터에는 낮은 learning rate를 자동으로 적용합니다. <br>\n",
    "따라서 sparse한 데이터에 적합하며, 대표적인 예가 구글 X lab에서 16000대의 cores를 사용하여 유튜브 동영상안의 고양이를 detection하는 모델에 Adagrad를 사용한것입니다. \n",
    "\n",
    "\n",
    "\n",
    "\n",
    "\n",
    "* Global Learning Rate $ \\eta $ 가 필요합니다. \n",
    "* weights $ \\theta $에 대한 초기화가 필요합니다.\n",
    "* small constant $ \\epsilon $ 값을 설정합니다. (numerical stability를 위해서 약 $ 10^{-8} $로 설정, 즉 분모에 들어가게 되는데 0이 안되도록 매우 작은 수를 넣음)\n",
    "* gradient accumulation variable $ G $값은 weight와 동일한 shape인 0으로 초기화합니다.\n",
    "\n",
    "먼저 gradient를 구한뒤 sqaured gradient (gradient의 제곱)을 r에 accumulation해줍니다.\n",
    "\n",
    "$$ \\begin{align}\n",
    "g_t &= \\nabla_{\\theta} J(\\theta; x^{(i)}, y^{(i)}) \\\\ \n",
    "G_t &= G_t + g_t \\odot g_t \n",
    "\\end{align} $$ \n",
    "\n",
    "update를 계산합니다. \n",
    "\n",
    "$$ \\Delta \\theta_t =  \\frac{\\eta}{\\epsilon + \\sqrt{G_t}} \\odot g_t $$\n",
    "\n",
    "update를 적용합니다. \n",
    "\n",
    "$$ \\theta_{t+1} = \\theta_t - \\Delta \\theta_t $$\n",
    "\n",
    "> $ \\odot $ 기호는 element wise multiplication 입니다 \n",
    "\n",
    "AdaGrad의 장점은 보통 다른 optimizers의 경우에는 learning rate를 일반적으로 0.01로 놓고 변경되지 않지만, Adagram같은 경우는 자동으로 learning rate를 계산해준다는 것입니다. 반면 약점은 denominator부분의 accumulation of the squared gradients의 값이 지속적으로 쌓여서 계속 늘어난다는 단점이 있습니다. 결국 learning rate는 점점 작아진다는 약점을 갖고있습니다. 이러한 약점은 극복한 것이 Adadelta입니다.\n"
   ]
  },
  {
   "cell_type": "markdown",
   "metadata": {
    "deletable": true,
    "editable": true
   },
   "source": [
    "### Data"
   ]
  },
  {
   "cell_type": "code",
   "execution_count": 386,
   "metadata": {
    "collapsed": false,
    "deletable": true,
    "editable": true
   },
   "outputs": [
    {
     "data": {
      "text/plain": [
       "<matplotlib.legend.Legend at 0x7f0d5ddbf5c0>"
      ]
     },
     "execution_count": 386,
     "metadata": {},
     "output_type": "execute_result"
    },
    {
     "data": {
      "image/png": "[encoded data removed]",
      "text/plain": [
       "<matplotlib.figure.Figure at 0x7f0d5e031e10>"
      ]
     },
     "metadata": {},
     "output_type": "display_data"
    }
   ],
   "source": [
    "iris = load_iris()\n",
    "\n",
    "# setosa_x = iris.data[:50]\n",
    "# setosa_y = iris.target[:50]\n",
    "# versicolor_x = iris.data[50:100]\n",
    "# versicolor_y = iris.target[50:100]\n",
    "# scatter(setosa_x[:, 0], setosa_x[:, 2])\n",
    "# scatter(versicolor_x[:, 0], versicolor_x[:, 2])\n",
    "\n",
    "# Extract sepal length, petal length from Setosa and Versicolor\n",
    "data = iris.data[:100, [0, 2]]\n",
    "\n",
    "# Standardization\n",
    "scaler = StandardScaler()\n",
    "data = scaler.fit_transform(data)\n",
    "\n",
    "\n",
    "# Split data to test and train data\n",
    "train_x, test_x, train_y, test_y = train_test_split(data, iris.target[:100], test_size=0.3)\n",
    "\n",
    "# Plotting data\n",
    "scatter(data[:50, 0], data[:50, 1], label='Setosa')\n",
    "scatter(data[50:100, 0], data[50:100, 1], label='Versicolour')\n",
    "title('Iris Data')\n",
    "xlabel('sepal length')\n",
    "ylabel('petal length')\n",
    "grid()\n",
    "legend()"
   ]
  },
  {
   "cell_type": "markdown",
   "metadata": {
    "deletable": true,
    "editable": true
   },
   "source": [
    "### Stochastic Gradient Descent with AdaGrad Optimizer"
   ]
  },
  {
   "cell_type": "code",
   "execution_count": 405,
   "metadata": {
    "collapsed": false,
    "deletable": true,
    "editable": true
   },
   "outputs": [
    {
     "name": "stdout",
     "output_type": "stream",
     "text": [
      "Accuracy: 0.0 \t\tweights: [ 0.13311942 -0.13196347 -0.70207509]\n",
      "Accuracy: 0.0 \t\tweights: [ 0.17517404 -0.02139136 -0.5622791 ]\n",
      "Accuracy: 0.03 \t\tweights: [ 0.22024669  0.08566276 -0.42306429]\n",
      "Accuracy: 0.4 \t\tweights: [ 0.26857055  0.1866223  -0.28535928]\n",
      "Accuracy: 0.6 \t\tweights: [ 0.31970458  0.27497968 -0.15187859]\n",
      "Accuracy: 0.83 \t\tweights: [ 0.37118095  0.33185828 -0.03023366]\n",
      "Accuracy: 0.9 \t\tweights: [ 0.41775365  0.33561797  0.06756387]\n",
      "Accuracy: 0.93 \t\tweights: [ 0.45451793  0.30855672  0.14049942]\n",
      "Accuracy: 0.97 \t\tweights: [ 0.48013352  0.27088363  0.19729631]\n",
      "Accuracy: 0.97 \t\tweights: [ 0.49592062  0.23050147  0.24497723]\n",
      "Accuracy: 0.97 \t\tweights: [ 0.50425995  0.19049694  0.28725931]\n",
      "Accuracy: 0.97 \t\tweights: [ 0.50761714  0.15210897  0.32572912]\n",
      "Accuracy: 0.97 \t\tweights: [ 0.50804359  0.11597703  0.36093549]\n",
      "Accuracy: 0.97 \t\tweights: [ 0.50702581  0.08260442  0.39296609]\n",
      "Accuracy: 1.0 \t\tweights: [ 0.50552161  0.05245024  0.42172069]\n",
      "Accuracy: 1.0 \t\tweights: [ 0.50406479  0.02586577  0.44707643]\n",
      "Accuracy: 1.0 \t\tweights: [ 0.50288567  0.00299816  0.46900527]\n",
      "Accuracy: 1.0 \t\tweights: [ 0.50202729 -0.01625318  0.48763113]\n",
      "Accuracy: 1.0 \t\tweights: [ 0.50144198 -0.03219678  0.50321966]\n",
      "Accuracy: 1.0 \t\tweights: [ 0.50105654 -0.0452585   0.51612571]\n"
     ]
    }
   ],
   "source": [
    "w = np.array([ 0.09370901, -0.24480254, -0.84210235]) # np.random.randn(2 + 1)\n",
    "\n",
    "def predict(w, x):\n",
    "    N = len(x)\n",
    "    yhat = w[1:].dot(x.T) + w[0]\n",
    "    return yhat\n",
    "\n",
    "def  adagrad_nn2(w, X, Y, eta=0.01, acmu_size=1):\n",
    "    \"\"\"\n",
    "    @param eta <float>: learning rate\n",
    "    @param acmu_size <int>: the size of the accumulation of the squred of the gradients with regard to theta\n",
    "    \"\"\"\n",
    "    N = len(X)\n",
    "    e = 1e-8\n",
    "    G = np.zeros_like(w)\n",
    "    \n",
    "    i = 0\n",
    "    for i in range(N):\n",
    "        x = X[i]\n",
    "        y = Y[i]\n",
    "        yhat = predict(w, x)\n",
    "        \n",
    "        # Calculate the gradients\n",
    "        gradient_w = 2/N*-(y-yhat)*x\n",
    "        gradient_b = 2/N*-(y-yhat)\n",
    "        \n",
    "        G[1:] += gradient_w * gradient_w\n",
    "        G[0] += gradient_b * gradient_b\n",
    "        delta_w = eta/(e + np.sqrt(G[1:])) * gradient_w\n",
    "        delta_b = eta/(e + np.sqrt(G[0])) * gradient_b\n",
    "        w[1:] = w[1:] - delta_w\n",
    "        w[0] = w[0] - delta_b\n",
    "        \n",
    "        if np.linalg.norm(w) < 1e-3:\n",
    "            break\n",
    "    return w\n",
    "\n",
    "for i in range(20):\n",
    "    w = adagrad_nn2(w, train_x, train_y)\n",
    "    yhats = predict(w, test_x)\n",
    "    yhats = np.where(yhats >= 0.5, 1, 0)\n",
    "    accuracy = accuracy_score(test_y, yhats)\n",
    "    print('Accuracy:', round(accuracy, 2), '\\t\\tweights:', w)"
   ]
  }
 ],
 "metadata": {
  "kernelspec": {
   "display_name": "Python 3",
   "language": "python",
   "name": "python3"
  },
  "language_info": {
   "codemirror_mode": {
    "name": "ipython",
    "version": 3
   },
   "file_extension": ".py",
   "mimetype": "text/x-python",
   "name": "python",
   "nbconvert_exporter": "python",
   "pygments_lexer": "ipython3",
   "version": "3.6.0"
  }
 },
 "nbformat": 4,
 "nbformat_minor": 2
}
