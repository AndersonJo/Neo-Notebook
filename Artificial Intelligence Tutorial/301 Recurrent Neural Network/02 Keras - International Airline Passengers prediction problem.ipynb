{
 "cells": [
  {
   "cell_type": "markdown",
   "metadata": {
    "deletable": true,
    "editable": true
   },
   "source": [
    "# Long Short-Term Memory Network with Keras\n",
    "\n",
    "LSTM은 Backpropagation Through Time (BPTT)를 통해서 학습을 하며, vanishing gradient problem을 극복합니다.<br>\n",
    "일반적인 Deep Learning에서 사용하는 Neurons들은 없고, layers들로 연결된 Memory Block을 갖고 있습니다. \n",
    "\n",
    "Block은 gates의 요소를 갖고 있으며, Gates는 block의 state를 관리하게 됩니다.<br>\n",
    "일반적으로 다음과 같은 gates를 갖고 있습니다.\n",
    "\n",
    "* Forget Gate: 어떤 정보를 버릴지 정합니다.\n",
    "* Input Gate: Input 데이터에서 어떤 값들을 memory state에 업데이트할지 결정합니다.\n",
    "* Output Gate: Input값과 memory block에 기초하여 어떤 결과값(output)을 낼지 결정합니다.\n"
   ]
  },
  {
   "cell_type": "code",
   "execution_count": 9,
   "metadata": {
    "collapsed": false,
    "deletable": true,
    "editable": true
   },
   "outputs": [
    {
     "name": "stdout",
     "output_type": "stream",
     "text": [
      "Populating the interactive namespace from numpy and matplotlib\n"
     ]
    }
   ],
   "source": [
    "%pylab inline\n",
    "import numpy as np\n",
    "import pandas as pd\n",
    "from sklearn.preprocessing import StandardScaler, MinMaxScaler\n",
    "from sklearn.metrics import mean_squared_error\n",
    "from keras.models import Sequential\n",
    "from keras.layers import Dense\n",
    "from keras.layers import LSTM\n",
    "\n",
    "from keras.utils.visualize_util import plot as keras_plot\n",
    "from keras.utils.visualize_util import model_to_dot\n",
    "from IPython.display import display\n",
    "from IPython.display import SVG, Image\n",
    "\n",
    "np.random.seed(0) # fix the random number"
   ]
  },
  {
   "cell_type": "markdown",
   "metadata": {
    "deletable": true,
    "editable": true
   },
   "source": [
    "## Data\n",
    "\n",
    "International Airline Pessengers"
   ]
  },
  {
   "cell_type": "code",
   "execution_count": 2,
   "metadata": {
    "collapsed": false,
    "deletable": true,
    "editable": true
   },
   "outputs": [],
   "source": [
    "# Load Data\n",
    "data = pd.read_csv('../../data/time-series/international-airline-passengers.csv', \n",
    "                   names=['passenger'],\n",
    "                   skiprows=1, usecols=[1])\n",
    "\n",
    "# Normalize Data using Min-Max Scaler \n",
    "scaler = MinMaxScaler(feature_range=(0, 1))\n",
    "data = scaler.fit_transform(data)\n",
    "data = data.astype('float32')\n",
    "\n",
    "# Seperate Train and Test Data\n",
    "_size = int(len(data) * 0.7) # 144\n",
    "train, test = data[:_size], data[_size:] # 100, 44\n",
    "\n",
    "# convert an array of values into a dataset matrix\n",
    "def create_dataset(dataset, look_back=1):\n",
    "    dataX, dataY = [], []\n",
    "    for i in range(len(dataset)-look_back-1):\n",
    "        dataX.append(dataset[i])\n",
    "        dataY.append(dataset[i+1][0])\n",
    "    return np.array(dataX), np.array(dataY)\n",
    "\n",
    "look_back = 1\n",
    "train_x, train_y = create_dataset(train, look_back)\n",
    "test_x, test_y = create_dataset(test, look_back)\n",
    "\n",
    "train_x = np.reshape(train_x, (train_x.shape[0], 1, train_x.shape[1]))\n",
    "test_x = np.reshape(test_x, (test_x.shape[0], 1, train_x.shape[1]))"
   ]
  },
  {
   "cell_type": "markdown",
   "metadata": {
    "deletable": true,
    "editable": true
   },
   "source": [
    "## LSTM Network Model"
   ]
  },
  {
   "cell_type": "code",
   "execution_count": 3,
   "metadata": {
    "collapsed": false,
    "deletable": true,
    "editable": true,
    "scrolled": true
   },
   "outputs": [
    {
     "name": "stdout",
     "output_type": "stream",
     "text": [
      "Epoch 1/100\n",
      "1s - loss: 0.0555\n",
      "Epoch 2/100\n",
      "0s - loss: 0.0269\n",
      "Epoch 3/100\n",
      "0s - loss: 0.0194\n",
      "Epoch 4/100\n",
      "0s - loss: 0.0174\n",
      "Epoch 5/100\n",
      "0s - loss: 0.0161\n",
      "Epoch 6/100\n",
      "0s - loss: 0.0148\n",
      "Epoch 7/100\n",
      "0s - loss: 0.0136\n",
      "Epoch 8/100\n",
      "0s - loss: 0.0124\n",
      "Epoch 9/100\n",
      "0s - loss: 0.0111\n",
      "Epoch 10/100\n",
      "0s - loss: 0.0099\n",
      "Epoch 11/100\n",
      "0s - loss: 0.0087\n",
      "Epoch 12/100\n",
      "0s - loss: 0.0076\n",
      "Epoch 13/100\n",
      "0s - loss: 0.0065\n",
      "Epoch 14/100\n",
      "0s - loss: 0.0057\n",
      "Epoch 15/100\n",
      "0s - loss: 0.0048\n",
      "Epoch 16/100\n",
      "0s - loss: 0.0041\n",
      "Epoch 17/100\n",
      "0s - loss: 0.0035\n",
      "Epoch 18/100\n",
      "0s - loss: 0.0030\n",
      "Epoch 19/100\n",
      "0s - loss: 0.0027\n",
      "Epoch 20/100\n",
      "0s - loss: 0.0025\n",
      "Epoch 21/100\n",
      "0s - loss: 0.0023\n",
      "Epoch 22/100\n",
      "0s - loss: 0.0022\n",
      "Epoch 23/100\n",
      "0s - loss: 0.0022\n",
      "Epoch 24/100\n",
      "0s - loss: 0.0021\n",
      "Epoch 25/100\n",
      "0s - loss: 0.0021\n",
      "Epoch 26/100\n",
      "0s - loss: 0.0021\n",
      "Epoch 27/100\n",
      "0s - loss: 0.0021\n",
      "Epoch 28/100\n",
      "0s - loss: 0.0021\n",
      "Epoch 29/100\n",
      "0s - loss: 0.0021\n",
      "Epoch 30/100\n",
      "0s - loss: 0.0021\n",
      "Epoch 31/100\n",
      "0s - loss: 0.0021\n",
      "Epoch 32/100\n",
      "0s - loss: 0.0021\n",
      "Epoch 33/100\n",
      "0s - loss: 0.0021\n",
      "Epoch 34/100\n",
      "0s - loss: 0.0021\n",
      "Epoch 35/100\n",
      "0s - loss: 0.0021\n",
      "Epoch 36/100\n",
      "0s - loss: 0.0021\n",
      "Epoch 37/100\n",
      "0s - loss: 0.0021\n",
      "Epoch 38/100\n",
      "0s - loss: 0.0021\n",
      "Epoch 39/100\n",
      "0s - loss: 0.0021\n",
      "Epoch 40/100\n",
      "0s - loss: 0.0021\n",
      "Epoch 41/100\n",
      "0s - loss: 0.0021\n",
      "Epoch 42/100\n",
      "0s - loss: 0.0021\n",
      "Epoch 43/100\n",
      "0s - loss: 0.0021\n",
      "Epoch 44/100\n",
      "0s - loss: 0.0021\n",
      "Epoch 45/100\n",
      "0s - loss: 0.0021\n",
      "Epoch 46/100\n",
      "0s - loss: 0.0020\n",
      "Epoch 47/100\n",
      "0s - loss: 0.0021\n",
      "Epoch 48/100\n",
      "0s - loss: 0.0021\n",
      "Epoch 49/100\n",
      "0s - loss: 0.0021\n",
      "Epoch 50/100\n",
      "0s - loss: 0.0020\n",
      "Epoch 51/100\n",
      "0s - loss: 0.0020\n",
      "Epoch 52/100\n",
      "0s - loss: 0.0021\n",
      "Epoch 53/100\n",
      "0s - loss: 0.0021\n",
      "Epoch 54/100\n",
      "0s - loss: 0.0021\n",
      "Epoch 55/100\n",
      "0s - loss: 0.0021\n",
      "Epoch 56/100\n",
      "0s - loss: 0.0020\n",
      "Epoch 57/100\n",
      "0s - loss: 0.0021\n",
      "Epoch 58/100\n",
      "0s - loss: 0.0021\n",
      "Epoch 59/100\n",
      "0s - loss: 0.0021\n",
      "Epoch 60/100\n",
      "0s - loss: 0.0021\n",
      "Epoch 61/100\n",
      "0s - loss: 0.0021\n",
      "Epoch 62/100\n",
      "0s - loss: 0.0022\n",
      "Epoch 63/100\n",
      "0s - loss: 0.0021\n",
      "Epoch 64/100\n",
      "0s - loss: 0.0021\n",
      "Epoch 65/100\n",
      "0s - loss: 0.0020\n",
      "Epoch 66/100\n",
      "0s - loss: 0.0021\n",
      "Epoch 67/100\n",
      "0s - loss: 0.0021\n",
      "Epoch 68/100\n",
      "0s - loss: 0.0021\n",
      "Epoch 69/100\n",
      "0s - loss: 0.0021\n",
      "Epoch 70/100\n",
      "0s - loss: 0.0021\n",
      "Epoch 71/100\n",
      "0s - loss: 0.0021\n",
      "Epoch 72/100\n",
      "0s - loss: 0.0021\n",
      "Epoch 73/100\n",
      "0s - loss: 0.0021\n",
      "Epoch 74/100\n",
      "0s - loss: 0.0020\n",
      "Epoch 75/100\n",
      "0s - loss: 0.0021\n",
      "Epoch 76/100\n",
      "0s - loss: 0.0021\n",
      "Epoch 77/100\n",
      "0s - loss: 0.0021\n",
      "Epoch 78/100\n",
      "0s - loss: 0.0021\n",
      "Epoch 79/100\n",
      "0s - loss: 0.0021\n",
      "Epoch 80/100\n",
      "0s - loss: 0.0021\n",
      "Epoch 81/100\n",
      "0s - loss: 0.0021\n",
      "Epoch 82/100\n",
      "0s - loss: 0.0020\n",
      "Epoch 83/100\n",
      "0s - loss: 0.0021\n",
      "Epoch 84/100\n",
      "0s - loss: 0.0020\n",
      "Epoch 85/100\n",
      "0s - loss: 0.0021\n",
      "Epoch 86/100\n",
      "0s - loss: 0.0021\n",
      "Epoch 87/100\n",
      "0s - loss: 0.0021\n",
      "Epoch 88/100\n",
      "0s - loss: 0.0020\n",
      "Epoch 89/100\n",
      "0s - loss: 0.0020\n",
      "Epoch 90/100\n",
      "0s - loss: 0.0021\n",
      "Epoch 91/100\n",
      "0s - loss: 0.0020\n",
      "Epoch 92/100\n",
      "0s - loss: 0.0021\n",
      "Epoch 93/100\n",
      "0s - loss: 0.0020\n",
      "Epoch 94/100\n",
      "0s - loss: 0.0020\n",
      "Epoch 95/100\n",
      "0s - loss: 0.0021\n",
      "Epoch 96/100\n",
      "0s - loss: 0.0021\n",
      "Epoch 97/100\n",
      "0s - loss: 0.0021\n",
      "Epoch 98/100\n",
      "0s - loss: 0.0021\n",
      "Epoch 99/100\n",
      "0s - loss: 0.0021\n",
      "Epoch 100/100\n",
      "0s - loss: 0.0021\n"
     ]
    },
    {
     "data": {
      "text/plain": [
       "<keras.callbacks.History at 0x7fc5b5068358>"
      ]
     },
     "execution_count": 3,
     "metadata": {},
     "output_type": "execute_result"
    }
   ],
   "source": [
    "model = Sequential(name='LSTM Model')\n",
    "model.add(LSTM(output_dim=4, input_dim=1))\n",
    "model.add(Dense(output_dim=1))\n",
    "model.compile(loss='mean_squared_error', optimizer='adam')\n",
    "model.fit(train_x, train_y, nb_epoch=100, batch_size=1, verbose=2)"
   ]
  },
  {
   "cell_type": "code",
   "execution_count": 11,
   "metadata": {
    "collapsed": false
   },
   "outputs": [
    {
     "data": {
      "image/svg+xml": [
       "<svg height=\"221pt\" viewBox=\"0.00 0.00 325.00 221.00\" width=\"325pt\" xmlns=\"http://www.w3.org/2000/svg\" xmlns:xlink=\"http://www.w3.org/1999/xlink\">\n",
       "<g class=\"graph\" id=\"graph0\" transform=\"scale(1 1) rotate(0) translate(4 217)\">\n",
       "<title>G</title>\n",
       "<polygon fill=\"white\" points=\"-4,4 -4,-217 321,-217 321,4 -4,4\" stroke=\"none\"/>\n",
       "<!-- 140487135652160 -->\n",
       "<g class=\"node\" id=\"node1\"><title>140487135652160</title>\n",
       "<polygon fill=\"none\" points=\"0,-166.5 0,-212.5 317,-212.5 317,-166.5 0,-166.5\" stroke=\"black\"/>\n",
       "<text font-family=\"Times,serif\" font-size=\"14.00\" text-anchor=\"middle\" x=\"78\" y=\"-185.8\">lstm_input_1: InputLayer</text>\n",
       "<polyline fill=\"none\" points=\"156,-166.5 156,-212.5 \" stroke=\"black\"/>\n",
       "<text font-family=\"Times,serif\" font-size=\"14.00\" text-anchor=\"middle\" x=\"183.5\" y=\"-197.3\">input:</text>\n",
       "<polyline fill=\"none\" points=\"156,-189.5 211,-189.5 \" stroke=\"black\"/>\n",
       "<text font-family=\"Times,serif\" font-size=\"14.00\" text-anchor=\"middle\" x=\"183.5\" y=\"-174.3\">output:</text>\n",
       "<polyline fill=\"none\" points=\"211,-166.5 211,-212.5 \" stroke=\"black\"/>\n",
       "<text font-family=\"Times,serif\" font-size=\"14.00\" text-anchor=\"middle\" x=\"264\" y=\"-197.3\">(None, None, 1)</text>\n",
       "<polyline fill=\"none\" points=\"211,-189.5 317,-189.5 \" stroke=\"black\"/>\n",
       "<text font-family=\"Times,serif\" font-size=\"14.00\" text-anchor=\"middle\" x=\"264\" y=\"-174.3\">(None, None, 1)</text>\n",
       "</g>\n",
       "<!-- 140487135651488 -->\n",
       "<g class=\"node\" id=\"node2\"><title>140487135651488</title>\n",
       "<polygon fill=\"none\" points=\"29,-83.5 29,-129.5 288,-129.5 288,-83.5 29,-83.5\" stroke=\"black\"/>\n",
       "<text font-family=\"Times,serif\" font-size=\"14.00\" text-anchor=\"middle\" x=\"78\" y=\"-102.8\">lstm_1: LSTM</text>\n",
       "<polyline fill=\"none\" points=\"127,-83.5 127,-129.5 \" stroke=\"black\"/>\n",
       "<text font-family=\"Times,serif\" font-size=\"14.00\" text-anchor=\"middle\" x=\"154.5\" y=\"-114.3\">input:</text>\n",
       "<polyline fill=\"none\" points=\"127,-106.5 182,-106.5 \" stroke=\"black\"/>\n",
       "<text font-family=\"Times,serif\" font-size=\"14.00\" text-anchor=\"middle\" x=\"154.5\" y=\"-91.3\">output:</text>\n",
       "<polyline fill=\"none\" points=\"182,-83.5 182,-129.5 \" stroke=\"black\"/>\n",
       "<text font-family=\"Times,serif\" font-size=\"14.00\" text-anchor=\"middle\" x=\"235\" y=\"-114.3\">(None, None, 1)</text>\n",
       "<polyline fill=\"none\" points=\"182,-106.5 288,-106.5 \" stroke=\"black\"/>\n",
       "<text font-family=\"Times,serif\" font-size=\"14.00\" text-anchor=\"middle\" x=\"235\" y=\"-91.3\">(None, 4)</text>\n",
       "</g>\n",
       "<!-- 140487135652160&#45;&gt;140487135651488 -->\n",
       "<g class=\"edge\" id=\"edge1\"><title>140487135652160-&gt;140487135651488</title>\n",
       "<path d=\"M158.5,-166.366C158.5,-158.152 158.5,-148.658 158.5,-139.725\" fill=\"none\" stroke=\"black\"/>\n",
       "<polygon fill=\"black\" points=\"162,-139.607 158.5,-129.607 155,-139.607 162,-139.607\" stroke=\"black\"/>\n",
       "</g>\n",
       "<!-- 140487135652104 -->\n",
       "<g class=\"node\" id=\"node3\"><title>140487135652104</title>\n",
       "<polygon fill=\"none\" points=\"45.5,-0.5 45.5,-46.5 271.5,-46.5 271.5,-0.5 45.5,-0.5\" stroke=\"black\"/>\n",
       "<text font-family=\"Times,serif\" font-size=\"14.00\" text-anchor=\"middle\" x=\"96.5\" y=\"-19.8\">dense_1: Dense</text>\n",
       "<polyline fill=\"none\" points=\"147.5,-0.5 147.5,-46.5 \" stroke=\"black\"/>\n",
       "<text font-family=\"Times,serif\" font-size=\"14.00\" text-anchor=\"middle\" x=\"175\" y=\"-31.3\">input:</text>\n",
       "<polyline fill=\"none\" points=\"147.5,-23.5 202.5,-23.5 \" stroke=\"black\"/>\n",
       "<text font-family=\"Times,serif\" font-size=\"14.00\" text-anchor=\"middle\" x=\"175\" y=\"-8.3\">output:</text>\n",
       "<polyline fill=\"none\" points=\"202.5,-0.5 202.5,-46.5 \" stroke=\"black\"/>\n",
       "<text font-family=\"Times,serif\" font-size=\"14.00\" text-anchor=\"middle\" x=\"237\" y=\"-31.3\">(None, 4)</text>\n",
       "<polyline fill=\"none\" points=\"202.5,-23.5 271.5,-23.5 \" stroke=\"black\"/>\n",
       "<text font-family=\"Times,serif\" font-size=\"14.00\" text-anchor=\"middle\" x=\"237\" y=\"-8.3\">(None, 1)</text>\n",
       "</g>\n",
       "<!-- 140487135651488&#45;&gt;140487135652104 -->\n",
       "<g class=\"edge\" id=\"edge2\"><title>140487135651488-&gt;140487135652104</title>\n",
       "<path d=\"M158.5,-83.3664C158.5,-75.1516 158.5,-65.6579 158.5,-56.7252\" fill=\"none\" stroke=\"black\"/>\n",
       "<polygon fill=\"black\" points=\"162,-56.6068 158.5,-46.6068 155,-56.6069 162,-56.6068\" stroke=\"black\"/>\n",
       "</g>\n",
       "</g>\n",
       "</svg>"
      ],
      "text/plain": [
       "<IPython.core.display.SVG object>"
      ]
     },
     "execution_count": 11,
     "metadata": {},
     "output_type": "execute_result"
    }
   ],
   "source": [
    "# # Visualization\n",
    "SVG(model_to_dot(model, show_shapes=True).create(prog='dot', format='svg'))"
   ]
  },
  {
   "cell_type": "markdown",
   "metadata": {
    "deletable": true,
    "editable": true
   },
   "source": [
    "## Evaluate"
   ]
  },
  {
   "cell_type": "code",
   "execution_count": 12,
   "metadata": {
    "collapsed": false,
    "deletable": true,
    "editable": true
   },
   "outputs": [
    {
     "name": "stdout",
     "output_type": "stream",
     "text": [
      "Train RMSE: 23.1462\n",
      "Test RMSE: 53.5707\n"
     ]
    }
   ],
   "source": [
    "# Inverse Transform\n",
    "train_predicted = scaler.inverse_transform(model.predict(train_x))\n",
    "train_inv_x = scaler.inverse_transform(train_x.reshape(-1, 1))\n",
    "train_inv_y = scaler.inverse_transform(train_y.reshape(-1, 1))\n",
    "\n",
    "test_predicted = scaler.inverse_transform(model.predict(test_x))\n",
    "test_inv_x = scaler.inverse_transform(test_x.reshape(-1, 1))\n",
    "test_inv_y = scaler.inverse_transform(test_y.reshape(-1, 1))\n",
    "\n",
    "\n",
    "# Reshape\n",
    "train_predicted = train_predicted.reshape(train_predicted.shape[0])\n",
    "test_predicted = test_predicted.reshape(test_predicted.shape[0])\n",
    "\n",
    "# MSE\n",
    "train_score = np.sqrt(mean_squared_error(train_predicted, train_inv_y))\n",
    "test_score = np.sqrt(mean_squared_error(test_predicted, test_inv_y))\n",
    "\n",
    "inv_data = scaler.inverse_transform(data)\n",
    "\n",
    "print('Train RMSE:', train_score)\n",
    "print('Test RMSE:', test_score)"
   ]
  },
  {
   "cell_type": "code",
   "execution_count": 13,
   "metadata": {
    "collapsed": false,
    "deletable": true,
    "editable": true
   },
   "outputs": [
    {
     "data": {
      "text/plain": [
       "<matplotlib.legend.Legend at 0x7fc5f95fa630>"
      ]
     },
     "execution_count": 13,
     "metadata": {},
     "output_type": "execute_result"
    },
    {
     "data": {
      "image/png": "[encoded data removed]",
      "text/plain": [
       "<matplotlib.figure.Figure at 0x7fc5f969e588>"
      ]
     },
     "metadata": {},
     "output_type": "display_data"
    }
   ],
   "source": [
    "\n",
    "# Plot True data\n",
    "x = range(len(train_inv_x) + len(test_inv_x))\n",
    "p1 = x[:len(train_inv_x)], train_inv_x\n",
    "p2 = x[len(train_inv_x): len(train_inv_x) + len(test_inv_x)], test_inv_x\n",
    "plot(*p1, color='#333333', label='true train')\n",
    "plot(*p2, color='#333333', label='true test')\n",
    "\n",
    "# Plot Predictions\n",
    "p3 = x[:len(train_predicted)], train_predicted\n",
    "p4 = x[len(train_predicted): len(train_predicted) + len(test_predicted)], test_predicted\n",
    "plot(*p3, color='red', label='train prediction')\n",
    "plot(*p4, color='red', label='test prediction')\n",
    "grid()\n",
    "\n",
    "legend(loc='upper left')"
   ]
  }
 ],
 "metadata": {
  "kernelspec": {
   "display_name": "Python 3",
   "language": "python",
   "name": "python3"
  },
  "language_info": {
   "codemirror_mode": {
    "name": "ipython",
    "version": 3
   },
   "file_extension": ".py",
   "mimetype": "text/x-python",
   "name": "python",
   "nbconvert_exporter": "python",
   "pygments_lexer": "ipython3",
   "version": "3.6.0"
  }
 },
 "nbformat": 4,
 "nbformat_minor": 2
}
