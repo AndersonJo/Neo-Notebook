{
 "cells": [
  {
   "cell_type": "markdown",
   "metadata": {
    "deletable": true,
    "editable": true
   },
   "source": [
    "# LSTM with Tensorflow \n",
    "\n",
    "* [Minimal RNN example in tensorflow](http://stackoverflow.com/questions/34417569/minimal-rnn-example-in-tensorflow)"
   ]
  },
  {
   "cell_type": "code",
   "execution_count": 2,
   "metadata": {
    "collapsed": false,
    "deletable": true,
    "editable": true
   },
   "outputs": [
    {
     "name": "stdout",
     "output_type": "stream",
     "text": [
      "Populating the interactive namespace from numpy and matplotlib\n"
     ]
    }
   ],
   "source": [
    "%pylab inline\n",
    "import numpy as np\n",
    "import tensorflow as tf\n",
    "import pandas as pd\n",
    "\n",
    "from sklearn.preprocessing import StandardScaler, MinMaxScaler\n",
    "from tensorflow.contrib.rnn import RNNCell, BasicLSTMCell, MultiRNNCell, DropoutWrapper\n",
    "from tensorflow.examples.tutorials.mnist import input_data\n",
    "from tensorflow.contrib import rnn\n",
    "from datetime import datetime"
   ]
  },
  {
   "cell_type": "markdown",
   "metadata": {
    "deletable": true,
    "editable": true
   },
   "source": [
    "### Data"
   ]
  },
  {
   "cell_type": "code",
   "execution_count": 3,
   "metadata": {
    "collapsed": false,
    "deletable": true,
    "editable": true
   },
   "outputs": [
    {
     "name": "stdout",
     "output_type": "stream",
     "text": [
      "Train X: (98, 1, 1)\n",
      "Train Y: (98, 1, 1)\n",
      "Test X: (42, 1, 1)\n",
      "Test Y: (42, 1, 1)\n"
     ]
    },
    {
     "data": {
      "text/plain": [
       "[<matplotlib.lines.Line2D at 0x7f447aa10a58>]"
      ]
     },
     "execution_count": 3,
     "metadata": {},
     "output_type": "execute_result"
    },
    {
     "data": {
      "image/png": "[encoded data removed]",
      "text/plain": [
       "<matplotlib.figure.Figure at 0x7f447ca864a8>"
      ]
     },
     "metadata": {},
     "output_type": "display_data"
    }
   ],
   "source": [
    "# Load Data\n",
    "data = pd.read_csv('../../data/time-series/international-airline-passengers.csv', \n",
    "                   names=['passenger'],\n",
    "                   skiprows=1, usecols=[1])\n",
    "\n",
    "# Normalize Data using Min-Max Scaler \n",
    "scaler = MinMaxScaler(feature_range=(0, 1))\n",
    "data = scaler.fit_transform(data)\n",
    "data = data.astype('float32')\n",
    "\n",
    "# Seperate Train and Test Data\n",
    "_size = int(len(data) * 0.7) # 144\n",
    "train, test = data[:_size], data[_size:] # 100, 44\n",
    "\n",
    "# convert an array of values into a dataset matrix\n",
    "def create_dataset(dataset, look_back=1):\n",
    "    dataX, dataY = [], []\n",
    "    for i in range(len(dataset)-look_back-1):\n",
    "        dataX.append(dataset[i])\n",
    "        dataY.append(dataset[i+1])\n",
    "    return np.array(dataX), np.array(dataY)\n",
    "\n",
    "def reshape(dataset):\n",
    "    return np.reshape(dataset, (dataset.shape[0], 1, dataset.shape[1]))\n",
    "\n",
    "look_back = 1\n",
    "train_x, train_y = create_dataset(train, look_back)\n",
    "test_x, test_y = create_dataset(test, look_back)\n",
    "\n",
    "train_x = reshape(train_x)\n",
    "train_y = reshape(train_y)\n",
    "test_x = reshape(test_x)\n",
    "test_y = reshape(test_y) \n",
    "\n",
    "print('Train X:', train_x.shape)\n",
    "print('Train Y:', train_y.shape)\n",
    "print('Test X:', test_x.shape)\n",
    "print('Test Y:', test_y.shape)\n",
    "\n",
    "title('International Airline Passengers per year')\n",
    "ylabel('the number of airline passengers')\n",
    "xlabel('years')\n",
    "grid()\n",
    "plot(data)"
   ]
  },
  {
   "cell_type": "markdown",
   "metadata": {
    "deletable": true,
    "editable": true
   },
   "source": [
    "### Model"
   ]
  },
  {
   "cell_type": "code",
   "execution_count": 4,
   "metadata": {
    "collapsed": false,
    "deletable": true,
    "editable": true
   },
   "outputs": [],
   "source": [
    "hidden_size = 1\n",
    "\n",
    "scope_name = 'test' + str(np.random.randint(0, 100000))\n",
    "with tf.variable_scope(scope_name):\n",
    "    inputs = tf.placeholder('float32', shape=[None, None, 1], name='inputs') # [batch, time, in]\n",
    "    targets = tf.placeholder('float32', shape=[None, None, 1], name='targets') # [batch, time, out]\n",
    "    \n",
    "    cell = BasicLSTMCell(hidden_size, forget_bias=1.0, state_is_tuple=True)\n",
    "#     cell = DropoutWrapper(cell)\n",
    "    state = cell.zero_state(1, 'float32')\n",
    "\n",
    "    rnn_outputs, rnn_states = tf.nn.dynamic_rnn(cell, inputs, initial_state=state, time_major=True)\n",
    "    rnn_outputs = tf.reshape(rnn_outputs, [-1, hidden_size])\n",
    "    \n",
    "    w = tf.get_variable('weights', [hidden_size, 1], initializer=tf.random_normal_initializer())\n",
    "    b = tf.get_variable('biases', [1, 1], initializer=tf.constant_initializer())\n",
    "    \n",
    "    dense1 = tf.matmul(rnn_outputs, w) + b\n",
    "    dense2 = tf.reduce_sum(dense1, reduction_indices=[1])\n",
    "    prediction = tf.nn.sigmoid(dense2)\n",
    "    \n",
    "    error2 = tf.square(targets - prediction)\n",
    "    error3 = tf.reduce_mean(error2, reduction_indices=[1, 2])\n",
    "    train_fn = tf.train.AdamOptimizer(learning_rate=0.001).minimize(error3)"
   ]
  },
  {
   "cell_type": "markdown",
   "metadata": {
    "deletable": true,
    "editable": true
   },
   "source": [
    "### Initialize Tensorflow Session and Variables"
   ]
  },
  {
   "cell_type": "code",
   "execution_count": 5,
   "metadata": {
    "collapsed": true,
    "deletable": true,
    "editable": true
   },
   "outputs": [],
   "source": [
    "init_op = tf.global_variables_initializer()\n",
    "\n",
    "gpu_options = tf.GPUOptions(per_process_gpu_memory_fraction=0.001, allow_growth=True)\n",
    "sess = tf.InteractiveSession(config=tf.ConfigProto(gpu_options=gpu_options))\n",
    "sess.run(init_op)"
   ]
  },
  {
   "cell_type": "markdown",
   "metadata": {
    "deletable": true,
    "editable": true
   },
   "source": [
    "### Train"
   ]
  },
  {
   "cell_type": "code",
   "execution_count": 28,
   "metadata": {
    "collapsed": false,
    "deletable": true,
    "editable": true,
    "scrolled": false
   },
   "outputs": [
    {
     "name": "stdout",
     "output_type": "stream",
     "text": [
      "Tensor(\"hi_22/concat:0\", shape=(1, 98), dtype=float32)\n",
      "걸린시각:1.821097 초\n"
     ]
    },
    {
     "data": {
      "text/plain": [
       "<matplotlib.legend.Legend at 0x7f439b9f2f28>"
      ]
     },
     "execution_count": 28,
     "metadata": {},
     "output_type": "execute_result"
    },
    {
     "data": {
      "image/png": "[encoded data removed]",
      "text/plain": [
       "<matplotlib.figure.Figure at 0x7f439f776518>"
      ]
     },
     "metadata": {},
     "output_type": "display_data"
    }
   ],
   "source": [
    "def train(x, y, test_x, test_y, epoch=1, train_less=0.0019, test_less=0.03):\n",
    "    global rnn_states\n",
    "    now = datetime.now()\n",
    "    N = len(x)\n",
    "    g_costs = []\n",
    "    g_test_costs = []\n",
    "    with tf.variable_scope('hi') as scope:\n",
    "        \n",
    "        for global_step in range(epoch):\n",
    "            costs = []\n",
    "\n",
    "            # Shuffle\n",
    "            permu = np.random.permutation(x.shape[0])\n",
    "            x = x[permu]\n",
    "            y = y[permu]\n",
    "\n",
    "\n",
    "            splitted_x = tf.split(x, [1 for _ in range(N)] , axis=0)\n",
    "            splitted_y = tf.split(y, [1 for _ in range(N)] , axis=0)\n",
    "            \n",
    "#             for split_x, split_y in zip(splitted_x, splitted_y):\n",
    "#                 print(split_x.eval())\n",
    "#                 cost, _ = sess.run([error3, train_fn], feed_dict={inputs: split_x, targets: split_y})\n",
    "#                 costs.append(np.sum(cost))\n",
    "                \n",
    "#                 split_x = tf.reshape(split_x, (1, 5))\n",
    "#                 scope.reuse_variables()\n",
    "#                 rnn_outputs, rnn_states = cell(split_x, rnn_states)\n",
    "            \n",
    "            outputs = []\n",
    "            for _ in range(N):\n",
    "                i = np.random.randint(0, N)\n",
    "                sample_x = tf.convert_to_tensor(x[i])\n",
    "                sample_y = tf.convert_to_tensor(y[i])\n",
    "                                \n",
    "                scope.reuse_variables()                  \n",
    "                rnn_outputs, rnn_states = cell(sample_x, rnn_states)\n",
    "                outputs.append(rnn_outputs)\n",
    "                \n",
    "            print(tf.concat(outputs, 1))\n",
    "            \n",
    "#             loss = tf.square(sample_y - rnn_outputs)\n",
    "#             loss = tf.reduce_mean(loss, reduction_indices=[1])\n",
    "#             train_fn = tf.train.AdamOptimizer(learning_rate=0.001).minimize(loss)\n",
    "\n",
    "#             cost, _ = sess.run([loss, train_fn], feed_dict={inputs: sample_x, targets: sample_y})\n",
    "                \n",
    "            \n",
    "#                 error2 = tf.square(targets - prediction)\n",
    "#                 error3 = tf.reduce_mean(error2, reduction_indices=[1, 2])\n",
    "#                 train_fn = tf.train.AdamOptimizer(learning_rate=0.001).minimize(error3)\n",
    "\n",
    "#                 cost, _ = sess.run([error3, train_fn], feed_dict={inputs: sample_x, targets: sample_y})\n",
    "#                 costs.append(np.sum(cost))\n",
    "                \n",
    "#                 sample_ = tf.convert_to_tensor(sample_x.reshape(1, 5))\n",
    "#                 rnn_outputs, rnn_states = cell(sample_, rnn_states)\n",
    "            break\n",
    "                \n",
    "\n",
    "            # Evaluate Training cost\n",
    "            _c = np.sum(costs)/len(costs)\n",
    "            g_costs.append(_c)\n",
    "\n",
    "            # Evaluate Test Cost\n",
    "            test_predicted = sess.run(error3, feed_dict={inputs: test_x, targets: test_y})\n",
    "            test_cost = np.sum(test_predicted)/len(test_predicted)\n",
    "            g_test_costs.append(test_cost)\n",
    "\n",
    "            print('\\r[%d]Training Cost: %.6f \\tTest Cost:%.6f' % (global_step + 1, _c, test_cost), end='')\n",
    "            if test_less > test_cost and train_less > _c:\n",
    "                break\n",
    "    \n",
    "    \n",
    "    seconds = (datetime.now() - now).total_seconds()\n",
    "    return seconds, g_costs, g_test_costs\n",
    "\n",
    "seconds, costs, test_costs = train(train_x, train_y, test_x, test_y)\n",
    "print('걸린시각:%s 초'% seconds)\n",
    "plot(costs, label='costs')\n",
    "plot(test_costs, label='test costs')\n",
    "grid()\n",
    "legend()"
   ]
  },
  {
   "cell_type": "code",
   "execution_count": 6,
   "metadata": {
    "collapsed": false,
    "deletable": true,
    "editable": true
   },
   "outputs": [
    {
     "name": "stderr",
     "output_type": "stream",
     "text": [
      "/usr/local/lib/python3.6/site-packages/sklearn/preprocessing/data.py:374: DeprecationWarning: Passing 1d arrays as data is deprecated in 0.17 and will raise ValueError in 0.19. Reshape your data either using X.reshape(-1, 1) if your data has a single feature or X.reshape(1, -1) if it contains a single sample.\n",
      "  warnings.warn(DEPRECATION_MSG_1D, DeprecationWarning)\n",
      "/usr/local/lib/python3.6/site-packages/sklearn/preprocessing/data.py:374: DeprecationWarning: Passing 1d arrays as data is deprecated in 0.17 and will raise ValueError in 0.19. Reshape your data either using X.reshape(-1, 1) if your data has a single feature or X.reshape(1, -1) if it contains a single sample.\n",
      "  warnings.warn(DEPRECATION_MSG_1D, DeprecationWarning)\n"
     ]
    },
    {
     "data": {
      "text/plain": [
       "<matplotlib.legend.Legend at 0x7f4f4836b080>"
      ]
     },
     "execution_count": 6,
     "metadata": {},
     "output_type": "execute_result"
    },
    {
     "data": {
      "image/png": "[encoded data removed]",
      "text/plain": [
       "<matplotlib.figure.Figure at 0x7f4f9b7660b8>"
      ]
     },
     "metadata": {},
     "output_type": "display_data"
    }
   ],
   "source": [
    "train_predicted = sess.run(prediction, feed_dict={inputs: train_x})\n",
    "test_predicted = sess.run(prediction, feed_dict={inputs: test_x})\n",
    "\n",
    "train_predicted = scaler.inverse_transform(train_predicted.reshape(train_predicted.shape[0]))\n",
    "test_predicted =  scaler.inverse_transform(test_predicted.reshape(test_predicted.shape[0]))\n",
    "\n",
    "plot_train_x = np.arange(0, train_predicted.shape[0])\n",
    "plot_test_x = np.arange(plot_train_x.shape[0] + 2, plot_train_x.shape[0] + test_predicted.shape[0] + 2)\n",
    "\n",
    "plot(scaler.inverse_transform(data), color='#333333', label='original data')\n",
    "plot(plot_train_x, train_predicted, plot_test_x, test_predicted, color='red', label='predict')\n",
    "\n",
    "legend(loc='upper left')"
   ]
  }
 ],
 "metadata": {
  "kernelspec": {
   "display_name": "Python 3",
   "language": "python",
   "name": "python3"
  },
  "language_info": {
   "codemirror_mode": {
    "name": "ipython",
    "version": 3
   },
   "file_extension": ".py",
   "mimetype": "text/x-python",
   "name": "python",
   "nbconvert_exporter": "python",
   "pygments_lexer": "ipython3",
   "version": "3.6.0"
  }
 },
 "nbformat": 4,
 "nbformat_minor": 2
}
