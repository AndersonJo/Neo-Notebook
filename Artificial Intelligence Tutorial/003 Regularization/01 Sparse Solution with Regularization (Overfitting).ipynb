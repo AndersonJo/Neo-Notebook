{
 "cells": [
  {
   "cell_type": "markdown",
   "metadata": {},
   "source": [
    "# Selecting meaningful features\n",
    "\n",
    "만약 a model이 test data보다 training data에서 더 정확한 값을 찍는다면.. Overfitting을 의심해봐야 합니다.<br>\n",
    "Overfitting은 실제 데이터에 generalization안된것이고, Model이 high variance를 갖고 있다고도 말을 합니다.<br>\n",
    "Model이 training data에 비해 **너무 지나치게 복잡성**을 갖으면 (too complex) overfitting의 원이이 되기도 합니다.<br>\n",
    "Overfitting을 막는 방법은 4가지가 있습니다.\n",
    "\n",
    "1. 더 많은 training data\n",
    "2. Introduce a penalty for complexity via refularization\n",
    "3. 더 적은 parameters와 더 간단한 Model을 적용\n",
    "4. Data의 dimensionality를 줄임"
   ]
  },
  {
   "cell_type": "markdown",
   "metadata": {},
   "source": [
    "### Norm Function\n",
    "\n",
    "공식적인 norm function의 공식은 다음과 같습니다.\n",
    "\n",
    "$$ \\| x \\|_p = \\left[ \\sum_i{ |x_i|^p } \\right]^{\\frac{1}{p}} $$\n",
    "\n",
    "L1, L2 regularization 모두 sparse feature vectors값을 "
   ]
  },
  {
   "cell_type": "markdown",
   "metadata": {},
   "source": [
    "### L1 Regularization\n",
    "\n",
    "L1은 absolute values of the weights 를 합친 값.\n",
    "\n",
    "$$ \\| w \\|_1 = \\sum^m_{j=1}| w_j | $$"
   ]
  },
  {
   "cell_type": "code",
   "execution_count": null,
   "metadata": {
    "collapsed": true
   },
   "outputs": [],
   "source": []
  }
 ],
 "metadata": {
  "kernelspec": {
   "display_name": "Python 3",
   "language": "python",
   "name": "python3"
  },
  "language_info": {
   "codemirror_mode": {
    "name": "ipython",
    "version": 3
   },
   "file_extension": ".py",
   "mimetype": "text/x-python",
   "name": "python",
   "nbconvert_exporter": "python",
   "pygments_lexer": "ipython3",
   "version": "3.6.0"
  }
 },
 "nbformat": 4,
 "nbformat_minor": 2
}
