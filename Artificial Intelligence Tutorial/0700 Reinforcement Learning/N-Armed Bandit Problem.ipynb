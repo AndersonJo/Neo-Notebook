{
 "cells": [
  {
   "cell_type": "markdown",
   "metadata": {},
   "source": [
    "# N-Armed Bandit Problem \n",
    "\n",
    "\n",
    "### Installation \n",
    "\n",
    "Gym에서 기본적으로 제공해주는 Environment가 없지만, 다행히도 JKCooper2라는 사람이 Environment를 만들었습니다.<br>\n",
    "아래는 설치 방법.. \n",
    "\n",
    "```\n",
    "git clone git@github.com:JKCooper2/gym-bandits.git\n",
    "cd gym-bandits\n",
    "pip install -e .\n",
    "```\n",
    "\n",
    "### N-Armed Bandit Problem\n",
    "\n",
    "한글로 하면 여러손이 달린 강도인데.. 슬롯머신이 옛날 이름입니다. <br>\n",
    "알고리즘은 Explotation 그리고 Exploration 둘중 어느것을 택할 것인지에 관한 문제가 핵심 입니다. <br>\n",
    "여러 방법들이 있습니다.<br>\n",
    "\n",
    "* epsilon을 계속 고정적으로 두는 방법 \n",
    "* decay를 사용하여 학습과 함께 점점 줄어드는 방법 (즉 처음에는 random하게 action을 선택을 많이 하지만 나중에는 greedy사용)\n",
    "* 언제부터 greedy를 사용할것인지.. (처음 200번은 무조건 랜덤하게만 선택)\n",
    "* 기타등등\n",
    "\n",
    "이런것에 따라서 같은 학습을 하더라도 최종 결과가 많이 달라질수 있습니다.<br>\n",
    "아래 예제에서는 서로 모든것이 동일하지만.. epsilon의 값이 다르면, 최종 rewards값이 달라질수 있음을 보여주는 예제 입니다."
   ]
  },
  {
   "cell_type": "code",
   "execution_count": 1,
   "metadata": {
    "collapsed": false
   },
   "outputs": [
    {
     "name": "stdout",
     "output_type": "stream",
     "text": [
      "Populating the interactive namespace from numpy and matplotlib\n"
     ]
    }
   ],
   "source": [
    "%pylab inline\n",
    "import gym_bandits\n",
    "import gym\n",
    "import numpy as np\n",
    "import pylab as plt"
   ]
  },
  {
   "cell_type": "code",
   "execution_count": 2,
   "metadata": {
    "collapsed": true
   },
   "outputs": [],
   "source": [
    "def visualize(rewards, epsilons, axarr=None, color=None, label=None, linestyle='-'):\n",
    "    if axarr is None:\n",
    "        figure, axarr = plt.subplots(2, sharex=False)\n",
    "    axarr[0].plot(rewards, color=color, label=label, linestyle=linestyle)\n",
    "    axarr[0].grid()\n",
    "    axarr[0].set_ylabel('rewards')\n",
    "    axarr[0].set_xlabel('the number of plays')\n",
    "    axarr[0].legend(loc='upper center')\n",
    "    \n",
    "    axarr[1].set_xlabel('the number of plays')\n",
    "    axarr[1].set_ylabel('epsilons')\n",
    "    axarr[1].plot(epsilons, color=color, label=label, linestyle=linestyle)\n",
    "    axarr[1].grid()\n",
    "    axarr[1].legend(loc='upper center')\n",
    "    \n",
    "    return axarr\n",
    "    "
   ]
  },
  {
   "cell_type": "code",
   "execution_count": 44,
   "metadata": {
    "collapsed": false
   },
   "outputs": [],
   "source": [
    "class Base(object):\n",
    "    def __init__(self, epsilon=0.1, start_step=0, total_step=2000):\n",
    "        self.env = gym.make(\"BanditTenArmedGaussian-v0\")\n",
    "        self.init(epsilon, start_step, total_step)\n",
    "        \n",
    "    def init(self, epsilon, start_step, total_step):\n",
    "        self.counts = np.zeros(self.env.action_space.n)\n",
    "        self.values = np.zeros(self.env.action_space.n)\n",
    "        self._epsilon = epsilon\n",
    "        self.total_step = total_step\n",
    "        self.start_step = start_step\n",
    "        \n",
    "        self.step = 0\n",
    "        \n",
    "    def again(self, epsilon=0.1, start_step=0, total_step=2000):\n",
    "        self.init(epsilon, start_step, total_step)\n",
    "        \n",
    "    def restart(self):\n",
    "        self.env.reset()\n",
    "        \n",
    "\n",
    "class NearlyGreedy(Base):\n",
    "    def train(self):\n",
    "        prev_reward = 0\n",
    "        total_rewards = []\n",
    "        total_epsilons = []\n",
    "        for self.step in range(self.total_step):\n",
    "            action = self.choose_arm()\n",
    "            state, reward, done, option = self.env.step(action)\n",
    "            self.update(action, reward)\n",
    "            \n",
    "            # For Plotting\n",
    "            prev_reward += reward\n",
    "            total_rewards.append(prev_reward)\n",
    "            total_epsilons.append(self.epsilon)\n",
    "        return total_rewards, total_epsilons\n",
    "    \n",
    "    def choose_arm(self):\n",
    "        if self.start_step < self.step and np.random.random() > self.epsilon:\n",
    "            # Exploitation\n",
    "            return np.argmax(self.values)\n",
    "        else:\n",
    "            # Exploration \n",
    "            return np.random.randint(self.env.action_space.n)\n",
    "        \n",
    "    def update(self, action, reward):\n",
    "        self.counts[action] += 1\n",
    "        n = self.counts[action]\n",
    "        v = self.values[action]\n",
    "        \n",
    "        new_v = (n - 1.)/float(n) * v + (reward/float(n))\n",
    "        self.values[action] = new_v\n",
    "        \n",
    "    @property\n",
    "    def epsilon(self):\n",
    "        return self._epsilon\n",
    "        return self.start_step*0.5/float(self.step + self.start_step*0.5) + self._epsilon\n",
    "        "
   ]
  },
  {
   "cell_type": "code",
   "execution_count": 66,
   "metadata": {
    "collapsed": false
   },
   "outputs": [
    {
     "name": "stderr",
     "output_type": "stream",
     "text": [
      "[2016-12-13 17:58:52,762] Making new env: BanditTenArmedGaussian-v0\n"
     ]
    },
    {
     "name": "stdout",
     "output_type": "stream",
     "text": [
      "values: [ 1.01544567 -0.10664768 -0.94037039  0.65263198 -0.49463699  0.91892484\n",
      "  0.56976674 -1.13404607  0.28561339 -0.622065  ]\n"
     ]
    },
    {
     "data": {
      "image/png": "[encoded data removed]",
      "text/plain": [
       "<matplotlib.figure.Figure at 0x7f5484253150>"
      ]
     },
     "metadata": {},
     "output_type": "display_data"
    }
   ],
   "source": [
    "nearly_greedy = NearlyGreedy(epsilon=0.01, start_step=1, total_step=1000)\n",
    "total_rewards, total_epsilons = nearly_greedy.train()\n",
    "axarr = visualize(total_rewards, total_epsilons, color='#555555', label='e=0.01', linestyle='-')\n",
    "\n",
    "# bandit = Bandit(epsilon=0.1, start_step=100)\n",
    "nearly_greedy.again(epsilon=0.1, start_step=1, total_step=1000)\n",
    "total_rewards, total_epsilons = nearly_greedy.train()\n",
    "visualize(total_rewards, total_epsilons, axarr=axarr, color='red', label='e=0.1', linestyle='--')\n",
    "print 'values:', nearly_greedy.values"
   ]
  }
 ],
 "metadata": {
  "kernelspec": {
   "display_name": "Python 2",
   "language": "python",
   "name": "python2"
  },
  "language_info": {
   "codemirror_mode": {
    "name": "ipython",
    "version": 2
   },
   "file_extension": ".py",
   "mimetype": "text/x-python",
   "name": "python",
   "nbconvert_exporter": "python",
   "pygments_lexer": "ipython2",
   "version": "2.7.12"
  }
 },
 "nbformat": 4,
 "nbformat_minor": 1
}
