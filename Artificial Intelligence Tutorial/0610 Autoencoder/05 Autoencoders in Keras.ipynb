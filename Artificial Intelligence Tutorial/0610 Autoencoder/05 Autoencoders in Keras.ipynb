{
 "cells": [
  {
   "cell_type": "markdown",
   "metadata": {},
   "source": [
    "# Autoencoders in Keras\n",
    "\n",
    "* [Building Autoencoders in Keras](https://blog.keras.io/building-autoencoders-in-keras.html)\n",
    "* [A Tutorial on Deep Learning PDF](http://ai.stanford.edu/~quocle/tutorial2.pdf)"
   ]
  },
  {
   "cell_type": "code",
   "execution_count": 66,
   "metadata": {
    "collapsed": false
   },
   "outputs": [
    {
     "name": "stdout",
     "output_type": "stream",
     "text": [
      "Populating the interactive namespace from numpy and matplotlib\n"
     ]
    }
   ],
   "source": [
    "%pylab inline\n",
    "from keras.layers import Input, Dense\n",
    "from keras.models import Model\n",
    "from keras.datasets import mnist\n",
    "\n",
    "from keras.utils.visualize_util import plot as keras_plot\n",
    "from IPython.display import SVG, Image\n",
    "from keras.utils.visualize_util import model_to_dot"
   ]
  },
  {
   "cell_type": "markdown",
   "metadata": {},
   "source": [
    "### Data "
   ]
  },
  {
   "cell_type": "code",
   "execution_count": 74,
   "metadata": {
    "collapsed": false
   },
   "outputs": [
    {
     "name": "stdout",
     "output_type": "stream",
     "text": [
      "Train x Shape: (60000, 28, 28)\n",
      "Train y Shape: (60000,)\n",
      "Test x Shape: (10000, 28, 28)\n",
      "Test y Shape: (10000,)\n"
     ]
    }
   ],
   "source": [
    "(train_x, train_y), (test_x, test_y) = mnist.load_data()\n",
    "train_x = train_x.astype('float32')\n",
    "train_y = train_y.astype('float32')\n",
    "test_x = test_x.astype('float32')\n",
    "test_y = test_y.astype('float32')\n",
    "\n",
    "print('Train x Shape:', train_x.shape)\n",
    "print('Train y Shape:', train_y.shape)\n",
    "print('Test x Shape:', test_x.shape)\n",
    "print('Test y Shape:', test_y.shape)"
   ]
  },
  {
   "cell_type": "markdown",
   "metadata": {},
   "source": [
    "### Autoencoder Model"
   ]
  },
  {
   "cell_type": "code",
   "execution_count": 68,
   "metadata": {
    "collapsed": false
   },
   "outputs": [
    {
     "data": {
      "image/svg+xml": [
       "<svg height=\"221pt\" viewBox=\"0.00 0.00 290.00 221.00\" width=\"290pt\" xmlns=\"http://www.w3.org/2000/svg\" xmlns:xlink=\"http://www.w3.org/1999/xlink\">\n",
       "<g class=\"graph\" id=\"graph0\" transform=\"scale(1 1) rotate(0) translate(4 217)\">\n",
       "<title>G</title>\n",
       "<polygon fill=\"white\" points=\"-4,4 -4,-217 286,-217 286,4 -4,4\" stroke=\"none\"/>\n",
       "<!-- 139736318143232 -->\n",
       "<g class=\"node\" id=\"node1\"><title>139736318143232</title>\n",
       "<polygon fill=\"none\" points=\"0,-166.5 0,-212.5 282,-212.5 282,-166.5 0,-166.5\" stroke=\"black\"/>\n",
       "<text font-family=\"Times,serif\" font-size=\"14.00\" text-anchor=\"middle\" x=\"72\" y=\"-185.8\">InputLayer: InputLayer</text>\n",
       "<polyline fill=\"none\" points=\"144,-166.5 144,-212.5 \" stroke=\"black\"/>\n",
       "<text font-family=\"Times,serif\" font-size=\"14.00\" text-anchor=\"middle\" x=\"171.5\" y=\"-197.3\">input:</text>\n",
       "<polyline fill=\"none\" points=\"144,-189.5 199,-189.5 \" stroke=\"black\"/>\n",
       "<text font-family=\"Times,serif\" font-size=\"14.00\" text-anchor=\"middle\" x=\"171.5\" y=\"-174.3\">output:</text>\n",
       "<polyline fill=\"none\" points=\"199,-166.5 199,-212.5 \" stroke=\"black\"/>\n",
       "<text font-family=\"Times,serif\" font-size=\"14.00\" text-anchor=\"middle\" x=\"240.5\" y=\"-197.3\">(None, 784)</text>\n",
       "<polyline fill=\"none\" points=\"199,-189.5 282,-189.5 \" stroke=\"black\"/>\n",
       "<text font-family=\"Times,serif\" font-size=\"14.00\" text-anchor=\"middle\" x=\"240.5\" y=\"-174.3\">(None, 784)</text>\n",
       "</g>\n",
       "<!-- 139736318144128 -->\n",
       "<g class=\"node\" id=\"node2\"><title>139736318144128</title>\n",
       "<polygon fill=\"none\" points=\"7,-83.5 7,-129.5 275,-129.5 275,-83.5 7,-83.5\" stroke=\"black\"/>\n",
       "<text font-family=\"Times,serif\" font-size=\"14.00\" text-anchor=\"middle\" x=\"72\" y=\"-102.8\">EncodeLayer: Dense</text>\n",
       "<polyline fill=\"none\" points=\"137,-83.5 137,-129.5 \" stroke=\"black\"/>\n",
       "<text font-family=\"Times,serif\" font-size=\"14.00\" text-anchor=\"middle\" x=\"164.5\" y=\"-114.3\">input:</text>\n",
       "<polyline fill=\"none\" points=\"137,-106.5 192,-106.5 \" stroke=\"black\"/>\n",
       "<text font-family=\"Times,serif\" font-size=\"14.00\" text-anchor=\"middle\" x=\"164.5\" y=\"-91.3\">output:</text>\n",
       "<polyline fill=\"none\" points=\"192,-83.5 192,-129.5 \" stroke=\"black\"/>\n",
       "<text font-family=\"Times,serif\" font-size=\"14.00\" text-anchor=\"middle\" x=\"233.5\" y=\"-114.3\">(None, 784)</text>\n",
       "<polyline fill=\"none\" points=\"192,-106.5 275,-106.5 \" stroke=\"black\"/>\n",
       "<text font-family=\"Times,serif\" font-size=\"14.00\" text-anchor=\"middle\" x=\"233.5\" y=\"-91.3\">(None, 32)</text>\n",
       "</g>\n",
       "<!-- 139736318143232&#45;&gt;139736318144128 -->\n",
       "<g class=\"edge\" id=\"edge1\"><title>139736318143232-&gt;139736318144128</title>\n",
       "<path d=\"M141,-166.366C141,-158.152 141,-148.658 141,-139.725\" fill=\"none\" stroke=\"black\"/>\n",
       "<polygon fill=\"black\" points=\"144.5,-139.607 141,-129.607 137.5,-139.607 144.5,-139.607\" stroke=\"black\"/>\n",
       "</g>\n",
       "<!-- 139736317994320 -->\n",
       "<g class=\"node\" id=\"node3\"><title>139736317994320</title>\n",
       "<polygon fill=\"none\" points=\"6.5,-0.5 6.5,-46.5 275.5,-46.5 275.5,-0.5 6.5,-0.5\" stroke=\"black\"/>\n",
       "<text font-family=\"Times,serif\" font-size=\"14.00\" text-anchor=\"middle\" x=\"72\" y=\"-19.8\">DecodeLayer: Dense</text>\n",
       "<polyline fill=\"none\" points=\"137.5,-0.5 137.5,-46.5 \" stroke=\"black\"/>\n",
       "<text font-family=\"Times,serif\" font-size=\"14.00\" text-anchor=\"middle\" x=\"165\" y=\"-31.3\">input:</text>\n",
       "<polyline fill=\"none\" points=\"137.5,-23.5 192.5,-23.5 \" stroke=\"black\"/>\n",
       "<text font-family=\"Times,serif\" font-size=\"14.00\" text-anchor=\"middle\" x=\"165\" y=\"-8.3\">output:</text>\n",
       "<polyline fill=\"none\" points=\"192.5,-0.5 192.5,-46.5 \" stroke=\"black\"/>\n",
       "<text font-family=\"Times,serif\" font-size=\"14.00\" text-anchor=\"middle\" x=\"234\" y=\"-31.3\">(None, 32)</text>\n",
       "<polyline fill=\"none\" points=\"192.5,-23.5 275.5,-23.5 \" stroke=\"black\"/>\n",
       "<text font-family=\"Times,serif\" font-size=\"14.00\" text-anchor=\"middle\" x=\"234\" y=\"-8.3\">(None, 784)</text>\n",
       "</g>\n",
       "<!-- 139736318144128&#45;&gt;139736317994320 -->\n",
       "<g class=\"edge\" id=\"edge2\"><title>139736318144128-&gt;139736317994320</title>\n",
       "<path d=\"M141,-83.3664C141,-75.1516 141,-65.6579 141,-56.7252\" fill=\"none\" stroke=\"black\"/>\n",
       "<polygon fill=\"black\" points=\"144.5,-56.6068 141,-46.6068 137.5,-56.6069 144.5,-56.6068\" stroke=\"black\"/>\n",
       "</g>\n",
       "</g>\n",
       "</svg>"
      ],
      "text/plain": [
       "<IPython.core.display.SVG object>"
      ]
     },
     "execution_count": 68,
     "metadata": {},
     "output_type": "execute_result"
    }
   ],
   "source": [
    "encoding_dim = 32  \n",
    "\n",
    "input_img = Input(shape=(784,), name='InputLayer')\n",
    "encoded = Dense(output_dim=encoding_dim, activation='relu', name='EncodeLayer')(input_img)\n",
    "decoded = Dense(784, activation='sigmoid', name='DecodeLayer')(encoded)\n",
    "\n",
    "# Input -> Recontruction\n",
    "autoencoder = Model(input=input_img, output=decoded)\n",
    "\n",
    "# Visualization\n",
    "SVG(model_to_dot(autoencoder, show_shapes=True).create(prog='dot', format='svg'))"
   ]
  },
  {
   "cell_type": "markdown",
   "metadata": {},
   "source": [
    "### Encoder Model"
   ]
  },
  {
   "cell_type": "code",
   "execution_count": 63,
   "metadata": {
    "collapsed": false
   },
   "outputs": [
    {
     "data": {
      "image/svg+xml": [
       "<svg height=\"138pt\" viewBox=\"0.00 0.00 290.00 138.00\" width=\"290pt\" xmlns=\"http://www.w3.org/2000/svg\" xmlns:xlink=\"http://www.w3.org/1999/xlink\">\n",
       "<g class=\"graph\" id=\"graph0\" transform=\"scale(1 1) rotate(0) translate(4 134)\">\n",
       "<title>G</title>\n",
       "<polygon fill=\"white\" points=\"-4,4 -4,-134 286,-134 286,4 -4,4\" stroke=\"none\"/>\n",
       "<!-- 139736318744560 -->\n",
       "<g class=\"node\" id=\"node1\"><title>139736318744560</title>\n",
       "<polygon fill=\"none\" points=\"0,-83.5 0,-129.5 282,-129.5 282,-83.5 0,-83.5\" stroke=\"black\"/>\n",
       "<text font-family=\"Times,serif\" font-size=\"14.00\" text-anchor=\"middle\" x=\"72\" y=\"-102.8\">InputLayer: InputLayer</text>\n",
       "<polyline fill=\"none\" points=\"144,-83.5 144,-129.5 \" stroke=\"black\"/>\n",
       "<text font-family=\"Times,serif\" font-size=\"14.00\" text-anchor=\"middle\" x=\"171.5\" y=\"-114.3\">input:</text>\n",
       "<polyline fill=\"none\" points=\"144,-106.5 199,-106.5 \" stroke=\"black\"/>\n",
       "<text font-family=\"Times,serif\" font-size=\"14.00\" text-anchor=\"middle\" x=\"171.5\" y=\"-91.3\">output:</text>\n",
       "<polyline fill=\"none\" points=\"199,-83.5 199,-129.5 \" stroke=\"black\"/>\n",
       "<text font-family=\"Times,serif\" font-size=\"14.00\" text-anchor=\"middle\" x=\"240.5\" y=\"-114.3\">(None, 784)</text>\n",
       "<polyline fill=\"none\" points=\"199,-106.5 282,-106.5 \" stroke=\"black\"/>\n",
       "<text font-family=\"Times,serif\" font-size=\"14.00\" text-anchor=\"middle\" x=\"240.5\" y=\"-91.3\">(None, 784)</text>\n",
       "</g>\n",
       "<!-- 139736318744840 -->\n",
       "<g class=\"node\" id=\"node2\"><title>139736318744840</title>\n",
       "<polygon fill=\"none\" points=\"7,-0.5 7,-46.5 275,-46.5 275,-0.5 7,-0.5\" stroke=\"black\"/>\n",
       "<text font-family=\"Times,serif\" font-size=\"14.00\" text-anchor=\"middle\" x=\"72\" y=\"-19.8\">EncodeLayer: Dense</text>\n",
       "<polyline fill=\"none\" points=\"137,-0.5 137,-46.5 \" stroke=\"black\"/>\n",
       "<text font-family=\"Times,serif\" font-size=\"14.00\" text-anchor=\"middle\" x=\"164.5\" y=\"-31.3\">input:</text>\n",
       "<polyline fill=\"none\" points=\"137,-23.5 192,-23.5 \" stroke=\"black\"/>\n",
       "<text font-family=\"Times,serif\" font-size=\"14.00\" text-anchor=\"middle\" x=\"164.5\" y=\"-8.3\">output:</text>\n",
       "<polyline fill=\"none\" points=\"192,-0.5 192,-46.5 \" stroke=\"black\"/>\n",
       "<text font-family=\"Times,serif\" font-size=\"14.00\" text-anchor=\"middle\" x=\"233.5\" y=\"-31.3\">(None, 784)</text>\n",
       "<polyline fill=\"none\" points=\"192,-23.5 275,-23.5 \" stroke=\"black\"/>\n",
       "<text font-family=\"Times,serif\" font-size=\"14.00\" text-anchor=\"middle\" x=\"233.5\" y=\"-8.3\">(None, 32)</text>\n",
       "</g>\n",
       "<!-- 139736318744560&#45;&gt;139736318744840 -->\n",
       "<g class=\"edge\" id=\"edge1\"><title>139736318744560-&gt;139736318744840</title>\n",
       "<path d=\"M141,-83.3664C141,-75.1516 141,-65.6579 141,-56.7252\" fill=\"none\" stroke=\"black\"/>\n",
       "<polygon fill=\"black\" points=\"144.5,-56.6068 141,-46.6068 137.5,-56.6069 144.5,-56.6068\" stroke=\"black\"/>\n",
       "</g>\n",
       "</g>\n",
       "</svg>"
      ],
      "text/plain": [
       "<IPython.core.display.SVG object>"
      ]
     },
     "execution_count": 63,
     "metadata": {},
     "output_type": "execute_result"
    }
   ],
   "source": [
    "# Input Image -> Encoded \n",
    "encoder = Model(input=input_img, output=encoded, name='Input2')\n",
    "SVG(model_to_dot(encoder, show_shapes=True).create(prog='dot', format='svg'))"
   ]
  },
  {
   "cell_type": "markdown",
   "metadata": {},
   "source": [
    "### Decoder Model"
   ]
  },
  {
   "cell_type": "code",
   "execution_count": 65,
   "metadata": {
    "collapsed": false
   },
   "outputs": [
    {
     "data": {
      "image/svg+xml": [
       "<svg height=\"138pt\" viewBox=\"0.00 0.00 290.00 138.00\" width=\"290pt\" xmlns=\"http://www.w3.org/2000/svg\" xmlns:xlink=\"http://www.w3.org/1999/xlink\">\n",
       "<g class=\"graph\" id=\"graph0\" transform=\"scale(1 1) rotate(0) translate(4 134)\">\n",
       "<title>G</title>\n",
       "<polygon fill=\"white\" points=\"-4,4 -4,-134 286,-134 286,4 -4,4\" stroke=\"none\"/>\n",
       "<!-- 139736318744560 -->\n",
       "<g class=\"node\" id=\"node1\"><title>139736318744560</title>\n",
       "<polygon fill=\"none\" points=\"0,-83.5 0,-129.5 282,-129.5 282,-83.5 0,-83.5\" stroke=\"black\"/>\n",
       "<text font-family=\"Times,serif\" font-size=\"14.00\" text-anchor=\"middle\" x=\"72\" y=\"-102.8\">InputLayer: InputLayer</text>\n",
       "<polyline fill=\"none\" points=\"144,-83.5 144,-129.5 \" stroke=\"black\"/>\n",
       "<text font-family=\"Times,serif\" font-size=\"14.00\" text-anchor=\"middle\" x=\"171.5\" y=\"-114.3\">input:</text>\n",
       "<polyline fill=\"none\" points=\"144,-106.5 199,-106.5 \" stroke=\"black\"/>\n",
       "<text font-family=\"Times,serif\" font-size=\"14.00\" text-anchor=\"middle\" x=\"171.5\" y=\"-91.3\">output:</text>\n",
       "<polyline fill=\"none\" points=\"199,-83.5 199,-129.5 \" stroke=\"black\"/>\n",
       "<text font-family=\"Times,serif\" font-size=\"14.00\" text-anchor=\"middle\" x=\"240.5\" y=\"-114.3\">(None, 784)</text>\n",
       "<polyline fill=\"none\" points=\"199,-106.5 282,-106.5 \" stroke=\"black\"/>\n",
       "<text font-family=\"Times,serif\" font-size=\"14.00\" text-anchor=\"middle\" x=\"240.5\" y=\"-91.3\">(None, 784)</text>\n",
       "</g>\n",
       "<!-- 139736318744840 -->\n",
       "<g class=\"node\" id=\"node2\"><title>139736318744840</title>\n",
       "<polygon fill=\"none\" points=\"7,-0.5 7,-46.5 275,-46.5 275,-0.5 7,-0.5\" stroke=\"black\"/>\n",
       "<text font-family=\"Times,serif\" font-size=\"14.00\" text-anchor=\"middle\" x=\"72\" y=\"-19.8\">EncodeLayer: Dense</text>\n",
       "<polyline fill=\"none\" points=\"137,-0.5 137,-46.5 \" stroke=\"black\"/>\n",
       "<text font-family=\"Times,serif\" font-size=\"14.00\" text-anchor=\"middle\" x=\"164.5\" y=\"-31.3\">input:</text>\n",
       "<polyline fill=\"none\" points=\"137,-23.5 192,-23.5 \" stroke=\"black\"/>\n",
       "<text font-family=\"Times,serif\" font-size=\"14.00\" text-anchor=\"middle\" x=\"164.5\" y=\"-8.3\">output:</text>\n",
       "<polyline fill=\"none\" points=\"192,-0.5 192,-46.5 \" stroke=\"black\"/>\n",
       "<text font-family=\"Times,serif\" font-size=\"14.00\" text-anchor=\"middle\" x=\"233.5\" y=\"-31.3\">(None, 784)</text>\n",
       "<polyline fill=\"none\" points=\"192,-23.5 275,-23.5 \" stroke=\"black\"/>\n",
       "<text font-family=\"Times,serif\" font-size=\"14.00\" text-anchor=\"middle\" x=\"233.5\" y=\"-8.3\">(None, 32)</text>\n",
       "</g>\n",
       "<!-- 139736318744560&#45;&gt;139736318744840 -->\n",
       "<g class=\"edge\" id=\"edge1\"><title>139736318744560-&gt;139736318744840</title>\n",
       "<path d=\"M141,-83.3664C141,-75.1516 141,-65.6579 141,-56.7252\" fill=\"none\" stroke=\"black\"/>\n",
       "<polygon fill=\"black\" points=\"144.5,-56.6068 141,-46.6068 137.5,-56.6069 144.5,-56.6068\" stroke=\"black\"/>\n",
       "</g>\n",
       "</g>\n",
       "</svg>"
      ],
      "text/plain": [
       "<IPython.core.display.SVG object>"
      ]
     },
     "execution_count": 65,
     "metadata": {},
     "output_type": "execute_result"
    }
   ],
   "source": [
    "encoded_input = Input(shape=(encoding_dim,), name='Input3')\n",
    "decoded_layer = autoencoder.layers[-1] # 마지막 layer를 꺼내옴\n",
    "decoder = Model(input=encoded_input, output=decoded_layer(encoded_input))\n",
    "SVG(model_to_dot(encoder, show_shapes=True).create(prog='dot', format='svg'))"
   ]
  },
  {
   "cell_type": "markdown",
   "metadata": {},
   "source": [
    "### Training"
   ]
  },
  {
   "cell_type": "code",
   "execution_count": null,
   "metadata": {
    "collapsed": true
   },
   "outputs": [],
   "source": []
  }
 ],
 "metadata": {
  "kernelspec": {
   "display_name": "Python 3",
   "language": "python",
   "name": "python3"
  },
  "language_info": {
   "codemirror_mode": {
    "name": "ipython",
    "version": 3
   },
   "file_extension": ".py",
   "mimetype": "text/x-python",
   "name": "python",
   "nbconvert_exporter": "python",
   "pygments_lexer": "ipython3",
   "version": "3.6.0"
  }
 },
 "nbformat": 4,
 "nbformat_minor": 2
}
