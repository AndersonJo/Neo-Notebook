{
 "cells": [
  {
   "cell_type": "markdown",
   "metadata": {},
   "source": [
    "# Autoencoders in Keras\n",
    "\n",
    "* [Building Autoencoders in Keras](https://blog.keras.io/building-autoencoders-in-keras.html)\n",
    "* [A Tutorial on Deep Learning PDF](http://ai.stanford.edu/~quocle/tutorial2.pdf)"
   ]
  },
  {
   "cell_type": "code",
   "execution_count": 36,
   "metadata": {
    "collapsed": false
   },
   "outputs": [
    {
     "name": "stdout",
     "output_type": "stream",
     "text": [
      "Populating the interactive namespace from numpy and matplotlib\n"
     ]
    }
   ],
   "source": [
    "%pylab inline\n",
    "from keras.layers import Input, Dense\n",
    "from keras.models import Model\n",
    "\n",
    "from keras.utils.visualize_util import plot as keras_plot\n",
    "from IPython.display import SVG, Image\n",
    "from keras.utils.visualize_util import model_to_dot"
   ]
  },
  {
   "cell_type": "markdown",
   "metadata": {},
   "source": [
    "### Autoencoder Model"
   ]
  },
  {
   "cell_type": "code",
   "execution_count": 50,
   "metadata": {
    "collapsed": false
   },
   "outputs": [
    {
     "data": {
      "image/svg+xml": [
       "<svg height=\"221pt\" viewBox=\"0.00 0.00 292.00 221.00\" width=\"292pt\" xmlns=\"http://www.w3.org/2000/svg\" xmlns:xlink=\"http://www.w3.org/1999/xlink\">\n",
       "<g class=\"graph\" id=\"graph0\" transform=\"scale(1 1) rotate(0) translate(4 217)\">\n",
       "<title>G</title>\n",
       "<polygon fill=\"white\" points=\"-4,4 -4,-217 288,-217 288,4 -4,4\" stroke=\"none\"/>\n",
       "<!-- 139736326023488 -->\n",
       "<g class=\"node\" id=\"node1\"><title>139736326023488</title>\n",
       "<polygon fill=\"none\" points=\"0,-166.5 0,-212.5 284,-212.5 284,-166.5 0,-166.5\" stroke=\"black\"/>\n",
       "<text font-family=\"Times,serif\" font-size=\"14.00\" text-anchor=\"middle\" x=\"73\" y=\"-185.8\">input_layer: InputLayer</text>\n",
       "<polyline fill=\"none\" points=\"146,-166.5 146,-212.5 \" stroke=\"black\"/>\n",
       "<text font-family=\"Times,serif\" font-size=\"14.00\" text-anchor=\"middle\" x=\"173.5\" y=\"-197.3\">input:</text>\n",
       "<polyline fill=\"none\" points=\"146,-189.5 201,-189.5 \" stroke=\"black\"/>\n",
       "<text font-family=\"Times,serif\" font-size=\"14.00\" text-anchor=\"middle\" x=\"173.5\" y=\"-174.3\">output:</text>\n",
       "<polyline fill=\"none\" points=\"201,-166.5 201,-212.5 \" stroke=\"black\"/>\n",
       "<text font-family=\"Times,serif\" font-size=\"14.00\" text-anchor=\"middle\" x=\"242.5\" y=\"-197.3\">(None, 784)</text>\n",
       "<polyline fill=\"none\" points=\"201,-189.5 284,-189.5 \" stroke=\"black\"/>\n",
       "<text font-family=\"Times,serif\" font-size=\"14.00\" text-anchor=\"middle\" x=\"242.5\" y=\"-174.3\">(None, 784)</text>\n",
       "</g>\n",
       "<!-- 139736326022536 -->\n",
       "<g class=\"node\" id=\"node2\"><title>139736326022536</title>\n",
       "<polygon fill=\"none\" points=\"18.5,-83.5 18.5,-129.5 265.5,-129.5 265.5,-83.5 18.5,-83.5\" stroke=\"black\"/>\n",
       "<text font-family=\"Times,serif\" font-size=\"14.00\" text-anchor=\"middle\" x=\"73\" y=\"-102.8\">dense_69: Dense</text>\n",
       "<polyline fill=\"none\" points=\"127.5,-83.5 127.5,-129.5 \" stroke=\"black\"/>\n",
       "<text font-family=\"Times,serif\" font-size=\"14.00\" text-anchor=\"middle\" x=\"155\" y=\"-114.3\">input:</text>\n",
       "<polyline fill=\"none\" points=\"127.5,-106.5 182.5,-106.5 \" stroke=\"black\"/>\n",
       "<text font-family=\"Times,serif\" font-size=\"14.00\" text-anchor=\"middle\" x=\"155\" y=\"-91.3\">output:</text>\n",
       "<polyline fill=\"none\" points=\"182.5,-83.5 182.5,-129.5 \" stroke=\"black\"/>\n",
       "<text font-family=\"Times,serif\" font-size=\"14.00\" text-anchor=\"middle\" x=\"224\" y=\"-114.3\">(None, 784)</text>\n",
       "<polyline fill=\"none\" points=\"182.5,-106.5 265.5,-106.5 \" stroke=\"black\"/>\n",
       "<text font-family=\"Times,serif\" font-size=\"14.00\" text-anchor=\"middle\" x=\"224\" y=\"-91.3\">(None, 32)</text>\n",
       "</g>\n",
       "<!-- 139736326023488&#45;&gt;139736326022536 -->\n",
       "<g class=\"edge\" id=\"edge1\"><title>139736326023488-&gt;139736326022536</title>\n",
       "<path d=\"M142,-166.366C142,-158.152 142,-148.658 142,-139.725\" fill=\"none\" stroke=\"black\"/>\n",
       "<polygon fill=\"black\" points=\"145.5,-139.607 142,-129.607 138.5,-139.607 145.5,-139.607\" stroke=\"black\"/>\n",
       "</g>\n",
       "<!-- 139736364563928 -->\n",
       "<g class=\"node\" id=\"node3\"><title>139736364563928</title>\n",
       "<polygon fill=\"none\" points=\"18.5,-0.5 18.5,-46.5 265.5,-46.5 265.5,-0.5 18.5,-0.5\" stroke=\"black\"/>\n",
       "<text font-family=\"Times,serif\" font-size=\"14.00\" text-anchor=\"middle\" x=\"73\" y=\"-19.8\">dense_70: Dense</text>\n",
       "<polyline fill=\"none\" points=\"127.5,-0.5 127.5,-46.5 \" stroke=\"black\"/>\n",
       "<text font-family=\"Times,serif\" font-size=\"14.00\" text-anchor=\"middle\" x=\"155\" y=\"-31.3\">input:</text>\n",
       "<polyline fill=\"none\" points=\"127.5,-23.5 182.5,-23.5 \" stroke=\"black\"/>\n",
       "<text font-family=\"Times,serif\" font-size=\"14.00\" text-anchor=\"middle\" x=\"155\" y=\"-8.3\">output:</text>\n",
       "<polyline fill=\"none\" points=\"182.5,-0.5 182.5,-46.5 \" stroke=\"black\"/>\n",
       "<text font-family=\"Times,serif\" font-size=\"14.00\" text-anchor=\"middle\" x=\"224\" y=\"-31.3\">(None, 32)</text>\n",
       "<polyline fill=\"none\" points=\"182.5,-23.5 265.5,-23.5 \" stroke=\"black\"/>\n",
       "<text font-family=\"Times,serif\" font-size=\"14.00\" text-anchor=\"middle\" x=\"224\" y=\"-8.3\">(None, 784)</text>\n",
       "</g>\n",
       "<!-- 139736326022536&#45;&gt;139736364563928 -->\n",
       "<g class=\"edge\" id=\"edge2\"><title>139736326022536-&gt;139736364563928</title>\n",
       "<path d=\"M142,-83.3664C142,-75.1516 142,-65.6579 142,-56.7252\" fill=\"none\" stroke=\"black\"/>\n",
       "<polygon fill=\"black\" points=\"145.5,-56.6068 142,-46.6068 138.5,-56.6069 145.5,-56.6068\" stroke=\"black\"/>\n",
       "</g>\n",
       "</g>\n",
       "</svg>"
      ],
      "text/plain": [
       "<IPython.core.display.SVG object>"
      ]
     },
     "execution_count": 50,
     "metadata": {},
     "output_type": "execute_result"
    }
   ],
   "source": [
    "encoding_dim = 32  \n",
    "\n",
    "input_img = Input(shape=(784,), name='input_layer')\n",
    "encoded = Dense(output_dim=encoding_dim, activation='relu')(input_img)\n",
    "decoded = Dense(784, activation='sigmoid')(encoded)\n",
    "\n",
    "# Input -> Recontruction\n",
    "autoencoder = Model(input=input_img, output=decoded)\n",
    "\n",
    "# Visualization\n",
    "SVG(model_to_dot(autoencoder, show_shapes=True).create(prog='dot', format='svg'))"
   ]
  },
  {
   "cell_type": "code",
   "execution_count": 39,
   "metadata": {
    "collapsed": false
   },
   "outputs": [],
   "source": [
    "d = model_to_dot(autoencoder)\n"
   ]
  },
  {
   "cell_type": "code",
   "execution_count": null,
   "metadata": {
    "collapsed": true
   },
   "outputs": [],
   "source": [
    "model_to_dot(autoencoder).create"
   ]
  },
  {
   "cell_type": "markdown",
   "metadata": {},
   "source": [
    "### Encoder Model"
   ]
  },
  {
   "cell_type": "code",
   "execution_count": 4,
   "metadata": {
    "collapsed": true
   },
   "outputs": [],
   "source": [
    "# Input Image -> Encoded \n",
    "encoder = Model(input=input_img, output=encoded)"
   ]
  },
  {
   "cell_type": "markdown",
   "metadata": {},
   "source": [
    "### Decoder Model"
   ]
  },
  {
   "cell_type": "code",
   "execution_count": 14,
   "metadata": {
    "collapsed": false
   },
   "outputs": [
    {
     "name": "stdout",
     "output_type": "stream",
     "text": [
      "<keras.engine.topology.InputLayer object at 0x7f083f5a9ef0>\n",
      "<keras.layers.core.Dense object at 0x7f083f537128>\n",
      "<keras.layers.core.Dense object at 0x7f083f537438>\n"
     ]
    }
   ],
   "source": [
    "encoded_input = Input(shape=(encoding_dim,))\n",
    "for layer in autoencoder.layers:\n",
    "    print(layer)\n"
   ]
  }
 ],
 "metadata": {
  "kernelspec": {
   "display_name": "Python 3",
   "language": "python",
   "name": "python3"
  },
  "language_info": {
   "codemirror_mode": {
    "name": "ipython",
    "version": 3
   },
   "file_extension": ".py",
   "mimetype": "text/x-python",
   "name": "python",
   "nbconvert_exporter": "python",
   "pygments_lexer": "ipython3",
   "version": "3.6.0"
  }
 },
 "nbformat": 4,
 "nbformat_minor": 2
}
