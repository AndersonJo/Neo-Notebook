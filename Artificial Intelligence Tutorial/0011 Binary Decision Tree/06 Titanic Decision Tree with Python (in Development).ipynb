{
 "cells": [
  {
   "cell_type": "code",
   "execution_count": 82,
   "metadata": {
    "collapsed": false
   },
   "outputs": [
    {
     "name": "stdout",
     "output_type": "stream",
     "text": [
      "Populating the interactive namespace from numpy and matplotlib\n"
     ]
    }
   ],
   "source": [
    "%pylab inline\n",
    "import pandas as pd\n",
    "import numpy as np\n",
    "from statsmodels.tools import categorical"
   ]
  },
  {
   "cell_type": "markdown",
   "metadata": {},
   "source": [
    "# Data\n",
    "\n",
    "\n",
    "[Kaggle Titanic Data](https://www.kaggle.com/c/titanic/data)에서 자세한 데이터 정보를 얻을수 있습니다."
   ]
  },
  {
   "cell_type": "code",
   "execution_count": 168,
   "metadata": {
    "collapsed": false
   },
   "outputs": [
    {
     "name": "stdout",
     "output_type": "stream",
     "text": [
      "[[  0.       0.      22.     ...,   0.       7.25     0.    ]\n",
      " [  1.       1.      38.     ...,   0.      71.2833   1.    ]\n",
      " [  0.       1.      26.     ...,   0.       7.925    0.    ]\n",
      " ..., \n",
      " [  0.       1.          nan ...,   2.      23.45     0.    ]\n",
      " [  1.       0.      26.     ...,   0.      30.       1.    ]\n",
      " [  0.       0.      32.     ...,   0.       7.75     2.    ]]\n",
      "[Training Data]\n",
      "   Survived  Pclass  Sex   Age  SibSp  Parch     Fare  Embarked\n",
      "0         0       0    0  22.0      1      0   7.2500         0\n",
      "1         1       1    1  38.0      1      0  71.2833         1\n",
      "2         1       0    1  26.0      0      0   7.9250         0\n",
      "3         1       1    1  35.0      1      0  53.1000         0\n",
      "4         0       0    0  35.0      0      0   8.0500         0\n",
      "\n",
      "[Test Data]\n",
      "Survived      int64\n",
      "Pclass        int64\n",
      "Sex           int64\n",
      "Age         float64\n",
      "SibSp         int64\n",
      "Parch         int64\n",
      "Fare        float64\n",
      "Embarked      int64\n",
      "dtype: object\n"
     ]
    }
   ],
   "source": [
    "# Train Data\n",
    "train = pd.read_csv('../../data/titanic/train.csv', usecols=(1, 2, 4, 5, 6, 7, 9, 11))\n",
    "train['Survived'] = train['Survived'].factorize()[0]\n",
    "train['Pclass'] = train['Pclass'].factorize()[0]\n",
    "train['Sex'] = train['Sex'].factorize()[0]\n",
    "train['Embarked'] = train['Embarked'].factorize()[0]\n",
    "\n",
    "train_x = train.drop('Survived', axis=1).as_matrix()\n",
    "train_y = train['Survived'].as_matrix()\n",
    "\n",
    "\n",
    "# Test Data\n",
    "test = pd.read_csv('../../data/titanic/test.csv', usecols=(0, 1, 3, 4, 5, 6, 8, 10))\n",
    "test = pd.merge(test, pd.read_csv('../../data/titanic/gendermodel.csv'), on='PassengerId')\n",
    "test = test.drop('PassengerId', axis=1)\n",
    "\n",
    "test['Survived'] = test['Survived'].astype('category')\n",
    "test['Pclass'] = test['Pclass'].astype('category')\n",
    "test['Sex'] = test['Sex'].astype('category')\n",
    "test['Embarked'] = test['Embarked'].astype('category')\n",
    "\n",
    "test_x = test.drop('Survived', axis=1).as_matrix()\n",
    "test_y = test['Survived'].as_matrix()\n",
    "\n",
    "print '[Training Data]'\n",
    "print train.head()\n",
    "print\n",
    "\n",
    "print '[Test Data]'\n",
    "print train.dtypes"
   ]
  },
  {
   "cell_type": "code",
   "execution_count": 211,
   "metadata": {
    "collapsed": false
   },
   "outputs": [
    {
     "name": "stdout",
     "output_type": "stream",
     "text": [
      "[ True  True False  True  True False  True]\n",
      "[ True  True False  True  True False  True]\n"
     ]
    }
   ],
   "source": [
    "d = np.nanstd(train_x, axis=0)\n",
    "N, C = train_x.shape\n",
    "x = [len(np.unique(train_x[:, i]))/float(N) for i in xrange(C)]\n",
    "print x < np.mean(x)\n",
    "print d < 3"
   ]
  },
  {
   "cell_type": "markdown",
   "metadata": {},
   "source": [
    "# Decision Tree with Python"
   ]
  },
  {
   "cell_type": "code",
   "execution_count": 249,
   "metadata": {
    "collapsed": false
   },
   "outputs": [
    {
     "name": "stdout",
     "output_type": "stream",
     "text": [
      "0.448933782267\n",
      "0.35241301908\n",
      "0.317620650954\n",
      "0.239057239057\n",
      "0.27721661055\n"
     ]
    }
   ],
   "source": [
    "class DecisionTree(object):\n",
    "    \n",
    "    def __init__(self, impurity='error'):\n",
    "        assert impurity in ('entropy', 'gini', 'error')\n",
    "        self.impurity = getattr(self, impurity)\n",
    "        \n",
    "    def prepare_data(self, data):\n",
    "        self.categories = np.nanstd(data, axis=0) < 3\n",
    "    \n",
    "    def train(self, X, Y):\n",
    "        self.prepare_data(X)\n",
    "        \n",
    "        C = X.shape[1]\n",
    "        for i, is_categorical in enumerate(self.categories):\n",
    "            if is_categorical:\n",
    "                self.information_gain(X[:, i], X[:, i], Y)\n",
    "            \n",
    "        \n",
    "    def information_gain(self, p, x, y):\n",
    "        Dp = self.impurity(p)\n",
    "        \n",
    "    def entropy(self, p):\n",
    "        return -(p*np.log2(p) + (1-p)*np.log2(1-p))\n",
    "    \n",
    "    def gini(self, p):\n",
    "        return 1 - (p**2 + (1-p)**2)\n",
    "    \n",
    "    def error(self, data):\n",
    "        shapes = [float(data[data == c].size) for c in np.unique(data)]\n",
    "        shapes = shapes/np.sum(shapes)\n",
    "        return 1 - np.max(shapes)\n",
    "        \n",
    "        \n",
    "#         return 1 - np.max([p, 1-p], axis=0)\n",
    "    \n",
    "dt = DecisionTree()   \n",
    "dt.train(train_x, train_y)"
   ]
  }
 ],
 "metadata": {
  "kernelspec": {
   "display_name": "Python 2",
   "language": "python",
   "name": "python2"
  },
  "language_info": {
   "codemirror_mode": {
    "name": "ipython",
    "version": 2
   },
   "file_extension": ".py",
   "mimetype": "text/x-python",
   "name": "python",
   "nbconvert_exporter": "python",
   "pygments_lexer": "ipython2",
   "version": "2.7.12"
  }
 },
 "nbformat": 4,
 "nbformat_minor": 1
}
