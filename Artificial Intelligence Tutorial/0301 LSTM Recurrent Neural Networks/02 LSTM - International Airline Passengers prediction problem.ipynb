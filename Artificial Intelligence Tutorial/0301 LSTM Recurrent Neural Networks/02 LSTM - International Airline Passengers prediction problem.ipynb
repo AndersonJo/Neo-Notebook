{
 "cells": [
  {
   "cell_type": "markdown",
   "metadata": {},
   "source": [
    "# Long Short-Term Memory Network\n",
    "\n",
    "LSTM은 Backpropagation Through Time (BPTT)를 통해서 학습을 하며, vanishing gradient problem을 극복합니다.<br>\n",
    "일반적인 Deep Learning에서 사용하는 Neurons들은 없고, layers들로 연결된 Memory Block을 갖고 있습니다. \n",
    "\n",
    "Block은 gates의 요소를 갖고 있으며, Gates는 block의 state를 관리하게 됩니다.<br>\n",
    "일반적으로 다음과 같은 gates를 갖고 있습니다.\n",
    "\n",
    "* Forget Gate: 어떤 정보를 버릴지 정합니다.\n",
    "* Input Gate: Input 데이터에서 어떤 값들을 memory state에 업데이트할지 결정합니다.\n",
    "* Output Gate: Input값과 memory block에 기초하여 어떤 결과값(output)을 낼지 결정합니다.\n"
   ]
  },
  {
   "cell_type": "code",
   "execution_count": 1,
   "metadata": {
    "collapsed": false
   },
   "outputs": [
    {
     "name": "stdout",
     "output_type": "stream",
     "text": [
      "Populating the interactive namespace from numpy and matplotlib\n"
     ]
    },
    {
     "name": "stderr",
     "output_type": "stream",
     "text": [
      "Using TensorFlow backend.\n"
     ]
    }
   ],
   "source": [
    "%pylab inline\n",
    "import numpy as np\n",
    "import pandas as pd\n",
    "from sklearn.preprocessing import StandardScaler, MinMaxScaler\n",
    "from sklearn.metrics import mean_squared_error\n",
    "from keras.models import Sequential\n",
    "from keras.layers import Dense\n",
    "from keras.layers import LSTM\n",
    "\n",
    "from IPython.display import display\n",
    "\n",
    "np.random.seed(0) # fix the random number"
   ]
  },
  {
   "cell_type": "markdown",
   "metadata": {},
   "source": [
    "## Data\n",
    "\n",
    "International Airline Pessengers"
   ]
  },
  {
   "cell_type": "code",
   "execution_count": 2,
   "metadata": {
    "collapsed": false
   },
   "outputs": [],
   "source": [
    "# Load Data\n",
    "data = pd.read_csv('../../data/time-series/international-airline-passengers.csv', \n",
    "                   names=['passenger'],\n",
    "                   skiprows=1, usecols=[1])\n",
    "\n",
    "# Normalize Data using Min-Max Scaler \n",
    "scaler = MinMaxScaler(feature_range=(0, 1))\n",
    "data = scaler.fit_transform(data)\n",
    "data = data.astype('float32')\n",
    "\n",
    "# Seperate Train and Test Data\n",
    "_size = int(len(data) * 0.7) # 144\n",
    "train, test = data[:_size], data[_size:] # 100, 44\n",
    "\n",
    "# convert an array of values into a dataset matrix\n",
    "def create_dataset(dataset, look_back=1):\n",
    "    dataX, dataY = [], []\n",
    "    for i in range(len(dataset)-look_back-1):\n",
    "        dataX.append(dataset[i])\n",
    "        dataY.append(dataset[i+1][0])\n",
    "    return np.array(dataX), np.array(dataY)\n",
    "\n",
    "look_back = 1\n",
    "train_x, train_y = create_dataset(train, look_back)\n",
    "test_x, test_y = create_dataset(test, look_back)\n",
    "\n",
    "train_x = np.reshape(train_x, (train_x.shape[0], 1, train_x.shape[1]))\n",
    "test_x = np.reshape(test_x, (test_x.shape[0], 1, train_x.shape[1]))\n"
   ]
  },
  {
   "cell_type": "markdown",
   "metadata": {},
   "source": [
    "## LSTM Network Model"
   ]
  },
  {
   "cell_type": "code",
   "execution_count": 3,
   "metadata": {
    "collapsed": false,
    "scrolled": true
   },
   "outputs": [
    {
     "name": "stdout",
     "output_type": "stream",
     "text": [
      "WARNING:tensorflow:From /usr/local/lib/python3.6/site-packages/keras/backend/tensorflow_backend.py:1778: TensorArray.unpack (from tensorflow.python.ops.tensor_array_ops) is deprecated and will be removed after 2016-12-12.\n",
      "Instructions for updating:\n",
      "This op will be removed after the deprecation date. Please switch to tf.unstack.\n",
      "WARNING:tensorflow:From /usr/local/lib/python3.6/site-packages/keras/backend/tensorflow_backend.py:1833: TensorArray.pack (from tensorflow.python.ops.tensor_array_ops) is deprecated and will be removed after 2016-12-12.\n",
      "Instructions for updating:\n",
      "This op will be removed after the deprecation date. Please switch to tf.stack.\n",
      "Epoch 1/100\n",
      "1s - loss: 0.0555\n",
      "Epoch 2/100\n",
      "0s - loss: 0.0269\n",
      "Epoch 3/100\n",
      "0s - loss: 0.0194\n",
      "Epoch 4/100\n",
      "0s - loss: 0.0174\n",
      "Epoch 5/100\n",
      "0s - loss: 0.0161\n",
      "Epoch 6/100\n",
      "0s - loss: 0.0148\n",
      "Epoch 7/100\n",
      "0s - loss: 0.0136\n",
      "Epoch 8/100\n",
      "0s - loss: 0.0124\n",
      "Epoch 9/100\n",
      "0s - loss: 0.0111\n",
      "Epoch 10/100\n",
      "0s - loss: 0.0099\n",
      "Epoch 11/100\n",
      "0s - loss: 0.0087\n",
      "Epoch 12/100\n",
      "0s - loss: 0.0076\n",
      "Epoch 13/100\n",
      "0s - loss: 0.0065\n",
      "Epoch 14/100\n",
      "0s - loss: 0.0057\n",
      "Epoch 15/100\n",
      "0s - loss: 0.0048\n",
      "Epoch 16/100\n",
      "0s - loss: 0.0041\n",
      "Epoch 17/100\n",
      "0s - loss: 0.0035\n",
      "Epoch 18/100\n",
      "0s - loss: 0.0030\n",
      "Epoch 19/100\n",
      "0s - loss: 0.0027\n",
      "Epoch 20/100\n",
      "0s - loss: 0.0025\n",
      "Epoch 21/100\n",
      "0s - loss: 0.0023\n",
      "Epoch 22/100\n",
      "0s - loss: 0.0022\n",
      "Epoch 23/100\n",
      "0s - loss: 0.0022\n",
      "Epoch 24/100\n",
      "0s - loss: 0.0021\n",
      "Epoch 25/100\n",
      "0s - loss: 0.0021\n",
      "Epoch 26/100\n",
      "0s - loss: 0.0021\n",
      "Epoch 27/100\n",
      "0s - loss: 0.0021\n",
      "Epoch 28/100\n",
      "0s - loss: 0.0021\n",
      "Epoch 29/100\n",
      "0s - loss: 0.0021\n",
      "Epoch 30/100\n",
      "0s - loss: 0.0021\n",
      "Epoch 31/100\n",
      "0s - loss: 0.0021\n",
      "Epoch 32/100\n",
      "0s - loss: 0.0021\n",
      "Epoch 33/100\n",
      "0s - loss: 0.0021\n",
      "Epoch 34/100\n",
      "0s - loss: 0.0021\n",
      "Epoch 35/100\n",
      "0s - loss: 0.0021\n",
      "Epoch 36/100\n",
      "0s - loss: 0.0021\n",
      "Epoch 37/100\n",
      "0s - loss: 0.0021\n",
      "Epoch 38/100\n",
      "0s - loss: 0.0021\n",
      "Epoch 39/100\n",
      "0s - loss: 0.0021\n",
      "Epoch 40/100\n",
      "0s - loss: 0.0021\n",
      "Epoch 41/100\n",
      "0s - loss: 0.0021\n",
      "Epoch 42/100\n",
      "0s - loss: 0.0021\n",
      "Epoch 43/100\n",
      "0s - loss: 0.0021\n",
      "Epoch 44/100\n",
      "0s - loss: 0.0021\n",
      "Epoch 45/100\n",
      "0s - loss: 0.0021\n",
      "Epoch 46/100\n",
      "0s - loss: 0.0020\n",
      "Epoch 47/100\n",
      "0s - loss: 0.0021\n",
      "Epoch 48/100\n",
      "0s - loss: 0.0021\n",
      "Epoch 49/100\n",
      "0s - loss: 0.0021\n",
      "Epoch 50/100\n",
      "0s - loss: 0.0020\n",
      "Epoch 51/100\n",
      "0s - loss: 0.0020\n",
      "Epoch 52/100\n",
      "0s - loss: 0.0021\n",
      "Epoch 53/100\n",
      "0s - loss: 0.0021\n",
      "Epoch 54/100\n",
      "0s - loss: 0.0021\n",
      "Epoch 55/100\n",
      "0s - loss: 0.0021\n",
      "Epoch 56/100\n",
      "0s - loss: 0.0020\n",
      "Epoch 57/100\n",
      "0s - loss: 0.0021\n",
      "Epoch 58/100\n",
      "0s - loss: 0.0021\n",
      "Epoch 59/100\n",
      "0s - loss: 0.0021\n",
      "Epoch 60/100\n",
      "0s - loss: 0.0021\n",
      "Epoch 61/100\n",
      "0s - loss: 0.0021\n",
      "Epoch 62/100\n",
      "0s - loss: 0.0022\n",
      "Epoch 63/100\n",
      "0s - loss: 0.0021\n",
      "Epoch 64/100\n",
      "0s - loss: 0.0021\n",
      "Epoch 65/100\n",
      "0s - loss: 0.0020\n",
      "Epoch 66/100\n",
      "0s - loss: 0.0021\n",
      "Epoch 67/100\n",
      "0s - loss: 0.0021\n",
      "Epoch 68/100\n",
      "0s - loss: 0.0021\n",
      "Epoch 69/100\n",
      "0s - loss: 0.0021\n",
      "Epoch 70/100\n",
      "0s - loss: 0.0021\n",
      "Epoch 71/100\n",
      "0s - loss: 0.0021\n",
      "Epoch 72/100\n",
      "0s - loss: 0.0021\n",
      "Epoch 73/100\n",
      "0s - loss: 0.0021\n",
      "Epoch 74/100\n",
      "0s - loss: 0.0020\n",
      "Epoch 75/100\n",
      "0s - loss: 0.0021\n",
      "Epoch 76/100\n",
      "0s - loss: 0.0021\n",
      "Epoch 77/100\n",
      "0s - loss: 0.0021\n",
      "Epoch 78/100\n",
      "0s - loss: 0.0021\n",
      "Epoch 79/100\n",
      "0s - loss: 0.0021\n",
      "Epoch 80/100\n",
      "0s - loss: 0.0021\n",
      "Epoch 81/100\n",
      "0s - loss: 0.0021\n",
      "Epoch 82/100\n",
      "0s - loss: 0.0020\n",
      "Epoch 83/100\n",
      "0s - loss: 0.0021\n",
      "Epoch 84/100\n",
      "0s - loss: 0.0020\n",
      "Epoch 85/100\n",
      "0s - loss: 0.0021\n",
      "Epoch 86/100\n",
      "0s - loss: 0.0021\n",
      "Epoch 87/100\n",
      "0s - loss: 0.0021\n",
      "Epoch 88/100\n",
      "0s - loss: 0.0020\n",
      "Epoch 89/100\n",
      "0s - loss: 0.0020\n",
      "Epoch 90/100\n",
      "0s - loss: 0.0021\n",
      "Epoch 91/100\n",
      "0s - loss: 0.0020\n",
      "Epoch 92/100\n",
      "0s - loss: 0.0021\n",
      "Epoch 93/100\n",
      "0s - loss: 0.0020\n",
      "Epoch 94/100\n",
      "0s - loss: 0.0020\n",
      "Epoch 95/100\n",
      "0s - loss: 0.0021\n",
      "Epoch 96/100\n",
      "0s - loss: 0.0021\n",
      "Epoch 97/100\n",
      "0s - loss: 0.0021\n",
      "Epoch 98/100\n",
      "0s - loss: 0.0021\n",
      "Epoch 99/100\n",
      "0s - loss: 0.0021\n",
      "Epoch 100/100\n",
      "0s - loss: 0.0021\n"
     ]
    },
    {
     "data": {
      "text/plain": [
       "<keras.callbacks.History at 0x7f6f104165f8>"
      ]
     },
     "execution_count": 3,
     "metadata": {},
     "output_type": "execute_result"
    }
   ],
   "source": [
    "model = Sequential(name='LSTM Model')\n",
    "model.add(LSTM(output_dim=4, input_dim=1))\n",
    "model.add(Dense(output_dim=1))\n",
    "model.compile(loss='mean_squared_error', optimizer='adam')\n",
    "model.fit(train_x, train_y, nb_epoch=100, batch_size=1, verbose=2)"
   ]
  },
  {
   "cell_type": "markdown",
   "metadata": {},
   "source": [
    "## Evaluate"
   ]
  },
  {
   "cell_type": "code",
   "execution_count": 4,
   "metadata": {
    "collapsed": false
   },
   "outputs": [
    {
     "name": "stdout",
     "output_type": "stream",
     "text": [
      "Train RMSE: 23.1462\n",
      "Test RMSE: 53.5707\n"
     ]
    },
    {
     "name": "stderr",
     "output_type": "stream",
     "text": [
      "/usr/local/lib/python3.6/site-packages/sklearn/preprocessing/data.py:374: DeprecationWarning: Passing 1d arrays as data is deprecated in 0.17 and will raise ValueError in 0.19. Reshape your data either using X.reshape(-1, 1) if your data has a single feature or X.reshape(1, -1) if it contains a single sample.\n",
      "  warnings.warn(DEPRECATION_MSG_1D, DeprecationWarning)\n",
      "/usr/local/lib/python3.6/site-packages/sklearn/preprocessing/data.py:374: DeprecationWarning: Passing 1d arrays as data is deprecated in 0.17 and will raise ValueError in 0.19. Reshape your data either using X.reshape(-1, 1) if your data has a single feature or X.reshape(1, -1) if it contains a single sample.\n",
      "  warnings.warn(DEPRECATION_MSG_1D, DeprecationWarning)\n"
     ]
    }
   ],
   "source": [
    "train_predicted = scaler.inverse_transform(model.predict(train_x))\n",
    "train_y = scaler.inverse_transform(train_y)\n",
    "test_predicted = scaler.inverse_transform(model.predict(test_x))\n",
    "test_y = scaler.inverse_transform(test_y)\n",
    "\n",
    "train_predicted = train_predicted.reshape(train_predicted.shape[0])\n",
    "test_predicted = test_predicted.reshape(test_predicted.shape[0])\n",
    "\n",
    "train_score = np.sqrt(mean_squared_error(train_predicted, train_y))\n",
    "test_score = np.sqrt(mean_squared_error(test_predicted, test_y))\n",
    "\n",
    "data = scaler.inverse_transform(data)\n",
    "\n",
    "print('Train RMSE:', train_score)\n",
    "print('Test RMSE:', test_score)"
   ]
  },
  {
   "cell_type": "code",
   "execution_count": 6,
   "metadata": {
    "collapsed": false
   },
   "outputs": [
    {
     "data": {
      "text/plain": [
       "<matplotlib.legend.Legend at 0x7f6f0b04cc18>"
      ]
     },
     "execution_count": 6,
     "metadata": {},
     "output_type": "execute_result"
    },
    {
     "data": {
      "image/png": "[encoded data removed]",
      "text/plain": [
       "<matplotlib.figure.Figure at 0x7f6f0adcf048>"
      ]
     },
     "metadata": {},
     "output_type": "display_data"
    }
   ],
   "source": [
    "train_size = len(train_predicted)\n",
    "test_size = len(test_predicted)\n",
    "plot_data = np.empty_like(data)\n",
    "plot_data = plot_data.reshape(plot_data.shape[0])\n",
    "plot_data[look_back:train_size + look_back] = train_predicted.reshape(train_predicted.shape[0])\n",
    "plot_data[train_size + look_back*2 + 1: len(data)-1] = test_predicted.reshape(test_predicted.shape[0])\n",
    "\n",
    "\n",
    "train_predicted.shape\n",
    "plot(data, color='#333333', label='original data')\n",
    "plot(plot_data, color='red', label='predict')\n",
    "legend(loc='upper left')"
   ]
  }
 ],
 "metadata": {
  "kernelspec": {
   "display_name": "Python 3",
   "language": "python",
   "name": "python3"
  },
  "language_info": {
   "codemirror_mode": {
    "name": "ipython",
    "version": 3
   },
   "file_extension": ".py",
   "mimetype": "text/x-python",
   "name": "python",
   "nbconvert_exporter": "python",
   "pygments_lexer": "ipython3",
   "version": "3.6.0"
  }
 },
 "nbformat": 4,
 "nbformat_minor": 2
}
