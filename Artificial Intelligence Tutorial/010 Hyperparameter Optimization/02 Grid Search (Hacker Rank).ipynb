{
 "cells": [
  {
   "cell_type": "code",
   "execution_count": 4,
   "metadata": {
    "collapsed": true
   },
   "outputs": [],
   "source": [
    "import numpy as np"
   ]
  },
  {
   "cell_type": "markdown",
   "metadata": {},
   "source": [
    "# Grid Search\n",
    "\n",
    "Grid search는 global Optimization으로서 search methods의 한 종류 입니다.<br>\n",
    "아래와 같은 패턴으로 검색을 하게 됩니다. <br>\n",
    "(그 외의 검색 방법으로 Spiral Search, Strip Search 등등이 있습니다.)\n",
    "\n",
    "<img src=\"./images/grid-search.jpg\">"
   ]
  },
  {
   "cell_type": "markdown",
   "metadata": {},
   "source": [
    "# The Grid Search (Hacker Rank)\n",
    "\n",
    "* [Hacker Rank - Grid Search](https://www.hackerrank.com/challenges/the-grid-search)\n",
    "\n",
    "다음과 같은 2 dimansional matrix의 패턴을 찾아내는 것이 문제.\n",
    "\n",
    "1234567890  \n",
    "09**876543**21  \n",
    "11**111111**11  \n",
    "11**111111**11  \n",
    "2222222222  \n",
    "\n",
    "예를 들어서 위의 matrix에서 다음과 같은 패턴을 찾아내는것. \n",
    "\n",
    "876543  \n",
    "111111  \n",
    "111111"
   ]
  },
  {
   "cell_type": "markdown",
   "metadata": {},
   "source": [
    "# Problem"
   ]
  },
  {
   "cell_type": "code",
   "execution_count": 63,
   "metadata": {
    "collapsed": false
   },
   "outputs": [
    {
     "data": {
      "text/plain": [
       "True"
      ]
     },
     "execution_count": 63,
     "metadata": {},
     "output_type": "execute_result"
    }
   ],
   "source": [
    "x = np.array([[7, 2, 8, 3, 4, 5, 5, 8, 6, 4], \n",
    "              [6, 7, 3, 1, 1, 5, 8, 6, 1, 9],\n",
    "              [8, 9, 8, 8, 2, 4, 2, 6, 4, 3],\n",
    "              [3, 8, 3, 0, 5, 8, 9, 3, 2, 4],\n",
    "              [2, 2, 2, 9, 5, 0, 5, 8, 1, 3],\n",
    "              [5, 6, 3, 3, 8, 4, 5, 3, 7, 4],\n",
    "              [6, 4, 7, 3, 5, 3, 0, 2, 9, 3], \n",
    "              [7, 0, 5, 3, 1, 0, 6, 6, 0, 1],\n",
    "              [0, 8, 3, 4, 2, 8, 2, 9, 5, 6],\n",
    "              [4, 6, 0, 7, 9, 2, 4, 1, 3, 7]])\n",
    "\n",
    "\n",
    "y = np.array([[9, 5, 0, 5], \n",
    "              [3, 8, 4, 5], \n",
    "              [3, 5, 3, 0]])\n",
    "\n",
    "def match(x, y, xi, xj):\n",
    "    for yi in range(y.shape[0]):\n",
    "        for yj in range(y.shape[1]):\n",
    "            try:\n",
    "                if x[xi + yi][xj + yj] != y[yi][yj]:\n",
    "                    return False\n",
    "            except IndexError:\n",
    "                return False\n",
    "    return True\n",
    "\n",
    "def grid_search(x, y):\n",
    "    for idx, v in np.ndenumerate(x):\n",
    "        matched = match(x, y, *idx)\n",
    "        if matched:\n",
    "            return True\n",
    "    return False\n",
    "        \n",
    "\n",
    "grid_search(x, y)"
   ]
  }
 ],
 "metadata": {
  "kernelspec": {
   "display_name": "Python 3",
   "language": "python",
   "name": "python3"
  },
  "language_info": {
   "codemirror_mode": {
    "name": "ipython",
    "version": 3
   },
   "file_extension": ".py",
   "mimetype": "text/x-python",
   "name": "python",
   "nbconvert_exporter": "python",
   "pygments_lexer": "ipython3",
   "version": "3.6.0"
  }
 },
 "nbformat": 4,
 "nbformat_minor": 2
}
