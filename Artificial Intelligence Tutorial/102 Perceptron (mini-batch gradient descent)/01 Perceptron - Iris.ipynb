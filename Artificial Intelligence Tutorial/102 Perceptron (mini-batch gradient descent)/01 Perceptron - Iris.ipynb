{
 "cells": [
  {
   "cell_type": "markdown",
   "metadata": {},
   "source": [
    "# Iris Data Classification using Perceptron\n"
   ]
  },
  {
   "cell_type": "markdown",
   "metadata": {},
   "source": [
    "<img src=\"images/perceptron_model.png\" class=\"img-responsive img-rounded\">"
   ]
  },
  {
   "cell_type": "markdown",
   "metadata": {},
   "source": [
    "# Neural Network\n",
    "\n",
    "### Cost Function (Sum of squared Errors)\n",
    "\n",
    "먼저 **Object function** $ J(w) $ (Sum of squared Errors - SSE) 를 정의합니다.<br>\n",
    "이때 $ \\phi(z^{(i)}) $ 는 Identity activation function 입니다.\n",
    "\n",
    "$$ \\begin{align} \n",
    "z &= \\sum_{j=0} w_j x_j = w^T x + b \\\\\n",
    "\\phi(z^{(i)}) &= z^{(i)} \\\\\n",
    "J(w) &= \\frac{1}{N} \\sum_i \\left( y^{(i)} - \\phi(z^{(i)}) \\right)^2 \\\\\n",
    "\\end{align} $$\n",
    "\n",
    "### Calculate Gradient with regard to weights $ w $\n",
    "\n",
    "$$ \\begin{align} \n",
    "\\frac{\\partial J}{\\partial w_j} &= \\frac{\\partial}{\\partial w_j}  \\frac{1}{N} \\sum_i \\left(y^{(i)} - \\phi(z^{(i)}) \\right)^2 \\\\\n",
    "&= \\frac{2}{N} \\sum_i \\left( y^{(i)} - \\phi(z^{(i)}) \\right) \\frac{\\partial}{\\partial w_j} \\left(y^{(i)} - \\phi(z^{(i)}) \\right) \\\\\n",
    "&= \\frac{2}{N} \\sum_i \\left( y^{(i)} - \\phi(z^{(i)}) \\right) \\frac{\\partial}{\\partial w_j} \\left[ y^{(i)} - \\sum_k \\left( w^{(i)}_k x^{(i)}_k + b^{i} \\right) \\right] \\\\\n",
    "&= \\frac{2}{N} \\sum_i \\left( y^{(i)} - \\phi(z^{(i)}) \\right)(0 - (1 \\cdot x^{(i)}_j + 0 ) ) \\\\\n",
    "&= - \\frac{2}{N} \\sum_i \\left( y^{(i)} - \\phi(z^{(i)}) \\right) \\odot x^{(i)}_j\n",
    "\\end{align}$$\n",
    "\n",
    "### Calculate Gradient with regard to bias $ b $\n",
    "\n",
    "$$ \\begin{align} \n",
    "\\frac{\\partial J}{\\partial b_j} &= \\frac{\\partial}{\\partial b_j}  \\frac{1}{N} \\sum_i \\left(y^{(i)} - \\phi(z^{(i)}) \\right)^2 \\\\\n",
    "&= \\frac{2}{N} \\sum_i \\left( y^{(i)} - \\phi(z^{(i)}) \\right) \\frac{\\partial}{\\partial b_j} \\left(y^{(i)} - \\phi(z^{(i)}) \\right) \\\\\n",
    "&= \\frac{2}{N} \\sum_i \\left( y^{(i)} - \\phi(z^{(i)}) \\right) \\frac{\\partial}{\\partial b_j} \\left[ y^{(i)} - \\sum_k \\left( w^{(i)}_k x^{(i)}_k + b^{i} \\right) \\right] \\\\\n",
    "&= \\frac{2}{N} \\sum_i \\left( y^{(i)} - \\phi(z^{(i)}) \\right)(0 - (0 + 1 ) ) \\\\\n",
    "&= - \\frac{2}{N} \\sum_i \\left( y^{(i)} - \\phi(z^{(i)}) \\right) \n",
    "\\end{align}$$\n",
    "\n",
    "### Update Weights\n",
    "\n",
    "$$ \\begin{align} \n",
    "\\Delta w &= - \\eta \\nabla J(w)  \\\\\n",
    "w &= w + \\Delta w\n",
    "\\end{align}$$"
   ]
  },
  {
   "cell_type": "markdown",
   "metadata": {},
   "source": [
    "# Implementation\n",
    "\n",
    "## Import"
   ]
  },
  {
   "cell_type": "code",
   "execution_count": 1,
   "metadata": {
    "collapsed": false
   },
   "outputs": [
    {
     "name": "stdout",
     "output_type": "stream",
     "text": [
      "Populating the interactive namespace from numpy and matplotlib\n"
     ]
    }
   ],
   "source": [
    "%pylab inline\n",
    "import csv\n",
    "import pandas as pd\n",
    "import numpy as np\n",
    "from sklearn import datasets\n",
    "from IPython.display import Image"
   ]
  },
  {
   "cell_type": "markdown",
   "metadata": {},
   "source": [
    "## Data \n",
    "\n",
    "Iris Data..\n",
    "\n",
    "50개의 rows마다 각기 다른 classes들을 갖고 있음.. 그러니까 따로  Iris-Setosa, Iris-Versicolour, Iris-Virginica를 구별짓는 column이 없음. "
   ]
  },
  {
   "cell_type": "code",
   "execution_count": 2,
   "metadata": {
    "collapsed": false
   },
   "outputs": [
    {
     "data": {
      "text/plain": [
       "<matplotlib.legend.Legend at 0x7f0c18f6a588>"
      ]
     },
     "execution_count": 2,
     "metadata": {},
     "output_type": "execute_result"
    },
    {
     "data": {
      "image/png": "[encoded data removed]",
      "text/plain": [
       "<matplotlib.figure.Figure at 0x7f0c5806ce48>"
      ]
     },
     "metadata": {},
     "output_type": "display_data"
    }
   ],
   "source": [
    "iris = datasets.load_iris()\n",
    "data = iris.data\n",
    "\n",
    "scatter(data[:50, 0], data[:50, 2], color='blue', label='Setosa')\n",
    "scatter(data[50:100, 0], data[50:100, 2], color='red', label='Versicolor')\n",
    "# scatter(data[100:150, 0], data[100:150, 2], color='#333333', label='Virginica')\n",
    "legend(loc='upper left')"
   ]
  },
  {
   "cell_type": "code",
   "execution_count": 3,
   "metadata": {
    "collapsed": false,
    "scrolled": false
   },
   "outputs": [
    {
     "name": "stdout",
     "output_type": "stream",
     "text": [
      "Iris Plants Database\n",
      "====================\n",
      "\n",
      "Notes\n",
      "-----\n",
      "Data Set Characteristics:\n",
      "    :Number of Instances: 150 (50 in each of three classes)\n",
      "    :Number of Attributes: 4 numeric, predictive attributes and the class\n",
      "    :Attribute Information:\n",
      "        - sepal length in cm\n",
      "        - sepal width in cm\n",
      "        - petal length in cm\n",
      "        - petal width in cm\n",
      "        - class:\n",
      "                - Iris-Setosa\n",
      "                - Iris-Versicolour\n",
      "                - Iris-Virginica\n",
      "    :Summary Statistics:\n",
      "\n",
      "    ============== ==== ==== ======= ===== ====================\n",
      "                    Min  Max   Mean    SD   Class Correlation\n",
      "    ============== ==== ==== ======= ===== ====================\n",
      "    sepal length:   4.3  7.9   5.84   0.83    0.7826\n",
      "    sepal width:    2.0  4.4   3.05   0.43   -0.4194\n",
      "    petal length:   1.0  6.9   3.76   1.76    0.9490  (high!)\n",
      "    petal width:    0.1  2.5   1.20  0.76     0.9565  (high!)\n",
      "    ============== ==== ==== ======= ===== ====================\n",
      "\n"
     ]
    }
   ],
   "source": [
    "# Min-max Normalization\n",
    "# for i in range(data.shape[1]):\n",
    "#     data[:, i] = (data[:, i] - data[:,i].min()) / (data[:,i].max() - data[:,i].min())\n",
    "\n",
    "X = data[:100, [0, 2]]\n",
    "Y = iris.target[:100]\n",
    "Y = np.where(Y == 0, -1, 1)\n",
    "\n",
    "# Print Data Description\n",
    "print(iris.DESCR[:982])"
   ]
  },
  {
   "cell_type": "markdown",
   "metadata": {},
   "source": [
    "## Sigmoid and Derivative of sigmoidm\n",
    "\n",
    "sigmoid function 는 다음과 같습니다.\n",
    "\n",
    "$$ \\sigma(x) = \\dfrac{1}{1 + e^{-x}} $$\n",
    "\n",
    "Derivative of sigmoid 는 다음과 같습니다.\n",
    "\n",
    "$$ \\dfrac{d}{dx}\\sigma(x) = \\sigma(x)(1 - \\sigma(x)) $$\n",
    "\n",
    "자세한 설명.. \n",
    "\n",
    "$$ \\begin{align}\n",
    "\\dfrac{d}{dx} \\sigma(x) &= \\dfrac{d}{dx} \\left[ \\dfrac{1}{1 + e^{-x}} \\right] \\\\\n",
    "&= \\dfrac{d}{dx} \\left( 1 + \\mathrm{e}^{-x} \\right)^{-1} \\\\\n",
    "&= -(1 + e^{-x})^{-2}(-e^{-x}) \\\\\n",
    "&= \\dfrac{e^{-x}}{\\left(1 + e^{-x}\\right)^2} \\\\\n",
    "&= \\dfrac{1}{1 + e^{-x}\\ } \\cdot \\dfrac{e^{-x}}{1 + e^{-x}}  \\\\\n",
    "&= \\dfrac{1}{1 + e^{-x}\\ } \\cdot \\dfrac{(1 + e^{-x}) - 1}{1 + e^{-x}}  \\\\\n",
    "&= \\dfrac{1}{1 + e^{-x}\\ } \\cdot \\left( 1 - \\dfrac{1}{1 + e^{-x}} \\right) \\\\\n",
    "&= \\sigma(x) \\cdot (1 - \\sigma(x))\n",
    "\\end{align} $$"
   ]
  },
  {
   "cell_type": "markdown",
   "metadata": {},
   "source": [
    "## Cost Function - Sum of squared Errors (SSE)\n",
    "\n",
    "**Cost function** 은 **Sum of squared Errors (SSE)**를 사용합니다.\n",
    "\n",
    "$$ J(w) = \\frac{1}{2} \\sum_i \\left( y^{(i)} - \\phi(z^{(i)}) \\right)^2 $$\n",
    "\n",
    "이때.. net input은..  $ z = \\sum_{j=0} x_jw_j = w^Tx $  이고, <br>\n",
    "$ \\phi(z^{(i)}) $ 는 Activation function입니다."
   ]
  },
  {
   "cell_type": "markdown",
   "metadata": {},
   "source": [
    "## Backpropagation\n",
    "\n",
    "Weight update는 다음 공식처럼 합니다.\n",
    "\n",
    "$$ w = w + \\Delta w $$ \n",
    "\n",
    "$ \\Delta w $ 는 weight change 로서 learning rate를 곱한 negative gradient로 정의 됩니다. \n",
    "\n",
    "$$ \\Delta w = -\\eta \\nabla J(w) $$\n",
    "\n",
    "$$ \\nabla J(w) = \\frac{\\partial J}{\\partial w} = - \\sum \\left( y^{(i)} - \\phi(z^{(i)}) \\right) x^{(i)} $$\n",
    "\n",
    "bias에 들어가는 값은 다음과 같습니다.\n",
    "\n",
    "$$ bias = \\eta(y - \\phi(z^{(i)})) $$"
   ]
  },
  {
   "cell_type": "code",
   "execution_count": 4,
   "metadata": {
    "collapsed": false,
    "scrolled": false
   },
   "outputs": [
    {
     "name": "stdout",
     "output_type": "stream",
     "text": [
      "cost: 1.16\n",
      "cost: 0.1\n",
      "cost: 0.0\n",
      "cost: 0.0\n",
      "cost: 0.0\n",
      "cost: 0.0\n",
      "cost: 0.0\n",
      "cost: 0.0\n",
      "cost: 0.0\n",
      "cost: 0.0\n"
     ]
    },
    {
     "data": {
      "image/png": "[encoded data removed]",
      "text/plain": [
       "<matplotlib.figure.Figure at 0x7f0c18f61128>"
      ]
     },
     "metadata": {},
     "output_type": "display_data"
    }
   ],
   "source": [
    "class Perceptron(object):\n",
    "    \n",
    "    def __init__(self, learning_rate=0.02):\n",
    "        self.w = np.random.randn(2 + 1)\n",
    "        self.eta = learning_rate\n",
    "    \n",
    "    def predict(self, xdata):\n",
    "        phi = self.w[1:].dot(xdata.T) + self.w[0]\n",
    "        net = np.where(phi > 0, 1, -1)\n",
    "        return net                \n",
    "    \n",
    "    def relu(self, net):\n",
    "        return np.maximum(net, 0)\n",
    "    \n",
    "    def train(self, x_trains, y_trains, n_episode=10):\n",
    "        costs = []\n",
    "        \n",
    "        for self.step in range(n_episode):\n",
    "            cost = 0\n",
    "            \n",
    "            # Shuffle\n",
    "            rands = np.random.permutation(len(x_trains))\n",
    "            x_trains = x_trains[rands]\n",
    "            y_trains = y_trains[rands]\n",
    "            \n",
    "            for xi, yi in zip(x_trains, y_trains):\n",
    "                output = self.predict(xi)\n",
    "                                \n",
    "                update = self.eta * np.sum(yi - output)\n",
    "                self.w[1:] += update * xi\n",
    "                self.w[0] += update\n",
    "                \n",
    "                cost += np.sum((yi - output)**2)/2.\n",
    "                \n",
    "            costs.append( cost/len(x_trains))\n",
    "        return costs\n",
    "        \n",
    "            \n",
    "    def save(self):\n",
    "        np.save(open('iris.weights', 'wb'), perceptron.w)\n",
    "        \n",
    "    def load(self):\n",
    "        self.w = np.load(open('iris.weights', 'rb'))\n",
    "    \n",
    "    def cost(self, predicted_ys, ys):\n",
    "        ys - predicted_ys\n",
    "        \n",
    "perceptron = Perceptron()\n",
    "# perceptron.load()\n",
    "costs = perceptron.train(X, Y)\n",
    "\n",
    "# Plotting Costs\n",
    "title('Cost')\n",
    "xlabel('the number of epochs')\n",
    "ylabel('cost value')\n",
    "plot(costs, color='red')\n",
    "\n",
    "for cost in costs:\n",
    "    print('cost:', cost)"
   ]
  },
  {
   "cell_type": "markdown",
   "metadata": {},
   "source": [
    "### Evaluate\n",
    "\n",
    "사실.. 얼마나 정확한지 맞추는것보다.. 더 아래쪽에 어떻게 그래프가 그려지는지 확인하는게 더 중요하다.<br>\n",
    "1에 가까울수록 모두 맞은것.. 0으로 갈수록 틀린것"
   ]
  },
  {
   "cell_type": "code",
   "execution_count": 5,
   "metadata": {
    "collapsed": false
   },
   "outputs": [
    {
     "name": "stdout",
     "output_type": "stream",
     "text": [
      "accuracy: 1.0\n"
     ]
    }
   ],
   "source": [
    "predicts = perceptron.predict(X) == Y\n",
    "print('accuracy: ' + str(np.count_nonzero(predicts)/len(predicts)))"
   ]
  },
  {
   "cell_type": "code",
   "execution_count": 6,
   "metadata": {
    "collapsed": false
   },
   "outputs": [
    {
     "data": {
      "image/png": "[encoded data removed]",
      "text/plain": [
       "<matplotlib.figure.Figure at 0x7f0c18e4b5f8>"
      ]
     },
     "metadata": {},
     "output_type": "display_data"
    }
   ],
   "source": [
    "from matplotlib.colors import ListedColormap\n",
    "def plot_decision_regions(X, y, classifier, resolution=0.02):\n",
    "\n",
    "    # setup marker generator and color map\n",
    "    markers = ('s', 'x', 'o', '^', 'v')\n",
    "    colors = ('red', 'blue', 'lightgreen', 'gray', 'cyan')\n",
    "    cmap = ListedColormap(colors[:len(np.unique(y))])\n",
    "\n",
    "    # plot the decision surface\n",
    "    x1_min, x1_max = X[:, 0].min() - 1, X[:, 0].max() + 1\n",
    "    x2_min, x2_max = X[:, 1].min() - 1, X[:, 1].max() + 1\n",
    "    xx1, xx2 = np.meshgrid(np.arange(x1_min, x1_max, resolution),\n",
    "                         np.arange(x2_min, x2_max, resolution))\n",
    "    Z = classifier.predict(np.array([xx1.ravel(), xx2.ravel()]).T)\n",
    "    Z = Z.reshape(xx1.shape)\n",
    "    plt.contourf(xx1, xx2, Z, alpha=0.4, cmap=cmap)\n",
    "    plt.xlim(xx1.min(), xx1.max())\n",
    "    plt.ylim(xx2.min(), xx2.max())\n",
    "\n",
    "    # plot class samples\n",
    "    for idx, cl in enumerate(np.unique(y)):\n",
    "        plt.scatter(x=X[y == cl, 0], y=X[y == cl, 1],\n",
    "                    alpha=0.8, c=cmap(idx),\n",
    "                    marker=markers[idx], label=cl)\n",
    "\n",
    "plot_decision_regions(X, Y, classifier=perceptron)"
   ]
  },
  {
   "cell_type": "markdown",
   "metadata": {},
   "source": [
    "### References\n",
    "\n",
    "* [A Neural Network in 11 lines of Python (Part 1)](http://iamtrask.github.io/2015/07/12/basic-python-network/)"
   ]
  }
 ],
 "metadata": {
  "kernelspec": {
   "display_name": "Python 3",
   "language": "python",
   "name": "python3"
  },
  "language_info": {
   "codemirror_mode": {
    "name": "ipython",
    "version": 3
   },
   "file_extension": ".py",
   "mimetype": "text/x-python",
   "name": "python",
   "nbconvert_exporter": "python",
   "pygments_lexer": "ipython3",
   "version": "3.6.0"
  }
 },
 "nbformat": 4,
 "nbformat_minor": 1
}
