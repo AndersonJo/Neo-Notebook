{
 "cells": [
  {
   "cell_type": "markdown",
   "metadata": {},
   "source": [
    "# Introduction"
   ]
  },
  {
   "cell_type": "markdown",
   "metadata": {},
   "source": [
    "### Feature Slection vs Feature Extraction \n",
    "\n",
    "Dimensionality Reduction에는 2가지 종류의 스킬이 있습니다. \n",
    "\n",
    "1. Feature Selection: original features의 일부분 (subset)을 선택합니다. \n",
    "2. Feature Extraction: original features에서 중요한 정보를 꺼내서 **새로운** feature subspace를 만듭니다."
   ]
  },
  {
   "cell_type": "markdown",
   "metadata": {},
   "source": [
    "### Sequential Feature Selection Algorithm\n",
    "\n",
    "Sequential Feature Selection Algorithm은 greedy search algorithm으로서 <br>\n",
    "d-dimensional feature space를 k-dimensional feature subspace로 바꿔줍니다. <br>\n",
    "이때 k < d 라는 조건을 갖습니다.\n",
    "\n",
    "**특히 regularization을 지원하지 않는 알고리즘에 사용이 될 수 있는 장점이 있습니다. **\n",
    "\n",
    "특히 Model이 overfitting을 겪을 경우, Sequential Backward Selection (SBS)같은 알고리즘이.. <br>\n",
    "간혹 prediction수치 자체를 높이는 경우도 있습니다."
   ]
  },
  {
   "cell_type": "markdown",
   "metadata": {},
   "source": [
    "# Sequential Backward Selection (SBS)\n",
    "\n",
    "SBS알고리즘은 지정한 갯수의 features들을 뽑을때까지 계속 feature를 지워나가는 형태입니다. <br>\n",
    "이를 위해서 **Criterion function J**를 정의해야 합니다. \n",
    "\n",
    "$$  $$"
   ]
  },
  {
   "cell_type": "code",
   "execution_count": null,
   "metadata": {
    "collapsed": true
   },
   "outputs": [],
   "source": []
  }
 ],
 "metadata": {
  "kernelspec": {
   "display_name": "Python 3",
   "language": "python",
   "name": "python3"
  },
  "language_info": {
   "codemirror_mode": {
    "name": "ipython",
    "version": 3
   },
   "file_extension": ".py",
   "mimetype": "text/x-python",
   "name": "python",
   "nbconvert_exporter": "python",
   "pygments_lexer": "ipython3",
   "version": "3.6.0"
  }
 },
 "nbformat": 4,
 "nbformat_minor": 2
}
