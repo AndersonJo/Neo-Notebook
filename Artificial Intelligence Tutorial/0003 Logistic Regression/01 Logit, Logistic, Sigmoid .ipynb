{
 "cells": [
  {
   "cell_type": "markdown",
   "metadata": {
    "collapsed": true
   },
   "source": [
    "# Logistic Regression with Python Part I\n",
    "\n",
    "1. Logistic Regression을 하기전의 이론부분을 설명합니다. "
   ]
  },
  {
   "cell_type": "code",
   "execution_count": 34,
   "metadata": {
    "collapsed": false
   },
   "outputs": [
    {
     "name": "stdout",
     "output_type": "stream",
     "text": [
      "Populating the interactive namespace from numpy and matplotlib\n"
     ]
    }
   ],
   "source": [
    "%pylab inline\n",
    "import numpy as np\n",
    "from matplotlib import pyplot as plt"
   ]
  },
  {
   "cell_type": "markdown",
   "metadata": {},
   "source": [
    "# Odds\n",
    "\n",
    "odds라는 단어는 probability 와 유사하게 쓰이는 경우가 있고, 실제로 두개를 혼동해서 쓰는 경우가 있습니다. <br>\n",
    "하지만 두개는 명벽하게 다른 의미를 갖고 있습니다. \n",
    "\n",
    "**Probability VS Odds**\n",
    "\n",
    "1. **Probability(확률)**이란 $ \\frac{성공횟수}{전체\\ 시도\\ 횟수} $\n",
    "\n",
    "2. **Odds(승산)**이란 $ \\frac{성공횟수}{실패횟수} $\n",
    "\n",
    "\n",
    "**Euqal**\n",
    "\n",
    "1. **Equal Odds** 는 1입니다. 즉 매번 1번 실패할때마다 1번 성공한다는 뜻입니다. **1:1**\n",
    "\n",
    "2. **Equal Probabilities**는 0.5입니다. 2번 시도할때 1번 성공한다는 뜻입니다. \n",
    "\n",
    "**Range**\n",
    "\n",
    "1. **Odds**는 **0~무한** 까지의 범위를 갖고 있으며, 1이상일 경우 성공확률이 실패확률보다 높다는 뜻입니다. \n",
    "\n",
    "2. **Probability**는 **0~1**까지의 범위를 갖고 있습니다. \n",
    "\n",
    "\n",
    "**Converting between Odds and Probability**\n",
    "\n",
    "$$ Odds(Y) = \\frac{Pr(Y=1)}{Pr(Y=0)} = \\frac{Pr(Y=1)}{1-Pr(Y=1)} $$\n",
    "\n",
    "$$ Pr(Y=1) = \\frac{Odds(Y)}{1+Odds(Y)} = 1 - \\frac{1}{1+Odds(Y)} $$"
   ]
  },
  {
   "cell_type": "code",
   "execution_count": 3,
   "metadata": {
    "collapsed": false
   },
   "outputs": [
    {
     "data": {
      "text/plain": [
       "[<matplotlib.lines.Line2D at 0x7f02eaa79090>]"
      ]
     },
     "execution_count": 3,
     "metadata": {},
     "output_type": "execute_result"
    },
    {
     "data": {
      "image/png": "[encoded data removed]",
      "text/plain": [
       "<matplotlib.figure.Figure at 0x7f02ecb53dd0>"
      ]
     },
     "metadata": {},
     "output_type": "display_data"
    }
   ],
   "source": [
    "def odds(p):\n",
    "    return 1./(1.-p)\n",
    "\n",
    "x = np.arange(0, 1, 0.01)\n",
    "y = odds(x)\n",
    "\n",
    "plt.grid()\n",
    "plt.xticks(np.arange(0, 1, 0.1))\n",
    "\n",
    "plt.plot(x, y)"
   ]
  },
  {
   "cell_type": "markdown",
   "metadata": {},
   "source": [
    "# Logit Function\n",
    "\n",
    "odds에다가 log를 더해서 Linear Model 로 만든것이 Logit Function입니다. <br>\n",
    "odds자체를 쓰면 0.9이후부터 값이 급격하게 늘어나는 것을 위의 그래프에서 볼수 있습니다. <br>\n",
    "log를 씌워서 좀 더 Linear하게 값이 떨어지게 만든것이 Logit Function입니다. \n",
    "\n",
    "**Logistic Regression Model에서 log-odds는 Linear function으로 가정(assume)합니다.**\n",
    "\n",
    "### $$ logit(p) = ln(\\frac{1}{1 - p}) = w_0x_0 + w_1x_1 + ... + w_mx_m = \\sum^n_{i=0} w_mx_m = w^Tx $$\n",
    "\n",
    "<span class=\"text-muted\">이때 $ w_0 $ 의 값은 bias값으로서 constant이며, $ x_0 $의 값은 1로 줍니다.<br>\n",
    "즉 n의 값은 실제보다 +1 커지겠죠,. </span>"
   ]
  },
  {
   "cell_type": "code",
   "execution_count": 70,
   "metadata": {
    "collapsed": false
   },
   "outputs": [
    {
     "data": {
      "text/plain": [
       "[<matplotlib.lines.Line2D at 0x7f02ea8f95d0>]"
      ]
     },
     "execution_count": 70,
     "metadata": {},
     "output_type": "execute_result"
    },
    {
     "data": {
      "image/png": "[encoded data removed]",
      "text/plain": [
       "<matplotlib.figure.Figure at 0x7f02ea8f96d0>"
      ]
     },
     "metadata": {},
     "output_type": "display_data"
    }
   ],
   "source": [
    "def logit(p):\n",
    "    return np.log(1./(1.-p))\n",
    "    \n",
    "x = np.arange(0, 1, 0.01)\n",
    "y = logit(x)\n",
    "\n",
    "plt.grid()\n",
    "plt.plot(x, y)"
   ]
  },
  {
   "cell_type": "markdown",
   "metadata": {},
   "source": [
    "위의 공식에서 양변에 exp를 곱해주면 다음과 같이 됩니다.\n",
    "\n",
    "### $$ \\frac{1}{1-P} = exp \\left( \\sum^{n}_{i=0} w_ix_i \\right) = \\prod^n_{i=0} exp( w_ix_i ) $$\n",
    "\n",
    "다음과 같은 공식들을 참고합니다.\n",
    "\n",
    "* [Exponential Expansions 참고](http://www.math.com/tables/expansion/exp.htm)\n",
    "* [Algebraic Proof of Sum of Exponential Powers is Product of Exponentials](http://math.stackexchange.com/questions/863576/algebraic-proof-of-sum-of-exponential-powers-is-product-of-exponentials)\n"
   ]
  },
  {
   "cell_type": "markdown",
   "metadata": {},
   "source": [
    "공식 에 따르면...\n",
    "\n",
    "### $$ e^x = \\sum^{\\infty}_{n=0} \\frac{x^n}{n!} $$\n",
    "\n",
    "exponent를 표현하는데 3가지 방법모두 동일한 결과를 내놓습니다."
   ]
  },
  {
   "cell_type": "code",
   "execution_count": 68,
   "metadata": {
    "collapsed": false
   },
   "outputs": [
    {
     "name": "stdout",
     "output_type": "stream",
     "text": [
      "exp(sum(wx)): \t2.71828182846\n",
      "prod(exp(wx)):\t2.71828182846\n",
      "exponent:     \t2.71828182846\n",
      "\n",
      "exp(sum(wx)): \t20.0855369232\n",
      "prod(exp(wx)):\t20.0855369232\n",
      "exponent:     \t20.0855369232\n"
     ]
    }
   ],
   "source": [
    "def exp(x, N=30):\n",
    "    return sum([x**n/np.math.factorial(n) for n in np.arange(N, dtype='float32')])\n",
    "    \n",
    "def exp2(data, N=15):\n",
    "    return reduce(lambda a, b: a * b, [np.exp(wx) for wx in data])\n",
    "    \n",
    "print 'exp(sum(wx)): \\t', exp(1)\n",
    "print 'prod(exp(wx)):\\t', exp2([0.1, 0.2, 0.3, 0.4])\n",
    "print 'exponent:     \\t', np.exp(1)\n",
    "print\n",
    "\n",
    "print 'exp(sum(wx)): \\t', exp(3)\n",
    "print 'prod(exp(wx)):\\t', exp2([0.1, 0.2, 0.3, 0.4, 0.5, 0.6, 0.7, 0.2])\n",
    "print 'exponent:     \\t', np.exp(3)"
   ]
  },
  {
   "cell_type": "markdown",
   "metadata": {},
   "source": [
    "# Logistic function (Sigmoid function)\n",
    "\n",
    "Logit function 의 inverse form으로서 0~1사이의 s-shape의 y값을 내놓습니다. (즉 확률로 사용가능하도록 바꿈) <br>\n",
    "inverse시에는 logit을 확률로 바꾸는 $ Pr(Y=1) = \\frac{exp(Y)}{1+exp(Y)} $ 공식 사용합니다.\n",
    "\n",
    "\n",
    "## $$ \\phi(z) = \\frac{1}{1+e^{-z}} $$"
   ]
  },
  {
   "cell_type": "code",
   "execution_count": 79,
   "metadata": {
    "collapsed": false
   },
   "outputs": [
    {
     "data": {
      "text/plain": [
       "[<matplotlib.lines.Line2D at 0x7f02ea2f3550>]"
      ]
     },
     "execution_count": 79,
     "metadata": {},
     "output_type": "execute_result"
    },
    {
     "data": {
      "image/png": "[encoded data removed]",
      "text/plain": [
       "<matplotlib.figure.Figure at 0x7f02ea2f3c50>"
      ]
     },
     "metadata": {},
     "output_type": "display_data"
    }
   ],
   "source": [
    "def logistic(z):\n",
    "    return 1./(1. + np.exp(-z))\n",
    "\n",
    "x = np.arange(-6, 6, 0.01)\n",
    "y = logistic(x)\n",
    "\n",
    "plt.grid()\n",
    "plt.plot(x, y)"
   ]
  },
  {
   "cell_type": "markdown",
   "metadata": {},
   "source": [
    "### References\n",
    "\n",
    "* [The Simpler Derivation of Logistic Regression](http://www.win-vector.com/blog/2011/09/the-simpler-derivation-of-logistic-regression/)"
   ]
  }
 ],
 "metadata": {
  "kernelspec": {
   "display_name": "Python 2",
   "language": "python",
   "name": "python2"
  },
  "language_info": {
   "codemirror_mode": {
    "name": "ipython",
    "version": 2
   },
   "file_extension": ".py",
   "mimetype": "text/x-python",
   "name": "python",
   "nbconvert_exporter": "python",
   "pygments_lexer": "ipython2",
   "version": "2.7.12"
  }
 },
 "nbformat": 4,
 "nbformat_minor": 1
}
