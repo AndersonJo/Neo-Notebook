{
 "cells": [
  {
   "cell_type": "code",
   "execution_count": 18,
   "metadata": {
    "collapsed": true
   },
   "outputs": [],
   "source": [
    "from sympy import *\n",
    "import numpy as np"
   ]
  },
  {
   "cell_type": "markdown",
   "metadata": {},
   "source": [
    "# Derivative of sigmoid function\n",
    "\n",
    "아래는 sigmoid (또는 logistic) function의 공식입니다.\n",
    "\n",
    "$$ \\phi(z) = \\frac{1}{1 + e^{-z}} $$\n",
    "\n",
    "derivative of sigmoid function은 다음과 같습니다.\n",
    "\n",
    "$$ \\begin{align}\n",
    "\\dfrac{d}{dx} \\phi(x) &= \\dfrac{d}{dx} \\left[ \\dfrac{1}{1 + e^{-x}} \\right] \\\\\n",
    "\\\\\n",
    "&= \\dfrac{d}{dx} \\left( 1 + \\mathrm{e}^{-x} \\right)^{-1} \\\\\n",
    "\\\\\n",
    "&= -(1 + e^{-x})^{-2} \\frac{d}{dx}(1 + e^{-x}) \\\\\n",
    "\\\\\n",
    "&= -(1 + e^{-x})^{-2}(-e^{-x}) \\\\\n",
    "\\\\\n",
    "&= \\dfrac{e^{-x}}{\\left(1 + e^{-x}\\right)^2} \\\\\n",
    "\\\\\n",
    "&= \\dfrac{1}{1 + e^{-x}\\ } \\cdot \\dfrac{e^{-x}}{1 + e^{-x}}  \\\\\n",
    "\\\\\n",
    "&= \\dfrac{1}{1 + e^{-x}\\ } \\cdot \\dfrac{(1 + e^{-x}) - 1}{1 + e^{-x}}  \\\\\n",
    "\\\\\n",
    "&= \\dfrac{1}{1 + e^{-x}\\ } \\cdot \\left( 1 - \\dfrac{1}{1 + e^{-x}} \\right) \\\\\n",
    "\\\\\n",
    "&= \\phi(x) \\cdot (1 - \\phi(x))\n",
    "\\end{align} $$\n",
    "\n",
    "* [Calculus 까먹었을때 참고 ㅎㅎㅎ](http://www.themathpage.com/acalc/exponential.htm)\n",
    "\n",
    "참고로..... 외울것\n",
    "\n",
    "$$ \\frac{d}{dx} e^{f(x)} = e^{f(x)} \\cdot f^{\\prime}(x) $$\n",
    "\n",
    "$$ \\frac{d}{dx} a^{f(x)} = a^{f(x)} \\cdot f^{\\prime}(x) \\cdot ln(a) $$"
   ]
  },
  {
   "cell_type": "code",
   "execution_count": null,
   "metadata": {
    "collapsed": true
   },
   "outputs": [],
   "source": []
  }
 ],
 "metadata": {
  "kernelspec": {
   "display_name": "Python 2",
   "language": "python",
   "name": "python2"
  },
  "language_info": {
   "codemirror_mode": {
    "name": "ipython",
    "version": 2
   },
   "file_extension": ".py",
   "mimetype": "text/x-python",
   "name": "python",
   "nbconvert_exporter": "python",
   "pygments_lexer": "ipython2",
   "version": "2.7.12"
  }
 },
 "nbformat": 4,
 "nbformat_minor": 1
}
