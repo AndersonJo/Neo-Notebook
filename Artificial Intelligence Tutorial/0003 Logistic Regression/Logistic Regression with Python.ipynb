{
 "cells": [
  {
   "cell_type": "markdown",
   "metadata": {
    "collapsed": true
   },
   "source": [
    "# Logistic Regression with Python\n",
    "\n",
    "Perceptron의 문제점 분류가 완벽하게 하나의 선으로 나뉘어지지 않으면 (not perfectly linearly separable)  converge가 되지 않습니다.<br>\n",
    "Logistic Regression은 linearly separable 하면서 binary classification 에 적합한 알고리즘입니다.\n",
    "\n",
    "> Logistic Regression의 이름때문에 regression이라고 착각할수 있지만, 실제는 classification 알고리즘입니다.\n",
    "\n",
    "자세한 내용은 [Anderson Logistic Regression](http://andersonjo.github.io/machine-learning/2016/04/27/Logistic-Regression/)을 참조\n"
   ]
  },
  {
   "cell_type": "code",
   "execution_count": 1,
   "metadata": {
    "collapsed": false
   },
   "outputs": [
    {
     "name": "stdout",
     "output_type": "stream",
     "text": [
      "Populating the interactive namespace from numpy and matplotlib\n"
     ]
    }
   ],
   "source": [
    "%pylab inline\n",
    "import numpy as np\n",
    "from matplotlib import pyplot as plt"
   ]
  },
  {
   "cell_type": "markdown",
   "metadata": {},
   "source": [
    "### Logit Function\n",
    "\n",
    "logit function은 0 ~ 1사이의 값(확률)을 받고, 이값을 전체 real number 영역으로 펼칩니다.\n",
    "\n",
    "### $ logit(p) = ln(\\frac{1}{1 - p}) $\n",
    "\n",
    "실질적으로 1 과 0으로만 이루어진 것을 logit function으로 linear 로 만드는것인데 이렇게 쓸수도 있습니다.<br>\n",
    "(즉 x값이 주어졌을때 1이 나올 확률이며 Perceptron에서 사용된 net input입니다.)\n",
    "\n",
    "### $ logit(p(y=1|x)) = w_0x_0 + w_1x_1 + ... + w_mx_m = \\sum^n_{i=0} w_mx_m = w^Tx $\n",
    "\n"
   ]
  },
  {
   "cell_type": "code",
   "execution_count": 10,
   "metadata": {
    "collapsed": false
   },
   "outputs": [
    {
     "data": {
      "text/plain": [
       "[<matplotlib.lines.Line2D at 0x7fa750b21a10>]"
      ]
     },
     "execution_count": 10,
     "metadata": {},
     "output_type": "execute_result"
    },
    {
     "data": {
      "image/png": "[encoded data removed]",
      "text/plain": [
       "<matplotlib.figure.Figure at 0x7fa750c45810>"
      ]
     },
     "metadata": {},
     "output_type": "display_data"
    }
   ],
   "source": [
    "def logit(p):\n",
    "    return np.log(1./(1.-p))\n",
    "    \n",
    "d = np.arange(-1, 1, 0.01)\n",
    "d = logit(d)\n",
    "\n",
    "plt.grid()\n",
    "plt.plot(d)"
   ]
  },
  {
   "cell_type": "markdown",
   "metadata": {},
   "source": [
    "### Logistic function (Sigmoid function)\n",
    "\n",
    "Logit function 의 inverse form으로서 \n",
    "\n",
    "### $ \\phi(z) = \\frac{1}{1+e^{-z}} $"
   ]
  }
 ],
 "metadata": {
  "kernelspec": {
   "display_name": "Python 2",
   "language": "python",
   "name": "python2"
  },
  "language_info": {
   "codemirror_mode": {
    "name": "ipython",
    "version": 2
   },
   "file_extension": ".py",
   "mimetype": "text/x-python",
   "name": "python",
   "nbconvert_exporter": "python",
   "pygments_lexer": "ipython2",
   "version": "2.7.12"
  }
 },
 "nbformat": 4,
 "nbformat_minor": 1
}
