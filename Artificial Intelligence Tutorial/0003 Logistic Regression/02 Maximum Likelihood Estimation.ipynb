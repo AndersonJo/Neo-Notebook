{
 "cells": [
  {
   "cell_type": "markdown",
   "metadata": {
    "collapsed": true
   },
   "source": [
    "# Maximum Likelihood Estimation\n",
    "\n",
    "Logistic Regression에서 weights값들을 학습시키는 방법을 기술합니다. <br>\n",
    "Maximum Likelihood는 예를 들어서 y의 값이 1이라면, 1에 최대한 수렴하는 예측값을 내놓도록 최대화하는 것이 목표입니다. \n",
    "\n",
    "### Likelihood\n",
    "\n",
    "Sum-squred error 에서 cost값을 낮추려고 하였습니다. <br>\n",
    "Logistic Regression에서 사용되는 cost function을 알기 위해서는 Likelihood를 먼저 알아야 하고, <br>\n",
    "Likelihood는 sum-squred error와는 다르게 maximize해야 합니다. \n",
    "\n",
    "<i class=\"fa fa-exclamation-circle\" aria-hidden=\"true\" style=\"color:#777;\"> 여기서 bold체는 series (list)입니다.</i>\n",
    "\n",
    "### $$ L(\\mathbf{w}) = P(\\mathbf{y}\\ |\\ \\mathbf{x};\\mathbf{w}) = \\prod^n_{i=1} P(y^{(i)}\\ |\\ x^{(i)}; \\mathbf{w}) = \\prod^n_{i=1} \\left( \\phi(z^{(i)} \\right)^{y^{(i)}} \\left(1 - \\phi(z^{(i)}) \\right)^{1-y^{(i)}} $$"
   ]
  },
  {
   "cell_type": "markdown",
   "metadata": {},
   "source": [
    "### Log-Likelihood function\n",
    "\n",
    "실제로는 likelihood가 그대로 쓰이는 경우는 없고, 계산의 편의상 log-likelihood를 사용하는 경우가 일반적입니다.\n",
    "\n",
    "* log (natural)를 붙임으로서 numerical underflow (likelihood값이 너무 작을때 발생) 를 낮춰줍니다.\n",
    "* product of factors 를 summation of factors로 바꿔줌으로서, derivative를 구할때 좀더 쉽게 계산할수 있도록 해줍니다.\n",
    "\n",
    "\n",
    "### $$ l(\\mathbf{w}) = \\ln L(\\mathbf{w}) = \\sum^n_{i=1} \\ln \\left( \\phi(z^{(i)}) \\right) + \\left(1 - y^{(i)} \\right) \\ln \\left( 1 - \\phi(z^{(i)}) \\right) $$"
   ]
  },
  {
   "cell_type": "code",
   "execution_count": 1,
   "metadata": {
    "collapsed": false
   },
   "outputs": [
    {
     "name": "stdout",
     "output_type": "stream",
     "text": [
      "Populating the interactive namespace from numpy and matplotlib\n"
     ]
    }
   ],
   "source": [
    "%pylab inline\n",
    "from sympy import *\n",
    "import numpy as np\n",
    "from sklearn import datasets"
   ]
  },
  {
   "cell_type": "markdown",
   "metadata": {},
   "source": [
    "### Data Preparation"
   ]
  },
  {
   "cell_type": "code",
   "execution_count": 2,
   "metadata": {
    "collapsed": false
   },
   "outputs": [],
   "source": [
    "data = np.loadtxt('../../data/basic_csv_data/binary.csv', delimiter=',', skiprows=1)\n",
    "\n",
    "Y = data[:, 0] # 0:불합격, 1:합격 \n",
    "X = data[:, 1:] # GRE, GPA, Rank\n",
    "\n",
    "X[:, 0] = (X[:,0] - X[:,0].mean()) / X[:,0].std()\n",
    "X[:, 1] = (X[:,1] - X[:,1].mean()) / X[:,1].std()\n",
    "X[:, 2] = (X[:,2] - X[:,2].mean()) / X[:,2].std()"
   ]
  },
  {
   "cell_type": "markdown",
   "metadata": {},
   "source": [
    "### Implement Logistic Regression"
   ]
  },
  {
   "cell_type": "code",
   "execution_count": 77,
   "metadata": {
    "collapsed": false
   },
   "outputs": [],
   "source": [
    "class LogisticRegression(object):\n",
    "    \n",
    "    def __init__(self):\n",
    "        self.w = np.random.rand(3+1)\n",
    "        \n",
    "    def predict(self, X):\n",
    "        return np.array([self.phi(x) for x in X])\n",
    "\n",
    "    def phi(self, x):\n",
    "        return self.sigmoid(self.w[1:].dot(x) + self.w[0])\n",
    "        \n",
    "    def sigmoid(self, x):\n",
    "        return 1./(1 + np.exp(-x))\n",
    "\n",
    "    def likelihood(self, Z, Y):\n",
    "        return np.prod(Z**Y * (1.-Z)**(1-Y))\n",
    "    \n",
    "    def log_likelihood(self, Z, Y):\n",
    "        return np.sum(np.log(Z) + (1 - Y) * np.log(1 - Z))"
   ]
  },
  {
   "cell_type": "markdown",
   "metadata": {},
   "source": [
    "### Just calculate likelihood & log-likelihood"
   ]
  },
  {
   "cell_type": "code",
   "execution_count": 94,
   "metadata": {
    "collapsed": false
   },
   "outputs": [
    {
     "name": "stdout",
     "output_type": "stream",
     "text": [
      "likelihood의 경우는 numeric underflow가 심하게 나타납니다.\n",
      "------------------------------------------------------------\n",
      "likelihood:\t5.78035489667e-163\n",
      "log-likelihood:\t-569.985868946\n"
     ]
    },
    {
     "data": {
      "image/png": "[encoded data removed]",
      "text/plain": [
       "<matplotlib.figure.Figure at 0x7f3e4d658c50>"
      ]
     },
     "metadata": {},
     "output_type": "display_data"
    }
   ],
   "source": [
    "instance = LogisticRegression()\n",
    "predicted_y = instance.predict(X)\n",
    "\n",
    "plot_x = np.arange(len(Y))\n",
    "xlim(-10, len(Y) + 10)\n",
    "ylim(0, 1)\n",
    "scatter(plot_x[Y == 0], predicted_y[Y == 0], color='#555555')\n",
    "scatter(plot_x[Y == 1], predicted_y[Y == 1], color='red')\n",
    "\n",
    "print u'likelihood의 경우는 numeric underflow가 심하게 나타납니다.'\n",
    "print '-'*60\n",
    "print 'likelihood:\\t', instance.likelihood(predicted_y, Y)\n",
    "print 'log-likelihood:\\t', instance.log_likelihood(predicted_y, Y)"
   ]
  },
  {
   "cell_type": "code",
   "execution_count": null,
   "metadata": {
    "collapsed": true
   },
   "outputs": [],
   "source": []
  }
 ],
 "metadata": {
  "kernelspec": {
   "display_name": "Python 2",
   "language": "python",
   "name": "python2"
  },
  "language_info": {
   "codemirror_mode": {
    "name": "ipython",
    "version": 2
   },
   "file_extension": ".py",
   "mimetype": "text/x-python",
   "name": "python",
   "nbconvert_exporter": "python",
   "pygments_lexer": "ipython2",
   "version": "2.7.12"
  }
 },
 "nbformat": 4,
 "nbformat_minor": 1
}
