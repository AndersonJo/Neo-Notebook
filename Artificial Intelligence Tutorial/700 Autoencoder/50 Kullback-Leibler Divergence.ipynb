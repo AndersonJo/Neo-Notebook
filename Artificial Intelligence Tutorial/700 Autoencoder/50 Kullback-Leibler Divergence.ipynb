{
 "cells": [
  {
   "cell_type": "markdown",
   "metadata": {},
   "source": [
    "# Kullback Leibler Divergence (KL Divergence)\n",
    "\n",
    "* http://web.engr.illinois.edu/~hanj/cs412/bk3/KL-divergence.pdf\n",
    "* https://tgmstat.wordpress.com/2013/07/10/kullback-leibler-divergence/\n"
   ]
  },
  {
   "cell_type": "markdown",
   "metadata": {},
   "source": [
    "1951년 Kullback and R.A Leibler는 \"On information and Sufficiency\"라는 paper에서 2개의 통계적 모집단 (statistical population) 사이의 거리 즉 divergence를 측정하는 방법으로 논문을 냈습니다. \n",
    "KL Divergence는 Variaional Autoencoder에서 사용되는 방법입니다. \n",
    "\n",
    "2개의 확률적 분포 (statistical distributions)이므로 2개의 array를 비교해야하며, 각각의 array이의 합은 1이 되야 합니다."
   ]
  },
  {
   "cell_type": "markdown",
   "metadata": {},
   "source": [
    "KL divergence는 relative entropy와 관련이 깊으며 $ q(x) $ 가 $ p(x) $로부터 얼마나 떨어져 있는지 측정합니다.<br>\n",
    "$ p(x) $ 그리고 $ q(x) $를 probability distributions of a discrete random variable x라고 한다면 $ p(x) $ 그리고 $ q(x) $는 각각의 합이 1이 되야 하며 $ X $ 안의 모든  elements는 $ p(x) \\gt 0 $ 그리고 $ q(x) \\gt 0 $이어야 합니다.\n",
    "\n",
    "$$ D_{KL}\\left(p(x), q(x)\\right) = \\sum_{x \\in X} p(x) \\ln\\frac{p(x)}{q(x)} $$"
   ]
  },
  {
   "cell_type": "code",
   "execution_count": 9,
   "metadata": {
    "collapsed": false
   },
   "outputs": [
    {
     "name": "stdout",
     "output_type": "stream",
     "text": [
      "Populating the interactive namespace from numpy and matplotlib\n"
     ]
    },
    {
     "name": "stderr",
     "output_type": "stream",
     "text": [
      "/usr/local/lib/python3.6/site-packages/IPython/core/magics/pylab.py:161: UserWarning: pylab import has clobbered these variables: ['entropy']\n",
      "`%matplotlib` prevents importing * from pylab and numpy\n",
      "  \"\\n`%matplotlib` prevents importing * from pylab and numpy\"\n"
     ]
    }
   ],
   "source": [
    "%pylab inline\n",
    "import numpy as np\n",
    "from scipy.stats import entropy"
   ]
  },
  {
   "cell_type": "markdown",
   "metadata": {},
   "source": [
    "### Data"
   ]
  },
  {
   "cell_type": "code",
   "execution_count": 18,
   "metadata": {
    "collapsed": false
   },
   "outputs": [
    {
     "data": {
      "text/plain": [
       "<matplotlib.legend.Legend at 0x7fbdad4d8940>"
      ]
     },
     "execution_count": 18,
     "metadata": {},
     "output_type": "execute_result"
    },
    {
     "data": {
      "image/png": "[encoded data removed]",
      "text/plain": [
       "<matplotlib.figure.Figure at 0x7fbdad6f1cc0>"
      ]
     },
     "metadata": {},
     "output_type": "display_data"
    }
   ],
   "source": [
    "a = [0.1, 0.1, 0.1, 0.2, 0.2, 0.3]\n",
    "b = [0.1, 0.2, 0.1, 0.1, 0.3, 0.2]\n",
    "c = [0.4, 0.3, 0.1, 0.05, 0.05, 0.1]\n",
    "\n",
    "plot(a, label='a')\n",
    "plot(b, label='b')\n",
    "plot(c, label='c')\n",
    "grid()\n",
    "legend()"
   ]
  },
  {
   "cell_type": "markdown",
   "metadata": {},
   "source": [
    "### Scipy Implementation\n",
    "\n",
    "> entropy(pk, qk=None, base=None) <br>\n",
    "> If qk is not None, then compute the Kullback-Leibler divergence S = sum(pk * log(pk / qk), axis=0).\n",
    "\n",
    "entropy함수를 사용할때 qk값을 passing하면 Kullback-Leibler divergence 공식을 사용하게 됩니다.\n"
   ]
  },
  {
   "cell_type": "code",
   "execution_count": 27,
   "metadata": {
    "collapsed": false
   },
   "outputs": [
    {
     "name": "stdout",
     "output_type": "stream",
     "text": [
      "KL(a, b): 0.109861228867\n",
      "KL(a, c): 0.63561076607\n",
      "KL(b, c): 0.525749537203\n"
     ]
    }
   ],
   "source": [
    "print('KL(a, b):', entropy(a, b))\n",
    "print('KL(a, c):', entropy(a, c))\n",
    "print('KL(b, c):', entropy(b, c))"
   ]
  },
  {
   "cell_type": "markdown",
   "metadata": {},
   "source": [
    "### Numpy Implementation"
   ]
  },
  {
   "cell_type": "code",
   "execution_count": 33,
   "metadata": {
    "collapsed": false
   },
   "outputs": [
    {
     "name": "stdout",
     "output_type": "stream",
     "text": [
      "KL(a, b): 0.109861228867\n",
      "KL(a, c): 0.63561076607\n",
      "KL(b, c): 0.525749537203\n"
     ]
    }
   ],
   "source": [
    "def kl(pk, qk):\n",
    "    pk = np.array(pk)\n",
    "    qk = np.array(qk)\n",
    "    return np.sum(pk * np.log(pk/qk), axis=0)\n",
    "    \n",
    "print('KL(a, b):', kl(a, b))\n",
    "print('KL(a, c):', kl(a, c))\n",
    "print('KL(b, c):', kl(b, c))"
   ]
  }
 ],
 "metadata": {
  "kernelspec": {
   "display_name": "Python 3",
   "language": "python",
   "name": "python3"
  },
  "language_info": {
   "codemirror_mode": {
    "name": "ipython",
    "version": 3
   },
   "file_extension": ".py",
   "mimetype": "text/x-python",
   "name": "python",
   "nbconvert_exporter": "python",
   "pygments_lexer": "ipython3",
   "version": "3.6.0"
  }
 },
 "nbformat": 4,
 "nbformat_minor": 2
}
