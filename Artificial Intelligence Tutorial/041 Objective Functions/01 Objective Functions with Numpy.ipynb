{
 "cells": [
  {
   "cell_type": "markdown",
   "metadata": {},
   "source": [
    "# Objective Functions"
   ]
  },
  {
   "cell_type": "code",
   "execution_count": 1,
   "metadata": {
    "collapsed": false
   },
   "outputs": [
    {
     "name": "stdout",
     "output_type": "stream",
     "text": [
      "Populating the interactive namespace from numpy and matplotlib\n"
     ]
    }
   ],
   "source": [
    "%pylab inline\n",
    "import numpy as np\n",
    "from sklearn import metrics\n",
    "from sklearn.preprocessing import minmax_scale\n",
    "from scipy.stats import entropy\n"
   ]
  },
  {
   "cell_type": "markdown",
   "metadata": {},
   "source": [
    "## Data"
   ]
  },
  {
   "cell_type": "code",
   "execution_count": 2,
   "metadata": {
    "collapsed": true
   },
   "outputs": [],
   "source": [
    "p = np.array([0.1, 0.1, 0.05, 0.6, 0.3], dtype=np.float32)\n",
    "y = np.array([0, 0, 0, 1, 0], dtype=np.float32)"
   ]
  },
  {
   "cell_type": "markdown",
   "metadata": {},
   "source": [
    "## Mean Squared Error (MSE)\n",
    "\n",
    "* http://mccormickml.com/2014/03/04/gradient-descent-derivation/\n",
    "\n",
    "$$ J(\\theta) = \\frac{1}{N} \\sum^{N}_{i=1} \\left( h_{\\theta}(x^{(i)}) - y^{(i)}  \\right)^2 $$\n",
    "\n",
    "* $ J $ : cost function\n",
    "* $ \\theta $ : parameters (weights)\n",
    "* N : training data의 갯수\n",
    "* $ x^{(i)} $ : $ i^{th} $의 training input vector\n",
    "* $ y^{(i)} $ : $ i^{th} $의 class label\n",
    "* $ h_{\\theta} \\left( x^{(i)} \\right) $ : $ \\theta $를 사용하여 나온 $ i^{th} $ data에 대한 prediction\n"
   ]
  },
  {
   "cell_type": "code",
   "execution_count": 3,
   "metadata": {
    "collapsed": false
   },
   "outputs": [
    {
     "data": {
      "text/plain": [
       "0.054499995"
      ]
     },
     "execution_count": 3,
     "metadata": {},
     "output_type": "execute_result"
    }
   ],
   "source": [
    "def mean_squared_error(y, p):\n",
    "    N = len(p)\n",
    "    return ((y - p)**2).mean()\n",
    "    \n",
    "mean_squared_error(y, p)"
   ]
  },
  {
   "cell_type": "code",
   "execution_count": 4,
   "metadata": {
    "collapsed": false
   },
   "outputs": [
    {
     "data": {
      "text/plain": [
       "0.054499995"
      ]
     },
     "execution_count": 4,
     "metadata": {},
     "output_type": "execute_result"
    }
   ],
   "source": [
    "metrics.mean_squared_error(y, p)"
   ]
  },
  {
   "cell_type": "markdown",
   "metadata": {},
   "source": [
    "## Binary Cross Entropy (a.k.a Logarithmic Loss)\n",
    "\n",
    "* https://www.kaggle.com/wiki/LogarithmicLoss\n",
    "\n",
    "$$ J(\\theta) = -\\frac{1}{N} \\sum^{N}_{i=1} \\left( y^{(i)} \\cdot \\log(p_i) + (1 - y) \\cdot \\log(1- p_i) )  \\right) $$\n",
    "\n",
    "binary cross entropy의 경우는 binary classfication에서 주로 사용이 됩니다."
   ]
  },
  {
   "cell_type": "code",
   "execution_count": 5,
   "metadata": {
    "collapsed": false
   },
   "outputs": [
    {
     "data": {
      "text/plain": [
       "0.22590299"
      ]
     },
     "execution_count": 5,
     "metadata": {},
     "output_type": "execute_result"
    }
   ],
   "source": [
    "def binary_cross_entropy(y, p):\n",
    "    return -(y * np.log(p) + (1-y) * np.log(1-p)).mean()\n",
    "\n",
    "binary_cross_entropy(y, p)"
   ]
  },
  {
   "cell_type": "code",
   "execution_count": 6,
   "metadata": {
    "collapsed": false
   },
   "outputs": [
    {
     "data": {
      "text/plain": [
       "0.22590298801660538"
      ]
     },
     "execution_count": 6,
     "metadata": {},
     "output_type": "execute_result"
    }
   ],
   "source": [
    "# Scipy와 동일함\n",
    "metrics.log_loss(y, p)"
   ]
  },
  {
   "cell_type": "markdown",
   "metadata": {},
   "source": [
    "## Squared Hinge\n",
    "\n",
    "maximum-margin을 구할때 사용이 됩니다.\n",
    "\n",
    "$$ J(\\theta) = max(0,\\ 1 - y * f(x)) = \\| y^{(i)} - p^{(i)} \\|^2_2 $$"
   ]
  },
  {
   "cell_type": "code",
   "execution_count": 7,
   "metadata": {
    "collapsed": false
   },
   "outputs": [
    {
     "data": {
      "text/plain": [
       "0.054499995"
      ]
     },
     "execution_count": 7,
     "metadata": {},
     "output_type": "execute_result"
    }
   ],
   "source": [
    "def hinge_loss(y, p):\n",
    "    return ((y - p)**2).mean()\n",
    "    \n",
    "hinge_loss(y, p)"
   ]
  },
  {
   "cell_type": "code",
   "execution_count": 8,
   "metadata": {
    "collapsed": false
   },
   "outputs": [
    {
     "data": {
      "text/plain": [
       "0.98999999836087227"
      ]
     },
     "execution_count": 8,
     "metadata": {},
     "output_type": "execute_result"
    }
   ],
   "source": [
    "metrics.hinge_loss(y, p)"
   ]
  },
  {
   "cell_type": "markdown",
   "metadata": {},
   "source": [
    "## KL-Divergence\n",
    "\n",
    "$$ D_{KL}\\left(p(x), q(x)\\right) = \\sum_{x \\in X} p(x) \\ln\\frac{p(x)}{q(x)} $$"
   ]
  },
  {
   "cell_type": "code",
   "execution_count": 22,
   "metadata": {
    "collapsed": false
   },
   "outputs": [
    {
     "name": "stdout",
     "output_type": "stream",
     "text": [
      "\n",
      "normal a\t normal a\t: 0.0\n",
      "exponent d\t exponent d\t: 0.0\n",
      "\n",
      "normal a\t normal b\t: 356.446721056\n",
      "normal a\t gumbel c\t: 2703.59977928\n",
      "normal a\t exp d   \t: 5280.44644113\n"
     ]
    },
    {
     "name": "stderr",
     "output_type": "stream",
     "text": [
      "/usr/local/lib/python3.6/site-packages/ipykernel/__main__.py:17: RuntimeWarning: invalid value encountered in log\n"
     ]
    },
    {
     "data": {
      "image/png": "[encoded data removed]",
      "text/plain": [
       "<matplotlib.figure.Figure at 0x7f7626104ba8>"
      ]
     },
     "metadata": {},
     "output_type": "display_data"
    }
   ],
   "source": [
    "a = np.random.normal(loc=3, size=1000)\n",
    "b = np.random.normal(loc=3, size=1000)\n",
    "f = np.random.normal(loc=5, size=1000)\n",
    "c = np.random.gumbel(size=1000)\n",
    "d = np.random.exponential(size=1000)\n",
    "\n",
    "hist(a, bins=80, label='nomal a')\n",
    "hist(b, bins=80, label='normal b')\n",
    "hist(c, bins=80, label='gumbel c')\n",
    "hist(d, bins=80, label='exponential d')\n",
    "grid()\n",
    "legend()\n",
    "\n",
    "print()\n",
    "\n",
    "def kl_divergence(y, p):\n",
    "    return np.sum(y * np.nan_to_num(np.log(y/p)), axis=0)\n",
    "\n",
    "print('normal a\\t normal a\\t:', kl_divergence(a, a))\n",
    "print('exponent d\\t exponent d\\t:', kl_divergence(a, a))\n",
    "print()\n",
    "print('normal a\\t normal b\\t:', kl_divergence(a, b))\n",
    "print('normal a\\t gumbel c\\t:', kl_divergence(a, c))\n",
    "print('normal a\\t exp d   \\t:', kl_divergence(a, d))"
   ]
  }
 ],
 "metadata": {
  "kernelspec": {
   "display_name": "Python 3",
   "language": "python",
   "name": "python3"
  },
  "language_info": {
   "codemirror_mode": {
    "name": "ipython",
    "version": 3
   },
   "file_extension": ".py",
   "mimetype": "text/x-python",
   "name": "python",
   "nbconvert_exporter": "python",
   "pygments_lexer": "ipython3",
   "version": "3.6.0"
  }
 },
 "nbformat": 4,
 "nbformat_minor": 2
}
