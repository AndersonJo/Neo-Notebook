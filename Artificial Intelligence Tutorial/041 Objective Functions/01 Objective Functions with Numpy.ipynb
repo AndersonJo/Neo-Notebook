{
 "cells": [
  {
   "cell_type": "markdown",
   "metadata": {
    "deletable": true,
    "editable": true
   },
   "source": [
    "# Objective Functions\n",
    "\n",
    "* https://github.com/JohnLangford/vowpal_wabbit/wiki/Loss-functions\n",
    "\n",
    "| Loss | Minimizer | Example |\n",
    "|:-----|:----------|:--------|\n",
    "| MSE, MAE, RMSLE  | Expectation (mean) | Regression (Expected return on stock) |\n",
    "| Logistic, Entropy, KL-Divergence | Probability | Classification (Probability of click on ad) |\n",
    "| Hinge | 0 ~ 1 approximation | Classification (Is the digit a 7?) |\n",
    "| Poisson | Counts (Log Mean) | Regression (Number of call events to call center) |"
   ]
  },
  {
   "cell_type": "code",
   "execution_count": 1,
   "metadata": {
    "collapsed": false,
    "deletable": true,
    "editable": true
   },
   "outputs": [
    {
     "name": "stdout",
     "output_type": "stream",
     "text": [
      "Populating the interactive namespace from numpy and matplotlib\n"
     ]
    }
   ],
   "source": [
    "%pylab inline\n",
    "import numpy as np\n",
    "from sklearn import metrics\n",
    "from sklearn.preprocessing import minmax_scale\n",
    "from scipy import stats\n",
    "from scipy.spatial.distance import cosine as cosine_distantce"
   ]
  },
  {
   "cell_type": "markdown",
   "metadata": {},
   "source": [
    "## Data"
   ]
  },
  {
   "cell_type": "code",
   "execution_count": 2,
   "metadata": {
    "collapsed": false
   },
   "outputs": [
    {
     "data": {
      "text/plain": [
       "<matplotlib.legend.Legend at 0x7fa79a14a5f8>"
      ]
     },
     "execution_count": 2,
     "metadata": {},
     "output_type": "execute_result"
    },
    {
     "data": {
      "image/png": "[encoded data removed]",
      "text/plain": [
       "<matplotlib.figure.Figure at 0x7fa7d9f87550>"
      ]
     },
     "metadata": {},
     "output_type": "display_data"
    }
   ],
   "source": [
    "a = np.random.normal(loc=3, size=1000)\n",
    "b = np.random.normal(loc=3, size=1000)\n",
    "c = np.random.gumbel(size=1000)\n",
    "d = np.random.exponential(size=1000)\n",
    "f = np.random.uniform(size=1000)\n",
    "\n",
    "hist(a, bins=80, label='nomal a')\n",
    "hist(b, bins=80, label='normal b')\n",
    "hist(c, bins=80, label='gumbel c')\n",
    "hist(d, bins=80, label='exponential d')\n",
    "hist(f, bins=80, label='uniform f')\n",
    "\n",
    "grid()\n",
    "legend()"
   ]
  },
  {
   "cell_type": "markdown",
   "metadata": {
    "deletable": true,
    "editable": true
   },
   "source": [
    "## Mean Squared Error (MSE)\n",
    "\n",
    "* http://mccormickml.com/2014/03/04/gradient-descent-derivation/\n",
    "\n",
    "$$ J(\\theta) = \\frac{1}{N} \\sum^{N}_{i=1} \\left( h_{\\theta}(x^{(i)}) - y^{(i)}  \\right)^2 $$\n",
    "\n",
    "* $ J $ : cost function\n",
    "* $ \\theta $ : parameters (weights)\n",
    "* N : training data의 갯수\n",
    "* $ x^{(i)} $ : $ i^{th} $의 training input vector\n",
    "* $ y^{(i)} $ : $ i^{th} $의 class label\n",
    "* $ h_{\\theta} \\left( x^{(i)} \\right) $ : $ \\theta $를 사용하여 나온 $ i^{th} $ data에 대한 prediction\n"
   ]
  },
  {
   "cell_type": "code",
   "execution_count": 3,
   "metadata": {
    "collapsed": false,
    "deletable": true,
    "editable": true
   },
   "outputs": [
    {
     "data": {
      "text/plain": [
       "0.054499995"
      ]
     },
     "execution_count": 3,
     "metadata": {},
     "output_type": "execute_result"
    }
   ],
   "source": [
    "p = np.array([0.1, 0.1, 0.05, 0.6, 0.3], dtype=np.float32)\n",
    "y = np.array([0, 0, 0, 1, 0], dtype=np.float32)\n",
    "\n",
    "def mean_squared_error(y, p):\n",
    "    return ((y - p)**2).mean()\n",
    "\n",
    "mean_squared_error(y, p)"
   ]
  },
  {
   "cell_type": "code",
   "execution_count": 4,
   "metadata": {
    "collapsed": false,
    "deletable": true,
    "editable": true
   },
   "outputs": [
    {
     "data": {
      "text/plain": [
       "0.054499995"
      ]
     },
     "execution_count": 4,
     "metadata": {},
     "output_type": "execute_result"
    }
   ],
   "source": [
    "metrics.mean_squared_error(y, p)"
   ]
  },
  {
   "cell_type": "code",
   "execution_count": 5,
   "metadata": {
    "collapsed": false
   },
   "outputs": [
    {
     "name": "stdout",
     "output_type": "stream",
     "text": [
      "normal_a, normal_a\t: 0.0\n",
      "normal_a, normal_b\t: 1.96491394237\n",
      "normal_a, gumbel  \t: 8.16301713918\n",
      "normal_a, exponent\t: 5.89439488449\n",
      "normal_a, uniform \t: 7.10319655878\n"
     ]
    }
   ],
   "source": [
    "print('normal_a, normal_a\\t:', mean_squared_error(a, a))\n",
    "print('normal_a, normal_b\\t:', mean_squared_error(a, b))\n",
    "print('normal_a, gumbel  \\t:', mean_squared_error(a, c))\n",
    "print('normal_a, exponent\\t:', mean_squared_error(a, d))\n",
    "print('normal_a, uniform \\t:', mean_squared_error(a, f))"
   ]
  },
  {
   "cell_type": "markdown",
   "metadata": {},
   "source": [
    "## Mean Absolute Error (MAE)\n",
    "\n",
    "$$ J(\\theta) = \\frac{1}{N} \\sum^{N}_{i=1} \\left| h_{\\theta}(x^{(i)}) - y^{(i)}  \\right| $$"
   ]
  },
  {
   "cell_type": "code",
   "execution_count": 6,
   "metadata": {
    "collapsed": false
   },
   "outputs": [
    {
     "data": {
      "text/plain": [
       "0.19"
      ]
     },
     "execution_count": 6,
     "metadata": {},
     "output_type": "execute_result"
    }
   ],
   "source": [
    "def mean_abolute_error(y, p):\n",
    "    return np.abs(y-p).mean()\n",
    "\n",
    "mean_abolute_error(y, p)"
   ]
  },
  {
   "cell_type": "code",
   "execution_count": 19,
   "metadata": {
    "collapsed": false
   },
   "outputs": [
    {
     "data": {
      "text/plain": [
       "0.19"
      ]
     },
     "execution_count": 19,
     "metadata": {},
     "output_type": "execute_result"
    }
   ],
   "source": [
    "metrics.mean_absolute_error(y, p)"
   ]
  },
  {
   "cell_type": "code",
   "execution_count": 21,
   "metadata": {
    "collapsed": false
   },
   "outputs": [
    {
     "name": "stdout",
     "output_type": "stream",
     "text": [
      "normal_a, normal_a\t: 0.0\n",
      "normal_a, normal_b\t: 1.131790051\n",
      "normal_a, gumbel  \t: 2.49979612544\n",
      "normal_a, exponent\t: 2.13370950433\n",
      "normal_a, uniform \t: 2.45740639766\n"
     ]
    }
   ],
   "source": [
    "# Scipy도 동일함\n",
    "print('normal_a, normal_a\\t:', mean_abolute_error(a, a))\n",
    "print('normal_a, normal_b\\t:', mean_abolute_error(a, b))\n",
    "print('normal_a, gumbel  \\t:', mean_abolute_error(a, c))\n",
    "print('normal_a, exponent\\t:', mean_abolute_error(a, d))\n",
    "print('normal_a, uniform \\t:', mean_abolute_error(a, f))"
   ]
  },
  {
   "cell_type": "markdown",
   "metadata": {},
   "source": [
    "## Root Mean Squared Logarithmic Error (RMSLE)\n",
    "\n",
    "$$ \\epsilon = \\sqrt{\\frac{1}{n} \\sum_{i=1}^n (\\log(p_i + 1) - \\log(a_i+1))^2 } $$"
   ]
  },
  {
   "cell_type": "code",
   "execution_count": 8,
   "metadata": {
    "collapsed": false
   },
   "outputs": [
    {
     "data": {
      "text/plain": [
       "0.16683918"
      ]
     },
     "execution_count": 8,
     "metadata": {},
     "output_type": "execute_result"
    }
   ],
   "source": [
    "def mean_squared_logatrithmic_error(y, p):\n",
    "    l = lambda x: np.nan_to_num(np.log(x + 1))\n",
    "    return np.sqrt(((l(p) - l(y))**2).mean())\n",
    "\n",
    "mean_squared_logatrithmic_error(y, p)"
   ]
  },
  {
   "cell_type": "code",
   "execution_count": 9,
   "metadata": {
    "collapsed": false
   },
   "outputs": [
    {
     "name": "stdout",
     "output_type": "stream",
     "text": [
      "normal_a, normal_a\t: 0.0\n",
      "normal_a, normal_b\t: 0.391737472392\n",
      "normal_a, gumbel  \t: 1.46028356929\n",
      "normal_a, exponent\t: 0.901225362912\n",
      "normal_a, uniform \t: 1.00583285131\n"
     ]
    },
    {
     "name": "stderr",
     "output_type": "stream",
     "text": [
      "/usr/local/lib/python3.6/site-packages/ipykernel/__main__.py:2: RuntimeWarning: invalid value encountered in log\n",
      "  from ipykernel import kernelapp as app\n"
     ]
    }
   ],
   "source": [
    "print('normal_a, normal_a\\t:', mean_squared_logatrithmic_error(a, a))\n",
    "print('normal_a, normal_b\\t:', mean_squared_logatrithmic_error(a, b))\n",
    "print('normal_a, gumbel  \\t:', mean_squared_logatrithmic_error(a, c))\n",
    "print('normal_a, exponent\\t:', mean_squared_logatrithmic_error(a, d))\n",
    "print('normal_a, uniform \\t:', mean_squared_logatrithmic_error(a, f))"
   ]
  },
  {
   "cell_type": "markdown",
   "metadata": {
    "deletable": true,
    "editable": true
   },
   "source": [
    "## Binary Cross Entropy (a.k.a Logarithmic Loss)\n",
    "\n",
    "* https://www.kaggle.com/wiki/LogarithmicLoss\n",
    "\n",
    "$$ \\text{logloss} = -\\frac{1}{N} \\sum^{N}_{i=1} \\left( y^{(i)} \\cdot \\log(p_i) + (1 - y) \\cdot \\log(1- p_i) )  \\right) $$\n",
    "\n",
    "binary cross entropy의 경우는 binary classfication에서 주로 사용이 됩니다."
   ]
  },
  {
   "cell_type": "code",
   "execution_count": 10,
   "metadata": {
    "collapsed": false,
    "deletable": true,
    "editable": true
   },
   "outputs": [
    {
     "data": {
      "text/plain": [
       "0.22590299"
      ]
     },
     "execution_count": 10,
     "metadata": {},
     "output_type": "execute_result"
    }
   ],
   "source": [
    "p = np.array([0.1, 0.1, 0.05, 0.6, 0.3], dtype=np.float32)\n",
    "y = np.array([0, 0, 0, 1, 0], dtype=np.float32)\n",
    "\n",
    "def binary_cross_entropy(y, p):\n",
    "    return -(y * np.log(p) + (1-y) * np.log(1-p)).mean()\n",
    "\n",
    "binary_cross_entropy(y, p)"
   ]
  },
  {
   "cell_type": "code",
   "execution_count": 11,
   "metadata": {
    "collapsed": false,
    "deletable": true,
    "editable": true
   },
   "outputs": [
    {
     "data": {
      "text/plain": [
       "0.22590298801660538"
      ]
     },
     "execution_count": 11,
     "metadata": {},
     "output_type": "execute_result"
    }
   ],
   "source": [
    "# Scipy와 동일함\n",
    "metrics.log_loss(y, p)"
   ]
  },
  {
   "cell_type": "markdown",
   "metadata": {},
   "source": [
    "## Cross Entropy\n",
    "\n",
    "* https://rdipietro.github.io/friendly-intro-to-cross-entropy-loss/\n",
    "\n",
    "$$ H(y, \\hat{y}) = - \\sum_i y_i \\log \\hat{y}_1 $$"
   ]
  },
  {
   "cell_type": "code",
   "execution_count": 12,
   "metadata": {
    "collapsed": false
   },
   "outputs": [
    {
     "data": {
      "text/plain": [
       "0.51082557"
      ]
     },
     "execution_count": 12,
     "metadata": {},
     "output_type": "execute_result"
    }
   ],
   "source": [
    "p = np.array([0.1, 0.1, 0.05, 0.6, 0.3], dtype=np.float32)\n",
    "y = np.array([0, 0, 0, 1, 0], dtype=np.float32)\n",
    "\n",
    "def cross_entropy(y, p):\n",
    "    return -(y * np.nan_to_num(np.log(p))).sum()\n",
    "\n",
    "cross_entropy(y, p)"
   ]
  },
  {
   "cell_type": "markdown",
   "metadata": {
    "deletable": true,
    "editable": true
   },
   "source": [
    "## Hinge Loss\n",
    "\n",
    "logistic과 마찬가지로 binary classification에 사용됩니다.<br>\n",
    "라이브러리 사용하면 알아서 처리되지만, 기본적으로 labels은 -1 또는 1이어야 합니다. \n",
    "\n",
    "$$ J(\\theta) = max(0,\\ 1 - y * f(x)) $$"
   ]
  },
  {
   "cell_type": "code",
   "execution_count": 13,
   "metadata": {
    "collapsed": false,
    "deletable": true,
    "editable": true
   },
   "outputs": [
    {
     "data": {
      "text/plain": [
       "0.98999995"
      ]
     },
     "execution_count": 13,
     "metadata": {},
     "output_type": "execute_result"
    }
   ],
   "source": [
    "p = np.array([0.1, 0.1, 0.05, 0.6, 0.3], dtype=np.float32)\n",
    "y = np.array([-1, -1, -1, 1, -1], dtype=np.float32)\n",
    "\n",
    "def hinge_loss(y, p):\n",
    "    l = 1-(y*p)\n",
    "    l[l<=0] = 0\n",
    "    return l.mean()\n",
    "\n",
    "hinge_loss(y, p)"
   ]
  },
  {
   "cell_type": "code",
   "execution_count": 14,
   "metadata": {
    "collapsed": false,
    "deletable": true,
    "editable": true
   },
   "outputs": [
    {
     "data": {
      "text/plain": [
       "0.98999999836087227"
      ]
     },
     "execution_count": 14,
     "metadata": {},
     "output_type": "execute_result"
    }
   ],
   "source": [
    "metrics.hinge_loss(y, p)"
   ]
  },
  {
   "cell_type": "markdown",
   "metadata": {
    "deletable": true,
    "editable": true
   },
   "source": [
    "## KL-Divergence\n",
    "\n",
    "$$ D_{KL}\\left(p(x), q(x)\\right) = \\sum_{x \\in X} p(x) \\ln\\frac{p(x)}{q(x)} $$"
   ]
  },
  {
   "cell_type": "code",
   "execution_count": 15,
   "metadata": {
    "collapsed": false,
    "deletable": true,
    "editable": true
   },
   "outputs": [
    {
     "name": "stdout",
     "output_type": "stream",
     "text": [
      "normal_a, normal_a\t: 0.0\n",
      "normal_a, normal_b\t: 328.856300484\n",
      "normal_a, gumbel  \t: 2596.26188421\n",
      "normal_a, exponent\t: 5143.88562983\n",
      "normal_a, uniform \t: 6247.6192777\n"
     ]
    },
    {
     "name": "stderr",
     "output_type": "stream",
     "text": [
      "/usr/local/lib/python3.6/site-packages/ipykernel/__main__.py:2: RuntimeWarning: invalid value encountered in log\n",
      "  from ipykernel import kernelapp as app\n"
     ]
    }
   ],
   "source": [
    "def kl_divergence(y, p):\n",
    "    return np.sum(y * np.nan_to_num(np.log(y/p)), axis=0)\n",
    "\n",
    "print('normal_a, normal_a\\t:', kl_divergence(a, a))\n",
    "print('normal_a, normal_b\\t:', kl_divergence(a, b))\n",
    "print('normal_a, gumbel  \\t:', kl_divergence(a, c))\n",
    "print('normal_a, exponent\\t:', kl_divergence(a, d))\n",
    "print('normal_a, uniform \\t:', kl_divergence(a, f))"
   ]
  },
  {
   "cell_type": "markdown",
   "metadata": {},
   "source": [
    "## Cosine Proximity\n",
    "\n",
    "* https://en.wikipedia.org/wiki/Cosine_similarity\n",
    "\n",
    "$$ \\text{similarity} = cos(\\theta) = \\frac{A \\cdot B}{ \\| A \\|_2 \\| B \\|_2}  $$"
   ]
  },
  {
   "cell_type": "code",
   "execution_count": 16,
   "metadata": {
    "collapsed": false
   },
   "outputs": [
    {
     "name": "stdout",
     "output_type": "stream",
     "text": [
      "normal_a, normal_a\t: 0.0\n",
      "normal_a, normal_b\t: 0.0992429928099\n",
      "normal_a, gumbel  \t: 0.588281686107\n",
      "normal_a, exponent\t: 0.321764215214\n",
      "normal_a, uniform \t: 0.171527639554\n"
     ]
    }
   ],
   "source": [
    "def cosine_proximity(a, b):\n",
    "    norm2 = lambda x: np.sqrt((x**2).sum())\n",
    "    return 1 - (a * b).sum() / (norm2(a) * norm2(b))\n",
    "\n",
    "print('normal_a, normal_a\\t:', cosine_proximity(a, a))\n",
    "print('normal_a, normal_b\\t:', cosine_proximity(a, b))\n",
    "print('normal_a, gumbel  \\t:', cosine_proximity(a, c))\n",
    "print('normal_a, exponent\\t:', cosine_proximity(a, d))\n",
    "print('normal_a, uniform \\t:', cosine_proximity(a, f))"
   ]
  },
  {
   "cell_type": "code",
   "execution_count": 17,
   "metadata": {
    "collapsed": false
   },
   "outputs": [
    {
     "name": "stdout",
     "output_type": "stream",
     "text": [
      "normal_a, normal_a\t: 2.22044604925e-16\n",
      "normal_a, normal_b\t: 0.0992429928099\n",
      "normal_a, gumbel  \t: 0.588281686107\n",
      "normal_a, exponent\t: 0.321764215214\n",
      "normal_a, uniform \t: 0.171527639554\n"
     ]
    }
   ],
   "source": [
    "print('normal_a, normal_a\\t:', cosine_distantce(a, a))\n",
    "print('normal_a, normal_b\\t:', cosine_distantce(a, b))\n",
    "print('normal_a, gumbel  \\t:', cosine_distantce(a, c))\n",
    "print('normal_a, exponent\\t:', cosine_distantce(a, d))\n",
    "print('normal_a, uniform \\t:', cosine_distantce(a, f))"
   ]
  },
  {
   "cell_type": "markdown",
   "metadata": {},
   "source": [
    "## Poisson\n",
    "\n",
    "* https://github.com/fchollet/keras/pull/479/commits/149d0e8d1871a7864fc2d582d6ce650512de371c"
   ]
  },
  {
   "cell_type": "code",
   "execution_count": 18,
   "metadata": {
    "collapsed": false
   },
   "outputs": [
    {
     "data": {
      "text/plain": [
       "0.33216509"
      ]
     },
     "execution_count": 18,
     "metadata": {},
     "output_type": "execute_result"
    }
   ],
   "source": [
    "p = np.array([0.1, 0.1, 0.05, 0.6, 0.3], dtype=np.float32)\n",
    "y = np.array([0, 0, 0, 1, 0], dtype=np.float32)\n",
    "\n",
    "def poisson_loss(y, p):\n",
    "    return (p - y * np.log(p)).mean()\n",
    "\n",
    "poisson_loss(y, p)"
   ]
  }
 ],
 "metadata": {
  "kernelspec": {
   "display_name": "Python 3",
   "language": "python",
   "name": "python3"
  },
  "language_info": {
   "codemirror_mode": {
    "name": "ipython",
    "version": 3
   },
   "file_extension": ".py",
   "mimetype": "text/x-python",
   "name": "python",
   "nbconvert_exporter": "python",
   "pygments_lexer": "ipython3",
   "version": "3.6.0"
  }
 },
 "nbformat": 4,
 "nbformat_minor": 2
}
