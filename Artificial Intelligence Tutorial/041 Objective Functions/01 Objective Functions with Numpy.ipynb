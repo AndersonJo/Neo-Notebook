{
 "cells": [
  {
   "cell_type": "markdown",
   "metadata": {
    "deletable": true,
    "editable": true
   },
   "source": [
    "# Objective Functions\n",
    "\n",
    "* https://github.com/JohnLangford/vowpal_wabbit/wiki/Loss-functions\n",
    "\n",
    "| Loss | Minimizer | Example |\n",
    "|:-----|:----------|:--------|\n",
    "| MSE, MAE, RMSLE  | Expectation (mean) | Regression (Expected return on stock) |\n",
    "| Logistic, Entropy, KL-Divergence | Probability | Classification (Probability of click on ad) |\n",
    "| Hinge | 0 ~ 1 approximation | Classification (Is the digit a 7?) |\n",
    "| Poisson | Counts (Log Mean) | Regression (Number of call events to call center) |"
   ]
  },
  {
   "cell_type": "code",
   "execution_count": 1,
   "metadata": {
    "collapsed": false,
    "deletable": true,
    "editable": true
   },
   "outputs": [
    {
     "name": "stdout",
     "output_type": "stream",
     "text": [
      "Populating the interactive namespace from numpy and matplotlib\n"
     ]
    }
   ],
   "source": [
    "%pylab inline\n",
    "import numpy as np\n",
    "from sklearn import metrics\n",
    "from sklearn.preprocessing import minmax_scale\n",
    "from scipy import stats\n",
    "from scipy.spatial.distance import cosine as cosine_distantce"
   ]
  },
  {
   "cell_type": "markdown",
   "metadata": {},
   "source": [
    "## Data"
   ]
  },
  {
   "cell_type": "code",
   "execution_count": 2,
   "metadata": {
    "collapsed": false
   },
   "outputs": [
    {
     "data": {
      "text/plain": [
       "<matplotlib.legend.Legend at 0x7f12b1299128>"
      ]
     },
     "execution_count": 2,
     "metadata": {},
     "output_type": "execute_result"
    },
    {
     "data": {
      "image/png": "[encoded data removed]",
      "text/plain": [
       "<matplotlib.figure.Figure at 0x7f12fa36e390>"
      ]
     },
     "metadata": {},
     "output_type": "display_data"
    }
   ],
   "source": [
    "a = np.random.normal(loc=3, size=1000)\n",
    "b = np.random.normal(loc=3, size=1000)\n",
    "c = np.random.gumbel(size=1000)\n",
    "d = np.random.exponential(size=1000)\n",
    "f = np.random.uniform(size=1000)\n",
    "\n",
    "hist(a, bins=80, label='nomal a')\n",
    "hist(b, bins=80, label='normal b')\n",
    "hist(c, bins=80, label='gumbel c')\n",
    "hist(d, bins=80, label='exponential d')\n",
    "hist(f, bins=80, label='uniform f')\n",
    "\n",
    "grid()\n",
    "legend()"
   ]
  },
  {
   "cell_type": "code",
   "execution_count": 30,
   "metadata": {
    "collapsed": false
   },
   "outputs": [],
   "source": [
    "def compare_distributions(func):\n",
    "    print('normal_a, normal_a\\t:', func(a, a))\n",
    "    print('normal_a, normal_b\\t:', func(a, b))\n",
    "    print('normal_a, gumbel  \\t:', func(a, c))\n",
    "    print('normal_a, exponent\\t:', func(a, d))\n",
    "    print('normal_a, uniform \\t:', func(a, f))\n",
    "    \n",
    "def display_graph(func, name='loss', start=-1, end=1):\n",
    "    y = np.array([1])\n",
    "    predictions = np.arange(start, end, 0.001)\n",
    "    predictions[predictions == 0] = 1e-18\n",
    "    \n",
    "    r = [func(y, np.array([p])) if p != 0 else 1e-18 for p in predictions]\n",
    "    \n",
    "    title(name)\n",
    "    xlabel(f'prediction value {start} ~ {end}')\n",
    "    ylabel(f'{name} value')\n",
    "    plot(predictions, r)\n",
    "    grid()"
   ]
  },
  {
   "cell_type": "markdown",
   "metadata": {
    "deletable": true,
    "editable": true
   },
   "source": [
    "## Mean Squared Error (MSE)\n",
    "\n",
    "* http://mccormickml.com/2014/03/04/gradient-descent-derivation/\n",
    "\n",
    "$$ J(\\theta) = \\frac{1}{N} \\sum^{N}_{i=1} \\left( h_{\\theta}(x^{(i)}) - y^{(i)}  \\right)^2 $$\n",
    "\n",
    "* $ J $ : cost function\n",
    "* $ \\theta $ : parameters (weights)\n",
    "* N : training data의 갯수\n",
    "* $ x^{(i)} $ : $ i^{th} $의 training input vector\n",
    "* $ y^{(i)} $ : $ i^{th} $의 class label\n",
    "* $ h_{\\theta} \\left( x^{(i)} \\right) $ : $ \\theta $를 사용하여 나온 $ i^{th} $ data에 대한 prediction\n"
   ]
  },
  {
   "cell_type": "code",
   "execution_count": 4,
   "metadata": {
    "collapsed": false,
    "deletable": true,
    "editable": true
   },
   "outputs": [
    {
     "data": {
      "text/plain": [
       "0.054499995"
      ]
     },
     "execution_count": 4,
     "metadata": {},
     "output_type": "execute_result"
    }
   ],
   "source": [
    "p = np.array([0.1, 0.1, 0.05, 0.6, 0.3], dtype=np.float32)\n",
    "y = np.array([0, 0, 0, 1, 0], dtype=np.float32)\n",
    "\n",
    "def mean_squared_error(y, p):\n",
    "    return ((y - p)**2).mean()\n",
    "\n",
    "mean_squared_error(y, p)"
   ]
  },
  {
   "cell_type": "code",
   "execution_count": 5,
   "metadata": {
    "collapsed": false,
    "deletable": true,
    "editable": true
   },
   "outputs": [
    {
     "data": {
      "text/plain": [
       "0.054499995"
      ]
     },
     "execution_count": 5,
     "metadata": {},
     "output_type": "execute_result"
    }
   ],
   "source": [
    "metrics.mean_squared_error(y, p)"
   ]
  },
  {
   "cell_type": "code",
   "execution_count": 6,
   "metadata": {
    "collapsed": false
   },
   "outputs": [
    {
     "name": "stdout",
     "output_type": "stream",
     "text": [
      "normal_a, normal_a\t: 0.0\n",
      "normal_a, normal_b\t: 1.95422582075\n",
      "normal_a, gumbel  \t: 8.53230782101\n",
      "normal_a, exponent\t: 6.17767046729\n",
      "normal_a, uniform \t: 7.55049095982\n"
     ]
    }
   ],
   "source": [
    "compare_distributions(mean_squared_error)"
   ]
  },
  {
   "cell_type": "code",
   "execution_count": 31,
   "metadata": {
    "collapsed": false
   },
   "outputs": [
    {
     "data": {
      "image/png": "[encoded data removed]",
      "text/plain": [
       "<matplotlib.figure.Figure at 0x7f12ae1bb0f0>"
      ]
     },
     "metadata": {},
     "output_type": "display_data"
    }
   ],
   "source": [
    "display_graph(metrics.mean_squared_error, 'mean squared error')"
   ]
  },
  {
   "cell_type": "markdown",
   "metadata": {},
   "source": [
    "## Mean Absolute Error (MAE)\n",
    "\n",
    "$$ J(\\theta) = \\frac{1}{N} \\sum^{N}_{i=1} \\left| h_{\\theta}(x^{(i)}) - y^{(i)}  \\right| $$"
   ]
  },
  {
   "cell_type": "code",
   "execution_count": 8,
   "metadata": {
    "collapsed": false
   },
   "outputs": [
    {
     "data": {
      "text/plain": [
       "0.19"
      ]
     },
     "execution_count": 8,
     "metadata": {},
     "output_type": "execute_result"
    }
   ],
   "source": [
    "def mean_abolute_error(y, p):\n",
    "    return np.abs(y-p).mean()\n",
    "\n",
    "mean_abolute_error(y, p)"
   ]
  },
  {
   "cell_type": "code",
   "execution_count": 9,
   "metadata": {
    "collapsed": false
   },
   "outputs": [
    {
     "data": {
      "text/plain": [
       "0.19"
      ]
     },
     "execution_count": 9,
     "metadata": {},
     "output_type": "execute_result"
    }
   ],
   "source": [
    "metrics.mean_absolute_error(y, p)"
   ]
  },
  {
   "cell_type": "code",
   "execution_count": 10,
   "metadata": {
    "collapsed": false
   },
   "outputs": [
    {
     "name": "stdout",
     "output_type": "stream",
     "text": [
      "normal_a, normal_a\t: 0.0\n",
      "normal_a, normal_b\t: 1.11654426401\n",
      "normal_a, gumbel  \t: 2.58843549527\n",
      "normal_a, exponent\t: 2.20789011894\n",
      "normal_a, uniform \t: 2.55287060339\n"
     ]
    }
   ],
   "source": [
    "# Scipy도 동일함\n",
    "compare_distributions(mean_abolute_error)"
   ]
  },
  {
   "cell_type": "code",
   "execution_count": 32,
   "metadata": {
    "collapsed": false
   },
   "outputs": [
    {
     "data": {
      "image/png": "[encoded data removed]",
      "text/plain": [
       "<matplotlib.figure.Figure at 0x7f12ae404a20>"
      ]
     },
     "metadata": {},
     "output_type": "display_data"
    }
   ],
   "source": [
    "display_graph(metrics.mean_absolute_error, 'mean absolute error')"
   ]
  },
  {
   "cell_type": "markdown",
   "metadata": {},
   "source": [
    "## Root Mean Squared Logarithmic Error (RMSLE)\n",
    "\n",
    "$$ \\epsilon = \\sqrt{\\frac{1}{n} \\sum_{i=1}^n (\\log(p_i + 1) - \\log(a_i+1))^2 } $$"
   ]
  },
  {
   "cell_type": "code",
   "execution_count": 12,
   "metadata": {
    "collapsed": false
   },
   "outputs": [
    {
     "data": {
      "text/plain": [
       "0.16683918"
      ]
     },
     "execution_count": 12,
     "metadata": {},
     "output_type": "execute_result"
    }
   ],
   "source": [
    "def mean_squared_logarithmic_error(y, p):\n",
    "    try:\n",
    "        l = lambda x: np.nan_to_num(np.log(x + 1))\n",
    "        return np.sqrt(((l(p) - l(y))**2).mean())\n",
    "    except Exception as e:\n",
    "        print(p + 1)\n",
    "        raise e\n",
    "\n",
    "mean_squared_logarithmic_error(y, p)"
   ]
  },
  {
   "cell_type": "code",
   "execution_count": 13,
   "metadata": {
    "collapsed": false
   },
   "outputs": [
    {
     "name": "stdout",
     "output_type": "stream",
     "text": [
      "normal_a, normal_a\t: 0.0\n",
      "normal_a, normal_b\t: 0.374527773924\n",
      "normal_a, gumbel  \t: 1.47663258856\n",
      "normal_a, exponent\t: 0.917856836616\n",
      "normal_a, uniform \t: 1.03344058128\n"
     ]
    },
    {
     "name": "stderr",
     "output_type": "stream",
     "text": [
      "/usr/local/lib/python3.6/site-packages/ipykernel/__main__.py:3: RuntimeWarning: invalid value encountered in log\n",
      "  app.launch_new_instance()\n"
     ]
    }
   ],
   "source": [
    "compare_distributions(mean_squared_logarithmic_error)"
   ]
  },
  {
   "cell_type": "code",
   "execution_count": 34,
   "metadata": {
    "collapsed": false
   },
   "outputs": [
    {
     "data": {
      "image/png": "[encoded data removed]",
      "text/plain": [
       "<matplotlib.figure.Figure at 0x7f12ae171550>"
      ]
     },
     "metadata": {},
     "output_type": "display_data"
    }
   ],
   "source": [
    "display_graph(mean_squared_logarithmic_error, 'mean squared logarithmic error', start=-0.999)"
   ]
  },
  {
   "cell_type": "markdown",
   "metadata": {
    "deletable": true,
    "editable": true
   },
   "source": [
    "## Binary Cross Entropy (a.k.a Logarithmic Loss)\n",
    "\n",
    "* https://www.kaggle.com/wiki/LogarithmicLoss\n",
    "\n",
    "$$ \\text{logloss} = -\\frac{1}{N} \\sum^{N}_{i=1} \\left( y^{(i)} \\cdot \\log(p_i) + (1 - y) \\cdot \\log(1- p_i) )  \\right) $$\n",
    "\n",
    "binary cross entropy의 경우는 binary classfication에서 주로 사용이 됩니다."
   ]
  },
  {
   "cell_type": "code",
   "execution_count": 15,
   "metadata": {
    "collapsed": false,
    "deletable": true,
    "editable": true
   },
   "outputs": [
    {
     "data": {
      "text/plain": [
       "0.22590299"
      ]
     },
     "execution_count": 15,
     "metadata": {},
     "output_type": "execute_result"
    }
   ],
   "source": [
    "p = np.array([0.1, 0.1, 0.05, 0.6, 0.3], dtype=np.float32)\n",
    "y = np.array([0, 0, 0, 1, 0], dtype=np.float32)\n",
    "\n",
    "def binary_cross_entropy(y, p):\n",
    "    return -(y * np.log(p) + (1-y) * np.log(1-p)).mean()\n",
    "\n",
    "binary_cross_entropy(y, p)"
   ]
  },
  {
   "cell_type": "code",
   "execution_count": 16,
   "metadata": {
    "collapsed": false,
    "deletable": true,
    "editable": true
   },
   "outputs": [
    {
     "data": {
      "text/plain": [
       "0.22590298801660538"
      ]
     },
     "execution_count": 16,
     "metadata": {},
     "output_type": "execute_result"
    }
   ],
   "source": [
    "# Scipy와 동일함\n",
    "metrics.log_loss(y, p)"
   ]
  },
  {
   "cell_type": "code",
   "execution_count": 35,
   "metadata": {
    "collapsed": false
   },
   "outputs": [
    {
     "data": {
      "image/png": "[encoded data removed]",
      "text/plain": [
       "<matplotlib.figure.Figure at 0x7f12ae41c400>"
      ]
     },
     "metadata": {},
     "output_type": "display_data"
    }
   ],
   "source": [
    "display_graph(binary_cross_entropy, 'binary cross entropy', start=0)"
   ]
  },
  {
   "cell_type": "markdown",
   "metadata": {},
   "source": [
    "## Cross Entropy\n",
    "\n",
    "* https://rdipietro.github.io/friendly-intro-to-cross-entropy-loss/\n",
    "\n",
    "$$ H(y, \\hat{y}) = - \\sum_i y_i \\log \\hat{y}_1 $$"
   ]
  },
  {
   "cell_type": "code",
   "execution_count": 18,
   "metadata": {
    "collapsed": false
   },
   "outputs": [
    {
     "data": {
      "text/plain": [
       "0.51082557"
      ]
     },
     "execution_count": 18,
     "metadata": {},
     "output_type": "execute_result"
    }
   ],
   "source": [
    "p = np.array([0.1, 0.1, 0.05, 0.6, 0.3], dtype=np.float32)\n",
    "y = np.array([0, 0, 0, 1, 0], dtype=np.float32)\n",
    "\n",
    "def cross_entropy(y, p):\n",
    "    return -(y * np.nan_to_num(np.log(p))).sum()\n",
    "\n",
    "cross_entropy(y, p)"
   ]
  },
  {
   "cell_type": "code",
   "execution_count": 36,
   "metadata": {
    "collapsed": false,
    "scrolled": true
   },
   "outputs": [
    {
     "data": {
      "image/png": "[encoded data removed]",
      "text/plain": [
       "<matplotlib.figure.Figure at 0x7f12ae40ec50>"
      ]
     },
     "metadata": {},
     "output_type": "display_data"
    }
   ],
   "source": [
    "display_graph(binary_cross_entropy, 'cross entropy', start=0)"
   ]
  },
  {
   "cell_type": "markdown",
   "metadata": {
    "deletable": true,
    "editable": true
   },
   "source": [
    "## Hinge Loss\n",
    "\n",
    "logistic과 마찬가지로 binary classification에 사용됩니다.<br>\n",
    "라이브러리 사용하면 알아서 처리되지만, 기본적으로 labels은 -1 또는 1이어야 합니다. \n",
    "\n",
    "$$ J(\\theta) = max(0,\\ 1 - y * f(x)) $$"
   ]
  },
  {
   "cell_type": "code",
   "execution_count": 20,
   "metadata": {
    "collapsed": false,
    "deletable": true,
    "editable": true
   },
   "outputs": [
    {
     "data": {
      "text/plain": [
       "0.98999995"
      ]
     },
     "execution_count": 20,
     "metadata": {},
     "output_type": "execute_result"
    }
   ],
   "source": [
    "p = np.array([0.1, 0.1, 0.05, 0.6, 0.3], dtype=np.float32)\n",
    "y = np.array([-1, -1, -1, 1, -1], dtype=np.float32)\n",
    "\n",
    "def hinge_loss(y, p):\n",
    "    l = 1-(y*p)\n",
    "    l[l<=0] = 0\n",
    "    return l.mean()\n",
    "\n",
    "hinge_loss(y, p)"
   ]
  },
  {
   "cell_type": "code",
   "execution_count": 21,
   "metadata": {
    "collapsed": false,
    "deletable": true,
    "editable": true
   },
   "outputs": [
    {
     "data": {
      "text/plain": [
       "0.98999999836087227"
      ]
     },
     "execution_count": 21,
     "metadata": {},
     "output_type": "execute_result"
    }
   ],
   "source": [
    "metrics.hinge_loss(y, p)"
   ]
  },
  {
   "cell_type": "code",
   "execution_count": 22,
   "metadata": {
    "collapsed": false
   },
   "outputs": [
    {
     "data": {
      "image/png": "[encoded data removed]",
      "text/plain": [
       "<matplotlib.figure.Figure at 0x7f12ae460f98>"
      ]
     },
     "metadata": {},
     "output_type": "display_data"
    }
   ],
   "source": [
    "display_graph(hinge_loss, 'Hinge')"
   ]
  },
  {
   "cell_type": "markdown",
   "metadata": {
    "deletable": true,
    "editable": true
   },
   "source": [
    "## KL-Divergence\n",
    "\n",
    "$$ D_{KL}\\left(p(x), q(x)\\right) = \\sum_{x \\in X} p(x) \\ln\\frac{p(x)}{q(x)} $$\n",
    "\n",
    "> 참고로.. Scipy.stats.entropy(a, b)를 사용하면 KL-Divergence를 사용하는 것과 마찬가지인데.. <br>\n",
    "> 내부적으로 nan등 처리가 안되어 있어서 값이 안나옴"
   ]
  },
  {
   "cell_type": "code",
   "execution_count": 23,
   "metadata": {
    "collapsed": false,
    "deletable": true,
    "editable": true
   },
   "outputs": [
    {
     "name": "stdout",
     "output_type": "stream",
     "text": [
      "normal_a, normal_a\t: 0.0\n",
      "normal_a, normal_b\t: 363.568491488\n",
      "normal_a, gumbel  \t: 2615.4548795\n",
      "normal_a, exponent\t: 5385.28047443\n",
      "normal_a, uniform \t: 6595.39665732\n"
     ]
    },
    {
     "name": "stderr",
     "output_type": "stream",
     "text": [
      "/usr/local/lib/python3.6/site-packages/ipykernel/__main__.py:2: RuntimeWarning: invalid value encountered in log\n",
      "  from ipykernel import kernelapp as app\n"
     ]
    }
   ],
   "source": [
    "def kl_divergence(y, p):\n",
    "    return np.sum(y * np.nan_to_num(np.log(y/p)), axis=0)\n",
    "\n",
    "compare_distributions(kl_divergence)"
   ]
  },
  {
   "cell_type": "code",
   "execution_count": 37,
   "metadata": {
    "collapsed": false
   },
   "outputs": [
    {
     "data": {
      "image/png": "[encoded data removed]",
      "text/plain": [
       "<matplotlib.figure.Figure at 0x7f12ae494e80>"
      ]
     },
     "metadata": {},
     "output_type": "display_data"
    }
   ],
   "source": [
    "display_graph(kl_divergence, 'KL-Divergence', start=0)"
   ]
  },
  {
   "cell_type": "markdown",
   "metadata": {},
   "source": [
    "## Cosine Proximity\n",
    "\n",
    "* https://en.wikipedia.org/wiki/Cosine_similarity\n",
    "\n",
    "$$ \\text{similarity} = cos(\\theta) = \\frac{A \\cdot B}{ \\| A \\|_2 \\| B \\|_2}  $$"
   ]
  },
  {
   "cell_type": "code",
   "execution_count": 25,
   "metadata": {
    "collapsed": false
   },
   "outputs": [
    {
     "data": {
      "text/plain": [
       "0.016130089900092459"
      ]
     },
     "execution_count": 25,
     "metadata": {},
     "output_type": "execute_result"
    }
   ],
   "source": [
    "def cosine_proximity(a, b):\n",
    "    norm2 = lambda x: np.sqrt((x**2).sum())\n",
    "    return 1 - (a * b).sum() / (norm2(a) * norm2(b))\n",
    "\n",
    "cosine_proximity(np.array([0.3, 0.4]), np.array([1, 2]))"
   ]
  },
  {
   "cell_type": "code",
   "execution_count": 26,
   "metadata": {
    "collapsed": false
   },
   "outputs": [
    {
     "name": "stdout",
     "output_type": "stream",
     "text": [
      "normal_a, normal_a\t: 5.55111512313e-16\n",
      "normal_a, normal_b\t: 0.0952074319172\n",
      "normal_a, gumbel  \t: 0.586622922564\n",
      "normal_a, exponent\t: 0.315703846687\n",
      "normal_a, uniform \t: 0.172780844985\n"
     ]
    }
   ],
   "source": [
    "compare_distributions(cosine_distantce)"
   ]
  },
  {
   "cell_type": "code",
   "execution_count": 27,
   "metadata": {
    "collapsed": false
   },
   "outputs": [
    {
     "data": {
      "image/png": "[encoded data removed]",
      "text/plain": [
       "<matplotlib.figure.Figure at 0x7f12ae1fe780>"
      ]
     },
     "metadata": {},
     "output_type": "display_data"
    }
   ],
   "source": [
    "display_graph(cosine_proximity, 'Cosine Proximity')"
   ]
  },
  {
   "cell_type": "markdown",
   "metadata": {},
   "source": [
    "## Poisson\n",
    "\n",
    "* https://github.com/fchollet/keras/pull/479/commits/149d0e8d1871a7864fc2d582d6ce650512de371c"
   ]
  },
  {
   "cell_type": "code",
   "execution_count": 38,
   "metadata": {
    "collapsed": false
   },
   "outputs": [
    {
     "data": {
      "text/plain": [
       "0.33216509"
      ]
     },
     "execution_count": 38,
     "metadata": {},
     "output_type": "execute_result"
    }
   ],
   "source": [
    "p = np.array([0.1, 0.1, 0.05, 0.6, 0.3], dtype=np.float32)\n",
    "y = np.array([0, 0, 0, 1, 0], dtype=np.float32)\n",
    "\n",
    "def poisson_loss(y, p):\n",
    "    return (p - y * np.log(p)).mean()\n",
    "\n",
    "poisson_loss(y, p)"
   ]
  },
  {
   "cell_type": "code",
   "execution_count": 40,
   "metadata": {
    "collapsed": false
   },
   "outputs": [
    {
     "data": {
      "image/png": "[encoded data removed]",
      "text/plain": [
       "<matplotlib.figure.Figure at 0x7f12ae41cb38>"
      ]
     },
     "metadata": {},
     "output_type": "display_data"
    }
   ],
   "source": [
    "display_graph(poisson_loss, 'Poisson Loss', start=0)"
   ]
  }
 ],
 "metadata": {
  "kernelspec": {
   "display_name": "Python 3",
   "language": "python",
   "name": "python3"
  },
  "language_info": {
   "codemirror_mode": {
    "name": "ipython",
    "version": 3
   },
   "file_extension": ".py",
   "mimetype": "text/x-python",
   "name": "python",
   "nbconvert_exporter": "python",
   "pygments_lexer": "ipython3",
   "version": "3.6.0"
  }
 },
 "nbformat": 4,
 "nbformat_minor": 2
}
