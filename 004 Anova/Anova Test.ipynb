{
 "cells": [
  {
   "cell_type": "code",
   "execution_count": 3,
   "metadata": {},
   "outputs": [
    {
     "name": "stdout",
     "output_type": "stream",
     "text": [
      "Populating the interactive namespace from numpy and matplotlib\n"
     ]
    }
   ],
   "source": [
    "%pylab inline\n",
    "\n",
    "import numpy as np\n",
    "import pandas as pd\n",
    "import scipy.stats as stats\n",
    "\n",
    "import seaborn as sns"
   ]
  },
  {
   "cell_type": "markdown",
   "metadata": {},
   "source": [
    "# Introduction\n",
    "\n",
    "ANOVA는 Analysis of Variance의 약자로서, 2개 이상의 그룹의 평균을 비교하고자 할때 Anova를 사용합니다.<br>\n",
    "T-test와 유사한데 차이는 T-test는 2개의 그룹일때만 사용하고, 2개 이상일때는 ANOVA를 사용합니다.\n",
    "\n",
    "* Tests \n",
    "  * Continuous VS Category : ANOVA 사용\n",
    "  * Category VS Category : Chi-sqaure test 사용\n",
    " \n",
    "* Effect Size (얼마나 관련성이 있는지..) \n",
    "  * Continous VS Category: intraclass correlation 사용\n",
    "  * Category VS Category: Cramer's V 사용\n",
    "\n",
    "* One-way ANOVA\n",
    "  * 모든 그룹의 평균값은 동일한가? (예. 연령별 (20대, 30대, 40대, 50대) 에서 커피에 대한 선호도 차이 유무를 검정\n",
    "  * t-test와 유사하지만, 2개 이상의 그룹을 비교할때 사용할 수 있다. (t-test는 2개만 가능)\n",
    "  "
   ]
  },
  {
   "cell_type": "markdown",
   "metadata": {},
   "source": [
    "# ANOVA "
   ]
  },
  {
   "cell_type": "markdown",
   "metadata": {},
   "source": [
    "## Grand Mean\n",
    "\n",
    "$$ \\mu_{GM} = \\frac{\\sum x}{N} = \\frac{\\sum n \\bar{x}}{\\sum n} $$\n",
    "\n",
    "ANOVA에서는 2종류의 평균값이 사용이 됩니다. <br>\n",
    "첫번째는 각 그룹들의 표본평균 $ \\mu_1, \\mu_2, \\mu_3, ... $  그리고 **grand mean** $ \\mu $ 를 사용합니다. <br>\n",
    "grand mean은 각각의 표본평균들에 대한 평균값이라고 보면 됩니다. \n",
    "\n"
   ]
  },
  {
   "cell_type": "markdown",
   "metadata": {},
   "source": [
    "## Null Hypothesis \n",
    "\n",
    "* $ H_0 $ : $ \\mu_1 = \\mu_2 = .. = \\mu_k $ 즉 귀무가설은 모든 그룹의 평균은 정확하게 일치한다 있다. \n",
    "* $ H_A $ : $ \\mu_l \\ne \\mu_m $ : 최소한 한개의 그룹은 $ \\mu_i $ 는 나머지 그룹과 다은 평균값을 갖고 있다.\n",
    "\n",
    "\n",
    "$ \\mu $ 는 해당 그룹의 평균이고, k는 그룹의 갯수입니다. <br>\n",
    "$ \\mu_l $ 그리고 $ \\mu_m $ 은 전체 샘플 중에 아무거나 특정 표본평균을 뜻 합니다.\n"
   ]
  },
  {
   "cell_type": "markdown",
   "metadata": {},
   "source": [
    "## Between Group Variability\n",
    "\n",
    "\n",
    "$$ SS_{\\text{between}} = \\sum^{k}_{i=1} n_i ( \\bar{x}_i - \\bar{X}_{GM} )^2 $$ \n",
    "\n",
    "* 서로 다른 두개의 그룹을 SS 로 표현을 합니다. SS는 Sum of squares의 약자. \n",
    "* 만약 각 그룹간의 표본평균이 서로 가깝다면, Grand Mean 과의 차이도 작을 것 입니다. \n",
    "* $ n_i $ 는 각 그룹의 갯수를 사용해서 각각의 제곱편차(squared deviation)에 weight값으로 사용을 합니다. \n",
    "\n",
    "쉽게 공식을 풀어 쓰면 다음과 같습니다.\n",
    "\n",
    "$$ SS_{\\text{between}} = n_1 (\\bar{x}_1 - \\bar{x}_{GM})^2 + n_2 (\\bar{x}_2 - \\bar{x}_{GM})^2 + n_3 (\\bar{x}_3 - \\bar{x}_{GM})^2 + ... + n_k (\\bar{x}_k - \\bar{x}_{GM})^2 $$\n",
    "\n",
    "아래의 두 표본의 분포를 보면, 서로 겹치는 부분이 있습니다. 각각의 표본평균과 grand mean의 차이는 크지 않을 것 입니다."
   ]
  },
  {
   "cell_type": "code",
   "execution_count": 4,
   "metadata": {},
   "outputs": [
    {
     "name": "stderr",
     "output_type": "stream",
     "text": [
      "/usr/local/lib/python3.6/site-packages/scipy/stats/stats.py:1713: FutureWarning: Using a non-tuple sequence for multidimensional indexing is deprecated; use `arr[tuple(seq)]` instead of `arr[seq]`. In the future this will be interpreted as an array index, `arr[np.array(seq)]`, which will result either in an error or a different result.\n",
      "  return np.add.reduce(sorted[indexer] * weights, axis=axis) / sumval\n"
     ]
    },
    {
     "data": {
      "image/png": "[encoded data removed]",
      "text/plain": [
       "<matplotlib.figure.Figure at 0x7fa1b4839470>"
      ]
     },
     "metadata": {
      "needs_background": "light"
     },
     "output_type": "display_data"
    }
   ],
   "source": [
    "def plot_normal_dist(means, sigmas):\n",
    "    for i, (sample_mean, sigma) in enumerate(zip(means, sigmas)):\n",
    "        normal_data = np.random.normal(sample_mean, scale=sigma, size=100)\n",
    "        sns.distplot(normal_data)\n",
    "\n",
    "means = [4, 3.5]\n",
    "sigmas = [0.2, 0.5]\n",
    "plot_normal_dist(means, sigmas)\n"
   ]
  },
  {
   "cell_type": "markdown",
   "metadata": {},
   "source": [
    "반면에 아래의 두 표본분포를 서로 크게 떨어져 있습니다. 이 경우 각각의 표본 평균과 grand mean은 서로 크게 차이가 날 것입니다. "
   ]
  },
  {
   "cell_type": "code",
   "execution_count": 50,
   "metadata": {},
   "outputs": [
    {
     "data": {
      "image/png": "[encoded data removed]",
      "text/plain": [
       "<Figure size 432x288 with 1 Axes>"
      ]
     },
     "metadata": {
      "needs_background": "light"
     },
     "output_type": "display_data"
    }
   ],
   "source": [
    "plot_normal_dist([2, 5], [0.2, 0.3])"
   ]
  },
  {
   "cell_type": "markdown",
   "metadata": {},
   "source": [
    "이렇게 각 표본분포간의 차이를 **Between-group variability** 라고 합니다. "
   ]
  },
  {
   "cell_type": "markdown",
   "metadata": {},
   "source": [
    "between-group variability의 경우 자유도는 표본 평균의 갯수 k에 -1 을 한 것입니다.\n",
    "\n",
    "$$ MS_{\\text{between}} = \\frac{\\sum^{k}_{i=1} n_i(\\bar{x}_i - \\bar(x)_{GM})}{k-1} $$\n",
    "\n",
    "* k : 그룹의 갯수"
   ]
  },
  {
   "cell_type": "markdown",
   "metadata": {},
   "source": [
    "## Within-Group Variability\n",
    "\n",
    "\n",
    "$$ \\begin{align} SS_{\\text{within}} &= \\sum (n_{1i}-\\bar{x}_1) + \\sum(n_{2i}-\\bar{x}_2) + ... + \\sum(n_{ki}-\\bar{x}_k) \\\\\n",
    "&= \\sum (x_{ij} - \\bar{x}_j)^2\n",
    "\\end{align} $$\n",
    "\n",
    "> $ n_{1i} $ 라는 뜻은 첫번째 샘플에서의 i번째의 값을 의미 합니다. <br>\n",
    "> $ n_{2i} $ 라는 뜻은 두번째 샘플에서의 i번째의 값을 의미 합니다. <br>\n",
    "> $ n_{ji} $ 라는 뜻은 j번째 샘플에서의 i번째 값을 의미 합니다.\n",
    "\n",
    "예를 들어서 아래 세개의 표본에 대한 분포를 그렸습니다. <br>\n",
    "각 그룹들이 옆으로 더 퍼질수록 (variability), 각 그룹들의 분포는 서로 겹치게 되고, 하나의 큰 population이 되게 됩니다."
   ]
  },
  {
   "cell_type": "code",
   "execution_count": 14,
   "metadata": {},
   "outputs": [
    {
     "data": {
      "image/png": "[encoded data removed]",
      "text/plain": [
       "<matplotlib.figure.Figure at 0x7fa1b01a2cc0>"
      ]
     },
     "metadata": {
      "needs_background": "light"
     },
     "output_type": "display_data"
    }
   ],
   "source": [
    "plot_normal_dist([1, 20, 40], [7, 7, 7])"
   ]
  },
  {
   "cell_type": "markdown",
   "metadata": {},
   "source": [
    "이번에는 위와 동일한 평균값을 갖고 있지만, 적은 변동성 (variability)을 갖고 있는 분포를 보도록 하겠습니다.<br>\n",
    "위와 동일하게 샘플들간의 표본평균은 동일하지만, 서로 완전히 다른 population에 종속이 되어 있습니다."
   ]
  },
  {
   "cell_type": "code",
   "execution_count": 18,
   "metadata": {},
   "outputs": [
    {
     "data": {
      "image/png": "[encoded data removed]",
      "text/plain": [
       "<matplotlib.figure.Figure at 0x7fa1b015bc18>"
      ]
     },
     "metadata": {
      "needs_background": "light"
     },
     "output_type": "display_data"
    }
   ],
   "source": [
    "plot_normal_dist([1, 20, 40], [2, 2, 2])"
   ]
  },
  {
   "cell_type": "markdown",
   "metadata": {},
   "source": [
    "위와 같이 각 샘플안에서의 variation을 **Within-group Variation**이라고 합니다.<br>\n",
    "즉 Between-group variability는 **각 샘플들 사이의 표본평균의 차**를 구했다면.. <br>\n",
    "Within-group variation에서는 **각각의 샘플들 마다 존재하는 편차**를 구하게 됩니다."
   ]
  },
  {
   "cell_type": "markdown",
   "metadata": {},
   "source": [
    "Between-group variability에서 했듯이, 제곱편차의 합을 **degrees of freedom**으로 나누어 줄수 있습니다. <br>\n",
    "이렇게 나누어 주면 좀더 덜 편향된 (less biased) estimator를 구할 수 있습니다.<br>\n",
    "\n",
    "Within-group variability의 degrees of freedom은 전체 샘플 크기들의 합 (sum of the sample sizes) N 에다 샘플듯의 갯수 k 를 빼주게 됩니다.<br>\n",
    "\n",
    "$$ \\text{MS}_{\\text{within}} = \\frac{\\sum (x_{ji} - \\bar{x}_i)^2}{N-k} $$\n",
    "\n",
    "* MS: mean sum of square\n",
    "* N : 전체 데이터 갯수\n",
    "* k : 샘플들의 갯수"
   ]
  },
  {
   "cell_type": "markdown",
   "metadata": {},
   "source": [
    "## Degree of Freedom\n",
    "\n",
    "각 공식별 degree of freedoms은 다음과 같이 정의 할 수 있습니다.\n",
    "\n",
    "* $ DOF(SS_{between}) = k -1 $\n",
    "* $ DOF(SS_{within}) = N - k $\n",
    "* $ DOF(total) = N - 1 $"
   ]
  },
  {
   "cell_type": "markdown",
   "metadata": {},
   "source": [
    "## F Test \n",
    "\n",
    "독립변수와 종속변수 사이의 관계성을 테스트하기 위해서는 F distribution이 사용이 됩니다. \n",
    "\n",
    "$$ F = \\frac{MS_{between}}{MS_{within}} $$\n",
    "\n",
    "* $ MS_{\\text{between}} $ : mean sum of squares due to treatment\n",
    "* $ MS_{\\text{within}} $ : mean sum of squares due to error\n",
    "\n",
    "표본평균들간의 차이를 나타낸 것을 **F-Ratio** 라고 합니다. <br>\n",
    "<span style=\"color:red\">\n",
    "**F-Ratio의 값이 1또는 그이하라면, 표본평균들은 서로 유사하다고 볼수 있으며,<br>\n",
    "    표본평균들이 모두 모평균과 동일하다는 귀무가설이 맞게 됩니다..**<br>\n",
    "**만약 F-Ratio의 값이 매우 높다면, 귀무가설은 기각이 됩니다.**\n",
    "    </span>\n",
    "\n",
    "앞서 언급했듯이 between-group variability(그룹 간 변동성) 증가할수록, 표본평균들간의 거리는 서로 더 멀리 떨어져 있다고 볼 수 있습니다.<br>\n",
    "즉 멀어지면 멀어질수록 다른 모집단에 속해 있을 가능성이 큽니다. \n",
    "\n",
    "![Anova01](images/anova-01.png)\n",
    "<p style=\"text-align:center\">Source: Dr. Asim’s Anatomy Cafe</p>"
   ]
  },
  {
   "cell_type": "markdown",
   "metadata": {},
   "source": [
    "z 그리고 t-distributions과는 다르게, F-distribution은 negative value가 없습니다. <br>\n",
    "이유는 between group이나 within group 모두 각 편차를 제곱(squaring each deviation)하기 때문입니다. \n",
    "\n",
    "따라서 아래 그래프에서 보듯이 임계 영역(critical region)은 오른쪽 꼬리(right tail)에 한군데 존재합니다. \n",
    "\n",
    "**만약 F-statistic값이 해당 임계 영역안에 있다면 서로간의 표본평균들은 매우 다르기 때문에 귀무가설을 기각할 수 있습니다.**<br>\n",
    "\n",
    "![Anova01](images/anova-02.png)\n",
    "<p style=\"text-align:center\">Source: Statistics How To</p>\n",
    "\n",
    "임계 영역을 나누는 critical value를 찾아야 하는데, 이때 [F-table](http://users.sussex.ac.uk/~grahamh/RM1web/F-ratio%20table%202005.pdf)을 사용하게 됩니다."
   ]
  },
  {
   "cell_type": "markdown",
   "metadata": {},
   "source": [
    "# One Way ANOVA \n",
    "\n",
    "예제를 갖고서 설명을 하겠습니다. <br>\n",
    "\n",
    "그룹 X, Y, Z그룹으로 나뉘어 지며, 공부 방법에 따른 성적이라고 생각하면 됩니다. \n"
   ]
  },
  {
   "cell_type": "code",
   "execution_count": 168,
   "metadata": {},
   "outputs": [
    {
     "name": "stdout",
     "output_type": "stream",
     "text": [
      "[표본평균]\n",
      "X    7.0\n",
      "Y    4.0\n",
      "Z    4.3\n",
      "dtype: float64\n",
      "\n",
      "[Grand Mean]\n",
      "5.1000000000000005\n"
     ]
    }
   ],
   "source": [
    "data = pd.DataFrame([[7, 9, 5, 8, 6, 8, 6, 10, 7, 4], \n",
    "                     [4, 3, 6, 2, 7, 5, 5, 4, 1, 3],\n",
    "                     [6, 1, 3, 5, 3, 4, 6, 5, 7, 3]]).T\n",
    "\n",
    "data.columns = ('X', 'Y', 'Z')\n",
    "\n",
    "print('[표본평균]')\n",
    "print(data.mean(axis=0))\n",
    "print()\n",
    "\n",
    "print('[Grand Mean]')\n",
    "print(data.mean(axis=0).mean())"
   ]
  },
  {
   "cell_type": "markdown",
   "metadata": {},
   "source": [
    "* 각 그룹의 표본평균: $ \\mu_1 = 7 $, $ \\mu_2 = 4 $, $ \\mu_3 = 4.3 $\n",
    "* 전체 평균 (Grand Mean): $ \\mu = 5.1 $ \n"
   ]
  },
  {
   "cell_type": "markdown",
   "metadata": {},
   "source": [
    "## Boxplot 을 통한 분석\n",
    "\n",
    "간단하게는 boxplot을 통해서 대략의 인싸이트를 얻을 수 있습니다. <br>\n",
    "\n",
    "> 아래에서도 언급하겠지만, boxplot만 갖고서 결론을 내리기에는 부족합니다."
   ]
  },
  {
   "cell_type": "code",
   "execution_count": 169,
   "metadata": {},
   "outputs": [
    {
     "data": {
      "text/plain": [
       "<matplotlib.axes._subplots.AxesSubplot at 0x7f7970f41630>"
      ]
     },
     "execution_count": 169,
     "metadata": {},
     "output_type": "execute_result"
    },
    {
     "data": {
      "image/png": "[encoded data removed]",
      "text/plain": [
       "<Figure size 432x288 with 1 Axes>"
      ]
     },
     "metadata": {
      "needs_background": "light"
     },
     "output_type": "display_data"
    }
   ],
   "source": [
    "sns.boxplot(data=data)\n",
    "sns.swarmplot(data=data, color='.2')"
   ]
  },
  {
   "cell_type": "markdown",
   "metadata": {},
   "source": [
    "\n",
    "> Boxplot을 통해서 분산분석을 하는 것은 꽤 유용합니다.<br>\n",
    "> 다만 **boxplot만 보고서 판단은 할 수가 없습니다.** <br>\n",
    "> $ SS_{between} $ 에서 보면, n * square of deviation 을 하게 되는데.. 여기서 n값이 weight값으로 사용이 됩니다. <br>\n",
    "> 즉 boxplot자체에는 각 샘플마다 얼마나 중요도가 있는지 알 수가 없으며, <br>\n",
    "> 또한 각 표본평균들간에 실제로 얼마나 차이가 나고 의미가 있는지, 분산이 큰것과는 어떤 관계가 있는지 등등 유의성을 알 수가 없습니다.<br>\n",
    "> 이 경우 일원분산분석이나 이원분산분석등을 사용하게 됩니다."
   ]
  },
  {
   "cell_type": "markdown",
   "metadata": {},
   "source": [
    "## With Scipy\n",
    "\n",
    "Scipy를 이용해서 두개 이상의 그룹이 동일한 모평균을 갖고 있다는 귀무가설을 테스트 할 수 있습니다. <br>\n",
    "이때 P-value가 유효하기 위해서는 다음의 가정이 충족되어야 합니다.\n",
    "\n",
    "* 표본들은 모두 독립적이다. \n",
    "* 각각의 표본들은 정규분포를 따른다\n",
    "* 모든 그룹들의 모표준편차 (population standard deviations of the groups) 는 모두 동일하다\n",
    "\n",
    "만약 위의 가정들이 맞지 않는다면, Kruskal Wallis H-test 같은 다른 방법을 사용해야 합니다."
   ]
  },
  {
   "cell_type": "code",
   "execution_count": 241,
   "metadata": {},
   "outputs": [
    {
     "name": "stdout",
     "output_type": "stream",
     "text": [
      "F=8.1809, p=0.00167\n"
     ]
    }
   ],
   "source": [
    "from scipy import stats\n",
    "\n",
    "F_statistic, p_value = stats.f_oneway(data['X'], data['Y'], data['Z'])\n",
    "print('F={0:.4f}, p={1:.5f}'.format(F_statistic, p_value))"
   ]
  },
  {
   "cell_type": "markdown",
   "metadata": {},
   "source": [
    "위에서 P-value 값이 0.05보다 작기 때문에 통계적으로 유의미함을 나타냅니다. <br>\n",
    "또한 F-statistic값이 8.18이라는 뜻은 between-group variance가 within-group variance보다 약 8.18배 더 크다는 뜻입니다.<br>\n",
    "결론적으로 표본평균은 모두 동일하다는 귀무가설을 기각할수 있습니다.\n",
    "\n",
    "Scipy에서 제공하는 라이브러리의 문제점은 F-critical value 를 따로 계산을 해주어야 합니다.<br>\n",
    "이때 scipy.stats.f 안의 ppf를 사용해서 critical value를 계산할 수 있습니다. "
   ]
  },
  {
   "cell_type": "code",
   "execution_count": 316,
   "metadata": {},
   "outputs": [
    {
     "name": "stdout",
     "output_type": "stream",
     "text": [
      "Degree of freedom Numerator  : 3 - 1 = 2\n",
      "Degree of freedom Denominator: 10 - 3 = 7\n",
      "Critical Value (rejection)   : 4.73741412777588\n"
     ]
    }
   ],
   "source": [
    "from scipy.stats import f, norm\n",
    "\n",
    "N = data.shape[0] # 10\n",
    "k = data.shape[1] # 3\n",
    "\n",
    "dfn = k - 1 # degree of freedom numerator -> k - 1 \n",
    "dfd = N - k # degree of freedom denominator -> N - K \n",
    "critical_value = f.ppf(q=0.95, dfn=dfn, dfd=dfd)\n",
    "\n",
    "print('Degree of freedom Numerator  : {0} - 1 = {1}'.format(k, dfn) )\n",
    "print('Degree of freedom Denominator: {0} - {1} = {2}'.format(N, k, dfd))\n",
    "print('Critical Value (rejection)   :', critical_value)"
   ]
  },
  {
   "cell_type": "code",
   "execution_count": 305,
   "metadata": {},
   "outputs": [
    {
     "name": "stdout",
     "output_type": "stream",
     "text": [
      "mean: 1.4 variance: 4.573333333333333 skew: 11.783766072743589 kurt: nan\n"
     ]
    },
    {
     "data": {
      "image/png": "[encoded data removed]",
      "text/plain": [
       "<Figure size 432x288 with 1 Axes>"
      ]
     },
     "metadata": {
      "needs_background": "light"
     },
     "output_type": "display_data"
    }
   ],
   "source": [
    "def plot_f_distribution(dfn, dfd, f_value=None):\n",
    "    critical_value = f.ppf(q=.95, dfn=dfn, dfd=dfd)\n",
    "    mean, var, skew, kurt = f.stats(dfn, dfd, moments='mvsk')\n",
    "    print('mean:', mean, 'variance:', var, 'skew:', skew, 'kurt:', kurt)\n",
    "    \n",
    "    x = np.linspace(f.ppf(0.01, dfn, dfd), f.ppf(0.99, dfn, dfd), 100)\n",
    "    \n",
    "    # Plotting\n",
    "    plt.plot(x, f.pdf(x, dfn, dfd), alpha=0.6, label='X~ F({0}, {1})'.format(dfn, dfd))\n",
    "    plt.vlines(critical_value, 0.0, 1.0, linestyles='dashdot', \n",
    "               label='Crit. Value: {:.2f}'.format(critical_value), color='red')\n",
    "    \n",
    "    if f_value is not None:\n",
    "        plt.vlines(f_value, 0., 1., label='F-value')\n",
    "    plt.legend()\n",
    "    plt.grid()\n",
    "    \n",
    "\n",
    "plot_f_distribution(dfn, dfd, 8.1809)"
   ]
  },
  {
   "cell_type": "markdown",
   "metadata": {},
   "source": [
    "## With Statsmodel"
   ]
  },
  {
   "cell_type": "code",
   "execution_count": 248,
   "metadata": {},
   "outputs": [
    {
     "data": {
      "text/html": [
       "<div>\n",
       "<style scoped>\n",
       "    .dataframe tbody tr th:only-of-type {\n",
       "        vertical-align: middle;\n",
       "    }\n",
       "\n",
       "    .dataframe tbody tr th {\n",
       "        vertical-align: top;\n",
       "    }\n",
       "\n",
       "    .dataframe thead th {\n",
       "        text-align: right;\n",
       "    }\n",
       "</style>\n",
       "<table border=\"1\" class=\"dataframe\">\n",
       "  <thead>\n",
       "    <tr style=\"text-align: right;\">\n",
       "      <th></th>\n",
       "      <th>group</th>\n",
       "      <th>value</th>\n",
       "    </tr>\n",
       "  </thead>\n",
       "  <tbody>\n",
       "    <tr>\n",
       "      <th>0</th>\n",
       "      <td>X</td>\n",
       "      <td>7</td>\n",
       "    </tr>\n",
       "    <tr>\n",
       "      <th>1</th>\n",
       "      <td>X</td>\n",
       "      <td>9</td>\n",
       "    </tr>\n",
       "    <tr>\n",
       "      <th>2</th>\n",
       "      <td>X</td>\n",
       "      <td>5</td>\n",
       "    </tr>\n",
       "    <tr>\n",
       "      <th>3</th>\n",
       "      <td>X</td>\n",
       "      <td>8</td>\n",
       "    </tr>\n",
       "    <tr>\n",
       "      <th>4</th>\n",
       "      <td>X</td>\n",
       "      <td>6</td>\n",
       "    </tr>\n",
       "  </tbody>\n",
       "</table>\n",
       "</div>"
      ],
      "text/plain": [
       "  group  value\n",
       "0     X      7\n",
       "1     X      9\n",
       "2     X      5\n",
       "3     X      8\n",
       "4     X      6"
      ]
     },
     "execution_count": 248,
     "metadata": {},
     "output_type": "execute_result"
    }
   ],
   "source": [
    "data2 = data.melt(value_vars=['X', 'Y', 'Z'], var_name='group')\n",
    "data2['group'] = data2['group'].astype('category')\n",
    "data2.head()"
   ]
  },
  {
   "cell_type": "code",
   "execution_count": 247,
   "metadata": {},
   "outputs": [
    {
     "data": {
      "text/html": [
       "<table class=\"simpletable\">\n",
       "<caption>OLS Regression Results</caption>\n",
       "<tr>\n",
       "  <th>Dep. Variable:</th>          <td>value</td>      <th>  R-squared:         </th> <td>   0.377</td>\n",
       "</tr>\n",
       "<tr>\n",
       "  <th>Model:</th>                   <td>OLS</td>       <th>  Adj. R-squared:    </th> <td>   0.331</td>\n",
       "</tr>\n",
       "<tr>\n",
       "  <th>Method:</th>             <td>Least Squares</td>  <th>  F-statistic:       </th> <td>   8.181</td>\n",
       "</tr>\n",
       "<tr>\n",
       "  <th>Date:</th>             <td>Tue, 11 Dec 2018</td> <th>  Prob (F-statistic):</th>  <td>0.00167</td>\n",
       "</tr>\n",
       "<tr>\n",
       "  <th>Time:</th>                 <td>12:01:46</td>     <th>  Log-Likelihood:    </th> <td> -59.064</td>\n",
       "</tr>\n",
       "<tr>\n",
       "  <th>No. Observations:</th>      <td>    30</td>      <th>  AIC:               </th> <td>   124.1</td>\n",
       "</tr>\n",
       "<tr>\n",
       "  <th>Df Residuals:</th>          <td>    27</td>      <th>  BIC:               </th> <td>   128.3</td>\n",
       "</tr>\n",
       "<tr>\n",
       "  <th>Df Model:</th>              <td>     2</td>      <th>                     </th>     <td> </td>   \n",
       "</tr>\n",
       "<tr>\n",
       "  <th>Covariance Type:</th>      <td>nonrobust</td>    <th>                     </th>     <td> </td>   \n",
       "</tr>\n",
       "</table>\n",
       "<table class=\"simpletable\">\n",
       "<tr>\n",
       "        <td></td>           <th>coef</th>     <th>std err</th>      <th>t</th>      <th>P>|t|</th>  <th>[0.025</th>    <th>0.975]</th>  \n",
       "</tr>\n",
       "<tr>\n",
       "  <th>Intercept</th>     <td>    7.0000</td> <td>    0.578</td> <td>   12.118</td> <td> 0.000</td> <td>    5.815</td> <td>    8.185</td>\n",
       "</tr>\n",
       "<tr>\n",
       "  <th>C(group)[T.Y]</th> <td>   -3.0000</td> <td>    0.817</td> <td>   -3.672</td> <td> 0.001</td> <td>   -4.676</td> <td>   -1.324</td>\n",
       "</tr>\n",
       "<tr>\n",
       "  <th>C(group)[T.Z]</th> <td>   -2.7000</td> <td>    0.817</td> <td>   -3.305</td> <td> 0.003</td> <td>   -4.376</td> <td>   -1.024</td>\n",
       "</tr>\n",
       "</table>\n",
       "<table class=\"simpletable\">\n",
       "<tr>\n",
       "  <th>Omnibus:</th>       <td> 1.042</td> <th>  Durbin-Watson:     </th> <td>   2.478</td>\n",
       "</tr>\n",
       "<tr>\n",
       "  <th>Prob(Omnibus):</th> <td> 0.594</td> <th>  Jarque-Bera (JB):  </th> <td>   0.845</td>\n",
       "</tr>\n",
       "<tr>\n",
       "  <th>Skew:</th>          <td>-0.079</td> <th>  Prob(JB):          </th> <td>   0.655</td>\n",
       "</tr>\n",
       "<tr>\n",
       "  <th>Kurtosis:</th>      <td> 2.193</td> <th>  Cond. No.          </th> <td>    3.73</td>\n",
       "</tr>\n",
       "</table><br/><br/>Warnings:<br/>[1] Standard Errors assume that the covariance matrix of the errors is correctly specified."
      ],
      "text/plain": [
       "<class 'statsmodels.iolib.summary.Summary'>\n",
       "\"\"\"\n",
       "                            OLS Regression Results                            \n",
       "==============================================================================\n",
       "Dep. Variable:                  value   R-squared:                       0.377\n",
       "Model:                            OLS   Adj. R-squared:                  0.331\n",
       "Method:                 Least Squares   F-statistic:                     8.181\n",
       "Date:                Tue, 11 Dec 2018   Prob (F-statistic):            0.00167\n",
       "Time:                        12:01:46   Log-Likelihood:                -59.064\n",
       "No. Observations:                  30   AIC:                             124.1\n",
       "Df Residuals:                      27   BIC:                             128.3\n",
       "Df Model:                           2                                         \n",
       "Covariance Type:            nonrobust                                         \n",
       "=================================================================================\n",
       "                    coef    std err          t      P>|t|      [0.025      0.975]\n",
       "---------------------------------------------------------------------------------\n",
       "Intercept         7.0000      0.578     12.118      0.000       5.815       8.185\n",
       "C(group)[T.Y]    -3.0000      0.817     -3.672      0.001      -4.676      -1.324\n",
       "C(group)[T.Z]    -2.7000      0.817     -3.305      0.003      -4.376      -1.024\n",
       "==============================================================================\n",
       "Omnibus:                        1.042   Durbin-Watson:                   2.478\n",
       "Prob(Omnibus):                  0.594   Jarque-Bera (JB):                0.845\n",
       "Skew:                          -0.079   Prob(JB):                        0.655\n",
       "Kurtosis:                       2.193   Cond. No.                         3.73\n",
       "==============================================================================\n",
       "\n",
       "Warnings:\n",
       "[1] Standard Errors assume that the covariance matrix of the errors is correctly specified.\n",
       "\"\"\""
      ]
     },
     "metadata": {},
     "output_type": "display_data"
    }
   ],
   "source": [
    "from statsmodels.formula.api import ols\n",
    "import warnings\n",
    "warnings.filterwarnings('ignore')\n",
    "\n",
    "lm = ols('value ~ C(group)', data2).fit()\n",
    "display(lm.summary())"
   ]
  },
  {
   "cell_type": "markdown",
   "metadata": {},
   "source": [
    "##  Another Example with Statsmodel"
   ]
  },
  {
   "cell_type": "code",
   "execution_count": 211,
   "metadata": {},
   "outputs": [
    {
     "data": {
      "text/html": [
       "<div>\n",
       "<style scoped>\n",
       "    .dataframe tbody tr th:only-of-type {\n",
       "        vertical-align: middle;\n",
       "    }\n",
       "\n",
       "    .dataframe tbody tr th {\n",
       "        vertical-align: top;\n",
       "    }\n",
       "\n",
       "    .dataframe thead th {\n",
       "        text-align: right;\n",
       "    }\n",
       "</style>\n",
       "<table border=\"1\" class=\"dataframe\">\n",
       "  <thead>\n",
       "    <tr style=\"text-align: right;\">\n",
       "      <th></th>\n",
       "      <th>partner_status</th>\n",
       "      <th>conformity</th>\n",
       "      <th>fcategory</th>\n",
       "      <th>fscore</th>\n",
       "    </tr>\n",
       "  </thead>\n",
       "  <tbody>\n",
       "    <tr>\n",
       "      <th>0</th>\n",
       "      <td>low</td>\n",
       "      <td>8</td>\n",
       "      <td>low</td>\n",
       "      <td>37</td>\n",
       "    </tr>\n",
       "    <tr>\n",
       "      <th>1</th>\n",
       "      <td>low</td>\n",
       "      <td>4</td>\n",
       "      <td>high</td>\n",
       "      <td>57</td>\n",
       "    </tr>\n",
       "    <tr>\n",
       "      <th>2</th>\n",
       "      <td>low</td>\n",
       "      <td>8</td>\n",
       "      <td>high</td>\n",
       "      <td>65</td>\n",
       "    </tr>\n",
       "    <tr>\n",
       "      <th>3</th>\n",
       "      <td>low</td>\n",
       "      <td>7</td>\n",
       "      <td>low</td>\n",
       "      <td>20</td>\n",
       "    </tr>\n",
       "    <tr>\n",
       "      <th>4</th>\n",
       "      <td>low</td>\n",
       "      <td>10</td>\n",
       "      <td>low</td>\n",
       "      <td>36</td>\n",
       "    </tr>\n",
       "  </tbody>\n",
       "</table>\n",
       "</div>"
      ],
      "text/plain": [
       "  partner_status  conformity fcategory  fscore\n",
       "0            low           8       low      37\n",
       "1            low           4      high      57\n",
       "2            low           8      high      65\n",
       "3            low           7       low      20\n",
       "4            low          10       low      36"
      ]
     },
     "metadata": {},
     "output_type": "display_data"
    }
   ],
   "source": [
    "import statsmodels.api as sm\n",
    "from statsmodels.formula.api import ols\n",
    "\n",
    "moore = sm.datasets.get_rdataset(\"Moore\", \"carData\", cache=True).data\n",
    "moore.rename(columns={'partner.status': 'partner_status'}, inplace=True) # make name pythonic\n",
    "display(moore.head())"
   ]
  },
  {
   "cell_type": "code",
   "execution_count": 230,
   "metadata": {},
   "outputs": [
    {
     "data": {
      "text/html": [
       "<table class=\"simpletable\">\n",
       "<caption>OLS Regression Results</caption>\n",
       "<tr>\n",
       "  <th>Dep. Variable:</th>       <td>conformity</td>    <th>  R-squared:         </th> <td>   0.324</td>\n",
       "</tr>\n",
       "<tr>\n",
       "  <th>Model:</th>                   <td>OLS</td>       <th>  Adj. R-squared:    </th> <td>   0.237</td>\n",
       "</tr>\n",
       "<tr>\n",
       "  <th>Method:</th>             <td>Least Squares</td>  <th>  F-statistic:       </th> <td>   3.734</td>\n",
       "</tr>\n",
       "<tr>\n",
       "  <th>Date:</th>             <td>Tue, 11 Dec 2018</td> <th>  Prob (F-statistic):</th>  <td>0.00740</td>\n",
       "</tr>\n",
       "<tr>\n",
       "  <th>Time:</th>                 <td>11:40:56</td>     <th>  Log-Likelihood:    </th> <td> -129.10</td>\n",
       "</tr>\n",
       "<tr>\n",
       "  <th>No. Observations:</th>      <td>    45</td>      <th>  AIC:               </th> <td>   270.2</td>\n",
       "</tr>\n",
       "<tr>\n",
       "  <th>Df Residuals:</th>          <td>    39</td>      <th>  BIC:               </th> <td>   281.0</td>\n",
       "</tr>\n",
       "<tr>\n",
       "  <th>Df Model:</th>              <td>     5</td>      <th>                     </th>     <td> </td>   \n",
       "</tr>\n",
       "<tr>\n",
       "  <th>Covariance Type:</th>      <td>nonrobust</td>    <th>                     </th>     <td> </td>   \n",
       "</tr>\n",
       "</table>\n",
       "<table class=\"simpletable\">\n",
       "<tr>\n",
       "                              <td></td>                                <th>coef</th>     <th>std err</th>      <th>t</th>      <th>P>|t|</th>  <th>[0.025</th>    <th>0.975]</th>  \n",
       "</tr>\n",
       "<tr>\n",
       "  <th>Intercept</th>                                                <td>   12.0508</td> <td>    0.728</td> <td>   16.564</td> <td> 0.000</td> <td>   10.579</td> <td>   13.522</td>\n",
       "</tr>\n",
       "<tr>\n",
       "  <th>C(fcategory, Sum)[S.high]</th>                                <td>    0.1903</td> <td>    0.999</td> <td>    0.191</td> <td> 0.850</td> <td>   -1.830</td> <td>    2.210</td>\n",
       "</tr>\n",
       "<tr>\n",
       "  <th>C(fcategory, Sum)[S.low]</th>                                 <td>    1.0992</td> <td>    1.026</td> <td>    1.071</td> <td> 0.291</td> <td>   -0.977</td> <td>    3.175</td>\n",
       "</tr>\n",
       "<tr>\n",
       "  <th>C(partner_status, Sum)[S.high]</th>                           <td>    2.4591</td> <td>    0.728</td> <td>    3.380</td> <td> 0.002</td> <td>    0.988</td> <td>    3.931</td>\n",
       "</tr>\n",
       "<tr>\n",
       "  <th>C(fcategory, Sum)[S.high]:C(partner_status, Sum)[S.high]</th> <td>   -2.8431</td> <td>    0.999</td> <td>   -2.847</td> <td> 0.007</td> <td>   -4.863</td> <td>   -0.823</td>\n",
       "</tr>\n",
       "<tr>\n",
       "  <th>C(fcategory, Sum)[S.low]:C(partner_status, Sum)[S.high]</th>  <td>    1.7909</td> <td>    1.026</td> <td>    1.745</td> <td> 0.089</td> <td>   -0.285</td> <td>    3.867</td>\n",
       "</tr>\n",
       "</table>\n",
       "<table class=\"simpletable\">\n",
       "<tr>\n",
       "  <th>Omnibus:</th>       <td> 2.500</td> <th>  Durbin-Watson:     </th> <td>   2.626</td>\n",
       "</tr>\n",
       "<tr>\n",
       "  <th>Prob(Omnibus):</th> <td> 0.287</td> <th>  Jarque-Bera (JB):  </th> <td>   1.712</td>\n",
       "</tr>\n",
       "<tr>\n",
       "  <th>Skew:</th>          <td> 0.465</td> <th>  Prob(JB):          </th> <td>   0.425</td>\n",
       "</tr>\n",
       "<tr>\n",
       "  <th>Kurtosis:</th>      <td> 3.216</td> <th>  Cond. No.          </th> <td>    2.39</td>\n",
       "</tr>\n",
       "</table><br/><br/>Warnings:<br/>[1] Standard Errors assume that the covariance matrix of the errors is correctly specified."
      ],
      "text/plain": [
       "<class 'statsmodels.iolib.summary.Summary'>\n",
       "\"\"\"\n",
       "                            OLS Regression Results                            \n",
       "==============================================================================\n",
       "Dep. Variable:             conformity   R-squared:                       0.324\n",
       "Model:                            OLS   Adj. R-squared:                  0.237\n",
       "Method:                 Least Squares   F-statistic:                     3.734\n",
       "Date:                Tue, 11 Dec 2018   Prob (F-statistic):            0.00740\n",
       "Time:                        11:40:56   Log-Likelihood:                -129.10\n",
       "No. Observations:                  45   AIC:                             270.2\n",
       "Df Residuals:                      39   BIC:                             281.0\n",
       "Df Model:                           5                                         \n",
       "Covariance Type:            nonrobust                                         \n",
       "============================================================================================================================\n",
       "                                                               coef    std err          t      P>|t|      [0.025      0.975]\n",
       "----------------------------------------------------------------------------------------------------------------------------\n",
       "Intercept                                                   12.0508      0.728     16.564      0.000      10.579      13.522\n",
       "C(fcategory, Sum)[S.high]                                    0.1903      0.999      0.191      0.850      -1.830       2.210\n",
       "C(fcategory, Sum)[S.low]                                     1.0992      1.026      1.071      0.291      -0.977       3.175\n",
       "C(partner_status, Sum)[S.high]                               2.4591      0.728      3.380      0.002       0.988       3.931\n",
       "C(fcategory, Sum)[S.high]:C(partner_status, Sum)[S.high]    -2.8431      0.999     -2.847      0.007      -4.863      -0.823\n",
       "C(fcategory, Sum)[S.low]:C(partner_status, Sum)[S.high]      1.7909      1.026      1.745      0.089      -0.285       3.867\n",
       "==============================================================================\n",
       "Omnibus:                        2.500   Durbin-Watson:                   2.626\n",
       "Prob(Omnibus):                  0.287   Jarque-Bera (JB):                1.712\n",
       "Skew:                           0.465   Prob(JB):                        0.425\n",
       "Kurtosis:                       3.216   Cond. No.                         2.39\n",
       "==============================================================================\n",
       "\n",
       "Warnings:\n",
       "[1] Standard Errors assume that the covariance matrix of the errors is correctly specified.\n",
       "\"\"\""
      ]
     },
     "metadata": {},
     "output_type": "display_data"
    },
    {
     "data": {
      "text/html": [
       "<div>\n",
       "<style scoped>\n",
       "    .dataframe tbody tr th:only-of-type {\n",
       "        vertical-align: middle;\n",
       "    }\n",
       "\n",
       "    .dataframe tbody tr th {\n",
       "        vertical-align: top;\n",
       "    }\n",
       "\n",
       "    .dataframe thead th {\n",
       "        text-align: right;\n",
       "    }\n",
       "</style>\n",
       "<table border=\"1\" class=\"dataframe\">\n",
       "  <thead>\n",
       "    <tr style=\"text-align: right;\">\n",
       "      <th></th>\n",
       "      <th>sum_sq</th>\n",
       "      <th>df</th>\n",
       "      <th>F</th>\n",
       "      <th>PR(&gt;F)</th>\n",
       "    </tr>\n",
       "  </thead>\n",
       "  <tbody>\n",
       "    <tr>\n",
       "      <th>C(fcategory, Sum)</th>\n",
       "      <td>11.614700</td>\n",
       "      <td>2.0</td>\n",
       "      <td>0.276958</td>\n",
       "      <td>0.759564</td>\n",
       "    </tr>\n",
       "    <tr>\n",
       "      <th>C(partner_status, Sum)</th>\n",
       "      <td>212.213778</td>\n",
       "      <td>1.0</td>\n",
       "      <td>10.120692</td>\n",
       "      <td>0.002874</td>\n",
       "    </tr>\n",
       "    <tr>\n",
       "      <th>C(fcategory, Sum):C(partner_status, Sum)</th>\n",
       "      <td>175.488928</td>\n",
       "      <td>2.0</td>\n",
       "      <td>4.184623</td>\n",
       "      <td>0.022572</td>\n",
       "    </tr>\n",
       "    <tr>\n",
       "      <th>Residual</th>\n",
       "      <td>817.763961</td>\n",
       "      <td>39.0</td>\n",
       "      <td>NaN</td>\n",
       "      <td>NaN</td>\n",
       "    </tr>\n",
       "  </tbody>\n",
       "</table>\n",
       "</div>"
      ],
      "text/plain": [
       "                                              sum_sq    df          F  \\\n",
       "C(fcategory, Sum)                          11.614700   2.0   0.276958   \n",
       "C(partner_status, Sum)                    212.213778   1.0  10.120692   \n",
       "C(fcategory, Sum):C(partner_status, Sum)  175.488928   2.0   4.184623   \n",
       "Residual                                  817.763961  39.0        NaN   \n",
       "\n",
       "                                            PR(>F)  \n",
       "C(fcategory, Sum)                         0.759564  \n",
       "C(partner_status, Sum)                    0.002874  \n",
       "C(fcategory, Sum):C(partner_status, Sum)  0.022572  \n",
       "Residual                                       NaN  "
      ]
     },
     "execution_count": 230,
     "metadata": {},
     "output_type": "execute_result"
    }
   ],
   "source": [
    "moore_lm = ols('conformity ~ C(fcategory, Sum) * C(partner_status, Sum)', data=moore).fit()\n",
    "display(moore_lm.summary())\n",
    "\n",
    "sm.stats.anova_lm(moore_lm, typ=2)"
   ]
  },
  {
   "cell_type": "code",
   "execution_count": 237,
   "metadata": {},
   "outputs": [
    {
     "name": "stdout",
     "output_type": "stream",
     "text": [
      "F-statistic for fcategory: 0.276958463323624\n",
      "F-statistic for partner_status: 10.120692200570085\n",
      "F-statistic for fcategory + partner_status: 4.1846232644140695\n"
     ]
    }
   ],
   "source": [
    "MSB = 11.6147 / 2.\n",
    "MSE = 817.763961/39.\n",
    "\n",
    "print('F-statistic for fcategory:', MSB/MSE)\n",
    "print('F-statistic for partner_status:', (212.213778/1.)/MSE)\n",
    "print('F-statistic for fcategory + partner_status:', (175.488928/2.)/MSE)"
   ]
  },
  {
   "cell_type": "markdown",
   "metadata": {},
   "source": [
    "# References\n",
    "\n",
    "* https://www.analyticsvidhya.com/blog/2018/01/anova-analysis-of-variance/"
   ]
  }
 ],
 "metadata": {
  "kernelspec": {
   "display_name": "Python 3",
   "language": "python",
   "name": "python3"
  },
  "language_info": {
   "codemirror_mode": {
    "name": "ipython",
    "version": 3
   },
   "file_extension": ".py",
   "mimetype": "text/x-python",
   "name": "python",
   "nbconvert_exporter": "python",
   "pygments_lexer": "ipython3",
   "version": "3.6.4"
  }
 },
 "nbformat": 4,
 "nbformat_minor": 2
}
