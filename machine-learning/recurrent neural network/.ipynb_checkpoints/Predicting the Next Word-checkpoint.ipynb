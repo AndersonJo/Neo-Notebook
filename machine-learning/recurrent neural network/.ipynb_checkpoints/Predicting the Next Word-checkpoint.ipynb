{
 "cells": [
  {
   "cell_type": "code",
   "execution_count": 69,
   "metadata": {
    "collapsed": false
   },
   "outputs": [
    {
     "data": {
      "text/plain": [
       "<module 'rnn_with_numpy' from 'rnn_with_numpy.py'>"
      ]
     },
     "execution_count": 69,
     "metadata": {},
     "output_type": "execute_result"
    }
   ],
   "source": [
    "import numpy as np\n",
    "import csv\n",
    "import nltk\n",
    "import itertools\n",
    "from datetime import datetime\n",
    "import rnn_with_numpy as rnn\n",
    "reload(rnn)"
   ]
  },
  {
   "cell_type": "code",
   "execution_count": 2,
   "metadata": {
    "collapsed": false
   },
   "outputs": [
    {
     "name": "stdout",
     "output_type": "stream",
     "text": [
      "[nltk_data] Downloading package punkt to /home/anderson/nltk_data...\n",
      "[nltk_data]   Package punkt is already up-to-date!\n"
     ]
    },
    {
     "data": {
      "text/plain": [
       "True"
      ]
     },
     "execution_count": 2,
     "metadata": {},
     "output_type": "execute_result"
    }
   ],
   "source": [
    "nltk.download('punkt')"
   ]
  },
  {
   "cell_type": "code",
   "execution_count": 3,
   "metadata": {
    "collapsed": true
   },
   "outputs": [],
   "source": [
    "SENTENCE_START = 'SETENCE_START'\n",
    "SENTENCE_END = 'SENTENCE_END'\n",
    "UNKNOWN_TOKEN = 'UNKNOWN_TOKEN'\n",
    "VOCAB_SIZE = 10000"
   ]
  },
  {
   "cell_type": "code",
   "execution_count": 4,
   "metadata": {
    "collapsed": false
   },
   "outputs": [
    {
     "name": "stdout",
     "output_type": "stream",
     "text": [
      "start reading comments! (wait for minutes...)\n",
      "Split Done\n",
      "START & END Done\n"
     ]
    }
   ],
   "source": [
    "with open('/home/anderson/Dropbox/reddit_comments_filtered.csv', 'rt') as f:\n",
    "    reader = csv.reader(f, skipinitialspace=True)\n",
    "    print 'start reading comments! (wait for minutes...)'\n",
    "    \n",
    "    # Split full comments into sentences\n",
    "    sentences = itertools.chain(\n",
    "        *[nltk.sent_tokenize(x[0].decode('UTF-8').lower()) for x in reader])\n",
    "    print 'Split Done'\n",
    "    \n",
    "    # Append SENTENCE_START and SENTENCE_END\n",
    "    sentences = [\"%s %s %s\" % (SENTENCE_START, x, SENTENCE_END)\n",
    "                    for x in sentences ]\n",
    "    print 'START & END Done'"
   ]
  },
  {
   "cell_type": "code",
   "execution_count": 5,
   "metadata": {
    "collapsed": false
   },
   "outputs": [],
   "source": [
    "# Tokenize the sentences into words\n",
    "tokenized_sentences = [nltk.word_tokenize(st) for st in sentences ]"
   ]
  },
  {
   "cell_type": "code",
   "execution_count": 6,
   "metadata": {
    "collapsed": false
   },
   "outputs": [
    {
     "name": "stdout",
     "output_type": "stream",
     "text": [
      "Found 320177 unique words tokens.\n"
     ]
    }
   ],
   "source": [
    "word_freq = nltk.FreqDist(itertools.chain(*tokenized_sentences))\n",
    "print \"Found %d unique words tokens.\" % len(word_freq.items())"
   ]
  },
  {
   "cell_type": "code",
   "execution_count": 7,
   "metadata": {
    "collapsed": false
   },
   "outputs": [
    {
     "name": "stdout",
     "output_type": "stream",
     "text": [
      "Using vocabulary size 10000.\n",
      "The least frequent word in our vocabulary is 'craziest' and appeared 85 times.\n"
     ]
    }
   ],
   "source": [
    "vocab = word_freq.most_common(VOCAB_SIZE-1)\n",
    "index_to_word = [x[0] for x in vocab]\n",
    "index_to_word.append(UNKNOWN_TOKEN)\n",
    "word_to_index = dict([(w, i) for i, w in enumerate(index_to_word)])\n",
    "\n",
    "print \"Using vocabulary size %d.\" % VOCAB_SIZE\n",
    "print \"The least frequent word in our vocabulary is '%s' and appeared %d times.\" % (vocab[-1][0], vocab[-1][1])"
   ]
  },
  {
   "cell_type": "code",
   "execution_count": 8,
   "metadata": {
    "collapsed": false
   },
   "outputs": [],
   "source": [
    "# Replace all words not in our vocabulary with the unknown token\n",
    "for i, sent in enumerate(tokenized_sentences):\n",
    "    tokenized_sentences[i] = [w if w in word_to_index else UNKNOWN_TOKEN for w in sent]"
   ]
  },
  {
   "cell_type": "code",
   "execution_count": 9,
   "metadata": {
    "collapsed": false
   },
   "outputs": [
    {
     "name": "stdout",
     "output_type": "stream",
     "text": [
      "'SETENCE_START plus, there are things like epigenetics, which makes it even harder to figure out how the dna word look like or work. SENTENCE_END'\n",
      "'[u'SETENCE_START', u'plus', u',', u'there', u'are', u'things', u'like', 'UNKNOWN_TOKEN', u',', u'which', u'makes', u'it', u'even', u'harder', u'to', u'figure', u'out', u'how', u'the', u'dna', u'word', u'look', u'like', u'or', u'work', u'.', u'SENTENCE_END']'\n"
     ]
    }
   ],
   "source": [
    "print \"'%s'\" % sentences[28]\n",
    "print \"'%s'\" % tokenized_sentences[28]"
   ]
  },
  {
   "cell_type": "code",
   "execution_count": 75,
   "metadata": {
    "collapsed": false
   },
   "outputs": [
    {
     "name": "stdout",
     "output_type": "stream",
     "text": [
      "[0, 496]\n",
      "[496, 1]\n"
     ]
    }
   ],
   "source": [
    "# Create the training data\n",
    "x_train = np.asarray([[word_to_index[w] for w in sent[:-1]] for sent in tokenized_sentences])\n",
    "y_train = np.asarray([[word_to_index[w] for w in sent[1:]] for sent in tokenized_sentences])\n",
    "\n",
    "print x_train[0]\n",
    "print y_train[0]"
   ]
  },
  {
   "cell_type": "code",
   "execution_count": 83,
   "metadata": {
    "collapsed": false
   },
   "outputs": [
    {
     "name": "stdout",
     "output_type": "stream",
     "text": [
      "(25, 10000)\n",
      "(26, 100)\n"
     ]
    }
   ],
   "source": [
    "reload(rnn)\n",
    "model = rnn.RNNNumpy(VOCAB_SIZE)\n",
    "o, s = model.forward_propagation(x_train[10])\n",
    "print 'Output:', o.shape\n",
    "print 'State :', s.shape"
   ]
  },
  {
   "cell_type": "code",
   "execution_count": 78,
   "metadata": {
    "collapsed": false
   },
   "outputs": [
    {
     "data": {
      "text/plain": [
       "array([[ 0.00794856, -0.0019999 ,  0.00716343, ...,  0.00727911,\n",
       "        -0.00886864,  0.00495717],\n",
       "       [-0.00726709,  0.00771735, -0.00959146, ...,  0.00366384,\n",
       "        -0.00354209,  0.00310327],\n",
       "       [ 0.00086616,  0.00398747,  0.00200287, ...,  0.00215748,\n",
       "         0.00492768, -0.0008005 ],\n",
       "       ..., \n",
       "       [ 0.004571  , -0.00700447,  0.00387723, ...,  0.00530495,\n",
       "         0.00422501,  0.00300322],\n",
       "       [ 0.00054251, -0.00360245,  0.00056893, ...,  0.00125852,\n",
       "         0.00045272,  0.00602191],\n",
       "       [ 0.00876829,  0.00976119, -0.00965957, ..., -0.00751798,\n",
       "         0.00309845,  0.00508843]])"
      ]
     },
     "execution_count": 78,
     "metadata": {},
     "output_type": "execute_result"
    }
   ],
   "source": []
  }
 ],
 "metadata": {
  "kernelspec": {
   "display_name": "Python 2",
   "language": "python",
   "name": "python2"
  },
  "language_info": {
   "codemirror_mode": {
    "name": "ipython",
    "version": 2
   },
   "file_extension": ".py",
   "mimetype": "text/x-python",
   "name": "python",
   "nbconvert_exporter": "python",
   "pygments_lexer": "ipython2",
   "version": "2.7.10"
  }
 },
 "nbformat": 4,
 "nbformat_minor": 0
}
