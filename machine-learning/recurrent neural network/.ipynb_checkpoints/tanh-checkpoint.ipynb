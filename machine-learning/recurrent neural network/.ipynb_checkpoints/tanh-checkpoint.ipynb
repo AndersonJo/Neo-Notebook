{
 "cells": [
  {
   "cell_type": "code",
   "execution_count": 41,
   "metadata": {
    "collapsed": false
   },
   "outputs": [
    {
     "name": "stdout",
     "output_type": "stream",
     "text": [
      "Populating the interactive namespace from numpy and matplotlib\n"
     ]
    }
   ],
   "source": [
    "%pylab inline\n",
    "import numpy as np\n",
    "import pandas as pd"
   ]
  },
  {
   "cell_type": "code",
   "execution_count": 42,
   "metadata": {
    "collapsed": false
   },
   "outputs": [],
   "source": [
    "data = np.arange(-3, 3, 0.1)\n",
    "data2 = pd.Series([-1, -0.5, 0, 1, 1.5, 2])"
   ]
  },
  {
   "cell_type": "code",
   "execution_count": 34,
   "metadata": {
    "collapsed": false
   },
   "outputs": [
    {
     "data": {
      "text/plain": [
       "[<matplotlib.lines.Line2D at 0x7fb575ac5190>]"
      ]
     },
     "execution_count": 34,
     "metadata": {},
     "output_type": "execute_result"
    },
    {
     "data": {
      "image/png": "[encoded data removed]",
      "text/plain": [
       "<matplotlib.figure.Figure at 0x7fb575a37310>"
      ]
     },
     "metadata": {},
     "output_type": "display_data"
    }
   ],
   "source": [
    "plot(data, np.apply_along_axis(np.tanh, axis=0, arr=data))"
   ]
  },
  {
   "cell_type": "code",
   "execution_count": 52,
   "metadata": {
    "collapsed": false
   },
   "outputs": [
    {
     "name": "stdout",
     "output_type": "stream",
     "text": [
      "0   -0.761594\n",
      "1   -0.462117\n",
      "2    0.000000\n",
      "3    0.761594\n",
      "4    0.905148\n",
      "5    0.964028\n",
      "dtype: float64\n"
     ]
    }
   ],
   "source": [
    "print data2.apply(np.tanh)"
   ]
  },
  {
   "cell_type": "code",
   "execution_count": 50,
   "metadata": {
    "collapsed": false,
    "scrolled": false
   },
   "outputs": [
    {
     "name": "stdout",
     "output_type": "stream",
     "text": [
      "0   -0.761594\n",
      "1   -0.462117\n",
      "2    0.000000\n",
      "3    0.761594\n",
      "4    0.905148\n",
      "5    0.964028\n",
      "dtype: float64\n"
     ]
    }
   ],
   "source": [
    "def tanh(x):\n",
    "    return np.sinh(x)/np.cosh(x)\n",
    "print data2.apply(tanh)"
   ]
  },
  {
   "cell_type": "code",
   "execution_count": 49,
   "metadata": {
    "collapsed": false
   },
   "outputs": [
    {
     "name": "stdout",
     "output_type": "stream",
     "text": [
      "0   -0.761594\n",
      "1   -0.462117\n",
      "2    0.000000\n",
      "3    0.761594\n",
      "4    0.905148\n",
      "5    0.964028\n",
      "dtype: float64\n"
     ]
    }
   ],
   "source": [
    "def tanh2(x):\n",
    "    return (np.e**(2*x) - 1)/(np.e**(2*x)+ 1)\n",
    "print data2.apply(tanh2)"
   ]
  }
 ],
 "metadata": {
  "kernelspec": {
   "display_name": "Python 2",
   "language": "python",
   "name": "python2"
  },
  "language_info": {
   "codemirror_mode": {
    "name": "ipython",
    "version": 2
   },
   "file_extension": ".py",
   "mimetype": "text/x-python",
   "name": "python",
   "nbconvert_exporter": "python",
   "pygments_lexer": "ipython2",
   "version": "2.7.10"
  }
 },
 "nbformat": 4,
 "nbformat_minor": 0
}
