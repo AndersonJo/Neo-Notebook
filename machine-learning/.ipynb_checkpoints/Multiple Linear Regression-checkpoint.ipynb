{
 "cells": [
  {
   "cell_type": "code",
   "execution_count": 2,
   "metadata": {
    "collapsed": false
   },
   "outputs": [
    {
     "name": "stdout",
     "output_type": "stream",
     "text": [
      "Populating the interactive namespace from numpy and matplotlib\n"
     ]
    }
   ],
   "source": [
    "%pylab inline\n",
    "import numpy as np\n",
    "from numpy.linalg import inv"
   ]
  },
  {
   "cell_type": "code",
   "execution_count": 123,
   "metadata": {
    "collapsed": false
   },
   "outputs": [],
   "source": [
    "challenger = np.genfromtxt('../data/linear-regression/challenger.csv', delimiter=',', skip_header=True)"
   ]
  },
  {
   "cell_type": "code",
   "execution_count": 132,
   "metadata": {
    "collapsed": false
   },
   "outputs": [
    {
     "name": "stdout",
     "output_type": "stream",
     "text": [
      "3.52709338331\n",
      "[-0.05138594  0.00175701  0.01429284]\n"
     ]
    }
   ],
   "source": [
    "def reg(x, y):\n",
    "    x = np.c_[np.ones(len(x)), x]\n",
    "    b = inv(np.dot(x.T, x))    \n",
    "    b = np.dot(np.dot(b, x.T), y)\n",
    "    return b[0], b[1:]\n",
    "    \n",
    "y_intercept, coefficients = reg(y=challenger[:, 0], x=challenger[:, 1:4])\n",
    "print y_intercept\n",
    "print coefficients"
   ]
  }
 ],
 "metadata": {
  "kernelspec": {
   "display_name": "Python 2",
   "language": "python",
   "name": "python2"
  },
  "language_info": {
   "codemirror_mode": {
    "name": "ipython",
    "version": 2
   },
   "file_extension": ".py",
   "mimetype": "text/x-python",
   "name": "python",
   "nbconvert_exporter": "python",
   "pygments_lexer": "ipython2",
   "version": "2.7.10"
  }
 },
 "nbformat": 4,
 "nbformat_minor": 0
}
