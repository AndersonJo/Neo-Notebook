{
 "cells": [
  {
   "cell_type": "code",
   "execution_count": 7,
   "metadata": {
    "collapsed": false
   },
   "outputs": [
    {
     "name": "stdout",
     "output_type": "stream",
     "text": [
      "Populating the interactive namespace from numpy and matplotlib\n"
     ]
    }
   ],
   "source": [
    "%pylab inline\n",
    "import pandas as pd"
   ]
  },
  {
   "cell_type": "code",
   "execution_count": 61,
   "metadata": {
    "collapsed": false
   },
   "outputs": [],
   "source": [
    "\"\"\"\n",
    "SELECT\n",
    "  pass_score,\n",
    "  gender,\n",
    "  extract(YEAR FROM birthday),\n",
    "  last_used_platform                           AS platform,\n",
    "  CASE WHEN gender = 1\n",
    "    THEN\n",
    "      (SELECT count(*)\n",
    "       FROM matchings\n",
    "       WHERE male_id = users.id AND male_ok_date IS NOT NULL AND female_ok_date IS NOT NULL)\n",
    "  ELSE\n",
    "    (SELECT count(*)\n",
    "     FROM matchings\n",
    "     WHERE female_id = users.id AND male_ok_date IS NOT NULL AND female_ok_date IS NOT NULL)\n",
    "  END\n",
    "                                               AS matching,\n",
    "\n",
    "  (SELECT count(*)\n",
    "   FROM cards\n",
    "   WHERE card_type = 0 AND user_id = users.id) AS liked,\n",
    "\n",
    "  (SELECT count(*)\n",
    "   FROM cards\n",
    "   WHERE card_type = 1 AND user_id = users.id) AS like,\n",
    "\n",
    "  (SELECT count(*)\n",
    "   FROM cards\n",
    "   WHERE card_type = 2 AND user_id = users.id) AS give_high_score,\n",
    "\n",
    "  (SELECT count(*)\n",
    "   FROM cards\n",
    "   WHERE card_type = 4 AND user_id = users.id) AS given_high_score\n",
    "FROM users\n",
    "WHERE screen_status = 4 AND pass_score IS NOT NULL AND gender IS NOT NULL AND height IS NOT NULL;\n",
    "\"\"\"\n",
    "df = pd.read_csv('data/matching.csv')\n",
    "males = df[df['gender'] == 1]\n",
    "females = df[df['gender'] == 2]"
   ]
  },
  {
   "cell_type": "code",
   "execution_count": 60,
   "metadata": {
    "collapsed": false
   },
   "outputs": [
    {
     "data": {
      "image/png": "[encoded data removed]",
      "text/plain": [
       "<matplotlib.figure.Figure at 0x7fbe2f96d850>"
      ]
     },
     "metadata": {},
     "output_type": "display_data"
    }
   ],
   "source": [
    "# plt.scatter(females['pass_score'], females['liked'], color='red')\n",
    "plt.scatter(males['pass_score'], males['liked'], color='blue')\n",
    "\n",
    "# plt.ylim(3, 5)\n",
    "plt.xlim(3, 5)\n",
    "\n",
    "pd.read_sql?"
   ]
  }
 ],
 "metadata": {
  "kernelspec": {
   "display_name": "Python 2",
   "language": "python",
   "name": "python2"
  },
  "language_info": {
   "codemirror_mode": {
    "name": "ipython",
    "version": 2
   },
   "file_extension": ".py",
   "mimetype": "text/x-python",
   "name": "python",
   "nbconvert_exporter": "python",
   "pygments_lexer": "ipython2",
   "version": "2.7.10"
  }
 },
 "nbformat": 4,
 "nbformat_minor": 0
}
