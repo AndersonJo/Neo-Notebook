{
 "cells": [
  {
   "cell_type": "code",
   "execution_count": 1,
   "metadata": {
    "collapsed": false
   },
   "outputs": [
    {
     "name": "stdout",
     "output_type": "stream",
     "text": [
      "Populating the interactive namespace from numpy and matplotlib\n"
     ]
    }
   ],
   "source": [
    "%pylab inline\n",
    "import pandas as pd\n",
    "import numpy as np\n",
    "from IPython.display import display\n",
    "import re"
   ]
  },
  {
   "cell_type": "markdown",
   "metadata": {},
   "source": [
    "# Data"
   ]
  },
  {
   "cell_type": "code",
   "execution_count": 2,
   "metadata": {
    "collapsed": true
   },
   "outputs": [],
   "source": [
    "file_name = '/dataset/personal_projects/lsm/20160123_1차 발주_3280.xlsx'\n",
    "SHEET_NAME = 'original'"
   ]
  },
  {
   "cell_type": "code",
   "execution_count": 3,
   "metadata": {
    "collapsed": true
   },
   "outputs": [],
   "source": [
    "def display_time(seconds):\n",
    "    response = ''\n",
    "    hours = floor(seconds/int(60*60))\n",
    "    seconds -= hours*60*60\n",
    "    if hours >= 1:\n",
    "        response += '%d시간 ' % hours\n",
    "    \n",
    "    minutes = floor(seconds/int(60))\n",
    "    seconds -= minutes*60\n",
    "    if minutes >= 1:\n",
    "        response += '%d분 ' % minutes\n",
    "    \n",
    "    response += '%d초' % seconds\n",
    "    return response\n",
    "\n",
    "\n",
    "def display_result(n_epoch, n_location, n_product, n_barcode, is_possible=None):\n",
    "    cost_location = n_location * FINDING_LOCATION_TIME\n",
    "    cost_product = n_barcode * FINDING_PRODUCT_TIME\n",
    "    if is_possible is not None:\n",
    "        print('시뮬레이션 결과:\\t', is_possible)\n",
    "    \n",
    "    print('차수 횟수:\\t %d개' % n_epoch)\n",
    "    print('길찾기 횟수:\\t %d건' % n_location)\n",
    "    print('상품찾기 횟수:\\t %d건' % n_product)\n",
    "    print('바코드찾기 횟수:\\t %d건' % n_barcode)\n",
    "    print('총 찾기 횟수:\\t %d건' % int(n_location + n_barcode))\n",
    "    print('갈찾기 소요시간:\\t', display_time(cost_location))\n",
    "    print('바코드찾기소요시간:\\t', display_time(cost_product) )\n",
    "    print('총 소요시간:\\t', display_time(cost_location + cost_product))    "
   ]
  },
  {
   "cell_type": "code",
   "execution_count": 20,
   "metadata": {
    "collapsed": false
   },
   "outputs": [
    {
     "data": {
      "text/plain": [
       "array([2845982, 2849046, 2849187, ..., 2850710, 2851903, 2849023])"
      ]
     },
     "execution_count": 20,
     "metadata": {},
     "output_type": "execute_result"
    }
   ],
   "source": [
    "class LSM(object):\n",
    "    EMPTY_LOCATION = 'Z1-1'\n",
    "    \n",
    "    def __init__(self, DAS=96):\n",
    "        self.data = None\n",
    "        self.das_size = DAS\n",
    "        \n",
    "    def load(self, file_name, sheet=SHEET_NAME):\n",
    "        COL_NAMES = ['date', 'order_number', 'brand_code', 'brand_name', \n",
    "                     'product', 'property', 'location', 'barcode', 'n', 'price', \n",
    "                     'status', 'orderer', 'recipient', 'address', 'postcode', \n",
    "                     'contact1', 'contact2', 'comment', 'part_delivery', 'code']\n",
    "        self.data = pd.read_excel(file_name, \n",
    "                                  names=COL_NAMES,\n",
    "                                  sheetname=sheet)\n",
    "    \n",
    "    def order_by_product(self):\n",
    "        most_products = self.data[['product', 'n']].groupby(by='product').sum()\n",
    "        most_products = most_products.sort_values(by='n', ascending=False)\n",
    "        codes = []\n",
    "        for product in most_products.index:\n",
    "            for code in self.data[self.data['product'] == product]['code'].values:\n",
    "                if code not in codes:\n",
    "                    codes.append(code)\n",
    "        \n",
    "        codes = np.array(codes)\n",
    "        return codes\n",
    "    \n",
    "    def preprocess(self, codes):\n",
    "        \n",
    "    \n",
    "\n",
    "lsm = LSM()\n",
    "lsm.load(file_name)\n",
    "codes = lsm.order_by_product()\n",
    "codes"
   ]
  }
 ],
 "metadata": {
  "kernelspec": {
   "display_name": "Python 3",
   "language": "python",
   "name": "python3"
  },
  "language_info": {
   "codemirror_mode": {
    "name": "ipython",
    "version": 3
   },
   "file_extension": ".py",
   "mimetype": "text/x-python",
   "name": "python",
   "nbconvert_exporter": "python",
   "pygments_lexer": "ipython3",
   "version": "3.6.0"
  }
 },
 "nbformat": 4,
 "nbformat_minor": 2
}
