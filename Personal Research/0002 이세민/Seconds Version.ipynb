{
 "cells": [
  {
   "cell_type": "code",
   "execution_count": 14,
   "metadata": {
    "collapsed": false
   },
   "outputs": [
    {
     "name": "stdout",
     "output_type": "stream",
     "text": [
      "Populating the interactive namespace from numpy and matplotlib\n"
     ]
    }
   ],
   "source": [
    "%pylab inline\n",
    "import pandas as pd\n",
    "import numpy as np\n",
    "from IPython.display import display\n",
    "import re"
   ]
  },
  {
   "cell_type": "markdown",
   "metadata": {},
   "source": [
    "# DAS System\n",
    "\n",
    "1. Total Picking \n",
    "total picking 시에는 차수에 있는 제품들을 모두 가져오라고 지시한다. \n",
    "\n",
    "2. Distribution\n",
    "분배시에는 가져온 상품들을.. Random하게 바코드를 찍어서 어디에 넣을지를 알아냄. "
   ]
  },
  {
   "cell_type": "markdown",
   "metadata": {},
   "source": [
    "# Configurations"
   ]
  },
  {
   "cell_type": "code",
   "execution_count": 9,
   "metadata": {
    "collapsed": true
   },
   "outputs": [],
   "source": [
    "file_name = '/dataset/personal_projects/lsm/20160123_1차 발주_3280.xlsx'\n",
    "SHEET_NAME = 'original'\n",
    "CELL_SIZE = 96\n",
    "DAS_"
   ]
  },
  {
   "cell_type": "code",
   "execution_count": 2,
   "metadata": {
    "collapsed": false
   },
   "outputs": [
    {
     "ename": "SyntaxError",
     "evalue": "invalid syntax (<ipython-input-2-45a7feee5c37>, line 6)",
     "output_type": "error",
     "traceback": [
      "\u001b[0;36m  File \u001b[0;32m\"<ipython-input-2-45a7feee5c37>\"\u001b[0;36m, line \u001b[0;32m6\u001b[0m\n\u001b[0;31m    self.cells = [Cell() for _ range(cell_size)]\u001b[0m\n\u001b[0m                                   ^\u001b[0m\n\u001b[0;31mSyntaxError\u001b[0m\u001b[0;31m:\u001b[0m invalid syntax\n"
     ]
    }
   ],
   "source": [
    "def display_time(seconds):\n",
    "    response = ''\n",
    "    hours = floor(seconds/int(60*60))\n",
    "    seconds -= hours*60*60\n",
    "    if hours >= 1:\n",
    "        response += '%d시간 ' % hours\n",
    "    \n",
    "    minutes = floor(seconds/int(60))\n",
    "    seconds -= minutes*60\n",
    "    if minutes >= 1:\n",
    "        response += '%d분 ' % minutes\n",
    "    \n",
    "    response += '%d초' % seconds\n",
    "    return response\n",
    "\n",
    "\n",
    "def display_result(n_epoch, n_location, n_product, n_barcode, is_possible=None):\n",
    "    cost_location = n_location * FINDING_LOCATION_TIME\n",
    "    cost_product = n_barcode * FINDING_PRODUCT_TIME\n",
    "    if is_possible is not None:\n",
    "        print('시뮬레이션 결과:\\t', is_possible)\n",
    "    \n",
    "    print('차수 횟수:\\t %d개' % n_epoch)\n",
    "    print('길찾기 횟수:\\t %d건' % n_location)\n",
    "    print('상품찾기 횟수:\\t %d건' % n_product)\n",
    "    print('바코드찾기 횟수:\\t %d건' % n_barcode)\n",
    "    print('총 찾기 횟수:\\t %d건' % int(n_location + n_barcode))\n",
    "    print('갈찾기 소요시간:\\t', display_time(cost_location))\n",
    "    print('바코드찾기소요시간:\\t', display_time(cost_product) )\n",
    "    print('총 소요시간:\\t', display_time(cost_location + cost_product))    "
   ]
  },
  {
   "cell_type": "code",
   "execution_count": null,
   "metadata": {
    "collapsed": true
   },
   "outputs": [],
   "source": [
    "\n",
    "class LSM(object):\n",
    "    EMPTY_LOCATION = 'Z1-1'\n",
    "    \n",
    "    def __init__(self, DAS=96):\n",
    "        self.data = None\n",
    "        self.das_size = DAS\n",
    "        \n",
    "    def load(self, file_name, sheet=SHEET_NAME):\n",
    "        COL_NAMES = ['date', 'order_number', 'brand_code', 'brand_name', \n",
    "                     'product', 'property', 'location', 'barcode', 'n', 'price', \n",
    "                     'status', 'orderer', 'recipient', 'address', 'postcode', \n",
    "                     'contact1', 'contact2', 'comment', 'part_delivery', 'code']\n",
    "        self.data = pd.read_excel(file_name, \n",
    "                                  names=COL_NAMES,\n",
    "                                  sheetname=sheet)\n",
    "    \n",
    "    def order_by_product(self):\n",
    "        most_products = self.data[['product', 'n']].groupby(by='product').sum()\n",
    "        most_products = most_products.sort_values(by='n', ascending=False)\n",
    "        codes = []\n",
    "        for product in most_products.index:\n",
    "            for code in self.data[self.data['product'] == product]['code'].values:\n",
    "                if code not in codes:\n",
    "                    codes.append(code)\n",
    "        \n",
    "        codes = np.array(codes)\n",
    "        return codes\n",
    "    \n",
    "    def preprocess(self, codes):\n",
    "        \n",
    "    \n",
    "\n",
    "lsm = LSM()\n",
    "lsm.load(file_name)\n",
    "codes = lsm.order_by_product()\n",
    "codes"
   ]
  },
  {
   "cell_type": "code",
   "execution_count": 20,
   "metadata": {
    "collapsed": false
   },
   "outputs": [
    {
     "name": "stdout",
     "output_type": "stream",
     "text": [
      "0       S144657\n",
      "1       S144796\n",
      "2       S127375\n",
      "3       S136941\n",
      "4       S118310\n",
      "5       S131654\n",
      "6       S128637\n",
      "7       S144664\n",
      "8       S137585\n",
      "9       S118310\n",
      "10      S118310\n",
      "11      S141852\n",
      "12      S120743\n",
      "13      S127375\n",
      "14      S140734\n",
      "15      S127375\n",
      "16      S120067\n",
      "17      S127375\n",
      "18      S134436\n",
      "19      S141861\n",
      "20      S145645\n",
      "21      S127375\n",
      "22      S145455\n",
      "23      S127375\n",
      "24      S142259\n",
      "25      S142266\n",
      "26      S141861\n",
      "27      S136263\n",
      "28      S145277\n",
      "29      S138734\n",
      "         ...   \n",
      "3249     S76044\n",
      "3250    S130333\n",
      "3251     S76040\n",
      "3252     S76042\n",
      "3253    S102393\n",
      "3254    S135578\n",
      "3255    S143553\n",
      "3256     S76046\n",
      "3257    S146186\n",
      "3258    S100817\n",
      "3259    S105974\n",
      "3260    S135148\n",
      "3261    S135148\n",
      "3262    S135152\n",
      "3263    S135152\n",
      "3264    S137489\n",
      "3265    S145277\n",
      "3266    S143553\n",
      "3267    S146201\n",
      "3268    S145454\n",
      "3269    S138428\n",
      "3270    S142779\n",
      "3271    S142776\n",
      "3272    S135956\n",
      "3273    S100818\n",
      "3274    S102898\n",
      "3275    S139402\n",
      "3276    S140266\n",
      "3277    S141321\n",
      "3278    S145639\n",
      "Name: barcode, dtype: object\n"
     ]
    },
    {
     "name": "stderr",
     "output_type": "stream",
     "text": [
      "/usr/local/lib/python3.6/site-packages/ipykernel/__main__.py:25: UserWarning: This pattern has match groups. To actually get the groups, use str.extract.\n",
      "/usr/local/lib/python3.6/site-packages/ipykernel/__main__.py:25: SettingWithCopyWarning: \n",
      "A value is trying to be set on a copy of a slice from a DataFrame\n",
      "\n",
      "See the caveats in the documentation: http://pandas.pydata.org/pandas-docs/stable/indexing.html#indexing-view-versus-copy\n",
      "/usr/local/lib/python3.6/site-packages/ipykernel/__main__.py:26: FutureWarning: currently extract(expand=None) means expand=False (return Index/Series/DataFrame) but in a future version of pandas this will be changed to expand=True (return DataFrame)\n"
     ]
    }
   ],
   "source": [
    "class Cell(object):\n",
    "    pass\n",
    "\n",
    "class LSM(object):\n",
    "    EMPTY_LOCATION = 'Z1-1'\n",
    "    \n",
    "    def __init__(self, cell_size):\n",
    "        self.cells = [Cell() for _ in range(cell_size)]\n",
    "    \n",
    "    def load(self, file_name, sheet=SHEET_NAME):\n",
    "        COL_NAMES = ['date', 'order_number', 'brand_code', 'brand_name', \n",
    "                     'product', 'property', 'location', 'barcode', 'n', 'price', \n",
    "                     'status', 'orderer', 'recipient', 'address', 'postcode', \n",
    "                     'contact1', 'contact2', 'comment', 'part_delivery', 'code']\n",
    "        self.data = pd.read_excel(file_name, \n",
    "                                  names=COL_NAMES,\n",
    "                                  sheetname=sheet)\n",
    "        \n",
    "    def preprocess(self, gte=2, lte=None):\n",
    "        # Pre-Process missing locations\n",
    "        self.data['location'] = self.data['location'].fillna(self.EMPTY_LOCATION)\n",
    "        \n",
    "        # Split Locations to l1, l2, l3\n",
    "        location_regex = '(?P<l1>[a-zA-Z]+)-?(?P<l2>\\d+)-(?P<l3>\\d+)'\n",
    "        self.data['location'][~self.data['location'].str.contains(location_regex)] = self.EMPTY_LOCATION\n",
    "        location_series = self.data['location'].str.extract(location_regex)\n",
    "        self.data = pd.concat([self.data, location_series], axis=1)\n",
    "        \n",
    "        # \n",
    "        print(self.data['barcode'])\n",
    "    \n",
    "lsm = LSM(cell_size=CELL_SIZE)\n",
    "lsm.load(file_name)\n",
    "lsm.preprocess()\n",
    "# lsm.search(theta=0.2)"
   ]
  }
 ],
 "metadata": {
  "kernelspec": {
   "display_name": "Python 3",
   "language": "python",
   "name": "python3"
  },
  "language_info": {
   "codemirror_mode": {
    "name": "ipython",
    "version": 3
   },
   "file_extension": ".py",
   "mimetype": "text/x-python",
   "name": "python",
   "nbconvert_exporter": "python",
   "pygments_lexer": "ipython3",
   "version": "3.6.0"
  }
 },
 "nbformat": 4,
 "nbformat_minor": 2
}
