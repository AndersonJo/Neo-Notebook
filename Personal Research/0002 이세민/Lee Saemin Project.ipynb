{
 "cells": [
  {
   "cell_type": "code",
   "execution_count": 2,
   "metadata": {
    "collapsed": false
   },
   "outputs": [
    {
     "name": "stdout",
     "output_type": "stream",
     "text": [
      "Populating the interactive namespace from numpy and matplotlib\n"
     ]
    }
   ],
   "source": [
    "%pylab inline\n",
    "import pandas as pd\n",
    "import numpy as np\n",
    "from IPython.display import display\n",
    "import re"
   ]
  },
  {
   "cell_type": "markdown",
   "metadata": {},
   "source": [
    "## Data"
   ]
  },
  {
   "cell_type": "code",
   "execution_count": 1,
   "metadata": {
    "collapsed": false
   },
   "outputs": [],
   "source": [
    "file_name = '/dataset/personal_projects/lsm/20160123_1차 발주_3280.xlsx'"
   ]
  },
  {
   "cell_type": "markdown",
   "metadata": {},
   "source": [
    "## Settings"
   ]
  },
  {
   "cell_type": "code",
   "execution_count": 6,
   "metadata": {
    "collapsed": true
   },
   "outputs": [],
   "source": [
    "N_DAS = 96\n",
    "SHEET_NAME = 'original'\n",
    "FINDING_LOCATION_TIME = 9\n",
    "FINDING_PRODUCT_TIME = 12"
   ]
  },
  {
   "cell_type": "markdown",
   "metadata": {},
   "source": [
    "## Program"
   ]
  },
  {
   "cell_type": "code",
   "execution_count": 4,
   "metadata": {
    "collapsed": false
   },
   "outputs": [],
   "source": [
    "def display_time(seconds):\n",
    "    response = ''\n",
    "    hours = floor(seconds/int(60*60))\n",
    "    seconds -= hours*60*60\n",
    "    if hours >= 1:\n",
    "        response += '%d시간 ' % hours\n",
    "    \n",
    "    minutes = floor(seconds/int(60))\n",
    "    seconds -= minutes*60\n",
    "    if minutes >= 1:\n",
    "        response += '%d분 ' % minutes\n",
    "    \n",
    "    response += '%d초' % seconds\n",
    "    return response\n",
    "\n",
    "\n",
    "def display_result(n_epoch, n_location, n_product, n_barcode, is_possible=None):\n",
    "    cost_location = n_location * FINDING_LOCATION_TIME\n",
    "    cost_product = n_barcode * FINDING_PRODUCT_TIME\n",
    "    if is_possible is not None:\n",
    "        print('시뮬레이션 결과:\\t', is_possible)\n",
    "    \n",
    "    print('차수 횟수:\\t %d개' % n_epoch)\n",
    "    print('길찾기 횟수:\\t %d건' % n_location)\n",
    "    print('상품찾기 횟수:\\t %d건' % n_product)\n",
    "    print('바코드찾기 횟수:\\t %d건' % n_barcode)\n",
    "    print('총 찾기 횟수:\\t %d건' % int(n_location + n_barcode))\n",
    "    print('갈찾기 소요시간:\\t', display_time(cost_location))\n",
    "    print('바코드찾기소요시간:\\t', display_time(cost_product) )\n",
    "    print('총 소요시간:\\t', display_time(cost_location + cost_product))    "
   ]
  },
  {
   "cell_type": "code",
   "execution_count": 77,
   "metadata": {
    "collapsed": false,
    "scrolled": false
   },
   "outputs": [
    {
     "name": "stdout",
     "output_type": "stream",
     "text": [
      "727\n",
      "3279\n"
     ]
    },
    {
     "name": "stderr",
     "output_type": "stream",
     "text": [
      "/usr/local/lib/python3.6/site-packages/ipykernel/__main__.py:37: UserWarning: This pattern has match groups. To actually get the groups, use str.extract.\n",
      "/usr/local/lib/python3.6/site-packages/ipykernel/__main__.py:37: SettingWithCopyWarning: \n",
      "A value is trying to be set on a copy of a slice from a DataFrame\n",
      "\n",
      "See the caveats in the documentation: http://pandas.pydata.org/pandas-docs/stable/indexing.html#indexing-view-versus-copy\n",
      "/usr/local/lib/python3.6/site-packages/ipykernel/__main__.py:38: FutureWarning: currently extract(expand=None) means expand=False (return Index/Series/DataFrame) but in a future version of pandas this will be changed to expand=True (return DataFrame)\n"
     ]
    }
   ],
   "source": [
    "class DAS(object):\n",
    "    def __init__(self, n_das=N_DAS):\n",
    "        self.N_DAS = n_das\n",
    "    \n",
    "    def initialize(self, data, codes):\n",
    "        self.data = data\n",
    "        self.codes = codes\n",
    "        \n",
    "    def process(self, item):\n",
    "        pass\n",
    "    \n",
    "\n",
    "class HiLSM(object):\n",
    "    EMPTY_LOCATION = 'Z1-1'\n",
    "    \n",
    "    def __init__(self, n_das=N_DAS, sheet=SHEET_NAME):\n",
    "        self.data = None\n",
    "        self.N_DAS = n_das\n",
    "        self.sheet = SHEET_NAME\n",
    "        self.das = DAS(n_das=n_das)\n",
    "        \n",
    "    def load(self, file_name):\n",
    "        COL_NAMES = ['date', 'order_number', 'brand_code', 'brand_name', \n",
    "                     'product', 'property', 'location', 'barcode', 'n', 'price', \n",
    "                     'status', 'orderer', 'recipient', 'address', 'postcode', \n",
    "                     'contact1', 'contact2', 'comment', 'part_delivery', 'code']\n",
    "        self.data = pd.read_excel(file_name, \n",
    "                                  names=COL_NAMES,\n",
    "                                  sheetname=self.sheet)\n",
    "        \n",
    "    def preprocess(self):\n",
    "        # Pre-Process missing locations\n",
    "        self.data['location'] = self.data['location'].fillna(self.EMPTY_LOCATION)\n",
    "        \n",
    "        # Split Locations to l1, l2, l3\n",
    "        location_regex = '(?P<l1>[a-zA-Z]+)-?(?P<l2>\\d+)-(?P<l3>\\d+)'\n",
    "        self.data['location'][~self.data['location'].str.contains(location_regex)] = self.EMPTY_LOCATION\n",
    "        location_series = self.data['location'].str.extract(location_regex)\n",
    "        self.data = pd.concat([self.data, location_series], axis=1)\n",
    "    \n",
    "        \n",
    "    def process_by_code(self):\n",
    "        most_n = self.data[['code', 'n']].groupby(by='code').sum()\n",
    "        most_n = most_n.sort_values(by='n', ascending=False)\n",
    "        codes = most_n.index.unique().values\n",
    "        \n",
    "        return self.split_codes(codes)\n",
    "    \n",
    "    def process_by_product(self):\n",
    "        most_products = self.data[['product', 'n']].groupby(by='product').sum()\n",
    "        most_products = most_products.sort_values(by='n', ascending=False)\n",
    "        codes = []\n",
    "        for product in most_products.index:\n",
    "            for code in self.data[self.data['product'] == product]['code'].values:\n",
    "                if code not in codes:\n",
    "                    codes.append(code)\n",
    "        \n",
    "        codes = np.array(codes)\n",
    "        return self.split_codes(codes)\n",
    "        \n",
    "    def split_codes(self, codes):\n",
    "        response = []\n",
    "        for i in range(0, self.data.shape[0], self.N_DAS):\n",
    "            r = codes[i: i+self.N_DAS]\n",
    "            if len(r) >= 1:\n",
    "                response.append(codes[i: i+self.N_DAS])\n",
    "        return response\n",
    "        \n",
    "        \n",
    "    def evaluate(self, bunch_codes):\n",
    "        n_epoch = 0\n",
    "        n_locations = 0\n",
    "        n_products = 0\n",
    "        n_barcodes = 0\n",
    "        \n",
    "        for codes in bunch_codes:\n",
    "            data = self.data[self.data['code'].isin(codes)]\n",
    "        \n",
    "            n_location, n_product, n_barcode = self._calculate_n_times(data)\n",
    "            n_locations += n_location\n",
    "            n_products += n_product\n",
    "            n_barcodes += n_barcode\n",
    "            n_epoch += 1\n",
    "            \n",
    "        return n_epoch, n_locations, n_products, n_barcodes\n",
    "            \n",
    "            \n",
    "    def _calculate_n_times(self, data):\n",
    "        data = data.sort_values(['l1', 'l2', 'l3', 'barcode'])\n",
    "        n_location = 0\n",
    "        n_product = 0\n",
    "        n_barcode = 0\n",
    "        \n",
    "        current_location = None\n",
    "        current_product = None\n",
    "        current_barcode = None\n",
    "        \n",
    "        for idx, item in data.iterrows():\n",
    "            l = item['l1'] + str(item['l2'])\n",
    "            product = item['product']\n",
    "            barcode = item['barcode']\n",
    "            \n",
    "            if current_location != l:\n",
    "                current_location = l\n",
    "                n_location += 1\n",
    "            \n",
    "            if current_product != product:\n",
    "                current_product = product\n",
    "                n_product += 1\n",
    "                \n",
    "            if current_barcode != barcode:\n",
    "                current_barcode = barcode\n",
    "                n_barcode += 1\n",
    "        \n",
    "        return n_location, n_product, n_barcode\n",
    "    \n",
    "    def is_possible(self, bunch_codes):\n",
    "        # 원래 데이터의 row count가 동일한지 체크\n",
    "        if self.data.isin(np.concatenate(bunch_codes)).shape != self.data.shape:\n",
    "            return False\n",
    "        \n",
    "        for codes in bunch_codes:\n",
    "            if codes.shape[0] > self.N_DAS:\n",
    "                return False\n",
    "            \n",
    "            # DAS Initilization\n",
    "            self.das.initialize(self.data, codes)\n",
    "            \n",
    "            # Load 차수\n",
    "            data = self.data[self.data['code'].isin(codes)]\n",
    "            for idx, item in data.iterrows():\n",
    "                self.das.process(item)\n",
    "            \n",
    "        return True\n",
    "    \n",
    "    def process_by_location(self):\n",
    "        print(len(self.data['product'].unique()))\n",
    "        print(len(self.data['product']))\n",
    "    \n",
    "    \n",
    "        \n",
    "lsm = HiLSM()\n",
    "lsm.load(file_name)\n",
    "lsm.preprocess()\n",
    "lsm.process_by_location()"
   ]
  },
  {
   "cell_type": "markdown",
   "metadata": {},
   "source": [
    "### 주문 단위로 찾을때의 비용\n",
    "\n",
    "주문이란 \"관리번호\"를 기준으로 하여 한건 한건씩 찾을때 걸리는 시간입니다.<br>\n",
    "\"제품 로케이션\"을 기준으로 optimize되어 있기 때문에 실제보다 조금더 빠를수 있습니다."
   ]
  },
  {
   "cell_type": "code",
   "execution_count": 78,
   "metadata": {
    "collapsed": false
   },
   "outputs": [
    {
     "name": "stdout",
     "output_type": "stream",
     "text": [
      "시뮬레이션 결과:\t True\n",
      "차수 횟수:\t 18개\n",
      "길찾기 횟수:\t 1017건\n",
      "상품찾기 횟수:\t 2146건\n",
      "바코드찾기 횟수:\t 2621건\n",
      "총 찾기 횟수:\t 3638건\n",
      "갈찾기 소요시간:\t 2시간 32분 33초\n",
      "바코드찾기소요시간:\t 8시간 44분 12초\n",
      "총 소요시간:\t 11시간 16분 45초\n"
     ]
    }
   ],
   "source": [
    "codes = lsm.process_by_code()\n",
    "analytics = lsm.evaluate(codes)\n",
    "is_possible = lsm.is_possible(codes)\n",
    "display_result(*analytics, is_possible=is_possible)"
   ]
  },
  {
   "cell_type": "markdown",
   "metadata": {},
   "source": [
    "### 상품 단위로 찾을때의 비용\n",
    "\n",
    "가장많이 나온 상품을 기준으로 최대한 한꺼번에 동일한 상품들을 가져오도록 optimize하는 방법입니다."
   ]
  },
  {
   "cell_type": "code",
   "execution_count": 79,
   "metadata": {
    "collapsed": false
   },
   "outputs": [
    {
     "name": "stdout",
     "output_type": "stream",
     "text": [
      "시뮬레이션 결과:\t True\n",
      "차수 횟수:\t 18개\n",
      "길찾기 횟수:\t 901건\n",
      "상품찾기 횟수:\t 1552건\n",
      "바코드찾기 횟수:\t 1968건\n",
      "총 찾기 횟수:\t 2869건\n",
      "갈찾기 소요시간:\t 2시간 15분 9초\n",
      "바코드찾기소요시간:\t 6시간 33분 36초\n",
      "총 소요시간:\t 8시간 48분 45초\n"
     ]
    }
   ],
   "source": [
    "codes = lsm.process_by_product()\n",
    "analytics = lsm.evaluate(codes)\n",
    "is_possible = lsm.is_possible(codes)\n",
    "display_result(*analytics, is_possible=is_possible)"
   ]
  }
 ],
 "metadata": {
  "kernelspec": {
   "display_name": "Python 3",
   "language": "python",
   "name": "python3"
  },
  "language_info": {
   "codemirror_mode": {
    "name": "ipython",
    "version": 3
   },
   "file_extension": ".py",
   "mimetype": "text/x-python",
   "name": "python",
   "nbconvert_exporter": "python",
   "pygments_lexer": "ipython3",
   "version": "3.6.0"
  }
 },
 "nbformat": 4,
 "nbformat_minor": 2
}
