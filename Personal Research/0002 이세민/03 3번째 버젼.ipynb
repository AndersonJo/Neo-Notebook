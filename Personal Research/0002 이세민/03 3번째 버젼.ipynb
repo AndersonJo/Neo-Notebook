{
 "cells": [
  {
   "cell_type": "markdown",
   "metadata": {
    "deletable": true,
    "editable": true
   },
   "source": [
    "# 차수 효율화 프로젝트\n",
    "\n",
    "### 목표 \n",
    "\n",
    "차수 배분에 대한 최적 효율화를 통해 더 높은 생산성 유도. \n",
    "\n",
    "### 얻는 이점\n",
    "\n",
    "1. 1차수에 들어갈 최적의 주문건수 의사결정을 내리도록 도움\n",
    "2. DAS를 이용하지 않아도 되는 주문은 배제시킴\n"
   ]
  },
  {
   "cell_type": "markdown",
   "metadata": {
    "deletable": true,
    "editable": true
   },
   "source": [
    "## 문제\n",
    "\n",
    "차수를 어떻게 효율적으로 나눌것인가가 문제. <br>\n",
    "90개의 Cells 이 있다고 가정을 했을때, 90개의 주문을 1차수에 넣으면 모든 물품은 문제없이 소화 가능<br>\n",
    "하지만 1차수에 90개 이상의 주문을 넣었을때 더 효율적으로 상품을 가져올수 있는 기회를 잃어버림. \n",
    "\n",
    "1차수에 너무 많은 주문을 넣었다면 (예를 들어 200개의 주문을 1차수에 넣음) DAS 분배과정에서 <br>\n",
    "Cells있지 않은 상품을 선택하여 생기는 비효율성이 생길수 있음. \n",
    "\n",
    "결국 그 둘 사이의 최적점을 찾아서 1차수에 들어갈수 있는 최적의 \"주문\" 갯수를 알아내는 것이 중요. "
   ]
  },
  {
   "cell_type": "markdown",
   "metadata": {
    "deletable": true,
    "editable": true
   },
   "source": [
    "## 알고리즘 \n"
   ]
  },
  {
   "cell_type": "markdown",
   "metadata": {
    "deletable": true,
    "editable": true
   },
   "source": [
    "### 주문간의 유사도 판별\n",
    "\n",
    "문제의 유사도 판별은 probability model 그리고 sigmoid activation을 사용함. <br>\n",
    "\n",
    "$$ H(A, B) = \\frac{1}{1+e^{-\\sum A주문 * B주문}} $$ \n",
    "\n",
    "예를 들어 주문 A에는 a상품 3개, b2개 라는 상품을 갖고 있고, <br>\n",
    "B라는 주문애는 a상품 3개, b상품 2개, c상품 1개 라는 상품을 갖고 있으며, <br>\n",
    "C라는 주문에는 c상품 1개, d상품 2개를 갖고 있음 \n",
    "\n",
    "$$ \\begin{align}\n",
    "A &= \\{ 3a, 2b \\} \\\\ \n",
    "B &= \\{ 2a, 2b, 1c \\} \\\\\n",
    "C &= \\{ 1c, 2d \\}\n",
    "\\end{align} $$ \n",
    "\n",
    "위의 주문은 선형대수학에서 말하는 vector의 형태로 전환이 가능. \n",
    "\n",
    "$$ \\begin{align}\n",
    "A &= [ 3, 2, 0, 0] \\\\ \n",
    "B &= [ 2, 2, 1, 0] \\\\\n",
    "C &= [ 0, 0, 1, 2]\n",
    "\\end{align} $$ \n",
    "\n",
    "vectors로 표현된 주문들은 서로간의 유사도 판별이 가능해지며 유사도 수치에 따라서 어떤 상품을 같은 차수에 넣을지 결정을 할 수 있음. <br>\n",
    "아래는 서로 유사도를 비교하는 예제 코드. \n",
    "\n",
    "즉 결론적으로 서로 주문들간의 유사도가 높으면 높을수록 1에 가까워지는 확률을 보이며, <br>\n",
    "서로 상관관계가 전혀 없을시에는 0에 가까운 값을 내놓음\n",
    "\n",
    "아래의 예제에서는 A와 B의 유사도 0.809는 A 와 C의 유사도 0.5값보다 높다. "
   ]
  },
  {
   "cell_type": "code",
   "execution_count": 58,
   "metadata": {
    "collapsed": false,
    "deletable": true,
    "editable": true
   },
   "outputs": [
    {
     "name": "stdout",
     "output_type": "stream",
     "text": [
      "H(A, B) = 0.809141955755\n",
      "H(A, C) = 0.5\n",
      "H(B, C) = 0.527749235055\n"
     ]
    }
   ],
   "source": [
    "import numpy as np\n",
    "\n",
    "MAXIMUM = 3\n",
    "\n",
    "def sigmoid(x):\n",
    "    return 1/(1 + np.nan_to_num(np.e**(-x)))\n",
    "\n",
    "\n",
    "def forward(a, b):\n",
    "    a = a/MAXIMUM\n",
    "    b = b/MAXIMUM\n",
    "    return np.sum(a * b)\n",
    "\n",
    "def process(a, b):\n",
    "    return sigmoid(forward(a, b))\n",
    "\n",
    "A = np.array([3, 2, 0, 0])\n",
    "B = np.array([3, 2, 1, 0])\n",
    "C = np.array([0, 0, 1, 2])\n",
    "\n",
    "r1 = process(A, B) # 0.999997739676\n",
    "r2 = process(A, C) # 0.5\n",
    "r3 = process(B, C) # 0.527749235055\n",
    "\n",
    "\n",
    "print('H(A, B) =', r1)\n",
    "print('H(A, C) =', r2)\n",
    "print('H(B, C) =', r3)"
   ]
  },
  {
   "cell_type": "markdown",
   "metadata": {
    "deletable": true,
    "editable": true
   },
   "source": [
    "### 우선순위 문제\n",
    "\n",
    "셀의 전체 갯수가 4개라고 가정을 하고, 현재 모두 다 가득차 있는 상태라면 다음과 같이 그려질수 있음 \n",
    "\n",
    "$$\n",
    "\\text{1번 셀} = [4, 2, 0, 0] \\\\\n",
    "\\text{2번 셀} = [3, 2, 0, 0] \\\\\n",
    "\\text{3번 셀} = [0, 0, 1, 0] \\\\\n",
    "\\text{4번 셀} = [1, 0, 2, 0]\n",
    "$$\n",
    "\n",
    "현재 DAS상태를 대표할수 있는 값은 모든 cell vectors를 합한 값. 즉.. \n",
    "\n",
    "$$ \\text{1번 셀} + \\text{2번 셀} + \\text{3번 셀} + \\text{4번 셀} = [8, 4, 3, 0] $$\n",
    "\n",
    "\n",
    "\n",
    "이 때 어떤 주문을 넣는것이 (같은 차수안에..) 가장 효율적인가에 대한 문제가 생김<br>\n",
    "예를 들어서 D, E, F라는 선택 가능한 주문이 있음\n",
    "(현재 Cell의 4칸 모두 주문이 차 있는 상태) \n",
    "\n",
    "$$ \\begin{align}\n",
    "D &= [3, 3, 1, 0 ] \\\\ \n",
    "E &= [0, 0, 1, 5 ] \\\\\n",
    "F &= [0, 0, 0, 5 ] \\\\\n",
    "\\end{align} $$ \n",
    "\n",
    "\n",
    "아래의 예제 코드에서 나온봐와 같이, 유사도 판별을 하여 가장 유사한 상품을 차수에 집어 넣으면 됨"
   ]
  },
  {
   "cell_type": "code",
   "execution_count": 62,
   "metadata": {
    "collapsed": false,
    "deletable": true,
    "editable": true
   },
   "outputs": [
    {
     "name": "stdout",
     "output_type": "stream",
     "text": [
      "H(R, D) = 0.987046272469\n",
      "H(R, E) = 0.809141955755\n",
      "H(R, F) = 0.752336198861\n"
     ]
    }
   ],
   "source": [
    "R = np.array([8, 4, 3, 2])\n",
    "D = np.array([3, 3, 1, 0])\n",
    "E = np.array([0, 0, 1, 5])\n",
    "F = np.array([0, 0, 0, 5])\n",
    "\n",
    "print('H(R, D) =', process(R, D))\n",
    "print('H(R, E) =', process(R, E))\n",
    "print('H(R, F) =', process(R, F))"
   ]
  },
  {
   "cell_type": "markdown",
   "metadata": {
    "deletable": true,
    "editable": true
   },
   "source": [
    "\n",
    "### 1차수에 얼만큼 더 넣을지 문제 \n",
    "\n",
    "사실 정답이 없음. <br>\n",
    "정답을 가장 잘 아는 사람은 바로 현장에서 일하고 계신 분들이 가장 잘 알고 있음. <br>\n",
    "즉 현장 사람들이 정할수 있도록 옵션을 주는 것이 가장 효율적이라고 판단. \n",
    "\n",
    "**즉 해당 비율을 현장에 계신 분들이 정하면 그에 따라서 자동으로 차수를 나눠줌**\n",
    "\n",
    "$$ \\text{비율} = \\frac{\\text{못들어가는 양}}{\\text{들어갈수 있는 양}} $$\n",
    "\n",
    "비율을 정한는 방법은 몬테 카를로 알고리즘을 사용하여 가상의 시뮬레이션을 돌려본뒤 결정이 됨 "
   ]
  },
  {
   "cell_type": "markdown",
   "metadata": {},
   "source": [
    "가장 낮은 주문건부터 \n",
    "A 라는 상품이 10개 \n",
    "1번 주분 A, B\n",
    "2번 주문 A, B, C 상품\n",
    "3번 주문 A, B, C, D\n",
    "\n",
    "주문상품이 적은 주문부터 "
   ]
  }
 ],
 "metadata": {
  "kernelspec": {
   "display_name": "Python 3",
   "language": "python",
   "name": "python3"
  },
  "language_info": {
   "codemirror_mode": {
    "name": "ipython",
    "version": 3
   },
   "file_extension": ".py",
   "mimetype": "text/x-python",
   "name": "python",
   "nbconvert_exporter": "python",
   "pygments_lexer": "ipython3",
   "version": "3.6.0"
  }
 },
 "nbformat": 4,
 "nbformat_minor": 2
}
