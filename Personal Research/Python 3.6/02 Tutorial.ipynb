{
 "cells": [
  {
   "cell_type": "markdown",
   "metadata": {},
   "source": [
    "# Python Tutorial \n",
    "\n",
    "1991년에 귀도 판 로썸(Guido van Rossum)으로서 1989년 크리스마스 주에 연구실이 닫혀있어서 심심해서 만들었습니다. <br>\n",
    "이름은 즐겨보든 코미디 Monty Python에서 따왔습니다. "
   ]
  },
  {
   "cell_type": "markdown",
   "metadata": {},
   "source": [
    "### 철학 - Life is short you need Python\n",
    "\n",
    "* https://www.python.org/dev/peps/pep-0020/\n",
    "* [Python & Java: A Side-by-Side Comparison](https://pythonconquerstheuniverse.wordpress.com/2009/10/03/python-java-a-side-by-side-comparison/) 에서 파이썬 그리고 자바에 대한 내용을 가져왔습니다. "
   ]
  },
  {
   "cell_type": "code",
   "execution_count": 1,
   "metadata": {
    "collapsed": false,
    "scrolled": false
   },
   "outputs": [
    {
     "name": "stdout",
     "output_type": "stream",
     "text": [
      "The Zen of Python, by Tim Peters\n",
      "\n",
      "Beautiful is better than ugly.\n",
      "Explicit is better than implicit.\n",
      "Simple is better than complex.\n",
      "Complex is better than complicated.\n",
      "Flat is better than nested.\n",
      "Sparse is better than dense.\n",
      "Readability counts.\n",
      "Special cases aren't special enough to break the rules.\n",
      "Although practicality beats purity.\n",
      "Errors should never pass silently.\n",
      "Unless explicitly silenced.\n",
      "In the face of ambiguity, refuse the temptation to guess.\n",
      "There should be one-- and preferably only one --obvious way to do it.\n",
      "Although that way may not be obvious at first unless you're Dutch.\n",
      "Now is better than never.\n",
      "Although never is often better than *right* now.\n",
      "If the implementation is hard to explain, it's a bad idea.\n",
      "If the implementation is easy to explain, it may be a good idea.\n",
      "Namespaces are one honking great idea -- let's do more of those!\n"
     ]
    }
   ],
   "source": [
    "import this"
   ]
  },
  {
   "cell_type": "markdown",
   "metadata": {},
   "source": [
    "\n",
    "\n",
    "### Hello World\n",
    "\n",
    "<img src=\"images/python_vs_java01.png\">"
   ]
  },
  {
   "cell_type": "markdown",
   "metadata": {},
   "source": [
    "### File Open\n",
    "\n",
    "<img src=\"images/python_vs_java02.png\">"
   ]
  },
  {
   "cell_type": "markdown",
   "metadata": {},
   "source": [
    "### int를 vector에 넣은후 다시 retrieve하기\n",
    "\n",
    "<img src=\"images/python_vs_java03.png\">"
   ]
  },
  {
   "cell_type": "markdown",
   "metadata": {},
   "source": [
    "### Class 생성 \n",
    "<img src=\"images/python_vs_java04.png\">"
   ]
  },
  {
   "cell_type": "markdown",
   "metadata": {},
   "source": [
    "# Python을 사용하는 기업및 제품들\n",
    "\n",
    "* https://wiki.python.org/moin/OrganizationsUsingPython\n",
    "* https://www.shuup.com/en/blog/25-of-the-most-popular-python-and-django-websites/\n",
    "* https://research.googleblog.com/2016/04/deepmind-moves-to-tensorflow.html\n",
    "* https://en.wikipedia.org/wiki/List_of_Python_software\n",
    "\n",
    "\n",
    "1. **Google**: Google spider 그리고 검색 엔진들의 대부분 components들이 Python으로 구현\n",
    "2. **Google DeepMind**: 알파고를 만든곳. Python, TensorFlow로 2016년부터 사용중\n",
    "2. **YouTube**: Standard Programming Language로 사용중\n",
    "3. **Pinterest**: Python Django로 구현\n",
    "4. **Instagram**: Python Django로 구현\n",
    "5. **Washington Post**: Django가 만들어진곳으며, 대부분이 Python으로 구현되어 있음\n",
    "6. **Facebook**: Tornado Server를 사용중, components들이 pure Python으로 개발\n",
    "7. **BitBucket**: Django로 구현되어 있음\n",
    "8. **BattleField 2**: 배틀필드2의 게임서버가 Python으로 구현\n",
    "9. **Civilization 4**: 문명4의 내부 Logic, AI가 Python으로 구현\n",
    "10. **DropBox**: 드랍박스에서 사용중\n",
    "11. **Quora**: 쿼라에서 사용중\n",
    "12. **Reddit**: Python으로 구현됨\n",
    "13. **Walt Disney Feature Animation**: 애니메이션 제작에 활용\n",
    "14. **Nasa**: Johnson Space Center는 Integrated Planning System에 사용\n",
    "15. **Boston Dynamics**: 로봇으로 유명한 곳.. C, C++, Python을 사용중에 있음\n",
    "\n",
    "\n",
    "**특히.. Tensorflow를 사용하는 기업들..**\n",
    "\n",
    "<img src=\"images/tensorflow-companies.png\">"
   ]
  }
 ],
 "metadata": {
  "kernelspec": {
   "display_name": "Python 3",
   "language": "python",
   "name": "python3"
  },
  "language_info": {
   "codemirror_mode": {
    "name": "ipython",
    "version": 3
   },
   "file_extension": ".py",
   "mimetype": "text/x-python",
   "name": "python",
   "nbconvert_exporter": "python",
   "pygments_lexer": "ipython3",
   "version": "3.6.0"
  }
 },
 "nbformat": 4,
 "nbformat_minor": 2
}
