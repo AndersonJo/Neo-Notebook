{
 "cells": [
  {
   "cell_type": "markdown",
   "metadata": {},
   "source": [
    "### PEP 498: Formatted string literals\n",
    "\n",
    "[PEP 498: Formatted string literals](https://www.python.org/dev/peps/pep-0498/)\n"
   ]
  },
  {
   "cell_type": "code",
   "execution_count": 1,
   "metadata": {
    "collapsed": false
   },
   "outputs": [
    {
     "name": "stdout",
     "output_type": "stream",
     "text": [
      "Anderson name: 조창민 \n",
      "height: 183 \n",
      "age: 33\n"
     ]
    }
   ],
   "source": [
    "name = u'조창민'\n",
    "height = 183\n",
    "age = 33\n",
    "\n",
    "print(f'Anderson name: {name} \\nheight: {height} \\nage: {age}')"
   ]
  },
  {
   "cell_type": "markdown",
   "metadata": {},
   "source": [
    "### PEP 526: Type Hints\n",
    "\n",
    "Scala 처럼 Type hints를 줄수 있으며, Pycharm같은 곳에서 auto completion같은곳에 좋을수 있습니다.<br>\n",
    "실제로 type이 다른값을 value로 assignment해도 에러를 일으키지는 않습니다."
   ]
  },
  {
   "cell_type": "code",
   "execution_count": 2,
   "metadata": {
    "collapsed": false
   },
   "outputs": [
    {
     "name": "stdout",
     "output_type": "stream",
     "text": [
      "Anderson <class 'str'>\n",
      "19 <class 'int'>\n"
     ]
    }
   ],
   "source": [
    "name: str = 'Anderson'\n",
    "print(name, type(name))\n",
    "\n",
    "name = 19\n",
    "print(name, type(name))"
   ]
  },
  {
   "cell_type": "markdown",
   "metadata": {},
   "source": [
    "### PEP 525: Asynchronous Generators\n",
    "\n",
    "[asyncio](https://docs.python.org/3/library/asyncio.html#module-asyncio)에서 사용된 Couroutines 은 Python 3.5에서 추가가 됐고 yield generator는 3.6에서 추가가 되었습니다.<br>\n",
    "[Tasks and coroutines](https://docs.python.org/3/library/asyncio-task.html)문서를 참고합니다."
   ]
  },
  {
   "cell_type": "code",
   "execution_count": 17,
   "metadata": {
    "collapsed": false
   },
   "outputs": [
    {
     "name": "stdout",
     "output_type": "stream",
     "text": [
      "2016-12-28 20:38:39.832016\n",
      "2016-12-28 20:38:40.833491\n",
      "2016-12-28 20:38:41.834859\n",
      "2016-12-28 20:38:42.836265\n",
      "2016-12-28 20:38:43.837681\n",
      "done\n"
     ]
    }
   ],
   "source": [
    "import asyncio\n",
    "import datetime\n",
    "\n",
    "async def display_date(loop):\n",
    "    end_time = loop.time() + 5.0\n",
    "    while True:\n",
    "        print(datetime.datetime.now())\n",
    "        if (loop.time() + 1.0) >= end_time:\n",
    "            break\n",
    "        await asyncio.sleep(1)\n",
    "\n",
    "loop = asyncio.get_event_loop()\n",
    "loop.run_until_complete(display_date(loop))\n",
    "print('done')"
   ]
  }
 ],
 "metadata": {
  "kernelspec": {
   "display_name": "Python 3",
   "language": "python",
   "name": "python3"
  },
  "language_info": {
   "codemirror_mode": {
    "name": "ipython",
    "version": 3
   },
   "file_extension": ".py",
   "mimetype": "text/x-python",
   "name": "python",
   "nbconvert_exporter": "python",
   "pygments_lexer": "ipython3",
   "version": "3.6.0"
  }
 },
 "nbformat": 4,
 "nbformat_minor": 1
}
