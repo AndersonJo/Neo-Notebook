{
 "cells": [
  {
   "cell_type": "markdown",
   "metadata": {},
   "source": [
    "# Python Tutorial for experienced developers\n",
    "\n",
    "다른 언어에 대한 경험이 있는 개발자들을 위한 Python Tutorial입니다.<br>\n",
    "Python 언어에 대한 모든 부분을 다루는 것은 책을 보는것을 권합니다.<br>\n",
    "해당 문서는 다른 언어와 다른 features들에 초점을 맞췄습니다. "
   ]
  },
  {
   "cell_type": "code",
   "execution_count": 44,
   "metadata": {
    "collapsed": true
   },
   "outputs": [],
   "source": [
    "import numpy as np \n",
    "from pprint import pprint as pp"
   ]
  },
  {
   "cell_type": "markdown",
   "metadata": {},
   "source": [
    "### Data Types"
   ]
  },
  {
   "cell_type": "code",
   "execution_count": 52,
   "metadata": {
    "collapsed": false
   },
   "outputs": [
    {
     "name": "stdout",
     "output_type": "stream",
     "text": [
      "Anderson Jo의 나이는 34이고, 키는 183.2cm 입니다.\n",
      "\n",
      "영화 점수\n",
      "[슈퍼맨]:\t 3.14\n",
      "[매트릭스]:\t 5\n",
      "[닥터 스트레인지]:\t 4.5\n",
      "[러브스토리]:\t 0\n",
      "\n",
      "친구들: 병두, 철수, 영희, 창범\n"
     ]
    }
   ],
   "source": [
    "name = 'Anderson Jo' # String \n",
    "age = 34 # Integer\n",
    "height = 183.2 # Float \n",
    "etc = ['anderson', 'foo', 13, 24, 3.141596] # List \n",
    "movie_rates = {'슈퍼맨': 3.14, '매트릭스': 5, '닥터 스트레인지': 4.5, '러브스토리': 0} # Dictionary \n",
    "friends = {'영희', '철수', '영희', '병두', '창범'}\n",
    "\n",
    "\n",
    "print(f'{name}의 나이는 {age}이고, 키는 {height}cm 입니다.')\n",
    "print('\\n영화 점수')\n",
    "for k, v in movie_rates.items():\n",
    "    print(f'[{k}]:\\t {v}')\n",
    "    \n",
    "print('\\n친구들:', ', '.join(friends)) "
   ]
  },
  {
   "cell_type": "markdown",
   "metadata": {},
   "source": [
    "### List Comprehension\n",
    "\n",
    "List Comprehension을 사용시 C언어에서 돌아가기 때문에 매우 빠르게 연산이 됩니다. <br>\n",
    "아래 예제는 for문을 돌면서 square를 하였습니다. "
   ]
  },
  {
   "cell_type": "code",
   "execution_count": 34,
   "metadata": {
    "collapsed": false
   },
   "outputs": [
    {
     "data": {
      "text/plain": [
       "[4, 1, 0, 1, 4, 9, 16]"
      ]
     },
     "execution_count": 34,
     "metadata": {},
     "output_type": "execute_result"
    }
   ],
   "source": [
    "[i**2 for i in range(-2, 5)]"
   ]
  },
  {
   "cell_type": "markdown",
   "metadata": {},
   "source": [
    "### Lambda & Map & Filter"
   ]
  },
  {
   "cell_type": "code",
   "execution_count": 80,
   "metadata": {
    "collapsed": false
   },
   "outputs": [
    {
     "data": {
      "text/plain": [
       "5.0"
      ]
     },
     "execution_count": 80,
     "metadata": {},
     "output_type": "execute_result"
    }
   ],
   "source": [
    "f = lambda x: x * 0.5\n",
    "f(10)"
   ]
  },
  {
   "cell_type": "code",
   "execution_count": 69,
   "metadata": {
    "collapsed": false
   },
   "outputs": [
    {
     "name": "stdout",
     "output_type": "stream",
     "text": [
      "[0, 1, 4, 9, 16, 25, 36, 49, 64, 81, 100]\n"
     ]
    }
   ],
   "source": [
    "f = map(lambda x: x**2, [0, 1, 2, 3, 4, 5, 6, 7, 8, 9, 10])\n",
    "print(list(f))"
   ]
  },
  {
   "cell_type": "code",
   "execution_count": 72,
   "metadata": {
    "collapsed": false
   },
   "outputs": [
    {
     "name": "stdout",
     "output_type": "stream",
     "text": [
      "[0, 2, 4, 6, 8]\n"
     ]
    }
   ],
   "source": [
    "f = filter(lambda x: x%2 == 0, range(10))\n",
    "print(list(f))"
   ]
  },
  {
   "cell_type": "markdown",
   "metadata": {},
   "source": [
    "### Function"
   ]
  },
  {
   "cell_type": "code",
   "execution_count": 84,
   "metadata": {
    "collapsed": false
   },
   "outputs": [
    {
     "data": {
      "text/plain": [
       "'Hi! Anderson'"
      ]
     },
     "execution_count": 84,
     "metadata": {},
     "output_type": "execute_result"
    }
   ],
   "source": [
    "def greeting(name, say='Hi!'):\n",
    "    return f'{say} {name}'\n",
    "\n",
    "greeting('Anderson')"
   ]
  },
  {
   "cell_type": "markdown",
   "metadata": {},
   "source": [
    "### Argument Passing"
   ]
  },
  {
   "cell_type": "code",
   "execution_count": 100,
   "metadata": {
    "collapsed": false
   },
   "outputs": [
    {
     "name": "stdout",
     "output_type": "stream",
     "text": [
      "(1, 2, 3)\n",
      "{'name': 'Anderson', 'face': 'awesome'}\n"
     ]
    }
   ],
   "source": [
    "def foo(*args, **kwargs):\n",
    "    print(args) # Tuple\n",
    "    print(kwargs) # Dictionary\n",
    "    \n",
    "foo(1,2,3, name='Anderson', face='awesome')"
   ]
  },
  {
   "cell_type": "code",
   "execution_count": 99,
   "metadata": {
    "collapsed": false
   },
   "outputs": [
    {
     "name": "stdout",
     "output_type": "stream",
     "text": [
      "(1, 2) ->\t 33\n",
      "(1, 2, 0, 0) ->\t 3\n",
      "(1, 2, 0, 0) ->\t 58\n"
     ]
    }
   ],
   "source": [
    "def summation(a, b, c=10, d=20, *args):\n",
    "    return sum([a, b, c, d] + list(args))\n",
    "\n",
    "data = [1,2,3,4,5,6,7,8,9,10]\n",
    "\n",
    "print('(1, 2) ->\\t', summation(1, 2))\n",
    "print('(1, 2, 0, 0) ->\\t', summation(1, 2, 0, 0))\n",
    "print('(1, 2, 0, 0) ->\\t', summation(1, 2, *data))"
   ]
  },
  {
   "cell_type": "markdown",
   "metadata": {},
   "source": [
    "### Forloop & Break"
   ]
  },
  {
   "cell_type": "code",
   "execution_count": 101,
   "metadata": {
    "collapsed": false
   },
   "outputs": [
    {
     "name": "stdout",
     "output_type": "stream",
     "text": [
      "0\n"
     ]
    }
   ],
   "source": [
    "for i in range(10):\n",
    "    print(i)\n",
    "    break\n",
    "else:\n",
    "    print('End')"
   ]
  },
  {
   "cell_type": "code",
   "execution_count": 103,
   "metadata": {
    "collapsed": false
   },
   "outputs": [
    {
     "name": "stdout",
     "output_type": "stream",
     "text": [
      "0\n",
      "1\n",
      "2\n",
      "3\n",
      "4\n",
      "5\n",
      "6\n",
      "7\n",
      "8\n",
      "9\n",
      "End\n"
     ]
    }
   ],
   "source": [
    "for i in range(10):\n",
    "    print(i)\n",
    "else:\n",
    "    print('End')"
   ]
  }
 ],
 "metadata": {
  "kernelspec": {
   "display_name": "Python 3",
   "language": "python",
   "name": "python3"
  },
  "language_info": {
   "codemirror_mode": {
    "name": "ipython",
    "version": 3
   },
   "file_extension": ".py",
   "mimetype": "text/x-python",
   "name": "python",
   "nbconvert_exporter": "python",
   "pygments_lexer": "ipython3",
   "version": "3.6.0"
  }
 },
 "nbformat": 4,
 "nbformat_minor": 2
}
