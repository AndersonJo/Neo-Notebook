{
 "cells": [
  {
   "cell_type": "markdown",
   "metadata": {
    "deletable": true,
    "editable": true
   },
   "source": [
    "# Python Tutorial for experienced developers\n",
    "\n",
    "다른 언어에 대한 경험이 있는 개발자들을 위한 Python Tutorial입니다.<br>\n",
    "Python 언어에 대한 모든 부분을 다루는 것은 책을 보는것을 권합니다.<br>\n",
    "해당 문서는 다른 언어와 다른 features들에 초점을 맞췄습니다. "
   ]
  },
  {
   "cell_type": "code",
   "execution_count": 44,
   "metadata": {
    "collapsed": true,
    "deletable": true,
    "editable": true
   },
   "outputs": [],
   "source": [
    "import numpy as np \n",
    "from pprint import pprint as pp"
   ]
  },
  {
   "cell_type": "markdown",
   "metadata": {
    "deletable": true,
    "editable": true
   },
   "source": [
    "### Data Types"
   ]
  },
  {
   "cell_type": "code",
   "execution_count": 52,
   "metadata": {
    "collapsed": false,
    "deletable": true,
    "editable": true
   },
   "outputs": [
    {
     "name": "stdout",
     "output_type": "stream",
     "text": [
      "Anderson Jo의 나이는 34이고, 키는 183.2cm 입니다.\n",
      "\n",
      "영화 점수\n",
      "[슈퍼맨]:\t 3.14\n",
      "[매트릭스]:\t 5\n",
      "[닥터 스트레인지]:\t 4.5\n",
      "[러브스토리]:\t 0\n",
      "\n",
      "친구들: 병두, 철수, 영희, 창범\n"
     ]
    }
   ],
   "source": [
    "name = 'Anderson Jo' # String \n",
    "age = 34 # Integer\n",
    "height = 183.2 # Float \n",
    "etc = ['anderson', 'foo', 13, 24, 3.141596] # List \n",
    "movie_rates = {'슈퍼맨': 3.14, '매트릭스': 5, '닥터 스트레인지': 4.5, '러브스토리': 0} # Dictionary \n",
    "friends = {'영희', '철수', '영희', '병두', '창범'}\n",
    "\n",
    "\n",
    "print(f'{name}의 나이는 {age}이고, 키는 {height}cm 입니다.')\n",
    "print('\\n영화 점수')\n",
    "for k, v in movie_rates.items():\n",
    "    print(f'[{k}]:\\t {v}')\n",
    "    \n",
    "print('\\n친구들:', ', '.join(friends)) "
   ]
  },
  {
   "cell_type": "markdown",
   "metadata": {
    "deletable": true,
    "editable": true
   },
   "source": [
    "### List Comprehension\n",
    "\n",
    "List Comprehension을 사용시 C언어에서 돌아가기 때문에 매우 빠르게 연산이 됩니다. <br>\n",
    "아래 예제는 for문을 돌면서 square를 하였습니다. "
   ]
  },
  {
   "cell_type": "code",
   "execution_count": 34,
   "metadata": {
    "collapsed": false,
    "deletable": true,
    "editable": true
   },
   "outputs": [
    {
     "data": {
      "text/plain": [
       "[4, 1, 0, 1, 4, 9, 16]"
      ]
     },
     "execution_count": 34,
     "metadata": {},
     "output_type": "execute_result"
    }
   ],
   "source": [
    "[i**2 for i in range(-2, 5)]"
   ]
  },
  {
   "cell_type": "markdown",
   "metadata": {
    "deletable": true,
    "editable": true
   },
   "source": [
    "### Lambda & Map & Filter"
   ]
  },
  {
   "cell_type": "code",
   "execution_count": 80,
   "metadata": {
    "collapsed": false,
    "deletable": true,
    "editable": true
   },
   "outputs": [
    {
     "data": {
      "text/plain": [
       "5.0"
      ]
     },
     "execution_count": 80,
     "metadata": {},
     "output_type": "execute_result"
    }
   ],
   "source": [
    "f = lambda x: x * 0.5\n",
    "f(10)"
   ]
  },
  {
   "cell_type": "code",
   "execution_count": 69,
   "metadata": {
    "collapsed": false,
    "deletable": true,
    "editable": true
   },
   "outputs": [
    {
     "name": "stdout",
     "output_type": "stream",
     "text": [
      "[0, 1, 4, 9, 16, 25, 36, 49, 64, 81, 100]\n"
     ]
    }
   ],
   "source": [
    "f = map(lambda x: x**2, [0, 1, 2, 3, 4, 5, 6, 7, 8, 9, 10])\n",
    "print(list(f))"
   ]
  },
  {
   "cell_type": "code",
   "execution_count": 72,
   "metadata": {
    "collapsed": false,
    "deletable": true,
    "editable": true
   },
   "outputs": [
    {
     "name": "stdout",
     "output_type": "stream",
     "text": [
      "[0, 2, 4, 6, 8]\n"
     ]
    }
   ],
   "source": [
    "f = filter(lambda x: x%2 == 0, range(10))\n",
    "print(list(f))"
   ]
  },
  {
   "cell_type": "markdown",
   "metadata": {
    "deletable": true,
    "editable": true
   },
   "source": [
    "### Function"
   ]
  },
  {
   "cell_type": "code",
   "execution_count": 84,
   "metadata": {
    "collapsed": false,
    "deletable": true,
    "editable": true
   },
   "outputs": [
    {
     "data": {
      "text/plain": [
       "'Hi! Anderson'"
      ]
     },
     "execution_count": 84,
     "metadata": {},
     "output_type": "execute_result"
    }
   ],
   "source": [
    "def greeting(name, say='Hi!'):\n",
    "    return f'{say} {name}'\n",
    "\n",
    "greeting('Anderson')"
   ]
  },
  {
   "cell_type": "markdown",
   "metadata": {
    "deletable": true,
    "editable": true
   },
   "source": [
    "### Argument Passing"
   ]
  },
  {
   "cell_type": "code",
   "execution_count": 100,
   "metadata": {
    "collapsed": false,
    "deletable": true,
    "editable": true
   },
   "outputs": [
    {
     "name": "stdout",
     "output_type": "stream",
     "text": [
      "(1, 2, 3)\n",
      "{'name': 'Anderson', 'face': 'awesome'}\n"
     ]
    }
   ],
   "source": [
    "def foo(*args, **kwargs):\n",
    "    print(args) # Tuple\n",
    "    print(kwargs) # Dictionary\n",
    "    \n",
    "foo(1,2,3, name='Anderson', face='awesome')"
   ]
  },
  {
   "cell_type": "code",
   "execution_count": 8,
   "metadata": {
    "collapsed": false,
    "deletable": true,
    "editable": true
   },
   "outputs": [
    {
     "name": "stdout",
     "output_type": "stream",
     "text": [
      "(1, 2) ->\t 33\n",
      "(1, 2, 0, 0) ->\t 3\n",
      "(1, 2, *data)->\t 58\n"
     ]
    }
   ],
   "source": [
    "def summation(a, b, c=10, d=20, *args):\n",
    "    return sum([a, b, c, d] + list(args))\n",
    "\n",
    "data = [1,2,3,4,5,6,7,8,9,10]\n",
    "\n",
    "print('(1, 2) ->\\t', summation(1, 2))\n",
    "print('(1, 2, 0, 0) ->\\t', summation(1, 2, 0, 0))\n",
    "print('(1, 2, *data)->\\t', summation(1, 2, *data))"
   ]
  },
  {
   "cell_type": "markdown",
   "metadata": {
    "deletable": true,
    "editable": true
   },
   "source": [
    "### Forloop & Break"
   ]
  },
  {
   "cell_type": "code",
   "execution_count": 101,
   "metadata": {
    "collapsed": false,
    "deletable": true,
    "editable": true
   },
   "outputs": [
    {
     "name": "stdout",
     "output_type": "stream",
     "text": [
      "0\n"
     ]
    }
   ],
   "source": [
    "for i in range(10):\n",
    "    print(i)\n",
    "    break\n",
    "else:\n",
    "    print('End')"
   ]
  },
  {
   "cell_type": "code",
   "execution_count": 103,
   "metadata": {
    "collapsed": false,
    "deletable": true,
    "editable": true
   },
   "outputs": [
    {
     "name": "stdout",
     "output_type": "stream",
     "text": [
      "0\n",
      "1\n",
      "2\n",
      "3\n",
      "4\n",
      "5\n",
      "6\n",
      "7\n",
      "8\n",
      "9\n",
      "End\n"
     ]
    }
   ],
   "source": [
    "for i in range(10):\n",
    "    print(i)\n",
    "else:\n",
    "    print('End')"
   ]
  },
  {
   "cell_type": "markdown",
   "metadata": {
    "deletable": true,
    "editable": true
   },
   "source": [
    "### Class\n",
    "\n",
    "Human class는 name argument를 받는 constructor를 갖고 있습니다.<br>\n",
    "SalaryMan class는 연봉을 계산할때 1.5를 더해줍니다. <br>\n",
    "Machine Learning Engineer class는 SalaryMan의 caculate method를 실행시킨 결과에 다시 보너스 1.2배를 해준 값을 리턴합니다. "
   ]
  },
  {
   "cell_type": "code",
   "execution_count": 110,
   "metadata": {
    "collapsed": false,
    "deletable": true,
    "editable": true
   },
   "outputs": [
    {
     "data": {
      "text/plain": [
       "1800.0"
      ]
     },
     "execution_count": 110,
     "metadata": {},
     "output_type": "execute_result"
    }
   ],
   "source": [
    "class Human(object):\n",
    "    def __init__(self, name):\n",
    "        self.name = name\n",
    "\n",
    "class SalaryMan(Human):\n",
    "    def __init__(self, name, salary):\n",
    "        super().__init__(name)\n",
    "        self.salary = salary\n",
    "    \n",
    "    def calculate(self):\n",
    "        return self.salary * 1.5\n",
    "\n",
    "class MachineLearningEngineer(SalaryMan):\n",
    "    \n",
    "    def calculate(self, bonus=1.2):\n",
    "        return super().calculate() * bonus\n",
    "\n",
    "anderson = MachineLearningEngineer('Anderson', 1000)\n",
    "anderson.calculate()"
   ]
  },
  {
   "cell_type": "markdown",
   "metadata": {
    "deletable": true,
    "editable": true
   },
   "source": [
    "### Private Memebers and Properties\n",
    "\n",
    "파이썬에서는 Java처럼 boilerplate인 getter 또는 setter의 사용을 하지 안습니다. <br>\n",
    "대신 property의 개념을 사용합니다. \n",
    "\n",
    "**Private Members**<br>\n",
    "Convention상 public instance members는 self.foo 처럼 사용을 합니다. <br>\n",
    "하지만 private으로 간주될 경우 instance members 앞에  underbar를 붙여줍니다. 예를 들어서 self._foo 처럼 합니다. \n",
    "\n",
    "**Property**<br>\n",
    "기본적으로 파이썬에서 getter 또는 setter를 사용하지않고 direct로 instance members를 access합니다.<br>\n",
    "getter 또는 setter에서 사용되는 logic이 필요할 경우 추후 추가적으로 property를 사용할수 있습니다.<br>\n",
    "@property 를 사용하여서 getter를 만들고, @value.setter처럼 setter를 만들수 있습니다. \n"
   ]
  },
  {
   "cell_type": "code",
   "execution_count": 115,
   "metadata": {
    "collapsed": false,
    "deletable": true,
    "editable": true
   },
   "outputs": [
    {
     "name": "stdout",
     "output_type": "stream",
     "text": [
      "50 값이다!\n",
      "2000 값이다!\n"
     ]
    }
   ],
   "source": [
    "class Foo(object):\n",
    "    def __init__(self, value=50):\n",
    "        self._value = 50\n",
    "    \n",
    "    @property\n",
    "    def value(self):\n",
    "        return f'{self._value} 값이다!'\n",
    "    \n",
    "    @value.setter\n",
    "    def value(self, value):\n",
    "        self._value = value\n",
    "    \n",
    "\n",
    "foo = Foo()\n",
    "print(foo.value)\n",
    "\n",
    "foo.value = 2000\n",
    "print(foo.value)"
   ]
  }
 ],
 "metadata": {
  "kernelspec": {
   "display_name": "Python 3",
   "language": "python",
   "name": "python3"
  },
  "language_info": {
   "codemirror_mode": {
    "name": "ipython",
    "version": 3
   },
   "file_extension": ".py",
   "mimetype": "text/x-python",
   "name": "python",
   "nbconvert_exporter": "python",
   "pygments_lexer": "ipython3",
   "version": "3.6.0"
  }
 },
 "nbformat": 4,
 "nbformat_minor": 2
}
