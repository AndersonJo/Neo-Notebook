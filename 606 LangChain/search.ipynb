{
 "cells": [
  {
   "cell_type": "code",
   "execution_count": 1,
   "id": "c2f9643f-1d34-496c-abcf-6f7126732aa4",
   "metadata": {},
   "outputs": [
    {
     "name": "stderr",
     "output_type": "stream",
     "text": [
      "/home/anderson/.pyenv/versions/3.10.14/lib/python3.10/site-packages/sentence_transformers/cross_encoder/CrossEncoder.py:11: TqdmExperimentalWarning: Using `tqdm.autonotebook.tqdm` in notebook mode. Use `tqdm.tqdm` instead to force console mode (e.g. in jupyter console)\n",
      "  from tqdm.autonotebook import tqdm, trange\n",
      "2024-06-08 21:25:09.535886: I tensorflow/core/util/port.cc:113] oneDNN custom operations are on. You may see slightly different numerical results due to floating-point round-off errors from different computation orders. To turn them off, set the environment variable `TF_ENABLE_ONEDNN_OPTS=0`.\n",
      "2024-06-08 21:25:09.891286: I tensorflow/core/platform/cpu_feature_guard.cc:210] This TensorFlow binary is optimized to use available CPU instructions in performance-critical operations.\n",
      "To enable the following instructions: AVX2 AVX512F AVX512_VNNI AVX512_BF16 FMA, in other operations, rebuild TensorFlow with the appropriate compiler flags.\n",
      "2024-06-08 21:25:10.588060: W tensorflow/compiler/tf2tensorrt/utils/py_utils.cc:38] TF-TRT Warning: Could not find TensorRT\n"
     ]
    }
   ],
   "source": [
    "import faiss\n",
    "import numpy as np\n",
    "import torch\n",
    "from sentence_transformers import SentenceTransformer\n",
    "from transformers import AutoModelForCausalLM, AutoTokenizer"
   ]
  },
  {
   "cell_type": "markdown",
   "id": "59df7b4d-c957-4ae8-aefd-62d08e2e0464",
   "metadata": {},
   "source": [
    "# Model"
   ]
  },
  {
   "cell_type": "code",
   "execution_count": 3,
   "id": "629c00a3-f198-410f-b5e2-e0cdbfe843a2",
   "metadata": {},
   "outputs": [
    {
     "name": "stderr",
     "output_type": "stream",
     "text": [
      "The `load_in_4bit` and `load_in_8bit` arguments are deprecated and will be removed in the future versions. Please, pass a `BitsAndBytesConfig` object in `quantization_config` argument instead.\n",
      "/home/anderson/.pyenv/versions/3.10.14/lib/python3.10/site-packages/transformers/generation/configuration_utils.py:494: UserWarning: `pad_token_id` should be positive but got -1. This will cause errors when batch generating, if there is padding. Please set `pas_token_id` explicitly by `model.generation_config.pad_token_id=PAD_TOKEN_ID` to avoid errors in generation, and ensure your `input_ids` input does not have negative values.\n",
      "  warnings.warn(\n"
     ]
    },
    {
     "data": {
      "application/vnd.jupyter.widget-view+json": {
       "model_id": "e0e0250393ff4079ab91c137e8d7e026",
       "version_major": 2,
       "version_minor": 0
      },
      "text/plain": [
       "Loading checkpoint shards:   0%|          | 0/6 [00:00<?, ?it/s]"
      ]
     },
     "metadata": {},
     "output_type": "display_data"
    }
   ],
   "source": [
    "MODEL_ID = \"KRAFTON/KORani-v3-13B\"\n",
    "\n",
    "tokenizer = AutoTokenizer.from_pretrained(MODEL_ID)\n",
    "model = AutoModelForCausalLM.from_pretrained(\n",
    "    MODEL_ID,\n",
    "    torch_dtype=torch.float32,\n",
    "    device_map=\"auto\",\n",
    "    offload_folder=\"./offload\",\n",
    "    llm_int8_enable_fp32_cpu_offload=True,\n",
    "    low_cpu_mem_usage=True,\n",
    ")"
   ]
  },
  {
   "cell_type": "markdown",
   "id": "da0449b9-0978-4395-b09e-8fafda60956f",
   "metadata": {},
   "source": [
    "# Store Embedding 생성 및 Faiss 에 Indexing "
   ]
  },
  {
   "cell_type": "code",
   "execution_count": 53,
   "id": "413b8c82-afc4-46fa-aafc-46541bba192d",
   "metadata": {},
   "outputs": [
    {
     "name": "stdout",
     "output_type": "stream",
     "text": [
      "store_embeddings: (8, 32001)\n"
     ]
    }
   ],
   "source": [
    "STORE_TEXTS = [\n",
    "    \"네네치킨 품동점. 가장 인기 있는 제품은 후라이드, 반반치킨이며, 그외 제품은 네네스위틱, 닭날개, 윙봉 있습니다\",\n",
    "    \"후라이드 참 잘하는 집 풍동 식사점. 가장 인기 있는 제품은 매운양념치킨, 눈꽃 치즈치킨이며, 그외 제품은 허니버터치킨, 간장치킨 있습니다\",\n",
    "    \"굽네치킨&피자 풍동점. 가장 인기 있는 제품은 간장치킨, 고추바사삭, 후라이드이며, 그외 제품은 웨지감자 있습니다\",\n",
    "    \"처갓집양념치킨 백석점. 가장 인기 있는 제품은 순살 슈프림양념치킨, 반반치킨이며, 그외 제품은 매운양념치킨 있습니다\",\n",
    "    \"이도돈까스. 가장 인기 있는 제품은 이도돈까스, 치즈돈까스이며, 그외 제품은 가께우동 있습니다\",\n",
    "    \"돈까스왕. 가장 인기 있는 제품은 동까스왕이며, 그외 제품은 치즈까스 있습니다\",\n",
    "    \"시골김치찌개. 가장 인기 있는 제품은 시골 김치찌개이며, 그외 제품은 도시락 있습니다\",\n",
    "    \"전통김치찌개. 가장 인기 있는 제품은 전통김치찜, 그외 제품은 달걀말이 있습니다.\",\n",
    "]\n",
    "\n",
    "\n",
    "def create_embeddings(model, texts):\n",
    "    inputs = tokenizer(texts, return_tensors=\"pt\", padding=True, truncation=True)\n",
    "    with torch.no_grad():\n",
    "        # (batch, word size, d_model).\n",
    "        embeddings = model(**inputs)\n",
    "        return embeddings.logits.mean(dim=1).cpu().numpy()\n",
    "\n",
    "\n",
    "store_embeddings = create_embeddings(model, STORE_TEXTS)\n",
    "print(\"store_embeddings:\", store_embeddings.shape)"
   ]
  },
  {
   "cell_type": "code",
   "execution_count": 54,
   "id": "fabc5f22-8064-4d70-9e41-b36197b3ce7f",
   "metadata": {},
   "outputs": [],
   "source": [
    "# Faiss 인덱스 생성\n",
    "index = faiss.IndexFlatL2(store_embeddings.shape[1])  # 32001 dimension\n",
    "index.add(store_embeddings)"
   ]
  },
  {
   "cell_type": "markdown",
   "id": "48b77359-cc81-4845-b111-f18a42940179",
   "metadata": {},
   "source": [
    "# Cosine Similarity"
   ]
  },
  {
   "cell_type": "code",
   "execution_count": 61,
   "id": "569a4889-4701-48c9-9fbf-29b72a0bb0f4",
   "metadata": {},
   "outputs": [
    {
     "name": "stdout",
     "output_type": "stream",
     "text": [
      "query_embedding: (1, 32001)\n",
      "0.8117 네네치킨 품동점. 가장 인기 있는 제품은 후라이드, 반반치킨이며, 그외 제품은 네네스위틱, 닭날개, 윙봉 있습니다\n",
      "0.7769 처갓집양념치킨 백석점. 가장 인기 있는 제품은 순살 슈프림양념치킨, 반반치킨이며, 그외 제품은 매운양념치킨 있습니다\n",
      "0.7760 굽네치킨&피자 풍동점. 가장 인기 있는 제품은 간장치킨, 고추바사삭, 후라이드이며, 그외 제품은 웨지감자 있습니다\n",
      "0.7631 돈까스왕. 가장 인기 있는 제품은 동까스왕이며, 그외 제품은 치즈까스 있습니다\n",
      "0.7626 이도돈까스. 가장 인기 있는 제품은 이도돈까스, 치즈돈까스이며, 그외 제품은 가께우동 있습니다\n",
      "0.7595 시골김치찌개. 가장 인기 있는 제품은 시골 김치찌개이며, 그외 제품은 도시락 있습니다\n",
      "0.7451 후라이드 참 잘하는 집 풍동 식사점. 가장 인기 있는 제품은 매운양념치킨, 눈꽃 치즈치킨이며, 그외 제품은 허니버터치킨, 간장치킨 있습니다\n",
      "0.7428 전통김치찌개. 가장 인기 있는 제품은 전통김치찜, 그외 제품은 달걀말이 있습니다.\n"
     ]
    }
   ],
   "source": [
    "from sklearn.metrics.pairwise import cosine_similarity\n",
    "\n",
    "query = '네네치킨'\n",
    "\n",
    "query_embedding = create_embeddings(model, [query])\n",
    "print(\"query_embedding:\", query_embedding.shape)\n",
    "\n",
    "scores = cosine_similarity(store_embeddings, query_embedding)\n",
    "ranks = np.argsort(-scores.reshape(-1))\n",
    "\n",
    "for r in ranks:\n",
    "    s = scores.reshape(-1)[r]\n",
    "    print(f'{s:.4f} {STORE_TEXTS[r]}')"
   ]
  },
  {
   "cell_type": "markdown",
   "id": "512a8613-5287-4bc7-9c7e-47dd515d3716",
   "metadata": {},
   "source": [
    "# Search"
   ]
  },
  {
   "cell_type": "code",
   "execution_count": 59,
   "id": "13a182eb-2846-4156-a172-64cfb0e8bc75",
   "metadata": {},
   "outputs": [
    {
     "name": "stdout",
     "output_type": "stream",
     "text": [
      "query_embedding: (1, 32001)\n",
      "19297: 네네치킨 품동점. 가장 인기 있는 제\n",
      "21548: 처갓집양념치킨 백석점. 가장 인기 있\n",
      "22561: 굽네치킨&피자 풍동점. 가장 인기 있\n"
     ]
    }
   ],
   "source": [
    "query_embedding = create_embeddings(model, [query])\n",
    "print(\"query_embedding:\", query_embedding.shape)\n",
    "\n",
    "distances, indices = index.search(query_embedding, k=3)\n",
    "\n",
    "for d, i in zip(distances[0], indices[0]):\n",
    "    print(f\"{d:.0f}: {STORE_TEXTS[i][:20]}\")"
   ]
  },
  {
   "cell_type": "code",
   "execution_count": null,
   "id": "400d7578-34d6-4d63-85a9-59d02cf37b02",
   "metadata": {},
   "outputs": [],
   "source": []
  }
 ],
 "metadata": {
  "kernelspec": {
   "display_name": "PyEnv 3.10.14",
   "language": "python",
   "name": "3.10.14"
  },
  "language_info": {
   "codemirror_mode": {
    "name": "ipython",
    "version": 3
   },
   "file_extension": ".py",
   "mimetype": "text/x-python",
   "name": "python",
   "nbconvert_exporter": "python",
   "pygments_lexer": "ipython3",
   "version": "3.10.14"
  }
 },
 "nbformat": 4,
 "nbformat_minor": 5
}
