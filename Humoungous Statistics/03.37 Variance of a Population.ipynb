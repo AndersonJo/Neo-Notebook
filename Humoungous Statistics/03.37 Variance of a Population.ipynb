{
 "cells": [
  {
   "cell_type": "code",
   "execution_count": 1,
   "metadata": {
    "collapsed": false
   },
   "outputs": [
    {
     "name": "stdout",
     "output_type": "stream",
     "text": [
      "Populating the interactive namespace from numpy and matplotlib\n"
     ]
    }
   ],
   "source": [
    "%pylab inline\n",
    "import numpy as np"
   ]
  },
  {
   "cell_type": "code",
   "execution_count": 57,
   "metadata": {
    "collapsed": false
   },
   "outputs": [],
   "source": [
    "# 20세기에 미국을 강타한 허리케인의 숫자 (10년 단위)\n",
    "\n",
    "data = np.array([18, 21, 13, 19, 24, 17, 14, 12, 15, 14])"
   ]
  },
  {
   "cell_type": "code",
   "execution_count": 72,
   "metadata": {
    "collapsed": false
   },
   "outputs": [
    {
     "name": "stdout",
     "output_type": "stream",
     "text": [
      "13.21\n",
      "13.21\n"
     ]
    }
   ],
   "source": [
    "# 집접 계산 하는 방법 \n",
    "mu = np.sum(data)/float(data.size)\n",
    "print np.sum((data - mu)**2) / float(data.size)\n",
    "\n",
    "# Numpy 사용\n",
    "print np.var(data)"
   ]
  }
 ],
 "metadata": {
  "kernelspec": {
   "display_name": "Python 2",
   "language": "python",
   "name": "python2"
  },
  "language_info": {
   "codemirror_mode": {
    "name": "ipython",
    "version": 2
   },
   "file_extension": ".py",
   "mimetype": "text/x-python",
   "name": "python",
   "nbconvert_exporter": "python",
   "pygments_lexer": "ipython2",
   "version": "2.7.10"
  }
 },
 "nbformat": 4,
 "nbformat_minor": 0
}
