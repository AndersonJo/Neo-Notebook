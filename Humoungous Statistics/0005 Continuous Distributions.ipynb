{
 "cells": [
  {
   "cell_type": "code",
   "execution_count": 1,
   "metadata": {
    "collapsed": false,
    "deletable": true,
    "editable": true
   },
   "outputs": [
    {
     "name": "stdout",
     "output_type": "stream",
     "text": [
      "Populating the interactive namespace from numpy and matplotlib\n"
     ]
    }
   ],
   "source": [
    "%pylab inline\n",
    "import numpy as npp\n",
    "import scipy.stats as stats"
   ]
  },
  {
   "cell_type": "markdown",
   "metadata": {
    "deletable": true,
    "editable": true
   },
   "source": [
    "# Normal Distribution\n",
    "\n",
    "1. mean값을 중심으로 symmetric shape을 갖고 있다. \n",
    "2. mean, median, 그리고 mode값 모두 동일하다 \n",
    "3. curve아래의 모든 값을 합하면 1이다. \n",
    "4. 특정 $ x_i $의 값은 0이다.\n",
    "5. 평균값이 높으면 우측으로 그래프가 이동(shift)하고, 평균값이 낮으면 왼쪽으로 이동(shift)한다.\n",
    "6. Standard deviation값이 높을수록 그래프는 넓게 퍼져있고, 작을수록 커브의 모양이 좁아진다.\n",
    "\n",
    "## Z-Score \n",
    "\n",
    "특정 $ x_i $ 의 값이 평균에서 standard deviation기준으로 몇단계나 떨어져 있는지 나타냄\n",
    "\n",
    "$$ z_x = \\frac{x - \\mu}{\\sigma} $$\n",
    "\n"
   ]
  },
  {
   "cell_type": "markdown",
   "metadata": {
    "deletable": true,
    "editable": true
   },
   "source": [
    "## Probability Density Function For Normal Distribution\n",
    "\n",
    "\n",
    "$$ f(x | \\mu, \\sigma^2) = \\frac{1}{\\sqrt{2 \\pi \\sigma^2}} e^{ - \\frac{(x - \\mu)^2}{2 \\sigma^2}} $$"
   ]
  },
  {
   "cell_type": "code",
   "execution_count": 2,
   "metadata": {
    "collapsed": false,
    "deletable": true,
    "editable": true
   },
   "outputs": [
    {
     "data": {
      "text/plain": [
       "(0.060492681129785841, 0.060492681129785841)"
      ]
     },
     "execution_count": 2,
     "metadata": {},
     "output_type": "execute_result"
    }
   ],
   "source": [
    "def normal_pdf(x, var, mean):\n",
    "    \"\"\"\n",
    "    Probability Density Function for Normal Distribution\n",
    "    \"\"\"\n",
    "    return 1/np.sqrt(2 * np.pi * var) * np.exp( -(x - mean)**2/(2*var))\n",
    "\n",
    "norm = stats.norm(61, scale=4)\n",
    "normal_pdf(65, var=norm.var(), mean=norm.mean()), norm.pdf(65)"
   ]
  },
  {
   "cell_type": "markdown",
   "metadata": {
    "deletable": true,
    "editable": true
   },
   "source": [
    "## Normal Distribution in Scipy\n",
    "\n",
    "scipy.stats.norm 을 사용하면 됩니다.\n",
    "\n",
    "| Function | Arguments | Description |\n",
    "|:---------|:----------|:------------|\n",
    "| pdf      | (x, loc=0, scale=1) | Probability Density Function <br>특정값의 확률을 리턴 |\n",
    "| ppf      | (q, loc=0, scale=1) | Percent Point Function <br> 확률을 입력하면 x값을 알아낼수 있음 |\n",
    "| cdf      | (x, loc=0, scale=1) | cumulative distribution function <br>해당 Distribution의 처음부터 x값까지의 면적값.. 즉 전체 확률 값 |"
   ]
  },
  {
   "cell_type": "markdown",
   "metadata": {
    "deletable": true,
    "editable": true
   },
   "source": [
    "## 문제 A\n",
    "\n",
    "자동차 Checkpoint 지점에서 자동차의 속도는 normal distributed 되어있으며, 평균속도는 시간당 $ \\mu = 61 $ miles 이고 표준편차 $ \\sigma = 4 $ 이다. <br>\n",
    "\n",
    "#### **문제1**. 이때 시간당 65 miles이하로 체크포인트를 지나가는 자동차들의 확률은? (답. 0.8413 )\n",
    "\n",
    "<span style=\"color:#777777\">\n",
    "cdf(x, loc=0, scale=1) (Cumulative distribution function)을 이용하면 답을 구할수 있다.\n",
    "</span>"
   ]
  },
  {
   "cell_type": "code",
   "execution_count": 3,
   "metadata": {
    "collapsed": false,
    "deletable": true,
    "editable": true
   },
   "outputs": [
    {
     "data": {
      "text/plain": [
       "0.84134474606854293"
      ]
     },
     "execution_count": 3,
     "metadata": {},
     "output_type": "execute_result"
    }
   ],
   "source": [
    "norm = stats.norm(61, scale=4)\n",
    "norm.cdf(65)"
   ]
  },
  {
   "cell_type": "markdown",
   "metadata": {
    "deletable": true,
    "editable": true
   },
   "source": [
    "위의 답을 그래프로 그리면 다음과 같습니다."
   ]
  },
  {
   "cell_type": "code",
   "execution_count": 4,
   "metadata": {
    "collapsed": false,
    "deletable": true,
    "editable": true
   },
   "outputs": [
    {
     "data": {
      "image/png": "[encoded data removed]",
      "text/plain": [
       "<matplotlib.figure.Figure at 0x7fdb45306240>"
      ]
     },
     "metadata": {},
     "output_type": "display_data"
    }
   ],
   "source": [
    "def fill_dist(dist: stats.norm, start=None, end=None):\n",
    "    if start is None:\n",
    "        start = dist.ppf(0.0001)\n",
    "    if end is None:\n",
    "        end = dist.ppf(0.9999)\n",
    "    \n",
    "    # Plot Distribution\n",
    "    x = np.linspace(dist.ppf(0.0001), dist.ppf(0.9999), 10000)\n",
    "    plot(x, dist.pdf(x), 'r-', lw=2, alpha=0.6, label='norm pdf')\n",
    "    \n",
    "    # Fill Part of the Distribution\n",
    "    x2 = np.linspace(start, end, 10000)\n",
    "    y2 = norm.pdf(x2)\n",
    "    y2[0] = 0\n",
    "    y2[-1] = 0\n",
    "    fill(x2, y2)\n",
    "    grid()\n",
    "    \n",
    "norm = stats.norm(61, scale=4)\n",
    "fill_dist(norm, end=65)"
   ]
  },
  {
   "cell_type": "markdown",
   "metadata": {
    "deletable": true,
    "editable": true
   },
   "source": [
    "#### 문제 4. 시간당 66 miles 속도 이상으로 체크포인트를 지나가는 자동차들의 확률은? (답. 0.1056)"
   ]
  },
  {
   "cell_type": "code",
   "execution_count": 5,
   "metadata": {
    "collapsed": false,
    "deletable": true,
    "editable": true
   },
   "outputs": [
    {
     "name": "stdout",
     "output_type": "stream",
     "text": [
      "0.105649773667\n"
     ]
    },
    {
     "data": {
      "image/png": "[encoded data removed]",
      "text/plain": [
       "<matplotlib.figure.Figure at 0x7fdb861f28d0>"
      ]
     },
     "metadata": {},
     "output_type": "display_data"
    }
   ],
   "source": [
    "print(1 - norm.cdf(66))\n",
    "\n",
    "norm = stats.norm(61, scale=4)\n",
    "fill_dist(norm, start=66, end=norm.ppf(0.9999))"
   ]
  },
  {
   "cell_type": "code",
   "execution_count": 6,
   "metadata": {
    "collapsed": false,
    "deletable": true,
    "editable": true
   },
   "outputs": [
    {
     "data": {
      "text/plain": [
       "0.30853753872598688"
      ]
     },
     "execution_count": 6,
     "metadata": {},
     "output_type": "execute_result"
    },
    {
     "data": {
      "image/png": "[encoded data removed]",
      "text/plain": [
       "<matplotlib.figure.Figure at 0x7fdb45672b70>"
      ]
     },
     "metadata": {},
     "output_type": "display_data"
    }
   ],
   "source": [
    "fill_dist(norm, end=59)\n",
    "norm.cdf(59)"
   ]
  },
  {
   "cell_type": "markdown",
   "metadata": {
    "deletable": true,
    "editable": true
   },
   "source": [
    "#### **문제3**. 시간당 65 miles속도의  z-score를 구하라 (답. 1)\n"
   ]
  },
  {
   "cell_type": "code",
   "execution_count": 7,
   "metadata": {
    "collapsed": false,
    "deletable": true,
    "editable": true
   },
   "outputs": [
    {
     "data": {
      "text/plain": [
       "1.0"
      ]
     },
     "execution_count": 7,
     "metadata": {},
     "output_type": "execute_result"
    }
   ],
   "source": [
    "def zscore(dist, value):\n",
    "    return (value - norm.mean())/norm.std()\n",
    "zscore(norm, 65)"
   ]
  },
  {
   "cell_type": "markdown",
   "metadata": {},
   "source": [
    "# "
   ]
  },
  {
   "cell_type": "code",
   "execution_count": 26,
   "metadata": {
    "collapsed": false
   },
   "outputs": [
    {
     "data": {
      "text/plain": [
       "[<matplotlib.lines.Line2D at 0x7fdb43181d68>]"
      ]
     },
     "execution_count": 26,
     "metadata": {},
     "output_type": "execute_result"
    },
    {
     "data": {
      "image/png": "[encoded data removed]",
      "text/plain": [
       "<matplotlib.figure.Figure at 0x7fdb42e52320>"
      ]
     },
     "metadata": {},
     "output_type": "display_data"
    }
   ],
   "source": [
    "chi = stats.chi(10)\n",
    "\n",
    "x = np.linspace(chi.ppf(0.0001), chi.ppf(0.9999), 10000)\n",
    "plot(x, chi.pdf(x))"
   ]
  }
 ],
 "metadata": {
  "kernelspec": {
   "display_name": "Python 3",
   "language": "python",
   "name": "python3"
  },
  "language_info": {
   "codemirror_mode": {
    "name": "ipython",
    "version": 3
   },
   "file_extension": ".py",
   "mimetype": "text/x-python",
   "name": "python",
   "nbconvert_exporter": "python",
   "pygments_lexer": "ipython3",
   "version": "3.6.1"
  }
 },
 "nbformat": 4,
 "nbformat_minor": 2
}
