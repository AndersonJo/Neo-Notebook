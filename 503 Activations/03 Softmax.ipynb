{
 "cells": [
  {
   "cell_type": "code",
   "execution_count": 13,
   "metadata": {},
   "outputs": [
    {
     "name": "stdout",
     "output_type": "stream",
     "text": [
      "Populating the interactive namespace from numpy and matplotlib\n"
     ]
    }
   ],
   "source": [
    "%pylab inline\n",
    "import numpy as np\n",
    "import tensorflow as tf"
   ]
  },
  {
   "cell_type": "markdown",
   "metadata": {},
   "source": [
    "# Softmax Classifier\n",
    "\n",
    "* http://cs231n.github.io/linear-classify/#softmax 참고 \n",
    "* https://eli.thegreenplace.net/2016/the-softmax-function-and-its-derivative/\n",
    "\n",
    "\n",
    "Softmax function은 N-dimensional vector를 받아서 다시 N-dimensional vector로 return을 합니다. <br>\n",
    "이때 output은 0~1 사이의 확률분포를 갖으며, 전체의 합은 1이 됩니다. $ S(a) : \\mathbb{R}^{\\mathbb{N}} \\rightarrow \\mathbb{R}^{\\mathbb{N}} $\n",
    "\n",
    "각각의 element단위의 공식은 다음과 같습니다. \n",
    "\n",
    "$$ S_i = \\frac{e^{x_i}}{\\sum^N_{k=1} e^{x_k}} $$\n",
    "\n",
    "$ S_i $ 는 exponent연산을 하기 때문에 항상 positive 값을 갖습니다.<br>\n",
    "또한 numerator부분이 denominator에서 합쳐져서 나오기 때문에  0~1 사이의 확률분포로 값이 나오게 됩니다."
   ]
  },
  {
   "cell_type": "markdown",
   "metadata": {},
   "source": [
    "# Derivative of softmax"
   ]
  },
  {
   "cell_type": "markdown",
   "metadata": {},
   "source": [
    "## Example 1\n",
    "\n",
    "아래 예제에서 `[1.0, 2.0, 3.0]` 은 softmax함수에 의해서 `[0.09, 0.24, 0.67]` 로 transform되어야 하며, 합은 1이 되어야 합니다."
   ]
  },
  {
   "cell_type": "code",
   "execution_count": 12,
   "metadata": {},
   "outputs": [
    {
     "name": "stdout",
     "output_type": "stream",
     "text": [
      "value    : [1, 2, 3]\n",
      "softmax  : [ 0.09003057  0.24472847  0.66524096]\n",
      "summed up: 1.0\n"
     ]
    }
   ],
   "source": [
    "def softmax(x):\n",
    "    exp_x = np.exp(x)\n",
    "    return exp_x/np.sum(exp_x, axis=0)\n",
    "\n",
    "a = [1, 2, 3]\n",
    "b = softmax(a)\n",
    "\n",
    "print('value    :', a)\n",
    "print('softmax  :', b)\n",
    "print('summed up:', np.sum(b))"
   ]
  },
  {
   "cell_type": "markdown",
   "metadata": {},
   "source": [
    "## Example 2\n",
    "\n",
    "* [Udacity - Softmax](https://classroom.udacity.com/courses/ud730/lessons/6370362152/concepts/63815621490923#)\n",
    "\n",
    "1번정답 <br>\n",
    "```\n",
    "[ 0.09003057  0.24472847  0.66524096]\n",
    "```\n",
    "\n",
    "2번정답<br>\n",
    "```\n",
    "[[ 0.09003057  0.00242826  0.01587624  0.33333333]\n",
    " [ 0.24472847  0.01794253  0.11731043  0.33333333]\n",
    " [ 0.66524096  0.97962921  0.86681333  0.33333333]]\n",
    "```"
   ]
  },
  {
   "cell_type": "code",
   "execution_count": 71,
   "metadata": {},
   "outputs": [
    {
     "name": "stdout",
     "output_type": "stream",
     "text": [
      "[softmax result1]\n",
      "[ 0.09003057  0.24472847  0.66524096]\n",
      "sum: 1.0\n",
      "\n",
      "[softmax result2]\n",
      "[[ 0.00626879  0.01704033  0.04632042  0.93037045]\n",
      " [ 0.01203764  0.08894681  0.24178252  0.65723306]\n",
      " [ 0.00446236  0.66227239  0.24363641  0.08962882]]\n",
      "sum: [ 1.  1.  1.]\n"
     ]
    },
    {
     "data": {
      "image/png": "[encoded data removed]",
      "text/plain": [
       "<matplotlib.figure.Figure at 0x7f329e8bb9e8>"
      ]
     },
     "metadata": {},
     "output_type": "display_data"
    }
   ],
   "source": [
    "scores1 = np.array([1.0, 2.0, 3.0])\n",
    "scores2 = np.array([[1, 2, 3, 6],\n",
    "                    [2, 4, 5, 6], \n",
    "                    [3, 8, 7, 6]], dtype=np.float32)\n",
    "\n",
    "def softmax(x):\n",
    "    level = len(x.shape) -1\n",
    "    exp_x = np.exp(x)\n",
    "    if level == 0:\n",
    "        return exp_x/np.sum(exp_x, axis=0)\n",
    "    if level == 1:\n",
    "        return exp_x/np.sum(exp_x, axis=1).reshape(-1, 1)\n",
    "\n",
    "plot(scores1, softmax(scores1))\n",
    "\n",
    "print('[softmax result1]')\n",
    "print(softmax(scores1))\n",
    "print('sum:', np.sum(softmax(scores1), axis=0))\n",
    "\n",
    "print('\\n[softmax result2]')\n",
    "print(softmax(scores2))\n",
    "print('sum:', np.sum(softmax(scores2), axis=1))"
   ]
  },
  {
   "cell_type": "markdown",
   "metadata": {},
   "source": [
    "# TensorFlow Example"
   ]
  },
  {
   "cell_type": "code",
   "execution_count": 15,
   "metadata": {},
   "outputs": [],
   "source": [
    "gpu_options = tf.GPUOptions(per_process_gpu_memory_fraction=0.01, allow_growth=True)\n",
    "sess = tf.Session(config=tf.ConfigProto(gpu_options=gpu_options))"
   ]
  },
  {
   "cell_type": "code",
   "execution_count": 73,
   "metadata": {},
   "outputs": [
    {
     "name": "stdout",
     "output_type": "stream",
     "text": [
      "[Softmax Result 1]\n",
      "[ 0.09003057  0.24472847  0.66524096]\n",
      "sum: 1.0\n",
      "\n",
      "[Softmax Result 2]\n",
      "[[ 0.00626879  0.01704033  0.04632042  0.93037045]\n",
      " [ 0.01203764  0.08894681  0.24178252  0.657233  ]\n",
      " [ 0.00446236  0.66227239  0.2436364   0.08962882]]\n",
      "sum: [ 1.  1.  1.]\n"
     ]
    }
   ],
   "source": [
    "result1 = tf.nn.softmax(scores1)\n",
    "result2 = tf.nn.softmax(scores2)\n",
    "\n",
    "print('[Softmax Result 1]')\n",
    "print(sess.run(result1))\n",
    "print('sum:', np.sum(sess.run(result1)))\n",
    "\n",
    "print('\\n[Softmax Result 2]')\n",
    "print(sess.run(result2))\n",
    "print('sum:', np.sum(sess.run(result2), axis=1))"
   ]
  }
 ],
 "metadata": {
  "kernelspec": {
   "display_name": "Python 3",
   "language": "python",
   "name": "python3"
  },
  "language_info": {
   "codemirror_mode": {
    "name": "ipython",
    "version": 3
   },
   "file_extension": ".py",
   "mimetype": "text/x-python",
   "name": "python",
   "nbconvert_exporter": "python",
   "pygments_lexer": "ipython3",
   "version": "3.6.1"
  }
 },
 "nbformat": 4,
 "nbformat_minor": 2
}
