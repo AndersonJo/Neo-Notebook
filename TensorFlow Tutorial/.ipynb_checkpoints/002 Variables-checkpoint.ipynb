{
 "cells": [
  {
   "cell_type": "code",
   "execution_count": 1,
   "metadata": {
    "collapsed": false
   },
   "outputs": [
    {
     "name": "stdout",
     "output_type": "stream",
     "text": [
      "Populating the interactive namespace from numpy and matplotlib\n"
     ]
    }
   ],
   "source": [
    "#-*- coding:utf-8 -*-\n",
    "%pylab inline\n",
    "import tensorflow as tf\n",
    "import numpy as np"
   ]
  },
  {
   "cell_type": "code",
   "execution_count": 5,
   "metadata": {
    "collapsed": false
   },
   "outputs": [
    {
     "name": "stdout",
     "output_type": "stream",
     "text": [
      "0\n"
     ]
    }
   ],
   "source": [
    "# update -> state += a\n",
    "state = tf.Variable(0, name='counter')\n",
    "a = tf.constant(10)\n",
    "update = tf.assign(state, tf.add(state, a))\n",
    "\n",
    "with tf.Session() as sess:\n",
    "    # Variables 들은 모두 초기화가 되있어야 합니다.\n",
    "    sess.run(tf.initialize_all_variables())\n",
    "    \n",
    "    # 현재 state의 값을 출력합니다. 즉 0 이 출력됩니다.\n",
    "    print(sess.run(state)) \n",
    "    \n",
    "    \n",
    "    "
   ]
  }
 ],
 "metadata": {
  "kernelspec": {
   "display_name": "Python 2",
   "language": "python",
   "name": "python2"
  },
  "language_info": {
   "codemirror_mode": {
    "name": "ipython",
    "version": 2
   },
   "file_extension": ".py",
   "mimetype": "text/x-python",
   "name": "python",
   "nbconvert_exporter": "python",
   "pygments_lexer": "ipython2",
   "version": "2.7.10"
  }
 },
 "nbformat": 4,
 "nbformat_minor": 0
}
