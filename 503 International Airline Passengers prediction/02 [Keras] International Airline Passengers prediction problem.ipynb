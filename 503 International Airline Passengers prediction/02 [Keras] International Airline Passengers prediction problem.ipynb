{
 "cells": [
  {
   "cell_type": "markdown",
   "metadata": {},
   "source": [
    "# Long Short-Term Memory Network with Keras\n",
    "\n",
    "LSTM은 Backpropagation Through Time (BPTT)를 통해서 학습을 하며, vanishing gradient problem을 극복합니다.<br>\n",
    "일반적인 Deep Learning에서 사용하는 Neurons들은 없고, layers들로 연결된 Memory Block을 갖고 있습니다. \n",
    "\n",
    "Block은 gates의 요소를 갖고 있으며, Gates는 block의 state를 관리하게 됩니다.<br>\n",
    "일반적으로 다음과 같은 gates를 갖고 있습니다.\n",
    "\n",
    "* Forget Gate: 어떤 정보를 버릴지 정합니다.\n",
    "* Input Gate: Input 데이터에서 어떤 값들을 memory state에 업데이트할지 결정합니다.\n",
    "* Output Gate: Input값과 memory block에 기초하여 어떤 결과값(output)을 낼지 결정합니다.\n"
   ]
  },
  {
   "cell_type": "code",
   "execution_count": 1,
   "metadata": {},
   "outputs": [
    {
     "name": "stdout",
     "output_type": "stream",
     "text": [
      "Populating the interactive namespace from numpy and matplotlib\n",
      "env: CUDA_VISIBLE_DEVICES=\"\"\n"
     ]
    },
    {
     "name": "stderr",
     "output_type": "stream",
     "text": [
      "Using TensorFlow backend.\n"
     ]
    }
   ],
   "source": [
    "%pylab inline\n",
    "%env CUDA_VISIBLE_DEVICES=\"\"\n",
    "import numpy as np\n",
    "import pandas as pd\n",
    "import os\n",
    "import shutil\n",
    "from sklearn.preprocessing import StandardScaler, MinMaxScaler\n",
    "from sklearn.metrics import mean_squared_error, r2_score\n",
    "from keras.models import Sequential\n",
    "from keras.layers import Dense, Activation, Dropout, BatchNormalization\n",
    "from keras.layers import LSTM, Bidirectional\n",
    "from keras.layers.core import Reshape\n",
    "from keras.callbacks import History, TensorBoard\n",
    "\n",
    "from keras.utils.vis_utils import plot_model\n",
    "from keras.utils.vis_utils import model_to_dot\n",
    "from IPython.display import display\n",
    "from IPython.display import SVG, Image\n",
    "\n",
    "np.random.seed(0) # fix the random number"
   ]
  },
  {
   "cell_type": "markdown",
   "metadata": {},
   "source": [
    "## Configuration"
   ]
  },
  {
   "cell_type": "code",
   "execution_count": 2,
   "metadata": {
    "collapsed": true
   },
   "outputs": [],
   "source": [
    "BATCH = 1\n",
    "LOOK_BACK = 1"
   ]
  },
  {
   "cell_type": "markdown",
   "metadata": {},
   "source": [
    "## Data\n",
    "\n",
    "International Airline Pessengers"
   ]
  },
  {
   "cell_type": "code",
   "execution_count": 3,
   "metadata": {},
   "outputs": [
    {
     "name": "stdout",
     "output_type": "stream",
     "text": [
      "train:   (100, 1)\n",
      "test:    (44, 1)\n",
      "train_x: (99, 1, 1)\n",
      "train_y: (99, 1, 1)\n",
      "test_x:  (43, 1, 1)\n",
      "test_y:  (43, 1, 1)\n"
     ]
    },
    {
     "name": "stderr",
     "output_type": "stream",
     "text": [
      "/usr/local/lib/python3.6/site-packages/sklearn/utils/validation.py:429: DataConversionWarning: Data with input dtype int64 was converted to float64 by MinMaxScaler.\n",
      "  warnings.warn(msg, _DataConversionWarning)\n"
     ]
    }
   ],
   "source": [
    "# Load Data\n",
    "data = pd.read_csv('../../data/time-series/international-airline-passengers.csv', \n",
    "                   names=['passenger'],\n",
    "                   skiprows=1, usecols=[1])\n",
    "\n",
    "data = data.as_matrix()\n",
    "\n",
    "# Normalize Data using Min-Max Scaler \n",
    "scaler = MinMaxScaler(feature_range=(0, 1))\n",
    "data = scaler.fit_transform(data)\n",
    "data = data.astype('float32')\n",
    "\n",
    "# Seperate Train and Test Data\n",
    "_size = int(len(data) * 0.7) # 144\n",
    "train, test = data[:_size], data[_size:] # 100, 44\n",
    "\n",
    "# To time-series dataset\n",
    "def to_timeseries(x, batch:int):\n",
    "    n = len(x)\n",
    "    train = np.zeros((n-batch, batch, 1))\n",
    "    test = np.zeros((n-batch, batch, 1))\n",
    "    \n",
    "    for i in range(n - batch):\n",
    "        train[i] = x[i:i+batch]\n",
    "        test[i] = x[i+batch:i+batch+1]\n",
    "    return train, test\n",
    "\n",
    "x_train, y_train = to_timeseries(train, batch=BATCH)\n",
    "x_test, y_test = to_timeseries(test, batch=BATCH)\n",
    "\n",
    "print('train:  ', train.shape)\n",
    "print('test:   ', test.shape)\n",
    "print('train_x:', x_train.shape)\n",
    "print('train_y:', y_train.shape)\n",
    "print('test_x: ', x_test.shape)\n",
    "print('test_y: ', y_test.shape)\n"
   ]
  },
  {
   "cell_type": "code",
   "execution_count": 4,
   "metadata": {},
   "outputs": [
    {
     "data": {
      "text/plain": [
       "[<matplotlib.lines.Line2D at 0x7fc8e597a978>]"
      ]
     },
     "execution_count": 4,
     "metadata": {},
     "output_type": "execute_result"
    },
    {
     "data": {
      "image/png": "[encoded data removed]",
      "text/plain": [
       "<matplotlib.figure.Figure at 0x7fc8e597a828>"
      ]
     },
     "metadata": {},
     "output_type": "display_data"
    }
   ],
   "source": [
    "x1 = range(len(train))\n",
    "x2 = range(len(train), len(train) + len(test))\n",
    "plot(x1, train)\n",
    "plot(x2, test)"
   ]
  },
  {
   "cell_type": "markdown",
   "metadata": {},
   "source": [
    "## TensorBoard"
   ]
  },
  {
   "cell_type": "code",
   "execution_count": 5,
   "metadata": {
    "collapsed": true
   },
   "outputs": [],
   "source": [
    "# History\n",
    "tensorboard_filepath = '/tmp/international_airline_passenger_logs'\n",
    "if os.path.exists(tensorboard_filepath):\n",
    "    shutil.rmtree(tensorboard_filepath)\n",
    "\n",
    "history = History()\n",
    "tensorboard = TensorBoard('/tmp/international_airline_passenger_logs')"
   ]
  },
  {
   "cell_type": "markdown",
   "metadata": {},
   "source": [
    "## Model"
   ]
  },
  {
   "cell_type": "code",
   "execution_count": 6,
   "metadata": {},
   "outputs": [
    {
     "data": {
      "image/svg+xml": [
       "<svg height=\"304pt\" viewBox=\"0.00 0.00 302.00 304.00\" width=\"302pt\" xmlns=\"http://www.w3.org/2000/svg\" xmlns:xlink=\"http://www.w3.org/1999/xlink\">\n",
       "<g class=\"graph\" id=\"graph0\" transform=\"scale(1 1) rotate(0) translate(4 300)\">\n",
       "<title>G</title>\n",
       "<polygon fill=\"white\" points=\"-4,4 -4,-300 298,-300 298,4 -4,4\" stroke=\"none\"/>\n",
       "<!-- 140500822107192 -->\n",
       "<g class=\"node\" id=\"node1\"><title>140500822107192</title>\n",
       "<polygon fill=\"none\" points=\"0,-249.5 0,-295.5 294,-295.5 294,-249.5 0,-249.5\" stroke=\"black\"/>\n",
       "<text font-family=\"Times,serif\" font-size=\"14.00\" text-anchor=\"middle\" x=\"78\" y=\"-268.8\">lstm_1_input: InputLayer</text>\n",
       "<polyline fill=\"none\" points=\"156,-249.5 156,-295.5 \" stroke=\"black\"/>\n",
       "<text font-family=\"Times,serif\" font-size=\"14.00\" text-anchor=\"middle\" x=\"183.5\" y=\"-280.3\">input:</text>\n",
       "<polyline fill=\"none\" points=\"156,-272.5 211,-272.5 \" stroke=\"black\"/>\n",
       "<text font-family=\"Times,serif\" font-size=\"14.00\" text-anchor=\"middle\" x=\"183.5\" y=\"-257.3\">output:</text>\n",
       "<polyline fill=\"none\" points=\"211,-249.5 211,-295.5 \" stroke=\"black\"/>\n",
       "<text font-family=\"Times,serif\" font-size=\"14.00\" text-anchor=\"middle\" x=\"252.5\" y=\"-280.3\">(None, 1, 1)</text>\n",
       "<polyline fill=\"none\" points=\"211,-272.5 294,-272.5 \" stroke=\"black\"/>\n",
       "<text font-family=\"Times,serif\" font-size=\"14.00\" text-anchor=\"middle\" x=\"252.5\" y=\"-257.3\">(None, 1, 1)</text>\n",
       "</g>\n",
       "<!-- 140500822109040 -->\n",
       "<g class=\"node\" id=\"node2\"><title>140500822109040</title>\n",
       "<polygon fill=\"none\" points=\"25.5,-166.5 25.5,-212.5 268.5,-212.5 268.5,-166.5 25.5,-166.5\" stroke=\"black\"/>\n",
       "<text font-family=\"Times,serif\" font-size=\"14.00\" text-anchor=\"middle\" x=\"74.5\" y=\"-185.8\">lstm_1: LSTM</text>\n",
       "<polyline fill=\"none\" points=\"123.5,-166.5 123.5,-212.5 \" stroke=\"black\"/>\n",
       "<text font-family=\"Times,serif\" font-size=\"14.00\" text-anchor=\"middle\" x=\"151\" y=\"-197.3\">input:</text>\n",
       "<polyline fill=\"none\" points=\"123.5,-189.5 178.5,-189.5 \" stroke=\"black\"/>\n",
       "<text font-family=\"Times,serif\" font-size=\"14.00\" text-anchor=\"middle\" x=\"151\" y=\"-174.3\">output:</text>\n",
       "<polyline fill=\"none\" points=\"178.5,-166.5 178.5,-212.5 \" stroke=\"black\"/>\n",
       "<text font-family=\"Times,serif\" font-size=\"14.00\" text-anchor=\"middle\" x=\"223.5\" y=\"-197.3\">(None, 1, 1)</text>\n",
       "<polyline fill=\"none\" points=\"178.5,-189.5 268.5,-189.5 \" stroke=\"black\"/>\n",
       "<text font-family=\"Times,serif\" font-size=\"14.00\" text-anchor=\"middle\" x=\"223.5\" y=\"-174.3\">(None, 1, 14)</text>\n",
       "</g>\n",
       "<!-- 140500822107192&#45;&gt;140500822109040 -->\n",
       "<g class=\"edge\" id=\"edge1\"><title>140500822107192-&gt;140500822109040</title>\n",
       "<path d=\"M147,-249.366C147,-241.152 147,-231.658 147,-222.725\" fill=\"none\" stroke=\"black\"/>\n",
       "<polygon fill=\"black\" points=\"150.5,-222.607 147,-212.607 143.5,-222.607 150.5,-222.607\" stroke=\"black\"/>\n",
       "</g>\n",
       "<!-- 140500822107584 -->\n",
       "<g class=\"node\" id=\"node3\"><title>140500822107584</title>\n",
       "<polygon fill=\"none\" points=\"0.5,-83.5 0.5,-129.5 293.5,-129.5 293.5,-83.5 0.5,-83.5\" stroke=\"black\"/>\n",
       "<text font-family=\"Times,serif\" font-size=\"14.00\" text-anchor=\"middle\" x=\"74.5\" y=\"-102.8\">activation_1: Activation</text>\n",
       "<polyline fill=\"none\" points=\"148.5,-83.5 148.5,-129.5 \" stroke=\"black\"/>\n",
       "<text font-family=\"Times,serif\" font-size=\"14.00\" text-anchor=\"middle\" x=\"176\" y=\"-114.3\">input:</text>\n",
       "<polyline fill=\"none\" points=\"148.5,-106.5 203.5,-106.5 \" stroke=\"black\"/>\n",
       "<text font-family=\"Times,serif\" font-size=\"14.00\" text-anchor=\"middle\" x=\"176\" y=\"-91.3\">output:</text>\n",
       "<polyline fill=\"none\" points=\"203.5,-83.5 203.5,-129.5 \" stroke=\"black\"/>\n",
       "<text font-family=\"Times,serif\" font-size=\"14.00\" text-anchor=\"middle\" x=\"248.5\" y=\"-114.3\">(None, 1, 14)</text>\n",
       "<polyline fill=\"none\" points=\"203.5,-106.5 293.5,-106.5 \" stroke=\"black\"/>\n",
       "<text font-family=\"Times,serif\" font-size=\"14.00\" text-anchor=\"middle\" x=\"248.5\" y=\"-91.3\">(None, 1, 14)</text>\n",
       "</g>\n",
       "<!-- 140500822109040&#45;&gt;140500822107584 -->\n",
       "<g class=\"edge\" id=\"edge2\"><title>140500822109040-&gt;140500822107584</title>\n",
       "<path d=\"M147,-166.366C147,-158.152 147,-148.658 147,-139.725\" fill=\"none\" stroke=\"black\"/>\n",
       "<polygon fill=\"black\" points=\"150.5,-139.607 147,-129.607 143.5,-139.607 150.5,-139.607\" stroke=\"black\"/>\n",
       "</g>\n",
       "<!-- 140500822109096 -->\n",
       "<g class=\"node\" id=\"node4\"><title>140500822109096</title>\n",
       "<polygon fill=\"none\" points=\"23.5,-0.5 23.5,-46.5 270.5,-46.5 270.5,-0.5 23.5,-0.5\" stroke=\"black\"/>\n",
       "<text font-family=\"Times,serif\" font-size=\"14.00\" text-anchor=\"middle\" x=\"74.5\" y=\"-19.8\">dense_1: Dense</text>\n",
       "<polyline fill=\"none\" points=\"125.5,-0.5 125.5,-46.5 \" stroke=\"black\"/>\n",
       "<text font-family=\"Times,serif\" font-size=\"14.00\" text-anchor=\"middle\" x=\"153\" y=\"-31.3\">input:</text>\n",
       "<polyline fill=\"none\" points=\"125.5,-23.5 180.5,-23.5 \" stroke=\"black\"/>\n",
       "<text font-family=\"Times,serif\" font-size=\"14.00\" text-anchor=\"middle\" x=\"153\" y=\"-8.3\">output:</text>\n",
       "<polyline fill=\"none\" points=\"180.5,-0.5 180.5,-46.5 \" stroke=\"black\"/>\n",
       "<text font-family=\"Times,serif\" font-size=\"14.00\" text-anchor=\"middle\" x=\"225.5\" y=\"-31.3\">(None, 1, 14)</text>\n",
       "<polyline fill=\"none\" points=\"180.5,-23.5 270.5,-23.5 \" stroke=\"black\"/>\n",
       "<text font-family=\"Times,serif\" font-size=\"14.00\" text-anchor=\"middle\" x=\"225.5\" y=\"-8.3\">(None, 1, 1)</text>\n",
       "</g>\n",
       "<!-- 140500822107584&#45;&gt;140500822109096 -->\n",
       "<g class=\"edge\" id=\"edge3\"><title>140500822107584-&gt;140500822109096</title>\n",
       "<path d=\"M147,-83.3664C147,-75.1516 147,-65.6579 147,-56.7252\" fill=\"none\" stroke=\"black\"/>\n",
       "<polygon fill=\"black\" points=\"150.5,-56.6068 147,-46.6068 143.5,-56.6069 150.5,-56.6068\" stroke=\"black\"/>\n",
       "</g>\n",
       "</g>\n",
       "</svg>"
      ],
      "text/plain": [
       "<IPython.core.display.SVG object>"
      ]
     },
     "execution_count": 6,
     "metadata": {},
     "output_type": "execute_result"
    }
   ],
   "source": [
    "def create_model():\n",
    "    np.random.seed(0)\n",
    "    model = Sequential(name='LSTM Model')\n",
    "    model.add(LSTM(14, return_sequences=True,\n",
    "                            batch_input_shape=(None, BATCH, 1)))\n",
    "    model.add(Activation('selu'))\n",
    "    model.add(Dense(1))\n",
    "    \n",
    "    model.compile(loss='mean_squared_error', optimizer='adam')\n",
    "    return model\n",
    "\n",
    "# # Visualization\n",
    "model = create_model()\n",
    "SVG(model_to_dot(model, show_shapes=True).create(prog='dot', format='svg'))"
   ]
  },
  {
   "cell_type": "markdown",
   "metadata": {},
   "source": [
    "## Training for Normalized Data"
   ]
  },
  {
   "cell_type": "code",
   "execution_count": 7,
   "metadata": {
    "scrolled": true
   },
   "outputs": [
    {
     "name": "stdout",
     "output_type": "stream",
     "text": [
      "Epoch 1/14\n",
      "0s - loss: 0.0387\n",
      "Epoch 2/14\n",
      "0s - loss: 0.0158\n",
      "Epoch 3/14\n",
      "0s - loss: 0.0133\n",
      "Epoch 4/14\n",
      "0s - loss: 0.0112\n",
      "Epoch 5/14\n",
      "0s - loss: 0.0093\n",
      "Epoch 6/14\n",
      "0s - loss: 0.0076\n",
      "Epoch 7/14\n",
      "0s - loss: 0.0063\n",
      "Epoch 8/14\n",
      "0s - loss: 0.0050\n",
      "Epoch 9/14\n",
      "0s - loss: 0.0041\n",
      "Epoch 10/14\n",
      "0s - loss: 0.0033\n",
      "Epoch 11/14\n",
      "0s - loss: 0.0028\n",
      "Epoch 12/14\n",
      "0s - loss: 0.0025\n",
      "Epoch 13/14\n",
      "0s - loss: 0.0023\n",
      "Epoch 14/14\n",
      "0s - loss: 0.0022\n"
     ]
    },
    {
     "data": {
      "text/plain": [
       "<keras.callbacks.History at 0x7fc881fa3780>"
      ]
     },
     "execution_count": 7,
     "metadata": {},
     "output_type": "execute_result"
    }
   ],
   "source": [
    "model = create_model()\n",
    "model.fit(x_train, y_train, epochs=14, batch_size=BATCH, verbose=2, callbacks=[history, tensorboard])"
   ]
  },
  {
   "cell_type": "code",
   "execution_count": 8,
   "metadata": {},
   "outputs": [
    {
     "data": {
      "text/plain": [
       "<matplotlib.legend.Legend at 0x7fc8e4720390>"
      ]
     },
     "execution_count": 8,
     "metadata": {},
     "output_type": "execute_result"
    },
    {
     "data": {
      "image/png": "[encoded data removed]",
      "text/plain": [
       "<matplotlib.figure.Figure at 0x7fc8e51eb940>"
      ]
     },
     "metadata": {},
     "output_type": "display_data"
    }
   ],
   "source": [
    "plot(history.history['loss'], label='loss')\n",
    "title('loss history')\n",
    "xlabel('step')\n",
    "ylabel('loss')\n",
    "# ylim(0, 0.01)\n",
    "grid()\n",
    "legend()"
   ]
  },
  {
   "cell_type": "markdown",
   "metadata": {},
   "source": [
    "## Evaluate normalized data"
   ]
  },
  {
   "cell_type": "code",
   "execution_count": 9,
   "metadata": {},
   "outputs": [
    {
     "name": "stdout",
     "output_type": "stream",
     "text": [
      "[Evaluate Training]\n",
      "MSE: 0.00216878231639\n",
      "R^2: 0.869044514567\n",
      "\n",
      "[Evaluate Test]\n",
      "MSE: 0.00918493735961\n",
      "R^2: 0.561610974043\n"
     ]
    }
   ],
   "source": [
    "def evaluate(model, scaler, x, y_true):\n",
    "    y_pred = model.predict(x)\n",
    "    \n",
    "    y_pred = y_pred.reshape(-1, 1)\n",
    "    y_true = y_true.reshape(-1, 1)\n",
    "    \n",
    "    print('MSE:', mean_squared_error(y_pred, y_true))\n",
    "    print('R^2:', r2_score(y_pred, y_true))\n",
    "    return y_pred\n",
    "\n",
    "print('[Evaluate Training]')\n",
    "train_pred = evaluate(model, scaler, x_train, y_train)\n",
    "\n",
    "print('\\n[Evaluate Test]')\n",
    "test_pred = evaluate(model, scaler, x_test, y_test)"
   ]
  },
  {
   "cell_type": "code",
   "execution_count": 10,
   "metadata": {},
   "outputs": [
    {
     "data": {
      "image/png": "[encoded data removed]",
      "text/plain": [
       "<matplotlib.figure.Figure at 0x7fc85c783470>"
      ]
     },
     "metadata": {},
     "output_type": "display_data"
    }
   ],
   "source": [
    "def plot_result(data, train_pred, test_pred):\n",
    "    _x1 = np.arange(len(data))\n",
    "    _x2 = np.arange(len(train_pred))\n",
    "    _x3 = np.arange(len(train_pred), len(train_pred) + len(test_pred))\n",
    "    \n",
    "    plot(_x1, data, color='#333333')\n",
    "    plot(_x2, train_pred)\n",
    "    plot(_x3, test_pred, color='red')\n",
    "    \n",
    "plot_result(data, train_pred, test_pred)"
   ]
  }
 ],
 "metadata": {
  "kernelspec": {
   "display_name": "Python 3",
   "language": "python",
   "name": "python3"
  },
  "language_info": {
   "codemirror_mode": {
    "name": "ipython",
    "version": 3
   },
   "file_extension": ".py",
   "mimetype": "text/x-python",
   "name": "python",
   "nbconvert_exporter": "python",
   "pygments_lexer": "ipython3",
   "version": "3.8.5"
  },
  "toc": {
   "base_numbering": 1,
   "nav_menu": {},
   "number_sections": true,
   "sideBar": true,
   "skip_h1_title": false,
   "title_cell": "Table of Contents",
   "title_sidebar": "Contents",
   "toc_cell": false,
   "toc_position": {},
   "toc_section_display": true,
   "toc_window_display": false
  },
  "varInspector": {
   "cols": {
    "lenName": 16,
    "lenType": 16,
    "lenVar": 40
   },
   "kernels_config": {
    "python": {
     "delete_cmd_postfix": "",
     "delete_cmd_prefix": "del ",
     "library": "var_list.py",
     "varRefreshCmd": "print(var_dic_list())"
    },
    "r": {
     "delete_cmd_postfix": ") ",
     "delete_cmd_prefix": "rm(",
     "library": "var_list.r",
     "varRefreshCmd": "cat(var_dic_list()) "
    }
   },
   "types_to_exclude": [
    "module",
    "function",
    "builtin_function_or_method",
    "instance",
    "_Feature"
   ],
   "window_display": false
  }
 },
 "nbformat": 4,
 "nbformat_minor": 2
}
