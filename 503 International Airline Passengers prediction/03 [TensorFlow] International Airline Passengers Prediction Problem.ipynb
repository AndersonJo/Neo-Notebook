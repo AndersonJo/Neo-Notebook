{
 "cells": [
  {
   "cell_type": "markdown",
   "metadata": {
    "deletable": true,
    "editable": true
   },
   "source": [
    "# LSTM with Tensorflow \n",
    "\n",
    "* [RECURRENT NEURAL NETWORK REGULARIZATION](https://arxiv.org/pdf/1409.2329.pdf) - TensorFlow BasicLSTMCell에 사용된 논문\n",
    "* [Simple Implementation of LSTM in Tensorflow in 50 lines](https://gist.github.com/nivwusquorum/b18ce332bde37e156034e5d3f60f8a23)\n",
    "* [LSTM Cell to learn zero](https://gist.github.com/nivwusquorum/160d5cf7e1e82c21fad3ebf04f039317)\n",
    "\n",
    "\n",
    "\n",
    "\n",
    "\n",
    "* [Understanding LSTM Networks](http://colah.github.io/posts/2015-08-Understanding-LSTMs/)\n",
    "* [2003 Tutorial on LSTM Recurrent Nets](http://people.idsia.ch/~juergen/lstm2003tutorial.pdf)\n",
    "* [LSTM Recurrent Networks Learn Simple Context Free and Context Sensitive Languages](ftp://ftp.idsia.ch/pub/juergen/L-IEEE.pdf)\n",
    "* [LSTM: A Search Space Odyssey](https://arxiv.org/pdf/1503.04069.pdf)"
   ]
  },
  {
   "cell_type": "code",
   "execution_count": 1,
   "metadata": {
    "collapsed": false,
    "deletable": true,
    "editable": true
   },
   "outputs": [
    {
     "name": "stdout",
     "output_type": "stream",
     "text": [
      "Populating the interactive namespace from numpy and matplotlib\n"
     ]
    }
   ],
   "source": [
    "%pylab inline\n",
    "import numpy as np\n",
    "import tensorflow as tf\n",
    "import pandas as pd\n",
    "\n",
    "from sklearn.preprocessing import StandardScaler, MinMaxScaler\n",
    "from tensorflow.contrib.rnn import RNNCell, BasicLSTMCell, MultiRNNCell, DropoutWrapper\n",
    "from tensorflow.examples.tutorials.mnist import input_data\n",
    "from datetime import datetime"
   ]
  },
  {
   "cell_type": "markdown",
   "metadata": {
    "deletable": true,
    "editable": true
   },
   "source": [
    "### Create Interactive Session"
   ]
  },
  {
   "cell_type": "code",
   "execution_count": 2,
   "metadata": {
    "collapsed": true,
    "deletable": true,
    "editable": true
   },
   "outputs": [],
   "source": [
    "init_op = tf.global_variables_initializer()\n",
    "\n",
    "gpu_options = tf.GPUOptions(per_process_gpu_memory_fraction=0.001, allow_growth=True)\n",
    "sess = tf.InteractiveSession(config=tf.ConfigProto(gpu_options=gpu_options))\n",
    "sess.run(init_op)"
   ]
  },
  {
   "cell_type": "markdown",
   "metadata": {
    "deletable": true,
    "editable": true
   },
   "source": [
    "### Data"
   ]
  },
  {
   "cell_type": "code",
   "execution_count": 3,
   "metadata": {
    "collapsed": false,
    "deletable": true,
    "editable": true
   },
   "outputs": [],
   "source": [
    "# Load Data\n",
    "data = pd.read_csv('../../data/time-series/international-airline-passengers.csv', \n",
    "                   names=['passenger'],\n",
    "                   skiprows=1, usecols=[1])\n",
    "\n",
    "# Normalize Data using Min-Max Scaler \n",
    "scaler = MinMaxScaler(feature_range=(0, 1))\n",
    "data = scaler.fit_transform(data)\n",
    "data = data.astype('float32')\n",
    "\n",
    "# Seperate Train and Test Data\n",
    "_size = int(len(data) * 0.7) # 144\n",
    "train, test = data[:_size], data[_size:] # 100, 44\n",
    "\n",
    "# convert an array of values into a dataset matrix\n",
    "def create_dataset(dataset, look_back=1):\n",
    "    dataX, dataY = [], []\n",
    "    for i in range(len(dataset)-look_back-1):\n",
    "        dataX.append(dataset[i])\n",
    "        dataY.append(dataset[i+1])\n",
    "    return np.array(dataX), np.array(dataY)\n",
    "\n",
    "def reshape_x(dataset):\n",
    "    return np.reshape(dataset, (dataset.shape[0], 1, dataset.shape[1]))\n",
    "\n",
    "def reshape_y(dataset):\n",
    "    return np.reshape(dataset, (dataset.shape[0], dataset.shape[1]))\n",
    "\n",
    "look_back = 1\n",
    "train_x, train_y = create_dataset(train, look_back)\n",
    "test_x, test_y = create_dataset(test, look_back)\n",
    "\n",
    "train_x = reshape_x(train_x)\n",
    "train_y = reshape_y(train_y)\n",
    "test_x = reshape_x(test_x)\n",
    "test_y = reshape_y(test_y) "
   ]
  },
  {
   "cell_type": "code",
   "execution_count": 4,
   "metadata": {
    "collapsed": false,
    "deletable": true,
    "editable": true
   },
   "outputs": [
    {
     "name": "stdout",
     "output_type": "stream",
     "text": [
      "Train X: (98, 1, 1)\n",
      "Train Y: (98, 1)\n",
      "Test X: (42, 1, 1)\n",
      "Test Y: (42, 1)\n"
     ]
    },
    {
     "data": {
      "text/plain": [
       "[<matplotlib.lines.Line2D at 0x7fa7b0639a20>]"
      ]
     },
     "execution_count": 4,
     "metadata": {},
     "output_type": "execute_result"
    },
    {
     "data": {
      "image/png": "[encoded data removed]",
      "text/plain": [
       "<matplotlib.figure.Figure at 0x7fa8103a3240>"
      ]
     },
     "metadata": {},
     "output_type": "display_data"
    }
   ],
   "source": [
    "# Display\n",
    "\n",
    "print('Train X:', train_x.shape)\n",
    "print('Train Y:', train_y.shape)\n",
    "print('Test X:', test_x.shape)\n",
    "print('Test Y:', test_y.shape)\n",
    "\n",
    "title('International Airline Passengers per year')\n",
    "ylabel('the number of airline passengers')\n",
    "xlabel('years')\n",
    "grid()\n",
    "plot(data)"
   ]
  },
  {
   "cell_type": "code",
   "execution_count": 5,
   "metadata": {
    "collapsed": false,
    "deletable": true,
    "editable": true
   },
   "outputs": [
    {
     "name": "stdout",
     "output_type": "stream",
     "text": [
      "(50, 1, 1) (50, 1)\n"
     ]
    }
   ],
   "source": [
    "def shuffle(x, y):\n",
    "    permu = np.random.permutation(x.shape[0])\n",
    "    x = x[permu]\n",
    "    y = y[permu]\n",
    "    return x, y\n",
    "\n",
    "def next_batch(x, y, size=50):\n",
    "    N = x.shape[0]\n",
    "    idx = np.random.randint(0, N-size)\n",
    "    return x[idx:idx+size], y[idx:idx+size]\n",
    "    \n",
    "sample_x, sample_y = next_batch(train_x, train_y)\n",
    "print(sample_x.shape, sample_y.shape)"
   ]
  },
  {
   "cell_type": "markdown",
   "metadata": {
    "deletable": true,
    "editable": true
   },
   "source": [
    "### Model"
   ]
  },
  {
   "cell_type": "code",
   "execution_count": 6,
   "metadata": {
    "collapsed": false,
    "deletable": true,
    "editable": true
   },
   "outputs": [],
   "source": [
    "hidden_size = 20\n",
    "\n",
    "with tf.variable_scope('test' + str(np.random.randint(0, 100000))):\n",
    "    inputs = tf.placeholder('float32', shape=[None, None, 1], name='inputs') # [batch, time, in]\n",
    "    targets = tf.placeholder('float32', shape=[None, 1], name='targets') # [batch, time, out]\n",
    "    \n",
    "    cell = BasicLSTMCell(hidden_size, forget_bias=1.0, state_is_tuple=True)\n",
    "#     cell = DropoutWrapper(cell)\n",
    "    init_state = cell.zero_state(1, 'float32')\n",
    "\n",
    "    rnn_outputs, rnn_states = tf.nn.dynamic_rnn(cell, inputs, initial_state=init_state, time_major=True)\n",
    "    rnn_outputs = rnn_outputs[:, -1] \n",
    "    \n",
    "    w = tf.get_variable('weights', [hidden_size, 1], initializer=tf.random_normal_initializer())\n",
    "    b = tf.get_variable('biases', [1, 1], initializer=tf.constant_initializer())\n",
    "    \n",
    "    dense1 = tf.matmul(rnn_outputs, w) + b\n",
    "    dense2 = tf.reduce_sum(dense1, reduction_indices=[1])\n",
    "\n",
    "    prediction = tf.nn.sigmoid(dense2)\n",
    "    prediction = tf.reshape(prediction, (-1, 1))\n",
    "    \n",
    "    delta = tf.square(targets - prediction)\n",
    "    loss = tf.reduce_mean(delta)\n",
    "    train_fn = tf.train.AdamOptimizer(learning_rate=0.001).minimize(loss)\n",
    "    \n",
    "init_op = tf.global_variables_initializer()\n",
    "sess.run(init_op)"
   ]
  },
  {
   "cell_type": "markdown",
   "metadata": {
    "deletable": true,
    "editable": true
   },
   "source": [
    "### Train"
   ]
  },
  {
   "cell_type": "code",
   "execution_count": 7,
   "metadata": {
    "collapsed": false,
    "deletable": true,
    "editable": true,
    "scrolled": false
   },
   "outputs": [
    {
     "name": "stdout",
     "output_type": "stream",
     "text": [
      "[50]Training Cost: 0.002028\n",
      "걸린시각:159.091918 초\n"
     ]
    },
    {
     "data": {
      "text/plain": [
       "<matplotlib.legend.Legend at 0x7fa7b025eb38>"
      ]
     },
     "execution_count": 7,
     "metadata": {},
     "output_type": "execute_result"
    },
    {
     "data": {
      "image/png": "[encoded data removed]",
      "text/plain": [
       "<matplotlib.figure.Figure at 0x7fa7b0648c18>"
      ]
     },
     "metadata": {},
     "output_type": "display_data"
    }
   ],
   "source": [
    "def train(x, y, n_epoch=50):\n",
    "    now = datetime.now()\n",
    "    N = len(x)\n",
    "    g_costs = []\n",
    "    g_test_costs = []\n",
    "    for epoch in range(1, n_epoch+1):\n",
    "        costs = []\n",
    "        \n",
    "        # Shuffle\n",
    "        x, y = shuffle(x, y)\n",
    "        \n",
    "        for _ in range(N):\n",
    "            sample_x, sample_y = next_batch(x, y)\n",
    "            cost, _ = sess.run([loss, train_fn], feed_dict={inputs: sample_x, targets: sample_y})\n",
    "            costs.append(np.sum(cost))\n",
    "        \n",
    "        # Evaluate Training cost\n",
    "        _c = np.sum(costs)/len(costs)\n",
    "        g_costs.append(_c)\n",
    "        \n",
    "        print('\\r[%d]Training Cost: %.6f' % (epoch, _c), end='')\n",
    "    \n",
    "    seconds = (datetime.now() - now).total_seconds()\n",
    "    return seconds, g_costs\n",
    "\n",
    "seconds, costs = train(train_x, train_y)\n",
    "print('\\n걸린시각:%s 초'% seconds)\n",
    "plot(costs, label='costs')\n",
    "grid()\n",
    "legend()"
   ]
  },
  {
   "cell_type": "code",
   "execution_count": 8,
   "metadata": {
    "collapsed": false,
    "deletable": true,
    "editable": true,
    "scrolled": false
   },
   "outputs": [
    {
     "name": "stderr",
     "output_type": "stream",
     "text": [
      "/usr/local/lib/python3.6/site-packages/sklearn/preprocessing/data.py:374: DeprecationWarning: Passing 1d arrays as data is deprecated in 0.17 and will raise ValueError in 0.19. Reshape your data either using X.reshape(-1, 1) if your data has a single feature or X.reshape(1, -1) if it contains a single sample.\n",
      "  warnings.warn(DEPRECATION_MSG_1D, DeprecationWarning)\n",
      "/usr/local/lib/python3.6/site-packages/sklearn/preprocessing/data.py:374: DeprecationWarning: Passing 1d arrays as data is deprecated in 0.17 and will raise ValueError in 0.19. Reshape your data either using X.reshape(-1, 1) if your data has a single feature or X.reshape(1, -1) if it contains a single sample.\n",
      "  warnings.warn(DEPRECATION_MSG_1D, DeprecationWarning)\n"
     ]
    },
    {
     "data": {
      "text/plain": [
       "<matplotlib.legend.Legend at 0x7fa7b013f9e8>"
      ]
     },
     "execution_count": 8,
     "metadata": {},
     "output_type": "execute_result"
    },
    {
     "data": {
      "image/png": "[encoded data removed]",
      "text/plain": [
       "<matplotlib.figure.Figure at 0x7fa7b0222940>"
      ]
     },
     "metadata": {},
     "output_type": "display_data"
    }
   ],
   "source": [
    "train_predicted = sess.run(prediction, feed_dict={inputs: train_x})\n",
    "test_predicted = sess.run(prediction, feed_dict={inputs: test_x})\n",
    "\n",
    "\n",
    "train_predicted = scaler.inverse_transform(train_predicted.reshape(train_predicted.shape[0]))\n",
    "test_predicted =  scaler.inverse_transform(test_predicted.reshape(test_predicted.shape[0]))\n",
    "\n",
    "plot_train_x = np.arange(0, train_predicted.shape[0])\n",
    "plot_test_x = np.arange(plot_train_x.shape[0] + 2, plot_train_x.shape[0] + test_predicted.shape[0] + 2)\n",
    "\n",
    "plot(scaler.inverse_transform(data), color='#333333', label='original data')\n",
    "plot(plot_train_x, train_predicted, plot_test_x, test_predicted, color='red', label='predict')\n",
    "\n",
    "legend(loc='upper left')"
   ]
  }
 ],
 "metadata": {
  "kernelspec": {
   "display_name": "Python 3",
   "language": "python",
   "name": "python3"
  },
  "language_info": {
   "codemirror_mode": {
    "name": "ipython",
    "version": 3
   },
   "file_extension": ".py",
   "mimetype": "text/x-python",
   "name": "python",
   "nbconvert_exporter": "python",
   "pygments_lexer": "ipython3",
   "version": "3.6.1"
  }
 },
 "nbformat": 4,
 "nbformat_minor": 2
}
