{
 "cells": [
  {
   "cell_type": "markdown",
   "metadata": {
    "deletable": true,
    "editable": true
   },
   "source": [
    "# concatenate"
   ]
  },
  {
   "cell_type": "code",
   "execution_count": 1,
   "metadata": {
    "collapsed": false,
    "deletable": true,
    "editable": true
   },
   "outputs": [
    {
     "name": "stderr",
     "output_type": "stream",
     "text": [
      "Using TensorFlow backend.\n"
     ]
    }
   ],
   "source": [
    "import numpy as np\n",
    "\n",
    "from keras.models import Model, Input\n",
    "from keras.layers import Dense, concatenate\n",
    "from keras.layers.merge import Concatenate"
   ]
  },
  {
   "cell_type": "markdown",
   "metadata": {
    "deletable": true,
    "editable": true
   },
   "source": [
    "## Example 01\n",
    "\n",
    "2개의 데이터는 모두 시계열성 (Batch, Sequence, Data) 데이터 이지만, shape이 서로 다릅니다. <br>\n",
    "이때 concatenate를 했을때 문제없이 작동합니다."
   ]
  },
  {
   "cell_type": "code",
   "execution_count": 2,
   "metadata": {
    "collapsed": false,
    "deletable": true,
    "editable": true
   },
   "outputs": [
    {
     "name": "stdout",
     "output_type": "stream",
     "text": [
      "layer1 shape: (?, ?, 1)\n",
      "layer2 shape: (?, ?, 3)\n"
     ]
    },
    {
     "data": {
      "text/plain": [
       "array([[[ 0.46914026],\n",
       "        [ 0.43851474],\n",
       "        [ 0.40835062]],\n",
       "\n",
       "       [[ 0.35991007],\n",
       "        [ 0.33195624],\n",
       "        [ 0.30513856]]], dtype=float32)"
      ]
     },
     "execution_count": 2,
     "metadata": {},
     "output_type": "execute_result"
    }
   ],
   "source": [
    "a = np.array([[[1], [2], [3]], \n",
    "              [[4], [5], [6]]])\n",
    "b = np.array([[[0, 0, 0], [0, 0, 0], [0, 0, 0]], \n",
    "              [[1, 1, 1], [1, 1, 1], [1, 1, 1]]])\n",
    "\n",
    "input1 = Input(shape=(None, 1), name='input1')\n",
    "input2 = Input(shape=(None, 3), name='input2')\n",
    "\n",
    "layer1 = Dense(1)(input1)\n",
    "layer2 = Dense(3)(input2)\n",
    "print('layer1 shape:', layer1.shape)\n",
    "print('layer2 shape:', layer2.shape)\n",
    "\n",
    "merged_vector = concatenate([layer1, layer2], axis=-1)\n",
    "predictions = Dense(1, activation='sigmoid')(merged_vector)\n",
    "\n",
    "model = Model(inputs=[input1, input2], outputs=predictions)\n",
    "model.compile(optimizer='rmsprop', loss='mean_squared_error')\n",
    "\n",
    "model.predict([a, b])"
   ]
  },
  {
   "cell_type": "markdown",
   "metadata": {
    "deletable": true,
    "editable": true
   },
   "source": [
    "## Example 02\n",
    "\n",
    "시계열 shape이 서로 다른 경우 입니다. <br>\n",
    "예를 들어서 (None, 3, 1) 그리고 (None, 2, 1) 을 Time Sequence 부분을 기준으로 concatenate하면 다음과 같이 됩니다. \n",
    "\n",
    "```\n",
    ">> a = [[[a], [a], [a]]\n",
    ">>      [[d], [e], [f]]]\n",
    ">> b = [[[z], [z]],\n",
    ">>      [[x], [x]]]\n",
    ">>      \n",
    ">> result = concatenate([a, b], axis=1)\n",
    "\n",
    "[[[a], [a], [a], [z], [z]], \n",
    " [[d], [e], [f], [x], [x]]]\n",
    "\n",
    "```"
   ]
  },
  {
   "cell_type": "code",
   "execution_count": 13,
   "metadata": {
    "collapsed": false,
    "deletable": true,
    "editable": true
   },
   "outputs": [
    {
     "name": "stdout",
     "output_type": "stream",
     "text": [
      "layer1 shape: (?, ?, 1)\n",
      "layer2 shape: (?, ?, 1)\n"
     ]
    },
    {
     "data": {
      "text/plain": [
       "array([[[ 0.99980801],\n",
       "        [ 0.99980801],\n",
       "        [ 0.99980801],\n",
       "        [ 0.5       ],\n",
       "        [ 0.5       ]],\n",
       "\n",
       "       [[ 0.84703767],\n",
       "        [ 0.99980801],\n",
       "        [ 0.84703767],\n",
       "        [ 0.15703523],\n",
       "        [ 0.15703523]]], dtype=float32)"
      ]
     },
     "execution_count": 13,
     "metadata": {},
     "output_type": "execute_result"
    }
   ],
   "source": [
    "a = np.array([[[5], [5], [5]], \n",
    "              [[1], [5], [1]]])\n",
    "b = np.array([[[0], [0]], \n",
    "              [[1], [1]]])\n",
    "\n",
    "input1 = Input(shape=(None, 1), name='input1')\n",
    "input2 = Input(shape=(None, 1), name='input2')\n",
    "\n",
    "layer1 = Dense(1)(input1)\n",
    "layer2 = Dense(1)(input2)\n",
    "print('layer1 shape:', layer1.shape)\n",
    "print('layer2 shape:', layer2.shape)\n",
    "\n",
    "merged_vector = concatenate([layer1, layer2], axis=1)\n",
    "predictions = Dense(1, activation='sigmoid')(merged_vector)\n",
    "\n",
    "model = Model(inputs=[input1, input2], outputs=predictions)\n",
    "model.compile(optimizer='rmsprop', loss='mean_squared_error')\n",
    "\n",
    "model.predict([a, b])"
   ]
  }
 ],
 "metadata": {
  "kernelspec": {
   "display_name": "Python 3",
   "language": "python",
   "name": "python3"
  },
  "language_info": {
   "codemirror_mode": {
    "name": "ipython",
    "version": 3
   },
   "file_extension": ".py",
   "mimetype": "text/x-python",
   "name": "python",
   "nbconvert_exporter": "python",
   "pygments_lexer": "ipython3",
   "version": "3.6.0"
  }
 },
 "nbformat": 4,
 "nbformat_minor": 2
}
