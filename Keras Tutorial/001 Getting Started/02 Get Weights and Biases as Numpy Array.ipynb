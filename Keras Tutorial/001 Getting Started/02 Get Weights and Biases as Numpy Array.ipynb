{
 "cells": [
  {
   "cell_type": "code",
   "execution_count": 1,
   "metadata": {
    "collapsed": false,
    "deletable": true,
    "editable": true
   },
   "outputs": [
    {
     "name": "stderr",
     "output_type": "stream",
     "text": [
      "Using TensorFlow backend.\n"
     ]
    }
   ],
   "source": [
    "import numpy as np\n",
    "\n",
    "from keras.models import Sequential\n",
    "from keras.layers import Dense"
   ]
  },
  {
   "cell_type": "code",
   "execution_count": 2,
   "metadata": {
    "collapsed": true,
    "deletable": true,
    "editable": true
   },
   "outputs": [],
   "source": [
    "def display_shapes(model):\n",
    "    for i, layer in enumerate(model.layers):\n",
    "        w, b = layer.get_weights()\n",
    "        print(f'[{i}] weights: {w.shape} \\tbiase: {b.shape}')"
   ]
  },
  {
   "cell_type": "markdown",
   "metadata": {
    "deletable": true,
    "editable": true
   },
   "source": [
    "## Example 1"
   ]
  },
  {
   "cell_type": "code",
   "execution_count": 4,
   "metadata": {
    "collapsed": false,
    "deletable": true,
    "editable": true
   },
   "outputs": [
    {
     "name": "stdout",
     "output_type": "stream",
     "text": [
      "[0] weights: (10, 20) \tbiase: (20,)\n",
      "[1] weights: (20, 5) \tbiase: (5,)\n",
      "[2] weights: (5, 1) \tbiase: (1,)\n"
     ]
    }
   ],
   "source": [
    "model = Sequential()\n",
    "model.add(Dense(20, batch_input_shape=(None, 10)))\n",
    "model.add(Dense(5))\n",
    "model.add(Dense(1))\n",
    "model.compile(optimizer='adam', loss='mean_squared_error')\n",
    "\n",
    "display_shapes(model)"
   ]
  },
  {
   "cell_type": "code",
   "execution_count": 7,
   "metadata": {
    "collapsed": false
   },
   "outputs": [
    {
     "data": {
      "text/plain": [
       "<tf.Tensor 'dense_6/BiasAdd:0' shape=(?, 1) dtype=float32>"
      ]
     },
     "execution_count": 7,
     "metadata": {},
     "output_type": "execute_result"
    }
   ],
   "source": [
    "x = np.random.randn(7, 10)\n",
    "model.predict(x)\n",
    "model.get_output_at(0)"
   ]
  },
  {
   "cell_type": "markdown",
   "metadata": {
    "deletable": true,
    "editable": true
   },
   "source": [
    "## Example 2"
   ]
  },
  {
   "cell_type": "code",
   "execution_count": 24,
   "metadata": {
    "collapsed": false,
    "deletable": true,
    "editable": true
   },
   "outputs": [
    {
     "name": "stdout",
     "output_type": "stream",
     "text": [
      "[0] weights: (9, 32) \tbiase: (32,)\n",
      "[1] weights: (32, 32) \tbiase: (32,)\n",
      "[2] weights: (32, 32) \tbiase: (32,)\n",
      "[3] weights: (32, 32) \tbiase: (32,)\n",
      "[4] weights: (32, 16) \tbiase: (16,)\n",
      "[5] weights: (16, 1) \tbiase: (1,)\n"
     ]
    }
   ],
   "source": [
    "data_x = np.random.randn(5, 9)\n",
    "data_y = np.random.randn(5, 1)\n",
    "\n",
    "model = Sequential()\n",
    "model.add(Dense(32, batch_input_shape=(None, 9)))\n",
    "model.add(Dense(32))\n",
    "model.add(Dense(32))\n",
    "model.add(Dense(32))\n",
    "model.add(Dense(16))\n",
    "model.add(Dense(1))\n",
    "model.compile(optimizer='adam', loss='mean_squared_error')\n",
    "y_pred = model.predict(data_x, verbose=0)\n",
    "\n",
    "display_shapes(model)"
   ]
  }
 ],
 "metadata": {
  "kernelspec": {
   "display_name": "Python 3",
   "language": "python",
   "name": "python3"
  },
  "language_info": {
   "codemirror_mode": {
    "name": "ipython",
    "version": 3
   },
   "file_extension": ".py",
   "mimetype": "text/x-python",
   "name": "python",
   "nbconvert_exporter": "python",
   "pygments_lexer": "ipython3",
   "version": "3.6.0"
  }
 },
 "nbformat": 4,
 "nbformat_minor": 2
}
