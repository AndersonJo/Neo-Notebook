{
 "cells": [
  {
   "cell_type": "code",
   "execution_count": 20,
   "metadata": {
    "collapsed": false
   },
   "outputs": [],
   "source": [
    "from keras.models import Sequential\n",
    "from keras.layers import Dense, Activation\n",
    "from keras.optimizers import SGD\n",
    "\n",
    "from tensorflow.examples.tutorials.mnist import input_data\n",
    "\n",
    "import numpy as np"
   ]
  },
  {
   "cell_type": "markdown",
   "metadata": {},
   "source": [
    "### Data Preparation"
   ]
  },
  {
   "cell_type": "code",
   "execution_count": 2,
   "metadata": {
    "collapsed": false
   },
   "outputs": [
    {
     "name": "stdout",
     "output_type": "stream",
     "text": [
      "Extracting MNIST_data/train-images-idx3-ubyte.gz\n",
      "Extracting MNIST_data/train-labels-idx1-ubyte.gz\n",
      "Extracting MNIST_data/t10k-images-idx3-ubyte.gz\n",
      "Extracting MNIST_data/t10k-labels-idx1-ubyte.gz\n"
     ]
    }
   ],
   "source": [
    "mnist = input_data.read_data_sets('MNIST_data', one_hot=True)\n",
    "\n",
    "train_x = mnist.train.images\n",
    "train_y = mnist.train.labels\n",
    "test_x = mnist.test.images\n",
    "test_y = mnist.test.labels"
   ]
  },
  {
   "cell_type": "markdown",
   "metadata": {},
   "source": [
    "### Model"
   ]
  },
  {
   "cell_type": "code",
   "execution_count": 3,
   "metadata": {
    "collapsed": false
   },
   "outputs": [],
   "source": [
    "model = Sequential()\n",
    "\n",
    "model.add(Dense(output_dim=512, input_dim=784))\n",
    "model.add(Activation('relu'))\n",
    "model.add(Dense(output_dim=256, input_dim=512))\n",
    "model.add(Activation('relu'))\n",
    "model.add(Dense(output_dim=10))\n",
    "model.add(Activation('softmax'))\n",
    "\n",
    "model.compile(loss='categorical_crossentropy', \n",
    "              optimizer=SGD(lr=0.01, momentum=0.9, nesterov=True), \n",
    "              metrics=['accuracy'])"
   ]
  },
  {
   "cell_type": "markdown",
   "metadata": {},
   "source": [
    "### Training"
   ]
  },
  {
   "cell_type": "code",
   "execution_count": 4,
   "metadata": {
    "collapsed": false
   },
   "outputs": [
    {
     "name": "stdout",
     "output_type": "stream",
     "text": [
      "Epoch 1/10\n",
      "55000/55000 [==============================] - 2s - loss: 0.2629 - acc: 0.9225     \n",
      "Epoch 2/10\n",
      "55000/55000 [==============================] - 2s - loss: 0.1067 - acc: 0.9682     \n",
      "Epoch 3/10\n",
      "55000/55000 [==============================] - 2s - loss: 0.0691 - acc: 0.9791     \n",
      "Epoch 4/10\n",
      "55000/55000 [==============================] - 2s - loss: 0.0481 - acc: 0.9858     \n",
      "Epoch 5/10\n",
      "55000/55000 [==============================] - 2s - loss: 0.0353 - acc: 0.9893     \n",
      "Epoch 6/10\n",
      "55000/55000 [==============================] - 2s - loss: 0.0250 - acc: 0.9924     \n",
      "Epoch 7/10\n",
      "55000/55000 [==============================] - 2s - loss: 0.0174 - acc: 0.9951     \n",
      "Epoch 8/10\n",
      "55000/55000 [==============================] - 2s - loss: 0.0120 - acc: 0.9968     \n",
      "Epoch 9/10\n",
      "55000/55000 [==============================] - 2s - loss: 0.0078 - acc: 0.9984     \n",
      "Epoch 10/10\n",
      "55000/55000 [==============================] - 2s - loss: 0.0058 - acc: 0.9989     \n"
     ]
    },
    {
     "data": {
      "text/plain": [
       "<keras.callbacks.History at 0x7fd8b01462d0>"
      ]
     },
     "execution_count": 4,
     "metadata": {},
     "output_type": "execute_result"
    }
   ],
   "source": [
    "model.fit(train_x, train_y)"
   ]
  },
  {
   "cell_type": "code",
   "execution_count": 29,
   "metadata": {
    "collapsed": false
   },
   "outputs": [
    {
     "name": "stdout",
     "output_type": "stream",
     "text": [
      " 9600/10000 [===========================>..] - ETA: 0s\n",
      "Loss: 0.061270598927\n",
      "Accuracy: 0.9832\n"
     ]
    }
   ],
   "source": [
    "loss, accuracy = model.evaluate(test_x, test_y)\n",
    "print \n",
    "print 'Loss:', loss\n",
    "print 'Accuracy:', accuracy"
   ]
  },
  {
   "cell_type": "code",
   "execution_count": 27,
   "metadata": {
    "collapsed": false
   },
   "outputs": [
    {
     "name": "stdout",
     "output_type": "stream",
     "text": [
      "Accuracy: 0.9845\n"
     ]
    }
   ],
   "source": [
    "def my_test(X, Y, loop=2000):\n",
    "    N = len(X)\n",
    "    \n",
    "    correct_count = 0.\n",
    "    \n",
    "    for _ in xrange(loop):\n",
    "        i = np.random.randint(N)\n",
    "        yhat = np.argmax(model.predict(test_x[i:i+1, :]))\n",
    "        answer = np.argmax(test_y[i, :])\n",
    "        if yhat == answer:\n",
    "            correct_count += 1.\n",
    "    return correct_count/float(loop)\n",
    "                           \n",
    "print 'Accuracy:', my_test(test_x, test_y)"
   ]
  }
 ],
 "metadata": {
  "kernelspec": {
   "display_name": "Python 2",
   "language": "python",
   "name": "python2"
  },
  "language_info": {
   "codemirror_mode": {
    "name": "ipython",
    "version": 2
   },
   "file_extension": ".py",
   "mimetype": "text/x-python",
   "name": "python",
   "nbconvert_exporter": "python",
   "pygments_lexer": "ipython2",
   "version": "2.7.12"
  }
 },
 "nbformat": 4,
 "nbformat_minor": 1
}
