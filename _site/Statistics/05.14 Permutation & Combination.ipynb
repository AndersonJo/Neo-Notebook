{
 "cells": [
  {
   "cell_type": "code",
   "execution_count": 24,
   "metadata": {
    "collapsed": false
   },
   "outputs": [
    {
     "name": "stdout",
     "output_type": "stream",
     "text": [
      "Populating the interactive namespace from numpy and matplotlib\n"
     ]
    }
   ],
   "source": [
    "%pylab inline\n",
    "import numpy as np\n",
    "from itertools import combinations, permutations\n",
    "from math import factorial\n",
    "import operator"
   ]
  },
  {
   "cell_type": "code",
   "execution_count": 28,
   "metadata": {
    "collapsed": false
   },
   "outputs": [
    {
     "data": {
      "text/plain": [
       "362880"
      ]
     },
     "execution_count": 28,
     "metadata": {},
     "output_type": "execute_result"
    }
   ],
   "source": [
    "data = range(9)\n",
    "\n",
    "factorial(9)"
   ]
  },
  {
   "cell_type": "code",
   "execution_count": 8,
   "metadata": {
    "collapsed": false
   },
   "outputs": [
    {
     "name": "stdout",
     "output_type": "stream",
     "text": [
      "1 0 1\n",
      "2 0 2\n",
      "3 0 3\n",
      "4 0 4\n",
      "5 0 5\n",
      "6 0 6\n",
      "7 0 7\n",
      "8 0 8\n",
      "9 0 9\n",
      "10 1 2\n",
      "11 1 3\n",
      "12 1 4\n",
      "13 1 5\n",
      "14 1 6\n",
      "15 1 7\n",
      "16 1 8\n",
      "17 1 9\n",
      "18 2 3\n",
      "19 2 4\n",
      "20 2 5\n",
      "21 2 6\n",
      "22 2 7\n",
      "23 2 8\n",
      "24 2 9\n",
      "25 3 4\n",
      "26 3 5\n",
      "27 3 6\n",
      "28 3 7\n",
      "29 3 8\n",
      "30 3 9\n",
      "31 4 5\n",
      "32 4 6\n",
      "33 4 7\n",
      "34 4 8\n",
      "35 4 9\n",
      "36 5 6\n",
      "37 5 7\n",
      "38 5 8\n",
      "39 5 9\n",
      "40 6 7\n",
      "41 6 8\n",
      "42 6 9\n",
      "43 7 8\n",
      "44 7 9\n",
      "45 8 9\n",
      "[(0, 1), (0, 2), (0, 3), (1, 2), (1, 3), (2, 3)]\n",
      "6\n",
      "0.133333333333\n"
     ]
    }
   ],
   "source": [
    "# 0~3 4개는 파란색 구슬\n",
    "# 4~9 6개는 노란색 구슬\n",
    "# 자루안에 4개의 파란색 구슬과, 6개의 노란색 구슬이 있는데, 이중에 정확하게 2개의 파란색 구슬을 꺼낼 확률은?\n",
    "\n",
    "\n",
    "\n"
   ]
  }
 ],
 "metadata": {
  "kernelspec": {
   "display_name": "Python 2",
   "language": "python",
   "name": "python2"
  },
  "language_info": {
   "codemirror_mode": {
    "name": "ipython",
    "version": 2
   },
   "file_extension": ".py",
   "mimetype": "text/x-python",
   "name": "python",
   "nbconvert_exporter": "python",
   "pygments_lexer": "ipython2",
   "version": "2.7.10"
  }
 },
 "nbformat": 4,
 "nbformat_minor": 0
}
