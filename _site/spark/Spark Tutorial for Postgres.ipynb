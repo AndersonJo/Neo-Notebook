{
 "cells": [
  {
   "cell_type": "code",
   "execution_count": 1,
   "metadata": {
    "collapsed": true
   },
   "outputs": [],
   "source": [
    "from pyspark import SparkContext, SparkConf\n",
    "from pyspark.sql import SQLContext\n",
    "\n",
    "spconf = SparkConf().setMaster('local[4]').setAppName('Tutorial')\n",
    "sc = SparkContext(conf=spconf)\n",
    "sqlContext = SQLContext(sc)"
   ]
  },
  {
   "cell_type": "code",
   "execution_count": 3,
   "metadata": {
    "collapsed": true
   },
   "outputs": [],
   "source": [
    "users = sqlContext.read.format(\"jdbc\").options(\n",
    "    url=\"jdbc:postgresql://amanda-development03.cua2ch4xbz7g.ap-northeast-1.rds.amazonaws.com:50012/amanda\",\n",
    "    driver = \"org.postgresql.Driver\",\n",
    "    dbtable = \"users\",\n",
    "    user=\"amandamaster\",\n",
    "    password=\"snafo283lsaf_AFE376473\").load()\n",
    "    \n",
    "\n",
    "matchings = sqlContext.read.format(\"jdbc\").options(\n",
    "    url=\"jdbc:postgresql://amanda-development03.cua2ch4xbz7g.ap-northeast-1.rds.amazonaws.com:50012/amanda\",\n",
    "    driver = \"org.postgresql.Driver\",\n",
    "    dbtable = \"matchings\",\n",
    "    user=\"amandamaster\",\n",
    "    password=\"snafo283lsaf_AFE376473\").load()\n"
   ]
  },
  {
   "cell_type": "code",
   "execution_count": 4,
   "metadata": {
    "collapsed": false
   },
   "outputs": [],
   "source": [
    "sqlContext.registerDataFrameAsTable(users, 'users')\n",
    "sqlContext.registerDataFrameAsTable(matchings, 'matchings')"
   ]
  },
  {
   "cell_type": "code",
   "execution_count": 7,
   "metadata": {
    "collapsed": false
   },
   "outputs": [
    {
     "name": "stdout",
     "output_type": "stream",
     "text": [
      "[Row(id=754184, nickname=u'\\uc9c0\\uc7782425'), Row(id=195101, nickname=u'\\uae00\\uc384..'), Row(id=322672, nickname=u'\\uc544\\ub9cc\\ub530\\ucc0c'), Row(id=234287, nickname=None), Row(id=306937, nickname=None)]\n"
     ]
    }
   ],
   "source": [
    "df = sqlContext.sql('select id, nickname from users limit 5')\n",
    "print df.take(5)"
   ]
  },
  {
   "cell_type": "code",
   "execution_count": 9,
   "metadata": {
    "collapsed": true
   },
   "outputs": [
    {
     "data": {
      "text/plain": [
       "DataFrame[id: int, nickname: string]"
      ]
     },
     "execution_count": 9,
     "metadata": {},
     "output_type": "execute_result"
    }
   ],
   "source": [
    "df.cache()"
   ]
  },
  {
   "cell_type": "code",
   "execution_count": 13,
   "metadata": {
    "collapsed": false
   },
   "outputs": [
    {
     "name": "stdout",
     "output_type": "stream",
     "text": [
      "[Row(id=754184, nickname=u'\\uc9c0\\uc7782425'), Row(id=195101, nickname=u'\\uae00\\uc384..'), Row(id=322672, nickname=u'\\uc544\\ub9cc\\ub530\\ucc0c'), Row(id=234287, nickname=None), Row(id=306937, nickname=None)]\n"
     ]
    }
   ],
   "source": [
    "print df.collect()"
   ]
  }
 ],
 "metadata": {
  "kernelspec": {
   "display_name": "Python 2",
   "language": "python",
   "name": "python2"
  },
  "language_info": {
   "codemirror_mode": {
    "name": "ipython",
    "version": 2
   },
   "file_extension": ".py",
   "mimetype": "text/x-python",
   "name": "python",
   "nbconvert_exporter": "python",
   "pygments_lexer": "ipython2",
   "version": "2.7.10"
  }
 },
 "nbformat": 4,
 "nbformat_minor": 0
}
