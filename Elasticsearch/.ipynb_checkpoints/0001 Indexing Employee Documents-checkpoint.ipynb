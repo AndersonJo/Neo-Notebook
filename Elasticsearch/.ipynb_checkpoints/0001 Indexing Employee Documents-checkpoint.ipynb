{
 "cells": [
  {
   "cell_type": "markdown",
   "metadata": {},
   "source": [
    "# Indexing Employee Documents\n",
    "\n",
    "이번 문서에서는 Employee 데이터를 저장합니다. 하나의 Document는 한명의 Employee를 뜻하며, 데이터를 Elasticsearch에 저장하는 것을 *Indexing*이라고 부릅니다. Elasticsearch Cluster는 multiple indices를 갖을수 있으며, 각각의 index는 multiple types을 갖을 수 있습니다. 그리고 이 types들은 각각 multiple documents를 갖을수 있으며, 각각의 document는 multiple fields를 갖을 수 있습니다.\n",
    "\n",
    "Elastic Cluster < Multiple Indices < Multiple types < Multiple Documents < Multiple fields\n",
    "\n",
    "\n",
    "\n",
    "### Index의 여러가지 의미\n",
    "\n",
    "1. **Index (Noun)**: traditional relational database에서 말하는 인덱스의 의미와 동일합니다.\n",
    "2. **Index (Verb)**: **To index a document** 의 의미는 해당 document를 특정 index(noun)에 저장하는것을 의미합니다. 즉 Insert와 동일하며 기존의 동일한 document가 있었다면, 새로운 document가 replace하게 됩니다.\n",
    "3. **Inverted Index**: 기존 RDBMS에서는 B-tree Index같은 Index를 사용하여 특정 columns을 빠르게 찾도록 합니다. Elasticsearch 그리고 Lucene에서는 Inverted Index라는 구조를 같은 이유로 사용을 합니다.\n",
    "\n",
    "\n",
    "* 참고로.. 크롬에서 JSON Formatter라는 앱을 다운받아서 JSON을 보면 편함.."
   ]
  },
  {
   "cell_type": "code",
   "execution_count": 18,
   "metadata": {
    "collapsed": true
   },
   "outputs": [],
   "source": [
    "# -*- coding:utf-8 -*-\n",
    "from elasticsearch import Elasticsearch\n",
    "from pprint import pprint as pp\n",
    "\n",
    "es = Elasticsearch([{'host': 'localhost', 'port': 9200}])"
   ]
  },
  {
   "cell_type": "markdown",
   "metadata": {},
   "source": [
    "# Index an employee\n",
    "\n",
    "아래의 예제는 [http://localhost:9200/megacorp/employee/1](http://localhost:9200/megacorp/employee/1) 에서 확인가능합니다."
   ]
  },
  {
   "cell_type": "code",
   "execution_count": 24,
   "metadata": {
    "collapsed": false
   },
   "outputs": [
    {
     "data": {
      "text/plain": [
       "{u'_id': u'3',\n",
       " u'_index': u'megacorp',\n",
       " u'_shards': {u'failed': 0, u'successful': 1, u'total': 2},\n",
       " u'_type': u'employee',\n",
       " u'_version': 1,\n",
       " u'created': True,\n",
       " u'result': u'created'}"
      ]
     },
     "execution_count": 24,
     "metadata": {},
     "output_type": "execute_result"
    }
   ],
   "source": [
    "es.index(index='megacorp', doc_type='employee', id=1, body={\n",
    "        'first_name': 'Anderson',\n",
    "        'last_name': 'Jo',\n",
    "        'age': 32,\n",
    "        'about': '연봉 1억으로 올리고 싶어요. 어떻게 하면 될까요?',\n",
    "        'interests': ['자전거', 'Movie']\n",
    "    })\n",
    "\n",
    "es.index(index='megacorp', doc_type='employee', id=2, body={\n",
    "        'first_name': 'Neo',\n",
    "        'last_name': 'Jo',\n",
    "        'age': 30,\n",
    "        'about': 'I like donut',\n",
    "        'interests': ['Eat', 'Pray', 'Fuck']\n",
    "    })\n",
    "\n",
    "es.index(index='megacorp', doc_type='employee', id=3, body={\n",
    "        'first_name': 'Harry',\n",
    "        'last_name': 'Potter',\n",
    "        'age': 25,\n",
    "        'about': \"it's about MAGIC\",\n",
    "        'interests': ['ABADACADABRA!']\n",
    "    })"
   ]
  },
  {
   "cell_type": "markdown",
   "metadata": {},
   "source": [
    "# Retrieve the employee data\n",
    "\n",
    "Indexing(저장)을 위의 코드에서 했는데, 이번에는 반대로 가져오는 것을 해보겠습니다."
   ]
  },
  {
   "cell_type": "code",
   "execution_count": 25,
   "metadata": {
    "collapsed": false
   },
   "outputs": [
    {
     "name": "stdout",
     "output_type": "stream",
     "text": [
      "{u'_id': u'1',\n",
      " u'_index': u'megacorp',\n",
      " u'_source': {u'about': u'\\uc5f0\\ubd09 1\\uc5b5\\uc73c\\ub85c \\uc62c\\ub9ac\\uace0 \\uc2f6\\uc5b4\\uc694. \\uc5b4\\ub5bb\\uac8c \\ud558\\uba74 \\ub420\\uae4c\\uc694?',\n",
      "              u'age': 32,\n",
      "              u'first_name': u'Anderson',\n",
      "              u'interests': [u'\\uc790\\uc804\\uac70', u'Movie'],\n",
      "              u'last_name': u'Jo'},\n",
      " u'_type': u'employee',\n",
      " u'_version': 5,\n",
      " u'found': True}\n"
     ]
    }
   ],
   "source": [
    "pp(es.get(index='megacorp', doc_type='employee', id=1))"
   ]
  },
  {
   "cell_type": "markdown",
   "metadata": {},
   "source": [
    "# Search Lite\n",
    "\n",
    "조금더 Advanced한 검색 쿼리로 넘어가보겠습니다.<br>\n",
    "이번에는 특정 Document ID 대신에 *_search* endpoint를 줘보겠습니다. <br>\n",
    "위에서 저장한 모든 documents가 **hints** array이 안에 들어가있는것을 확인할 수 있습니다.\n",
    "\n",
    "[/megacorp/employee/_search](http://localhost:9200/megacorp/employee/_search)\n",
    "\n",
    "이번에는 last_name이 Potter인 사람만 검색해보겠습니다.\n",
    "\n",
    "[/megacorp/employee/_search?q=last_name:Potter](http://localhost:9200/megacorp/employee/_search?q=last_name:Potter)\n",
    "\n",
    "아래의 파이썬 코드는 Search Lite는 아니고, Query DSL을 사용한 예제입니다. <br>\n",
    "DSL을 사용할 경우 더 복잡한 query를 만들수 있습니다."
   ]
  },
  {
   "cell_type": "code",
   "execution_count": 32,
   "metadata": {
    "collapsed": false
   },
   "outputs": [
    {
     "data": {
      "text/plain": [
       "{u'_shards': {u'failed': 0, u'successful': 5, u'total': 5},\n",
       " u'hits': {u'hits': [{u'_id': u'3',\n",
       "    u'_index': u'megacorp',\n",
       "    u'_score': 0.2876821,\n",
       "    u'_source': {u'about': u\"it's about MAGIC\",\n",
       "     u'age': 25,\n",
       "     u'first_name': u'Harry',\n",
       "     u'interests': [u'ABADACADABRA!'],\n",
       "     u'last_name': u'Potter'},\n",
       "    u'_type': u'employee'}],\n",
       "  u'max_score': 0.2876821,\n",
       "  u'total': 1},\n",
       " u'timed_out': False,\n",
       " u'took': 2}"
      ]
     },
     "execution_count": 32,
     "metadata": {},
     "output_type": "execute_result"
    }
   ],
   "source": [
    "# Query with DSL\n",
    "es.search(index='megacorp', doc_type='employee', body={'query': {'match': {'last_name': 'Potter'}}})"
   ]
  },
  {
   "cell_type": "markdown",
   "metadata": {},
   "source": [
    "# Advanced Search"
   ]
  },
  {
   "cell_type": "code",
   "execution_count": 37,
   "metadata": {
    "collapsed": false
   },
   "outputs": [
    {
     "data": {
      "text/plain": [
       "{u'_shards': {u'failed': 0, u'successful': 5, u'total': 5},\n",
       " u'hits': {u'hits': [{u'_id': u'1',\n",
       "    u'_index': u'megacorp',\n",
       "    u'_score': 0.2876821,\n",
       "    u'_source': {u'about': u'\\uc5f0\\ubd09 1\\uc5b5\\uc73c\\ub85c \\uc62c\\ub9ac\\uace0 \\uc2f6\\uc5b4\\uc694. \\uc5b4\\ub5bb\\uac8c \\ud558\\uba74 \\ub420\\uae4c\\uc694?',\n",
       "     u'age': 32,\n",
       "     u'first_name': u'Anderson',\n",
       "     u'interests': [u'\\uc790\\uc804\\uac70', u'Movie'],\n",
       "     u'last_name': u'Jo'},\n",
       "    u'_type': u'employee'}],\n",
       "  u'max_score': 0.2876821,\n",
       "  u'total': 1},\n",
       " u'timed_out': False,\n",
       " u'took': 4}"
      ]
     },
     "execution_count": 37,
     "metadata": {},
     "output_type": "execute_result"
    }
   ],
   "source": [
    "query = {\n",
    "    'query': {\n",
    "        'bool': {\n",
    "            'must': {\n",
    "                'match': {\n",
    "                    'last_name': 'Jo'\n",
    "                }\n",
    "            },\n",
    "            'filter': {\n",
    "                'range': {\n",
    "                    'age': {'gte': 32}\n",
    "                }\n",
    "            }\n",
    "        }\n",
    "    }\n",
    "}\n",
    "es.search(index='megacorp', doc_type='employee', body=query)"
   ]
  }
 ],
 "metadata": {
  "kernelspec": {
   "display_name": "Python 2",
   "language": "python",
   "name": "python2"
  },
  "language_info": {
   "codemirror_mode": {
    "name": "ipython",
    "version": 2
   },
   "file_extension": ".py",
   "mimetype": "text/x-python",
   "name": "python",
   "nbconvert_exporter": "python",
   "pygments_lexer": "ipython2",
   "version": "2.7.12"
  }
 },
 "nbformat": 4,
 "nbformat_minor": 1
}
