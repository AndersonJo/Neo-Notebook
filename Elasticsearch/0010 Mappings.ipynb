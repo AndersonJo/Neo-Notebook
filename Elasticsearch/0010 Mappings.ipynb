{
 "cells": [
  {
   "cell_type": "code",
   "execution_count": 49,
   "metadata": {
    "collapsed": true
   },
   "outputs": [],
   "source": [
    "# -*- coding:utf-8 -*-\n",
    "from elasticsearch import Elasticsearch, RequestError\n",
    "from pprint import pprint as pp\n",
    "\n",
    "es = Elasticsearch([{'host': 'localhost', 'port': 9200}])"
   ]
  },
  {
   "cell_type": "markdown",
   "metadata": {},
   "source": [
    "# Simple Filed types\n",
    "\n",
    "1. String: string\n",
    "2. Whole number: byte, short, integer, long\n",
    "3. Floating-point: float, double\n",
    "4. Boolean: boolean\n",
    "5. Date: date"
   ]
  },
  {
   "cell_type": "markdown",
   "metadata": {},
   "source": [
    "# Customizing Field Mappings\n",
    "\n",
    "특히 string field에 대한 custom이 매우 중요합니다. Custom Mapping을 통해서 다음과 같은 일들을 할 수 있습니다.\n",
    "\n",
    "1. Full-text string fields와 exact value string field를 구분합니다.\n",
    "2. language-specific analyzers를 사용합니다.\n",
    "3. partial matching에 optimize를 합니다.\n",
    "4. custom date formats을 지정할수 있습니다.\n",
    "\n",
    "\n",
    "1. **type**: 가장 중요한 요소는 **type**입니다. 기본적으로 string field는 full-text로 간주됩니다.<br> 즉 value는 indexed되기전에 analyzer를 거칠것이고, full-text query또한 타게 됩니다.\n",
    "2. **index**: string이 어떻게 indexed 될 것인지 결정합니다. 그리고 3자기 요소를 갖고 있습니다.<br> - **analyzed**: string을 먼저 analyze하고 index를 합니다. 즉 full-text field가 됩니다. <br> - **not_analyzed**: 해당 필드를 index시킵니다. 즉 검색에 포함이됩니다. 하지만 정확하게 일치하는 검색이 됩니다. (analyze하지 않음) <br> - **no**: index하지 않습니다. 즉.. 검색되지 않습니다.\n",
    "3. **analyzer**: string field이고 index는 analyzed일때, 검색및 index time때 적용할 analyzer를 명시할수 있습니다.<br> 종류로는 whitespace, simple, english가 기본적으로 제공됩니다.\n",
    "\n",
    "```\n",
    " \"tag\": {\n",
    "        \"type\":     \"string\",\n",
    "        \"index\":    \"not_analyzed\",\n",
    "        \"analyzer\": \"english\"\n",
    "    }\n",
    "```\n",
    "\n"
   ]
  },
  {
   "cell_type": "markdown",
   "metadata": {},
   "source": [
    "# Create Index with mappings\n",
    "\n",
    "\n",
    "### Viewing the mappings\n",
    "아래의 코드를 실행후, [/test/_mapping](http://localhost:9200/test/_mapping)에 들어가보면 다음과 같은 결과를 얻을 수 있습니다.\n",
    "\n",
    "```\n",
    "{\n",
    "    \"test\": {\n",
    "        \"mappings\": {\n",
    "            \"types\": {\n",
    "                \"properties\": {\n",
    "                    \"about\": {\n",
    "                        \"type\": \"string\",\n",
    "                        \"analyzer\": \"simple\"\n",
    "                    },\n",
    "                    \"email\": {\n",
    "                        \"type\": \"string\",\n",
    "                        \"index\": \"not_analyzed\"\n",
    "                    },\n",
    "                    \"height\": {\n",
    "                        \"type\": \"float\"\n",
    "                    }\n",
    "                }\n",
    "            }\n",
    "        }\n",
    "    }\n",
    "}\n",
    "```\n",
    "\n",
    "### Mapping Structure\n",
    "기본적으로 mappings을 할때 사용되는 JSON구조는 다음과 같습니다.\n",
    "\n",
    "```\n",
    "{\n",
    "    'index 이름': {\n",
    "        'mappings': {\n",
    "            'type 이름': {\n",
    "                'properties': {\n",
    "                    ... fields 정의\n",
    "                }\n",
    "            }\n",
    "        }\n",
    "\n",
    "    }\n",
    "}\n",
    "```"
   ]
  },
  {
   "cell_type": "code",
   "execution_count": 18,
   "metadata": {
    "collapsed": false
   },
   "outputs": [
    {
     "data": {
      "text/plain": [
       "{u'acknowledged': True}"
      ]
     },
     "execution_count": 18,
     "metadata": {},
     "output_type": "execute_result"
    }
   ],
   "source": [
    "if es.indices.exists(index='test'):\n",
    "    es.indices.delete(index='test')\n",
    "    \n",
    "mapping = {\n",
    "    'mappings': {\n",
    "        'types': {\n",
    "            'properties':{\n",
    "                'email': {\n",
    "                    'type': 'string',\n",
    "                    'index': 'not_analyzed'\n",
    "                },\n",
    "                'height': {\n",
    "                    'type': 'float'\n",
    "                },\n",
    "                'about': {\n",
    "                    'type': 'string',\n",
    "                    'index': 'analyzed',\n",
    "                    'analyzer': 'simple'\n",
    "                }    \n",
    "            }\n",
    "        }\n",
    "    }\n",
    "}\n",
    "    \n",
    "es.indices.create(index='test', ignore=400, body=mapping)"
   ]
  },
  {
   "cell_type": "markdown",
   "metadata": {},
   "source": [
    "# 잘못된 type으로 index를 할때\n",
    "\n",
    "위의 코드에서 mappings을 정의해주었습니다. 이때 잘못된 type을 index하려고 한다면 Elasticsearch는 Error를 내보냅니다."
   ]
  },
  {
   "cell_type": "code",
   "execution_count": 27,
   "metadata": {
    "collapsed": false
   },
   "outputs": [
    {
     "name": "stdout",
     "output_type": "stream",
     "text": [
      "TransportError(400, u'MapperParsingException[failed to parse [height]]; nested: NumberFormatException[For input string: \"Tall\"]; ')\n"
     ]
    }
   ],
   "source": [
    "try:\n",
    "    es.create(index='test', doc_type='types', body={\n",
    "            'email': 123,\n",
    "            'height': 'Tall',\n",
    "            'about': 'This is wrong'\n",
    "        })\n",
    "except RequestError as e:\n",
    "    print e"
   ]
  },
  {
   "cell_type": "code",
   "execution_count": 28,
   "metadata": {
    "collapsed": false
   },
   "outputs": [
    {
     "data": {
      "text/plain": [
       "{u'_id': u'OojIU9lSSIiLZBSJNXKYbg',\n",
       " u'_index': u'test',\n",
       " u'_type': u'types',\n",
       " u'_version': 1,\n",
       " u'created': True}"
      ]
     },
     "execution_count": 28,
     "metadata": {},
     "output_type": "execute_result"
    }
   ],
   "source": [
    "es.create(index='test', doc_type='types', body={\n",
    "        'email': 'a141890@gmail.com',\n",
    "        'height': 183,\n",
    "        'about': 'This is good'\n",
    "    })"
   ]
  },
  {
   "cell_type": "markdown",
   "metadata": {},
   "source": [
    "# Updating a Mapping\n",
    "\n",
    "기존의 Mapping에 새로운 Type으로 정의할수 있습니다.<br>\n",
    "먼저 Elasticsearch가 자동으로 만들도록 합니다. <br>\n",
    "[Mapping을 확인](http://localhost:9200/test/_mapping/up)해보면 다음과 같이 나옵니다.\n",
    "\n",
    "```\n",
    "{\n",
    "    \"test\": {\n",
    "        \"mappings\": {\n",
    "            \"up\": {\n",
    "                \"properties\": {\n",
    "                    \"age\": {\n",
    "                        \"type\": \"long\"\n",
    "                    },\n",
    "                    \"height\": {\n",
    "                        \"type\": \"double\"\n",
    "                    },\n",
    "                    \"hobby\": {\n",
    "                        \"type\": \"string\"\n",
    "                    },\n",
    "                    \"name\": {\n",
    "                        \"type\": \"string\"\n",
    "                    }\n",
    "                }\n",
    "            }\n",
    "        }\n",
    "    }\n",
    "}\n",
    "\n",
    "```"
   ]
  },
  {
   "cell_type": "code",
   "execution_count": 54,
   "metadata": {
    "collapsed": false
   },
   "outputs": [
    {
     "data": {
      "text/plain": [
       "{u'_id': u'1',\n",
       " u'_index': u'test',\n",
       " u'_type': u'up',\n",
       " u'_version': 1,\n",
       " u'created': True}"
      ]
     },
     "execution_count": 54,
     "metadata": {},
     "output_type": "execute_result"
    }
   ],
   "source": [
    "es.index(index='test', doc_type='up', id=1, body={\n",
    "        'name': 'Anderson',\n",
    "        'age': 33,\n",
    "        'height': 182.2,\n",
    "        'hobby': ['fishing', 'watching a movie', 'drive']\n",
    "    })"
   ]
  },
  {
   "cell_type": "code",
   "execution_count": 56,
   "metadata": {
    "collapsed": false
   },
   "outputs": [
    {
     "data": {
      "text/plain": [
       "{u'acknowledged': True}"
      ]
     },
     "execution_count": 56,
     "metadata": {},
     "output_type": "execute_result"
    }
   ],
   "source": [
    "mappnig = {\n",
    "    'up': {\n",
    "        'properties': {\n",
    "            'name': {'type': 'string', 'index': 'not_analyzed' },\n",
    "            'age': {'type': 'integer'},\n",
    "            'height': {'type': 'float'},\n",
    "            'hobby': {'type': 'string', 'index': 'analyzed', 'analyzer': 'english'},\n",
    "            'new': {'type': 'text'}\n",
    "        }    \n",
    "    }\n",
    "}\n",
    "es.indices.put_mapping(index='test', doc_type='up', body=mapping)"
   ]
  }
 ],
 "metadata": {
  "kernelspec": {
   "display_name": "Python 2",
   "language": "python",
   "name": "python2"
  },
  "language_info": {
   "codemirror_mode": {
    "name": "ipython",
    "version": 2
   },
   "file_extension": ".py",
   "mimetype": "text/x-python",
   "name": "python",
   "nbconvert_exporter": "python",
   "pygments_lexer": "ipython2",
   "version": "2.7.12"
  }
 },
 "nbformat": 4,
 "nbformat_minor": 1
}
