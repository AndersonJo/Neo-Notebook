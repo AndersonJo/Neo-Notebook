{
 "cells": [
  {
   "cell_type": "code",
   "execution_count": 1,
   "metadata": {
    "collapsed": false
   },
   "outputs": [
    {
     "name": "stdout",
     "output_type": "stream",
     "text": [
      "Populating the interactive namespace from numpy and matplotlib\n",
      "OpenCV Version: 3.1.0-dev\n"
     ]
    }
   ],
   "source": [
    "# -*- coding:utf-8 -*-\n",
    "%pylab inline\n",
    "from elasticsearch import Elasticsearch\n",
    "from pprint import pprint as pp\n",
    "from lshash import LSHash\n",
    "import base64\n",
    "import cv2\n",
    "import numpy as np\n",
    "print 'OpenCV Version: ' + cv2.__version__\n",
    "\n",
    "es = Elasticsearch([{'host': 'localhost', 'port': 9200}])"
   ]
  },
  {
   "cell_type": "markdown",
   "metadata": {},
   "source": [
    "# Create an Index\n",
    "\n",
    "인덱스를 새로 만들어줍니다. 이때 Mapping은 아래의 코드와 같이 만들어줍니다.<br>\n",
    "[/images/_mapping/samples/](http://localhost:9200/images/_mapping/samples/) 에 들어가면 확인할수 있습니다."
   ]
  },
  {
   "cell_type": "code",
   "execution_count": 78,
   "metadata": {
    "collapsed": false
   },
   "outputs": [],
   "source": [
    "if es.indices.exists(index='images'):\n",
    "    es.indices.delete(index='images')"
   ]
  },
  {
   "cell_type": "code",
   "execution_count": 79,
   "metadata": {
    "collapsed": false
   },
   "outputs": [
    {
     "data": {
      "text/plain": [
       "{u'acknowledged': True}"
      ]
     },
     "execution_count": 79,
     "metadata": {},
     "output_type": "execute_result"
    }
   ],
   "source": [
    "mapping = {\n",
    "    'mappings': {\n",
    "        'test': {\n",
    "            \"properties\": {\n",
    "                \"name\": {\n",
    "                    \"type\": \"string\"\n",
    "                },\n",
    "                \"image\": {\n",
    "                    \"type\": \"image\",\n",
    "                    \"feature\": {\n",
    "                        \"CEDD\": {\n",
    "                            \"hash\": [\n",
    "                                \"BIT_SAMPLING\",\n",
    "                                \"LSH\"\n",
    "                            ]\n",
    "                        },\n",
    "                        \"JCD\": {\n",
    "                            \"hash\": [\n",
    "                                \"BIT_SAMPLING\",\n",
    "                                \"LSH\"\n",
    "                            ]\n",
    "                        },\n",
    "                        \"FCTH\": {}\n",
    "                    },\n",
    "                \"metadata\": {\n",
    "                    \"jpeg.image_width\": {\n",
    "                        \"type\": \"string\",\n",
    "                        \"store\": \"yes\"\n",
    "                    },\n",
    "                    \"jpeg.image_height\": {\n",
    "                        \"type\": \"string\",\n",
    "                        \"store\": \"yes\"\n",
    "                    }\n",
    "                }\n",
    "                }                \n",
    "            }\n",
    "        }\n",
    "    }\n",
    "}\n",
    "\n",
    "es.indices.create(index='images', ignore=400, body=mapping)"
   ]
  },
  {
   "cell_type": "markdown",
   "metadata": {},
   "source": [
    "# Index Images to Elasticsearch"
   ]
  },
  {
   "cell_type": "code",
   "execution_count": 80,
   "metadata": {
    "collapsed": false
   },
   "outputs": [
    {
     "data": {
      "text/plain": [
       "{u'_id': u'1',\n",
       " u'_index': u'images',\n",
       " u'_type': u'test',\n",
       " u'_version': 1,\n",
       " u'created': True}"
      ]
     },
     "execution_count": 80,
     "metadata": {},
     "output_type": "execute_result"
    }
   ],
   "source": [
    "img = open('../data/images/rainbowsix.jpg', 'rb').read()\n",
    "\n",
    "body = {\n",
    "    'name': 'rainboxsix.jpg',\n",
    "    'image': base64.b64encode(img)\n",
    "}\n",
    "# es.create(index='images', doc_type='test', body=body)\n",
    "es.index(index='images', doc_type='test', id=1, body=body)"
   ]
  },
  {
   "cell_type": "markdown",
   "metadata": {},
   "source": [
    "# Searching"
   ]
  },
  {
   "cell_type": "code",
   "execution_count": 88,
   "metadata": {
    "collapsed": false
   },
   "outputs": [
    {
     "data": {
      "text/plain": [
       "{u'_shards': {u'failed': 0, u'successful': 5, u'total': 5},\n",
       " u'hits': {u'hits': [{u'_id': u'1',\n",
       "    u'_index': u'images',\n",
       "    u'_score': 0.08223946,\n",
       "    u'_type': u'test',\n",
       "    u'fields': {u'name': [u'rainboxsix.jpg']}}],\n",
       "  u'max_score': 0.08223946,\n",
       "  u'total': 1},\n",
       " u'timed_out': False,\n",
       " u'took': 93}"
      ]
     },
     "execution_count": 88,
     "metadata": {},
     "output_type": "execute_result"
    }
   ],
   "source": [
    "img2 = open('../data/images/rainbosix_cropped.jpg', 'rb').read()\n",
    "\n",
    "es.search(index='images', body ={\n",
    "        'fields': ['name'],\n",
    "        'query': {\n",
    "            'image': {\n",
    "                'image': {\n",
    "                    'feature': 'JCD',\n",
    "                    'image': base64.b64encode(img2),\n",
    "                    'hash': 'LSH',\n",
    "                    'limit': 10\n",
    "                }\n",
    "            }\n",
    "        }\n",
    "    })"
   ]
  },
  {
   "cell_type": "code",
   "execution_count": null,
   "metadata": {
    "collapsed": true
   },
   "outputs": [],
   "source": []
  }
 ],
 "metadata": {
  "kernelspec": {
   "display_name": "Python 2",
   "language": "python",
   "name": "python2"
  },
  "language_info": {
   "codemirror_mode": {
    "name": "ipython",
    "version": 2
   },
   "file_extension": ".py",
   "mimetype": "text/x-python",
   "name": "python",
   "nbconvert_exporter": "python",
   "pygments_lexer": "ipython2",
   "version": "2.7.12"
  }
 },
 "nbformat": 4,
 "nbformat_minor": 1
}
