{
 "cells": [
  {
   "cell_type": "markdown",
   "metadata": {},
   "source": [
    "# 중요한 몇줄..\n",
    "\n",
    "1. [/_search](http://localhost:9200/_search)를 하면 cluster안에 있는 모든 documents를 가져오게 됩니다. (주의 필요!)\n",
    "2. In Elasticsearch, all data in every field is indexed by default. \n",
    "3. POST는 ID를 지정안해도 되고, PUT은 ID를 지정해야함.. (PUT는 특정 URL Resource에 넣으라는 뜻이고, POST는 만들라는 뜻이기 때문)"
   ]
  },
  {
   "cell_type": "markdown",
   "metadata": {},
   "source": [
    "# Multi-Index, MultiType\n",
    "\n",
    "| URL | Description |\n",
    "|:----|:------------|\n",
    "| /_search | Search all types in all indices |\n",
    "| /gb/_search | Search all types in the gb index |\n",
    "| /gb,us/_search | Search all types in the gb and us indices |\n",
    "| /g*,u*/_search | Search all types in any indices beginning with g or beginning with u |\n",
    "| /gb/user/_search | Search type user in the gb index |\n",
    "| /gb,us/user,tweet/_search | Search types user and tweet in the gb and us indices|\n",
    "| /_all/user,tweet/_search | Search types user and tweet in all indices |"
   ]
  },
  {
   "cell_type": "markdown",
   "metadata": {},
   "source": [
    "# Pagination\n",
    "\n",
    "* size: 몇건의 documents를 가져올지 정합니다.\n",
    "* from: 해당 int만큼 앞부분을 skip합니다.\n",
    "\n",
    "예를 들어서 한페이지에 5개씩 문서가 보이도록 만드려면, 다음과 같은 requests가 필요할 것입니다.\n",
    "\n",
    "```\n",
    "GET /_search?size=5\n",
    "GET /_search?size=5&from=5\n",
    "GET /_search?size=5&from=10\n",
    "```"
   ]
  },
  {
   "cell_type": "code",
   "execution_count": 3,
   "metadata": {
    "collapsed": true
   },
   "outputs": [],
   "source": [
    "# -*- coding:utf-8 -*-\n",
    "from elasticsearch import Elasticsearch\n",
    "from pprint import pprint as pp\n",
    "from datetime import datetime\n",
    "\n",
    "es = Elasticsearch([{'host': 'localhost', 'port': 9200}])"
   ]
  },
  {
   "cell_type": "markdown",
   "metadata": {},
   "source": [
    "# Index example data\n",
    "\n",
    "[/us/tweet/_search](http://localhost:9200/us/tweet/_search)에서 확인가능합니다.<br>\n",
    "이때 중요하게 볼 점은 **hints**안의  **total** 그리고 **max_score** 입니다."
   ]
  },
  {
   "cell_type": "code",
   "execution_count": 5,
   "metadata": {
    "collapsed": false
   },
   "outputs": [
    {
     "data": {
      "text/plain": [
       "{u'_id': u'1',\n",
       " u'_index': u'us',\n",
       " u'_shards': {u'failed': 0, u'successful': 1, u'total': 2},\n",
       " u'_type': u'tweet',\n",
       " u'_version': 2,\n",
       " u'created': False,\n",
       " u'result': u'updated'}"
      ]
     },
     "execution_count": 5,
     "metadata": {},
     "output_type": "execute_result"
    }
   ],
   "source": [
    "es.index(index='us', doc_type='tweet', id=1, body={'date': datetime.now(), \n",
    "                                                   'name': 'John Smith',\n",
    "                                                   'tweet': 'The Query DSL is really powerful and flexible'})"
   ]
  },
  {
   "cell_type": "markdown",
   "metadata": {},
   "source": [
    "# Mapping\n",
    "\n",
    "예를 들어서 [/us/_mapping/tweet/](http://localhost:9200/us/_mapping/tweet/) 에 들어가면 어떻게 Fields들이 정의되어 있는지 알 수 있습니다. <br>\n",
    "따라서 date가 string으로 또는 date type으로 어떻게 해석되느냐에 따라서 검색 결과가 달라집니다."
   ]
  },
  {
   "cell_type": "code",
   "execution_count": 15,
   "metadata": {
    "collapsed": false
   },
   "outputs": [
    {
     "name": "stdout",
     "output_type": "stream",
     "text": [
      "{u'us': {u'mappings': {u'tweet': {u'properties': {u'date': {u'type': u'date'},\n",
      "                                                  u'name': {u'fields': {u'keyword': {u'ignore_above': 256,\n",
      "                                                                                     u'type': u'keyword'}},\n",
      "                                                            u'type': u'text'},\n",
      "                                                  u'tweet': {u'fields': {u'keyword': {u'ignore_above': 256,\n",
      "                                                                                      u'type': u'keyword'}},\n",
      "                                                             u'type': u'text'}}}}}}\n"
     ]
    }
   ],
   "source": [
    "pp(es.indices.get_mapping(index='us', doc_type='tweet'))"
   ]
  },
  {
   "cell_type": "markdown",
   "metadata": {},
   "source": [
    "# Inverted Index \n",
    "\n",
    "Elasticsearch는 Inverted Index를 사용하여 full-text Search를 빠르게 처리합니다.<br>\n",
    "Inverted Index는 a list of all the unique words로 구성되어 있습니다. \n",
    "\n",
    "예를 들어서 2개의 documents가 있으며, content field에 저장되어 있습니다. \n",
    "\n",
    "* The quick brown fox jumped over the lazy dog\n",
    "* Quick brown foxes leap over lazy dogs in summer\n",
    "\n",
    "Inverted Index를 만들기 위해서는, 각각 documents안의 content field를 단어들로 seperate해줍니다. (이때 각각 생성된 단어들은 terms 또는 tokens 이라고 부릅니다.) 그다음 terms 들을 모두 sort해주고, 각각의 documents에 나온대로 list를 만들어줍니다.\n",
    "\n",
    "```\n",
    "Term      Doc_1  Doc_2\n",
    "-------------------------\n",
    "Quick   |       |  X\n",
    "The     |   X   |\n",
    "brown   |   X   |  X\n",
    "dog     |   X   |\n",
    "dogs    |       |  X\n",
    "fox     |   X   |\n",
    "foxes   |       |  X\n",
    "in      |       |  X\n",
    "jumped  |   X   |\n",
    "lazy    |   X   |  X\n",
    "leap    |       |  X\n",
    "over    |   X   |  X\n",
    "quick   |   X   |\n",
    "summer  |       |  X\n",
    "the     |   X   |\n",
    "------------------------\n",
    "```\n",
    "\n",
    "**quick brown**이라고 검색을 하면 다음과 같은 경과과 나오게 됩니다.\n",
    "\n",
    "```\n",
    "Term      Doc_1  Doc_2\n",
    "-------------------------\n",
    "brown   |   X   |  X\n",
    "quick   |   X   |\n",
    "------------------------\n",
    "Total   |   2   |  1\n",
    "```\n",
    "\n",
    "Naive Similarity Algorithm (단순히 매칭되는 갯수로 판단) 을 사용하면 첫번재 Document가 더 query와 관련있다고 말할 수 있습니다. <br>\n",
    "하지만 여기에는 몇가지 문제점이 있습니다.\n",
    "\n",
    "1. Quick 그리고 quick은 서로 다른 terms입니다. 하지만 user는 같은 단어로 생각하고 query를 날렸을 것입니다.\n",
    "2. fox 그리고 foxes는 매우 유사합니다. (dog 그리고 dogs처럼..) 이 단어들은 같은 **root word** 입니다.\n",
    "3. jumped 그리고 leap은 같은 root word는 아니지만, 의미상 같은 의미입니다. (동의어)"
   ]
  }
 ],
 "metadata": {
  "kernelspec": {
   "display_name": "Python 2",
   "language": "python",
   "name": "python2"
  },
  "language_info": {
   "codemirror_mode": {
    "name": "ipython",
    "version": 2
   },
   "file_extension": ".py",
   "mimetype": "text/x-python",
   "name": "python",
   "nbconvert_exporter": "python",
   "pygments_lexer": "ipython2",
   "version": "2.7.12"
  }
 },
 "nbformat": 4,
 "nbformat_minor": 1
}
