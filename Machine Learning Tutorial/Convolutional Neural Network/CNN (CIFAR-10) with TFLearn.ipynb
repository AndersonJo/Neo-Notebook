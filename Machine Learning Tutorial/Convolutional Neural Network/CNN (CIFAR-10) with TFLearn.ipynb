{
 "cells": [
  {
   "cell_type": "code",
   "execution_count": 91,
   "metadata": {
    "collapsed": false
   },
   "outputs": [
    {
     "name": "stdout",
     "output_type": "stream",
     "text": [
      "Populating the interactive namespace from numpy and matplotlib\n"
     ]
    },
    {
     "name": "stderr",
     "output_type": "stream",
     "text": [
      "/usr/local/lib/python2.7/dist-packages/IPython/core/magics/pylab.py:161: UserWarning: pylab import has clobbered these variables: ['shuffle']\n",
      "`%matplotlib` prevents importing * from pylab and numpy\n",
      "  \"\\n`%matplotlib` prevents importing * from pylab and numpy\"\n"
     ]
    }
   ],
   "source": [
    "%pylab inline\n",
    "from __future__ import division, print_function, absolute_import\n",
    "\n",
    "import tflearn\n",
    "import numpy as np\n",
    "from pprint import pprint\n",
    "from PIL import Image\n",
    "from tflearn.data_utils import shuffle, to_categorical\n",
    "from tflearn.layers.core import input_data, dropout, fully_connected\n",
    "from tflearn.layers.conv import conv_2d, max_pool_2d\n",
    "from tflearn.layers.estimator import regression\n",
    "from tflearn.data_preprocessing import ImagePreprocessing\n",
    "from tflearn.data_augmentation import ImageAugmentation"
   ]
  },
  {
   "cell_type": "markdown",
   "metadata": {},
   "source": [
    "### Download CIFAR-10 and Prepare X, and Y dataset\n",
    "\n",
    "| Variable | Shape   | Description |\n",
    "|:---------|:--------|:------------|\n",
    "|   X      | (50000, 32, 32, 3)    | 32 * 32 (RGB 3개) 이미지들 50000개의 데이터셋 |\n",
    "|   Y      | (50000, 10)           | [0, 0, 0, 1, 0, 0, 0, 0, 0, 0] 처럼 정답이 들어 있는 50000개의 데이터셋 |\n",
    "| X_test   | (10000, 32, 32, 3)    | 10000개의 테스트 데이터셋 |\n",
    "| Y_test   | (10000, 10)           | 10000개의 정답이 들어있는 테스트 데이터 셋 |\n",
    "\n",
    "\n",
    "**to_categorical(Y, 10)** <br>\n",
    "원래 Y의 값은 1 dimentional array (50000,) 로서 5만개의 정답을 갖고 있는 데이터셋. <br>\n",
    "하지만 to_categorical 함수를 거치면 [0, 0, 0, 1, 0, 0, 0, 0, 0, 0] 처럼 머신러닝에서 사용가능한 패턴으로 변화됨\n"
   ]
  },
  {
   "cell_type": "code",
   "execution_count": 15,
   "metadata": {
    "collapsed": true
   },
   "outputs": [],
   "source": [
    "# Data loading and preprocessing\n",
    "from tflearn.datasets import cifar10\n",
    "(X, Y), (X_test, Y_test) = cifar10.load_data()\n",
    "X, Y = shuffle(X, Y)\n",
    "Y = to_categorical(Y, 10)\n",
    "Y_test = to_categorical(Y_test, 10)"
   ]
  },
  {
   "cell_type": "code",
   "execution_count": 22,
   "metadata": {
    "collapsed": true
   },
   "outputs": [],
   "source": [
    "# Real-time data preprocessing\n",
    "img_prep = ImagePreprocessing()\n",
    "img_prep.add_featurewise_zero_center()\n",
    "img_prep.add_featurewise_stdnorm()\n"
   ]
  },
  {
   "cell_type": "code",
   "execution_count": 23,
   "metadata": {
    "collapsed": true
   },
   "outputs": [],
   "source": [
    "# Real-time data augmentation\n",
    "img_aug = ImageAugmentation()\n",
    "img_aug.add_random_flip_leftright()\n",
    "img_aug.add_random_rotation(max_angle=25.)\n"
   ]
  },
  {
   "cell_type": "code",
   "execution_count": 24,
   "metadata": {
    "collapsed": true
   },
   "outputs": [],
   "source": [
    "# Convolutional network building\n",
    "network = input_data(shape=[None, 32, 32, 3],\n",
    "                     data_preprocessing=img_prep,\n",
    "                     data_augmentation=img_aug)\n",
    "network = conv_2d(network, 32, 3, activation='relu')\n",
    "network = max_pool_2d(network, 2)\n",
    "network = conv_2d(network, 64, 3, activation='relu')\n",
    "network = conv_2d(network, 64, 3, activation='relu')\n",
    "network = max_pool_2d(network, 2)\n",
    "network = fully_connected(network, 512, activation='relu')\n",
    "network = dropout(network, 0.5)\n",
    "network = fully_connected(network, 10, activation='softmax')\n",
    "network = regression(network, optimizer='adam',\n",
    "                     loss='categorical_crossentropy',\n",
    "                     learning_rate=0.001)\n"
   ]
  },
  {
   "cell_type": "code",
   "execution_count": 25,
   "metadata": {
    "collapsed": false
   },
   "outputs": [
    {
     "name": "stdout",
     "output_type": "stream",
     "text": [
      "Training Step: 26050  | total loss: \u001b[1m\u001b[32m0.37202\u001b[0m\u001b[0m\n",
      "| Adam | epoch: 050 | loss: 0.37202 - acc: 0.8723 | val_loss: 0.67760 - val_acc: 0.8154 -- iter: 50000/50000\n",
      "Training Step: 26050  | total loss: \u001b[1m\u001b[32m0.37202\u001b[0m\u001b[0m\n",
      "| Adam | epoch: 050 | loss: 0.37202 - acc: 0.8723 | val_loss: 0.67760 - val_acc: 0.8154 -- iter: 50000/50000\n",
      "--\n"
     ]
    }
   ],
   "source": [
    "# Train using classifier\n",
    "model = tflearn.DNN(network, tensorboard_verbose=0)\n",
    "model.fit(X, Y, n_epoch=50, shuffle=True, validation_set=(X_test, Y_test),\n",
    "          show_metric=True, batch_size=96, run_id='cifar10_cnn')"
   ]
  },
  {
   "cell_type": "markdown",
   "metadata": {},
   "source": [
    "### TensorBoard\n",
    "\n",
    "아래의 코드를 통해서 Graph를 볼 수 있습니다.\n",
    "\n",
    "```\n",
    "tensorboard --logdir='/tmp/tflearn_logs'\n",
    "```\n"
   ]
  },
  {
   "cell_type": "code",
   "execution_count": 159,
   "metadata": {
    "collapsed": false
   },
   "outputs": [
    {
     "name": "stdout",
     "output_type": "stream",
     "text": [
      "Predict\n",
      "[[4.0301410731330883e-17,\n",
      "  1.984033701774024e-07,\n",
      "  1.308805266897497e-16,\n",
      "  3.92242015437439e-18,\n",
      "  5.195401066204092e-22,\n",
      "  1.0799233868966178e-20,\n",
      "  4.716609702171506e-22,\n",
      "  4.3049110545583245e-19,\n",
      "  1.0658509665140148e-12,\n",
      "  0.9999997615814209]]\n",
      "\n",
      "Answer\n",
      "[[0.0, 0.0, 0.0, 0.0, 0.0, 0.0, 0.0, 0.0, 0.0, 1.0]]\n"
     ]
    }
   ],
   "source": [
    "print('Predict')\n",
    "pprint(model.predict(X[100:101].copy()))\n",
    "\n",
    "print('\\nAnswer')\n",
    "pprint(Y[100:101].tolist())\n"
   ]
  },
  {
   "cell_type": "code",
   "execution_count": 158,
   "metadata": {
    "collapsed": false
   },
   "outputs": [
    {
     "data": {
      "text/plain": [
       "<tf.Tensor 'FullyConnected_1/Softmax:0' shape=(?, 10) dtype=float32>"
      ]
     },
     "execution_count": 158,
     "metadata": {},
     "output_type": "execute_result"
    }
   ],
   "source": []
  },
  {
   "cell_type": "code",
   "execution_count": null,
   "metadata": {
    "collapsed": true
   },
   "outputs": [],
   "source": []
  }
 ],
 "metadata": {
  "kernelspec": {
   "display_name": "Python 2",
   "language": "python",
   "name": "python2"
  },
  "language_info": {
   "codemirror_mode": {
    "name": "ipython",
    "version": 2
   },
   "file_extension": ".py",
   "mimetype": "text/x-python",
   "name": "python",
   "nbconvert_exporter": "python",
   "pygments_lexer": "ipython2",
   "version": "2.7.12"
  }
 },
 "nbformat": 4,
 "nbformat_minor": 0
}
