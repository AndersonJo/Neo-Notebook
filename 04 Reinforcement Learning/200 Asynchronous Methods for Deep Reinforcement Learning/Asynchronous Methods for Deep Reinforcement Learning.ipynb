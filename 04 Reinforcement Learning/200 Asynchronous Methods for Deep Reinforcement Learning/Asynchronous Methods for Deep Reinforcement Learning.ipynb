{
 "cells": [
  {
   "cell_type": "markdown",
   "metadata": {},
   "source": [
    "# Asynchronous Methods for Deep Reinforcement Learning\n",
    "\n",
    "* [Google DeepMind - Asynchronous Methods for Deep Reinforcement Learning](https://arxiv.org/pdf/1602.01783.pdf)"
   ]
  },
  {
   "cell_type": "markdown",
   "metadata": {},
   "source": [
    "### Reinforcement Learning Background\n",
    "\n",
    "| Sign | Description |\n",
    "|:----:|:------------|\n",
    "| $ \\mathcal{E} $ | environment |\n",
    "| $ A $ | a set of possible actions |\n",
    "| $ \\pi $ | policy - state $ s_t $ 로부터 actions $ a_t $를 매핑한것 |\n",
    "\n",
    "\n",
    "Agent는 environment $ \\mathcal{E} $와 interact합니다. <br>\n",
    "각각의 time step $ t $ 마다 Agent는 state $ s_t $값을 받고, 가능한 모든 actions들 가운데.. action $ a_t $를 선택합니다.\n",
    "\n",
    "\n",
    "**Return**\n",
    "### $$ R_t = \\sum^{\\infty}_{k=0} \\gamma^{k} r_{t+k} $$"
   ]
  }
 ],
 "metadata": {
  "kernelspec": {
   "display_name": "Python 3",
   "language": "python",
   "name": "python3"
  },
  "language_info": {
   "codemirror_mode": {
    "name": "ipython",
    "version": 3
   },
   "file_extension": ".py",
   "mimetype": "text/x-python",
   "name": "python",
   "nbconvert_exporter": "python",
   "pygments_lexer": "ipython3",
   "version": "3.6.0"
  }
 },
 "nbformat": 4,
 "nbformat_minor": 2
}
