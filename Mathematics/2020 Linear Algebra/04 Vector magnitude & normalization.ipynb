{
 "cells": [
  {
   "cell_type": "markdown",
   "metadata": {},
   "source": [
    "# Vector magnitude & normalization\n",
    "\n",
    "* [Vector magnitude & normalization](https://www.khanacademy.org/computing/computer-programming/programming-natural-simulations/programming-vectors/a/vector-magnitude-normalization)\n",
    "* [Basic Vector](https://www.mathsisfun.com/algebra/vectors.html)"
   ]
  },
  {
   "cell_type": "code",
   "execution_count": 16,
   "metadata": {
    "collapsed": true
   },
   "outputs": [],
   "source": [
    "import numpy as np\n",
    "from numpy import linalg as la"
   ]
  },
  {
   "cell_type": "code",
   "execution_count": 39,
   "metadata": {
    "collapsed": true
   },
   "outputs": [],
   "source": [
    "data = np.array([1, 2, 6, 10, 5, 2])"
   ]
  },
  {
   "cell_type": "markdown",
   "metadata": {},
   "source": [
    "### Magnitude\n",
    "\n",
    "어떤 vector의 길이(length)를  magnitude라고 함.\n",
    "\n",
    "### $$ \\parallel v \\parallel = \\sqrt{\\sum^n {x^2_1 +  x^2_2 + x^2_3 + ... + x^2_n }}  = \\sqrt{\\sum^n_{i=1} x^2_i }  $$"
   ]
  },
  {
   "cell_type": "markdown",
   "metadata": {},
   "source": [
    "### Normalization\n",
    "\n",
    "vector의 방향은 바꾸지 않은채, magnitude를 normalize함. \n",
    "\n",
    "### $$ \\hat{v} = \\frac{v}{ \\parallel v \\parallel } $$"
   ]
  },
  {
   "cell_type": "code",
   "execution_count": 49,
   "metadata": {
    "collapsed": false
   },
   "outputs": [
    {
     "name": "stdout",
     "output_type": "stream",
     "text": [
      "Data: [ 1  2  6 10  5  2]\n",
      "\n",
      "Anderson Magnitude:\t13.0384048104\n",
      "Numpy Magnitude:\t13.0384048104\n",
      "\n",
      "Normalized: [ 0.0766965   0.153393    0.46017899  0.76696499  0.38348249  0.153393  ]\n"
     ]
    }
   ],
   "source": [
    "def magnitude(data):\n",
    "    return np.sqrt(np.square(data).sum())\n",
    "\n",
    "def normalize(data):\n",
    "    return data/magnitude(data)\n",
    "\n",
    "print 'Data:', data\n",
    "print \n",
    "print 'Anderson Magnitude:\\t', magnitude(data)\n",
    "print 'Numpy Magnitude:\\t', la.norm(data)\n",
    "print\n",
    "print 'Normalized:', normalize(data)"
   ]
  }
 ],
 "metadata": {
  "kernelspec": {
   "display_name": "Python 2",
   "language": "python",
   "name": "python2"
  },
  "language_info": {
   "codemirror_mode": {
    "name": "ipython",
    "version": 2
   },
   "file_extension": ".py",
   "mimetype": "text/x-python",
   "name": "python",
   "nbconvert_exporter": "python",
   "pygments_lexer": "ipython2",
   "version": "2.7.12"
  }
 },
 "nbformat": 4,
 "nbformat_minor": 1
}
