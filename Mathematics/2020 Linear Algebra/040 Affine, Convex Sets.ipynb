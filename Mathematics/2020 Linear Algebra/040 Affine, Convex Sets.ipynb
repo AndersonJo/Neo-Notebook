{
 "cells": [
  {
   "cell_type": "code",
   "execution_count": 13,
   "metadata": {
    "collapsed": false
   },
   "outputs": [
    {
     "name": "stdout",
     "output_type": "stream",
     "text": [
      "Populating the interactive namespace from numpy and matplotlib\n"
     ]
    }
   ],
   "source": [
    "%pylab inline\n",
    "import numpy as np"
   ]
  },
  {
   "cell_type": "markdown",
   "metadata": {},
   "source": [
    "# Affine Set\n",
    "\n",
    "line이 $ x_1, x_2$을 지나갈때.. 여기에 속하는 모든 points. \n",
    "\n",
    "$$ \\text{point} = \\theta x_1 + (1-\\theta)x_2 , \\ \\theta \\in \\textbf{R} $$\n",
    "\n",
    "\n",
    "예를 들어서 (2, 3) 에서 (4, 5)를 지나가는 선이 있고, 이 선위의 점을 찾으려면 Affine Set을 구하면 됩니다. <br>\n",
    "0에 가까울수록 두번째 point에 가깝고, 1에 가까울수록 첫번째 point에 가깝습니다."
   ]
  },
  {
   "cell_type": "code",
   "execution_count": 84,
   "metadata": {
    "collapsed": false
   },
   "outputs": [
    {
     "data": {
      "image/png": "[encoded data removed]",
      "text/plain": [
       "<matplotlib.figure.Figure at 0x7f7a36e0c438>"
      ]
     },
     "metadata": {},
     "output_type": "display_data"
    }
   ],
   "source": [
    "def affine(a, b, theta=0.2):\n",
    "    return theta * a + (1-theta)* b\n",
    "\n",
    "a = np.array([2, 3])\n",
    "b = np.array([4, 5])\n",
    "\n",
    "\n",
    "affine_points = [affine(a, b, theta) for theta in np.arange(-0.5, 1.1, 0.1)]\n",
    "x, y = [x for x in zip(*affine_points)]\n",
    "\n",
    "plot(*[x for x in  zip(a, b)])\n",
    "scatter(x, y, color='#ff5345')\n",
    "grid()"
   ]
  },
  {
   "cell_type": "markdown",
   "metadata": {},
   "source": [
    "# Convex Set\n",
    "\n"
   ]
  },
  {
   "cell_type": "code",
   "execution_count": 88,
   "metadata": {
    "collapsed": false
   },
   "outputs": [
    {
     "data": {
      "image/png": "[encoded data removed]",
      "text/plain": [
       "<matplotlib.figure.Figure at 0x7f7a36781710>"
      ]
     },
     "metadata": {},
     "output_type": "display_data"
    }
   ],
   "source": [
    "x = np.linspace(0, 1, 500)\n",
    "y = np.sin(4 * np.pi * x) * np.exp(-5 * x)\n",
    "\n",
    "\n",
    "fill(x, y, zorder=10)\n",
    "grid(True, zorder=5)"
   ]
  },
  {
   "cell_type": "markdown",
   "metadata": {},
   "source": [
    "### References\n",
    "\n",
    "* http://www-personal.umich.edu/~mepelman/teaching/IOE611/Handouts/Sets.pdf"
   ]
  }
 ],
 "metadata": {
  "kernelspec": {
   "display_name": "Python 3",
   "language": "python",
   "name": "python3"
  },
  "language_info": {
   "codemirror_mode": {
    "name": "ipython",
    "version": 3
   },
   "file_extension": ".py",
   "mimetype": "text/x-python",
   "name": "python",
   "nbconvert_exporter": "python",
   "pygments_lexer": "ipython3",
   "version": "3.6.0"
  }
 },
 "nbformat": 4,
 "nbformat_minor": 2
}
