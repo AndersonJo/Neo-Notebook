{
 "cells": [
  {
   "cell_type": "markdown",
   "metadata": {},
   "source": [
    "# Linear Dependence\n",
    "\n",
    "다음과 같은 조건을 만족하는 linear combination이 존재한다면 linearly dependent입니다.\n",
    "\n",
    "### $$ c_1x_1 + c_2x_2 + ... + c_mx_m = 0 $$ \n",
    "\n",
    "이때 Dependent이기 위해서는 $ c_m $ 중에 최소 하나는 0값이 아니어야 합니다. <br>\n",
    "만약 모든 $ c_m $ 값이 0이라면 independence입니다.\n",
    "\n",
    "\n",
    "### Reduced Row Echelon Form\n",
    "\n",
    "\n",
    "예를 들어서 다음과 같은 vectors가 있습니다.<br>\n",
    "[예제에서 사용된 문제 풀이](https://www.youtube.com/watch?v=yLi8RxqfowA)\n",
    "\n",
    "$$ \\textit{v}_1 = \\begin{bmatrix}1 \\\\ -2 \\\\0 \\end{bmatrix}   ,    \\textit{v}_2 = \\begin{bmatrix}4 \\\\ 0 \\\\8 \\end{bmatrix}      ,  \\textit{v}_3 = \\begin{bmatrix}3 \\\\ -1 \\\\5 \\end{bmatrix} $$\n",
    "\n",
    "Matrix 형태로 다음과 같이 쓸수 있습니다.\n",
    "\n",
    "$$ \\textit{v}_1 = \\begin{bmatrix}1 & 4 & 3 \\\\ -2 & 0 & -1 \\\\0 & 8 & 5 \\end{bmatrix} \\begin{bmatrix}x \\\\ y \\\\ z \\end{bmatrix} = \\begin{bmatrix}0 \\\\ 0 \\\\ 0 \\end{bmatrix}$$ \n",
    "\n",
    "\n",
    "Matrix를 reduced row echelon form으로 변환합니다."
   ]
  },
  {
   "cell_type": "code",
   "execution_count": 4,
   "metadata": {
    "collapsed": false
   },
   "outputs": [],
   "source": [
    "import sympy\n",
    "import numpy as np"
   ]
  },
  {
   "cell_type": "code",
   "execution_count": 18,
   "metadata": {
    "collapsed": false
   },
   "outputs": [
    {
     "data": {
      "text/plain": [
       "(Matrix([\n",
       " [1, 0, 1/2],\n",
       " [0, 1, 5/8],\n",
       " [0, 0,   0]]), [0, 1])"
      ]
     },
     "execution_count": 18,
     "metadata": {},
     "output_type": "execute_result"
    }
   ],
   "source": [
    "A = np.array([[ 1, 4,  3], \n",
    "              [-2, 0, -1], \n",
    "              [ 0, 8,  5]])\n",
    "sympy.Matrix(A).rref()\n"
   ]
  },
  {
   "cell_type": "markdown",
   "metadata": {},
   "source": [
    "즉 다음과 같은 답이 나오게 됩니다.\n",
    "\n",
    "$$ z = k $$\n",
    "\n",
    "$$  y  = -\\frac{5}{8}k $$\n",
    "\n",
    "$$ x = -\\frac{1}{2}k $$\n",
    "\n",
    "$$ xv_1 + yv_2 + zv_3 = 0 $$"
   ]
  }
 ],
 "metadata": {
  "kernelspec": {
   "display_name": "Python 2",
   "language": "python",
   "name": "python2"
  },
  "language_info": {
   "codemirror_mode": {
    "name": "ipython",
    "version": 2
   },
   "file_extension": ".py",
   "mimetype": "text/x-python",
   "name": "python",
   "nbconvert_exporter": "python",
   "pygments_lexer": "ipython2",
   "version": "2.7.12"
  }
 },
 "nbformat": 4,
 "nbformat_minor": 1
}
