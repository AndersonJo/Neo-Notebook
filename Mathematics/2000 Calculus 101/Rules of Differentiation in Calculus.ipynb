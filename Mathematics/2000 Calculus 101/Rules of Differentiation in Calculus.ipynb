{
 "cells": [
  {
   "cell_type": "code",
   "execution_count": 15,
   "metadata": {
    "collapsed": true
   },
   "outputs": [],
   "source": [
    "from sympy import *\n",
    "from scipy.misc import derivative\n",
    "init_printing(use_unicode=True)"
   ]
  },
  {
   "cell_type": "markdown",
   "metadata": {},
   "source": [
    "# Constant function\n",
    "\n",
    "$ f(x) = c $ 에서, c가 constant이라면.. $ f^{\\prime}(x) = 0 $ 이 됩니다.\n",
    "\n",
    "아래 Sympy에서는 $ \\frac{df}{dx}  = \\frac{d}{dx} c $ 를 구합니다. x가 variable로 들어가고 c가 constant이므로 0값이 나옵니다."
   ]
  },
  {
   "cell_type": "code",
   "execution_count": 36,
   "metadata": {
    "collapsed": false
   },
   "outputs": [
    {
     "name": "stdout",
     "output_type": "stream",
     "text": [
      "0\n"
     ]
    }
   ],
   "source": [
    "x, c = symbols('x c')\n",
    "print diff(c, x)"
   ]
  },
  {
   "cell_type": "markdown",
   "metadata": {},
   "source": [
    "# Power rule\n",
    "\n",
    "the derivative of $ f(x) = x^r $은 다음과 같습니다. \n",
    "\n",
    "$$ f^{\\prime}(x) = r \\cdot x^{r-1} $$"
   ]
  },
  {
   "cell_type": "code",
   "execution_count": 51,
   "metadata": {
    "collapsed": false
   },
   "outputs": [
    {
     "name": "stdout",
     "output_type": "stream",
     "text": [
      "3*x**2\n"
     ]
    }
   ],
   "source": [
    "x = symbols('x')\n",
    "print diff(x**3)"
   ]
  },
  {
   "cell_type": "markdown",
   "metadata": {},
   "source": [
    "# Sum Rule\n",
    "\n",
    "The derivative of $ f(x) = g(x) + h(x) $ 는 \n",
    "\n",
    "$$  f^{\\prime}(x) = g^{\\prime}(x) + h^{\\prime}(x) $$\n",
    "\n",
    "**Exmaples**\n",
    "\n",
    "$ f(x) = x^2 + 4 $\n",
    "\n",
    "$ f^{\\prime}(x) = 2x + 0 = 2x $\n"
   ]
  },
  {
   "cell_type": "code",
   "execution_count": 54,
   "metadata": {
    "collapsed": false
   },
   "outputs": [
    {
     "data": {
      "image/png": "[encoded data removed]",
      "text/latex": [
       "$$2 x$$"
      ],
      "text/plain": [
       "2⋅x"
      ]
     },
     "execution_count": 54,
     "metadata": {},
     "output_type": "execute_result"
    }
   ],
   "source": [
    "x = symbols('x')\n",
    "diff(x**2 +  4, x)"
   ]
  },
  {
   "cell_type": "markdown",
   "metadata": {},
   "source": [
    "# Product of two functions\n",
    "\n",
    "The derivative of $ f(x) = g(x)h(x) $ 는 \n",
    "\n",
    "$$ f^{\\prime}(x) = g(x) h^{\\prime}(x) + h(x)g^{\\prime}(x) $$\n",
    "\n",
    "\n",
    "**Examples**\n",
    "\n",
    "The derivative of $ f(x) = (x^2 - 2x)(x-2) $ 는\n",
    "\n",
    "$ f^{\\prime}(x) = (x^2 - 2x)(1) + (x -2)(2x - 2) = x^2 - 2x + 2x^2 - 6x + 4 = 3x^2 - 8x + 4  $"
   ]
  },
  {
   "cell_type": "code",
   "execution_count": 57,
   "metadata": {
    "collapsed": false
   },
   "outputs": [
    {
     "data": {
      "image/png": "[encoded data removed]",
      "text/latex": [
       "$$x^{2} - 2 x + \\left(x - 2\\right) \\left(2 x - 2\\right)$$"
      ],
      "text/plain": [
       " 2                          \n",
       "x  - 2⋅x + (x - 2)⋅(2⋅x - 2)"
      ]
     },
     "execution_count": 57,
     "metadata": {},
     "output_type": "execute_result"
    }
   ],
   "source": [
    "x = symbols('x')\n",
    "diff( (x**2 - 2*x)*(x - 2), x)"
   ]
  }
 ],
 "metadata": {
  "kernelspec": {
   "display_name": "Python 2",
   "language": "python",
   "name": "python2"
  },
  "language_info": {
   "codemirror_mode": {
    "name": "ipython",
    "version": 2
   },
   "file_extension": ".py",
   "mimetype": "text/x-python",
   "name": "python",
   "nbconvert_exporter": "python",
   "pygments_lexer": "ipython2",
   "version": "2.7.12"
  }
 },
 "nbformat": 4,
 "nbformat_minor": 1
}
