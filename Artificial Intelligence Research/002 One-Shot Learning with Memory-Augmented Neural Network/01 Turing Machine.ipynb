{
 "cells": [
  {
   "cell_type": "markdown",
   "metadata": {},
   "source": [
    "# Turing Machine\n",
    "\n",
    "* https://en.wikipedia.org/wiki/Turing_machine\n",
    "* https://www.cl.cam.ac.uk/projects/raspberrypi/tutorials/turing-machine/one.html"
   ]
  },
  {
   "cell_type": "markdown",
   "metadata": {},
   "source": [
    "### Formal Definition\n",
    "\n",
    "$$ M = (Q, R, b, \\Sigma, \\delta, q_0, F)  $$\n",
    "\n",
    "* $ Q $: is a finite, non-empty set of states\n",
    "* $ R $: is a finite non-empty set of tape alphabet symbols\n",
    "* $ b \\in R $: is the blank symbol (the only symbol allowed to occur on the tape infinitely often at any step during the computation)\n",
    "* $ \\Sigma \\subseteq R $: is the set of input symbols\n",
    "* $ \\delta $: the transition function <br> $ (Q/F) * R \\rightarrow Q * R * \\{L, N, R\\} $ <br> L은 왼쪽이동, N은 멈춤, R은 오른쪽이동을 가르킵니다. \n",
    "* $ q_0 $: 초기 state\n",
    "* $ F $: the set of final states\n",
    "\n",
    "아래는 예제입니다. \n",
    "\n",
    "* $ Q = \\{ A, B, C, HALT \\}$: \n",
    "* $ R = \\{ 0, 1 \\} $\n",
    "* $ b = 0  $ (blank)\n",
    "* $ \\Sigma = \\{1\\} $\n",
    "* $ q_0 = A $ (the initial state)\n",
    "* $ F = \\{HALT\\} $\n",
    "* $ \\delta =  $ 아래의 테이블 참조\n",
    "\n",
    "| State   | Tape Symbol (read) | Write Instruction | Move Instaruction | Next State | \n",
    "|:--------|:-------------------|:------------------|:------------------|:-----------|\n",
    "| State 0 | Blank              | Blank             | left              | State 1    |\n",
    "| State 0 | 0                  | Write 1           | right             | State 0    |\n",
    "| State 0 | 1                  | Write             | right             | State 0    |\n",
    "| State 1 | Blank              | Blank             | halt              | Finish     |\n",
    "| State 1 | 0                  | Write 1           | left              | State 1    |\n",
    "| State 1 | 1                  | Wrtie 0           | left              | State 1    |"
   ]
  },
  {
   "cell_type": "markdown",
   "metadata": {},
   "source": [
    "# Turing Machine with Python\n",
    "\n",
    "11001110001이라는 값을 Inversion (00110001110으로 변환)시킨후 다시 원래의 값으로 돌아오는 Turing Machine"
   ]
  },
  {
   "cell_type": "code",
   "execution_count": 42,
   "metadata": {
    "collapsed": false
   },
   "outputs": [
    {
     "name": "stdout",
     "output_type": "stream",
     "text": [
      "-----------11001110001\n",
      "----------01001110001-\n",
      "---------00001110001--\n",
      "--------00101110001---\n",
      "-------00111110001----\n",
      "------00110110001-----\n",
      "-----00110010001------\n",
      "----00110000001-------\n",
      "---00110001001--------\n",
      "--00110001101---------\n",
      "-00110001111----------\n",
      "00110001110-----------\n",
      "-00110001110----------\n",
      "--00110001111---------\n",
      "---00110001101--------\n",
      "----00110001001-------\n",
      "-----00110000001------\n",
      "------00110010001-----\n",
      "-------00110110001----\n",
      "--------00111110001---\n",
      "---------00101110001--\n",
      "----------00001110001-\n",
      "-----------01001110001\n",
      "------------11001110001\n",
      "------------11001110001\n"
     ]
    }
   ],
   "source": [
    "def turning_machine(tape, init_state, t):\n",
    "    \"\"\"\n",
    "    @param tape: a strip of tape which contains data like 0 or 1\n",
    "    @param q: initial state\n",
    "    @param gamma: transition function or table\n",
    "    \"\"\"\n",
    "    N = len(tape)\n",
    "    current_state = init_state\n",
    "    idx = 0 \n",
    "    print('-'*(N-idx) + ''.join([str(m) for m in tape]) + '-' * idx)\n",
    "    while current_state != 'finish':\n",
    "        \n",
    "        # Read\n",
    "        if idx < 0 or idx >= N:\n",
    "            mark = None\n",
    "        else:\n",
    "            mark = tape[idx]\n",
    "        \n",
    "        # Transition\n",
    "        write, action, next_state = t[(current_state, mark)]\n",
    "        \n",
    "        # Write\n",
    "        if idx < N and write is not None:\n",
    "            tape[idx] = write\n",
    "        \n",
    "        if action == 'left':\n",
    "            idx -= 1\n",
    "        elif action == 'right':\n",
    "            idx += 1\n",
    "            \n",
    "        # Visualization\n",
    "        print('-'*(N-idx) + ''.join([str(m) for m in tape]) + '-' * idx)\n",
    "        \n",
    "        current_state = next_state\n",
    "\n",
    "tape = [1, 1, 0, 0, 1, 1, 1, 0, 0, 0, 1]\n",
    "t = {\n",
    "    ('state_0', None): (None, 'left', 'state_1'),\n",
    "    ('state_0', 0): (1, 'right', 'state_0'),\n",
    "    ('state_0', 1): (0, 'right', 'state_0'),\n",
    "    ('state_1', None): (None, 'halt', 'finish'),\n",
    "    ('state_1', 0): (1, 'left', 'state_1'),\n",
    "    ('state_1', 1): (0, 'left', 'state_1'),\n",
    "}\n",
    "\n",
    "turning_machine(tape, init_state='state_0', t=t)"
   ]
  }
 ],
 "metadata": {
  "kernelspec": {
   "display_name": "Python 3",
   "language": "python",
   "name": "python3"
  },
  "language_info": {
   "codemirror_mode": {
    "name": "ipython",
    "version": 3
   },
   "file_extension": ".py",
   "mimetype": "text/x-python",
   "name": "python",
   "nbconvert_exporter": "python",
   "pygments_lexer": "ipython3",
   "version": "3.6.0"
  }
 },
 "nbformat": 4,
 "nbformat_minor": 2
}
