{
 "cells": [
  {
   "cell_type": "markdown",
   "metadata": {
    "deletable": true,
    "editable": true
   },
   "source": [
    "# Neural Turing Machine\n",
    "\n",
    "* https://arxiv.org/pdf/1410.5401.pdf"
   ]
  },
  {
   "cell_type": "markdown",
   "metadata": {
    "collapsed": true,
    "deletable": true,
    "editable": true
   },
   "source": [
    "Neural Turing Machine (NTM)은 2개의 components로 구성되어 있습니다. \n",
    "\n",
    "1. Neural Network Controller (그림에서 controller부분이고, NN으로 구성되어 있음)\n",
    "2. Memory Bank\n",
    "\n",
    "\n",
    "<img src=\"./images/neural-turing-machines.png\">\n",
    "\n",
    "Controller부분이 Neural Network로 구성되어 있으며, 보통의 NN과 마찬가지로 Input을 받으면 Output을 내놓습니다. <br>\n",
    "일반적인 NN과 다른점은 Selective Read 그리고 Write를 사용해서 Memory Matrix와 interact합니다. <br>\n",
    "\n",
    "궁극적으로 가장 중요한점은 모든 components들은 differentiable하다는 점 입니다. 즉. Gradient Descent로 학습이 가능합니다. <br>\n",
    "Defferentiation 할수 있기 위해서, \"Blurry\" read 그리고 write operations를 통해 기존의 Turing Machine처럼 정확하게 하나하나 element를 다루는게 아니라, NN을 통해서 사람이 사고하듯이 메모리에 접근하도록 만들었습니다. "
   ]
  },
  {
   "cell_type": "markdown",
   "metadata": {
    "collapsed": true,
    "deletable": true,
    "editable": true
   },
   "source": [
    "### Reading \n",
    "\n",
    "$ M_t $는 N * M memory metrix의 특정 시간 t의 메모리 정보입니다. <br>\n",
    "N은 memory locations의 갯수를 가르키며, M은 각각 location의 vector size를 가르킵니다. <br>\n",
    "$ w_t $ 는 특정시간 t의 N locations에 대한 a vector of weightings (가중치)입니다. <br>\n",
    "모든 weightings(가중치)는 normalized되어 있기 때문에, N elements $ w^{(i)}_t = 1 $ 는 다음과 같은 조건을 갖습니다.\n",
    "\n",
    "$$ \\sum_i w_t(i) = 1 $$\n",
    "\n",
    "$$ 0 \\leq w_t(i) \\leq 1, \\forall i $$"
   ]
  }
 ],
 "metadata": {
  "kernelspec": {
   "display_name": "Python 3",
   "language": "python",
   "name": "python3"
  },
  "language_info": {
   "codemirror_mode": {
    "name": "ipython",
    "version": 3
   },
   "file_extension": ".py",
   "mimetype": "text/x-python",
   "name": "python",
   "nbconvert_exporter": "python",
   "pygments_lexer": "ipython3",
   "version": "3.6.0"
  }
 },
 "nbformat": 4,
 "nbformat_minor": 2
}
