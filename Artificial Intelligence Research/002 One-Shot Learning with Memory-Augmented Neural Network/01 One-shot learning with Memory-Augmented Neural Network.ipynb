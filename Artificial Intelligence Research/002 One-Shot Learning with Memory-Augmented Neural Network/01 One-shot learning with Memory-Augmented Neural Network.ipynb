{
 "cells": [
  {
   "cell_type": "markdown",
   "metadata": {},
   "source": [
    "# One-shot learning with Memory-Augmented Neural Network\n",
    "\n",
    "* [Google DeepMind - One-shot learning with Memory-Augmented Neural Network](https://arxiv.org/pdf/1605.06065v1.pdf)"
   ]
  }
 ],
 "metadata": {
  "kernelspec": {
   "display_name": "Python 3",
   "language": "python",
   "name": "python3"
  },
  "language_info": {
   "codemirror_mode": {
    "name": "ipython",
    "version": 3
   },
   "file_extension": ".py",
   "mimetype": "text/x-python",
   "name": "python",
   "nbconvert_exporter": "python",
   "pygments_lexer": "ipython3",
   "version": "3.6.0"
  }
 },
 "nbformat": 4,
 "nbformat_minor": 2
}
