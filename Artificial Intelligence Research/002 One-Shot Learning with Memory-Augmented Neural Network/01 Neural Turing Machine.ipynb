{
 "cells": [
  {
   "cell_type": "markdown",
   "metadata": {
    "deletable": true,
    "editable": true
   },
   "source": [
    "# Neural Turing Machine\n",
    "\n",
    "* https://arxiv.org/pdf/1410.5401.pdf"
   ]
  },
  {
   "cell_type": "markdown",
   "metadata": {
    "collapsed": true,
    "deletable": true,
    "editable": true
   },
   "source": [
    "Neural Turing Machine (NTM)은 2개의 components로 구성되어 있습니다. \n",
    "\n",
    "1. Neural Network Controller (그림에서 controller부분이고, NN으로 구성되어 있음)\n",
    "2. Memory Bank\n",
    "\n",
    "\n",
    "<img src=\"./images/neural-turing-machines.png\">\n",
    "\n",
    "Controller부분이 Neural Network로 구성되어 있으며, 보통의 NN과 마찬가지로 Input을 받으면 Output을 내놓습니다. <br>\n",
    "일반적인 NN과 다른점은 Selective Read 그리고 Write를 사용해서 Memory Matrix와 interact합니다. <br>\n",
    "\n",
    "궁극적으로 가장 중요한점은 모든 components들은 differentiable하다는 점 입니다. 즉. Gradient Descent로 학습이 가능합니다. <br>\n"
   ]
  },
  {
   "cell_type": "code",
   "execution_count": null,
   "metadata": {
    "collapsed": true
   },
   "outputs": [],
   "source": []
  }
 ],
 "metadata": {
  "kernelspec": {
   "display_name": "Python 3",
   "language": "python",
   "name": "python3"
  },
  "language_info": {
   "codemirror_mode": {
    "name": "ipython",
    "version": 3
   },
   "file_extension": ".py",
   "mimetype": "text/x-python",
   "name": "python",
   "nbconvert_exporter": "python",
   "pygments_lexer": "ipython3",
   "version": "3.6.0"
  }
 },
 "nbformat": 4,
 "nbformat_minor": 2
}
