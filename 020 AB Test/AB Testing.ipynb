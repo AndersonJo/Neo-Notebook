{
 "cells": [
  {
   "cell_type": "code",
   "execution_count": 34,
   "metadata": {},
   "outputs": [
    {
     "name": "stdout",
     "output_type": "stream",
     "text": [
      "Populating the interactive namespace from numpy and matplotlib\n"
     ]
    },
    {
     "name": "stderr",
     "output_type": "stream",
     "text": [
      "/usr/local/lib/python3.6/site-packages/IPython/core/magics/pylab.py:160: UserWarning: pylab import has clobbered these variables: ['norm']\n",
      "`%matplotlib` prevents importing * from pylab and numpy\n",
      "  \"\\n`%matplotlib` prevents importing * from pylab and numpy\"\n"
     ]
    }
   ],
   "source": [
    "%pylab inline\n",
    "import numpy as np\n",
    "import seaborn as sns\n",
    "\n",
    "from scipy.stats import norm\n"
   ]
  },
  {
   "cell_type": "markdown",
   "metadata": {},
   "source": [
    "# A/B Test Example\n",
    "\n",
    "| Variation | Conversion | View | Conversion Rate | SE | Confidence Interval |  Change | Z-Score | Confidence | \n",
    "|:----------|:-----------|:-----|:----------------|:---|:--------------------|:--------|:--------|:-----------|\n",
    "| Variation A (Control Group) | 330 | 1093 | 30.19% | 0.0138 | $ \\pm 2.31 $ % | - | - | - |\n",
    "| Variation B (Test Group)    | 491 | 1123 | 43.72% | 0.0148 | $ \\pm 2.25 $ % | 44.82% | 6.4946 |\n"
   ]
  },
  {
   "cell_type": "markdown",
   "metadata": {},
   "source": [
    "## Conversion Rate \n",
    "\n",
    "각각의 variation마다 conversion rate를 다음과 같이 계산 할  수 있습니다.\n",
    "\n",
    "$$ CR = \\frac{\\text{event count}}{\\text{view count}} $$\n",
    "\n",
    "위의 A/B Text를 예로 든다면..\n",
    "\n",
    "$$ \\begin{align} \n",
    "CR_A &= \\frac{330}{1093} = 0.3019213174748399  \\\\\n",
    "CR_B &= \\frac{491}{1123} = 0.43722172751558325 \n",
    "\\end{align} $$\n",
    "\n"
   ]
  },
  {
   "cell_type": "markdown",
   "metadata": {},
   "source": [
    "## Standard Error for Bernoulli Distribution\n",
    "\n",
    "Conversion rate에 대한 confidence interval을 계산하기 위해서는 standard error를 계산해야 합니다. \n",
    "\n",
    "$$ SE = \\sqrt{\\frac{CR(1-CR)}{n}} $$\n",
    "\n",
    "* $ p $ : conversion rate\n",
    "* $ n $ : sample size (view)\n",
    "\n",
    "위의 예를 든다면 다음과 같습니다. \n",
    "\n",
    "$$ \\begin{align} \n",
    "SE_{A} &= \\sqrt{\\frac{0.3019 * (1-0.3019)}{1093}} = 0.0138 \\\\\n",
    "SE_{B} &= \\sqrt{\\frac{0.4372 * (1-0.4372)}{1123}} = 0.0148 \\\\\n",
    "\\end{align} $$\n",
    "\n",
    "\n",
    "\n",
    "### 자세한 설명\n",
    "\n",
    "베르누이 분포는  $ P(X=1) = p $ 그리고 $ P(X=0) = (1-p) $ 와 같이 오직 두가지 가능한 결과가 일어난다고 했을때 사용되는 분포입니다.<br>\n",
    "\n",
    "$$ X \\sim \\mathcal{Bernoulli} (CR) $$\n",
    "\n",
    "여기서 p는 variation의 conversion rate를 가르킵니다.<br>\n",
    "이때 mean 그리고 variance는 다음과 같습니다. \n",
    "\n",
    "$$ \\begin{align} \n",
    "E[X] &= CR \\\\\n",
    "Var(X) &= CR(1-CR)\n",
    "\\end{align} $$\n",
    "\n",
    "Central limit theorem에 따르면 다수의 표본 평균을 계산함으로서 모평균을 추정할 수 있습니다.<br>\n",
    "즉 표본평균으로 나온 $ p $ 의 분포는 정규분포를 따르며, \n",
    "standard deviation $ \\sigma $는 평균의 표준오차 (the standard error of the mean, SEM) 와 동일합니다.<br>\n",
    "The standard error of the mean 의 공식은 아래와 같습니다.\n",
    "\n",
    "$$ \\sigma_{\\bar{x}} = \\frac{s}{\\sqrt{n}} = \\frac{\\sqrt{CR(1-CR)}}{\\sqrt{n}} = \\sqrt{\\frac{CR(1-CR)}{n}} $$\n",
    "\n",
    "추가적으로 p는 정규분포를 따름으로 다음과 같이 정의할수 있습니다.\n",
    "\n",
    "$$ \\hat{CR} \\sim \\mathcal{Normal} \\left(u=CR, \\sigma= \\sqrt{\\frac{CR(1-CR)}{n}} \\right) $$\n",
    "\n",
    "**아주쉽게 말하면, 표본 평균의 standard error는 표본이 따르는 정규분포의 1 standard deviation이라고 말할 수 있습니다.**"
   ]
  },
  {
   "cell_type": "markdown",
   "metadata": {},
   "source": [
    "## Confidence Interval\n",
    "\n",
    "confidence interval (신뢰구간)의 공식은 다음과 같습니다.\n",
    "\n",
    "$$ CR \\pm Z \\sqrt{ \\frac{CR(1-CR)}{n} } $$\n",
    "\n",
    "* CR: Conversion rate\n",
    "* Z: Z-Score of the standard deviation\n",
    "* n: sample size\n",
    "\n",
    "| Confidence Level | Python          | Z-Score | \n",
    "|:-----------------|:----------------|:--------|\n",
    "| 80% 신뢰수준       | norm.ppf(0.8)   | 0.8416  |\n",
    "| 90% 신뢰수준       | norm.ppf(0.9)   | 1.2815  |\n",
    "| 95% 신뢰수준       | norm.ppf(0.95)  | 1.6448  |\n",
    "| 99% 신뢰수준       | norm.ppf(0.99)  | 2.3263  |\n",
    "| 99.5% 신뢰수준     | norm.ppf(0.995) | 2.5758  | \n",
    "| 99.9% 신뢰수준     | norm.ppf(0.999) | 3.0902  |\n",
    "\n",
    "\n",
    "$$ CL_A = 1.6448 * np.sqrt{ \\frac{CR_A ( 1- CR_A)}{} } $$"
   ]
  },
  {
   "cell_type": "code",
   "execution_count": 53,
   "metadata": {},
   "outputs": [
    {
     "name": "stdout",
     "output_type": "stream",
     "text": [
      "0.95 1.6448536269514722\n",
      "0.95 1.959963984540054\n"
     ]
    },
    {
     "data": {
      "text/plain": [
       "1.6448536269514722"
      ]
     },
     "execution_count": 53,
     "metadata": {},
     "output_type": "execute_result"
    },
    {
     "data": {
      "image/png": "[encoded data removed]",
      "text/plain": [
       "<Figure size 432x288 with 1 Axes>"
      ]
     },
     "metadata": {
      "needs_background": "light"
     },
     "output_type": "display_data"
    }
   ],
   "source": [
    "print('0.95', norm.ppf(0.95))\n",
    "print('0.95', norm.ppf(0.975))\n",
    "norm()\n",
    "\n",
    "x = np.random.normal(size=10000)\n",
    "sns.distplot(x)\n",
    "n = norm(np.mean(x), np.std(x))\n",
    "norm.ppf(0.95)"
   ]
  }
 ],
 "metadata": {
  "kernelspec": {
   "display_name": "Python 3",
   "language": "python",
   "name": "python3"
  },
  "language_info": {
   "codemirror_mode": {
    "name": "ipython",
    "version": 3
   },
   "file_extension": ".py",
   "mimetype": "text/x-python",
   "name": "python",
   "nbconvert_exporter": "python",
   "pygments_lexer": "ipython3",
   "version": "3.6.7"
  }
 },
 "nbformat": 4,
 "nbformat_minor": 2
}
